{
  "nbformat": 4,
  "nbformat_minor": 0,
  "metadata": {
    "kernelspec": {
      "display_name": "Python 3",
      "language": "python",
      "name": "python3"
    },
    "language_info": {
      "codemirror_mode": {
        "name": "ipython",
        "version": 3
      },
      "file_extension": ".py",
      "mimetype": "text/x-python",
      "name": "python",
      "nbconvert_exporter": "python",
      "pygments_lexer": "ipython3",
      "version": "3.7.9"
    },
    "colab": {
      "name": "ex06_tm.ipynb",
      "provenance": [],
      "collapsed_sections": [],
      "machine_shape": "hm",
      "include_colab_link": true
    },
    "accelerator": "GPU",
    "widgets": {
      "application/vnd.jupyter.widget-state+json": {
        "87c4c0890e0b49368687c25ea33e360c": {
          "model_module": "@jupyter-widgets/controls",
          "model_name": "HBoxModel",
          "model_module_version": "1.5.0",
          "state": {
            "_view_name": "HBoxView",
            "_dom_classes": [],
            "_model_name": "HBoxModel",
            "_view_module": "@jupyter-widgets/controls",
            "_model_module_version": "1.5.0",
            "_view_count": null,
            "_view_module_version": "1.5.0",
            "box_style": "",
            "layout": "IPY_MODEL_dc233c4cb86a455e96503ba711fda269",
            "_model_module": "@jupyter-widgets/controls",
            "children": [
              "IPY_MODEL_975cf009bb644b2b9ba40c61fc407f60",
              "IPY_MODEL_8b959230ad4844ba85131f85ba12afcf",
              "IPY_MODEL_01a115242d4a47d4be518a71cc34f3a7"
            ]
          }
        },
        "dc233c4cb86a455e96503ba711fda269": {
          "model_module": "@jupyter-widgets/base",
          "model_name": "LayoutModel",
          "model_module_version": "1.2.0",
          "state": {
            "_view_name": "LayoutView",
            "grid_template_rows": null,
            "right": null,
            "justify_content": null,
            "_view_module": "@jupyter-widgets/base",
            "overflow": null,
            "_model_module_version": "1.2.0",
            "_view_count": null,
            "flex_flow": null,
            "width": null,
            "min_width": null,
            "border": null,
            "align_items": null,
            "bottom": null,
            "_model_module": "@jupyter-widgets/base",
            "top": null,
            "grid_column": null,
            "overflow_y": null,
            "overflow_x": null,
            "grid_auto_flow": null,
            "grid_area": null,
            "grid_template_columns": null,
            "flex": null,
            "_model_name": "LayoutModel",
            "justify_items": null,
            "grid_row": null,
            "max_height": null,
            "align_content": null,
            "visibility": null,
            "align_self": null,
            "height": null,
            "min_height": null,
            "padding": null,
            "grid_auto_rows": null,
            "grid_gap": null,
            "max_width": null,
            "order": null,
            "_view_module_version": "1.2.0",
            "grid_template_areas": null,
            "object_position": null,
            "object_fit": null,
            "grid_auto_columns": null,
            "margin": null,
            "display": null,
            "left": null
          }
        },
        "975cf009bb644b2b9ba40c61fc407f60": {
          "model_module": "@jupyter-widgets/controls",
          "model_name": "HTMLModel",
          "model_module_version": "1.5.0",
          "state": {
            "_view_name": "HTMLView",
            "style": "IPY_MODEL_b63672d2fa8242c795e86367cbe2dd41",
            "_dom_classes": [],
            "description": "",
            "_model_name": "HTMLModel",
            "placeholder": "​",
            "_view_module": "@jupyter-widgets/controls",
            "_model_module_version": "1.5.0",
            "value": "Batches: 100%",
            "_view_count": null,
            "_view_module_version": "1.5.0",
            "description_tooltip": null,
            "_model_module": "@jupyter-widgets/controls",
            "layout": "IPY_MODEL_1f996e7148ae44aba98f125ed0a73a7f"
          }
        },
        "8b959230ad4844ba85131f85ba12afcf": {
          "model_module": "@jupyter-widgets/controls",
          "model_name": "FloatProgressModel",
          "model_module_version": "1.5.0",
          "state": {
            "_view_name": "ProgressView",
            "style": "IPY_MODEL_6daae0fba40d4785948c88f52b7acc7f",
            "_dom_classes": [],
            "description": "",
            "_model_name": "FloatProgressModel",
            "bar_style": "success",
            "max": 197,
            "_view_module": "@jupyter-widgets/controls",
            "_model_module_version": "1.5.0",
            "value": 197,
            "_view_count": null,
            "_view_module_version": "1.5.0",
            "orientation": "horizontal",
            "min": 0,
            "description_tooltip": null,
            "_model_module": "@jupyter-widgets/controls",
            "layout": "IPY_MODEL_03a1b0d01e254821ae0d1a4afb856007"
          }
        },
        "01a115242d4a47d4be518a71cc34f3a7": {
          "model_module": "@jupyter-widgets/controls",
          "model_name": "HTMLModel",
          "model_module_version": "1.5.0",
          "state": {
            "_view_name": "HTMLView",
            "style": "IPY_MODEL_09d60c1f7bbc47a89bbd184c875e7cef",
            "_dom_classes": [],
            "description": "",
            "_model_name": "HTMLModel",
            "placeholder": "​",
            "_view_module": "@jupyter-widgets/controls",
            "_model_module_version": "1.5.0",
            "value": " 197/197 [00:45&lt;00:00,  9.58it/s]",
            "_view_count": null,
            "_view_module_version": "1.5.0",
            "description_tooltip": null,
            "_model_module": "@jupyter-widgets/controls",
            "layout": "IPY_MODEL_0a459c8e94d34ddd98be45e494053bc8"
          }
        },
        "b63672d2fa8242c795e86367cbe2dd41": {
          "model_module": "@jupyter-widgets/controls",
          "model_name": "DescriptionStyleModel",
          "model_module_version": "1.5.0",
          "state": {
            "_view_name": "StyleView",
            "_model_name": "DescriptionStyleModel",
            "description_width": "",
            "_view_module": "@jupyter-widgets/base",
            "_model_module_version": "1.5.0",
            "_view_count": null,
            "_view_module_version": "1.2.0",
            "_model_module": "@jupyter-widgets/controls"
          }
        },
        "1f996e7148ae44aba98f125ed0a73a7f": {
          "model_module": "@jupyter-widgets/base",
          "model_name": "LayoutModel",
          "model_module_version": "1.2.0",
          "state": {
            "_view_name": "LayoutView",
            "grid_template_rows": null,
            "right": null,
            "justify_content": null,
            "_view_module": "@jupyter-widgets/base",
            "overflow": null,
            "_model_module_version": "1.2.0",
            "_view_count": null,
            "flex_flow": null,
            "width": null,
            "min_width": null,
            "border": null,
            "align_items": null,
            "bottom": null,
            "_model_module": "@jupyter-widgets/base",
            "top": null,
            "grid_column": null,
            "overflow_y": null,
            "overflow_x": null,
            "grid_auto_flow": null,
            "grid_area": null,
            "grid_template_columns": null,
            "flex": null,
            "_model_name": "LayoutModel",
            "justify_items": null,
            "grid_row": null,
            "max_height": null,
            "align_content": null,
            "visibility": null,
            "align_self": null,
            "height": null,
            "min_height": null,
            "padding": null,
            "grid_auto_rows": null,
            "grid_gap": null,
            "max_width": null,
            "order": null,
            "_view_module_version": "1.2.0",
            "grid_template_areas": null,
            "object_position": null,
            "object_fit": null,
            "grid_auto_columns": null,
            "margin": null,
            "display": null,
            "left": null
          }
        },
        "6daae0fba40d4785948c88f52b7acc7f": {
          "model_module": "@jupyter-widgets/controls",
          "model_name": "ProgressStyleModel",
          "model_module_version": "1.5.0",
          "state": {
            "_view_name": "StyleView",
            "_model_name": "ProgressStyleModel",
            "description_width": "",
            "_view_module": "@jupyter-widgets/base",
            "_model_module_version": "1.5.0",
            "_view_count": null,
            "_view_module_version": "1.2.0",
            "bar_color": null,
            "_model_module": "@jupyter-widgets/controls"
          }
        },
        "03a1b0d01e254821ae0d1a4afb856007": {
          "model_module": "@jupyter-widgets/base",
          "model_name": "LayoutModel",
          "model_module_version": "1.2.0",
          "state": {
            "_view_name": "LayoutView",
            "grid_template_rows": null,
            "right": null,
            "justify_content": null,
            "_view_module": "@jupyter-widgets/base",
            "overflow": null,
            "_model_module_version": "1.2.0",
            "_view_count": null,
            "flex_flow": null,
            "width": null,
            "min_width": null,
            "border": null,
            "align_items": null,
            "bottom": null,
            "_model_module": "@jupyter-widgets/base",
            "top": null,
            "grid_column": null,
            "overflow_y": null,
            "overflow_x": null,
            "grid_auto_flow": null,
            "grid_area": null,
            "grid_template_columns": null,
            "flex": null,
            "_model_name": "LayoutModel",
            "justify_items": null,
            "grid_row": null,
            "max_height": null,
            "align_content": null,
            "visibility": null,
            "align_self": null,
            "height": null,
            "min_height": null,
            "padding": null,
            "grid_auto_rows": null,
            "grid_gap": null,
            "max_width": null,
            "order": null,
            "_view_module_version": "1.2.0",
            "grid_template_areas": null,
            "object_position": null,
            "object_fit": null,
            "grid_auto_columns": null,
            "margin": null,
            "display": null,
            "left": null
          }
        },
        "09d60c1f7bbc47a89bbd184c875e7cef": {
          "model_module": "@jupyter-widgets/controls",
          "model_name": "DescriptionStyleModel",
          "model_module_version": "1.5.0",
          "state": {
            "_view_name": "StyleView",
            "_model_name": "DescriptionStyleModel",
            "description_width": "",
            "_view_module": "@jupyter-widgets/base",
            "_model_module_version": "1.5.0",
            "_view_count": null,
            "_view_module_version": "1.2.0",
            "_model_module": "@jupyter-widgets/controls"
          }
        },
        "0a459c8e94d34ddd98be45e494053bc8": {
          "model_module": "@jupyter-widgets/base",
          "model_name": "LayoutModel",
          "model_module_version": "1.2.0",
          "state": {
            "_view_name": "LayoutView",
            "grid_template_rows": null,
            "right": null,
            "justify_content": null,
            "_view_module": "@jupyter-widgets/base",
            "overflow": null,
            "_model_module_version": "1.2.0",
            "_view_count": null,
            "flex_flow": null,
            "width": null,
            "min_width": null,
            "border": null,
            "align_items": null,
            "bottom": null,
            "_model_module": "@jupyter-widgets/base",
            "top": null,
            "grid_column": null,
            "overflow_y": null,
            "overflow_x": null,
            "grid_auto_flow": null,
            "grid_area": null,
            "grid_template_columns": null,
            "flex": null,
            "_model_name": "LayoutModel",
            "justify_items": null,
            "grid_row": null,
            "max_height": null,
            "align_content": null,
            "visibility": null,
            "align_self": null,
            "height": null,
            "min_height": null,
            "padding": null,
            "grid_auto_rows": null,
            "grid_gap": null,
            "max_width": null,
            "order": null,
            "_view_module_version": "1.2.0",
            "grid_template_areas": null,
            "object_position": null,
            "object_fit": null,
            "grid_auto_columns": null,
            "margin": null,
            "display": null,
            "left": null
          }
        },
        "8bd680bd36a647f1a6b8b38b360cd90f": {
          "model_module": "@jupyter-widgets/controls",
          "model_name": "HBoxModel",
          "model_module_version": "1.5.0",
          "state": {
            "_view_name": "HBoxView",
            "_dom_classes": [],
            "_model_name": "HBoxModel",
            "_view_module": "@jupyter-widgets/controls",
            "_model_module_version": "1.5.0",
            "_view_count": null,
            "_view_module_version": "1.5.0",
            "box_style": "",
            "layout": "IPY_MODEL_b35c86c4c62b42dcaa973342b46e2308",
            "_model_module": "@jupyter-widgets/controls",
            "children": [
              "IPY_MODEL_6803ac3250cb487b9cb41214765504f5",
              "IPY_MODEL_025ec161f54d49f0acb41b8fd35baa54",
              "IPY_MODEL_eacfff922de445bcbec083da5f58d6dc"
            ]
          }
        },
        "b35c86c4c62b42dcaa973342b46e2308": {
          "model_module": "@jupyter-widgets/base",
          "model_name": "LayoutModel",
          "model_module_version": "1.2.0",
          "state": {
            "_view_name": "LayoutView",
            "grid_template_rows": null,
            "right": null,
            "justify_content": null,
            "_view_module": "@jupyter-widgets/base",
            "overflow": null,
            "_model_module_version": "1.2.0",
            "_view_count": null,
            "flex_flow": null,
            "width": null,
            "min_width": null,
            "border": null,
            "align_items": null,
            "bottom": null,
            "_model_module": "@jupyter-widgets/base",
            "top": null,
            "grid_column": null,
            "overflow_y": null,
            "overflow_x": null,
            "grid_auto_flow": null,
            "grid_area": null,
            "grid_template_columns": null,
            "flex": null,
            "_model_name": "LayoutModel",
            "justify_items": null,
            "grid_row": null,
            "max_height": null,
            "align_content": null,
            "visibility": null,
            "align_self": null,
            "height": null,
            "min_height": null,
            "padding": null,
            "grid_auto_rows": null,
            "grid_gap": null,
            "max_width": null,
            "order": null,
            "_view_module_version": "1.2.0",
            "grid_template_areas": null,
            "object_position": null,
            "object_fit": null,
            "grid_auto_columns": null,
            "margin": null,
            "display": null,
            "left": null
          }
        },
        "6803ac3250cb487b9cb41214765504f5": {
          "model_module": "@jupyter-widgets/controls",
          "model_name": "HTMLModel",
          "model_module_version": "1.5.0",
          "state": {
            "_view_name": "HTMLView",
            "style": "IPY_MODEL_2cc2238f934c420a828142b1d784a341",
            "_dom_classes": [],
            "description": "",
            "_model_name": "HTMLModel",
            "placeholder": "​",
            "_view_module": "@jupyter-widgets/controls",
            "_model_module_version": "1.5.0",
            "value": "Batches: 100%",
            "_view_count": null,
            "_view_module_version": "1.5.0",
            "description_tooltip": null,
            "_model_module": "@jupyter-widgets/controls",
            "layout": "IPY_MODEL_0c53b42e55f2418eb75b27c459c498f3"
          }
        },
        "025ec161f54d49f0acb41b8fd35baa54": {
          "model_module": "@jupyter-widgets/controls",
          "model_name": "FloatProgressModel",
          "model_module_version": "1.5.0",
          "state": {
            "_view_name": "ProgressView",
            "style": "IPY_MODEL_28de010d898249c38bf8d8f3c70aa377",
            "_dom_classes": [],
            "description": "",
            "_model_name": "FloatProgressModel",
            "bar_style": "success",
            "max": 1613,
            "_view_module": "@jupyter-widgets/controls",
            "_model_module_version": "1.5.0",
            "value": 1613,
            "_view_count": null,
            "_view_module_version": "1.5.0",
            "orientation": "horizontal",
            "min": 0,
            "description_tooltip": null,
            "_model_module": "@jupyter-widgets/controls",
            "layout": "IPY_MODEL_abdd82b5a8364eb684e2826f8ae54303"
          }
        },
        "eacfff922de445bcbec083da5f58d6dc": {
          "model_module": "@jupyter-widgets/controls",
          "model_name": "HTMLModel",
          "model_module_version": "1.5.0",
          "state": {
            "_view_name": "HTMLView",
            "style": "IPY_MODEL_daab05306fda44fd907a16190bed20c9",
            "_dom_classes": [],
            "description": "",
            "_model_name": "HTMLModel",
            "placeholder": "​",
            "_view_module": "@jupyter-widgets/controls",
            "_model_module_version": "1.5.0",
            "value": " 1613/1613 [06:17&lt;00:00,  8.34it/s]",
            "_view_count": null,
            "_view_module_version": "1.5.0",
            "description_tooltip": null,
            "_model_module": "@jupyter-widgets/controls",
            "layout": "IPY_MODEL_f41ce41f69dd472a9123c7edce704082"
          }
        },
        "2cc2238f934c420a828142b1d784a341": {
          "model_module": "@jupyter-widgets/controls",
          "model_name": "DescriptionStyleModel",
          "model_module_version": "1.5.0",
          "state": {
            "_view_name": "StyleView",
            "_model_name": "DescriptionStyleModel",
            "description_width": "",
            "_view_module": "@jupyter-widgets/base",
            "_model_module_version": "1.5.0",
            "_view_count": null,
            "_view_module_version": "1.2.0",
            "_model_module": "@jupyter-widgets/controls"
          }
        },
        "0c53b42e55f2418eb75b27c459c498f3": {
          "model_module": "@jupyter-widgets/base",
          "model_name": "LayoutModel",
          "model_module_version": "1.2.0",
          "state": {
            "_view_name": "LayoutView",
            "grid_template_rows": null,
            "right": null,
            "justify_content": null,
            "_view_module": "@jupyter-widgets/base",
            "overflow": null,
            "_model_module_version": "1.2.0",
            "_view_count": null,
            "flex_flow": null,
            "width": null,
            "min_width": null,
            "border": null,
            "align_items": null,
            "bottom": null,
            "_model_module": "@jupyter-widgets/base",
            "top": null,
            "grid_column": null,
            "overflow_y": null,
            "overflow_x": null,
            "grid_auto_flow": null,
            "grid_area": null,
            "grid_template_columns": null,
            "flex": null,
            "_model_name": "LayoutModel",
            "justify_items": null,
            "grid_row": null,
            "max_height": null,
            "align_content": null,
            "visibility": null,
            "align_self": null,
            "height": null,
            "min_height": null,
            "padding": null,
            "grid_auto_rows": null,
            "grid_gap": null,
            "max_width": null,
            "order": null,
            "_view_module_version": "1.2.0",
            "grid_template_areas": null,
            "object_position": null,
            "object_fit": null,
            "grid_auto_columns": null,
            "margin": null,
            "display": null,
            "left": null
          }
        },
        "28de010d898249c38bf8d8f3c70aa377": {
          "model_module": "@jupyter-widgets/controls",
          "model_name": "ProgressStyleModel",
          "model_module_version": "1.5.0",
          "state": {
            "_view_name": "StyleView",
            "_model_name": "ProgressStyleModel",
            "description_width": "",
            "_view_module": "@jupyter-widgets/base",
            "_model_module_version": "1.5.0",
            "_view_count": null,
            "_view_module_version": "1.2.0",
            "bar_color": null,
            "_model_module": "@jupyter-widgets/controls"
          }
        },
        "abdd82b5a8364eb684e2826f8ae54303": {
          "model_module": "@jupyter-widgets/base",
          "model_name": "LayoutModel",
          "model_module_version": "1.2.0",
          "state": {
            "_view_name": "LayoutView",
            "grid_template_rows": null,
            "right": null,
            "justify_content": null,
            "_view_module": "@jupyter-widgets/base",
            "overflow": null,
            "_model_module_version": "1.2.0",
            "_view_count": null,
            "flex_flow": null,
            "width": null,
            "min_width": null,
            "border": null,
            "align_items": null,
            "bottom": null,
            "_model_module": "@jupyter-widgets/base",
            "top": null,
            "grid_column": null,
            "overflow_y": null,
            "overflow_x": null,
            "grid_auto_flow": null,
            "grid_area": null,
            "grid_template_columns": null,
            "flex": null,
            "_model_name": "LayoutModel",
            "justify_items": null,
            "grid_row": null,
            "max_height": null,
            "align_content": null,
            "visibility": null,
            "align_self": null,
            "height": null,
            "min_height": null,
            "padding": null,
            "grid_auto_rows": null,
            "grid_gap": null,
            "max_width": null,
            "order": null,
            "_view_module_version": "1.2.0",
            "grid_template_areas": null,
            "object_position": null,
            "object_fit": null,
            "grid_auto_columns": null,
            "margin": null,
            "display": null,
            "left": null
          }
        },
        "daab05306fda44fd907a16190bed20c9": {
          "model_module": "@jupyter-widgets/controls",
          "model_name": "DescriptionStyleModel",
          "model_module_version": "1.5.0",
          "state": {
            "_view_name": "StyleView",
            "_model_name": "DescriptionStyleModel",
            "description_width": "",
            "_view_module": "@jupyter-widgets/base",
            "_model_module_version": "1.5.0",
            "_view_count": null,
            "_view_module_version": "1.2.0",
            "_model_module": "@jupyter-widgets/controls"
          }
        },
        "f41ce41f69dd472a9123c7edce704082": {
          "model_module": "@jupyter-widgets/base",
          "model_name": "LayoutModel",
          "model_module_version": "1.2.0",
          "state": {
            "_view_name": "LayoutView",
            "grid_template_rows": null,
            "right": null,
            "justify_content": null,
            "_view_module": "@jupyter-widgets/base",
            "overflow": null,
            "_model_module_version": "1.2.0",
            "_view_count": null,
            "flex_flow": null,
            "width": null,
            "min_width": null,
            "border": null,
            "align_items": null,
            "bottom": null,
            "_model_module": "@jupyter-widgets/base",
            "top": null,
            "grid_column": null,
            "overflow_y": null,
            "overflow_x": null,
            "grid_auto_flow": null,
            "grid_area": null,
            "grid_template_columns": null,
            "flex": null,
            "_model_name": "LayoutModel",
            "justify_items": null,
            "grid_row": null,
            "max_height": null,
            "align_content": null,
            "visibility": null,
            "align_self": null,
            "height": null,
            "min_height": null,
            "padding": null,
            "grid_auto_rows": null,
            "grid_gap": null,
            "max_width": null,
            "order": null,
            "_view_module_version": "1.2.0",
            "grid_template_areas": null,
            "object_position": null,
            "object_fit": null,
            "grid_auto_columns": null,
            "margin": null,
            "display": null,
            "left": null
          }
        },
        "daba32049e564920a7747d1d2d837915": {
          "model_module": "@jupyter-widgets/controls",
          "model_name": "HBoxModel",
          "model_module_version": "1.5.0",
          "state": {
            "_view_name": "HBoxView",
            "_dom_classes": [],
            "_model_name": "HBoxModel",
            "_view_module": "@jupyter-widgets/controls",
            "_model_module_version": "1.5.0",
            "_view_count": null,
            "_view_module_version": "1.5.0",
            "box_style": "",
            "layout": "IPY_MODEL_f3aa5561c1d84ce4bc58f28c96a4069b",
            "_model_module": "@jupyter-widgets/controls",
            "children": [
              "IPY_MODEL_120fc60744b84c34bcf5f7b406b35b1c",
              "IPY_MODEL_aef261cad4b047cda7ec090e9a6ec9bd",
              "IPY_MODEL_54e16c70253842c09ef71be5c7d52690"
            ]
          }
        },
        "f3aa5561c1d84ce4bc58f28c96a4069b": {
          "model_module": "@jupyter-widgets/base",
          "model_name": "LayoutModel",
          "model_module_version": "1.2.0",
          "state": {
            "_view_name": "LayoutView",
            "grid_template_rows": null,
            "right": null,
            "justify_content": null,
            "_view_module": "@jupyter-widgets/base",
            "overflow": null,
            "_model_module_version": "1.2.0",
            "_view_count": null,
            "flex_flow": null,
            "width": null,
            "min_width": null,
            "border": null,
            "align_items": null,
            "bottom": null,
            "_model_module": "@jupyter-widgets/base",
            "top": null,
            "grid_column": null,
            "overflow_y": null,
            "overflow_x": null,
            "grid_auto_flow": null,
            "grid_area": null,
            "grid_template_columns": null,
            "flex": null,
            "_model_name": "LayoutModel",
            "justify_items": null,
            "grid_row": null,
            "max_height": null,
            "align_content": null,
            "visibility": null,
            "align_self": null,
            "height": null,
            "min_height": null,
            "padding": null,
            "grid_auto_rows": null,
            "grid_gap": null,
            "max_width": null,
            "order": null,
            "_view_module_version": "1.2.0",
            "grid_template_areas": null,
            "object_position": null,
            "object_fit": null,
            "grid_auto_columns": null,
            "margin": null,
            "display": null,
            "left": null
          }
        },
        "120fc60744b84c34bcf5f7b406b35b1c": {
          "model_module": "@jupyter-widgets/controls",
          "model_name": "HTMLModel",
          "model_module_version": "1.5.0",
          "state": {
            "_view_name": "HTMLView",
            "style": "IPY_MODEL_021e16e453934622a13c66b65584bf17",
            "_dom_classes": [],
            "description": "",
            "_model_name": "HTMLModel",
            "placeholder": "​",
            "_view_module": "@jupyter-widgets/controls",
            "_model_module_version": "1.5.0",
            "value": "Batches: 100%",
            "_view_count": null,
            "_view_module_version": "1.5.0",
            "description_tooltip": null,
            "_model_module": "@jupyter-widgets/controls",
            "layout": "IPY_MODEL_f7855ee89a0f4422a9c197aabdaf3545"
          }
        },
        "aef261cad4b047cda7ec090e9a6ec9bd": {
          "model_module": "@jupyter-widgets/controls",
          "model_name": "FloatProgressModel",
          "model_module_version": "1.5.0",
          "state": {
            "_view_name": "ProgressView",
            "style": "IPY_MODEL_84c973b290854beb8765050203c88caa",
            "_dom_classes": [],
            "description": "",
            "_model_name": "FloatProgressModel",
            "bar_style": "success",
            "max": 3567,
            "_view_module": "@jupyter-widgets/controls",
            "_model_module_version": "1.5.0",
            "value": 3567,
            "_view_count": null,
            "_view_module_version": "1.5.0",
            "orientation": "horizontal",
            "min": 0,
            "description_tooltip": null,
            "_model_module": "@jupyter-widgets/controls",
            "layout": "IPY_MODEL_23072253719c411e960b31bd43a4076f"
          }
        },
        "54e16c70253842c09ef71be5c7d52690": {
          "model_module": "@jupyter-widgets/controls",
          "model_name": "HTMLModel",
          "model_module_version": "1.5.0",
          "state": {
            "_view_name": "HTMLView",
            "style": "IPY_MODEL_ce720f5d1d63466fbc98799bc153c154",
            "_dom_classes": [],
            "description": "",
            "_model_name": "HTMLModel",
            "placeholder": "​",
            "_view_module": "@jupyter-widgets/controls",
            "_model_module_version": "1.5.0",
            "value": " 3567/3567 [13:50&lt;00:00, 10.39it/s]",
            "_view_count": null,
            "_view_module_version": "1.5.0",
            "description_tooltip": null,
            "_model_module": "@jupyter-widgets/controls",
            "layout": "IPY_MODEL_24ae9a9d71d44169aada374f80849d2a"
          }
        },
        "021e16e453934622a13c66b65584bf17": {
          "model_module": "@jupyter-widgets/controls",
          "model_name": "DescriptionStyleModel",
          "model_module_version": "1.5.0",
          "state": {
            "_view_name": "StyleView",
            "_model_name": "DescriptionStyleModel",
            "description_width": "",
            "_view_module": "@jupyter-widgets/base",
            "_model_module_version": "1.5.0",
            "_view_count": null,
            "_view_module_version": "1.2.0",
            "_model_module": "@jupyter-widgets/controls"
          }
        },
        "f7855ee89a0f4422a9c197aabdaf3545": {
          "model_module": "@jupyter-widgets/base",
          "model_name": "LayoutModel",
          "model_module_version": "1.2.0",
          "state": {
            "_view_name": "LayoutView",
            "grid_template_rows": null,
            "right": null,
            "justify_content": null,
            "_view_module": "@jupyter-widgets/base",
            "overflow": null,
            "_model_module_version": "1.2.0",
            "_view_count": null,
            "flex_flow": null,
            "width": null,
            "min_width": null,
            "border": null,
            "align_items": null,
            "bottom": null,
            "_model_module": "@jupyter-widgets/base",
            "top": null,
            "grid_column": null,
            "overflow_y": null,
            "overflow_x": null,
            "grid_auto_flow": null,
            "grid_area": null,
            "grid_template_columns": null,
            "flex": null,
            "_model_name": "LayoutModel",
            "justify_items": null,
            "grid_row": null,
            "max_height": null,
            "align_content": null,
            "visibility": null,
            "align_self": null,
            "height": null,
            "min_height": null,
            "padding": null,
            "grid_auto_rows": null,
            "grid_gap": null,
            "max_width": null,
            "order": null,
            "_view_module_version": "1.2.0",
            "grid_template_areas": null,
            "object_position": null,
            "object_fit": null,
            "grid_auto_columns": null,
            "margin": null,
            "display": null,
            "left": null
          }
        },
        "84c973b290854beb8765050203c88caa": {
          "model_module": "@jupyter-widgets/controls",
          "model_name": "ProgressStyleModel",
          "model_module_version": "1.5.0",
          "state": {
            "_view_name": "StyleView",
            "_model_name": "ProgressStyleModel",
            "description_width": "",
            "_view_module": "@jupyter-widgets/base",
            "_model_module_version": "1.5.0",
            "_view_count": null,
            "_view_module_version": "1.2.0",
            "bar_color": null,
            "_model_module": "@jupyter-widgets/controls"
          }
        },
        "23072253719c411e960b31bd43a4076f": {
          "model_module": "@jupyter-widgets/base",
          "model_name": "LayoutModel",
          "model_module_version": "1.2.0",
          "state": {
            "_view_name": "LayoutView",
            "grid_template_rows": null,
            "right": null,
            "justify_content": null,
            "_view_module": "@jupyter-widgets/base",
            "overflow": null,
            "_model_module_version": "1.2.0",
            "_view_count": null,
            "flex_flow": null,
            "width": null,
            "min_width": null,
            "border": null,
            "align_items": null,
            "bottom": null,
            "_model_module": "@jupyter-widgets/base",
            "top": null,
            "grid_column": null,
            "overflow_y": null,
            "overflow_x": null,
            "grid_auto_flow": null,
            "grid_area": null,
            "grid_template_columns": null,
            "flex": null,
            "_model_name": "LayoutModel",
            "justify_items": null,
            "grid_row": null,
            "max_height": null,
            "align_content": null,
            "visibility": null,
            "align_self": null,
            "height": null,
            "min_height": null,
            "padding": null,
            "grid_auto_rows": null,
            "grid_gap": null,
            "max_width": null,
            "order": null,
            "_view_module_version": "1.2.0",
            "grid_template_areas": null,
            "object_position": null,
            "object_fit": null,
            "grid_auto_columns": null,
            "margin": null,
            "display": null,
            "left": null
          }
        },
        "ce720f5d1d63466fbc98799bc153c154": {
          "model_module": "@jupyter-widgets/controls",
          "model_name": "DescriptionStyleModel",
          "model_module_version": "1.5.0",
          "state": {
            "_view_name": "StyleView",
            "_model_name": "DescriptionStyleModel",
            "description_width": "",
            "_view_module": "@jupyter-widgets/base",
            "_model_module_version": "1.5.0",
            "_view_count": null,
            "_view_module_version": "1.2.0",
            "_model_module": "@jupyter-widgets/controls"
          }
        },
        "24ae9a9d71d44169aada374f80849d2a": {
          "model_module": "@jupyter-widgets/base",
          "model_name": "LayoutModel",
          "model_module_version": "1.2.0",
          "state": {
            "_view_name": "LayoutView",
            "grid_template_rows": null,
            "right": null,
            "justify_content": null,
            "_view_module": "@jupyter-widgets/base",
            "overflow": null,
            "_model_module_version": "1.2.0",
            "_view_count": null,
            "flex_flow": null,
            "width": null,
            "min_width": null,
            "border": null,
            "align_items": null,
            "bottom": null,
            "_model_module": "@jupyter-widgets/base",
            "top": null,
            "grid_column": null,
            "overflow_y": null,
            "overflow_x": null,
            "grid_auto_flow": null,
            "grid_area": null,
            "grid_template_columns": null,
            "flex": null,
            "_model_name": "LayoutModel",
            "justify_items": null,
            "grid_row": null,
            "max_height": null,
            "align_content": null,
            "visibility": null,
            "align_self": null,
            "height": null,
            "min_height": null,
            "padding": null,
            "grid_auto_rows": null,
            "grid_gap": null,
            "max_width": null,
            "order": null,
            "_view_module_version": "1.2.0",
            "grid_template_areas": null,
            "object_position": null,
            "object_fit": null,
            "grid_auto_columns": null,
            "margin": null,
            "display": null,
            "left": null
          }
        }
      }
    }
  },
  "cells": [
    {
      "cell_type": "markdown",
      "metadata": {
        "id": "view-in-github",
        "colab_type": "text"
      },
      "source": [
        "<a href=\"https://colab.research.google.com/github/jan-kreischer/UZH_ML4NLP/blob/main/Project-06/ex06_tm.ipynb\" target=\"_parent\"><img src=\"https://colab.research.google.com/assets/colab-badge.svg\" alt=\"Open In Colab\"/></a>"
      ]
    },
    {
      "cell_type": "markdown",
      "metadata": {
        "id": "86zA-HlTCBID"
      },
      "source": [
        "##Project 6 - Topic Modeling \n",
        "using Latent Dirichlet Allocation (LDA)  \n",
        "and Combined Topic Models (CTM).  \n",
        "## 1. Setup\n",
        "### 1.1 Dependencies\n",
        "Installing all dependencies needed to run the simulations"
      ]
    },
    {
      "cell_type": "code",
      "metadata": {
        "colab": {
          "base_uri": "https://localhost:8080/",
          "height": 1000
        },
        "id": "hENmFU8FmZbl",
        "outputId": "23887804-e6bc-460b-c40a-9890b200f89c"
      },
      "source": [
        "!pip install contextualized-topic-models==2.2.0"
      ],
      "execution_count": 1,
      "outputs": [
        {
          "output_type": "stream",
          "name": "stdout",
          "text": [
            "Collecting contextualized-topic-models==2.2.0\n",
            "  Downloading contextualized_topic_models-2.2.0-py2.py3-none-any.whl (33 kB)\n",
            "Requirement already satisfied: scipy>=1.4.1 in /usr/local/lib/python3.7/dist-packages (from contextualized-topic-models==2.2.0) (1.4.1)\n",
            "Collecting gensim>=3.8.3\n",
            "  Downloading gensim-4.1.2-cp37-cp37m-manylinux_2_12_x86_64.manylinux2010_x86_64.whl (24.1 MB)\n",
            "\u001b[K     |████████████████████████████████| 24.1 MB 92.4 MB/s \n",
            "\u001b[?25hCollecting wordcloud>=1.8.1\n",
            "  Downloading wordcloud-1.8.1-cp37-cp37m-manylinux1_x86_64.whl (366 kB)\n",
            "\u001b[K     |████████████████████████████████| 366 kB 54.8 MB/s \n",
            "\u001b[?25hCollecting sentence-transformers>=1.1.1\n",
            "  Downloading sentence-transformers-2.1.0.tar.gz (78 kB)\n",
            "\u001b[K     |████████████████████████████████| 78 kB 8.3 MB/s \n",
            "\u001b[?25hRequirement already satisfied: tqdm>=4.56.0 in /usr/local/lib/python3.7/dist-packages (from contextualized-topic-models==2.2.0) (4.62.3)\n",
            "Collecting ipywidgets==7.5.1\n",
            "  Downloading ipywidgets-7.5.1-py2.py3-none-any.whl (121 kB)\n",
            "\u001b[K     |████████████████████████████████| 121 kB 66.9 MB/s \n",
            "\u001b[?25hCollecting ipython==7.16.1\n",
            "  Downloading ipython-7.16.1-py3-none-any.whl (785 kB)\n",
            "\u001b[K     |████████████████████████████████| 785 kB 52.4 MB/s \n",
            "\u001b[?25hRequirement already satisfied: matplotlib>=3.1.3 in /usr/local/lib/python3.7/dist-packages (from contextualized-topic-models==2.2.0) (3.2.2)\n",
            "Requirement already satisfied: torchvision>=0.7.0 in /usr/local/lib/python3.7/dist-packages (from contextualized-topic-models==2.2.0) (0.11.1+cu111)\n",
            "Requirement already satisfied: torch>=1.6.0 in /usr/local/lib/python3.7/dist-packages (from contextualized-topic-models==2.2.0) (1.10.0+cu111)\n",
            "Requirement already satisfied: numpy>=1.19.1 in /usr/local/lib/python3.7/dist-packages (from contextualized-topic-models==2.2.0) (1.19.5)\n",
            "Requirement already satisfied: decorator in /usr/local/lib/python3.7/dist-packages (from ipython==7.16.1->contextualized-topic-models==2.2.0) (4.4.2)\n",
            "Requirement already satisfied: pygments in /usr/local/lib/python3.7/dist-packages (from ipython==7.16.1->contextualized-topic-models==2.2.0) (2.6.1)\n",
            "Requirement already satisfied: pexpect in /usr/local/lib/python3.7/dist-packages (from ipython==7.16.1->contextualized-topic-models==2.2.0) (4.8.0)\n",
            "Collecting prompt-toolkit!=3.0.0,!=3.0.1,<3.1.0,>=2.0.0\n",
            "  Downloading prompt_toolkit-3.0.24-py3-none-any.whl (374 kB)\n",
            "\u001b[K     |████████████████████████████████| 374 kB 79.0 MB/s \n",
            "\u001b[?25hRequirement already satisfied: pickleshare in /usr/local/lib/python3.7/dist-packages (from ipython==7.16.1->contextualized-topic-models==2.2.0) (0.7.5)\n",
            "Requirement already satisfied: jedi>=0.10 in /usr/local/lib/python3.7/dist-packages (from ipython==7.16.1->contextualized-topic-models==2.2.0) (0.18.1)\n",
            "Requirement already satisfied: backcall in /usr/local/lib/python3.7/dist-packages (from ipython==7.16.1->contextualized-topic-models==2.2.0) (0.2.0)\n",
            "Requirement already satisfied: setuptools>=18.5 in /usr/local/lib/python3.7/dist-packages (from ipython==7.16.1->contextualized-topic-models==2.2.0) (57.4.0)\n",
            "Requirement already satisfied: traitlets>=4.2 in /usr/local/lib/python3.7/dist-packages (from ipython==7.16.1->contextualized-topic-models==2.2.0) (5.1.1)\n",
            "Requirement already satisfied: ipykernel>=4.5.1 in /usr/local/lib/python3.7/dist-packages (from ipywidgets==7.5.1->contextualized-topic-models==2.2.0) (4.10.1)\n",
            "Requirement already satisfied: widgetsnbextension~=3.5.0 in /usr/local/lib/python3.7/dist-packages (from ipywidgets==7.5.1->contextualized-topic-models==2.2.0) (3.5.2)\n",
            "Requirement already satisfied: nbformat>=4.2.0 in /usr/local/lib/python3.7/dist-packages (from ipywidgets==7.5.1->contextualized-topic-models==2.2.0) (5.1.3)\n",
            "Requirement already satisfied: smart-open>=1.8.1 in /usr/local/lib/python3.7/dist-packages (from gensim>=3.8.3->contextualized-topic-models==2.2.0) (5.2.1)\n",
            "Requirement already satisfied: tornado>=4.0 in /usr/local/lib/python3.7/dist-packages (from ipykernel>=4.5.1->ipywidgets==7.5.1->contextualized-topic-models==2.2.0) (5.1.1)\n",
            "Requirement already satisfied: jupyter-client in /usr/local/lib/python3.7/dist-packages (from ipykernel>=4.5.1->ipywidgets==7.5.1->contextualized-topic-models==2.2.0) (5.3.5)\n",
            "Requirement already satisfied: parso<0.9.0,>=0.8.0 in /usr/local/lib/python3.7/dist-packages (from jedi>=0.10->ipython==7.16.1->contextualized-topic-models==2.2.0) (0.8.3)\n",
            "Requirement already satisfied: python-dateutil>=2.1 in /usr/local/lib/python3.7/dist-packages (from matplotlib>=3.1.3->contextualized-topic-models==2.2.0) (2.8.2)\n",
            "Requirement already satisfied: cycler>=0.10 in /usr/local/lib/python3.7/dist-packages (from matplotlib>=3.1.3->contextualized-topic-models==2.2.0) (0.11.0)\n",
            "Requirement already satisfied: pyparsing!=2.0.4,!=2.1.2,!=2.1.6,>=2.0.1 in /usr/local/lib/python3.7/dist-packages (from matplotlib>=3.1.3->contextualized-topic-models==2.2.0) (3.0.6)\n",
            "Requirement already satisfied: kiwisolver>=1.0.1 in /usr/local/lib/python3.7/dist-packages (from matplotlib>=3.1.3->contextualized-topic-models==2.2.0) (1.3.2)\n",
            "Requirement already satisfied: jsonschema!=2.5.0,>=2.4 in /usr/local/lib/python3.7/dist-packages (from nbformat>=4.2.0->ipywidgets==7.5.1->contextualized-topic-models==2.2.0) (2.6.0)\n",
            "Requirement already satisfied: ipython-genutils in /usr/local/lib/python3.7/dist-packages (from nbformat>=4.2.0->ipywidgets==7.5.1->contextualized-topic-models==2.2.0) (0.2.0)\n",
            "Requirement already satisfied: jupyter-core in /usr/local/lib/python3.7/dist-packages (from nbformat>=4.2.0->ipywidgets==7.5.1->contextualized-topic-models==2.2.0) (4.9.1)\n",
            "Requirement already satisfied: wcwidth in /usr/local/lib/python3.7/dist-packages (from prompt-toolkit!=3.0.0,!=3.0.1,<3.1.0,>=2.0.0->ipython==7.16.1->contextualized-topic-models==2.2.0) (0.2.5)\n",
            "Requirement already satisfied: six>=1.5 in /usr/local/lib/python3.7/dist-packages (from python-dateutil>=2.1->matplotlib>=3.1.3->contextualized-topic-models==2.2.0) (1.15.0)\n",
            "Collecting transformers<5.0.0,>=4.6.0\n",
            "  Downloading transformers-4.13.0-py3-none-any.whl (3.3 MB)\n",
            "\u001b[K     |████████████████████████████████| 3.3 MB 83.8 MB/s \n",
            "\u001b[?25hCollecting tokenizers>=0.10.3\n",
            "  Downloading tokenizers-0.10.3-cp37-cp37m-manylinux_2_5_x86_64.manylinux1_x86_64.manylinux_2_12_x86_64.manylinux2010_x86_64.whl (3.3 MB)\n",
            "\u001b[K     |████████████████████████████████| 3.3 MB 70.2 MB/s \n",
            "\u001b[?25hRequirement already satisfied: scikit-learn in /usr/local/lib/python3.7/dist-packages (from sentence-transformers>=1.1.1->contextualized-topic-models==2.2.0) (1.0.1)\n",
            "Requirement already satisfied: nltk in /usr/local/lib/python3.7/dist-packages (from sentence-transformers>=1.1.1->contextualized-topic-models==2.2.0) (3.2.5)\n",
            "Collecting sentencepiece\n",
            "  Downloading sentencepiece-0.1.96-cp37-cp37m-manylinux_2_17_x86_64.manylinux2014_x86_64.whl (1.2 MB)\n",
            "\u001b[K     |████████████████████████████████| 1.2 MB 63.9 MB/s \n",
            "\u001b[?25hCollecting huggingface-hub\n",
            "  Downloading huggingface_hub-0.2.1-py3-none-any.whl (61 kB)\n",
            "\u001b[K     |████████████████████████████████| 61 kB 599 kB/s \n",
            "\u001b[?25hRequirement already satisfied: typing-extensions in /usr/local/lib/python3.7/dist-packages (from torch>=1.6.0->contextualized-topic-models==2.2.0) (3.10.0.2)\n",
            "Requirement already satisfied: pillow!=8.3.0,>=5.3.0 in /usr/local/lib/python3.7/dist-packages (from torchvision>=0.7.0->contextualized-topic-models==2.2.0) (7.1.2)\n",
            "Requirement already satisfied: regex!=2019.12.17 in /usr/local/lib/python3.7/dist-packages (from transformers<5.0.0,>=4.6.0->sentence-transformers>=1.1.1->contextualized-topic-models==2.2.0) (2019.12.20)\n",
            "Collecting pyyaml>=5.1\n",
            "  Downloading PyYAML-6.0-cp37-cp37m-manylinux_2_5_x86_64.manylinux1_x86_64.manylinux_2_12_x86_64.manylinux2010_x86_64.whl (596 kB)\n",
            "\u001b[K     |████████████████████████████████| 596 kB 66.2 MB/s \n",
            "\u001b[?25hRequirement already satisfied: importlib-metadata in /usr/local/lib/python3.7/dist-packages (from transformers<5.0.0,>=4.6.0->sentence-transformers>=1.1.1->contextualized-topic-models==2.2.0) (4.8.2)\n",
            "Requirement already satisfied: packaging>=20.0 in /usr/local/lib/python3.7/dist-packages (from transformers<5.0.0,>=4.6.0->sentence-transformers>=1.1.1->contextualized-topic-models==2.2.0) (21.3)\n",
            "Requirement already satisfied: requests in /usr/local/lib/python3.7/dist-packages (from transformers<5.0.0,>=4.6.0->sentence-transformers>=1.1.1->contextualized-topic-models==2.2.0) (2.23.0)\n",
            "Requirement already satisfied: filelock in /usr/local/lib/python3.7/dist-packages (from transformers<5.0.0,>=4.6.0->sentence-transformers>=1.1.1->contextualized-topic-models==2.2.0) (3.4.0)\n",
            "Collecting sacremoses\n",
            "  Downloading sacremoses-0.0.46-py3-none-any.whl (895 kB)\n",
            "\u001b[K     |████████████████████████████████| 895 kB 72.1 MB/s \n",
            "\u001b[?25hRequirement already satisfied: notebook>=4.4.1 in /usr/local/lib/python3.7/dist-packages (from widgetsnbextension~=3.5.0->ipywidgets==7.5.1->contextualized-topic-models==2.2.0) (5.3.1)\n",
            "Requirement already satisfied: terminado>=0.8.1 in /usr/local/lib/python3.7/dist-packages (from notebook>=4.4.1->widgetsnbextension~=3.5.0->ipywidgets==7.5.1->contextualized-topic-models==2.2.0) (0.12.1)\n",
            "Requirement already satisfied: nbconvert in /usr/local/lib/python3.7/dist-packages (from notebook>=4.4.1->widgetsnbextension~=3.5.0->ipywidgets==7.5.1->contextualized-topic-models==2.2.0) (5.6.1)\n",
            "Requirement already satisfied: jinja2 in /usr/local/lib/python3.7/dist-packages (from notebook>=4.4.1->widgetsnbextension~=3.5.0->ipywidgets==7.5.1->contextualized-topic-models==2.2.0) (2.11.3)\n",
            "Requirement already satisfied: Send2Trash in /usr/local/lib/python3.7/dist-packages (from notebook>=4.4.1->widgetsnbextension~=3.5.0->ipywidgets==7.5.1->contextualized-topic-models==2.2.0) (1.8.0)\n",
            "Requirement already satisfied: pyzmq>=13 in /usr/local/lib/python3.7/dist-packages (from jupyter-client->ipykernel>=4.5.1->ipywidgets==7.5.1->contextualized-topic-models==2.2.0) (22.3.0)\n",
            "Requirement already satisfied: ptyprocess in /usr/local/lib/python3.7/dist-packages (from terminado>=0.8.1->notebook>=4.4.1->widgetsnbextension~=3.5.0->ipywidgets==7.5.1->contextualized-topic-models==2.2.0) (0.7.0)\n",
            "Requirement already satisfied: zipp>=0.5 in /usr/local/lib/python3.7/dist-packages (from importlib-metadata->transformers<5.0.0,>=4.6.0->sentence-transformers>=1.1.1->contextualized-topic-models==2.2.0) (3.6.0)\n",
            "Requirement already satisfied: MarkupSafe>=0.23 in /usr/local/lib/python3.7/dist-packages (from jinja2->notebook>=4.4.1->widgetsnbextension~=3.5.0->ipywidgets==7.5.1->contextualized-topic-models==2.2.0) (2.0.1)\n",
            "Requirement already satisfied: testpath in /usr/local/lib/python3.7/dist-packages (from nbconvert->notebook>=4.4.1->widgetsnbextension~=3.5.0->ipywidgets==7.5.1->contextualized-topic-models==2.2.0) (0.5.0)\n",
            "Requirement already satisfied: mistune<2,>=0.8.1 in /usr/local/lib/python3.7/dist-packages (from nbconvert->notebook>=4.4.1->widgetsnbextension~=3.5.0->ipywidgets==7.5.1->contextualized-topic-models==2.2.0) (0.8.4)\n",
            "Requirement already satisfied: pandocfilters>=1.4.1 in /usr/local/lib/python3.7/dist-packages (from nbconvert->notebook>=4.4.1->widgetsnbextension~=3.5.0->ipywidgets==7.5.1->contextualized-topic-models==2.2.0) (1.5.0)\n",
            "Requirement already satisfied: bleach in /usr/local/lib/python3.7/dist-packages (from nbconvert->notebook>=4.4.1->widgetsnbextension~=3.5.0->ipywidgets==7.5.1->contextualized-topic-models==2.2.0) (4.1.0)\n",
            "Requirement already satisfied: defusedxml in /usr/local/lib/python3.7/dist-packages (from nbconvert->notebook>=4.4.1->widgetsnbextension~=3.5.0->ipywidgets==7.5.1->contextualized-topic-models==2.2.0) (0.7.1)\n",
            "Requirement already satisfied: entrypoints>=0.2.2 in /usr/local/lib/python3.7/dist-packages (from nbconvert->notebook>=4.4.1->widgetsnbextension~=3.5.0->ipywidgets==7.5.1->contextualized-topic-models==2.2.0) (0.3)\n",
            "Requirement already satisfied: webencodings in /usr/local/lib/python3.7/dist-packages (from bleach->nbconvert->notebook>=4.4.1->widgetsnbextension~=3.5.0->ipywidgets==7.5.1->contextualized-topic-models==2.2.0) (0.5.1)\n",
            "Requirement already satisfied: idna<3,>=2.5 in /usr/local/lib/python3.7/dist-packages (from requests->transformers<5.0.0,>=4.6.0->sentence-transformers>=1.1.1->contextualized-topic-models==2.2.0) (2.10)\n",
            "Requirement already satisfied: urllib3!=1.25.0,!=1.25.1,<1.26,>=1.21.1 in /usr/local/lib/python3.7/dist-packages (from requests->transformers<5.0.0,>=4.6.0->sentence-transformers>=1.1.1->contextualized-topic-models==2.2.0) (1.24.3)\n",
            "Requirement already satisfied: chardet<4,>=3.0.2 in /usr/local/lib/python3.7/dist-packages (from requests->transformers<5.0.0,>=4.6.0->sentence-transformers>=1.1.1->contextualized-topic-models==2.2.0) (3.0.4)\n",
            "Requirement already satisfied: certifi>=2017.4.17 in /usr/local/lib/python3.7/dist-packages (from requests->transformers<5.0.0,>=4.6.0->sentence-transformers>=1.1.1->contextualized-topic-models==2.2.0) (2021.10.8)\n",
            "Requirement already satisfied: joblib in /usr/local/lib/python3.7/dist-packages (from sacremoses->transformers<5.0.0,>=4.6.0->sentence-transformers>=1.1.1->contextualized-topic-models==2.2.0) (1.1.0)\n",
            "Requirement already satisfied: click in /usr/local/lib/python3.7/dist-packages (from sacremoses->transformers<5.0.0,>=4.6.0->sentence-transformers>=1.1.1->contextualized-topic-models==2.2.0) (7.1.2)\n",
            "Requirement already satisfied: threadpoolctl>=2.0.0 in /usr/local/lib/python3.7/dist-packages (from scikit-learn->sentence-transformers>=1.1.1->contextualized-topic-models==2.2.0) (3.0.0)\n",
            "Building wheels for collected packages: sentence-transformers\n",
            "  Building wheel for sentence-transformers (setup.py) ... \u001b[?25l\u001b[?25hdone\n",
            "  Created wheel for sentence-transformers: filename=sentence_transformers-2.1.0-py3-none-any.whl size=121000 sha256=f6f5dae323d8fe3be3e9899e05de65deda4cf665d892aa8f01c67a95585e3997\n",
            "  Stored in directory: /root/.cache/pip/wheels/90/f0/bb/ed1add84da70092ea526466eadc2bfb197c4bcb8d4fa5f7bad\n",
            "Successfully built sentence-transformers\n",
            "Installing collected packages: prompt-toolkit, ipython, pyyaml, tokenizers, sacremoses, huggingface-hub, transformers, sentencepiece, wordcloud, sentence-transformers, ipywidgets, gensim, contextualized-topic-models\n",
            "  Attempting uninstall: prompt-toolkit\n",
            "    Found existing installation: prompt-toolkit 1.0.18\n",
            "    Uninstalling prompt-toolkit-1.0.18:\n",
            "      Successfully uninstalled prompt-toolkit-1.0.18\n",
            "  Attempting uninstall: ipython\n",
            "    Found existing installation: ipython 5.5.0\n",
            "    Uninstalling ipython-5.5.0:\n",
            "      Successfully uninstalled ipython-5.5.0\n",
            "  Attempting uninstall: pyyaml\n",
            "    Found existing installation: PyYAML 3.13\n",
            "    Uninstalling PyYAML-3.13:\n",
            "      Successfully uninstalled PyYAML-3.13\n",
            "  Attempting uninstall: wordcloud\n",
            "    Found existing installation: wordcloud 1.5.0\n",
            "    Uninstalling wordcloud-1.5.0:\n",
            "      Successfully uninstalled wordcloud-1.5.0\n",
            "  Attempting uninstall: ipywidgets\n",
            "    Found existing installation: ipywidgets 7.6.5\n",
            "    Uninstalling ipywidgets-7.6.5:\n",
            "      Successfully uninstalled ipywidgets-7.6.5\n",
            "  Attempting uninstall: gensim\n",
            "    Found existing installation: gensim 3.6.0\n",
            "    Uninstalling gensim-3.6.0:\n",
            "      Successfully uninstalled gensim-3.6.0\n",
            "\u001b[31mERROR: pip's dependency resolver does not currently take into account all the packages that are installed. This behaviour is the source of the following dependency conflicts.\n",
            "jupyter-console 5.2.0 requires prompt-toolkit<2.0.0,>=1.0.0, but you have prompt-toolkit 3.0.24 which is incompatible.\n",
            "google-colab 1.0.0 requires ipython~=5.5.0, but you have ipython 7.16.1 which is incompatible.\u001b[0m\n",
            "Successfully installed contextualized-topic-models-2.2.0 gensim-4.1.2 huggingface-hub-0.2.1 ipython-7.16.1 ipywidgets-7.5.1 prompt-toolkit-3.0.24 pyyaml-6.0 sacremoses-0.0.46 sentence-transformers-2.1.0 sentencepiece-0.1.96 tokenizers-0.10.3 transformers-4.13.0 wordcloud-1.8.1\n"
          ]
        },
        {
          "output_type": "display_data",
          "data": {
            "application/vnd.colab-display-data+json": {
              "pip_warning": {
                "packages": [
                  "IPython",
                  "ipywidgets",
                  "prompt_toolkit"
                ]
              }
            }
          },
          "metadata": {}
        }
      ]
    },
    {
      "cell_type": "markdown",
      "metadata": {
        "id": "4vLndra3Nbqa"
      },
      "source": [
        "### 1.2 Imports"
      ]
    },
    {
      "cell_type": "code",
      "metadata": {
        "id": "Ci16zWWnlC1n"
      },
      "source": [
        "import re\n",
        "import random\n",
        "import os\n",
        "import urllib\n",
        "import urllib.request\n",
        "import gzip\n",
        "import io\n",
        "import csv\n",
        "import random\n",
        "from collections import defaultdict\n",
        "from tqdm import tqdm\n",
        "from sklearn.decomposition import LatentDirichletAllocation\n",
        "from sklearn.feature_extraction.text import TfidfVectorizer, CountVectorizer"
      ],
      "execution_count": 2,
      "outputs": []
    },
    {
      "cell_type": "markdown",
      "metadata": {
        "id": "qUHMJB4TR7rf"
      },
      "source": [
        "### 1.3 Google Drive\n",
        "We connect Google Drive in order to access stored data."
      ]
    },
    {
      "cell_type": "code",
      "metadata": {
        "id": "dCpOpcUCsZQ2",
        "colab": {
          "base_uri": "https://localhost:8080/"
        },
        "outputId": "97e7de89-73aa-4298-aad6-91fe29c2c9d7"
      },
      "source": [
        "# Enable access to files stored in Google Drive\n",
        "from google.colab import drive\n",
        "# Leave this like it is\n",
        "mountpoint = '/content/drive/' \n",
        "drive.mount(mountpoint)"
      ],
      "execution_count": 3,
      "outputs": [
        {
          "output_type": "stream",
          "name": "stdout",
          "text": [
            "Mounted at /content/drive/\n"
          ]
        }
      ]
    },
    {
      "cell_type": "code",
      "metadata": {
        "id": "DP0EqBjAwemg",
        "colab": {
          "base_uri": "https://localhost:8080/"
        },
        "outputId": "364056aa-9f6a-494b-f8be-729673f59051"
      },
      "source": [
        "# Adapt this path to the folder where your data is stored in google drive\n",
        "base_path = 'My Drive/UZH_ML4NLP/Projects/Project-06/data' \n",
        "data_path = os.path.join(mountpoint, base_path)\n",
        "# Cd into the directory with the git repo\n",
        "% cd $data_path"
      ],
      "execution_count": 4,
      "outputs": [
        {
          "output_type": "stream",
          "name": "stdout",
          "text": [
            "[Errno 2] No such file or directory: '/content/drive/My Drive/UZH_ML4NLP/Projects/Project-06/data'\n",
            "/content\n"
          ]
        }
      ]
    },
    {
      "cell_type": "markdown",
      "metadata": {
        "id": "2AiKDCyWSVE3"
      },
      "source": [
        "### 1.4 Constants\n"
      ]
    },
    {
      "cell_type": "code",
      "metadata": {
        "id": "m841xWt8SaiK"
      },
      "source": [
        "NUM_LDA_TOPICS = 8 # The number of different topics to identify\n",
        "NUM_FEATURES = 10000\n",
        "MAX_DF=0.5\n",
        "MIN_DF=0.01"
      ],
      "execution_count": 5,
      "outputs": []
    },
    {
      "cell_type": "code",
      "metadata": {
        "id": "Y_mkS_zeWbYW"
      },
      "source": [
        "# Path to the data files\n",
        "path_before_1990 = 'titles_before_1990.txt'\n",
        "path_from_1990_to_2009 = 'titles_from_1990_to_2009.txt'\n",
        "path_from_2010 = 'titles_from_2010.txt'"
      ],
      "execution_count": 6,
      "outputs": []
    },
    {
      "cell_type": "markdown",
      "metadata": {
        "id": "jdW1URDxY6V4"
      },
      "source": [
        "### 1.5 Data Acquisition"
      ]
    },
    {
      "cell_type": "code",
      "metadata": {
        "id": "TUVy4jyGlVH3",
        "colab": {
          "base_uri": "https://localhost:8080/"
        },
        "outputId": "aa9d2a04-a6d8-4e91-c70b-72fd53acf709"
      },
      "source": [
        "# Execute the following cell only once to download the data and write it as a file to your google drive. Afterwards, skip this cell or comment it out.\n",
        "\n",
        "from google.colab import drive\n",
        "drive.mount('/content/drive', force_remount=True)\n",
        "\n",
        "# to download the data manually or get more information, go to: https://dblp.org/faq/How+can+I+download+the+whole+dblp+dataset.html\n",
        "url = 'https://dblp.uni-trier.de/xml/dblp.xml.gz'\n",
        "num_titles = 500000  # the (max)number of titles to load \n",
        "\n",
        "\n",
        "def load_gzip_file(url):\n",
        "    \"\"\"Download Gzip-file.\"\"\"\n",
        "    response = urllib.request.urlopen(url)\n",
        "    compressed_file = io.BytesIO(response.read())\n",
        "    decompressed_file = gzip.GzipFile(fileobj=compressed_file)\n",
        "    return decompressed_file\n",
        "\n",
        "def extract_titles(input_file, max_num=40000):\n",
        "    \"\"\"Extract title and publication year of dblp papers, given as input file.\n",
        "    \n",
        "    Divide the papers into 3 time periods. \n",
        "    \n",
        "    Collect max max_num papers per time period.\n",
        "    \"\"\"\n",
        "    pairs_before_1990 = []\n",
        "    count_before_1990 = 0\n",
        "    pairs_from_1990_to_2009 = []\n",
        "    count_from_1990_to_2009 = 0\n",
        "    pairs_from_2010 = []\n",
        "    count_from_2010 = 0\n",
        "    got_title = False\n",
        "    for line in tqdm(input_file):\n",
        "        line_str = line.decode('utf-8')\n",
        "        if got_title: \n",
        "            # we have a title and check for the corresponding year\n",
        "            year_result = re.search(r'<year>(.*)</year>', line_str)\n",
        "            if year_result:\n",
        "                # we also have the year and thus save the title-year pair\n",
        "                year = int(year_result.group(1))\n",
        "                if year < 1990:\n",
        "                    pairs_before_1990.append((title, year))\n",
        "                    count_before_1990 += 1\n",
        "                elif year < 2010:\n",
        "                    pairs_from_1990_to_2009.append((title, year))\n",
        "                    count_from_1990_to_2009 += 1\n",
        "                else:\n",
        "                    pairs_from_2010.append((title, year))\n",
        "                    count_from_2010 += 1\n",
        "                got_title = False\n",
        "        else:\n",
        "            # we have no title and search for title\n",
        "            result = re.search(r'<title>(.*)</title>', line_str)\n",
        "            if result:\n",
        "                title = result.group(1)\n",
        "                if len(title.split(' ')) < 3:  \n",
        "                    # only include titles with at least four words\n",
        "                    continue\n",
        "                got_title = True\n",
        "        \n",
        "        if count_before_1990 >= max_num and count_from_1990_to_2009 >= max_num and count_from_2010 >= max_num:\n",
        "            return pairs_before_1990, pairs_from_1990_to_2009, pairs_from_2010\n",
        "    \n",
        "    return pairs_before_1990, pairs_from_1990_to_2009, pairs_from_2010\n",
        "\n",
        "def save_data(pairs, file_path):\n",
        "    with open(file_path, 'w') as fout:\n",
        "        writer = csv.writer(fout)\n",
        "        for pair in pairs:\n",
        "            writer.writerow(pair)\n",
        "\n",
        "in_file = load_gzip_file(url)\n",
        "pairs_before_1990, pairs_from_1990_to_2009, pairs_from_2010 = extract_titles(in_file)\n",
        "save_data(pairs_before_1990, path_before_1990)\n",
        "save_data(pairs_from_1990_to_2009, path_from_1990_to_2009)\n",
        "save_data(pairs_from_2010, path_from_2010)\n"
      ],
      "execution_count": 7,
      "outputs": [
        {
          "output_type": "stream",
          "name": "stdout",
          "text": [
            "Mounted at /content/drive\n"
          ]
        },
        {
          "output_type": "stream",
          "name": "stderr",
          "text": [
            "13531631it [00:37, 356913.18it/s]\n"
          ]
        }
      ]
    },
    {
      "cell_type": "markdown",
      "metadata": {
        "id": "rDhEoD2Tsh3z"
      },
      "source": [
        "## 2. Topic Modeling\n",
        "### 2.1 Using Latent Dirichlet Allocation (LDA)"
      ]
    },
    {
      "cell_type": "code",
      "metadata": {
        "id": "xA-jeLNbJsjt"
      },
      "source": [
        "def load_titles(path):\n",
        "  with open(path) as fin:\n",
        "    reader = csv.reader(fin)\n",
        "    titles = [row[0] for row in reader]\n",
        "  return titles"
      ],
      "execution_count": 8,
      "outputs": []
    },
    {
      "cell_type": "code",
      "metadata": {
        "id": "0vb_BI1xZ4kb"
      },
      "source": [
        "# Simple text preprocessing by removing \n",
        "# all letters which are not in roman alphabet\n",
        "def preprocess_text(text):\n",
        "    text = re.sub(r'[^a-zA-Z ]', '', text)\n",
        "    #text = re.sub(r'\\b\\w{1,3}\\b', ' ', text)\n",
        "    #text = re.sub(' +', ' ', text)\n",
        "    text = text.lower()\n",
        "    return text"
      ],
      "execution_count": 9,
      "outputs": []
    },
    {
      "cell_type": "code",
      "metadata": {
        "id": "7MSaGhKXepPG"
      },
      "source": [
        "# Now we turn the documents (or titles in this case) into a matrix feature representation.\n",
        "def vectorize_data(titles, max_df=MAX_DF, min_df=MIN_DF, max_features=NUM_FEATURES):\n",
        "  tf_vectorizer = CountVectorizer(max_df=max_df, min_df=min_df, max_features=max_features, stop_words='english')\n",
        "  tf = tf_vectorizer.fit_transform(titles)\n",
        "  tf_feature_names = tf_vectorizer.get_feature_names_out()\n",
        "  return tf, tf_feature_names"
      ],
      "execution_count": 10,
      "outputs": []
    },
    {
      "cell_type": "markdown",
      "metadata": {
        "id": "lc09sFDe-5kn"
      },
      "source": [
        "#### 2.1.1 - Before the 1990s:"
      ]
    },
    {
      "cell_type": "code",
      "metadata": {
        "id": "-Rwq6kF7vqUj",
        "colab": {
          "base_uri": "https://localhost:8080/"
        },
        "outputId": "d790a22d-31e2-45ad-93ed-dcbf02dd38cd"
      },
      "source": [
        "# Load the titles\n",
        "titles_before_1990 = load_titles(path_before_1990)\n",
        "print(\"{} titles before 1990\".format(len(titles_before_1990)))"
      ],
      "execution_count": 11,
      "outputs": [
        {
          "output_type": "stream",
          "name": "stdout",
          "text": [
            "40000 titles before 1990\n"
          ]
        }
      ]
    },
    {
      "cell_type": "code",
      "metadata": {
        "colab": {
          "base_uri": "https://localhost:8080/"
        },
        "id": "AnXGcMlIKxBS",
        "outputId": "7b024b8c-49ee-4ae7-fec7-6b70067281a1"
      },
      "source": [
        "# Show some random samples\n",
        "random.sample(titles_before_1990, 10)"
      ],
      "execution_count": 12,
      "outputs": [
        {
          "output_type": "execute_result",
          "data": {
            "text/plain": [
              "['Notes from the Vice Chairperson.',\n",
              " 'Implications of holography for information systems.',\n",
              " 'Designing Networks with Compact Routing Tables.',\n",
              " 'Clausal Intuitionistic Logic I - Fixed-Point Semantics.',\n",
              " 'Balanced extensions of graphs and hypergraphs.',\n",
              " 'Extraction of chemical reaction information from primary journal text using computational linguistics techniques. 1. Lexical and syntactic phases.',\n",
              " 'A Message in Cipher Written by General Cornwallis during the Revolutionary War.',\n",
              " 'Discriminant analysis with a stochastic supervisor.',\n",
              " 'R68-42 On Designing Generalized File Records for Management Information Systems.',\n",
              " 'Teachware development for education in CAD.']"
            ]
          },
          "metadata": {},
          "execution_count": 12
        }
      ]
    },
    {
      "cell_type": "code",
      "metadata": {
        "id": "1mulG5Sg2NBZ"
      },
      "source": [
        "preprocessed_titles_before_1990 = [preprocess_text(title) for title in titles_before_1990]"
      ],
      "execution_count": 13,
      "outputs": []
    },
    {
      "cell_type": "code",
      "metadata": {
        "id": "Fi6xnCvjd8uq",
        "outputId": "5849e046-a8d9-4621-fc59-46197c41727d",
        "colab": {
          "base_uri": "https://localhost:8080/"
        }
      },
      "source": [
        "# Show some preprocessed samples\n",
        "random.sample(preprocessed_titles_before_1990, 10)"
      ],
      "execution_count": 14,
      "outputs": [
        {
          "output_type": "execute_result",
          "data": {
            "text/plain": [
              "['electronic scanners with speech output  a communication system for the physically handicapped and mentally retarded',\n",
              " 'programmable industrial automation',\n",
              " 'precise scientific computation with a microprocessor',\n",
              " 'application of phasecontrast metallography in a production laboratory',\n",
              " 'd reconstruction of the blood vessels of the brain from a stereoscopic pair of subtraction angiograms',\n",
              " 'reviews and things cryptologic',\n",
              " 'note on the iei',\n",
              " 'goumldels proof and the liar paradox',\n",
              " 'determination of transient response of a drift transistor using the diffusion equation',\n",
              " 'mosaic models for imagesii geometric properties of components in coverage mosaics']"
            ]
          },
          "metadata": {},
          "execution_count": 14
        }
      ]
    },
    {
      "cell_type": "code",
      "metadata": {
        "id": "nhgxgCM_01mx"
      },
      "source": [
        "tf_01, tf_feature_names_01 = vectorize_data(preprocessed_titles_before_1990, max_df=0.95, min_df=0.01)"
      ],
      "execution_count": 15,
      "outputs": []
    },
    {
      "cell_type": "code",
      "metadata": {
        "id": "_927CQlk4C27"
      },
      "source": [
        "lda_01 = LatentDirichletAllocation(n_components=8, max_iter=10, learning_method='online', random_state=42).fit(tf_01)"
      ],
      "execution_count": 16,
      "outputs": []
    },
    {
      "cell_type": "code",
      "metadata": {
        "colab": {
          "base_uri": "https://localhost:8080/"
        },
        "id": "5-8NinuI4kMG",
        "outputId": "714c4d5d-5600-4a9a-dbc0-e4fc52d5f664"
      },
      "source": [
        "for topic_idx, topic in enumerate(lda_01.components_):\n",
        "    print(f'Topic {topic_idx}:', end=' ')\n",
        "    print(' '.join([tf_feature_names_01[i] for i in topic.argsort()[:-12 - 1:-1]]))"
      ],
      "execution_count": 17,
      "outputs": [
        {
          "output_type": "stream",
          "name": "stdout",
          "text": [
            "Topic 0: theory problems algorithms simulation decision parallel application solution applications optimal digital control\n",
            "Topic 1: computer logic model programs digital performance design networks using applications systems simulation\n",
            "Topic 2: problem programming optimal language digital processing software research solution parallel linear control\n",
            "Topic 3: data method network models application languages solution processing problem using analysis programming\n",
            "Topic 4: note information linear functions applications finite technical programming systems time problem decision\n",
            "Topic 5: algorithm design analysis approach sets performance new using implementation parallel linear digital\n",
            "Topic 6: systems using parallel performance implementation decision distributed linear control digital design processing\n",
            "Topic 7: control networks new recognition distributed time pattern optimal systems approach digital linear\n"
          ]
        }
      ]
    },
    {
      "cell_type": "markdown",
      "metadata": {
        "id": "mbx0DythfCkP"
      },
      "source": [
        "Topics:\n",
        "0. Graph/networks algorithms (seems to be mostly about algorithms that (maybe) operate on graphs/networks)\n",
        "1. pattern recognition (and maybe robotics)\n",
        "2. ..."
      ]
    },
    {
      "cell_type": "markdown",
      "metadata": {
        "id": "iqioi0rG_Dz9"
      },
      "source": [
        "#### 2.1.2 - From 1990 to 2009:"
      ]
    },
    {
      "cell_type": "code",
      "metadata": {
        "id": "C7cOeXDqXQo5",
        "outputId": "575fd99d-606f-418f-f9ae-9571049d729b",
        "colab": {
          "base_uri": "https://localhost:8080/"
        }
      },
      "source": [
        "titles_from_1990_to_2009 = load_titles(path_from_1990_to_2009)\n",
        "print(\"{} titles from 1990 to 2009\".format(len(titles_from_1990_to_2009)))"
      ],
      "execution_count": 18,
      "outputs": [
        {
          "output_type": "stream",
          "name": "stdout",
          "text": [
            "327307 titles from 1990 to 2009\n"
          ]
        }
      ]
    },
    {
      "cell_type": "code",
      "metadata": {
        "id": "n-67SE1cXXd9",
        "outputId": "6097e95f-f106-472e-96c4-09311983701e",
        "colab": {
          "base_uri": "https://localhost:8080/"
        }
      },
      "source": [
        "random.sample(titles_from_1990_to_2009, 10)"
      ],
      "execution_count": 19,
      "outputs": [
        {
          "output_type": "execute_result",
          "data": {
            "text/plain": [
              "['Reinventing Academic Publishing Online. Part I: Rigor, Relevance and Practice.',\n",
              " 'A fuzzy-logic architecture for autonomous multisensor data fusion.',\n",
              " '3-D finite element analysis of induction logging in a dipping formation mark.',\n",
              " 'SVM-based feature selection of latent semantic features.',\n",
              " 'An extensive comparison of recent classification tools applied to microarray data.',\n",
              " 'Throughput Analysis of TCP-Friendly Rate Control in Mobile Hotspots.',\n",
              " 'Unequivocal majority and Maskin-monotonicity.',\n",
              " 'A new approach to the verification of chinese signatures with variant orientations and scales using relaxation and state-space search methods.',\n",
              " 'Algebraic Matching Theory.',\n",
              " 'Information systems evaluation and the information systems development process.']"
            ]
          },
          "metadata": {},
          "execution_count": 19
        }
      ]
    },
    {
      "cell_type": "code",
      "metadata": {
        "id": "Vlb3X9hyaYTF"
      },
      "source": [
        "preprocessed_titles_from_1990_to_2009 = [preprocess_text(title) for title in titles_from_1990_to_2009]"
      ],
      "execution_count": 20,
      "outputs": []
    },
    {
      "cell_type": "code",
      "metadata": {
        "id": "X4627RUxe1zf",
        "outputId": "4d9c6b4f-2240-4fff-8fbf-dbe626300283",
        "colab": {
          "base_uri": "https://localhost:8080/"
        }
      },
      "source": [
        "random.sample(preprocessed_titles_from_1990_to_2009, 10)"
      ],
      "execution_count": 21,
      "outputs": [
        {
          "output_type": "execute_result",
          "data": {
            "text/plain": [
              "['cue validity modulates the neural correlates of covert endogenous orienting of attention in parietal and frontal cortex',\n",
              " 'abstracting soft constraints framework properties examples',\n",
              " 'a comment on the severity of the effects of nonwhite noise in fmri timeseries',\n",
              " 'agent hell a scenario of worst practices',\n",
              " 'the evolution of sdh a view from telecom new zealand',\n",
              " 'accurate d image colour histogram transformation',\n",
              " 'solution of a semicoercive contact problem in a nonlinear thermoelastic rheology',\n",
              " 'an operadic approach to internal structures',\n",
              " 'layoff costs and underutilization of labour in fisheries',\n",
              " 'spectrum sensing architecture and use case study distributed sensing over rayleigh fading channels']"
            ]
          },
          "metadata": {},
          "execution_count": 21
        }
      ]
    },
    {
      "cell_type": "code",
      "metadata": {
        "id": "oULIkhWnXLGX"
      },
      "source": [
        "tf_02, tf_feature_names_02 = vectorize_data(titles_from_1990_to_2009, max_df=0.95, min_df=0.01)"
      ],
      "execution_count": 22,
      "outputs": []
    },
    {
      "cell_type": "code",
      "metadata": {
        "id": "nh-AKJdlXntq"
      },
      "source": [
        "lda_02 = LatentDirichletAllocation(n_components=8, max_iter=10, learning_method='online', random_state=42).fit(tf_02)"
      ],
      "execution_count": 23,
      "outputs": []
    },
    {
      "cell_type": "code",
      "metadata": {
        "id": "aaDUR7xpXqlV",
        "outputId": "dcfe0a93-5bfd-4d9f-c32b-ebc4679ec96e",
        "colab": {
          "base_uri": "https://localhost:8080/"
        }
      },
      "source": [
        "for topic_idx, topic in enumerate(lda_02.components_):\n",
        "    print(f'Topic {topic_idx}:', end=' ')\n",
        "    print(' '.join([tf_feature_names_02[i] for i in topic.argsort()[:-12 - 1:-1]]))"
      ],
      "execution_count": 24,
      "outputs": [
        {
          "output_type": "stream",
          "name": "stdout",
          "text": [
            "Topic 0: time algorithm linear new network models algorithms efficient high robust equations management\n",
            "Topic 1: method study problems evaluation case space programming equations finite linear new performance\n",
            "Topic 2: design approach nonlinear optimal fuzzy modeling computing robust control equations new time\n",
            "Topic 3: based control model methods computer robust time linear simulation network detection dynamic\n",
            "Topic 4: using analysis networks performance problem multi dynamic neural wireless mobile recognition network\n",
            "Topic 5: systems data information multiple digital linear robust management time control nonlinear analysis\n",
            "Topic 6: adaptive application structure non theory knowledge scheme management robust linear control finite\n",
            "Topic 7: learning estimation applications order image distributed graphs web software power real development\n"
          ]
        }
      ]
    },
    {
      "cell_type": "markdown",
      "metadata": {
        "id": "ip_z250Z_Mnz"
      },
      "source": [
        "#### 2.1.3 - From 2010 onwards:"
      ]
    },
    {
      "cell_type": "code",
      "metadata": {
        "id": "9Xxhrl06aHKA",
        "outputId": "492974f9-0ec8-4ee1-a0d5-4a032c12dc6a",
        "colab": {
          "base_uri": "https://localhost:8080/"
        }
      },
      "source": [
        "# Load the titles\n",
        "titles_from_2010 = load_titles(path_from_2010)\n",
        "print(\"{} titles from from 2010\".format(len(titles_from_2010)))"
      ],
      "execution_count": 25,
      "outputs": [
        {
          "output_type": "stream",
          "name": "stdout",
          "text": [
            "720322 titles from from 2010\n"
          ]
        }
      ]
    },
    {
      "cell_type": "code",
      "metadata": {
        "id": "lgi6gbvcX-n6",
        "outputId": "61f89cab-f4a6-4727-eac6-41ac879c3c61",
        "colab": {
          "base_uri": "https://localhost:8080/"
        }
      },
      "source": [
        "# Show some random samples\n",
        "random.sample(titles_from_2010, 10)"
      ],
      "execution_count": 26,
      "outputs": [
        {
          "output_type": "execute_result",
          "data": {
            "text/plain": [
              "['Power Sensitivity Analysis of Multi-Frequency, Multi-Polarized, Multi-Temporal SAR Data for Soil-Vegetation System Variables Characterization.',\n",
              " 'Schneier on Security: Privacy and Control.',\n",
              " 'Stability and implementation of a cycle-based max pressure controller for signalized traffic networks.',\n",
              " 'Modeling progressive mesh streaming: Does data dependency matter?',\n",
              " 'High order weighted essentially non-oscillatory WENO-Z schemes for hyperbolic conservation laws.',\n",
              " 'Wireless Information and Power Transfer in Multiway Massive MIMO Relay Networks.',\n",
              " 'Investigating Statistical Privacy Frameworks from the Perspective of Hypothesis Testing.',\n",
              " 'A complete 3D simulation of a crystallization process induced by supercritical CO<sub>2</sub> to predict particle size.',\n",
              " 'Test Architecture for Systolic Array of Edge-Based AI Accelerator.',\n",
              " 'Processing Speech and Thoughts during Silent Reading: Direct Reference Effects for Speech by Fictional Characters in Voice-Selective Auditory Cortex and a Theory-of-Mind Network.']"
            ]
          },
          "metadata": {},
          "execution_count": 26
        }
      ]
    },
    {
      "cell_type": "code",
      "metadata": {
        "id": "erEowFQcabl2"
      },
      "source": [
        "# Preprocess the titles by removing certain characters\n",
        "preprocessed_titles_from_2010 = [preprocess_text(title) for title in titles_from_2010]"
      ],
      "execution_count": 27,
      "outputs": []
    },
    {
      "cell_type": "code",
      "metadata": {
        "id": "F3BQQX2MakvD"
      },
      "source": [
        "# Vectorize\n",
        "tf_03, tf_feature_names_03 = vectorize_data(preprocessed_titles_from_2010, max_df=0.95, min_df=0.01)"
      ],
      "execution_count": 28,
      "outputs": []
    },
    {
      "cell_type": "code",
      "metadata": {
        "id": "cKRd2B0ManH9"
      },
      "source": [
        "lda_03 = LatentDirichletAllocation(n_components=8, max_iter=10, learning_method='online', random_state=42).fit(tf_03)"
      ],
      "execution_count": 29,
      "outputs": []
    },
    {
      "cell_type": "code",
      "metadata": {
        "id": "vKwtKuvKaofc",
        "outputId": "b7eab492-2cf4-4827-b0ed-b1ee0898e4c6",
        "colab": {
          "base_uri": "https://localhost:8080/"
        }
      },
      "source": [
        "for topic_idx, topic in enumerate(lda_03.components_):\n",
        "    print(f'Topic {topic_idx}:', end=' ')\n",
        "    print(' '.join([tf_feature_names_03[i] for i in topic.argsort()[:-12 - 1:-1]]))"
      ],
      "execution_count": 30,
      "outputs": [
        {
          "output_type": "stream",
          "name": "stdout",
          "text": [
            "Topic 0: systems networks wireless performance novel evaluation sensing sensor communication linear distributed power\n",
            "Topic 1: based detection design linear mobile recognition prediction computing images cloud feature method\n",
            "Topic 2: data method network optimization application applications modeling equations methods hybrid cloud problems\n",
            "Topic 3: adaptive nonlinear information models framework energy deep management social scheduling systems tracking\n",
            "Topic 4: control model estimation robust sensor selection tracking systems linear nonlinear stochastic distributed\n",
            "Topic 5: learning neural efficient optimal distributed scheme problem multiple problems stochastic machine deep\n",
            "Topic 6: approach algorithm study new time algorithms online tracking case improved research optimization\n",
            "Topic 7: using analysis image dynamic power classification fuzzy communication machine feature learning selection\n"
          ]
        }
      ]
    },
    {
      "cell_type": "markdown",
      "metadata": {
        "id": "pStFBikpsRTz"
      },
      "source": [
        "# Combined Topic Models\n",
        "\n",
        "New method developed by [Bianchi et al. 2021](https://aclanthology.org/2021.acl-short.96/). \n",
        "\n",
        "[A 6min presentation of the paper by one of the authors.](https://underline.io/lecture/25716-pre-training-is-a-hot-topic-contextualized-document-embeddings-improve-topic-coherence)\n",
        "\n",
        "Code: [https://github.com/MilaNLProc/contextualized-topic-models](https://github.com/MilaNLProc/contextualized-topic-models)\n",
        "\n",
        "Tutorial: [https://colab.research.google.com/drive/1fXJjr_rwqvpp1IdNQ4dxqN4Dp88cxO97?usp=sharing](https://colab.research.google.com/drive/1fXJjr_rwqvpp1IdNQ4dxqN4Dp88cxO97?usp=sharing)\n",
        "\n",
        "Again, perform topic modelling for the three time periods - this time using the combined topic models (CTMs). \n",
        "\n",
        "You can use and adapt the code from the tutorial linked above.\n",
        "\n",
        "Use the available GPU for faster running times."
      ]
    },
    {
      "cell_type": "code",
      "metadata": {
        "id": "aNsJrV2DJ8GO"
      },
      "source": [
        "from contextualized_topic_models.models.ctm import CombinedTM\n",
        "from contextualized_topic_models.utils.data_preparation import TopicModelDataPreparation\n",
        "from contextualized_topic_models.utils.preprocessing import WhiteSpacePreprocessing\n",
        "\n",
        "num_ctm_topics = 8  # you can also choose a higher number of topics"
      ],
      "execution_count": 60,
      "outputs": []
    },
    {
      "cell_type": "code",
      "source": [
        "import nltk\n",
        "\n",
        "nltk.download('stopwords')\n",
        "nltk.download('wordnet')\n",
        "from nltk.stem import WordNetLemmatizer\n",
        "\n",
        "# def lemmatization(sentence):\n",
        "#   words = sentence.split()\n",
        "#   lem_words = [WordNetLemmatizer().lemmatize(i) for i in words]\n",
        "#   new_sentence = ' '.join(lem_words)\n",
        "#   return new_sentence\n",
        "\n",
        "def load_text(text):\n",
        "  # lem_text = [lemmatization(i) for i in text]\n",
        "  sp = WhiteSpacePreprocessing(text, stopwords_language='english')\n",
        "  preprocessed_documents, unpreprocessed_corpus, vocab = sp.preprocess()\n",
        "  return preprocessed_documents, unpreprocessed_corpus, vocab"
      ],
      "metadata": {
        "colab": {
          "base_uri": "https://localhost:8080/"
        },
        "id": "4NpPMJFUh31u",
        "outputId": "b8a43f36-e06c-4ca3-bd0a-7279af5e5707"
      },
      "execution_count": 32,
      "outputs": [
        {
          "output_type": "stream",
          "name": "stdout",
          "text": [
            "[nltk_data] Downloading package stopwords to /root/nltk_data...\n",
            "[nltk_data]   Unzipping corpora/stopwords.zip.\n",
            "[nltk_data] Downloading package wordnet to /root/nltk_data...\n",
            "[nltk_data]   Unzipping corpora/wordnet.zip.\n"
          ]
        }
      ]
    },
    {
      "cell_type": "code",
      "source": [
        "all_titles = titles_before_1990 + titles_from_1990_to_2009 + titles_from_2010"
      ],
      "metadata": {
        "id": "959feQD0cG40"
      },
      "execution_count": 33,
      "outputs": []
    },
    {
      "cell_type": "code",
      "source": [
        "print(\"the length of the list all_titles is {}\".format(len(all_titles)))"
      ],
      "metadata": {
        "colab": {
          "base_uri": "https://localhost:8080/"
        },
        "id": "VSMT5mAgcav5",
        "outputId": "b992b930-8e2b-4a7c-e5f3-0b5ce25a753b"
      },
      "execution_count": 34,
      "outputs": [
        {
          "output_type": "stream",
          "name": "stdout",
          "text": [
            "the length of the list all_titles is 1087629\n"
          ]
        }
      ]
    },
    {
      "cell_type": "markdown",
      "metadata": {
        "id": "wSv9Ch46LFxp"
      },
      "source": [
        "### Before the 1990s:"
      ]
    },
    {
      "cell_type": "code",
      "source": [
        "#check the processed data from part 1\n",
        "preprocessed_titles_before_1990[0:5]"
      ],
      "metadata": {
        "colab": {
          "base_uri": "https://localhost:8080/"
        },
        "id": "1UobhOHjifyS",
        "outputId": "ff9744b8-54a6-4cb8-d1e1-df848308e5a7"
      },
      "execution_count": 35,
      "outputs": [
        {
          "output_type": "execute_result",
          "data": {
            "text/plain": [
              "['object model capabilities for distributed object management',\n",
              " 'distributed object management technology',\n",
              " 'muffin a distributed database machine',\n",
              " 'algebraical optimization of ftaexpressions',\n",
              " 'wissensrepraumlsentation und maschinelles lernen']"
            ]
          },
          "metadata": {},
          "execution_count": 35
        }
      ]
    },
    {
      "cell_type": "code",
      "source": [
        "# here we do lemmatization, remove stop words, and return the processed, unprocessed, and vocabulary data \n",
        "preprocessed_documents_before_1990, unpreprocessed_corpus_before_1990, vocab_before_1990 = load_text(preprocessed_titles_before_1990)"
      ],
      "metadata": {
        "colab": {
          "base_uri": "https://localhost:8080/"
        },
        "id": "vry-UZonUr38",
        "outputId": "0f76c90c-1789-42bd-e422-3aac7d4d1b95"
      },
      "execution_count": 36,
      "outputs": [
        {
          "output_type": "stream",
          "name": "stderr",
          "text": [
            "/usr/local/lib/python3.7/dist-packages/sklearn/utils/deprecation.py:87: FutureWarning: Function get_feature_names is deprecated; get_feature_names is deprecated in 1.0 and will be removed in 1.2. Please use get_feature_names_out instead.\n",
            "  warnings.warn(msg, category=FutureWarning)\n"
          ]
        }
      ]
    },
    {
      "cell_type": "code",
      "source": [
        "contextualized_txt_01 = random.sample(all_titles,len(unpreprocessed_corpus_before_1990))"
      ],
      "metadata": {
        "id": "j5lxU82Jjse_"
      },
      "execution_count": 37,
      "outputs": []
    },
    {
      "cell_type": "code",
      "source": [
        "# here we use the same model, paraphrase-distilroberta-base-v1, as in the tutorial\n",
        "tp = TopicModelDataPreparation(\"multi-qa-mpnet-base-cos-v1\")\n",
        "training_dataset = tp.fit(text_for_contextual=contextualized_txt_01, text_for_bow=preprocessed_documents_before_1990)"
      ],
      "metadata": {
        "colab": {
          "base_uri": "https://localhost:8080/",
          "height": 104,
          "referenced_widgets": [
            "87c4c0890e0b49368687c25ea33e360c",
            "dc233c4cb86a455e96503ba711fda269",
            "975cf009bb644b2b9ba40c61fc407f60",
            "8b959230ad4844ba85131f85ba12afcf",
            "01a115242d4a47d4be518a71cc34f3a7",
            "b63672d2fa8242c795e86367cbe2dd41",
            "1f996e7148ae44aba98f125ed0a73a7f",
            "6daae0fba40d4785948c88f52b7acc7f",
            "03a1b0d01e254821ae0d1a4afb856007",
            "09d60c1f7bbc47a89bbd184c875e7cef",
            "0a459c8e94d34ddd98be45e494053bc8"
          ]
        },
        "id": "USNTetUfUr0S",
        "outputId": "7e162a22-82d7-4ac1-db55-902224c7b94a"
      },
      "execution_count": 62,
      "outputs": [
        {
          "output_type": "display_data",
          "data": {
            "application/vnd.jupyter.widget-view+json": {
              "model_id": "87c4c0890e0b49368687c25ea33e360c",
              "version_minor": 0,
              "version_major": 2
            },
            "text/plain": [
              "Batches:   0%|          | 0/197 [00:00<?, ?it/s]"
            ]
          },
          "metadata": {}
        },
        {
          "output_type": "stream",
          "name": "stderr",
          "text": [
            "/usr/local/lib/python3.7/dist-packages/sklearn/utils/deprecation.py:87: FutureWarning: Function get_feature_names is deprecated; get_feature_names is deprecated in 1.0 and will be removed in 1.2. Please use get_feature_names_out instead.\n",
            "  warnings.warn(msg, category=FutureWarning)\n"
          ]
        }
      ]
    },
    {
      "cell_type": "code",
      "source": [
        "ctm1 = CombinedTM(bow_size=len(tp.vocab), contextual_size=768, n_components=num_ctm_topics, num_epochs=20)\n",
        "ctm1.fit(training_dataset) # run the model"
      ],
      "metadata": {
        "colab": {
          "base_uri": "https://localhost:8080/"
        },
        "id": "ICkdih24lz1H",
        "outputId": "30931bf4-56af-44cc-8c26-2d9dc6a74309"
      },
      "execution_count": 63,
      "outputs": [
        {
          "output_type": "stream",
          "name": "stderr",
          "text": [
            "Epoch: [20/20]\t Seen Samples: [787640/787640]\tTrain Loss: 32.876268093633556\tTime: 0:00:05.907914: : 20it [01:57,  5.89s/it]\n"
          ]
        }
      ]
    },
    {
      "cell_type": "code",
      "source": [
        "for i in range(0,8):\n",
        "    print(f'Topic {i}:', end=' ')\n",
        "    print(' '.join(ctm1.get_topic_lists(10)[i]))"
      ],
      "metadata": {
        "colab": {
          "base_uri": "https://localhost:8080/"
        },
        "id": "beB9mh59-a8z",
        "outputId": "79ea69a3-915d-4547-f153-26c7e5132dbe"
      },
      "execution_count": 72,
      "outputs": [
        {
          "output_type": "stream",
          "name": "stdout",
          "text": [
            "Topic 0: computer review introduction research software network new simulation graphics computers\n",
            "Topic 1: note problem problems technical programming solution editor letter optimal scheduling\n",
            "Topic 2: system data design information distributed processing language database management expert\n",
            "Topic 3: algorithm parallel algorithms sequential binary fast machines using circuits matrix\n",
            "Topic 4: sets der graphs und von automata finite zur properties ein\n",
            "Topic 5: control analysis systems recognition pattern adaptive using model linear optimal\n",
            "Topic 6: timing vehicle augmented biological multiprogramming combined priorities texts references usage\n",
            "Topic 7: logic theory de languages theorem modal propositional semantics calculus set\n"
          ]
        }
      ]
    },
    {
      "cell_type": "code",
      "source": [
        ""
      ],
      "metadata": {
        "id": "PNYEq_Kr_Pjx"
      },
      "execution_count": 40,
      "outputs": []
    },
    {
      "cell_type": "markdown",
      "metadata": {
        "id": "ZNRaJJEMiVQb"
      },
      "source": [
        "### From 1990 to 2009"
      ]
    },
    {
      "cell_type": "code",
      "source": [
        "#check the processed data from part 1\n",
        "preprocessed_titles_from_1990_to_2009[0:5]"
      ],
      "metadata": {
        "colab": {
          "base_uri": "https://localhost:8080/"
        },
        "id": "QtkUBtOBjOsD",
        "outputId": "26b39a05-6edf-478c-e32c-fbd2f7ba4020"
      },
      "execution_count": 41,
      "outputs": [
        {
          "output_type": "execute_result",
          "data": {
            "text/plain": [
              "['an evaluation of objectoriented dbms developments  edition',\n",
              " 'darwin on the incremental migration of legacy information systems',\n",
              " 'integrating heterogeneous autonomous distributed applications using the dom prototype',\n",
              " 'integrating objectoriented applications and middleware with relational databases',\n",
              " 'towards a transaction management system for dom']"
            ]
          },
          "metadata": {},
          "execution_count": 41
        }
      ]
    },
    {
      "cell_type": "code",
      "source": [
        "# here we do lemmatization, remove stop words, and return the processed, unprocessed, and vocabulary data \n",
        "preprocessed_documents_from_1990_to_2009, unpreprocessed_corpus_from_1990_to_2009, vocab_from_1990_to_2009 = load_text(preprocessed_titles_from_1990_to_2009)"
      ],
      "metadata": {
        "colab": {
          "base_uri": "https://localhost:8080/"
        },
        "id": "VpFS6zJVjbJ2",
        "outputId": "0bfc6807-7457-494d-e64a-a85a15991bc8"
      },
      "execution_count": 42,
      "outputs": [
        {
          "output_type": "stream",
          "name": "stderr",
          "text": [
            "/usr/local/lib/python3.7/dist-packages/sklearn/utils/deprecation.py:87: FutureWarning: Function get_feature_names is deprecated; get_feature_names is deprecated in 1.0 and will be removed in 1.2. Please use get_feature_names_out instead.\n",
            "  warnings.warn(msg, category=FutureWarning)\n"
          ]
        }
      ]
    },
    {
      "cell_type": "code",
      "source": [
        "contextualized_txt_02 = random.sample(all_titles,len(unpreprocessed_corpus_from_1990_to_2009))"
      ],
      "metadata": {
        "id": "x5wNDSumlydj"
      },
      "execution_count": 43,
      "outputs": []
    },
    {
      "cell_type": "code",
      "source": [
        "tp = TopicModelDataPreparation(\"multi-qa-mpnet-base-cos-v1\")\n",
        "training_dataset = tp.fit(text_for_contextual=contextualized_txt_02, text_for_bow=preprocessed_documents_from_1990_to_2009)"
      ],
      "metadata": {
        "colab": {
          "base_uri": "https://localhost:8080/",
          "height": 121,
          "referenced_widgets": [
            "8bd680bd36a647f1a6b8b38b360cd90f",
            "b35c86c4c62b42dcaa973342b46e2308",
            "6803ac3250cb487b9cb41214765504f5",
            "025ec161f54d49f0acb41b8fd35baa54",
            "eacfff922de445bcbec083da5f58d6dc",
            "2cc2238f934c420a828142b1d784a341",
            "0c53b42e55f2418eb75b27c459c498f3",
            "28de010d898249c38bf8d8f3c70aa377",
            "abdd82b5a8364eb684e2826f8ae54303",
            "daab05306fda44fd907a16190bed20c9",
            "f41ce41f69dd472a9123c7edce704082"
          ]
        },
        "id": "OwZGEEvNQSIn",
        "outputId": "e4a41e66-73da-4463-f48e-b88bd51f3349"
      },
      "execution_count": 65,
      "outputs": [
        {
          "output_type": "display_data",
          "data": {
            "application/vnd.jupyter.widget-view+json": {
              "model_id": "8bd680bd36a647f1a6b8b38b360cd90f",
              "version_minor": 0,
              "version_major": 2
            },
            "text/plain": [
              "Batches:   0%|          | 0/1613 [00:00<?, ?it/s]"
            ]
          },
          "metadata": {}
        },
        {
          "output_type": "stream",
          "name": "stderr",
          "text": [
            "\r0it [2:00:50, ?it/s]\n",
            "/usr/local/lib/python3.7/dist-packages/sklearn/utils/deprecation.py:87: FutureWarning: Function get_feature_names is deprecated; get_feature_names is deprecated in 1.0 and will be removed in 1.2. Please use get_feature_names_out instead.\n",
            "  warnings.warn(msg, category=FutureWarning)\n"
          ]
        }
      ]
    },
    {
      "cell_type": "code",
      "source": [
        "ctm2 = CombinedTM(bow_size=len(tp.vocab), contextual_size=768, n_components=num_ctm_topics, num_epochs=20)\n",
        "ctm2.fit(training_dataset) # run the model"
      ],
      "metadata": {
        "colab": {
          "base_uri": "https://localhost:8080/"
        },
        "id": "E7jrm7T7QTqf",
        "outputId": "f946313a-d7d3-44c8-f323-a742a95368c6"
      },
      "execution_count": 66,
      "outputs": [
        {
          "output_type": "stream",
          "name": "stderr",
          "text": [
            "Epoch: [20/20]\t Seen Samples: [6451020/6451020]\tTrain Loss: 37.61339285155257\tTime: 0:00:45.557992: : 20it [15:10, 45.52s/it]\n"
          ]
        }
      ]
    },
    {
      "cell_type": "code",
      "source": [
        "for i in range(0,8):\n",
        "    print(f'Topic {i}:', end=' ')\n",
        "    print(' '.join(ctm2.get_topic_lists(10)[i]))"
      ],
      "metadata": {
        "colab": {
          "base_uri": "https://localhost:8080/"
        },
        "id": "s7cN0lwcQl4i",
        "outputId": "033d4616-7421-4953-b439-2b913dc96229"
      },
      "execution_count": 73,
      "outputs": [
        {
          "output_type": "stream",
          "name": "stdout",
          "text": [
            "Topic 0: problems problem equations solution finite solutions numerical equation methods method\n",
            "Topic 1: theoretic rates spatially serial arrival modes simplified utilizing membership window\n",
            "Topic 2: information development case web knowledge study technology management research electronic\n",
            "Topic 3: networks wireless performance sensor mobile routing scheduling protocol network traffic\n",
            "Topic 4: systems control robust stability linear design adaptive uncertain nonlinear output\n",
            "Topic 5: special issue introduction computer editorial de logic intelligence book language\n",
            "Topic 6: analysis data model fuzzy neural models molecular approach classification prediction\n",
            "Topic 7: image images detection recognition segmentation using compression estimation brain speech\n"
          ]
        }
      ]
    },
    {
      "cell_type": "markdown",
      "metadata": {
        "id": "tfgbLy0KiZ5b"
      },
      "source": [
        "### From 2010 onwards"
      ]
    },
    {
      "cell_type": "code",
      "source": [
        "#check the processed data from part 1\n",
        "preprocessed_titles_from_2010[0:5]"
      ],
      "metadata": {
        "colab": {
          "base_uri": "https://localhost:8080/"
        },
        "id": "kd6_YFuUjPRV",
        "outputId": "0508ecfe-a19e-4a9a-e06e-97c6b404a16d"
      },
      "execution_count": 48,
      "outputs": [
        {
          "output_type": "execute_result",
          "data": {
            "text/plain": [
              "['spectre attacks exploiting speculative execution',\n",
              " 'computer science curricula ',\n",
              " 'differences in productivity and impact across the different computer science subareas',\n",
              " 'klaus tschira stiftung gemeinnuumltzige gmbh kts',\n",
              " 'catchment classification by runoff behaviour with selforganizing maps som']"
            ]
          },
          "metadata": {},
          "execution_count": 48
        }
      ]
    },
    {
      "cell_type": "code",
      "source": [
        "# here we do lemmatization, remove stop words, and return the processed, unprocessed, and vocabulary data \n",
        "preprocessed_documents_from_2010, unpreprocessed_corpus_from_2010, vocab_from_2010 = load_text(preprocessed_titles_from_2010)"
      ],
      "metadata": {
        "colab": {
          "base_uri": "https://localhost:8080/"
        },
        "id": "jPxq3FqCjcZ6",
        "outputId": "e73220b4-cc6c-4f3a-90e7-5e5cee5b980c"
      },
      "execution_count": 49,
      "outputs": [
        {
          "output_type": "stream",
          "name": "stderr",
          "text": [
            "/usr/local/lib/python3.7/dist-packages/sklearn/utils/deprecation.py:87: FutureWarning: Function get_feature_names is deprecated; get_feature_names is deprecated in 1.0 and will be removed in 1.2. Please use get_feature_names_out instead.\n",
            "  warnings.warn(msg, category=FutureWarning)\n"
          ]
        }
      ]
    },
    {
      "cell_type": "code",
      "source": [
        "contextualized_txt_03 = random.sample(all_titles,len(unpreprocessed_corpus_from_2010))"
      ],
      "metadata": {
        "id": "m04Yl8zkl6qj"
      },
      "execution_count": 50,
      "outputs": []
    },
    {
      "cell_type": "code",
      "source": [
        "tp = TopicModelDataPreparation(\"multi-qa-mpnet-base-cos-v1\")\n",
        "training_dataset = tp.fit(text_for_contextual=contextualized_txt_03, text_for_bow=preprocessed_documents_from_2010)"
      ],
      "metadata": {
        "colab": {
          "base_uri": "https://localhost:8080/",
          "height": 104,
          "referenced_widgets": [
            "daba32049e564920a7747d1d2d837915",
            "f3aa5561c1d84ce4bc58f28c96a4069b",
            "120fc60744b84c34bcf5f7b406b35b1c",
            "aef261cad4b047cda7ec090e9a6ec9bd",
            "54e16c70253842c09ef71be5c7d52690",
            "021e16e453934622a13c66b65584bf17",
            "f7855ee89a0f4422a9c197aabdaf3545",
            "84c973b290854beb8765050203c88caa",
            "23072253719c411e960b31bd43a4076f",
            "ce720f5d1d63466fbc98799bc153c154",
            "24ae9a9d71d44169aada374f80849d2a"
          ]
        },
        "id": "vdDmYdt4QSu7",
        "outputId": "4c62f0a3-dd62-491a-ecf4-62f8c7d287ac"
      },
      "execution_count": 68,
      "outputs": [
        {
          "output_type": "display_data",
          "data": {
            "application/vnd.jupyter.widget-view+json": {
              "model_id": "daba32049e564920a7747d1d2d837915",
              "version_minor": 0,
              "version_major": 2
            },
            "text/plain": [
              "Batches:   0%|          | 0/3567 [00:00<?, ?it/s]"
            ]
          },
          "metadata": {}
        },
        {
          "output_type": "stream",
          "name": "stderr",
          "text": [
            "/usr/local/lib/python3.7/dist-packages/sklearn/utils/deprecation.py:87: FutureWarning: Function get_feature_names is deprecated; get_feature_names is deprecated in 1.0 and will be removed in 1.2. Please use get_feature_names_out instead.\n",
            "  warnings.warn(msg, category=FutureWarning)\n"
          ]
        }
      ]
    },
    {
      "cell_type": "code",
      "source": [
        "ctm3 = CombinedTM(bow_size=len(tp.vocab), contextual_size=768, n_components=num_ctm_topics, num_epochs=20)\n",
        "ctm3.fit(training_dataset) # run the model"
      ],
      "metadata": {
        "colab": {
          "base_uri": "https://localhost:8080/"
        },
        "id": "7Hghu1k7jb84",
        "outputId": "b369478b-e8e3-42fa-e36f-1b50a1fb5cf3"
      },
      "execution_count": 69,
      "outputs": [
        {
          "output_type": "stream",
          "name": "stderr",
          "text": [
            "Epoch: [20/20]\t Seen Samples: [14267720/14267720]\tTrain Loss: 44.330207667517456\tTime: 0:01:39.785597: : 20it [33:26, 100.34s/it]\n"
          ]
        }
      ]
    },
    {
      "cell_type": "code",
      "source": [
        "for i in range(0,8):\n",
        "    print(f'Topic {i}:', end=' ')\n",
        "    print(' '.join(ctm3.get_topic_lists(10)[i]))"
      ],
      "metadata": {
        "colab": {
          "base_uri": "https://localhost:8080/"
        },
        "id": "JgMpD7ebQmtM",
        "outputId": "0ad27fda-4b78-418c-d279-81c60a56d3d2"
      },
      "execution_count": 71,
      "outputs": [
        {
          "output_type": "stream",
          "name": "stdout",
          "text": [
            "Topic 0: adjustment selforganizing window nested simplified weighting train progressive optimum cross\n",
            "Topic 1: analysis surface data imaging land models temperature using water estimation\n",
            "Topic 2: optimization fuzzy algorithm multiobjective problem decision swarm approach genetic evolutionary\n",
            "Topic 3: image deep learning detection recognition classification neural feature segmentation images\n",
            "Topic 4: networks wireless sensor power energy cognitive cellular allocation interference spectrum\n",
            "Topic 5: nonlinear systems control linear equations class boundary equation stability fractional\n",
            "Topic 6: computing cloud smart applications internet special things issue autonomous security\n",
            "Topic 7: social information online knowledge media case role technology factors review\n"
          ]
        }
      ]
    },
    {
      "cell_type": "markdown",
      "source": [
        "### Summary "
      ],
      "metadata": {
        "id": "ccuozZJEr5ZE"
      }
    },
    {
      "cell_type": "markdown",
      "source": [
        "Now, for the three periods, we have the topics generated by both the LDA and the Contextualized Topics Model(CTM). We are going to decide whether the CTM set of topics really has higher level of coherence than the topics set generated by LDA. A long standing open question is how to quantify coherence. Coherence can be measured in numerous ways, like [Lau et al., 2014; Roder et al. ¨ , 2015](https://dl.acm.org/doi/10.1145/2684822.2685324). In this assignment, we can tell that the topics generated by CTM are more coherent by simply human observation. "
      ],
      "metadata": {
        "id": "etAKDjdJag9D"
      }
    },
    {
      "cell_type": "markdown",
      "source": [
        "Assign a name to each topic based on the topic's top words:"
      ],
      "metadata": {
        "id": "9Pkrodvw-Svm"
      }
    },
    {
      "cell_type": "markdown",
      "source": [
        "topics before 1990:"
      ],
      "metadata": {
        "id": "2D57hIzA-fh0"
      }
    },
    {
      "cell_type": "code",
      "source": [
        "for i in range(0,8):\n",
        "    print(f'Topic {i}:', end=' ')\n",
        "    print(' '.join(ctm1.get_topic_lists(20)[i]))"
      ],
      "metadata": {
        "colab": {
          "base_uri": "https://localhost:8080/"
        },
        "id": "_zYTHF9JBxQo",
        "outputId": "3cb20df9-8ecc-4b9f-ad50-8e4123b453d1"
      },
      "execution_count": 90,
      "outputs": [
        {
          "output_type": "stream",
          "name": "stdout",
          "text": [
            "Topic 0: computer review introduction research software network new simulation graphics computers technology artificial book science report intelligence operations architecture communication local\n",
            "Topic 1: note problem problems technical programming solution editor letter optimal scheduling networks solving times dynamic queues linear queue decision allocation integer\n",
            "Topic 2: system data design information distributed processing language database management expert structures chemical retrieval development interactive base systems online knowledge structure\n",
            "Topic 3: algorithm parallel algorithms sequential binary fast machines using circuits matrix detection method trees fault switching tree search efficient computing transform\n",
            "Topic 4: sets der graphs und von automata finite zur properties ein fuumlr boolean recursive uumlber die degrees automaten arithmetic eine relations\n",
            "Topic 5: control analysis systems recognition pattern adaptive using model linear optimal approach application estimation speech classification digital identification automatic image multivariable\n",
            "Topic 6: timing vehicle augmented biological multiprogramming combined priorities texts references usage disk reconfigurable magnetic emergency urban balancing signature uncertain secondary interference\n",
            "Topic 7: logic theory de languages theorem modal propositional semantics calculus set logics order symbolic grammars meeting association completeness first natural programs\n"
          ]
        }
      ]
    },
    {
      "cell_type": "markdown",
      "source": [
        "We can see that in this period, some topics generated by the CTM models are still not coherent enough or too ambiguous to show what is the topic. For example, in topic 0, there are keywords \"network\", \"architecture\",\"operations\"(more bottom layer) but there are also \"software\". However, generally for other topics, it is clear to tell what the keywords about. For example, topic 2, there are \"data\", \"system\", \"database\", \"management\", so we can tell that this topic is very likely to be \"Database System\". Other topics like \"parallel computing\",\"graph theory\" are also very clear. The last topic is interesting. It has keywords like \"languages\",\"logic\",\"semantics\",\"symbolic\",\"grammar\" so we called it \"Computational Linguistics\"."
      ],
      "metadata": {
        "id": "cnHMcjfoCJrM"
      }
    },
    {
      "cell_type": "code",
      "source": [
        "assigned_topic1=['Computer Network','Programming','Database System','Parallel Computing','Graph Theory','Control System','Multiprogramming','Computational Linguistics']\n",
        "for i in range(0,8):\n",
        "    print(str(i+1)+' '+assigned_topic1[i], end=': \\n')\n",
        "    print(' '.join(ctm1.get_topic_lists(5)[i]))\n",
        "    print('-----------------------------------------------')"
      ],
      "metadata": {
        "colab": {
          "base_uri": "https://localhost:8080/"
        },
        "id": "zaQTawbT-SNR",
        "outputId": "6122b6d4-279f-40b7-abef-2d542085a74e"
      },
      "execution_count": 97,
      "outputs": [
        {
          "output_type": "stream",
          "name": "stdout",
          "text": [
            "1 Computer Network: \n",
            "computer review introduction research software\n",
            "-----------------------------------------------\n",
            "2 Programming: \n",
            "note problem problems technical programming\n",
            "-----------------------------------------------\n",
            "3 Database System: \n",
            "system data design information distributed\n",
            "-----------------------------------------------\n",
            "4 Parallel Computing: \n",
            "algorithm parallel algorithms sequential binary\n",
            "-----------------------------------------------\n",
            "5 Graph Theory: \n",
            "sets der graphs und von\n",
            "-----------------------------------------------\n",
            "6 Control System: \n",
            "control analysis systems recognition pattern\n",
            "-----------------------------------------------\n",
            "7 Multiprogramming: \n",
            "timing vehicle augmented biological multiprogramming\n",
            "-----------------------------------------------\n",
            "8 Computational Linguistics: \n",
            "logic theory de languages theorem\n",
            "-----------------------------------------------\n"
          ]
        }
      ]
    },
    {
      "cell_type": "markdown",
      "source": [
        "topics from 1990 to 2009"
      ],
      "metadata": {
        "id": "EN0ksXHXB-Mt"
      }
    },
    {
      "cell_type": "code",
      "source": [
        "for i in range(0,8):\n",
        "    print(f'Topic {i}:', end=' ')\n",
        "    print(' '.join(ctm2.get_topic_lists(20)[i]))"
      ],
      "metadata": {
        "colab": {
          "base_uri": "https://localhost:8080/"
        },
        "id": "_SjmOwvC_H81",
        "outputId": "9be09b1b-ac42-4489-9f95-65198e010db2"
      },
      "execution_count": 92,
      "outputs": [
        {
          "output_type": "stream",
          "name": "stdout",
          "text": [
            "Topic 0: problems problem equations solution finite solutions numerical equation methods method solving order differential approximation generalized boundary functions convergence difference value\n",
            "Topic 1: theoretic rates spatially serial arrival modes simplified utilizing membership window composite cross underwater stage equivalent absolute replacement variations various transient\n",
            "Topic 2: information development case web knowledge study technology management research electronic system support collaborative paper software health business framework process online\n",
            "Topic 3: networks wireless performance sensor mobile routing scheduling protocol network traffic scheme access power distributed qos allocation atm dynamic communication packet\n",
            "Topic 4: systems control robust stability linear design adaptive uncertain nonlinear output feedback controller stabilization optimal discretetime state timevarying controllers approach delays\n",
            "Topic 5: special issue introduction computer editorial de logic intelligence book language guest semantics section review amp isbn applications advances pp conference\n",
            "Topic 6: analysis data model fuzzy neural models molecular approach classification prediction network gene modeling mining genetic application selection protein decision structure\n",
            "Topic 7: image images detection recognition segmentation using compression estimation brain speech imaging face magnetic radar reconstruction matching motion automatic sar signals\n"
          ]
        }
      ]
    },
    {
      "cell_type": "markdown",
      "source": [
        "Except topic 0 and topic 5, other topics are easy to decide. For example topic 7 includes many keywords related to computer vision, such as \"image\",\"detection\",\"segmentation\". Topic 3 includes many keywords related to Computer Networks, such as \"networks\",\"protocal\",\"traffic\"."
      ],
      "metadata": {
        "id": "u_e6W3S9QY0F"
      }
    },
    {
      "cell_type": "code",
      "source": [
        "assigned_topic1=['Programming','Memory Management','Internet technology','Computer Networks','Control System','Digitalization','Neural Networks','Computer Vision']\n",
        "for i in range(0,8):\n",
        "    print(str(i+1)+' '+assigned_topic1[i], end=': \\n')\n",
        "    print(' '.join(ctm2.get_topic_lists(5)[i]))\n",
        "    print('-----------------------------------------------')"
      ],
      "metadata": {
        "colab": {
          "base_uri": "https://localhost:8080/"
        },
        "id": "6LhC_jchCHP5",
        "outputId": "cfcd4f45-ffbc-4e54-be5f-f8909450f58b"
      },
      "execution_count": 104,
      "outputs": [
        {
          "output_type": "stream",
          "name": "stdout",
          "text": [
            "1 Programming: \n",
            "problems problem equations solution finite\n",
            "-----------------------------------------------\n",
            "2 Memory Management: \n",
            "theoretic rates spatially serial arrival\n",
            "-----------------------------------------------\n",
            "3 Internet technology: \n",
            "information development case web knowledge\n",
            "-----------------------------------------------\n",
            "4 Computer Networks: \n",
            "networks wireless performance sensor mobile\n",
            "-----------------------------------------------\n",
            "5 Control System: \n",
            "systems control robust stability linear\n",
            "-----------------------------------------------\n",
            "6 Digitalization: \n",
            "special issue introduction computer editorial\n",
            "-----------------------------------------------\n",
            "7 Neural Networks: \n",
            "analysis data model fuzzy neural\n",
            "-----------------------------------------------\n",
            "8 Computer Vision: \n",
            "image images detection recognition segmentation\n",
            "-----------------------------------------------\n"
          ]
        }
      ]
    },
    {
      "cell_type": "markdown",
      "source": [
        "topics from 2009"
      ],
      "metadata": {
        "id": "KN9BvGoTJzRx"
      }
    },
    {
      "cell_type": "code",
      "source": [
        "for i in range(0,8):\n",
        "    print(f'Topic {i}:', end=' ')\n",
        "    print(' '.join(ctm3.get_topic_lists(20)[i]))"
      ],
      "metadata": {
        "colab": {
          "base_uri": "https://localhost:8080/"
        },
        "id": "ZoBNJTBDJjTs",
        "outputId": "ea198502-8f78-4b9a-f9aa-39544b6f96fc"
      },
      "execution_count": 100,
      "outputs": [
        {
          "output_type": "stream",
          "name": "stdout",
          "text": [
            "Topic 0: adjustment selforganizing window nested simplified weighting train progressive optimum cross partition overlapping fractal impulse employing pairwise multi redundancy polar transformer\n",
            "Topic 1: analysis surface data imaging land models temperature using water estimation series forest satellite mapping modeling soil radar comparison field cover\n",
            "Topic 2: optimization fuzzy algorithm multiobjective problem decision swarm approach genetic evolutionary model hybrid particle new problems selection search programming set algorithms\n",
            "Topic 3: image deep learning detection recognition classification neural feature segmentation images representation network face convolutional object features based sparse machine fusion\n",
            "Topic 4: networks wireless sensor power energy cognitive cellular allocation interference spectrum channels channel radio protocol relay massive mimo ad cooperative communication\n",
            "Topic 5: nonlinear systems control linear equations class boundary equation stability fractional output differential finite order solutions stabilization timevarying input sliding unknown\n",
            "Topic 6: computing cloud smart applications internet special things issue autonomous security iot framework architecture editorial intelligent system big secure section environment\n",
            "Topic 7: social information online knowledge media case role technology factors review use study perspective systematic exploring students evidence behavior software health\n"
          ]
        }
      ]
    },
    {
      "cell_type": "markdown",
      "source": [
        "Except topic 0, topic 2 and topic 7, other topics are easy to decide. For example topic 4 includes many keywords related to deep learning, such as \"deep learning\",\"classification\",\"convolutional\". Topic 6 includes many keywords related to cloud computing, such as \"cloud\",\"iot\",\"security\"."
      ],
      "metadata": {
        "id": "vUkWoXRyQZpB"
      }
    },
    {
      "cell_type": "code",
      "source": [
        "assigned_topic1=['','Big Data','Optimization','Deep Learning','Networks Science','Control System','Cloud Computing','Knowledge Discovery']\n",
        "for i in range(0,8):\n",
        "    print(str(i+1)+' '+assigned_topic1[i], end=': \\n')\n",
        "    print(' '.join(ctm3.get_topic_lists(5)[i]))\n",
        "    print('-----------------------------------------------')"
      ],
      "metadata": {
        "colab": {
          "base_uri": "https://localhost:8080/"
        },
        "id": "P6QQPF_vJ4F1",
        "outputId": "096f703d-af8f-44dd-f2dc-94881a328dc0"
      },
      "execution_count": 102,
      "outputs": [
        {
          "output_type": "stream",
          "name": "stdout",
          "text": [
            "1 : \n",
            "adjustment selforganizing window nested simplified\n",
            "-----------------------------------------------\n",
            "2 Big Data: \n",
            "analysis surface data imaging land\n",
            "-----------------------------------------------\n",
            "3 Optimization: \n",
            "optimization fuzzy algorithm multiobjective problem\n",
            "-----------------------------------------------\n",
            "4 Deep Learning: \n",
            "image deep learning detection recognition\n",
            "-----------------------------------------------\n",
            "5 Networks Science: \n",
            "networks wireless sensor power energy\n",
            "-----------------------------------------------\n",
            "6 Control System: \n",
            "nonlinear systems control linear equations\n",
            "-----------------------------------------------\n",
            "7 Cloud Computing: \n",
            "computing cloud smart applications internet\n",
            "-----------------------------------------------\n",
            "8 Knowledge Discovery: \n",
            "social information online knowledge media\n",
            "-----------------------------------------------\n"
          ]
        }
      ]
    },
    {
      "cell_type": "code",
      "source": [
        ""
      ],
      "metadata": {
        "id": "Z-PKGo6CQPvr"
      },
      "execution_count": null,
      "outputs": []
    }
  ]
}