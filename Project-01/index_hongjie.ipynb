{
 "cells": [
  {
   "cell_type": "markdown",
   "metadata": {
    "id": "3yVEPrk1Ivv1"
   },
   "source": [
    "# 1. Data Acquisition"
   ]
  },
  {
   "cell_type": "code",
   "execution_count": 21,
   "metadata": {
    "id": "VeqaduiPIKml"
   },
   "outputs": [],
   "source": [
    "import csv\n",
    "import re\n",
    "import numpy as np\n",
    "import pandas as pd\n",
    "from io import StringIO\n",
    "import requests\n"
   ]
  },
  {
   "cell_type": "code",
   "execution_count": 22,
   "metadata": {
    "id": "xDy4-kWmIKjv"
   },
   "outputs": [],
   "source": [
    "url_train_dev = 'https://docs.google.com/spreadsheets/d/e/2PACX-1vTOZ2rC82rhNsJduoyKYTsVeH6ukd7Bpxvxn_afOibn3R-eadZGXu82eCU9IRpl4CK_gefEGsYrA_oM/pub?gid=1863430984&single=true&output=tsv'\n",
    "url_test = 'https://docs.google.com/spreadsheets/d/e/2PACX-1vT-KNR9nuYatLkSbzSRgpz6Ku1n4TN4w6kKmFLkA6QJHTfQzmX0puBsLF7PAAQJQAxUpgruDd_RRgK7/pub?gid=417546901&single=true&output=tsv'"
   ]
  },
  {
   "cell_type": "code",
   "execution_count": 23,
   "metadata": {
    "id": "14FjR5UcIYmZ"
   },
   "outputs": [],
   "source": [
    "def load_dataset(url):\n",
    "    r = requests.get(url)\n",
    "    data = r.content.decode('utf8')\n",
    "    df = pd.read_csv(StringIO(data), sep='\\t')\n",
    "    df.columns = ['tweet', 'label']\n",
    "    return df"
   ]
  },
  {
   "cell_type": "code",
   "execution_count": 24,
   "metadata": {
    "id": "VWAGGk-VIZou"
   },
   "outputs": [],
   "source": [
    "df_train_dev = load_dataset(url_train_dev)\n",
    "df_test = load_dataset(url_test)"
   ]
  },
  {
   "cell_type": "code",
   "execution_count": 25,
   "metadata": {
    "colab": {
     "base_uri": "https://localhost:8080/"
    },
    "id": "DyiY9uO1IZ95",
    "outputId": "b2ce7b21-c12e-41f8-cb15-cfb4a60b9579"
   },
   "outputs": [
    {
     "name": "stdout",
     "output_type": "stream",
     "text": [
      "<class 'pandas.core.frame.DataFrame'>\n",
      "RangeIndex: 52675 entries, 0 to 52674\n",
      "Data columns (total 2 columns):\n",
      " #   Column  Non-Null Count  Dtype \n",
      "---  ------  --------------  ----- \n",
      " 0   tweet   52675 non-null  object\n",
      " 1   label   52675 non-null  object\n",
      "dtypes: object(2)\n",
      "memory usage: 823.2+ KB\n"
     ]
    }
   ],
   "source": [
    "df_train_dev.info()"
   ]
  },
  {
   "cell_type": "code",
   "execution_count": 26,
   "metadata": {
    "colab": {
     "base_uri": "https://localhost:8080/",
     "height": 206
    },
    "id": "yfw06FgXIKgj",
    "outputId": "6ebf52cf-2bcd-437e-8808-f3d82bed73cf"
   },
   "outputs": [
    {
     "data": {
      "text/html": [
       "<div>\n",
       "<style scoped>\n",
       "    .dataframe tbody tr th:only-of-type {\n",
       "        vertical-align: middle;\n",
       "    }\n",
       "\n",
       "    .dataframe tbody tr th {\n",
       "        vertical-align: top;\n",
       "    }\n",
       "\n",
       "    .dataframe thead th {\n",
       "        text-align: right;\n",
       "    }\n",
       "</style>\n",
       "<table border=\"1\" class=\"dataframe\">\n",
       "  <thead>\n",
       "    <tr style=\"text-align: right;\">\n",
       "      <th></th>\n",
       "      <th>tweet</th>\n",
       "      <th>label</th>\n",
       "    </tr>\n",
       "  </thead>\n",
       "  <tbody>\n",
       "    <tr>\n",
       "      <th>0</th>\n",
       "      <td>يا من أناديها ويخنقني البكاء  ويكاد صمت الدمع ...</td>\n",
       "      <td>ar</td>\n",
       "    </tr>\n",
       "    <tr>\n",
       "      <th>1</th>\n",
       "      <td>فيه فرق بين اهل غزة اللى مطحونين من ناحيتين وب...</td>\n",
       "      <td>ar</td>\n",
       "    </tr>\n",
       "    <tr>\n",
       "      <th>2</th>\n",
       "      <td>ﻋﻦ ﺍﻟﻠﺤﻈﺔ اﻟﺤﻠﻮﺓﺓ ﺍﻟﻠﻲ ﺑﺘﻐﻤﺾ ﻓﻴﻬﺎ ﻋﻴﻨﻴﻚ ﺑﺘﻔﻜﺮ ...</td>\n",
       "      <td>ar</td>\n",
       "    </tr>\n",
       "    <tr>\n",
       "      <th>3</th>\n",
       "      <td>يا ابو سلو عرفتني</td>\n",
       "      <td>ar</td>\n",
       "    </tr>\n",
       "    <tr>\n",
       "      <th>4</th>\n",
       "      <td>ب50 ريال أكفل معتمر في رمضان ، ولك بإذن الله م...</td>\n",
       "      <td>ar</td>\n",
       "    </tr>\n",
       "  </tbody>\n",
       "</table>\n",
       "</div>"
      ],
      "text/plain": [
       "                                               tweet label\n",
       "0  يا من أناديها ويخنقني البكاء  ويكاد صمت الدمع ...    ar\n",
       "1  فيه فرق بين اهل غزة اللى مطحونين من ناحيتين وب...    ar\n",
       "2  ﻋﻦ ﺍﻟﻠﺤﻈﺔ اﻟﺤﻠﻮﺓﺓ ﺍﻟﻠﻲ ﺑﺘﻐﻤﺾ ﻓﻴﻬﺎ ﻋﻴﻨﻴﻚ ﺑﺘﻔﻜﺮ ...    ar\n",
       "3                                  يا ابو سلو عرفتني    ar\n",
       "4  ب50 ريال أكفل معتمر في رمضان ، ولك بإذن الله م...    ar"
      ]
     },
     "execution_count": 26,
     "metadata": {},
     "output_type": "execute_result"
    }
   ],
   "source": [
    "df_train_dev.head()"
   ]
  },
  {
   "cell_type": "code",
   "execution_count": 27,
   "metadata": {
    "colab": {
     "base_uri": "https://localhost:8080/"
    },
    "id": "flcOXUKgIGzY",
    "outputId": "68dffc81-80c6-4808-f1d0-6fcb2da102f1"
   },
   "outputs": [
    {
     "data": {
      "text/plain": [
       "array(['ar', 'ar_LATN', 'az', 'bg', 'bn', 'bs', 'ca', 'cs', 'cy', 'da',\n",
       "       'de', 'dv', 'el', 'en', 'es', 'et', 'fa', 'fi', 'fr', 'gl', 'ha',\n",
       "       'he', 'hi', 'hi-Latn', 'hr', 'ht', 'hu', 'hy', 'id', 'is', 'it',\n",
       "       'ja', 'ja_LATN', 'jv', 'km', 'ko', 'ko_LATN', 'ms', 'ne', 'nl',\n",
       "       'no', 'pl', 'ps', 'ps_LATN', 'pt', 'ro', 'ru', 'si', 'sl', 'sq',\n",
       "       'sr', 'su', 'sv', 'sw', 'ta', 'ta_LATN', 'th', 'tl', 'tn', 'tr',\n",
       "       'uk', 'und', 'ur', 'ur_LATN', 'vi', 'wo', 'xh', 'zh-CN', 'zh-TW'],\n",
       "      dtype=object)"
      ]
     },
     "execution_count": 27,
     "metadata": {},
     "output_type": "execute_result"
    }
   ],
   "source": [
    "df_train_dev.label.unique()"
   ]
  },
  {
   "cell_type": "code",
   "execution_count": 28,
   "metadata": {
    "colab": {
     "base_uri": "https://localhost:8080/"
    },
    "id": "ylH6i7B_IiEL",
    "outputId": "09853370-6241-4687-cbb5-3e065cdac474"
   },
   "outputs": [
    {
     "data": {
      "text/plain": [
       "label\n",
       "ar          2199\n",
       "ar_LATN       12\n",
       "az             1\n",
       "bg             2\n",
       "bn             8\n",
       "bs             4\n",
       "ca            22\n",
       "cs             4\n",
       "cy             1\n",
       "da             7\n",
       "de           171\n",
       "dv             1\n",
       "el            28\n",
       "en         18508\n",
       "es          5930\n",
       "et             2\n",
       "fa            18\n",
       "fi            15\n",
       "fr           946\n",
       "gl             3\n",
       "ha             1\n",
       "he            27\n",
       "hi            16\n",
       "hi-Latn       15\n",
       "hr             5\n",
       "ht             2\n",
       "hu            15\n",
       "hy             2\n",
       "id          3006\n",
       "is             1\n",
       "it           339\n",
       "ja         10421\n",
       "ja_LATN        1\n",
       "jv            10\n",
       "km             2\n",
       "ko           458\n",
       "ko_LATN        1\n",
       "ms           119\n",
       "ne             5\n",
       "nl           182\n",
       "no            11\n",
       "pl            93\n",
       "ps             1\n",
       "ps_LATN        1\n",
       "pt          2878\n",
       "ro            12\n",
       "ru           978\n",
       "si             1\n",
       "sl             2\n",
       "sq             9\n",
       "sr            22\n",
       "su            10\n",
       "sv            54\n",
       "sw             6\n",
       "ta             9\n",
       "ta_LATN        1\n",
       "th           462\n",
       "tl           320\n",
       "tn             1\n",
       "tr           669\n",
       "uk            16\n",
       "und         4537\n",
       "ur             7\n",
       "ur_LATN       12\n",
       "vi            16\n",
       "wo             1\n",
       "xh             1\n",
       "zh-CN         25\n",
       "zh-TW         10\n",
       "dtype: int64"
      ]
     },
     "execution_count": 28,
     "metadata": {},
     "output_type": "execute_result"
    }
   ],
   "source": [
    "pd.set_option('display.max_rows', 500)  \n",
    "pd.set_option('display.max_columns', 500)   \n",
    "pd.set_option('display.width', 4000)        \n",
    "df_train_dev.groupby('label').size()"
   ]
  },
  {
   "cell_type": "markdown",
   "metadata": {
    "id": "FFp9mg6b5weg"
   },
   "source": [
    "# 2.Data Augmentation"
   ]
  },
  {
   "cell_type": "markdown",
   "metadata": {
    "id": "rIrKnkJQ6FQ2"
   },
   "source": [
    "## 2.1 Back translation"
   ]
  },
  {
   "cell_type": "code",
   "execution_count": null,
   "metadata": {
    "id": "isQllvdnBNjy"
   },
   "outputs": [],
   "source": [
    "pip install transformers\n",
    "pip install mosestokenizer\n",
    "pip install SentencePiece"
   ]
  },
  {
   "cell_type": "code",
   "execution_count": 8,
   "metadata": {
    "id": "bd9bQWlWBE4K"
   },
   "outputs": [],
   "source": [
    "import transformers, mosestokenizer"
   ]
  },
  {
   "cell_type": "code",
   "execution_count": 16,
   "metadata": {
    "id": "zlKxqKom6GON"
   },
   "outputs": [],
   "source": [
    "from transformers import MarianMTModel, MarianTokenizer\n",
    "\n",
    "# Helper function to download data for a language\n",
    "def download(model_name):\n",
    "    tokenizer = MarianTokenizer.from_pretrained(model_name)\n",
    "    model = MarianMTModel.from_pretrained(model_name)\n",
    "    return tokenizer, model\n",
    "\n",
    "\n",
    "\n",
    "# download model for English -> Romance\n",
    "#tmp_lang_tokenizer, tmp_lang_model = download('Helsinki-NLP/opus-mt-en-ROMANCE')\n",
    "# download model for Romance -> English\n",
    "#src_lang_tokenizer, src_lang_model = download('Helsinki-NLP/opus-mt-ROMANCE-en')\n",
    "\n",
    "\n",
    "\n",
    "def translate(texts, model, tokenizer, language):\n",
    "    \"\"\"Translate texts into a target language\"\"\"\n",
    "    # Format the text as expected by the model\n",
    "    formatter_fn = lambda txt: f\"{txt}\" if language == \"en\" else f\">>{language}<< {txt}\"\n",
    "    original_texts = [formatter_fn(txt) for txt in texts]\n",
    "\n",
    "    # Tokenize (text to tokens)\n",
    "    tokens = tokenizer.prepare_seq2seq_batch(original_texts)\n",
    "\n",
    "    # Translate\n",
    "    translated = model.generate(**tokens)\n",
    "\n",
    "    # Decode (tokens to text)\n",
    "    translated_texts = tokenizer.batch_decode(translated, skip_special_tokens=True)\n",
    "\n",
    "    return translated_texts\n",
    "\n",
    "\n",
    "def back_translate(texts, language_src, language_dst):\n",
    "    \"\"\"Implements back translation\"\"\"\n",
    "    # Translate from source to target language\n",
    "    translated = translate(texts, tmp_lang_model, tmp_lang_tokenizer, language_dst)\n",
    "\n",
    "    # Translate from target language back to source language\n",
    "    back_translated = translate(translated, src_lang_model, src_lang_tokenizer, language_src)\n",
    "\n",
    "    return back_translated\n",
    "\n",
    "\n"
   ]
  },
  {
   "cell_type": "code",
   "execution_count": 29,
   "metadata": {
    "colab": {
     "base_uri": "https://localhost:8080/",
     "height": 200
    },
    "id": "1TROFkqPCrox",
    "outputId": "7a1a18c5-2e4a-4078-d68d-25aff2a186ae"
   },
   "outputs": [
    {
     "ename": "AttributeError",
     "evalue": "ignored",
     "output_type": "error",
     "traceback": [
      "\u001b[0;31m---------------------------------------------------------------------------\u001b[0m",
      "\u001b[0;31mAttributeError\u001b[0m                            Traceback (most recent call last)",
      "\u001b[0;32m<ipython-input-29-02880439e212>\u001b[0m in \u001b[0;36m<module>\u001b[0;34m()\u001b[0m\n\u001b[1;32m      1\u001b[0m \u001b[0mmodel_name\u001b[0m \u001b[0;34m=\u001b[0m \u001b[0;34m'Helsinki-NLP/opus-mt-aav-en'\u001b[0m\u001b[0;34m\u001b[0m\u001b[0;34m\u001b[0m\u001b[0m\n\u001b[1;32m      2\u001b[0m \u001b[0mtokenizer\u001b[0m \u001b[0;34m=\u001b[0m \u001b[0mMarianTokenizer\u001b[0m\u001b[0;34m.\u001b[0m\u001b[0mfrom_pretrained\u001b[0m\u001b[0;34m(\u001b[0m\u001b[0mmodel_name\u001b[0m\u001b[0;34m)\u001b[0m\u001b[0;34m\u001b[0m\u001b[0;34m\u001b[0m\u001b[0m\n\u001b[0;32m----> 3\u001b[0;31m \u001b[0mtokenizer\u001b[0m\u001b[0;34m.\u001b[0m\u001b[0msupported_language_codes\u001b[0m\u001b[0;34m\u001b[0m\u001b[0;34m\u001b[0m\u001b[0m\n\u001b[0m",
      "\u001b[0;31mAttributeError\u001b[0m: 'NoneType' object has no attribute 'supported_language_codes'"
     ]
    }
   ],
   "source": [
    "model_name = 'Helsinki-NLP/opus-mt-aav-en'\n",
    "tokenizer = MarianTokenizer.from_pretrained(model_name)\n",
    "tokenizer.supported_language_codes"
   ]
  },
  {
   "cell_type": "code",
   "execution_count": 30,
   "metadata": {
    "colab": {
     "base_uri": "https://localhost:8080/",
     "height": 424
    },
    "id": "C6SAY2P5DvRv",
    "outputId": "e2076b11-2e16-4921-fe61-d931ff67274d"
   },
   "outputs": [
    {
     "data": {
      "text/html": [
       "<div>\n",
       "<style scoped>\n",
       "    .dataframe tbody tr th:only-of-type {\n",
       "        vertical-align: middle;\n",
       "    }\n",
       "\n",
       "    .dataframe tbody tr th {\n",
       "        vertical-align: top;\n",
       "    }\n",
       "\n",
       "    .dataframe thead th {\n",
       "        text-align: right;\n",
       "    }\n",
       "</style>\n",
       "<table border=\"1\" class=\"dataframe\">\n",
       "  <thead>\n",
       "    <tr style=\"text-align: right;\">\n",
       "      <th></th>\n",
       "      <th>tweet</th>\n",
       "      <th>label</th>\n",
       "    </tr>\n",
       "  </thead>\n",
       "  <tbody>\n",
       "    <tr>\n",
       "      <th>0</th>\n",
       "      <td>يا من أناديها ويخنقني البكاء  ويكاد صمت الدمع ...</td>\n",
       "      <td>ar</td>\n",
       "    </tr>\n",
       "    <tr>\n",
       "      <th>1</th>\n",
       "      <td>فيه فرق بين اهل غزة اللى مطحونين من ناحيتين وب...</td>\n",
       "      <td>ar</td>\n",
       "    </tr>\n",
       "    <tr>\n",
       "      <th>2</th>\n",
       "      <td>ﻋﻦ ﺍﻟﻠﺤﻈﺔ اﻟﺤﻠﻮﺓﺓ ﺍﻟﻠﻲ ﺑﺘﻐﻤﺾ ﻓﻴﻬﺎ ﻋﻴﻨﻴﻚ ﺑﺘﻔﻜﺮ ...</td>\n",
       "      <td>ar</td>\n",
       "    </tr>\n",
       "    <tr>\n",
       "      <th>3</th>\n",
       "      <td>يا ابو سلو عرفتني</td>\n",
       "      <td>ar</td>\n",
       "    </tr>\n",
       "    <tr>\n",
       "      <th>4</th>\n",
       "      <td>ب50 ريال أكفل معتمر في رمضان ، ولك بإذن الله م...</td>\n",
       "      <td>ar</td>\n",
       "    </tr>\n",
       "    <tr>\n",
       "      <th>...</th>\n",
       "      <td>...</td>\n",
       "      <td>...</td>\n",
       "    </tr>\n",
       "    <tr>\n",
       "      <th>52670</th>\n",
       "      <td>其實我很想問，噗浪怎麼鎖回應然後又開啟的#### http://t.co/sQBh6jmVoW</td>\n",
       "      <td>zh-TW</td>\n",
       "    </tr>\n",
       "    <tr>\n",
       "      <th>52671</th>\n",
       "      <td>我喜歡一部 @YouTube 影片 http://t.co/Kouv0xaEos FIGHT...</td>\n",
       "      <td>zh-TW</td>\n",
       "    </tr>\n",
       "    <tr>\n",
       "      <th>52672</th>\n",
       "      <td>一分鐘世界盃！http://t.co/yEvaMrp7ki</td>\n",
       "      <td>zh-TW</td>\n",
       "    </tr>\n",
       "    <tr>\n",
       "      <th>52673</th>\n",
       "      <td>{CWB} 桃園縣 一週天氣預報(07/27 05:00發布): 07/27 白天 溫度:2...</td>\n",
       "      <td>zh-TW</td>\n",
       "    </tr>\n",
       "    <tr>\n",
       "      <th>52674</th>\n",
       "      <td>這個週末兩天都跟 Navel 很有緣...</td>\n",
       "      <td>zh-TW</td>\n",
       "    </tr>\n",
       "  </tbody>\n",
       "</table>\n",
       "<p>52675 rows × 2 columns</p>\n",
       "</div>"
      ],
      "text/plain": [
       "                                                   tweet  label\n",
       "0      يا من أناديها ويخنقني البكاء  ويكاد صمت الدمع ...     ar\n",
       "1      فيه فرق بين اهل غزة اللى مطحونين من ناحيتين وب...     ar\n",
       "2      ﻋﻦ ﺍﻟﻠﺤﻈﺔ اﻟﺤﻠﻮﺓﺓ ﺍﻟﻠﻲ ﺑﺘﻐﻤﺾ ﻓﻴﻬﺎ ﻋﻴﻨﻴﻚ ﺑﺘﻔﻜﺮ ...     ar\n",
       "3                                      يا ابو سلو عرفتني     ar\n",
       "4      ب50 ريال أكفل معتمر في رمضان ، ولك بإذن الله م...     ar\n",
       "...                                                  ...    ...\n",
       "52670    其實我很想問，噗浪怎麼鎖回應然後又開啟的#### http://t.co/sQBh6jmVoW  zh-TW\n",
       "52671  我喜歡一部 @YouTube 影片 http://t.co/Kouv0xaEos FIGHT...  zh-TW\n",
       "52672                      一分鐘世界盃！http://t.co/yEvaMrp7ki  zh-TW\n",
       "52673  {CWB} 桃園縣 一週天氣預報(07/27 05:00發布): 07/27 白天 溫度:2...  zh-TW\n",
       "52674                              這個週末兩天都跟 Navel 很有緣...  zh-TW\n",
       "\n",
       "[52675 rows x 2 columns]"
      ]
     },
     "execution_count": 30,
     "metadata": {},
     "output_type": "execute_result"
    }
   ],
   "source": [
    "language_code_list =df_train_dev['label'].unique\n",
    "\n",
    "def get_one_language_data(df, n):\n",
    "  #get the n'th set of language from df_train_dev\n",
    "  df_one_lang=df[df['label'].isin([language_code_list[n]])]\n",
    "  return df_one_lang\n",
    "\n",
    "def generate_new_rows(df_one_lang):\n",
    "  lable=df_one_lang['label']\n",
    "  df_one_lang_new = pd.DataFrame(columns=['text','label'])\n",
    "  for rows in df_one_lang.itterows():\n",
    "    new_lang = back_translate(df_one_lang['text'],label,'en')\n",
    "    df_one_lang_new.append({'text':new_lang,'label'label})\n",
    "    df_one_lang=df_one_lang.append(df_one_lang_new)\n",
    "  return df_one_lang\n",
    "\n",
    "def augdata_by_back_translation(df):\n",
    "  df_new = pd.DataFrame(columns=['text','label'])\n",
    "  for n in range(0,len(language_code_list)):\n",
    "    df_one_lang_new = generate_new_rows(get_one_language_data(df,n))\n",
    "    df_new = df_new.append(df_one_lang_new)\n",
    "  return df_new\n",
    "\n"
   ]
  },
  {
   "attachments": {
    "back_translation.png": {
     "image/png": "[encoded data removed]"
    }
   },
   "cell_type": "markdown",
   "metadata": {},
   "source": [
    "![back_translation.png](attachment:back_translation.png)"
   ]
  },
  {
   "cell_type": "code",
   "execution_count": null,
   "metadata": {},
   "outputs": [],
   "source": []
  },
  {
   "cell_type": "markdown",
   "metadata": {
    "id": "-w203pWaLQHc"
   },
   "source": [
    "## 2.2 Bigram flipping\n",
    "\n",
    "\n",
    "\n",
    "\n",
    "\n",
    "\n",
    "\n",
    "\n",
    "\n",
    "\n",
    "\n",
    "\n"
   ]
  },
  {
   "cell_type": "code",
   "execution_count": null,
   "metadata": {
    "id": "oaGC3PJqMitW"
   },
   "outputs": [],
   "source": [
    "def augdata_by_bigram_flipping(df):\n",
    "\n",
    "  return df_new"
   ]
  },
  {
   "cell_type": "markdown",
   "metadata": {
    "id": "dtt_ulLmMQsy"
   },
   "source": [
    "##  2.3 Replacing Entities"
   ]
  },
  {
   "cell_type": "code",
   "execution_count": 31,
   "metadata": {
    "id": "NgcHgHxNMWgv"
   },
   "outputs": [],
   "source": [
    "def augdata_by_replacing_entities(df):\n",
    "\n",
    "  return df_new"
   ]
  },
  {
   "cell_type": "markdown",
   "metadata": {
    "id": "ljOr5flpMXOR"
   },
   "source": [
    "# 3.Text Cleaning "
   ]
  },
  {
   "cell_type": "code",
   "execution_count": null,
   "metadata": {
    "id": "H_FysLekMYC-"
   },
   "outputs": [],
   "source": []
  },
  {
   "cell_type": "code",
   "execution_count": null,
   "metadata": {
    "id": "jN4Yixr4MYdS"
   },
   "outputs": [],
   "source": []
  },
  {
   "cell_type": "markdown",
   "metadata": {
    "id": "PxvhXe7FMm_O"
   },
   "source": [
    "# 4.Pre-Processing"
   ]
  },
  {
   "cell_type": "code",
   "execution_count": null,
   "metadata": {
    "id": "iOPUlDj0MxYp"
   },
   "outputs": [],
   "source": []
  },
  {
   "cell_type": "markdown",
   "metadata": {
    "id": "vurheEapMyML"
   },
   "source": [
    "# 5.Feature Engineering\n"
   ]
  },
  {
   "cell_type": "code",
   "execution_count": null,
   "metadata": {
    "id": "CR86BhAaM2cx"
   },
   "outputs": [],
   "source": []
  },
  {
   "cell_type": "markdown",
   "metadata": {
    "id": "Tyc0hYa-M3cV"
   },
   "source": [
    "# 6.Modeling "
   ]
  },
  {
   "cell_type": "code",
   "execution_count": null,
   "metadata": {
    "id": "D3VVKnZsM60K"
   },
   "outputs": [],
   "source": []
  },
  {
   "cell_type": "markdown",
   "metadata": {
    "id": "iCP5CkP_M7eu"
   },
   "source": [
    "#7.Evaluation"
   ]
  },
  {
   "cell_type": "code",
   "execution_count": null,
   "metadata": {
    "id": "A6YDEr1MNBJr"
   },
   "outputs": [],
   "source": []
  }
 ],
 "metadata": {
  "colab": {
   "collapsed_sections": [],
   "name": "index_hongjie.ipynb",
   "provenance": []
  },
  "kernelspec": {
   "display_name": "Python 3",
   "language": "python",
   "name": "python3"
  },
  "language_info": {
   "codemirror_mode": {
    "name": "ipython",
    "version": 3
   },
   "file_extension": ".py",
   "mimetype": "text/x-python",
   "name": "python",
   "nbconvert_exporter": "python",
   "pygments_lexer": "ipython3",
   "version": "3.6.9"
  },
  "varInspector": {
   "cols": {
    "lenName": 16,
    "lenType": 16,
    "lenVar": 40
   },
   "kernels_config": {
    "python": {
     "delete_cmd_postfix": "",
     "delete_cmd_prefix": "del ",
     "library": "var_list.py",
     "varRefreshCmd": "print(var_dic_list())"
    },
    "r": {
     "delete_cmd_postfix": ") ",
     "delete_cmd_prefix": "rm(",
     "library": "var_list.r",
     "varRefreshCmd": "cat(var_dic_list()) "
    }
   },
   "types_to_exclude": [
    "module",
    "function",
    "builtin_function_or_method",
    "instance",
    "_Feature"
   ],
   "window_display": false
  }
 },
 "nbformat": 4,
 "nbformat_minor": 1
}
