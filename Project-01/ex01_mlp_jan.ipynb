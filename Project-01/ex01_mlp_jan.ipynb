{
  "nbformat": 4,
  "nbformat_minor": 0,
  "metadata": {
    "colab": {
      "name": "ex01_mlp_jan.ipynb",
      "provenance": [],
      "collapsed_sections": [],
      "include_colab_link": true
    },
    "kernelspec": {
      "display_name": "Python 3 (ipykernel)",
      "language": "python",
      "name": "python3"
    },
    "language_info": {
      "codemirror_mode": {
        "name": "ipython",
        "version": 3
      },
      "file_extension": ".py",
      "mimetype": "text/x-python",
      "name": "python",
      "nbconvert_exporter": "python",
      "pygments_lexer": "ipython3",
      "version": "3.9.7"
    }
  },
  "cells": [
    {
      "cell_type": "markdown",
      "metadata": {
        "id": "view-in-github",
        "colab_type": "text"
      },
      "source": [
        "<a href=\"https://colab.research.google.com/github/jan-kreischer/UZH_ML4NLP/blob/main/Project-01/ex01_mlp_jan.ipynb\" target=\"_parent\"><img src=\"https://colab.research.google.com/assets/colab-badge.svg\" alt=\"Open In Colab\"/></a>"
      ]
    },
    {
      "cell_type": "markdown",
      "metadata": {
        "id": "5mUlNUnJ4Ljk"
      },
      "source": [
        "# Exercise 01 - Part 02"
      ]
    },
    {
      "cell_type": "markdown",
      "metadata": {
        "id": "sxRcPsF_tMOO"
      },
      "source": [
        "## Importing all the libraries"
      ]
    },
    {
      "cell_type": "code",
      "metadata": {
        "id": "ynDK5thyzl_v"
      },
      "source": [
        "import csv\n",
        "import re\n",
        "import numpy as np\n",
        "\n",
        "import pandas as pd\n",
        "pd.set_option('display.max_rows', 200)  \n",
        "pd.set_option('display.max_columns', 200)   \n",
        "pd.set_option('display.width', 4000) \n",
        "\n",
        "from io import StringIO\n",
        "import requests\n",
        "import matplotlib.pyplot as plt\n",
        "\n",
        "import warnings\n",
        "\n",
        "from sklearn.model_selection import train_test_split\n",
        "from sklearn.pipeline import Pipeline\n",
        "from sklearn.feature_extraction.text import TfidfVectorizer\n",
        "from sklearn.neural_network import MLPClassifier\n",
        "from sklearn.model_selection import GridSearchCV\n",
        "from sklearn.metrics import classification_report\n",
        "\n",
        "warnings.filterwarnings('ignore')"
      ],
      "execution_count": 27,
      "outputs": []
    },
    {
      "cell_type": "markdown",
      "metadata": {
        "id": "NfzPwQnN2eHY"
      },
      "source": [
        "## 1. Data Acquisition\n",
        "In this assignment we are not going to do all the data cleaning and preprocessing again.  \n",
        "We are just loading the saved dataset from the first exercise."
      ]
    },
    {
      "cell_type": "code",
      "metadata": {
        "id": "alVvFkGn2uih"
      },
      "source": [
        "dataset = pd.read_csv('./dataset.csv')"
      ],
      "execution_count": 7,
      "outputs": []
    },
    {
      "cell_type": "code",
      "metadata": {
        "colab": {
          "base_uri": "https://localhost:8080/"
        },
        "id": "3g2XQFLeBClK",
        "outputId": "31fa8b07-4bea-48a9-e7fa-40a7d08a9dff"
      },
      "source": [
        "dataset.shape"
      ],
      "execution_count": 9,
      "outputs": [
        {
          "output_type": "execute_result",
          "data": {
            "text/plain": [
              "(67642, 2)"
            ]
          },
          "metadata": {},
          "execution_count": 9
        }
      ]
    },
    {
      "cell_type": "code",
      "metadata": {
        "id": "DiQ-3-7AtMO0"
      },
      "source": [
        "pd.options.display.max_rows = 100"
      ],
      "execution_count": null,
      "outputs": []
    },
    {
      "cell_type": "markdown",
      "metadata": {
        "id": "iMTSM4istMQw"
      },
      "source": [
        "## Splitting the dataset into training & verification datasets"
      ]
    },
    {
      "cell_type": "code",
      "metadata": {
        "id": "6oyQ6eZbCeUX"
      },
      "source": [
        "TARGET_COLUMN = 'label'\n",
        "TWEET_COLUMN = 'tweet'"
      ],
      "execution_count": 13,
      "outputs": []
    },
    {
      "cell_type": "code",
      "metadata": {
        "id": "tbNPDezQCVpH"
      },
      "source": [
        "X = dataset[TWEET_COLUMN]\n",
        "y = dataset[TARGET_COLUMN]\n",
        "X_train, X_test, y_train, y_test = train_test_split(X, y, test_size=0.1, shuffle=True)"
      ],
      "execution_count": 14,
      "outputs": []
    },
    {
      "cell_type": "markdown",
      "metadata": {
        "id": "0UfmSwvltMRQ"
      },
      "source": [
        "### Creating Pipeline for MLP Classifier"
      ]
    },
    {
      "cell_type": "code",
      "metadata": {
        "id": "8gq1DtZktMRR"
      },
      "source": [
        "mlp_clf = Pipeline([('tfidf', TfidfVectorizer()),\n",
        "                     ('clf', MLPClassifier(early_stopping=True)),\n",
        "])"
      ],
      "execution_count": 17,
      "outputs": []
    },
    {
      "cell_type": "code",
      "metadata": {
        "colab": {
          "base_uri": "https://localhost:8080/"
        },
        "id": "SVLkwtXcHaVL",
        "outputId": "d5904858-ffaa-4c17-d51b-40936c2da035"
      },
      "source": [
        "parameters = {\n",
        "        'tfidf__ngram_range' : [(1,3)],\n",
        "        'tfidf__analyzer': ['char'],\n",
        "        'clf__hidden_layer_sizes': [100],\n",
        "        'clf__solver': ['adam', 'sgd'],\n",
        "        'clf__activation': ['tanh', 'relu'],\n",
        "}\n",
        "gs_mlp_clf = GridSearchCV(mlp_clf, parameters, cv=5, n_jobs=-1, verbose=10)\n",
        "gs_mlp_clf.fit(X_train, y_train)"
      ],
      "execution_count": null,
      "outputs": [
        {
          "output_type": "stream",
          "name": "stdout",
          "text": [
            "Fitting 5 folds for each of 4 candidates, totalling 20 fits\n"
          ]
        },
        {
          "output_type": "stream",
          "name": "stderr",
          "text": [
            "[Parallel(n_jobs=-1)]: Using backend LokyBackend with 2 concurrent workers.\n"
          ]
        }
      ]
    },
    {
      "cell_type": "code",
      "metadata": {
        "id": "zLHKZdTfKaCd"
      },
      "source": [
        "for param_name in sorted(parameters.keys()):\n",
        "  print(\"%s: %r\" % (param_name, gs_mlp_clf.best_params_[param_name]))"
      ],
      "execution_count": null,
      "outputs": []
    },
    {
      "cell_type": "code",
      "metadata": {
        "id": "b96JXymfH6RD"
      },
      "source": [
        "parameters = {\n",
        "        'tfidf__ngram_range' : [(1,4)],\n",
        "        'tfidf__analyzer': ['char'],\n",
        "        'clf__hidden_layer_sizes': [100],\n",
        "        'clf__solver': ['adam', 'sgd'],\n",
        "        'clf__activation': ['tanh', 'relu'],\n",
        "}\n",
        "gs_mlp_clf = GridSearchCV(mlp_clf, parameters, cv=5, n_jobs=-1, verbose=10)\n",
        "gs_mlp_clf.fit(X_train, y_train)"
      ],
      "execution_count": null,
      "outputs": []
    },
    {
      "cell_type": "code",
      "metadata": {
        "id": "8vGJkABBKfvW"
      },
      "source": [
        "for param_name in sorted(parameters.keys()):\n",
        "  print(\"%s: %r\" % (param_name, gs_mlp_clf.best_params_[param_name]))"
      ],
      "execution_count": null,
      "outputs": []
    },
    {
      "cell_type": "markdown",
      "metadata": {
        "id": "OS3IIy77Kmd0"
      },
      "source": [
        "# TO BE RUN BY HONGJIE"
      ]
    },
    {
      "cell_type": "code",
      "metadata": {
        "id": "Iwt27U6RH7Jo"
      },
      "source": [
        "parameters = {\n",
        "        'tfidf__ngram_range' : [(1,3)],\n",
        "        'tfidf__analyzer': ['char'],\n",
        "        'clf__hidden_layer_sizes': [500],\n",
        "        'clf__solver': ['adam', 'sgd'],\n",
        "        'clf__activation': ['tanh', 'relu'],\n",
        "}\n",
        "gs_mlp_clf = GridSearchCV(mlp_clf, parameters, cv=5, n_jobs=-1, verbose=10)\n",
        "gs_mlp_clf.fit(X_train, y_train)"
      ],
      "execution_count": null,
      "outputs": []
    },
    {
      "cell_type": "code",
      "metadata": {
        "id": "dz_e0rCVKgbT"
      },
      "source": [
        "for param_name in sorted(parameters.keys()):\n",
        "  print(\"%s: %r\" % (param_name, gs_mlp_clf.best_params_[param_name]))"
      ],
      "execution_count": null,
      "outputs": []
    },
    {
      "cell_type": "code",
      "metadata": {
        "id": "rRP4-3z1H7u-"
      },
      "source": [
        "parameters = {\n",
        "        'tfidf__ngram_range' : [(1,4)],\n",
        "        'tfidf__analyzer': ['char'],\n",
        "        'clf__hidden_layer_sizes': [500],\n",
        "        'clf__solver': ['adam', 'sgd'],\n",
        "        'clf__activation': ['tanh', 'relu'],\n",
        "}\n",
        "gs_mlp_clf = GridSearchCV(mlp_clf, parameters, cv=5, n_jobs=-1, verbose=10)\n",
        "gs_mlp_clf.fit(X_train, y_train)"
      ],
      "execution_count": null,
      "outputs": []
    },
    {
      "cell_type": "code",
      "metadata": {
        "id": "qVSUWm3IKiQR"
      },
      "source": [
        "for param_name in sorted(parameters.keys()):\n",
        "  print(\"%s: %r\" % (param_name, gs_mlp_clf.best_params_[param_name]))"
      ],
      "execution_count": null,
      "outputs": []
    }
  ]
}