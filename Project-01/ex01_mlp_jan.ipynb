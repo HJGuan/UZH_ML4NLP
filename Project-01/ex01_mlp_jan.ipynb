{
  "nbformat": 4,
  "nbformat_minor": 0,
  "metadata": {
    "colab": {
      "name": "ex01_mlp_jan.ipynb",
      "provenance": [],
      "collapsed_sections": [],
      "include_colab_link": true
    },
    "kernelspec": {
      "display_name": "Python 3 (ipykernel)",
      "language": "python",
      "name": "python3"
    },
    "language_info": {
      "codemirror_mode": {
        "name": "ipython",
        "version": 3
      },
      "file_extension": ".py",
      "mimetype": "text/x-python",
      "name": "python",
      "nbconvert_exporter": "python",
      "pygments_lexer": "ipython3",
      "version": "3.9.7"
    }
  },
  "cells": [
    {
      "cell_type": "markdown",
      "metadata": {
        "id": "view-in-github",
        "colab_type": "text"
      },
      "source": [
        "<a href=\"https://colab.research.google.com/github/jan-kreischer/UZH_ML4NLP/blob/main/Project-01/ex01_mlp_jan.ipynb\" target=\"_parent\"><img src=\"https://colab.research.google.com/assets/colab-badge.svg\" alt=\"Open In Colab\"/></a>"
      ]
    },
    {
      "cell_type": "markdown",
      "metadata": {
        "id": "5mUlNUnJ4Ljk"
      },
      "source": [
        "# Exercise 01 - Part 02"
      ]
    },
    {
      "cell_type": "markdown",
      "metadata": {
        "id": "sxRcPsF_tMOO"
      },
      "source": [
        "## Importing all the libraries"
      ]
    },
    {
      "cell_type": "code",
      "metadata": {
        "id": "ynDK5thyzl_v"
      },
      "source": [
        "import csv\n",
        "import re\n",
        "import numpy as np\n",
        "\n",
        "import pandas as pd\n",
        "pd.set_option('display.max_rows', 200)  \n",
        "pd.set_option('display.max_columns', 200)   \n",
        "pd.set_option('display.width', 4000) \n",
        "\n",
        "from io import StringIO\n",
        "import requests\n",
        "import matplotlib.pyplot as plt\n",
        "\n",
        "import warnings\n",
        "\n",
        "from sklearn.model_selection import train_test_split\n",
        "from sklearn.pipeline import Pipeline\n",
        "from sklearn.feature_extraction.text import TfidfVectorizer\n",
        "from sklearn.neural_network import MLPClassifier\n",
        "from sklearn.model_selection import GridSearchCV\n",
        "from sklearn.metrics import classification_report\n",
        "\n",
        "warnings.filterwarnings('ignore')"
      ],
      "execution_count": 6,
      "outputs": []
    },
    {
      "cell_type": "markdown",
      "metadata": {
        "id": "NfzPwQnN2eHY"
      },
      "source": [
        "## 1. Data Acquisition\n",
        "In this assignment we are not going to do all the data cleaning and preprocessing again.  \n",
        "We are just loading the saved dataset from the first exercise."
      ]
    },
    {
      "cell_type": "code",
      "metadata": {
        "id": "alVvFkGn2uih"
      },
      "source": [
        "dataset = pd.read_csv('./dataset.csv')"
      ],
      "execution_count": 7,
      "outputs": []
    },
    {
      "cell_type": "code",
      "metadata": {
        "colab": {
          "base_uri": "https://localhost:8080/"
        },
        "id": "3g2XQFLeBClK",
        "outputId": "02973436-cc94-4fcb-ca45-099aac9ef23d"
      },
      "source": [
        "dataset.shape"
      ],
      "execution_count": 8,
      "outputs": [
        {
          "output_type": "execute_result",
          "data": {
            "text/plain": [
              "(67642, 2)"
            ]
          },
          "metadata": {},
          "execution_count": 8
        }
      ]
    },
    {
      "cell_type": "code",
      "metadata": {
        "id": "DiQ-3-7AtMO0"
      },
      "source": [
        "pd.options.display.max_rows = 100"
      ],
      "execution_count": 9,
      "outputs": []
    },
    {
      "cell_type": "markdown",
      "metadata": {
        "id": "iMTSM4istMQw"
      },
      "source": [
        "## Splitting the dataset into training & verification datasets"
      ]
    },
    {
      "cell_type": "code",
      "metadata": {
        "id": "6oyQ6eZbCeUX"
      },
      "source": [
        "TARGET_COLUMN = 'label'\n",
        "TWEET_COLUMN = 'tweet'"
      ],
      "execution_count": 10,
      "outputs": []
    },
    {
      "cell_type": "code",
      "metadata": {
        "id": "tbNPDezQCVpH"
      },
      "source": [
        "X = dataset[TWEET_COLUMN]\n",
        "y = dataset[TARGET_COLUMN]\n",
        "X_train, X_test, y_train, y_test = train_test_split(X, y, test_size=0.1, shuffle=True)"
      ],
      "execution_count": 11,
      "outputs": []
    },
    {
      "cell_type": "code",
      "metadata": {
        "id": "5xIWW6ZqKPKH"
      },
      "source": [
        "# Vectorize with ngram_range 1 to 3\n",
        "vectorizer = TfidfVectorizer(analyzer='char', ngram_range=(1,3))\n",
        "X_train_vec = vectorizer.fit_transform(X_train)\n",
        "X_test_vec = vectorizer.transform(X_test)"
      ],
      "execution_count": 25,
      "outputs": []
    },
    {
      "cell_type": "markdown",
      "metadata": {
        "id": "0UfmSwvltMRQ"
      },
      "source": [
        "### Creating Pipeline for MLP Classifier"
      ]
    },
    {
      "cell_type": "code",
      "metadata": {
        "id": "L0zdPLMHJ2AV"
      },
      "source": [
        "# All parameters we are individually testing\n",
        "# If the computational power would be high enough we could\n",
        "# use GridSearchCV to easily find the best hyperparameters\n",
        "# However running this grid search CV exceeds colabs max runtime.\n",
        "parameters = {\n",
        "        'hidden_layer_sizes': [100, 500],\n",
        "        'solver': ['adam', 'sgd'],\n",
        "        'activation': ['tanh', 'relu'],\n",
        "}"
      ],
      "execution_count": null,
      "outputs": []
    },
    {
      "cell_type": "markdown",
      "metadata": {
        "id": "38nb7mqEL9Ve"
      },
      "source": [
        "## Run by Jan"
      ]
    },
    {
      "cell_type": "markdown",
      "metadata": {
        "id": "mUP9_D47N0Ed"
      },
      "source": [
        "### Configuration 01"
      ]
    },
    {
      "cell_type": "code",
      "metadata": {
        "id": "8gq1DtZktMRR"
      },
      "source": [
        "mlp_clf = MLPClassifier(early_stopping=True, hidden_layer_sizes=(100), solver='adam', activation='tanh', max_iter=100, verbose=True)\n",
        "mlp_clf.fit(X_train_vec, y_train)"
      ],
      "execution_count": null,
      "outputs": []
    },
    {
      "cell_type": "code",
      "metadata": {
        "id": "VuUJKblKM87g"
      },
      "source": [
        "classification_report(y_test, mlp_clf.predict(X_test_vec))"
      ],
      "execution_count": null,
      "outputs": []
    },
    {
      "cell_type": "markdown",
      "metadata": {
        "id": "jk380eGhN-IF"
      },
      "source": [
        "### Configuration 02"
      ]
    },
    {
      "cell_type": "code",
      "metadata": {
        "id": "O4aSvJzFN-IG"
      },
      "source": [
        "mlp_clf = MLPClassifier(early_stopping=True, hidden_layer_sizes=(100), solver='adam', activation='relu', max_iter=100, verbose=True)\n",
        "mlp_clf.fit(X_train_vec, y_train)"
      ],
      "execution_count": null,
      "outputs": []
    },
    {
      "cell_type": "code",
      "metadata": {
        "id": "4kBnRu9BOU9G"
      },
      "source": [
        "classification_report(y_test, mlp_clf.predict(X_test_vec))"
      ],
      "execution_count": null,
      "outputs": []
    },
    {
      "cell_type": "markdown",
      "metadata": {
        "id": "_mkAJzofOEq2"
      },
      "source": [
        "### Configuration 03"
      ]
    },
    {
      "cell_type": "code",
      "metadata": {
        "id": "0uFzCjU5OEq3"
      },
      "source": [
        "mlp_clf = MLPClassifier(early_stopping=True, hidden_layer_sizes=(100), solver='sgd', activation='tanh', max_iter=100, verbose=True)\n",
        "mlp_clf.fit(X_train_vec, y_train)"
      ],
      "execution_count": null,
      "outputs": []
    },
    {
      "cell_type": "code",
      "metadata": {
        "id": "q436m1xUOWo6"
      },
      "source": [
        "classification_report(y_test, mlp_clf.predict(X_test_vec))"
      ],
      "execution_count": null,
      "outputs": []
    },
    {
      "cell_type": "markdown",
      "metadata": {
        "id": "dy8NGueVOM5q"
      },
      "source": [
        "### Configuration 04"
      ]
    },
    {
      "cell_type": "code",
      "metadata": {
        "id": "xjKjeyXXOM5q"
      },
      "source": [
        "mlp_clf = MLPClassifier(early_stopping=True, hidden_layer_sizes=(100), solver='sgd', activation='relu', max_iter=100, verbose=True)\n",
        "mlp_clf.fit(X_train_vec, y_train)"
      ],
      "execution_count": null,
      "outputs": []
    },
    {
      "cell_type": "code",
      "metadata": {
        "id": "M-brwl2BOwqC"
      },
      "source": [
        "classification_report(y_test, mlp_clf.predict(X_test_vec))"
      ],
      "execution_count": null,
      "outputs": []
    },
    {
      "cell_type": "markdown",
      "metadata": {
        "id": "OS3IIy77Kmd0"
      },
      "source": [
        "## Run by Hongjie"
      ]
    },
    {
      "cell_type": "markdown",
      "metadata": {
        "id": "VbCsezRHP7FT"
      },
      "source": [
        "### Configuration 01"
      ]
    },
    {
      "cell_type": "code",
      "metadata": {
        "id": "iasniC2xP7FU"
      },
      "source": [
        "mlp_clf = MLPClassifier(early_stopping=True, hidden_layer_sizes=(500), solver='adam', activation='tanh', max_iter=100, verbose=True)\n",
        "mlp_clf.fit(X_train_vec, y_train)"
      ],
      "execution_count": null,
      "outputs": []
    },
    {
      "cell_type": "code",
      "metadata": {
        "id": "4sIF3NKuP7FU"
      },
      "source": [
        "classification_report(y_test, mlp_clf.predict(X_test_vec))"
      ],
      "execution_count": null,
      "outputs": []
    },
    {
      "cell_type": "markdown",
      "metadata": {
        "id": "OU59ZFSQP7FV"
      },
      "source": [
        "### Configuration 02"
      ]
    },
    {
      "cell_type": "code",
      "metadata": {
        "id": "qwiuxeY6P7FV"
      },
      "source": [
        "mlp_clf = MLPClassifier(early_stopping=True, hidden_layer_sizes=(500), solver='adam', activation='relu', max_iter=100, verbose=True)\n",
        "mlp_clf.fit(X_train_vec, y_train)"
      ],
      "execution_count": null,
      "outputs": []
    },
    {
      "cell_type": "code",
      "metadata": {
        "id": "a9WTEuxBP7FV"
      },
      "source": [
        "classification_report(y_test, mlp_clf.predict(X_test_vec))"
      ],
      "execution_count": null,
      "outputs": []
    },
    {
      "cell_type": "markdown",
      "metadata": {
        "id": "etLeWVEcP7FV"
      },
      "source": [
        "### Configuration 03"
      ]
    },
    {
      "cell_type": "code",
      "metadata": {
        "id": "kS54YESwP7FW"
      },
      "source": [
        "mlp_clf = MLPClassifier(early_stopping=True, hidden_layer_sizes=(500), solver='sgd', activation='tanh', max_iter=100, verbose=True)\n",
        "mlp_clf.fit(X_train_vec, y_train)"
      ],
      "execution_count": null,
      "outputs": []
    },
    {
      "cell_type": "code",
      "metadata": {
        "id": "krtmQKk5P7FW"
      },
      "source": [
        "classification_report(y_test, mlp_clf.predict(X_test_vec))"
      ],
      "execution_count": null,
      "outputs": []
    },
    {
      "cell_type": "markdown",
      "metadata": {
        "id": "iMBHy-xYP7FW"
      },
      "source": [
        "### Configuration 04"
      ]
    },
    {
      "cell_type": "code",
      "metadata": {
        "id": "sJUEZ6Z5P7FW"
      },
      "source": [
        "mlp_clf = MLPClassifier(early_stopping=True, hidden_layer_sizes=(500), solver='sgd', activation='relu', max_iter=100, verbose=True)\n",
        "mlp_clf.fit(X_train_vec, y_train)"
      ],
      "execution_count": null,
      "outputs": []
    },
    {
      "cell_type": "code",
      "metadata": {
        "id": "K6x3yIYpP7FW"
      },
      "source": [
        "classification_report(y_test, mlp_clf.predict(X_test_vec))"
      ],
      "execution_count": null,
      "outputs": []
    }
  ]
}