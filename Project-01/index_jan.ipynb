{
  "nbformat": 4,
  "nbformat_minor": 5,
  "metadata": {
    "kernelspec": {
      "display_name": "Python 3",
      "language": "python",
      "name": "python3"
    },
    "language_info": {
      "codemirror_mode": {
        "name": "ipython",
        "version": 3
      },
      "file_extension": ".py",
      "mimetype": "text/x-python",
      "name": "python",
      "nbconvert_exporter": "python",
      "pygments_lexer": "ipython3",
      "version": "3.8.8"
    },
    "colab": {
      "name": "index_jan.ipynb",
      "provenance": [],
      "collapsed_sections": [],
      "include_colab_link": true
    },
    "accelerator": "GPU"
  },
  "cells": [
    {
      "cell_type": "markdown",
      "metadata": {
        "id": "view-in-github",
        "colab_type": "text"
      },
      "source": [
        "<a href=\"https://colab.research.google.com/github/jan-kreischer/UZH_ML4NLP/blob/main/Project-01/index_jan.ipynb\" target=\"_parent\"><img src=\"https://colab.research.google.com/assets/colab-badge.svg\" alt=\"Open In Colab\"/></a>"
      ]
    },
    {
      "cell_type": "markdown",
      "metadata": {
        "id": "zvBmTj50hvR5"
      },
      "source": [
        "# Exercise 01 - Linear Classification\n",
        "\n",
        "\n"
      ],
      "id": "zvBmTj50hvR5"
    },
    {
      "cell_type": "markdown",
      "metadata": {
        "id": "8b6AgKLqGsHr"
      },
      "source": [
        "## Dependencies"
      ],
      "id": "8b6AgKLqGsHr"
    },
    {
      "cell_type": "code",
      "metadata": {
        "colab": {
          "base_uri": "https://localhost:8080/"
        },
        "id": "rPHMAkQcl6HA",
        "outputId": "93912ce1-1191-47bc-ab42-cb9259149e18"
      },
      "source": [
        "!pip install demoji"
      ],
      "id": "rPHMAkQcl6HA",
      "execution_count": 2,
      "outputs": [
        {
          "output_type": "stream",
          "name": "stdout",
          "text": [
            "Collecting demoji\n",
            "  Downloading demoji-1.1.0-py3-none-any.whl (42 kB)\n",
            "\u001b[?25l\r\u001b[K     |███████▋                        | 10 kB 22.0 MB/s eta 0:00:01\r\u001b[K     |███████████████▎                | 20 kB 21.3 MB/s eta 0:00:01\r\u001b[K     |███████████████████████         | 30 kB 15.2 MB/s eta 0:00:01\r\u001b[K     |██████████████████████████████▋ | 40 kB 14.1 MB/s eta 0:00:01\r\u001b[K     |████████████████████████████████| 42 kB 1.2 MB/s \n",
            "\u001b[?25hInstalling collected packages: demoji\n",
            "Successfully installed demoji-1.1.0\n"
          ]
        }
      ]
    },
    {
      "cell_type": "markdown",
      "metadata": {
        "id": "2aoiO-Esh19N"
      },
      "source": [
        "## Imports"
      ],
      "id": "2aoiO-Esh19N"
    },
    {
      "cell_type": "code",
      "metadata": {
        "id": "43d2c898-ea76-49c3-ae4d-dc87d657efe0"
      },
      "source": [
        "import csv\n",
        "import re\n",
        "import numpy as np\n",
        "\n",
        "import pandas as pd\n",
        "pd.set_option('display.max_rows', 200)  \n",
        "pd.set_option('display.max_columns', 200)   \n",
        "pd.set_option('display.width', 4000) \n",
        "\n",
        "from io import StringIO\n",
        "import requests\n",
        "import matplotlib.pyplot as plt\n",
        "\n",
        "import demoji\n",
        "\n",
        "from sklearn.feature_extraction.text import TfidfVectorizer\n",
        "\n",
        "from sklearn.pipeline import Pipeline\n",
        "from sklearn.linear_model import SGDClassifier\n",
        "from sklearn.naive_bayes import MultinomialNB\n",
        "\n",
        "from sklearn.model_selection import GridSearchCV\n",
        "from sklearn.model_selection import train_test_split\n",
        "\n",
        "from sklearn.metrics import confusion_matrix\n",
        "from sklearn.metrics import classification_report\n",
        "from sklearn.metrics import accuracy_score"
      ],
      "id": "43d2c898-ea76-49c3-ae4d-dc87d657efe0",
      "execution_count": 3,
      "outputs": []
    },
    {
      "cell_type": "code",
      "metadata": {
        "id": "o8zj6rO6hKo2"
      },
      "source": [
        "url_train_dev = 'https://docs.google.com/spreadsheets/d/e/2PACX-1vTOZ2rC82rhNsJduoyKYTsVeH6ukd7Bpxvxn_afOibn3R-eadZGXu82eCU9IRpl4CK_gefEGsYrA_oM/pub?gid=1863430984&single=true&output=tsv'\n",
        "url_test = 'https://docs.google.com/spreadsheets/d/e/2PACX-1vT-KNR9nuYatLkSbzSRgpz6Ku1n4TN4w6kKmFLkA6QJHTfQzmX0puBsLF7PAAQJQAxUpgruDd_RRgK7/pub?gid=417546901&single=true&output=tsv'"
      ],
      "id": "o8zj6rO6hKo2",
      "execution_count": 4,
      "outputs": []
    },
    {
      "cell_type": "code",
      "metadata": {
        "colab": {
          "base_uri": "https://localhost:8080/",
          "height": 274
        },
        "id": "fgLDtzKQ52IL",
        "outputId": "aca85974-c298-4f48-fe9a-fdf35b2c0e68"
      },
      "source": [
        "translated_data = pd.read_pickle('./sample_data/augmented_data.pkl')"
      ],
      "id": "fgLDtzKQ52IL",
      "execution_count": 93,
      "outputs": [
        {
          "output_type": "error",
          "ename": "UnpicklingError",
          "evalue": "ignored",
          "traceback": [
            "\u001b[0;31m---------------------------------------------------------------------------\u001b[0m",
            "\u001b[0;31mUnpicklingError\u001b[0m                           Traceback (most recent call last)",
            "\u001b[0;32m<ipython-input-93-dd1b84a95cde>\u001b[0m in \u001b[0;36m<module>\u001b[0;34m()\u001b[0m\n\u001b[0;32m----> 1\u001b[0;31m \u001b[0mtranslated_data\u001b[0m \u001b[0;34m=\u001b[0m \u001b[0mpd\u001b[0m\u001b[0;34m.\u001b[0m\u001b[0mread_pickle\u001b[0m\u001b[0;34m(\u001b[0m\u001b[0;34m'./sample_data/augmented_data.pkl'\u001b[0m\u001b[0;34m)\u001b[0m\u001b[0;34m\u001b[0m\u001b[0;34m\u001b[0m\u001b[0m\n\u001b[0m",
            "\u001b[0;32m/usr/local/lib/python3.7/dist-packages/pandas/io/pickle.py\u001b[0m in \u001b[0;36mread_pickle\u001b[0;34m(filepath_or_buffer, compression)\u001b[0m\n\u001b[1;32m    180\u001b[0m                 \u001b[0;31m# We want to silence any warnings about, e.g. moved modules.\u001b[0m\u001b[0;34m\u001b[0m\u001b[0;34m\u001b[0m\u001b[0;34m\u001b[0m\u001b[0m\n\u001b[1;32m    181\u001b[0m                 \u001b[0mwarnings\u001b[0m\u001b[0;34m.\u001b[0m\u001b[0msimplefilter\u001b[0m\u001b[0;34m(\u001b[0m\u001b[0;34m\"ignore\"\u001b[0m\u001b[0;34m,\u001b[0m \u001b[0mWarning\u001b[0m\u001b[0;34m)\u001b[0m\u001b[0;34m\u001b[0m\u001b[0;34m\u001b[0m\u001b[0m\n\u001b[0;32m--> 182\u001b[0;31m                 \u001b[0;32mreturn\u001b[0m \u001b[0mpickle\u001b[0m\u001b[0;34m.\u001b[0m\u001b[0mload\u001b[0m\u001b[0;34m(\u001b[0m\u001b[0mf\u001b[0m\u001b[0;34m)\u001b[0m\u001b[0;34m\u001b[0m\u001b[0;34m\u001b[0m\u001b[0m\n\u001b[0m\u001b[1;32m    183\u001b[0m         \u001b[0;32mexcept\u001b[0m \u001b[0mexcs_to_catch\u001b[0m\u001b[0;34m:\u001b[0m\u001b[0;34m\u001b[0m\u001b[0;34m\u001b[0m\u001b[0m\n\u001b[1;32m    184\u001b[0m             \u001b[0;31m# e.g.\u001b[0m\u001b[0;34m\u001b[0m\u001b[0;34m\u001b[0m\u001b[0;34m\u001b[0m\u001b[0m\n",
            "\u001b[0;31mUnpicklingError\u001b[0m: pickle data was truncated"
          ]
        }
      ]
    },
    {
      "cell_type": "markdown",
      "metadata": {
        "id": "RkIJ7QuNv_lt"
      },
      "source": [
        "## Constants"
      ],
      "id": "RkIJ7QuNv_lt"
    },
    {
      "cell_type": "code",
      "metadata": {
        "id": "DYruJqdrsPOS"
      },
      "source": [
        "TARGET_COLUMN = 'label'\n",
        "TWEET_COLUMN = 'tweet'"
      ],
      "id": "DYruJqdrsPOS",
      "execution_count": 29,
      "outputs": []
    },
    {
      "cell_type": "markdown",
      "metadata": {
        "id": "okInclFn5rzc"
      },
      "source": [
        "## 1. Data Acquisition"
      ],
      "id": "okInclFn5rzc"
    },
    {
      "cell_type": "code",
      "metadata": {
        "id": "SdwxfjxjhN58"
      },
      "source": [
        "def load_dataset(url):\n",
        "    r = requests.get(url)\n",
        "    data = r.content.decode('utf8')\n",
        "    df = pd.read_csv(StringIO(data), sep='\\t')\n",
        "    df.columns = ['tweet', 'label']\n",
        "    return df"
      ],
      "id": "SdwxfjxjhN58",
      "execution_count": 6,
      "outputs": []
    },
    {
      "cell_type": "code",
      "metadata": {
        "id": "ZmOiJT-2hPpt"
      },
      "source": [
        "training_data = load_dataset(url_train_dev)\n",
        "test_data = load_dataset(url_test)"
      ],
      "id": "ZmOiJT-2hPpt",
      "execution_count": 7,
      "outputs": []
    },
    {
      "cell_type": "code",
      "metadata": {
        "id": "LLhRDofrsShY"
      },
      "source": [
        "dataset = pd.concat([training_data, test_data], axis=0) # Merge into one dataset for the pre-processing"
      ],
      "id": "LLhRDofrsShY",
      "execution_count": 8,
      "outputs": []
    },
    {
      "cell_type": "code",
      "metadata": {
        "colab": {
          "base_uri": "https://localhost:8080/"
        },
        "id": "rSWYkwJnsZ9h",
        "outputId": "f5d6ff9e-0502-459f-9479-3445e6eddef0"
      },
      "source": [
        "print(\"The length of the combined dataset is {0} training samples + {1} test samples = {2} samples\".format(len(training_data), len(test_data), len(dataset)))"
      ],
      "id": "rSWYkwJnsZ9h",
      "execution_count": 9,
      "outputs": [
        {
          "output_type": "stream",
          "name": "stdout",
          "text": [
            "The length of the combined dataset is 52675 training samples + 13279 test samples = 65954 samples\n"
          ]
        }
      ]
    },
    {
      "cell_type": "code",
      "metadata": {
        "id": "yJDwSNkfuMcE"
      },
      "source": [
        "dataset = dataset.sample(frac=1).reset_index(drop=True) # Randomly shuffle the data"
      ],
      "id": "yJDwSNkfuMcE",
      "execution_count": 10,
      "outputs": []
    },
    {
      "cell_type": "code",
      "metadata": {
        "colab": {
          "base_uri": "https://localhost:8080/",
          "height": 352
        },
        "id": "TvoAwKLCzd7N",
        "outputId": "65c6ca68-7907-4320-ca96-87c9d00f3df9"
      },
      "source": [
        "dataset.head(10)"
      ],
      "id": "TvoAwKLCzd7N",
      "execution_count": 11,
      "outputs": [
        {
          "output_type": "execute_result",
          "data": {
            "text/html": [
              "<div>\n",
              "<style scoped>\n",
              "    .dataframe tbody tr th:only-of-type {\n",
              "        vertical-align: middle;\n",
              "    }\n",
              "\n",
              "    .dataframe tbody tr th {\n",
              "        vertical-align: top;\n",
              "    }\n",
              "\n",
              "    .dataframe thead th {\n",
              "        text-align: right;\n",
              "    }\n",
              "</style>\n",
              "<table border=\"1\" class=\"dataframe\">\n",
              "  <thead>\n",
              "    <tr style=\"text-align: right;\">\n",
              "      <th></th>\n",
              "      <th>tweet</th>\n",
              "      <th>label</th>\n",
              "    </tr>\n",
              "  </thead>\n",
              "  <tbody>\n",
              "    <tr>\n",
              "      <th>0</th>\n",
              "      <td>Tanzania: Huawei sues Hits Telecoms for non-pa...</td>\n",
              "      <td>ar</td>\n",
              "    </tr>\n",
              "    <tr>\n",
              "      <th>1</th>\n",
              "      <td>@nekoaredazo おはようございます、お～りん（猫アレ）さん</td>\n",
              "      <td>ja</td>\n",
              "    </tr>\n",
              "    <tr>\n",
              "      <th>2</th>\n",
              "      <td>Hay que saber aceptar que existen los días mag...</td>\n",
              "      <td>es</td>\n",
              "    </tr>\n",
              "    <tr>\n",
              "      <th>3</th>\n",
              "      <td>It's not soo humid today</td>\n",
              "      <td>en</td>\n",
              "    </tr>\n",
              "    <tr>\n",
              "      <th>4</th>\n",
              "      <td>Ich habe 15,465 Goldmünzen gesammelt! http://t...</td>\n",
              "      <td>de</td>\n",
              "    </tr>\n",
              "    <tr>\n",
              "      <th>5</th>\n",
              "      <td>@msk_ksd  俺が撮った写真やないかーい</td>\n",
              "      <td>ja</td>\n",
              "    </tr>\n",
              "    <tr>\n",
              "      <th>6</th>\n",
              "      <td>I cleaned my study table last night and I can'...</td>\n",
              "      <td>en</td>\n",
              "    </tr>\n",
              "    <tr>\n",
              "      <th>7</th>\n",
              "      <td>I have successfully completed the Make some......</td>\n",
              "      <td>en</td>\n",
              "    </tr>\n",
              "    <tr>\n",
              "      <th>8</th>\n",
              "      <td>Two beers n a blunt im on dinna relax</td>\n",
              "      <td>en</td>\n",
              "    </tr>\n",
              "    <tr>\n",
              "      <th>9</th>\n",
              "      <td>安全運行中ｵｳｲｴ!!三┏( ^o^)┛千葉県柏市大山台１丁目[ImacocoNow! An...</td>\n",
              "      <td>ja</td>\n",
              "    </tr>\n",
              "  </tbody>\n",
              "</table>\n",
              "</div>"
            ],
            "text/plain": [
              "                                               tweet label\n",
              "0  Tanzania: Huawei sues Hits Telecoms for non-pa...    ar\n",
              "1                 @nekoaredazo おはようございます、お～りん（猫アレ）さん    ja\n",
              "2  Hay que saber aceptar que existen los días mag...    es\n",
              "3                           It's not soo humid today    en\n",
              "4  Ich habe 15,465 Goldmünzen gesammelt! http://t...    de\n",
              "5                            @msk_ksd  俺が撮った写真やないかーい    ja\n",
              "6  I cleaned my study table last night and I can'...    en\n",
              "7  I have successfully completed the Make some......    en\n",
              "8              Two beers n a blunt im on dinna relax    en\n",
              "9  安全運行中ｵｳｲｴ!!三┏( ^o^)┛千葉県柏市大山台１丁目[ImacocoNow! An...    ja"
            ]
          },
          "metadata": {},
          "execution_count": 11
        }
      ]
    },
    {
      "cell_type": "markdown",
      "metadata": {
        "id": "7OZ3EaAQ6Ahq"
      },
      "source": [
        "## 2. Data Exploration"
      ],
      "id": "7OZ3EaAQ6Ahq"
    },
    {
      "cell_type": "code",
      "metadata": {
        "id": "heZh4YHxhhQA"
      },
      "source": [
        "def data_exploration(df):\n",
        "  n_labels = len(np.unique(df[\"label\"]))\n",
        "  df = df.sort_values('label')\n",
        "  print(\"Dataset contains the columns: {}\".format(list(df.keys())))\n",
        "  print(\"with a total of {} observations\".format(len(df)))\n",
        "  print(\"and {} different possible labels.\".format(n_labels))\n",
        "  print(\"The unique labels are {}\".format(df[\"label\"].unique()))\n",
        "  plt.figure(figsize=(15, 3))\n",
        "  plt.hist(df[\"label\"], bins=n_labels)\n",
        "  plt.xticks(rotation=90)\n",
        "  plt.yscale(\"log\")\n",
        "  plt.xlabel(\"Language\")\n",
        "  plt.ylabel(\"#Occurences\")\n",
        "  plt.show()"
      ],
      "id": "heZh4YHxhhQA",
      "execution_count": 14,
      "outputs": []
    },
    {
      "cell_type": "code",
      "metadata": {
        "colab": {
          "base_uri": "https://localhost:8080/",
          "height": 421
        },
        "id": "IZtCEi7_hYQW",
        "outputId": "95724318-5073-41c8-deb1-08f70172842e"
      },
      "source": [
        "data_exploration(dataset)"
      ],
      "id": "IZtCEi7_hYQW",
      "execution_count": 15,
      "outputs": [
        {
          "output_type": "stream",
          "name": "stdout",
          "text": [
            "Dataset contains the columns: ['tweet', 'label']\n",
            "with a total of 65954 observations\n",
            "and 78 different possible labels.\n",
            "The unique labels are ['ar' 'ar_LATN' 'az' 'bg' 'bn' 'bs' 'ca' 'cs' 'cy' 'da' 'de' 'dv' 'el'\n",
            " 'en' 'es' 'et' 'eu' 'fa' 'fi' 'fr' 'gl' 'ha' 'he' 'hi' 'hi-Latn' 'hr'\n",
            " 'ht' 'hu' 'hy' 'id' 'is' 'it' 'ja' 'ja_LATN' 'jv' 'km' 'ko' 'ko_LATN'\n",
            " 'la' 'lv' 'mk' 'mn' 'mr' 'ms' 'ne' 'nl' 'no' 'pl' 'ps' 'ps_LATN' 'pt'\n",
            " 'ro' 'ru' 'si' 'sk' 'sl' 'sq' 'sr' 'su' 'sv' 'sw' 'ta' 'ta_LATN' 'th'\n",
            " 'tl' 'tn' 'tr' 'uk' 'und' 'ur' 'ur_LATN' 'vi' 'wo' 'xh' 'yo' 'zh-CN'\n",
            " 'zh-TW' 'zu']\n"
          ]
        },
        {
          "output_type": "display_data",
          "data": {
            "image/png": "[encoded data removed]",
            "text/plain": [
              "<Figure size 1080x216 with 1 Axes>"
            ]
          },
          "metadata": {
            "needs_background": "light"
          }
        }
      ]
    },
    {
      "cell_type": "code",
      "metadata": {
        "id": "DLPZXkaLCH3s",
        "colab": {
          "base_uri": "https://localhost:8080/"
        },
        "outputId": "203336b2-a09f-456f-92c7-350b35ef68b2"
      },
      "source": [
        "threshold = 10\n",
        "df = dataset.groupby('label').size().to_frame().reset_index(drop=False).rename(columns={0: 'occurences'})\n",
        "n_lang = df[df['occurences'] < threshold].count()['occurences']\n",
        "print(\"There are {} languages in this data set with less then {} samples.\".format(n_lang, threshold))"
      ],
      "id": "DLPZXkaLCH3s",
      "execution_count": 86,
      "outputs": [
        {
          "output_type": "stream",
          "name": "stdout",
          "text": [
            "There are 38 languages in this data set with less then 10 samples.\n"
          ]
        }
      ]
    },
    {
      "cell_type": "markdown",
      "metadata": {
        "id": "IYLOL2_B5OrT"
      },
      "source": [
        "## 3. Text Cleaning"
      ],
      "id": "IYLOL2_B5OrT"
    },
    {
      "cell_type": "markdown",
      "metadata": {
        "id": "np67DQkz5JEm"
      },
      "source": [
        "This is generally a good idea as many text classification tools rely on counting the occurrences of words. If both upper and lower case versions of the same word are found in the text then the algorithm will count them as different words even though the meaning is the same. Of course this does mean that where the capitalised versions of a word exists, that does have a different meaning. For example the company Apple vs the fruit apple. This could result in poorer performance for some data sets. This is one area of NLP where you may try different methods to see how they affect the overall performance of the model."
      ],
      "id": "np67DQkz5JEm"
    },
    {
      "cell_type": "code",
      "metadata": {
        "id": "vsh1XvSsAwYL"
      },
      "source": [
        "def remove_all_emojis(text):\n",
        "  dem = demoji.findall(text)\n",
        "  for item in dem.keys():\n",
        "    text = text.replace(item, '')\n",
        "  return text"
      ],
      "id": "vsh1XvSsAwYL",
      "execution_count": 17,
      "outputs": []
    },
    {
      "cell_type": "code",
      "metadata": {
        "id": "kQfxTUB36n4C"
      },
      "source": [
        "def clean_data(df, column):\n",
        "    df = df.copy(deep=True) # Make deep copy of tweets\n",
        "    df[column] = df[column].str.lower() # Transform into all lowercase\n",
        "    \n",
        "    patterns = []\n",
        "    retweet_pattern = '^RT'\n",
        "    patterns.append(retweet_pattern)\n",
        "    xml_pattern = '&\\S+;'\n",
        "    patterns.append(xml_pattern)\n",
        "    hashtag_pattern = '#[A-Za-z0-9_]+'\n",
        "    patterns.append(hashtag_pattern)\n",
        "    twitter_mention_pattern = '@[A-Za-z0-9_]+'\n",
        "    patterns.append(twitter_mention_pattern)\n",
        "    http_pattern = 'http\\S+'\n",
        "    patterns.append(http_pattern)\n",
        "    www_pattern = 'www\\S+'\n",
        "    patterns.append(www_pattern)\n",
        "    tab_pattern = '\\t'\n",
        "    patterns.append(tab_pattern)\n",
        "    punctuation_pattern = '[!\"#$%&\\\\()*+,-./:;<=>?@\\[\\]^_`\\'{}~]+'\n",
        "    patterns.append(punctuation_pattern)\n",
        "    numeric_pattern = '[0-9]+'\n",
        "    patterns.append(numeric_pattern)\n",
        "    regex = \"|\".join(patterns)\n",
        "\n",
        "    #df[column] = df[column].apply(lambda elem: re.sub(r\"(@[A-Za-z0-9]+)|([^0-9A-Za-z \\t])|(\\w+:\\/\\/\\S+)|^rt|http.+?\", \"\", elem)) \n",
        "    df[column] = df[column].apply(lambda elem: re.sub(r\"{}\".format(regex), \"\", elem))\n",
        "    df[column] = df[column].apply(remove_all_emojis)\n",
        "    \n",
        "    return df"
      ],
      "id": "kQfxTUB36n4C",
      "execution_count": 18,
      "outputs": []
    },
    {
      "cell_type": "code",
      "metadata": {
        "id": "JtIoEEyK8Dxx",
        "colab": {
          "base_uri": "https://localhost:8080/"
        },
        "outputId": "5f111091-f75a-45bc-b149-04bf8dec8a2f"
      },
      "source": [
        "# Now we want to find out which special characters need to be removed from tweets in order to make the prediction better.\n",
        "# We go over the printed list an not down the symbold which are not needed for language identification.\n",
        "# These will be removed in a later step.\n",
        "languages = list(np.unique(test_data['label']))\n",
        "for language in languages:\n",
        "  localized_tweets = training_data[training_data['label'] == language]\n",
        "  # Clean and compare them\n",
        "  cleaned_localized_tweets = clean_data(localized_tweets, 'tweet')\n",
        "  comparison_view = pd.concat([localized_tweets.drop(['label'], axis=1), cleaned_localized_tweets], axis=1)\n",
        "  print(comparison_view.head(5))\n",
        "  #print(localized_tweets.head(5))\n",
        "  print(\"---\")\n",
        "\n",
        "# Symbols like @<mention>, #, http://link !, numeric values (e.g 16000), \" do not help for language identification."
      ],
      "id": "JtIoEEyK8Dxx",
      "execution_count": 19,
      "outputs": [
        {
          "output_type": "stream",
          "name": "stdout",
          "text": [
            "                                               tweet                                              tweet label\n",
            "0  يا من أناديها ويخنقني البكاء  ويكاد صمت الدمع ...  يا من أناديها ويخنقني البكاء  ويكاد صمت الدمع ...    ar\n",
            "1  فيه فرق بين اهل غزة اللى مطحونين من ناحيتين وب...  فيه فرق بين اهل غزة اللى مطحونين من ناحيتين وب...    ar\n",
            "2  ﻋﻦ ﺍﻟﻠﺤﻈﺔ اﻟﺤﻠﻮﺓﺓ ﺍﻟﻠﻲ ﺑﺘﻐﻤﺾ ﻓﻴﻬﺎ ﻋﻴﻨﻴﻚ ﺑﺘﻔﻜﺮ ...  ﻋﻦ ﺍﻟﻠﺤﻈﺔ اﻟﺤﻠﻮﺓﺓ ﺍﻟﻠﻲ ﺑﺘﻐﻤﺾ ﻓﻴﻬﺎ ﻋﻴﻨﻴﻚ ﺑﺘﻔﻜﺮ ...    ar\n",
            "3                                  يا ابو سلو عرفتني                                  يا ابو سلو عرفتني    ar\n",
            "4  ب50 ريال أكفل معتمر في رمضان ، ولك بإذن الله م...  ب ريال أكفل معتمر في رمضان ، ولك بإذن الله مثل...    ar\n",
            "---\n",
            "                                         tweet                            tweet    label\n",
            "2199                      ya allah ya allah x)              ya allah ya allah x  ar_LATN\n",
            "2200                   Ya rab tekhlas hel game          ya rab tekhlas hel game  ar_LATN\n",
            "2201                           Istaqfurullah 😂                   istaqfurullah   ar_LATN\n",
            "2202  @g56_ 7abeeebbbbbie enty ghalaaayyyy 😩❤️   abeeebbbbbie enty ghalaaayyyy   ar_LATN\n",
            "2203    Ya Hasiib... Ya Jaliil... Ya Mujiib...    ya hasiib ya jaliil ya mujiib  ar_LATN\n",
            "---\n",
            "                                                  tweet                                              tweet label\n",
            "2211  Gözləmək səbrin imtahanıdır.Sevinc qapısının a...  gözləmək səbrin imtahanıdırsevinc qapısının aç...    az\n",
            "---\n",
            "                                                  tweet                                              tweet label\n",
            "2212  Ботас може да стане изключителен пилот, смята ...  ботас може да стане изключителен пилот смята с...    bg\n",
            "2213  Най-добре се смее ,който се смее последен --дн...  найдобре се смее който се смее последен днес м...    bg\n",
            "---\n",
            "                                                  tweet                                              tweet label\n",
            "2222  Najbolji 💟💟 blue angels berlin http://t.co/4wF...                      najbolji  blue angels berlin     bs\n",
            "2223  Subotić oslobodjen optužbi za šverc cigareta- ...      subotić oslobodjen optužbi za šverc cigareta     bs\n",
            "2224              @samobakrac u septembru ulaze u vlast                          u septembru ulaze u vlast    bs\n",
            "2225  Italijanski novinar Vanoli(70) upozorava: VAKC...  italijanski novinar vanoli upozorava vakcinama...    bs\n",
            "---\n",
            "                                                  tweet                                              tweet label\n",
            "2226  @Laureta8 a tu cariñet dspues prlem molts besi...            a tu cariñet dspues prlem molts besitos    ca\n",
            "2227  No en tinc ni idea Teresa @llobetilla, esperem...  no en tinc ni idea teresa  esperem que respong...    ca\n",
            "2228  Res es imposible. Ell m'ha ensenyat que si vol...  res es imposible ell mha ensenyat que si vols ...    ca\n",
            "2229                   @CescGF jaspi aventures mata! :)                              jaspi aventures mata     ca\n",
            "2230  @Somia_Truites Ets tot un caballer!!! I una mo...   ets tot un caballer i una molt bona persona a...    ca\n",
            "---\n",
            "                                                  tweet                                              tweet label\n",
            "2248  Mechanical Moth - Winternachtstraum texty a př...  mechanical moth  winternachtstraum texty a pře...    cs\n",
            "2249  Na Novotného lávce jsou k vidění Smetanovy kre...  na novotného lávce jsou k vidění smetanovy kre...    cs\n",
            "2250  #ojeu #notice 33115100 €521k Český Krumlov:CT ...     €k český krumlovct skener dodávka ct skener...    cs\n",
            "2251  Sestra nevěsty má dle maminky důležitou úlohu....  sestra nevěsty má dle maminky důležitou úlohu ...    cs\n",
            "---\n",
            "                                                  tweet                                              tweet label\n",
            "2253                           @UnibetNorge 2-1 til arg                                            til arg    da\n",
            "2254  Blank &amp; Jones - Fallen (Delerium &amp; Ran...  blank  jones  fallen delerium  rani sangtekste...    da\n",
            "2255         @jesperdahl @kaarelbk det er jo helt vildt                               det er jo helt vildt    da\n",
            "2256  @mpbdavidsen Jeg har nydt hvert et minut. Men ...   jeg har nydt hvert et minut men jeg føler ikk...    da\n",
            "2257  BB (Les) - Comme Un Loup sangtekster og oversæ...  bb les  comme un loup sangtekster og oversætte...    da\n",
            "---\n",
            "                                                  tweet                                              tweet label\n",
            "2260                @hmjahnel guten morgen, der herr :)                             guten morgen der herr     de\n",
            "2261  @SkaKeller @GreensEP @Piratenpartei @JanAlbrec...                                      wie peinlich     de\n",
            "2262  Ich habe 16,100 Goldmünzen gesammelt! http://t...                 ich habe  goldmünzen gesammelt        de\n",
            "2263  Dachte früher immer es heißt \"Sommer Angebot\" ...  dachte früher immer es heißt sommer angebot an...    de\n",
            "2264  Da kommt Bei mir ist es sau langsam; keine Sch...  da kommt bei mir ist es sau langsam keine schu...    de\n",
            "---\n",
            "                                                  tweet                                              tweet label\n",
            "2432  Όλα ξεκινάνε από τον ανύπαρκτο επαγγελματικό π...  όλα ξεκινάνε από τον ανύπαρκτο επαγγελματικό π...    el\n",
            "2433  http://t.co/sLTRx7aTgP  #Bring1DToGreeceCampai...                                       διακοσια ολε    el\n",
            "2434  Μπαίνει και περπατάει κατσαρίδα στο σπιτι σαν ...  μπαίνει και περπατάει κατσαρίδα στο σπιτι σαν ...    el\n",
            "2435  @its_leonidas Δεν νομίζω να έχετε λόγο να το κ...   δεν νομίζω να έχετε λόγο να το κάνετε ούτε δι...    el\n",
            "2436  Πανηγυρίζει και η ΔΗΜΑΡ για την επέλαση των ισ...  πανηγυρίζει και η δημαρ για την επέλαση των ισ...    el\n",
            "---\n",
            "                                                  tweet                                              tweet label\n",
            "2460  Οταν όμως είναι το κράτος που επιβάλλει διά νό...  οταν όμως είναι το κράτος που επιβάλλει διά νό...    en\n",
            "2461                             @Duaa_e_aamir  urself*                                             urself    en\n",
            "2462                               1/5 please #JulyWish                                            please     en\n",
            "2463                                           to happy                                           to happy    en\n",
            "2464      Wtfffff already a month of summer has gone by      wtfffff already a month of summer has gone by    en\n",
            "---\n",
            "                                                   tweet                                              tweet label\n",
            "20968  LAS EMOCIONES dependen del grado de: CANTIDAD,...  las emociones dependen del grado de cantidad c...    es\n",
            "20969  No pare un segundo en todo el dia, todavia me ...  no pare un segundo en todo el dia todavia me f...    es\n",
            "20970             Dios tu tienes algo preparado para my♥              dios tu tienes algo preparado para my    es\n",
            "20971  si te haces el piercing en el labio y no te qu...  si te haces el piercing en el labio y no te qu...    es\n",
            "20972  Ahora en @AldeaLocalZte  hablamos de la creaci...  ahora en   hablamos de la creación de la parro...    es\n",
            "---\n",
            "Empty DataFrame\n",
            "Columns: [tweet, tweet, label]\n",
            "Index: []\n",
            "---\n",
            "                                                   tweet                                              tweet label\n",
            "26900  رییس فراکسیون زنان مجلس تلویحا به وجود حکم حکو...  رییس فراکسیون زنان مجلس تلویحا به وجود حکم حکو...    fa\n",
            "26901  افزایش ۲۰ درصدی شمار مبتلایان به ویروس ابولا د...  افزایش ۲۰ درصدی شمار مبتلایان به ویروس ابولا د...    fa\n",
            "26902  @farzi_mahdi @aydaezadi @mrdodel @pariart71 پر...                              پريسااا صداش در نمياد    fa\n",
            "26903  دانلود The Ministry of Silly Walks 1.0.3 بازی ...  دانلود the ministry of silly walks  بازی اکشن ...    fa\n",
            "26904                          @shavoor تلاش خودت رو بکن                                   تلاش خودت رو بکن    fa\n",
            "---\n",
            "                                                   tweet                                              tweet label\n",
            "26918  @HenriAlen Tosielämän välipalaa miehellä #kuit...     tosielämän välipalaa miehellä   terveellistä      fi\n",
            "26919  Miss märkäpaita #mattopesulla #suomalainentrad...                          miss märkäpaita   tämäkin    fi\n",
            "26920  @Mirppu outoo vaa kuvitella ku et käy enää bäk...        outoo vaa kuvitella ku et käy enää bäkkäril    fi\n",
            "26921  @anskiiuu Uskon! :D Mutt jokainen tsäänssi on ...   uskon d mutt jokainen tsäänssi on niille mahd...    fi\n",
            "26922  Jotenkin, ihan hitusen tosin, näyttäisi siltä,...  jotenkin ihan hitusen tosin näyttäisi siltä et...    fi\n",
            "---\n",
            "                                                   tweet                                              tweet label\n",
            "26933                @Alicia_Mammola jte comprend ahah 💕                                 jte comprend ahah     fr\n",
            "26934  Je suis sur qui y'as plus de prévente a Black ...  je suis sur qui yas plus de prévente a black top     fr\n",
            "26935  @luke5sos hey bb ça va tu t'amuse bien en boit...       hey bb ça va tu tamuse bien en boite de nuit    fr\n",
            "26936  J'ai hâte qu'elle regarde jusqu'au bout  Bon j...  jai hâte quelle regarde jusquau bout  bon je v...    fr\n",
            "26937  Oklmzer le taf, petit bureau avec double scree...  oklmzer le taf petit bureau avec double screen...    fr\n",
            "---\n",
            "                                                   tweet                                       tweet label\n",
            "27883                               איזה הרגשה מסריחה...                           איזה הרגשה מסריחה    he\n",
            "27884                                  אין היום משחקקק 😩                            אין היום משחקקק     he\n",
            "27885  @LDJ_France @Tsahal_IDF @JuifIsrael @Tsipora77...                    shabbat shalom umevorakh    he\n",
            "27886  “@ZoharHazani: “@AMITELIYAO: “@shiraz_nachmias...  “ “ “ חייבת ללכת לראות אשמת הכוכבים שוב”””    he\n",
            "27887                              @karin201020 נקווה של                                    נקווה של    he\n",
            "---\n",
            "                                                   tweet                                              tweet label\n",
            "27910  किसे सुनाएँ अपने गम के चन्द पन्नो के किस्से, य...  किसे सुनाएँ अपने गम के चन्द पन्नो के किस्से यह...    hi\n",
            "27911  भोपाल-राज्यसभा सांसद अनिल दवे दिल्ली रवाना,एयर...  भोपालराज्यसभा सांसद अनिल दवे दिल्ली रवानाएयर इ...    hi\n",
            "27912  13/7 मुंबई धमाकों को लेकर आंतकी भटकल को कोई पछ...   मुंबई धमाकों को लेकर आंतकी भटकल को कोई पछतावा...    hi\n",
            "27913        @sagornoyon70 নেহি কার পাওগে ;) @ShManus786                                   নেহি কার পাওগে      hi\n",
            "27914  #RT #ipad #iphone इराक में अपने शिया भाइयों की...     इराक में अपने शिया भाइयों की मदद के लिए जान...    hi\n",
            "---\n",
            "                                                   tweet                                              tweet    label\n",
            "27926  rochi di kuch controversial hone pe apne aap o...  rochi di kuch controversial hone pe apne aap o...  hi-Latn\n",
            "27927  @Nilesh_Shah usse mil lijiye.. aapko b pta hai...   usse mil lijiye aapko b pta hai kiski baat kr...  hi-Latn\n",
            "27928    Yeh meri umar ne meri zindagi kharab kardi hai.     yeh meri umar ne meri zindagi kharab kardi hai  hi-Latn\n",
            "27929                                       Maa ki aankh                                       maa ki aankh  hi-Latn\n",
            "27930  mar jayiya tere bin  mar jayiya tere bin mar j...  mar jayiya tere bin  mar jayiya tere bin mar j...  hi-Latn\n",
            "---\n",
            "                                                   tweet                                              tweet label\n",
            "27941       Aa izgrickala sam sve nokte do zivca,umireem        aa izgrickala sam sve nokte do zivcaumireem    hr\n",
            "27942                     jebote pa muskarci nose suknje                     jebote pa muskarci nose suknje    hr\n",
            "27943  majka kaze da kad bih pojela vola ne bi mi se ...  majka kaze da kad bih pojela vola ne bi mi se ...    hr\n",
            "27944                   O, zasto smo sada toliko daleko?                     o zasto smo sada toliko daleko    hr\n",
            "27945                   @mlccs1 kuku znam tog lika .....                                kuku znam tog lika     hr\n",
            "---\n",
            "                                                   tweet                                              tweet label\n",
            "27946  Jan majorite moun ap viv Ayiti a RT @RomeroBou...  jan majorite moun ap viv ayiti a rt  kijan mou...    ht\n",
            "27947  Gwo vant pa alamod Ekri ou rele 37201033 mande...  gwo vant pa alamod ekri ou rele  mande pwodwi ...    ht\n",
            "---\n",
            "                                                   tweet                                              tweet label\n",
            "27965          disaat kita terlalu bergantung kepada org          disaat kita terlalu bergantung kepada org    id\n",
            "27966  Klo udh gk syg mndng tnggln aja drpda kek gni ...  klo udh gk syg mndng tnggln aja drpda kek gni ...    id\n",
            "27967                  Orang benar akan hidup oleh iman.                   orang benar akan hidup oleh iman    id\n",
            "27968                           @LarasNiaty_ Iyy dong :)                                          iyy dong     id\n",
            "27969  Woiiii @kasyfanzulamia @Aulia_Javadd @NurAdhin...      woiiii    kalian harus ikut bukber kita wajib    id\n",
            "---\n",
            "                                                   tweet                                              tweet label\n",
            "30972  Ti svegli e improvvisamente #sixseasonsandamov...                     ti svegli e improvvisamente       it\n",
            "30973  Enzo Salvi - \"Va va va\" E chi non la canta VAVAVA     enzo salvi  va va va e chi non la canta vavava    it\n",
            "30974  Claudio Vismara più che ted di how i met your ...  claudio vismara più che ted di how i met your ...    it\n",
            "30975  Il viaggio in progressione di Arno Cost &amp; ...  il viaggio in progressione di arno cost  norma...    it\n",
            "30976  SEI UN BEL PORCO IO SONO UNA TROIA IN CALORE (...  sei un bel porco io sono una troia in calore t...    it\n",
            "---\n",
            "                                                   tweet                                              tweet label\n",
            "31311             @drm821 明日の本番、どうなっているか、ツイートにご期待ください…！！                     明日の本番、どうなっているか、ツイートにご期待ください…！！    ja\n",
            "31312      かなり雨降ってるけど晴れるのかしら・・・今日は出かけないからどっちでもいいけどちょっと寒い      かなり雨降ってるけど晴れるのかしら・・・今日は出かけないからどっちでもいいけどちょっと寒い    ja\n",
            "31313                              ガンシューティング歴はそろそろ10年になる                                ガンシューティング歴はそろそろ年になる    ja\n",
            "31314  2011 FIFA女子ワールドカップ　なでしこジャパン世界一 すぽレットキャンペーン-Mic...   fifa女子ワールドカップ　なでしこジャパン世界一 すぽレットキャンペーンmicrosof...    ja\n",
            "31315                                @s19_c88 つっちゃんおはよー。                                         つっちゃんおはよー。    ja\n",
            "---\n",
            "                                                   tweet                                              tweet    label\n",
            "41732  http://t.co/Ym4v14YvtE #Description kara-komik...    karakomikku yakinbyotou ni furuedisyonn opez...  ja_LATN\n",
            "---\n",
            "                                                   tweet                                              tweet label\n",
            "41733  @menarafmbali CemonkWyapeksa dinuskam slm buat...   cemonkwyapeksa dinuskam slm buat yogaalc jube...    jv\n",
            "41734        lek kadung gak mood langsung wegah lapo2 :3           lek kadung gak mood langsung wegah lapo     jv\n",
            "41735  @belgiis1 koe kui lo mbah seng tuwek.an -__- e...    koe kui lo mbah seng tuwekan  eling umur nggih     jv\n",
            "41736  makane maenke ki daendels haha RT @p_bayuprada...  makane maenke ki daendels haha rt  congratulat...    jv\n",
            "41737                    @akhyarnst rokok trossss hahaha                               rokok trossss hahaha    jv\n",
            "---\n",
            "                                                   tweet                                              tweet label\n",
            "41743  ញាំថ្នាំផ្តាសសាយខ្លាំពេកឡើងគេញលែងចង់ចង់ក្រោកហើ...    ញាំថ្នាំផ្តាសសាយខ្លាំពេកឡើងគេញលែងចង់ចង់ក្រោកហើយ    km\n",
            "41744  ស្ពានអាកាសស្ទឹងមានជ័យចាប់ដំណើរការពីថ្ងៃព្រហស្ប...  ស្ពានអាកាសស្ទឹងមានជ័យចាប់ដំណើរការពីថ្ងៃព្រហស្ប...    km\n",
            "---\n",
            "                                                   tweet                                              tweet label\n",
            "41745                   쟈긔 쟈긔 쟈긔 쟈긔 쟈긔 쟈긔 쟈긔 쟈긔 쟈긔 쟈긔 쟈긔                   쟈긔 쟈긔 쟈긔 쟈긔 쟈긔 쟈긔 쟈긔 쟈긔 쟈긔 쟈긔 쟈긔    ko\n",
            "41746                                 @sweetieYH 그니까ㅋㅋㅋㅋ                                            그니까ㅋㅋㅋㅋ    ko\n",
            "41747  ㅠㅠㅠㅠㅠㅠㅠㅠㅠㅠㅠㅠㅠㅠㅠㅠㅠㅠㅠㅠㅠㅠㅠㅠㅠㅠㅠㅠㅠㅠㅠㅠㅠㅠㅠㅠㅠㅠㅠㅠㅠㅠㅠㅠㅠㅠ...  ㅠㅠㅠㅠㅠㅠㅠㅠㅠㅠㅠㅠㅠㅠㅠㅠㅠㅠㅠㅠㅠㅠㅠㅠㅠㅠㅠㅠㅠㅠㅠㅠㅠㅠㅠㅠㅠㅠㅠㅠㅠㅠㅠㅠㅠㅠ...    ko\n",
            "41748                                     @hscha87 못난아..                                                못난아    ko\n",
            "41749  어제랑 똑같은 음악 똑같은 부분에서 컴이 멈추길래 혹시나 해서 시험해봤다 장미의 기...  어제랑 똑같은 음악 똑같은 부분에서 컴이 멈추길래 혹시나 해서 시험해봤다 장미의 기...    ko\n",
            "---\n",
            "                      tweet     tweet    label\n",
            "42203  @SL_kyuraw gomawoo:)   gomawoo  ko_LATN\n",
            "---\n",
            "Empty DataFrame\n",
            "Columns: [tweet, tweet, label]\n",
            "Index: []\n",
            "---\n",
            "Empty DataFrame\n",
            "Columns: [tweet, tweet, label]\n",
            "Index: []\n",
            "---\n",
            "Empty DataFrame\n",
            "Columns: [tweet, tweet, label]\n",
            "Index: []\n",
            "---\n",
            "Empty DataFrame\n",
            "Columns: [tweet, tweet, label]\n",
            "Index: []\n",
            "---\n",
            "Empty DataFrame\n",
            "Columns: [tweet, tweet, label]\n",
            "Index: []\n",
            "---\n",
            "                                                   tweet                                              tweet label\n",
            "42204  Sed fugit interea,fugit irreparabile tempus, s...  sed fugit intereafugit irreparabile tempus sin...    ms\n",
            "42205  @iloveshf Aku tadi baru nampak dia! Senyum je ...   aku tadi baru nampak dia senyum je aku mampu ...    ms\n",
            "42206  @nazirulhaziqs: @ItsMymie_ haha. hzq rendah je...    haha hzq rendah je okay mcm budak darjah  ha...    ms\n",
            "42207                          Hati berasa dupan ye haha                          hati berasa dupan ye haha    ms\n",
            "42208  So tak boleh la beli jongkong emas simpan kat ...  so tak boleh la beli jongkong emas simpan kat ...    ms\n",
            "---\n",
            "                                                   tweet                                              tweet label\n",
            "42328  Foeballuh! “@Spitstwit: Gamecolumn: Het is maa...  foeballuh “ gamecolumn het is maar een spellet...    nl\n",
            "42329                        Proefwerken gimgen best oké                        proefwerken gimgen best oké    nl\n",
            "42330  @ANWBverkeer dus via de A15 - A4 ?  Wellicht d...   dus via de a  a   wellicht dit te vermelden t...    nl\n",
            "42331  La Mer kiest voor Beautypartner als leverancie...  la mer kiest voor beautypartner als leverancie...    nl\n",
            "42332  Willem Drees had dat al snel door dat de socia...  willem drees had dat al snel door dat de socia...    nl\n",
            "---\n",
            "                                                   tweet                                              tweet label\n",
            "42510  Nytt pris: E85: 8,88 B95: 14,25 Diesel: 14,02 ...                        nytt pris e  b  diesel         no\n",
            "42511  AUF vil la deler av kafébygget på Utøya bestå ...  auf vil la deler av kafébygget på utøya bestå ...    no\n",
            "42512  @Harryisthecraic kjæresten til søskenbarnet mi...   kjæresten til søskenbarnet mitt er her og fra...    no\n",
            "42513  @OpkvitneEaters Fifas disciplinary code er skr...   fifas disciplinary code er skrevet slik at ma...    no\n",
            "42514  Neymar av banen med Norges folkesykdom. Vondt ...  neymar av banen med norges folkesykdom vondt i...    no\n",
            "---\n",
            "                                                   tweet                                              tweet label\n",
            "42521  Edward III nie mógł zostać... - http://t.co/ii...                       edward iii nie mógł zostać      pl\n",
            "42522  @perfctcalum właśnie sie skaplam ze ty mialam ...   właśnie sie skaplam ze ty mialam z tego ikonk...    pl\n",
            "42523             @mailencanossini: kolor frrrreza #lulu                                    kolor frrrreza     pl\n",
            "42524                    @zarrydiary ty mi nie odpisałas                                ty mi nie odpisałas    pl\n",
            "42525  @awhmyleigh Ale to przecież fair... Poza tym t...   ale to przecież fair poza tym to tylko na chw...    pl\n",
            "---\n",
            "                                                   tweet                                              tweet label\n",
            "42616                                     meio estranho!                                      meio estranho    pt\n",
            "42617  Não se gostam?  Vai um pra cada lado e pronto ...  não se gostam  vai um pra cada lado e pronto p...    pt\n",
            "42618  Eu adoro ir às compras. Olha só o que eu compr...  eu adoro ir às compras olha só o que eu compre...    pt\n",
            "42619  @gruviquantica estas muito sofisticada esses ú...   estas muito sofisticada esses últimos dias amiga    pt\n",
            "42620                                    Boa noite ♥ ☺ '                                       boa noite       pt\n",
            "---\n",
            "                                                   tweet                                              tweet label\n",
            "45494                                           Revoltei                                           revoltei    ro\n",
            "45495  #Horizon2020 este cel mai amplu program de cer...   este cel mai amplu program de cercetare al ue...    ro\n",
            "45496  @ElenaRogoz Mda da! Acum o saptamana 0.0 sper ...   mda da acum o saptamana  sper ca macar incerc...    ro\n",
            "45497  ITI PERMITI acum sa-ti faci publicitate! 100 d...  iti permiti acum sati faci publicitate  de eur...    ro\n",
            "45498  Tracy Morgan, victimă a unui accident rutier c...  tracy morgan victimă a unui accident rutier ca...    ro\n",
            "---\n",
            "                                                   tweet                                              tweet label\n",
            "45506                    @egosh_69 в 6 утра?есть?ахахаха                                 в  утраестьахахаха    ru\n",
            "45507  Кинофильм собрал за время проката 230 984 145 ...  кинофильм собрал за время проката    руб на не...    ru\n",
            "45508  Притча о разводе | Свадебный коктейль http://t...             притча о разводе | свадебный коктейль     ru\n",
            "45509     Проекты домов из бревна http://t.co/nKtLxsiBhD                           проекты домов из бревна     ru\n",
            "45510         8-я серия 03.07.2014 смотреть онлайн - 2x2                        я серия  смотреть онлайн  x    ru\n",
            "---\n",
            "Empty DataFrame\n",
            "Columns: [tweet, tweet, label]\n",
            "Index: []\n",
            "---\n",
            "                                                   tweet                                              tweet label\n",
            "46496            a boli uvo svajcarsku, puni su k'o brod              a boli uvo svajcarsku puni su ko brod    sr\n",
            "46497                            Prekini da mi se drkaš.                             prekini da mi se drkaš    sr\n",
            "46498  Nosim samo Nike, imam dijamantska pluca  ček s...  nosim samo nike imam dijamantska pluca  ček sa...    sr\n",
            "46499         ZAŠTO JE ENDRU SKOT GEJ, ZAŠTOOOOOOOOOOOOO          zašto je endru skot gej zaštooooooooooooo    sr\n",
            "46500  ĐOKOVIĆ: Teško bilo posle četvrtog seta | Srbi...  đoković teško bilo posle četvrtog seta | srbij...    sr\n",
            "---\n",
            "                                                   tweet                                              tweet label\n",
            "46528  @Wilbacher På riktigt alltså. Du får 10% av in...         på riktigt alltså du får  av intäkterna ok    sv\n",
            "46529  Mora satsar för att vara med i kampen om SHL-p...  mora satsar för att vara med i kampen om shlpl...    sv\n",
            "46530  Vårt glamourösa backstageområde. Längst upp ti...  vårt glamourösa backstageområde längst upp til...    sv\n",
            "46531  @rudbergamanda nice! Vill fan också tillbaka r...    nice vill fan också tillbaka redan nu i sommar     sv\n",
            "46532  @Krakel_ @kringelkrokar  Ta tilllbaka Kentas l...            ta tilllbaka kentas låt från rasisterna    sv\n",
            "---\n",
            "                                                   tweet                                              tweet label\n",
            "46582  LMFAOO RT \"@Limo_alan: \"@Emahnue: Ziko wapi iz...  lmfaoo rt limoalan emahnue ziko wapi izo scree...    sw\n",
            "46583  HATIMAYE MWISHO WA DUNIA UMEKARIBIA..!! FREEMA...  hatimaye mwisho wa dunia umekaribia freemason ...    sw\n",
            "46584                         @stevengitz nilipoteza cmu                                     nilipoteza cmu    sw\n",
            "46585  Liverpool yamsajili Markovic kwa £20m kuziba p...  liverpool yamsajili markovic kwa £m kuziba pengo     sw\n",
            "46586  KUELEKEA UCHAGUZI 2015:: VIJANA WAAMUA KUTANGA...  kuelekea uchaguzi  vijana waamua kutangaza nia...    sw\n",
            "---\n",
            "                                                   tweet                                              tweet label\n",
            "46588  சார்.உங்க பழைய நாவலை எல்லாம் கிலோ 50 ரூபா க்கு...  சார்உங்க பழைய நாவலை எல்லாம் கிலோ  ரூபா க்கு வா...    ta\n",
            "46589                      @silvakaskas திருடா நான் ரெடி                                   திருடா நான் ரெடி    ta\n",
            "46590  MH17 :அதிர்ஷ்டவசமாக தப்பிய பிரிட்டன் தம்பதி ht...          mh அதிர்ஷ்டவசமாக தப்பிய பிரிட்டன் தம்பதி     ta\n",
            "46591  பார்வையற்ற குழந்தைகளை அடித்துத் துன்புறுத்திய ...  பார்வையற்ற குழந்தைகளை அடித்துத் துன்புறுத்திய ...    ta\n",
            "46592                         அஞ்சான் பாடல்கள் கிடைச்சதா                         அஞ்சான் பாடல்கள் கிடைச்சதா    ta\n",
            "---\n",
            "                          tweet            tweet    label\n",
            "46597  @bunbaby1 Vanakkam fakeu   vanakkam fakeu  ta_LATN\n",
            "---\n",
            "                                                   tweet                                              tweet label\n",
            "46598      @BTSJK_97BOT @jungkook_fxxk พึ่งเลิกเรียน -.-                                     พึ่งเลิกเรียน     th\n",
            "46599             น้องต้วนกับแจ๊คสันและเจบีฮามาก ไอสาดดด             น้องต้วนกับแจ๊คสันและเจบีฮามาก ไอสาดดด    th\n",
            "46600  ทำไมกินกลูต้าแล้วไม่เหนผลซักที วันนี่มีคำตอบ h...      ทำไมกินกลูต้าแล้วไม่เหนผลซักที วันนี่มีคำตอบ     th\n",
            "46601  ลูกเหม็นนี่มันเหม็นสมชื่อจริงๆ ตอนนี้สับสนว่าก...  ลูกเหม็นนี่มันเหม็นสมชื่อจริงๆ ตอนนี้สับสนว่าก...    th\n",
            "46602                                    อยากหลับสัก10ปี                                      อยากหลับสักปี    th\n",
            "---\n",
            "                                                   tweet                                              tweet label\n",
            "47060  At least yung mukha ko d malala tulad ni Jayso...  at least yung mukha ko d malala tulad ni jayso...    tl\n",
            "47061           Yung mga nag uunfollow mga pa famous ./.              yung mga nag uunfollow mga pa famous     tl\n",
            "47062  @ALTHEADELATORRE Ayy. Di naman ganon yung akin...                      ayy di naman ganon yung akin     tl\n",
            "47063                  Yesss! Galing selos ako kuya! ./.                       yesss galing selos ako kuya     tl\n",
            "47064  @avegaille ah.. kala ko fan ka din ng f1. 😊 pa...   ah kala ko fan ka din ng f  para akong one of...    tl\n",
            "---\n",
            "                                                   tweet                                              tweet label\n",
            "47381  I'm at Avrupa Birliği Bakanlığı w/ 6 others ht...          im at avrupa birliği bakanlığı w  others     tr\n",
            "47382                    @ALKOLKAFAYAPAR ben uyumadım da                                    ben uyumadım da    tr\n",
            "47383                    cigjofte seven kizlar selam :dd                     cigjofte seven kizlar selam dd    tr\n",
            "47384  Dünya mazlumlarının umudu. Rabbim yolunu açık ...  dünya mazlumlarının umudu rabbim yolunu açık e...    tr\n",
            "47385  millet aşk derdine düşmüş biz burda iftar saat...  millet aşk derdine düşmüş biz burda iftar saat...    tr\n",
            "---\n",
            "                                                   tweet                                              tweet label\n",
            "48050  В Ужгороді священик затримав підозрілого «фото...  в ужгороді священик затримав підозрілого «фото...    uk\n",
            "48051  #фитнес #спорт #акции #fitness #lviv #lvov #Ль...  фитнес спорт акции    львов zumba на вул науко...    uk\n",
            "48052  @UKRINFORM @ukrpravda_news Хватить! Ми знаємо ...    хватить ми знаємо що вони стурбовані вже пів...    uk\n",
            "48053  Яценюк очікує, що за 10 років Україна буде пов...  яценюк очікує що за  років україна буде повніс...    uk\n",
            "48054  Волонтери передали на Донбас б�... http://t.co...                   волонтери передали на донбас б�     uk\n",
            "---\n",
            "                                                   tweet                  tweet label\n",
            "48066  “@NkealHarry15: Rasta E-Mann 😂😂😂 @EmannHamm_TY...       “ rasta emann      und\n",
            "48067                                 @MonaKazok  😂😂😂😂😂😂                          und\n",
            "48068                             #aliadosestasdemassss!                          und\n",
            "48069                                  Padahal wes onlen      padahal wes onlen   und\n",
            "48070                 #재효효진행쇼 #재효진행쇼 #안재효♡문효진 @blockbhyo  재효효진행쇼 재효진행쇼 안재효♡문효진    und\n",
            "---\n",
            "                                                   tweet                                              tweet label\n",
            "52603  برطانیہ: سیاہ فام بچے زیادہ فکرمند http://t.co...                 برطانیہ سیاہ فام بچے زیادہ فکرمند     ur\n",
            "52604  چھِن نہ جائے ترا تبسّمِ لب ،   میرے درد و الم ...  چھِن نہ جائے ترا تبسّمِ لب ،   میرے درد و الم ...    ur\n",
            "52605  @phanerozoic11 @dufferistan کس کے ساتھ کیا ہور...                            کس کے ساتھ کیا ہوریا؟      ur\n",
            "52606  جماعت احمدیہ کے بارے حقائق اور پاکستان کی موجو...  جماعت احمدیہ کے بارے حقائق اور پاکستان کی موجو...    ur\n",
            "52607  کچھ لوگ نماز پڑھتے ہیں ، روزہ رکھتے ہیں ہر وہ ...  کچھ لوگ نماز پڑھتے ہیں ، روزہ رکھتے ہیں ہر وہ ...    ur\n",
            "---\n",
            "                                                   tweet                                              tweet    label\n",
            "52610  Dawar-e-Hasaar Ne Ehy Keh Ky Mujhy Bakash Dia ...  dawarehasaar ne ehy keh ky mujhy bakash dia kh...  ur_LATN\n",
            "52611  @preeti_luvkcnwk wah wah sukriya aapka...iss s...   wah wah sukriya aapkaiss shandar swagat ke li...  ur_LATN\n",
            "52612  @Wiseguy70 @VneedChange @waqas_azeem_ch @AnamK...                            aik jadu ki jhapi do na  ur_LATN\n",
            "52613  Qur'an Mein Tajdeed Ka Tariqa http://t.co/z19N...             quran mein tajdeed ka tariqa            ur_LATN\n",
            "52614  @Nice_DuLHaN: Nahi Hum MOhtaaj Kisi Ke Ek Tere...   nahi hum mohtaaj kisi ke ek terey siwa yaa al...  ur_LATN\n",
            "---\n",
            "                                                   tweet                                              tweet label\n",
            "52622  MÙA HÈ 2014 Mùa hè đến là dịp để gia đình bạn ...  mùa hè  mùa hè đến là dịp để gia đình bạn tung...    vi\n",
            "52623  Tôi đã thích video http://t.co/dm62mcF9EU [Alo...  tôi đã thích video  alozovn ghế đưa đa năng sl...    vi\n",
            "52624  Lù hán à =)))))))))))))) lúc uống nc' đắng thì...  lù hán à  lúc uống nc đắng thì mặt nhăn còn  n...    vi\n",
            "52625  Khi một người quyết định IM LẶNG...  . Không p...  khi một người quyết định im lặng   không phải ...    vi\n",
            "52626                    ngày đẹp zời và rất buồn ngủ :(                      ngày đẹp zời và rất buồn ngủ     vi\n",
            "---\n",
            "                                                   tweet                                              tweet label\n",
            "52639  @SJLRadio1 @Umhlobo_Wenene @Maxhoseni @NonalaT...      n ndimpha zonke  ifani ingoma ezimnandi na...    xh\n",
            "---\n",
            "Empty DataFrame\n",
            "Columns: [tweet, tweet, label]\n",
            "Index: []\n",
            "---\n",
            "                                                   tweet                                              tweet  label\n",
            "52640                        被肆意吹捧出来的“经典”作家，如：冰心，矛盾，郭沫若等                        被肆意吹捧出来的“经典”作家，如：冰心，矛盾，郭沫若等  zh-CN\n",
            "52641      一直让你流泪的条件再好也不能要，一直让你笑的，就算吃苦也值得。宁可笑着累，也不要哭着享受。      一直让你流泪的条件再好也不能要，一直让你笑的，就算吃苦也值得。宁可笑着累，也不要哭着享受。  zh-CN\n",
            "52642  热点文章：《《京城81号》吴镇宇特辑—在线播放—优酷网，视频高清在线观看》 http://t...        热点文章：《《京城号》吴镇宇特辑—在线播放—优酷网，视频高清在线观看》  原站链接：   zh-CN\n",
            "52643  我取得了一项新成就：`管理员`.尝试在iPad版Tribez游戏中打败我吧！http://t...              我取得了一项新成就：管理员尝试在ipad版tribez游戏中打败我吧！    zh-CN\n",
            "52644  真佛宗大马各分堂中元节法会活动，欢迎护持 !  农历七月的『中元節』即将到来。农历七月是佛教...  真佛宗大马各分堂中元节法会活动，欢迎护持   农历七月的『中元節』即将到来。农历七月是佛教的...  zh-CN\n",
            "---\n",
            "                                                   tweet                                              tweet  label\n",
            "52665   @EmmaKongms 所以我地要叫朋友來開account 先，緊急情況要識轉台睇Twitter               所以我地要叫朋友來開account 先，緊急情況要識轉台睇twitter  zh-TW\n",
            "52666  《音速經紀》於背地裡支援音速子 引導玩家的 “音樂女神”「繆斯」登場 http://t.co...                《音速經紀》於背地裡支援音速子 引導玩家的 “音樂女神”「繆斯」登場   zh-TW\n",
            "52667        大立光2450盤中新高 台股收漲9520 http://t.co/T1x9EhD7mi                                      大立光盤中新高 台股收漲   zh-TW\n",
            "52668                              @hundtw 不要眯啦 來喝一杯啦 #喂                                       不要眯啦 來喝一杯啦 喂  zh-TW\n",
            "52669  - 賀文p14 台灣訪問你地 其他成員話你係全隊最天不怕地不怕果陣 我林： 如果你去拍叢法 ...   賀文p 台灣訪問你地 其他成員話你係全隊最天不怕地不怕果陣 我林： 如果你去拍叢法 會唔會...  zh-TW\n",
            "---\n",
            "Empty DataFrame\n",
            "Columns: [tweet, tweet, label]\n",
            "Index: []\n",
            "---\n"
          ]
        }
      ]
    },
    {
      "cell_type": "code",
      "metadata": {
        "id": "ht7tAk-r5Re8"
      },
      "source": [
        "cleaned_dataset = clean_data(dataset, \"tweet\")"
      ],
      "id": "ht7tAk-r5Re8",
      "execution_count": 20,
      "outputs": []
    },
    {
      "cell_type": "markdown",
      "metadata": {
        "id": "FFp9mg6b5weg"
      },
      "source": [
        "# 4.Data Augmentation"
      ],
      "id": "FFp9mg6b5weg"
    },
    {
      "cell_type": "markdown",
      "metadata": {
        "id": "rIrKnkJQ6FQ2"
      },
      "source": [
        "## 4.1 Back translation"
      ],
      "id": "rIrKnkJQ6FQ2"
    },
    {
      "cell_type": "code",
      "metadata": {
        "id": "isQllvdnBNjy"
      },
      "source": [
        "! pip install transformers\n",
        "! pip install mosestokenizer\n",
        "! pip install SentencePiece"
      ],
      "id": "isQllvdnBNjy",
      "execution_count": null,
      "outputs": []
    },
    {
      "cell_type": "code",
      "metadata": {
        "id": "bd9bQWlWBE4K"
      },
      "source": [
        "import transformers, mosestokenizer"
      ],
      "id": "bd9bQWlWBE4K",
      "execution_count": null,
      "outputs": []
    },
    {
      "cell_type": "code",
      "metadata": {
        "id": "zlKxqKom6GON"
      },
      "source": [
        "from transformers import MarianMTModel, MarianTokenizer\n",
        "\n",
        "# Helper function to download data for a language\n",
        "def download(model_name):\n",
        "    tokenizer = MarianTokenizer.from_pretrained(model_name)\n",
        "    model = MarianMTModel.from_pretrained(model_name)\n",
        "    return tokenizer, model\n",
        "\n",
        "\n",
        "\n",
        "# download model for English -> Romance\n",
        "#tmp_lang_tokenizer, tmp_lang_model = download('Helsinki-NLP/opus-mt-en-ROMANCE')\n",
        "# download model for Romance -> English\n",
        "#src_lang_tokenizer, src_lang_model = download('Helsinki-NLP/opus-mt-ROMANCE-en')\n",
        "\n",
        "\n",
        "\n",
        "def translate(texts, model, tokenizer, language):\n",
        "    \"\"\"Translate texts into a target language\"\"\"\n",
        "    # Format the text as expected by the model\n",
        "    formatter_fn = lambda txt: f\"{txt}\" if language == \"en\" else f\">>{language}<< {txt}\"\n",
        "    original_texts = [formatter_fn(txt) for txt in texts]\n",
        "\n",
        "    # Tokenize (text to tokens)\n",
        "    tokens = tokenizer.prepare_seq2seq_batch(original_texts)\n",
        "\n",
        "    # Translate\n",
        "    translated = model.generate(**tokens)\n",
        "\n",
        "    # Decode (tokens to text)\n",
        "    translated_texts = tokenizer.batch_decode(translated, skip_special_tokens=True)\n",
        "\n",
        "    return translated_texts\n",
        "\n",
        "\n",
        "def back_translate(texts, language_src, language_dst):\n",
        "    \"\"\"Implements back translation\"\"\"\n",
        "    # Translate from source to target language\n",
        "    translated = translate(texts, tmp_lang_model, tmp_lang_tokenizer, language_dst)\n",
        "\n",
        "    # Translate from target language back to source language\n",
        "    back_translated = translate(translated, src_lang_model, src_lang_tokenizer, language_src)\n",
        "\n",
        "    return back_translated\n",
        "\n",
        "\n"
      ],
      "id": "zlKxqKom6GON",
      "execution_count": null,
      "outputs": []
    },
    {
      "cell_type": "code",
      "metadata": {
        "id": "1TROFkqPCrox"
      },
      "source": [
        "model_name = 'Helsinki-NLP/opus-mt-aav-en'\n",
        "tokenizer = MarianTokenizer.from_pretrained(model_name)\n",
        "tokenizer.supported_language_codes"
      ],
      "id": "1TROFkqPCrox",
      "execution_count": null,
      "outputs": []
    },
    {
      "cell_type": "code",
      "metadata": {
        "id": "C6SAY2P5DvRv"
      },
      "source": [
        "language_code_list =df_train_dev['label'].unique\n",
        "\n",
        "def get_one_language_data(df, n):\n",
        "  #get the n'th set of language from df_train_dev\n",
        "  df_one_lang=df[df['label'].isin([language_code_list[n]])]\n",
        "  return df_one_lang\n",
        "\n",
        "def generate_new_rows(df_one_lang):\n",
        "  lable=df_one_lang['label']\n",
        "  df_one_lang_new = pd.DataFrame(columns=['text','label'])\n",
        "  for rows in df_one_lang.itterows():\n",
        "    new_lang = back_translate(df_one_lang['text'],label,'en')\n",
        "    df_one_lang_new.append({'text':new_lang,'label'label})\n",
        "    df_one_lang=df_one_lang.append(df_one_lang_new)\n",
        "  return df_one_lang\n",
        "\n",
        "def augdata_by_back_translation(df):\n",
        "  df_new = pd.DataFrame(columns=['text','label'])\n",
        "  for n in range(0,len(language_code_list)):\n",
        "    df_one_lang_new = generate_new_rows(get_one_language_data(df,n))\n",
        "    df_new = df_new.append(df_one_lang_new)\n",
        "  return df_new\n",
        "\n"
      ],
      "id": "C6SAY2P5DvRv",
      "execution_count": null,
      "outputs": []
    },
    {
      "cell_type": "markdown",
      "metadata": {
        "id": "qSFOzsETf-1l"
      },
      "source": [
        "![back_translation.png](attachment:back_translation.png)"
      ],
      "id": "qSFOzsETf-1l"
    },
    {
      "cell_type": "markdown",
      "metadata": {
        "id": "PxvhXe7FMm_O"
      },
      "source": [
        "# 5.Pre-Processing"
      ],
      "id": "PxvhXe7FMm_O"
    },
    {
      "cell_type": "code",
      "metadata": {
        "id": "iOPUlDj0MxYp"
      },
      "source": [
        ""
      ],
      "id": "iOPUlDj0MxYp",
      "execution_count": null,
      "outputs": []
    },
    {
      "cell_type": "markdown",
      "metadata": {
        "id": "vurheEapMyML"
      },
      "source": [
        "# 6.Feature Engineering\n"
      ],
      "id": "vurheEapMyML"
    },
    {
      "cell_type": "markdown",
      "metadata": {
        "id": "Tyc0hYa-M3cV"
      },
      "source": [
        "# 7.Modeling "
      ],
      "id": "Tyc0hYa-M3cV"
    },
    {
      "cell_type": "code",
      "metadata": {
        "id": "jmqZ0wkZxjcd"
      },
      "source": [
        "X = cleaned_dataset[TWEET_COLUMN]\n",
        "y = cleaned_dataset[TARGET_COLUMN]\n",
        "X_train, X_test, y_train, y_test = train_test_split(X, y, test_size=0.1, shuffle=True)"
      ],
      "id": "jmqZ0wkZxjcd",
      "execution_count": 68,
      "outputs": []
    },
    {
      "cell_type": "markdown",
      "metadata": {
        "id": "n-SFqJQEFaCF"
      },
      "source": [
        "## 7.1 SGDClassifier"
      ],
      "id": "n-SFqJQEFaCF"
    },
    {
      "cell_type": "code",
      "metadata": {
        "colab": {
          "base_uri": "https://localhost:8080/"
        },
        "id": "A-XKjQf5hJ7y",
        "outputId": "28712d4c-28ac-4ad7-d9f8-c07c99263aca"
      },
      "source": [
        "sgd_clf = Pipeline([('tfidf', TfidfVectorizer()),\n",
        "                     ('clf', SGDClassifier()),\n",
        "])"
      ],
      "id": "A-XKjQf5hJ7y",
      "execution_count": 42,
      "outputs": [
        {
          "output_type": "execute_result",
          "data": {
            "text/plain": [
              "Pipeline(memory=None,\n",
              "         steps=[('tfidf',\n",
              "                 TfidfVectorizer(analyzer='word', binary=False,\n",
              "                                 decode_error='strict',\n",
              "                                 dtype=<class 'numpy.float64'>,\n",
              "                                 encoding='utf-8', input='content',\n",
              "                                 lowercase=True, max_df=1.0, max_features=None,\n",
              "                                 min_df=1, ngram_range=(1, 1), norm='l2',\n",
              "                                 preprocessor=None, smooth_idf=True,\n",
              "                                 stop_words=None, strip_accents=None,\n",
              "                                 sublinear_tf=False,\n",
              "                                 token_pattern='...\n",
              "                 SGDClassifier(alpha=0.0001, average=False, class_weight=None,\n",
              "                               early_stopping=False, epsilon=0.1, eta0=0.0,\n",
              "                               fit_intercept=True, l1_ratio=0.15,\n",
              "                               learning_rate='optimal', loss='hinge',\n",
              "                               max_iter=1000, n_iter_no_change=5, n_jobs=None,\n",
              "                               penalty='l2', power_t=0.5, random_state=None,\n",
              "                               shuffle=True, tol=0.001, validation_fraction=0.1,\n",
              "                               verbose=0, warm_start=False))],\n",
              "         verbose=False)"
            ]
          },
          "metadata": {},
          "execution_count": 42
        }
      ]
    },
    {
      "cell_type": "code",
      "metadata": {
        "colab": {
          "base_uri": "https://localhost:8080/"
        },
        "id": "shPU78Q_kOu6",
        "outputId": "11e16c4f-15fc-4298-a84f-d0ca329471e2"
      },
      "source": [
        "parameters = {\n",
        "        'tfidf__ngram_range' : [(1,4)],\n",
        "        'tfidf__analyzer': ['char'],\n",
        "        'clf__alpha': [1e-4, 1e-5, 1e-6],\n",
        "        'clf__loss': [ \"perceptron\", \"log\", \"hinge\"],\n",
        "        'clf__penalty': ['elasticnet'],\n",
        "        'clf__class_weight': ['balanced'],\n",
        "        'clf__early_stopping': [True,False]\n",
        "}\n",
        "gs_sgd_clf = GridSearchCV(sgd_clf, parameters, cv=5, n_jobs=-1, verbose=10)\n",
        "gs_sgd_clf.fit(X_train, y_train)"
      ],
      "id": "shPU78Q_kOu6",
      "execution_count": 57,
      "outputs": [
        {
          "output_type": "stream",
          "name": "stdout",
          "text": [
            "Fitting 5 folds for each of 18 candidates, totalling 90 fits\n"
          ]
        },
        {
          "output_type": "stream",
          "name": "stderr",
          "text": [
            "/usr/local/lib/python3.7/dist-packages/sklearn/model_selection/_split.py:667: UserWarning: The least populated class in y has only 1 members, which is less than n_splits=5.\n",
            "  % (min_groups, self.n_splits)), UserWarning)\n",
            "[Parallel(n_jobs=-1)]: Using backend LokyBackend with 2 concurrent workers.\n",
            "[Parallel(n_jobs=-1)]: Done   1 tasks      | elapsed:   12.7s\n",
            "[Parallel(n_jobs=-1)]: Done   4 tasks      | elapsed:   24.6s\n",
            "[Parallel(n_jobs=-1)]: Done   9 tasks      | elapsed:   59.9s\n",
            "[Parallel(n_jobs=-1)]: Done  14 tasks      | elapsed:  1.4min\n",
            "/usr/local/lib/python3.7/dist-packages/joblib/externals/loky/process_executor.py:691: UserWarning: A worker stopped while some jobs were given to the executor. This can be caused by a too short worker timeout or by a memory leak.\n",
            "  \"timeout or by a memory leak.\", UserWarning\n",
            "[Parallel(n_jobs=-1)]: Done  21 tasks      | elapsed:  5.5min\n",
            "[Parallel(n_jobs=-1)]: Done  28 tasks      | elapsed: 10.2min\n",
            "[Parallel(n_jobs=-1)]: Done  37 tasks      | elapsed: 11.8min\n",
            "[Parallel(n_jobs=-1)]: Done  46 tasks      | elapsed: 13.9min\n",
            "[Parallel(n_jobs=-1)]: Done  57 tasks      | elapsed: 22.0min\n",
            "[Parallel(n_jobs=-1)]: Done  68 tasks      | elapsed: 24.8min\n",
            "[Parallel(n_jobs=-1)]: Done  81 tasks      | elapsed: 31.3min\n",
            "[Parallel(n_jobs=-1)]: Done  90 out of  90 | elapsed: 40.0min finished\n"
          ]
        },
        {
          "output_type": "execute_result",
          "data": {
            "text/plain": [
              "GridSearchCV(cv=5, error_score=nan,\n",
              "             estimator=Pipeline(memory=None,\n",
              "                                steps=[('tfidf',\n",
              "                                        TfidfVectorizer(analyzer='word',\n",
              "                                                        binary=False,\n",
              "                                                        decode_error='strict',\n",
              "                                                        dtype=<class 'numpy.float64'>,\n",
              "                                                        encoding='utf-8',\n",
              "                                                        input='content',\n",
              "                                                        lowercase=True,\n",
              "                                                        max_df=1.0,\n",
              "                                                        max_features=None,\n",
              "                                                        min_df=1,\n",
              "                                                        ngram_range=(1, 1),\n",
              "                                                        norm='l2',\n",
              "                                                        preprocessor=None,\n",
              "                                                        smooth_idf=True,\n",
              "                                                        stop_words=None,\n",
              "                                                        strip_acc...\n",
              "             iid='deprecated', n_jobs=-1,\n",
              "             param_grid={'clf__alpha': [0.0001, 1e-05, 1e-06],\n",
              "                         'clf__class_weight': ['balanced'],\n",
              "                         'clf__early_stopping': [True, False],\n",
              "                         'clf__loss': ['perceptron', 'log', 'hinge'],\n",
              "                         'clf__penalty': ['elasticnet'],\n",
              "                         'tfidf__analyzer': ['char'],\n",
              "                         'tfidf__ngram_range': [(1, 4)]},\n",
              "             pre_dispatch='2*n_jobs', refit=True, return_train_score=False,\n",
              "             scoring=None, verbose=10)"
            ]
          },
          "metadata": {},
          "execution_count": 57
        }
      ]
    },
    {
      "cell_type": "code",
      "metadata": {
        "colab": {
          "base_uri": "https://localhost:8080/"
        },
        "id": "9C1oRDafzjpM",
        "outputId": "583992ed-e948-4429-acc3-afa5377a797a"
      },
      "source": [
        "for param_name in sorted(parameters.keys()):\n",
        "  print(\"%s: %r\" % (param_name, gs_sgd_clf.best_params_[param_name]))"
      ],
      "id": "9C1oRDafzjpM",
      "execution_count": 62,
      "outputs": [
        {
          "output_type": "stream",
          "name": "stdout",
          "text": [
            "clf__alpha: 1e-06\n",
            "clf__class_weight: 'balanced'\n",
            "clf__early_stopping: False\n",
            "clf__loss: 'log'\n",
            "clf__penalty: 'elasticnet'\n",
            "tfidf__analyzer: 'char'\n",
            "tfidf__ngram_range: (1, 4)\n"
          ]
        }
      ]
    },
    {
      "cell_type": "code",
      "metadata": {
        "colab": {
          "base_uri": "https://localhost:8080/"
        },
        "id": "u7zNFrNPy573",
        "outputId": "94b734b3-5a2a-4e64-d1c3-c0545d31a0f0"
      },
      "source": [
        "print(\"Accuracy of the sgd_clf on the test data: {}\".format(accuracy_score(y_test, gs_sgd_clf.predict(X_test))))"
      ],
      "id": "u7zNFrNPy573",
      "execution_count": 60,
      "outputs": [
        {
          "output_type": "stream",
          "name": "stdout",
          "text": [
            "Accuracy of the sgd_clf on the test data: 0.9403381093169585\n"
          ]
        }
      ]
    },
    {
      "cell_type": "code",
      "metadata": {
        "colab": {
          "base_uri": "https://localhost:8080/"
        },
        "id": "Qz7tLRTnzmVm",
        "outputId": "bbb03709-09d7-4dd3-f2d2-1b322c601141"
      },
      "source": [
        "print(classification_report(y_test, gs_sgd_clf.predict(X_test)))"
      ],
      "id": "Qz7tLRTnzmVm",
      "execution_count": 65,
      "outputs": [
        {
          "output_type": "stream",
          "name": "stdout",
          "text": [
            "              precision    recall  f1-score   support\n",
            "\n",
            "          ar       0.97      1.00      0.98       524\n",
            "     ar_LATN       0.00      0.00      0.00         3\n",
            "          bg       0.00      0.00      0.00         0\n",
            "          bs       0.00      0.00      0.00         1\n",
            "          ca       0.00      0.00      0.00         8\n",
            "          cs       0.50      0.50      0.50         2\n",
            "          da       0.00      0.00      0.00         1\n",
            "          de       0.93      0.91      0.92        47\n",
            "          dv       0.00      0.00      0.00         0\n",
            "          el       1.00      0.88      0.93         8\n",
            "          en       0.97      0.97      0.97      4639\n",
            "          es       0.94      0.97      0.95      1477\n",
            "          et       0.00      0.00      0.00         0\n",
            "          eu       0.00      0.00      0.00         1\n",
            "          fa       1.00      0.50      0.67         6\n",
            "          fi       0.67      0.40      0.50         5\n",
            "          fr       0.93      0.93      0.93       244\n",
            "          ha       0.00      0.00      0.00         0\n",
            "          he       0.86      1.00      0.92         6\n",
            "          hi       0.50      0.20      0.29         5\n",
            "     hi-Latn       0.17      0.25      0.20         4\n",
            "          hr       0.00      0.00      0.00         0\n",
            "          ht       0.00      0.00      0.00         1\n",
            "          hu       0.00      0.00      0.00         3\n",
            "          hy       0.00      0.00      0.00         0\n",
            "          id       0.85      0.93      0.89       725\n",
            "          is       0.00      0.00      0.00         0\n",
            "          it       0.89      0.88      0.89        75\n",
            "          ja       0.99      0.99      0.99      2590\n",
            "     ja_LATN       0.00      0.00      0.00         0\n",
            "          jv       0.00      0.00      0.00         2\n",
            "          km       1.00      1.00      1.00         1\n",
            "          ko       0.99      0.95      0.97       127\n",
            "     ko_LATN       0.00      0.00      0.00         0\n",
            "          la       0.00      0.00      0.00         0\n",
            "          lv       0.00      0.00      0.00         1\n",
            "          mn       0.00      0.00      0.00         0\n",
            "          mr       0.00      0.00      0.00         1\n",
            "          ms       0.67      0.33      0.44        36\n",
            "          ne       0.00      0.00      0.00         0\n",
            "          nl       0.94      0.76      0.84        45\n",
            "          no       0.00      0.00      0.00         3\n",
            "          pl       0.89      0.92      0.91        26\n",
            "          ps       0.00      0.00      0.00         0\n",
            "          pt       0.95      0.93      0.94       727\n",
            "          ro       0.00      0.00      0.00         1\n",
            "          ru       0.96      0.99      0.98       249\n",
            "          si       0.00      0.00      0.00         1\n",
            "          sq       0.00      0.00      0.00         0\n",
            "          sr       0.33      0.10      0.15        10\n",
            "          su       0.00      0.00      0.00         2\n",
            "          sv       0.83      0.83      0.83        18\n",
            "          sw       0.00      0.00      0.00         1\n",
            "          ta       1.00      1.00      1.00         3\n",
            "     ta_LATN       0.00      0.00      0.00         0\n",
            "          th       0.99      1.00      1.00       100\n",
            "          tl       0.92      0.82      0.87        88\n",
            "          tr       0.94      0.96      0.95       187\n",
            "          uk       1.00      0.33      0.50         3\n",
            "         und       0.77      0.75      0.76      1160\n",
            "          ur       1.00      1.00      1.00         6\n",
            "     ur_LATN       0.00      0.00      0.00         2\n",
            "          vi       0.80      0.67      0.73         6\n",
            "          xh       0.00      0.00      0.00         1\n",
            "          yo       0.00      0.00      0.00         1\n",
            "       zh-CN       0.67      0.33      0.44         6\n",
            "       zh-TW       0.00      0.00      0.00         2\n",
            "          zu       0.00      0.00      0.00         0\n",
            "\n",
            "    accuracy                           0.94     13191\n",
            "   macro avg       0.41      0.37      0.38     13191\n",
            "weighted avg       0.94      0.94      0.94     13191\n",
            "\n"
          ]
        },
        {
          "output_type": "stream",
          "name": "stderr",
          "text": [
            "/usr/local/lib/python3.7/dist-packages/sklearn/metrics/_classification.py:1272: UndefinedMetricWarning: Precision and F-score are ill-defined and being set to 0.0 in labels with no predicted samples. Use `zero_division` parameter to control this behavior.\n",
            "  _warn_prf(average, modifier, msg_start, len(result))\n",
            "/usr/local/lib/python3.7/dist-packages/sklearn/metrics/_classification.py:1272: UndefinedMetricWarning: Recall and F-score are ill-defined and being set to 0.0 in labels with no true samples. Use `zero_division` parameter to control this behavior.\n",
            "  _warn_prf(average, modifier, msg_start, len(result))\n"
          ]
        }
      ]
    },
    {
      "cell_type": "markdown",
      "metadata": {
        "id": "UHtwv7OYFtzO"
      },
      "source": [
        "## MultinomialNB"
      ],
      "id": "UHtwv7OYFtzO"
    },
    {
      "cell_type": "code",
      "metadata": {
        "id": "LGYM3SFCvG8C",
        "colab": {
          "base_uri": "https://localhost:8080/",
          "height": 208
        },
        "outputId": "461ea753-43ba-4d3d-f04b-fdf0a571af80"
      },
      "source": [
        "from sklearn.model_selection import GridSearchCV\n",
        "parameters = {\n",
        "        'tfidf__ngram_range' : [(1,1), (1,2), (1,3), (1,4)],\n",
        "        'tfidf__analyzer': ['char'],\n",
        "        'clf__alpha': (1, 0.8,0.6, 0.4, 0.2, 0)\n",
        "}\n",
        "gs_mnb_clf = GridSearchCV(clf_MNB, parameters, cv=5, n_jobs=-1)\n",
        "gs_mnb_clf.fit(X_train, y_train)"
      ],
      "id": "LGYM3SFCvG8C",
      "execution_count": 69,
      "outputs": [
        {
          "output_type": "error",
          "ename": "NameError",
          "evalue": "ignored",
          "traceback": [
            "\u001b[0;31m---------------------------------------------------------------------------\u001b[0m",
            "\u001b[0;31mNameError\u001b[0m                                 Traceback (most recent call last)",
            "\u001b[0;32m<ipython-input-69-aa2d15743564>\u001b[0m in \u001b[0;36m<module>\u001b[0;34m()\u001b[0m\n\u001b[1;32m      5\u001b[0m         \u001b[0;34m'clf__alpha'\u001b[0m\u001b[0;34m:\u001b[0m \u001b[0;34m(\u001b[0m\u001b[0;36m1\u001b[0m\u001b[0;34m,\u001b[0m \u001b[0;36m0.8\u001b[0m\u001b[0;34m,\u001b[0m\u001b[0;36m0.6\u001b[0m\u001b[0;34m,\u001b[0m \u001b[0;36m0.4\u001b[0m\u001b[0;34m,\u001b[0m \u001b[0;36m0.2\u001b[0m\u001b[0;34m,\u001b[0m \u001b[0;36m0\u001b[0m\u001b[0;34m)\u001b[0m\u001b[0;34m\u001b[0m\u001b[0;34m\u001b[0m\u001b[0m\n\u001b[1;32m      6\u001b[0m }\n\u001b[0;32m----> 7\u001b[0;31m \u001b[0mgs_clf_MNB\u001b[0m \u001b[0;34m=\u001b[0m \u001b[0mGridSearchCV\u001b[0m\u001b[0;34m(\u001b[0m\u001b[0mclf_MNB\u001b[0m\u001b[0;34m,\u001b[0m \u001b[0mparameters\u001b[0m\u001b[0;34m,\u001b[0m \u001b[0mcv\u001b[0m\u001b[0;34m=\u001b[0m\u001b[0;36m5\u001b[0m\u001b[0;34m,\u001b[0m \u001b[0mn_jobs\u001b[0m\u001b[0;34m=\u001b[0m\u001b[0;34m-\u001b[0m\u001b[0;36m1\u001b[0m\u001b[0;34m)\u001b[0m\u001b[0;34m\u001b[0m\u001b[0;34m\u001b[0m\u001b[0m\n\u001b[0m\u001b[1;32m      8\u001b[0m \u001b[0mgs_clf_MNB\u001b[0m\u001b[0;34m.\u001b[0m\u001b[0mfit\u001b[0m\u001b[0;34m(\u001b[0m\u001b[0mX_train\u001b[0m\u001b[0;34m,\u001b[0m \u001b[0my_train\u001b[0m\u001b[0;34m)\u001b[0m\u001b[0;34m\u001b[0m\u001b[0;34m\u001b[0m\u001b[0m\n",
            "\u001b[0;31mNameError\u001b[0m: name 'clf_MNB' is not defined"
          ]
        }
      ]
    },
    {
      "cell_type": "code",
      "metadata": {
        "id": "w8x0gdfRvVD4",
        "colab": {
          "base_uri": "https://localhost:8080/"
        },
        "outputId": "c3453d1e-52a3-4814-fa1f-8336928f0f61"
      },
      "source": [
        "y_pred = clf.predict(X_test)\n",
        "accuracy_score(y_test, y_pred)"
      ],
      "id": "w8x0gdfRvVD4",
      "execution_count": null,
      "outputs": [
        {
          "output_type": "execute_result",
          "data": {
            "text/plain": [
              "0.6277007050261542"
            ]
          },
          "metadata": {},
          "execution_count": 36
        }
      ]
    },
    {
      "cell_type": "code",
      "metadata": {
        "id": "i7V91eXA0Exv",
        "colab": {
          "base_uri": "https://localhost:8080/"
        },
        "outputId": "0baa4812-e45f-4802-8c50-068b2e17cc0a"
      },
      "source": [
        "clf.best_params_"
      ],
      "id": "i7V91eXA0Exv",
      "execution_count": null,
      "outputs": [
        {
          "output_type": "execute_result",
          "data": {
            "text/plain": [
              "{'class_weight': None, 'max_iter': 1000, 'penalty': 'elasticnet', 'tol': 0.01}"
            ]
          },
          "metadata": {},
          "execution_count": 39
        }
      ]
    },
    {
      "cell_type": "code",
      "metadata": {
        "id": "Pqz_Bh1nBaYw",
        "colab": {
          "base_uri": "https://localhost:8080/",
          "height": 158
        },
        "outputId": "4cbfda07-6e12-47ca-ba60-1ce9d850fdf5"
      },
      "source": [
        "sgd_clf.cv_results_"
      ],
      "id": "Pqz_Bh1nBaYw",
      "execution_count": null,
      "outputs": [
        {
          "output_type": "error",
          "ename": "NameError",
          "evalue": "ignored",
          "traceback": [
            "\u001b[0;31m---------------------------------------------------------------------------\u001b[0m",
            "\u001b[0;31mNameError\u001b[0m                                 Traceback (most recent call last)",
            "\u001b[0;32m<ipython-input-3-afda5a280eb5>\u001b[0m in \u001b[0;36m<module>\u001b[0;34m()\u001b[0m\n\u001b[0;32m----> 1\u001b[0;31m \u001b[0msgd_clf\u001b[0m\u001b[0;34m.\u001b[0m\u001b[0mcv_results_\u001b[0m\u001b[0;34m\u001b[0m\u001b[0;34m\u001b[0m\u001b[0m\n\u001b[0m",
            "\u001b[0;31mNameError\u001b[0m: name 'sgd_clf' is not defined"
          ]
        }
      ]
    },
    {
      "cell_type": "code",
      "metadata": {
        "id": "aOqcvE623RLN",
        "colab": {
          "base_uri": "https://localhost:8080/"
        },
        "outputId": "cc4f39eb-78db-454b-dc1f-a43164a3f933"
      },
      "source": [
        "y_pred = sgd_clf.predict(X_test)\n",
        "accuracy_score(y_test, y_pred)"
      ],
      "id": "aOqcvE623RLN",
      "execution_count": null,
      "outputs": [
        {
          "output_type": "execute_result",
          "data": {
            "text/plain": [
              "0.632249260859677"
            ]
          },
          "metadata": {},
          "execution_count": 43
        }
      ]
    },
    {
      "cell_type": "code",
      "metadata": {
        "id": "l7knEMl4wl3I"
      },
      "source": [
        "parameters = {'kernel':('linear', 'rbf'), 'C':[1, 10]}\n",
        "estimator = MultinomialNB()\n",
        "clf = GridSearchCV(estimator, parameters)"
      ],
      "id": "l7knEMl4wl3I",
      "execution_count": null,
      "outputs": []
    },
    {
      "cell_type": "code",
      "metadata": {
        "id": "1dHkJvsly9R1",
        "colab": {
          "base_uri": "https://localhost:8080/",
          "height": 158
        },
        "outputId": "ce1959ea-2d39-41e5-ce8b-ddc4143738a2"
      },
      "source": [
        "clf.best_params_"
      ],
      "id": "1dHkJvsly9R1",
      "execution_count": null,
      "outputs": [
        {
          "output_type": "error",
          "ename": "AttributeError",
          "evalue": "ignored",
          "traceback": [
            "\u001b[0;31m---------------------------------------------------------------------------\u001b[0m",
            "\u001b[0;31mAttributeError\u001b[0m                            Traceback (most recent call last)",
            "\u001b[0;32m<ipython-input-46-9772bec5683a>\u001b[0m in \u001b[0;36m<module>\u001b[0;34m()\u001b[0m\n\u001b[0;32m----> 1\u001b[0;31m \u001b[0mclf\u001b[0m\u001b[0;34m.\u001b[0m\u001b[0mbest_params_\u001b[0m\u001b[0;34m\u001b[0m\u001b[0;34m\u001b[0m\u001b[0m\n\u001b[0m",
            "\u001b[0;31mAttributeError\u001b[0m: 'GridSearchCV' object has no attribute 'best_params_'"
          ]
        }
      ]
    },
    {
      "cell_type": "code",
      "metadata": {
        "id": "ppT4DIp4BS9l",
        "colab": {
          "base_uri": "https://localhost:8080/",
          "height": 158
        },
        "outputId": "628f646e-5278-4335-b32f-e51bbeaa0cb4"
      },
      "source": [
        "clf.cv.results_"
      ],
      "id": "ppT4DIp4BS9l",
      "execution_count": null,
      "outputs": [
        {
          "output_type": "error",
          "ename": "NameError",
          "evalue": "ignored",
          "traceback": [
            "\u001b[0;31m---------------------------------------------------------------------------\u001b[0m",
            "\u001b[0;31mNameError\u001b[0m                                 Traceback (most recent call last)",
            "\u001b[0;32m<ipython-input-1-ac58783bcb0f>\u001b[0m in \u001b[0;36m<module>\u001b[0;34m()\u001b[0m\n\u001b[0;32m----> 1\u001b[0;31m \u001b[0mcv\u001b[0m\u001b[0;34m.\u001b[0m\u001b[0mresults_\u001b[0m\u001b[0;34m\u001b[0m\u001b[0;34m\u001b[0m\u001b[0m\n\u001b[0m",
            "\u001b[0;31mNameError\u001b[0m: name 'cv' is not defined"
          ]
        }
      ]
    },
    {
      "cell_type": "code",
      "metadata": {
        "id": "6Pe9fUtrxSZS"
      },
      "source": [
        ""
      ],
      "id": "6Pe9fUtrxSZS",
      "execution_count": null,
      "outputs": []
    },
    {
      "cell_type": "markdown",
      "metadata": {
        "id": "iCP5CkP_M7eu"
      },
      "source": [
        "#8.Evaluation"
      ],
      "id": "iCP5CkP_M7eu"
    },
    {
      "cell_type": "code",
      "metadata": {
        "id": "ivWnWbWQD3DI"
      },
      "source": [
        ""
      ],
      "id": "ivWnWbWQD3DI",
      "execution_count": null,
      "outputs": []
    }
  ]
}