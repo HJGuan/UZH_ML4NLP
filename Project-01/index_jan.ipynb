{
  "nbformat": 4,
  "nbformat_minor": 5,
  "metadata": {
    "kernelspec": {
      "display_name": "Python 3",
      "language": "python",
      "name": "python3"
    },
    "language_info": {
      "codemirror_mode": {
        "name": "ipython",
        "version": 3
      },
      "file_extension": ".py",
      "mimetype": "text/x-python",
      "name": "python",
      "nbconvert_exporter": "python",
      "pygments_lexer": "ipython3",
      "version": "3.8.8"
    },
    "colab": {
      "name": "index_jan.ipynb",
      "provenance": [],
      "collapsed_sections": [],
      "include_colab_link": true
    }
  },
  "cells": [
    {
      "cell_type": "markdown",
      "metadata": {
        "id": "view-in-github",
        "colab_type": "text"
      },
      "source": [
        "<a href=\"https://colab.research.google.com/github/jan-kreischer/UZH_ML4NLP/blob/main/Project-01/index_jan.ipynb\" target=\"_parent\"><img src=\"https://colab.research.google.com/assets/colab-badge.svg\" alt=\"Open In Colab\"/></a>"
      ]
    },
    {
      "cell_type": "markdown",
      "metadata": {
        "id": "zvBmTj50hvR5"
      },
      "source": [
        "# Exercise 01 - Linear Classification\n",
        "\n",
        "\n"
      ],
      "id": "zvBmTj50hvR5"
    },
    {
      "cell_type": "code",
      "metadata": {
        "colab": {
          "base_uri": "https://localhost:8080/"
        },
        "id": "rPHMAkQcl6HA",
        "outputId": "d392238e-fd66-4aeb-f9e1-7ee42ed05c56"
      },
      "source": [
        "!pip install demoji"
      ],
      "id": "rPHMAkQcl6HA",
      "execution_count": 156,
      "outputs": [
        {
          "output_type": "stream",
          "name": "stdout",
          "text": [
            "Collecting demoji\n",
            "  Downloading demoji-1.1.0-py3-none-any.whl (42 kB)\n",
            "\u001b[?25l\r\u001b[K     |███████▋                        | 10 kB 14.4 MB/s eta 0:00:01\r\u001b[K     |███████████████▎                | 20 kB 14.8 MB/s eta 0:00:01\r\u001b[K     |███████████████████████         | 30 kB 16.7 MB/s eta 0:00:01\r\u001b[K     |██████████████████████████████▋ | 40 kB 15.8 MB/s eta 0:00:01\r\u001b[K     |████████████████████████████████| 42 kB 1.1 MB/s \n",
            "\u001b[?25hInstalling collected packages: demoji\n",
            "Successfully installed demoji-1.1.0\n"
          ]
        }
      ]
    },
    {
      "cell_type": "markdown",
      "metadata": {
        "id": "2aoiO-Esh19N"
      },
      "source": [
        "## Imports"
      ],
      "id": "2aoiO-Esh19N"
    },
    {
      "cell_type": "code",
      "metadata": {
        "id": "43d2c898-ea76-49c3-ae4d-dc87d657efe0"
      },
      "source": [
        "import csv\n",
        "import re\n",
        "import numpy as np\n",
        "\n",
        "import pandas as pd\n",
        "pd.set_option('display.max_rows', 200)  \n",
        "pd.set_option('display.max_columns', 200)   \n",
        "pd.set_option('display.width', 4000) \n",
        "\n",
        "from io import StringIO\n",
        "import requests\n",
        "import matplotlib.pyplot as plt\n",
        "\n",
        "import demoji"
      ],
      "id": "43d2c898-ea76-49c3-ae4d-dc87d657efe0",
      "execution_count": 250,
      "outputs": []
    },
    {
      "cell_type": "code",
      "metadata": {
        "id": "o8zj6rO6hKo2"
      },
      "source": [
        "url_train_dev = 'https://docs.google.com/spreadsheets/d/e/2PACX-1vTOZ2rC82rhNsJduoyKYTsVeH6ukd7Bpxvxn_afOibn3R-eadZGXu82eCU9IRpl4CK_gefEGsYrA_oM/pub?gid=1863430984&single=true&output=tsv'\n",
        "url_test = 'https://docs.google.com/spreadsheets/d/e/2PACX-1vT-KNR9nuYatLkSbzSRgpz6Ku1n4TN4w6kKmFLkA6QJHTfQzmX0puBsLF7PAAQJQAxUpgruDd_RRgK7/pub?gid=417546901&single=true&output=tsv'"
      ],
      "id": "o8zj6rO6hKo2",
      "execution_count": 4,
      "outputs": []
    },
    {
      "cell_type": "markdown",
      "metadata": {
        "id": "rtuS7Z0Hh5gx"
      },
      "source": [
        "## Functions"
      ],
      "id": "rtuS7Z0Hh5gx"
    },
    {
      "cell_type": "markdown",
      "metadata": {
        "id": "okInclFn5rzc"
      },
      "source": [
        "## 1. Data Acquisition"
      ],
      "id": "okInclFn5rzc"
    },
    {
      "cell_type": "code",
      "metadata": {
        "id": "SdwxfjxjhN58"
      },
      "source": [
        "def load_dataset(url):\n",
        "    r = requests.get(url)\n",
        "    data = r.content.decode('utf8')\n",
        "    df = pd.read_csv(StringIO(data), sep='\\t')\n",
        "    df.columns = ['tweet', 'label']\n",
        "    return df"
      ],
      "id": "SdwxfjxjhN58",
      "execution_count": 5,
      "outputs": []
    },
    {
      "cell_type": "code",
      "metadata": {
        "id": "ZmOiJT-2hPpt"
      },
      "source": [
        "train_data = load_dataset(url_train_dev)\n",
        "test_data = load_dataset(url_test)"
      ],
      "id": "ZmOiJT-2hPpt",
      "execution_count": 13,
      "outputs": []
    },
    {
      "cell_type": "markdown",
      "metadata": {
        "id": "7OZ3EaAQ6Ahq"
      },
      "source": [
        "## 2. Data Exploration"
      ],
      "id": "7OZ3EaAQ6Ahq"
    },
    {
      "cell_type": "code",
      "metadata": {
        "id": "heZh4YHxhhQA"
      },
      "source": [
        "def data_exploration(df, name=''):\n",
        "  '''\n",
        "\n",
        "  '''\n",
        "  print('--- {} ---'.format(name))\n",
        "  n_labels = len(np.unique(df[\"label\"]))\n",
        "  df = df.sort_values('label')\n",
        "  print(\"{0} contains the columns: {1}\".format(name, list(df.keys())))\n",
        "  print(\"with a total of {} observations\".format(len(df)))\n",
        "  print(\"and {} different possible labels.\".format(n_labels))\n",
        "  print(\"The unique labels are {}\".format(df[\"label\"].unique()))\n",
        "  plt.figure(figsize=(15, 3))\n",
        "  plt.hist(df[\"label\"], bins=n_labels)\n",
        "  plt.xticks(rotation=90)\n",
        "  plt.yscale(\"log\")\n",
        "  plt.xlabel(\"Language\")\n",
        "  plt.ylabel(\"#Occurences\")\n",
        "  plt.show()"
      ],
      "id": "heZh4YHxhhQA",
      "execution_count": 279,
      "outputs": []
    },
    {
      "cell_type": "code",
      "metadata": {
        "colab": {
          "base_uri": "https://localhost:8080/",
          "height": 427
        },
        "id": "IZtCEi7_hYQW",
        "outputId": "ae745109-0e14-4e12-d96a-6fa3811ded0f"
      },
      "source": [
        "data_exploration(train_data, 'Training data')"
      ],
      "id": "IZtCEi7_hYQW",
      "execution_count": 280,
      "outputs": [
        {
          "output_type": "stream",
          "name": "stdout",
          "text": [
            "--- Training data ---\n",
            "Training data contains the columns: ['tweet', 'label']\n",
            "with a total of 52675 observations\n",
            "and 69 different possible labels.\n",
            "The unique labels are ['ar' 'ar_LATN' 'az' 'bg' 'bn' 'bs' 'ca' 'cs' 'cy' 'da' 'de' 'dv' 'el'\n",
            " 'en' 'es' 'et' 'fa' 'fi' 'fr' 'gl' 'ha' 'he' 'hi' 'hi-Latn' 'hr' 'ht'\n",
            " 'hu' 'hy' 'id' 'is' 'it' 'ja' 'ja_LATN' 'jv' 'km' 'ko' 'ko_LATN' 'ms'\n",
            " 'ne' 'nl' 'no' 'pl' 'ps' 'ps_LATN' 'pt' 'ro' 'ru' 'si' 'sl' 'sq' 'sr'\n",
            " 'su' 'sv' 'sw' 'ta' 'ta_LATN' 'th' 'tl' 'tn' 'tr' 'uk' 'und' 'ur'\n",
            " 'ur_LATN' 'vi' 'wo' 'xh' 'zh-CN' 'zh-TW']\n"
          ]
        },
        {
          "output_type": "display_data",
          "data": {
            "image/png": "[encoded data removed]",
            "text/plain": [
              "<Figure size 1080x216 with 1 Axes>"
            ]
          },
          "metadata": {
            "needs_background": "light"
          }
        }
      ]
    },
    {
      "cell_type": "code",
      "metadata": {
        "colab": {
          "base_uri": "https://localhost:8080/",
          "height": 410
        },
        "id": "ckYsFYCk6YVq",
        "outputId": "365328fa-cab3-4ecd-92ac-f210d5b1bbc6"
      },
      "source": [
        "data_exploration(test_data, 'Test data')"
      ],
      "id": "ckYsFYCk6YVq",
      "execution_count": 281,
      "outputs": [
        {
          "output_type": "stream",
          "name": "stdout",
          "text": [
            "--- Test data ---\n",
            "Test data contains the columns: ['tweet', 'label']\n",
            "with a total of 13279 observations\n",
            "and 60 different possible labels.\n",
            "The unique labels are ['ar' 'ar_LATN' 'az' 'bg' 'bs' 'ca' 'cs' 'da' 'de' 'el' 'en' 'es' 'eu'\n",
            " 'fa' 'fi' 'fr' 'he' 'hi' 'hi-Latn' 'hr' 'ht' 'id' 'it' 'ja' 'ja_LATN'\n",
            " 'jv' 'km' 'ko' 'ko_LATN' 'la' 'lv' 'mk' 'mn' 'mr' 'ms' 'nl' 'no' 'pl'\n",
            " 'pt' 'ro' 'ru' 'sk' 'sr' 'sv' 'sw' 'ta' 'ta_LATN' 'th' 'tl' 'tr' 'uk'\n",
            " 'und' 'ur' 'ur_LATN' 'vi' 'xh' 'yo' 'zh-CN' 'zh-TW' 'zu']\n"
          ]
        },
        {
          "output_type": "display_data",
          "data": {
            "image/png": "[encoded data removed]",
            "text/plain": [
              "<Figure size 1080x216 with 1 Axes>"
            ]
          },
          "metadata": {
            "needs_background": "light"
          }
        }
      ]
    },
    {
      "cell_type": "code",
      "metadata": {
        "colab": {
          "base_uri": "https://localhost:8080/"
        },
        "id": "JtIoEEyK8Dxx",
        "outputId": "34405693-7a35-4ab7-aff9-a64465f5f3a2"
      },
      "source": [
        "# Now we want to find out which special characters need to be removed from tweets in order to make the prediction better.\n",
        "# We go over the printed list an not down the symbold which are not needed for language identification.\n",
        "# These will be removed in a later step.\n",
        "languages = list(np.unique(test_data['label']))\n",
        "for language in languages:\n",
        "  localized_tweets = train_data[train_data['label'] == language]\n",
        "  print(localized_tweets.head(5))\n",
        "  print(\"---\")\n",
        "\n",
        "# Symbols like @<mention>, #, http://link !, numeric values (e.g 16000), \" do not help for language identification."
      ],
      "id": "JtIoEEyK8Dxx",
      "execution_count": 282,
      "outputs": [
        {
          "output_type": "stream",
          "name": "stdout",
          "text": [
            "                                                                                                                tweet label\n",
            "0    يا من أناديها ويخنقني البكاء  ويكاد صمت الدمع أن يتكلما    يا قلبي الدامي وآه وأين ومن   فاضت على عواطفاً وترحما    ar\n",
            "1                                    فيه فرق بين اهل غزة اللى مطحونين من ناحيتين وبين حماس  ؟  هنفهم وﻻ نبدا من ا ب ت    ar\n",
            "2  ﻋﻦ ﺍﻟﻠﺤﻈﺔ اﻟﺤﻠﻮﺓﺓ ﺍﻟﻠﻲ ﺑﺘﻐﻤﺾ ﻓﻴﻬﺎ ﻋﻴﻨﻴﻚ ﺑﺘﻔﻜﺮ ف  ﺣﺎﺟﺎﺕ ﺣﻠﻮﺓ ﺑﺘﺘﻤﻨﺎﻫﺎ  ﻭﺗﻔﺘﺢ ﻋﻴﻨﻴﻚ .. ﺑﻀﺤﻜﺔ ﺟﻤﻴﻠﺔ .   ﻣﻊ ﻛﻠﻤﺔ #يارب    ar\n",
            "3                                                                                                   يا ابو سلو عرفتني    ar\n",
            "4             ب50 ريال أكفل معتمر في رمضان ، ولك بإذن الله مثل أجر عمرته وتفطيره وصلواته بالحرمhttp://t.co/jQoUiiVPjX    ar\n",
            "---\n",
            "                                         tweet    label\n",
            "2199                      ya allah ya allah x)  ar_LATN\n",
            "2200                   Ya rab tekhlas hel game  ar_LATN\n",
            "2201                           Istaqfurullah 😂  ar_LATN\n",
            "2202  @g56_ 7abeeebbbbbie enty ghalaaayyyy 😩❤️  ar_LATN\n",
            "2203    Ya Hasiib... Ya Jaliil... Ya Mujiib...  ar_LATN\n",
            "---\n",
            "                                                                                                               tweet label\n",
            "2211  Gözləmək səbrin imtahanıdır.Sevinc qapısının açarı səbrdir.Ey can!Sənə bir dərd-bəla... http://t.co/TBPJD4BfYt    az\n",
            "---\n",
            "                                                                            tweet label\n",
            "2212  Ботас може да стане изключителен пилот, смята Смедли http://t.co/eM2Ybmizkj    bg\n",
            "2213    Най-добре се смее ,който се смее последен --днес ми е любимата поговорка/    bg\n",
            "---\n",
            "                                                                                                                tweet label\n",
            "2222                                                            Najbolji 💟💟 blue angels berlin http://t.co/4wFmTpkdin    bs\n",
            "2223                                             Subotić oslobodjen optužbi za šverc cigareta- http://t.co/LZgz8zCIZL    bs\n",
            "2224                                                                            @samobakrac u septembru ulaze u vlast    bs\n",
            "2225  Italijanski novinar Vanoli(70) upozorava: VAKCINAMA VAM PRETVARAJU DECU U HOMOSEKSUALCE! http://t.co/8mhFQfeg6H    bs\n",
            "---\n",
            "                                                                                                   tweet label\n",
            "2226                                          @Laureta8 a tu cariñet dspues prlem molts besitos!!!!!!!!!    ca\n",
            "2227  No en tinc ni idea Teresa @llobetilla, esperem que responguin des d' @interaccio ... #valorCultura    ca\n",
            "2228                Res es imposible. Ell m'ha ensenyat que si vols, pots. #AdriaOrtegaDel40a1Macklemore    ca\n",
            "2229                                                                    @CescGF jaspi aventures mata! :)    ca\n",
            "2230                  @Somia_Truites Ets tot un caballer!!! I una molt bona persona, amb bon cor!!! ;-))    ca\n",
            "---\n",
            "                                                                                                                        tweet label\n",
            "2248                                              Mechanical Moth - Winternachtstraum texty a překlady http://t.co/acWN988cTx    cs\n",
            "2249                         Na Novotného lávce jsou k vidění Smetanovy kresby  http://t.co/ZVFJqMHg2j http://t.co/kqywFD32eZ    cs\n",
            "2250  #ojeu #notice 33115100 €521k Český Krumlov:CT skener Dodávka CT skeneru pro RTG oddělení Nemocn… http://t.co/GWOP6XNlhS    cs\n",
            "2251         Sestra nevěsty má dle maminky důležitou úlohu. Třeba s ní mám jet v Land Roveru. Tak snad to ,,zvládnu\". #svatba    cs\n",
            "---\n",
            "                                                                                                                                 tweet label\n",
            "2253                                                                                                          @UnibetNorge 2-1 til arg    da\n",
            "2254                              Blank &amp; Jones - Fallen (Delerium &amp; Rani) sangtekster og oversættelser http://t.co/F5VAOTDKFr    da\n",
            "2255                                                                                        @jesperdahl @kaarelbk det er jo helt vildt    da\n",
            "2256  @mpbdavidsen Jeg har nydt hvert et minut. Men jeg føler ikke behov for en aktiv rangering af underholdningen i forhold til 2010.    da\n",
            "2257                                                      BB (Les) - Comme Un Loup sangtekster og oversættelser http://t.co/1JC4aRMFID    da\n",
            "---\n",
            "                                                                                                               tweet label\n",
            "2260                                                                             @hmjahnel guten morgen, der herr :)    de\n",
            "2261  @SkaKeller @GreensEP @Piratenpartei @JanAlbrecht @TerryReintke @Senficon @ernesturtasun Wie peinlich! #piraten    de\n",
            "2262                    Ich habe 16,100 Goldmünzen gesammelt! http://t.co/RF54zeQWUu #ipad, #ipadgames, #gameinsight    de\n",
            "2263                                         Dachte früher immer es heißt \"Sommer Angebot\" anstatt \"Sonder Angebot\".    de\n",
            "2264                                                   Da kommt Bei mir ist es sau langsam; keine Schule Und weiter?    de\n",
            "---\n",
            "                                                                                                                                         tweet label\n",
            "2432                                                                               Όλα ξεκινάνε από τον ανύπαρκτο επαγγελματικό προσανατολισμό    el\n",
            "2433                                                                             http://t.co/sLTRx7aTgP  #Bring1DToGreeceCampaign διακοσια ολε    el\n",
            "2434                                                                          Μπαίνει και περπατάει κατσαρίδα στο σπιτι σαν να υπαρχει το τέζα    el\n",
            "2435                                                                       @its_leonidas Δεν νομίζω να έχετε λόγο να το κάνετε. Ούτε δικαίωμα.    el\n",
            "2436  Πανηγυρίζει και η ΔΗΜΑΡ για την επέλαση των ισλαμιστών στην Ελλάδα! Αλίμονο, τόσο κόπο έκα... http://t.co/csTb0Rv0wC via @hellasforcecom    el\n",
            "---\n",
            "                                                                                                                                                                                                                                                                                                                                                                                                                                                                                                                                                                                                                                                                                                                                                                                                                                                                                                                                                                                                                                                                                                                                                                                                                                                                                                                                                                                                                                                                                                                                                                                                                                                                                                                                                                                                                                                                                                                                                                                                                                                                                                                                                                                                                                                                                                                                                                                                                                                                                                                                                                                                                                                                                                                                                                                                                                                                                                                                                                                                                                                                                                                                                                                                                                                                                                                                           tweet label\n",
            "2460  Οταν όμως είναι το κράτος που επιβάλλει διά νόμου την υποχρεωτική αργία σε όλους, τότε δεν έχουμε μόνο κρατισμό,... http://t.co/fYExn6TQ2a\\tel\\r\\nεσύ που μας το θυμίζεις μην είσαι? @MixalisVerogkos Μην είστε τίποτα κομπλεξικοί και δε το ξέρετε;\\tel\\r\\nListing: Ιαπωνικά Εστιατόρια. HAMA http://t.co/TmzNU0xvSf\\tel\\r\\n@SpirosFotisJr α εντάξει τοτε\\tel\\r\\nΚαλημέρα από ...Φώκιες (Χαλκιδική)  http://t.co/zHWocSAJiS\\tel\\r\\n3.600 επισκέπτες από την Τουρκία στη Χίο μέσα σε 3 ημέρες  http://t.co/nfjLpp4Pbh #Chios\\tel\\r\\nreal news «Έφυγε» ο Δημήτρης Στεφάνου: Συλλυπητήρια της κυβέρνησης για το θάνατο του γγ Δημόσιας Διοίκησης.  http://t.co/H9rSiOcheN\\tel\\r\\nΜύκονος. Ξενοδοχείο απέλυσε 6, οι οποίοι είχαν ζητήσει να πάρουν τα χρήματα που προβλέπονται στην κλαδική σύμβαση. Cavo Paradiso λέμε\\tel\\r\\n@zappasaspa Τα πείραξαν, τα μαγείρεψαν και τα κατάφεραν οι καταστροφείς της Ελλάδας: Σε υποχρεωτικ... http://t.co/lQ4GCu52UU @bathitweet\\tel\\r\\nΜΟΡΙΟΔΟΤΗΣΗ ΥΠΑΛΛΗΛΩΝ ΑΕΙ: Αναστάτωση και καταγγελίες για άνιση μεταχείριση http://t.co/9XcFpaG4Je\\tel\\r\\nΗ «συντριβή» της αλήθειας για την κατάρριψη του Boeing http://t.co/3wOD5YPU66\\tel\\r\\n@kiaspeaks Ignant as fuck!\\ten\\r\\n@AndreDrummondd @Ballislife wondering how I got sam from Icarly😂\\ten\\r\\n@Karina_Alexiss_ na she's to cute 💁\\ten\\r\\nevery decision I made brought me to this point, and I'd do it all over again. \\ten\\r\\n@AshleyBlanshan Thanks for watching Ashley.  We have a lot more twisty and #Reckless story lines unfolding -- make sure to watch next week!\\ten\\r\\nCheck out this awesome new app! Guess The Emoji on the App Store! http://t.co/gT6asjFPBl http://t.co/mLNgYQvA7I\\ten\\r\\n#Dad brought home this #wedding #invitation and dayummm it feels like a #hardcover #book… http://t.co/KaJ7NRlOfS\\ten\\r\\nwe love u http://t.co/gGHP0DX3NR\\ten\\r\\n🌿 🍁 🍁 🌻 🌻  Watch, subscribe &amp; thumbs up 👌 #camsupdatevideo @camerondallas PLS follow @MahooosiveHoran she hit tweet limit :(  🌿 🌿 🍁 🍁 🌻 13\\ten\\r\\nThat wasn't me lmfaoo\\ten\\r\\n@LilveronicaR @VRodProductions @Leche305 @diamondkittyxxx fuck yeah! Cant wait for http://t.co/Hna5wtzAT5\\ten\\r\\nChicago Rappers are the most savage humans to ever walk the Earth\\ten\\r\\nI have Mage’s Library Catalog now, and what about you? http://t.co/L51TAOiPOW #ipad, #ipadgames, #gameinsight\\ten\\r\\nKirk is the last person that needs to be giving relationship advice 😂😕 #LHHATL\\ten\\r\\nBack in #sydney and off to #yoga bodymindlife http://t.co/DDoqV4cjBj\\ten\\r\\n@LilCannon__ save The Date 😈\\ten\\r\\nBunbury Festival 15 % off a 3-Day pass.    http://t.co/SP0lfZ5OfA Use the code:w2cJvkBJ @AndrewWK is going to be there!\\ten\\r\\nClub Flash July 3rd #Coolkid http://t.co/ZLv70p1etb\\ten\\r\\nMASTERCHEF IS FUCKING INTENSE WTF\\ten\\r\\n@molina_naiara Ookey makey 💃\\ten\\r\\n@vogueing omg and he just swooped in\\ten\\r\\nI was gunna go walk around the fair in my blanket but mom wouldn't let me... Needless to say i didn't go.\\ten\\r\\nStill playing catch up on sermon videos. Here is last week's: http://t.co/jZBGJ8LMea http://t.co/iJWymNdUwz\\ten\\r\\nI want to go to the movies\\ten\\r\\n@MyHornyGFs very nice\\ten\\r\\n▶️ Fresh from Clive Palmer, Al Gore tells @TonyAbbottMHR to change or get out of the way\" on #ClimateChange. http://t.co/bVGlCN9ZG8 #auspol    en\n",
            "2461                                                                                                                                                                                                                                                                                                                                                                                                                                                                                                                                                                                                                                                                                                                                                                                                                                                                                                                                                                                                                                                                                                                                                                                                                                                                                                                                                                                                                                                                                                                                                                                                                                                                                                                                                                                                                                                                                                                                                                                                                                                                                                                                                                                                                                                                                                                                                                                                                                                                                                                                                                                                                                                                                                                                                                                                                                                                                                                                                                                                                                                                                                                                                                                                                                                                                                                      @Duaa_e_aamir  urself*    en\n",
            "2462                                                                                                                                                                                                                                                                                                                                                                                                                                                                                                                                                                                                                                                                                                                                                                                                                                                                                                                                                                                                                                                                                                                                                                                                                                                                                                                                                                                                                                                                                                                                                                                                                                                                                                                                                                                                                                                                                                                                                                                                                                                                                                                                                                                                                                                                                                                                                                                                                                                                                                                                                                                                                                                                                                                                                                                                                                                                                                                                                                                                                                                                                                                                                                                                                                                                                                                        1/5 please #JulyWish    en\n",
            "2463                                                                                                                                                                                                                                                                                                                                                                                                                                                                                                                                                                                                                                                                                                                                                                                                                                                                                                                                                                                                                                                                                                                                                                                                                                                                                                                                                                                                                                                                                                                                                                                                                                                                                                                                                                                                                                                                                                                                                                                                                                                                                                                                                                                                                                                                                                                                                                                                                                                                                                                                                                                                                                                                                                                                                                                                                                                                                                                                                                                                                                                                                                                                                                                                                                                                                                                                    to happy    en\n",
            "2464                                                                                                                                                                                                                                                                                                                                                                                                                                                                                                                                                                                                                                                                                                                                                                                                                                                                                                                                                                                                                                                                                                                                                                                                                                                                                                                                                                                                                                                                                                                                                                                                                                                                                                                                                                                                                                                                                                                                                                                                                                                                                                                                                                                                                                                                                                                                                                                                                                                                                                                                                                                                                                                                                                                                                                                                                                                                                                                                                                                                                                                                                                                                                                                                                                                                                               Wtfffff already a month of summer has gone by    en\n",
            "---\n",
            "                                                                                                                                            tweet label\n",
            "20968  LAS EMOCIONES dependen del grado de: CANTIDAD, CALIDAD E INTENSIDAD inscrita en tu CONDUCTA y X eso hablamos de PROBL EMOCIONALES@cupeduve    es\n",
            "20969            No pare un segundo en todo el dia, todavia me falta resumir lengua e ir a ensayar y encima tengo que dormir en living #HumorCERO    es\n",
            "20970                                                                                                      Dios tu tienes algo preparado para my♥    es\n",
            "20971                                    si te haces el piercing en el labio y no te queda como un nejro linyera es porque estas re bueno, punto.    es\n",
            "20972                           Ahora en @AldeaLocalZte  hablamos de la creación de la Parroquia Nuestra Señora del Carmen http://t.co/3Iz7q8aMFM    es\n",
            "---\n",
            "Empty DataFrame\n",
            "Columns: [tweet, label]\n",
            "Index: []\n",
            "---\n",
            "                                                                                                                                            tweet label\n",
            "26900  رییس فراکسیون زنان مجلس تلویحا به وجود حکم حکومتی برای صدور اجازه ورود زنان به ورزشگاه های بسکت و والیبال اشاره کرد http://t.co/i3R46in1O2    fa\n",
            "26901                                                           افزایش ۲۰ درصدی شمار مبتلایان به ویروس ابولا در غرب آفریقا http://t.co/7mWsGD3S37    fa\n",
            "26902                                                                           @farzi_mahdi @aydaezadi @mrdodel @pariart71 پريسااا صداش در نمياد    fa\n",
            "26903                                             دانلود The Ministry of Silly Walks 1.0.3 بازی اکشن مسیر بی انتها اندروید http://t.co/02HvotJdxf    fa\n",
            "26904                                                                                                                   @shavoor تلاش خودت رو بکن    fa\n",
            "---\n",
            "                                                                                                                                              tweet label\n",
            "26918                                           @HenriAlen Tosielämän välipalaa miehellä #kuitu #maitotuote Terveellistä? ;) http://t.co/OAJb4jLMcZ    fi\n",
            "26919                                                                                    Miss märkäpaita #mattopesulla #suomalainentraditio tämäkin    fi\n",
            "26920                                                                                           @Mirppu outoo vaa kuvitella ku et käy enää bäkkäril    fi\n",
            "26921                                                                       @anskiiuu Uskon! :D Mutt jokainen tsäänssi on niille mahdollisuus... :P    fi\n",
            "26922  Jotenkin, ihan hitusen tosin, näyttäisi siltä, ettei Messiä tällä hetkellä kiinnosta parhaan pelaajan palkinto kovinkaan paljon. #ylemmfutis    fi\n",
            "---\n",
            "                                                                              tweet label\n",
            "26933                                           @Alicia_Mammola jte comprend ahah 💕    fr\n",
            "26934                           Je suis sur qui y'as plus de prévente a Black top 😪    fr\n",
            "26935                      @luke5sos hey bb ça va tu t'amuse bien en boite de nuit?    fr\n",
            "26936               J'ai hâte qu'elle regarde jusqu'au bout  Bon je vais re dodo x)    fr\n",
            "26937  Oklmzer le taf, petit bureau avec double screen, horaires souples, mashallah    fr\n",
            "---\n",
            "                                                                                                                                            tweet label\n",
            "27883                                                                                                                        איזה הרגשה מסריחה...    he\n",
            "27884                                                                                                                           אין היום משחקקק 😩    he\n",
            "27885  @LDJ_France @Tsahal_IDF @JuifIsrael @Tsipora777 @Rabbi_DVD @alice13b @natypatou @Myriamkarsenty @israel_mon_pays shabbat shalom u'mevorakh    he\n",
            "27886                                                       “@ZoharHazani: “@AMITELIYAO: “@shiraz_nachmias: חייבת ללכת לראות אשמת הכוכבים שוב!”””    he\n",
            "27887                                                                                                                       @karin201020 נקווה של    he\n",
            "---\n",
            "                                                                                                                                          tweet label\n",
            "27910                                                   किसे सुनाएँ अपने गम के चन्द पन्नो के किस्से, यहाँ तो हर शक्स भरी किताब लिए बैठा है.....    hi\n",
            "27911                                                       भोपाल-राज्यसभा सांसद अनिल दवे दिल्ली रवाना,एयर इंडिया की दिल्ली फ्लाइट से हुए रवाना    hi\n",
            "27912  13/7 मुंबई धमाकों को लेकर आंतकी भटकल को कोई पछतावा नहीं: मुंबई। इंडियन मुजाहिद्दीन ने 2011 में मुबंई में सीरिय... http://t.co/knepbH2XNw    hi\n",
            "27913                                                                                               @sagornoyon70 নেহি কার পাওগে ;) @ShManus786    hi\n",
            "27914     #RT #ipad #iphone इराक में अपने शिया भाइयों की मदद के लिए जाना चाहते हैं हजारों... http://t.co/w8DEbNJzci #app http://t.co/H9M9GzLhkU    hi\n",
            "---\n",
            "                                                                                                                                            tweet    label\n",
            "27926                                                                  rochi di kuch controversial hone pe apne aap online aa jaati hai #OMGFacts  hi-Latn\n",
            "27927                                                                      @Nilesh_Shah usse mil lijiye.. aapko b pta hai kiski baat kr rha hu ;)  hi-Latn\n",
            "27928                                                                                             Yeh meri umar ne meri zindagi kharab kardi hai.  hi-Latn\n",
            "27929                                                                                                                                Maa ki aankh  hi-Latn\n",
            "27930  mar jayiya tere bin  mar jayiya tere bin mar jayiya  yade teri yade  rulati hai mujko  bite bite lamhe  tadpadte... http://t.co/USOrUdOV87  hi-Latn\n",
            "---\n",
            "                                                           tweet label\n",
            "27941               Aa izgrickala sam sve nokte do zivca,umireem    hr\n",
            "27942                             jebote pa muskarci nose suknje    hr\n",
            "27943  majka kaze da kad bih pojela vola ne bi mi se primijetilo    hr\n",
            "27944                           O, zasto smo sada toliko daleko?    hr\n",
            "27945                           @mlccs1 kuku znam tog lika .....    hr\n",
            "---\n",
            "                                                                                                                                        tweet label\n",
            "27946                                                Jan majorite moun ap viv Ayiti a RT @RomeroBoukman: Kijan moun te fè viv san #GPS 😯 ....    ht\n",
            "27947  Gwo vant pa alamod Ekri ou rele 37201033 mande pwodwi pou kase vant e rete a gwosew li vann 80 US. 5 premye mou ki rele ap peyel 50 US    ht\n",
            "---\n",
            "                                                                                      tweet label\n",
            "27965                                             disaat kita terlalu bergantung kepada org    id\n",
            "27966                        Klo udh gk syg mndng tnggln aja drpda kek gni yg skt jg aku:\")    id\n",
            "27967                                                     Orang benar akan hidup oleh iman.    id\n",
            "27968                                                              @LarasNiaty_ Iyy dong :)    id\n",
            "27969  Woiiii @kasyfanzulamia @Aulia_Javadd @NurAdhinda kalian HARUS ikut bukber kita WAJIB    id\n",
            "---\n",
            "                                                                                                   tweet label\n",
            "30972                         Ti svegli e improvvisamente #sixseasonsandamovie. #serialupdate #community    it\n",
            "30973                                                  Enzo Salvi - \"Va va va\" E chi non la canta VAVAVA    it\n",
            "30974  Claudio Vismara più che ted di how i met your mother sembra il vladimiro.. http://t.co/klnmoInL0U    it\n",
            "30975          Il viaggio in progressione di Arno Cost &amp; Norman Doray | Nueko http://t.co/CQVkPv7F2v    it\n",
            "30976                 SEI UN BEL PORCO IO SONO UNA TROIA IN CALORE (tutta italia) http://t.co/hyDizxeuOa    it\n",
            "---\n",
            "                                                                                            tweet label\n",
            "31311                                                      @drm821 明日の本番、どうなっているか、ツイートにご期待ください…！！    ja\n",
            "31312                                               かなり雨降ってるけど晴れるのかしら・・・今日は出かけないからどっちでもいいけどちょっと寒い    ja\n",
            "31313                                                                       ガンシューティング歴はそろそろ10年になる    ja\n",
            "31314  2011 FIFA女子ワールドカップ　なでしこジャパン世界一 すぽレットキャンペーン-Microsoft atLife http://t.co/NqmvLN1ltR #spolet    ja\n",
            "31315                                                                         @s19_c88 つっちゃんおはよー。    ja\n",
            "---\n",
            "                                                                                                                            tweet    label\n",
            "41732  http://t.co/Ym4v14YvtE #Description kara-komikku yakinbyotou ni furuedisyonn opezeroiti konnpuri-tobann (Japanese Edition)  ja_LATN\n",
            "---\n",
            "                                                                                                                                             tweet label\n",
            "41733  @menarafmbali CemonkWyapeksa dinuskam slm buat YogaAlc, JubelPds, AliyaSipit,DeviKupit,Arikkupit, GungYw,VijayBK dj julia suksma#DMCprogram    jv\n",
            "41734                                                                                                  lek kadung gak mood langsung wegah lapo2 :3    jv\n",
            "41735                                                                            @belgiis1 koe kui lo mbah seng tuwek.an -__- eling umur nggih =))    jv\n",
            "41736                                      makane maenke ki daendels haha RT @p_bayupradana Congratulation argentina *salaman meneh* *ngelap uluh*    jv\n",
            "41737                                                                                                              @akhyarnst rokok trossss hahaha    jv\n",
            "---\n",
            "                                                                                tweet label\n",
            "41743                             ញាំថ្នាំផ្តាសសាយខ្លាំពេកឡើងគេញលែងចង់ចង់ក្រោកហើយ....    km\n",
            "41744  ស្ពានអាកាសស្ទឹងមានជ័យចាប់ដំណើរការពីថ្ងៃព្រហស្បតិ៍នេះតទៅ http://t.co/gTGXNjmM8f    km\n",
            "---\n",
            "                                                                                                                                              tweet label\n",
            "41745                                                                                                              쟈긔 쟈긔 쟈긔 쟈긔 쟈긔 쟈긔 쟈긔 쟈긔 쟈긔 쟈긔 쟈긔    ko\n",
            "41746                                                                                                                            @sweetieYH 그니까ㅋㅋㅋㅋ    ko\n",
            "41747  ㅠㅠㅠㅠㅠㅠㅠㅠㅠㅠㅠㅠㅠㅠㅠㅠㅠㅠㅠㅠㅠㅠㅠㅠㅠㅠㅠㅠㅠㅠㅠㅠㅠㅠㅠㅠㅠㅠㅠㅠㅠㅠㅠㅠㅠㅠㅠㅠㅠㅠㅠㅠㅠㅠㅠㅠㅠㅠㅠㅠㅠㅠㅠㅠㅠㅠㅠㅠㅠㅠㅠㅠㅠㅠㅠㅠㅠㅠㅠㅠㅠㅠㅠㅠㅠㅠㅠㅠㅠㅠㅠㅠㅠㅠㅠㅠㅠㅠㅠㅠㅠㅠㅠㅠㅠㅠㅠㅠㅠㅠㅠㅠㅠㅠㅠㅠㅠㅠㅠㅠㅠㅠㅠㅠㅠㅠㅠㅠㅠㅠㅠㅠㅠㅠㅠㅠㅠㅠㅠㅠ    ko\n",
            "41748                                                                                                                                @hscha87 못난아..    ko\n",
            "41749                                                     어제랑 똑같은 음악 똑같은 부분에서 컴이 멈추길래 혹시나 해서 시험해봤다 장미의 기사단에서 국호를~부터 틀면 멈춘다 이건 또 뭔 일이야;; 처음 보는 일이여;;    ko\n",
            "---\n",
            "                      tweet    label\n",
            "42203  @SL_kyuraw gomawoo:)  ko_LATN\n",
            "---\n",
            "Empty DataFrame\n",
            "Columns: [tweet, label]\n",
            "Index: []\n",
            "---\n",
            "Empty DataFrame\n",
            "Columns: [tweet, label]\n",
            "Index: []\n",
            "---\n",
            "Empty DataFrame\n",
            "Columns: [tweet, label]\n",
            "Index: []\n",
            "---\n",
            "Empty DataFrame\n",
            "Columns: [tweet, label]\n",
            "Index: []\n",
            "---\n",
            "Empty DataFrame\n",
            "Columns: [tweet, label]\n",
            "Index: []\n",
            "---\n",
            "                                                                                                                                                                                                                                                                                                                                                                                                                                                                                                                                                                                                                                                                                                                                                                                                                                                                                                                                                                                                                                                                                                                                                                                                                                                                                                                                                                                                                                                                                                                                                                                                                                                                                                                                                                                                                                                                                                                                                                                                                                                                                                                                                                                                                                                                                                                                                                                                                                                                                                    tweet label\n",
            "42204  Sed fugit interea,fugit irreparabile tempus, singula dum capti circumvectamur amore” Virgilio  foto @sultantrianero http://t.co/2bYJwi5lEt\\tla\\r\\nSusidūrus automobiliams, mama ir mažametis atsidūrė ligoninėje http://t.co/RWu1i4PRx5\\tlt\\r\\n@Nathwolffe @KylieJenner_HO mumumu\\tlv\\r\\nOkee . Eju ārā . Bye .\\tlv\\r\\nTētis mazliet iepriecināja, tagad ceru ka līdz vakaram paspēs uztaisīt visu mašīnai. :D\\tlv\\r\\n@MLP_Shad nu pls\\tlv\\r\\nwoow woww wowww   #DoubleBinSMTM3 http://t.co/kcCOzURA1r\\tlv\\r\\nPsc lopa jobans treniņš\\tlv\\r\\n@boooooooooomer Palusot.\\tlv\\r\\n@LetAleeBe fufu*..\\tlv\\r\\nJeej\\tlv\\r\\n@Rusljiks stulbs un vēl stulbāks.!\\tlv\\r\\n@tasyaviera_f ouuhh jauuhh donk\\tlv\\r\\n@pecisk ideju saprotu. Tādā situācijā uzvar sliktākais pusis ciemā, kas spej iesist pa purnu. Pārējiem atliek pakļauties.\\tlv\\r\\n@Im_SoTwisted mhmm\\tlv\\r\\nŠorīt @LatvijaStatoil ar sms paziņoja, ka esmu laimējis 4 centu atlaidi degvielai pirms vēl biju paspējis piedalīties spēlē. Maģija?\\tlv\\r\\n@Fireflys_girl @Tigerrrrrr_ Liepājā nav ko darīt. :D\\tlv\\r\\nNeretnieks uzvar Pasaules kausa posmā jāšanas sportā http://t.co/20NV818OTW\\tlv\\r\\n@PaulaTtalmane @Kokteiliits Paula vnk nesaprata. ;)\\tlv\\r\\n@grahamharbison jai guru deva\\tlv\\r\\n@RitaBeitika paldies :*\\tlv\\r\\n@razvigorka се разжалостувам секогаш кога некој ќе ми го потврди тоа :( Синоним за моето среќно детство е тој фестивал.\\tmk\\r\\n@adityavizagite @HariBabuBJP @MVENKAIAHNAIDU Bangaram pande bhoomulani vela kotlato concrete jungles ga marchadam. sabhash TDP!! VISION!!\\tml_LATN\\r\\n@panduyaa 2 дахь зураг нь зөвөө\\tmn\\r\\n@Sanchir_TASAM @Baatarscc эхлээгүй бүр орох ч үгүй бна... золиг чинь ккк\\tmn\\r\\nकु. अमृता राजेंद्र पटवा ई टीव्ही मराठी वर इचलकरंजी दि.१५ येथील कु अमृता राजेंद्र पटवा गुरुवार दिनांक १७ जुलै व २४... http://t.co/ib9XqZL3Jb\\tmr\\r\\nसुप्रभात #Gargi आऊ.  मी आत्ता उठलो … जेवतो ग … ओरडू नको ना … जेवून येतो … #Sudhakar - Sorry your work is still pending ...\\tmr\\r\\nजो आपल्या आईवर खर प्रेम करतो त्याने हि कविता जरूर वाचावी आणि आपल्या प्रत्येक मित्राला Share ,Tag करावी (¯`v´¯)... http://t.co/7mSM4D5D79\\tmr\\r\\n@huzairy_zairy aku mcm ni la bro, kau tahu berita skg en?\\tms\\r\\n@AbaSirus hehe.... taw kak t ckp cam 2.. sbb 2 brani ckp... hehe..insya Allah kak t...jumpe grade nnt...\\tms\\r\\nboleh tidur aku dgr pengarah ni cakap. Perut mula buat muzik sendiri\\tms\\r\\nJangan kikir berbuat kebaikan yang Anda mampu atasnya walau hanya dengan ucapan yang baik\".    ms\n",
            "42205                                                                                                                                                                                                                                                                                                                                                                                                                                                                                                                                                                                                                                                                                                                                                                                                                                                                                                                                                                                                                                                                                                                                                                                                                                                                                                                                                                                                                                                                                                                                                                                                                                                                                                                                                                                                                                                                                                                                                                                                                                                                                                                                                                                                                                                                                                                                                                                                                                    @iloveshf Aku tadi baru nampak dia! Senyum je aku mampu hahahaha    ms\n",
            "42206                                                                                                                                                                                                                                                                                                                                                                                                                                                                                                                                                                                                                                                                                                                                                                                                                                                                                                                                                                                                                                                                                                                                                                                                                                                                                                                                                                                                                                                                                                                                                                                                                                                                                                                                                                                                                                                                                                                                                                                                                                                                                                                                                                                                                                                                                                                                                                  @nazirulhaziqs: @ItsMymie_ haha. hzq rendah je okay. mcm budak darjah 5. hahaha haha ye ke ? boleh percaya ke ? berapa tinggi ? 💃💃    ms\n",
            "42207                                                                                                                                                                                                                                                                                                                                                                                                                                                                                                                                                                                                                                                                                                                                                                                                                                                                                                                                                                                                                                                                                                                                                                                                                                                                                                                                                                                                                                                                                                                                                                                                                                                                                                                                                                                                                                                                                                                                                                                                                                                                                                                                                                                                                                                                                                                                                                                                                                                                           Hati berasa dupan ye haha    ms\n",
            "42208                                                                                                                                                                                                                                                                                                                                                                                                                                                                                                                                                                                                                                                                                                                                                                                                                                                                                                                                                                                                                                                                                                                                                                                                                                                                                                                                                                                                                                                                                                                                                                                                                                                                                                                                                                                                                                                                                                                                                                                                                                                                                                                                                                                                                                                                                                                                                                                                                So tak boleh la beli jongkong emas simpan kat rumah pastu bila harga melambung jual?    ms\n",
            "---\n",
            "                                                                                                                                              tweet label\n",
            "42328                                                    Foeballuh! “@Spitstwit: Gamecolumn: Het is maar een spelletje &gt; http://t.co/1uIjPNLlIF”    nl\n",
            "42329                                                                                                                   Proefwerken gimgen best oké    nl\n",
            "42330                                                         @ANWBverkeer dus via de A15 - A4 ?  Wellicht dit te vermelden t.g.v. duidelijkheid :)    nl\n",
            "42331                                               La Mer kiest voor Beautypartner als leverancier voor flexibel personeel! http://t.co/dMDRxXG8Oo    nl\n",
            "42332  Willem Drees had dat al snel door dat de sociale welvaartstaat door pvda werd afgebroken. Vandaar dat hij uit onvrede uit de PvdA is gestapt    nl\n",
            "---\n",
            "                                                                                                                                          tweet label\n",
            "42510                                                          Nytt pris: E85: 8,88 B95: 14,25 Diesel: 14,02 #St1Bulltofta  2014-07-01 10:06:09    no\n",
            "42511  AUF vil la deler av kafébygget på Utøya bestå som et minnesmerke. Fornuftig. # @eskilpedersen: Vi  minnes og lære http://t.co/My6NKYwvar    no\n",
            "42512                        @Harryisthecraic kjæresten til søskenbarnet mitt er her og fra Bergen og hver gang han snakker sitter jeg og bare😍    no\n",
            "42513                    @OpkvitneEaters Fifas disciplinary code er skrevet slik at man kan tolke den akkurat slik man lyster. De er lure sånn.    no\n",
            "42514                                                                              Neymar av banen med Norges folkesykdom. Vondt i ryggen. #2vm    no\n",
            "---\n",
            "                                                                                                                                      tweet label\n",
            "42521                                                                                Edward III nie mógł zostać... - http://t.co/iitbTkuFJJ    pl\n",
            "42522                                                                        @perfctcalum właśnie sie skaplam ze ty mialam z tego ikonke xD    pl\n",
            "42523                                                                                                @mailencanossini: kolor frrrreza #lulu    pl\n",
            "42524                                                                                                       @zarrydiary ty mi nie odpisałas    pl\n",
            "42525  @awhmyleigh Ale to przecież fair... Poza tym to tylko na chwilę &lt;uśmiecham się i ustami jadę niżej, lekko zasysam twoją skórę&gt;    pl\n",
            "---\n",
            "                                                                                           tweet label\n",
            "42616                                                                             meio estranho!    pt\n",
            "42617                                     Não se gostam?  Vai um pra cada lado e pronto porra!!!    pt\n",
            "42618  Eu adoro ir às compras. Olha só o que eu comprei no Stardoll, Wig! http://t.co/oBeiiDlZy5    pt\n",
            "42619                           @gruviquantica estas muito sofisticada esses últimos dias, amiga    pt\n",
            "42620                                                                            Boa noite ♥ ☺ '    pt\n",
            "---\n",
            "                                                                                                                                     tweet label\n",
            "45494                                                                                                                             Revoltei    ro\n",
            "45495  #Horizon2020 este cel mai amplu program de cercetare al UE. 80 de miliarde de euro disponibili până în 2020: http://t.co/vuBkia4Zgx    ro\n",
            "45496                                    @ElenaRogoz Mda da! Acum o saptamana 0.0 sper ca macar incerci ;p atunci ai fi prea smechera hehe    ro\n",
            "45497                                ITI PERMITI acum sa-ti faci publicitate! 100 de euro pentru 100% reclama http://t.co/KFDTLflNUY #cluj    ro\n",
            "45498                 Tracy Morgan, victimă a unui accident rutier care a avut loc în iunie, a fost externat http://t.co/5KUxvNS0r0 #stiri    ro\n",
            "---\n",
            "                                                                                                             tweet label\n",
            "45506                                                                              @egosh_69 в 6 утра?есть?ахахаха    ru\n",
            "45507  Кинофильм собрал за время проката 230 984 145 руб. на неделе смотрел на кино Рио 2. Фильм #РИО2 понравился.    ru\n",
            "45508                                                 Притча о разводе | Свадебный коктейль http://t.co/PdOq6h8jCj    ru\n",
            "45509                                                               Проекты домов из бревна http://t.co/nKtLxsiBhD    ru\n",
            "45510                                                                   8-я серия 03.07.2014 смотреть онлайн - 2x2    ru\n",
            "---\n",
            "Empty DataFrame\n",
            "Columns: [tweet, label]\n",
            "Index: []\n",
            "---\n",
            "                                                                                                        tweet label\n",
            "46496                                                                 a boli uvo svajcarsku, puni su k'o brod    sr\n",
            "46497                                                                                 Prekini da mi se drkaš.    sr\n",
            "46498                              Nosim samo Nike, imam dijamantska pluca  ček samo da dobro naoštrim sekiru    sr\n",
            "46499                                                              ZAŠTO JE ENDRU SKOT GEJ, ZAŠTOOOOOOOOOOOOO    sr\n",
            "46500  ĐOKOVIĆ: Teško bilo posle četvrtog seta | Srbija danas - http://t.co/nCVCV3nRxQ http://t.co/PPkFMveMxB    sr\n",
            "---\n",
            "                                                                                                                                           tweet label\n",
            "46528                                                                                @Wilbacher På riktigt alltså. Du får 10% av intäkterna, ok?    sv\n",
            "46529  Mora satsar för att vara med i kampen om SHL-platserna. Under måndagen presenterade man ett tungt... http://t.co/gbcbWBmfRm #dagenshockey    sv\n",
            "46530                        Vårt glamourösa backstageområde. Längst upp till höger Thomas \"nya\" olåsta cykel. #radioliv… http://t.co/tBG2EyzzPi    sv\n",
            "46531                                                                          @rudbergamanda nice! Vill fan också tillbaka redan nu i sommar ☺️    sv\n",
            "46532                                                                          @Krakel_ @kringelkrokar  Ta tilllbaka Kentas låt från rasisterna.    sv\n",
            "---\n",
            "                                                                                                                     tweet label\n",
            "46582                                LMFAOO RT \"@Limo_alan: \"@Emahnue: Ziko wapi izo screenshots?\" http://t.co/cIelmRVhCB\"    sw\n",
            "46583  HATIMAYE MWISHO WA DUNIA UMEKARIBIA..!! FREEMASON WATOA TAMKO KUHUSU MWISHO WA DUNIA HII..!! http://t.co/SwYmiVbsN0    sw\n",
            "46584                                                                                           @stevengitz nilipoteza cmu    sw\n",
            "46585                                            Liverpool yamsajili Markovic kwa £20m kuziba pengo http://t.co/sdwyWbsBQm    sw\n",
            "46586    KUELEKEA UCHAGUZI 2015:: VIJANA WAAMUA KUTANGAZA NIA YA KUGOMBEA UBUNGE, HUYU NI MMOJA WAO http://t.co/6MNwGRm71W    sw\n",
            "---\n",
            "                                                                                                          tweet label\n",
            "46588  சார்.உங்க பழைய நாவலை எல்லாம் கிலோ 50 ரூபா க்கு வாங்குனேன் அடப்பாவி.நாவல் பழமே கிலோ 250 ரூபா க்கு போகுதே?    ta\n",
            "46589                                                                             @silvakaskas திருடா நான் ரெடி    ta\n",
            "46590                                        MH17 :அதிர்ஷ்டவசமாக தப்பிய பிரிட்டன் தம்பதி http://t.co/dQz2HmmycG    ta\n",
            "46591                       பார்வையற்ற குழந்தைகளை அடித்துத் துன்புறுத்திய கொடூர ஆசிரியர் http://t.co/HGj3MnJ8XX    ta\n",
            "46592                                                                                அஞ்சான் பாடல்கள் கிடைச்சதா    ta\n",
            "---\n",
            "                          tweet    label\n",
            "46597  @bunbaby1 Vanakkam fakeu  ta_LATN\n",
            "---\n",
            "                                                                                                            tweet label\n",
            "46598                                                               @BTSJK_97BOT @jungkook_fxxk พึ่งเลิกเรียน -.-    th\n",
            "46599                                                                      น้องต้วนกับแจ๊คสันและเจบีฮามาก ไอสาดดด    th\n",
            "46600                                        ทำไมกินกลูต้าแล้วไม่เหนผลซักที วันนี่มีคำตอบ https://t.co/Dh5oxrwPSF    th\n",
            "46601  ลูกเหม็นนี่มันเหม็นสมชื่อจริงๆ ตอนนี้สับสนว่ากลิ่นท่อหรือกลิ่นลูกเหม็นกันแน่ที่มันเหม็นกว่ากัน ปวดหัวล่ะ 😩    th\n",
            "46602                                                                                             อยากหลับสัก10ปี    th\n",
            "---\n",
            "                                                                                                                                             tweet label\n",
            "47060                                                                         At least yung mukha ko d malala tulad ni Jayson, Clyde at Abram. =3=    tl\n",
            "47061                                                                                                     Yung mga nag uunfollow mga pa famous ./.    tl\n",
            "47062                                                                                          @ALTHEADELATORRE Ayy. Di naman ganon yung akin. -.-    tl\n",
            "47063                                                                                                            Yesss! Galing selos ako kuya! ./.    tl\n",
            "47064  @avegaille ah.. kala ko fan ka din ng f1. 😊 para akong one of the boys. Mahilig sa sports. Bihira nga sa pinas kse mostly puros elite lang.    tl\n",
            "---\n",
            "                                                                    tweet label\n",
            "47381  I'm at Avrupa Birliği Bakanlığı w/ 6 others http://t.co/4VY9U8X2BM    tr\n",
            "47382                                     @ALKOLKAFAYAPAR ben uyumadım da    tr\n",
            "47383                                     cigjofte seven kizlar selam :dd    tr\n",
            "47384                Dünya mazlumlarının umudu. Rabbim yolunu açık etsin.    tr\n",
            "47385       millet aşk derdine düşmüş biz burda iftar saatini bekliyoruz.    tr\n",
            "---\n",
            "                                                                                                                                             tweet label\n",
            "48050                                                                  В Ужгороді священик затримав підозрілого «фотографа» http://t.co/fa3tSq8aLg    uk\n",
            "48051  #фитнес #спорт #акции #fitness #lviv #lvov #Львов ZUMBA на вул. Науковій 43б. пн. та ср. о 10.30! Тел. 097-602-77-91 http://t.co/T72GU5Wc6j    uk\n",
            "48052                                  @UKRINFORM @ukrpravda_news Хватить! Ми знаємо що вони стурбовані вже пів року і палець об палець невдарили.    uk\n",
            "48053                                                  Яценюк очікує, що за 10 років Україна буде повністю енергонезалежною http://t.co/v7DDlUhH10    uk\n",
            "48054                                                                                    Волонтери передали на Донбас б�... http://t.co/1ZGs1Z345H    uk\n",
            "---\n",
            "                                                                              tweet label\n",
            "48066  “@NkealHarry15: Rasta E-Mann 😂😂😂 @EmannHamm_TYB6 http://t.co/iGHdjO0EKy”😂😂😂😂   und\n",
            "48067                                                            @MonaKazok  😂😂😂😂😂😂   und\n",
            "48068                                                        #aliadosestasdemassss!   und\n",
            "48069                                                             Padahal wes onlen   und\n",
            "48070                                            #재효효진행쇼 #재효진행쇼 #안재효♡문효진 @blockbhyo   und\n",
            "---\n",
            "                                                                                                                                             tweet label\n",
            "52603                                                                                    برطانیہ: سیاہ فام بچے زیادہ فکرمند http://t.co/usO7YnGDDd    ur\n",
            "52604                                                                                   چھِن نہ جائے ترا تبسّمِ لب ،   میرے درد و الم کی بات نہ کر    ur\n",
            "52605                                                                                        @phanerozoic11 @dufferistan کس کے ساتھ کیا ہوریا؟  :(    ur\n",
            "52606                                                                 جماعت احمدیہ کے بارے حقائق اور پاکستان کی موجودہ حالت http://t.co/HkWA6NEXKd    ur\n",
            "52607  کچھ لوگ نماز پڑھتے ہیں ، روزہ رکھتے ہیں ہر وہ کام کرتے ہیں جس کا اللہ نے حکم دیا ہے مگر زبان سے کہے اپنے الفاظ پر... http://t.co/3RG2E1Ki1B    ur\n",
            "---\n",
            "                                                                                                                                              tweet    label\n",
            "52610                               Dawar-e-Hasaar Ne Ehy Keh Ky Mujhy Bakash Dia Khoob Tujh Ko Meray Pyary Ki Sana Aati Hai http://t.co/gSYvCpZU8S  ur_LATN\n",
            "52611                                                         @preeti_luvkcnwk wah wah sukriya aapka...iss shandar swagat ke liye..:$ blush blush..  ur_LATN\n",
            "52612                                                                   @Wiseguy70 @VneedChange @waqas_azeem_ch @AnamKhan80 aik jadu ki jhapi do na  ur_LATN\n",
            "52613  Qur'an Mein Tajdeed Ka Tariqa http://t.co/z19N3aJsIV… #GoharShahi #YounusAlGohar #ISIS #Taliban #Quran #Ramadan #Muhammad #ImamMehdi #Hadith  ur_LATN\n",
            "52614  @Nice_DuLHaN: Nahi Hum MOhtaaj Kisi Ke Ek Terey Siwa...* Yaa Allah \" Humare Gunnah Bakhash De Hmari Sanson K Tutny Se Phly (Ameen)  m.tw ...  ur_LATN\n",
            "---\n",
            "                                                                                                                                             tweet label\n",
            "52622   MÙA HÈ 2014 Mùa hè đến là dịp để gia đình bạn tung tăng đi biển cùng nhau, nhằm giúp cho tình cảm giữa các thành... http://t.co/nePUj4uu9P    vi\n",
            "52623                                 Tôi đã thích video http://t.co/dm62mcF9EU [Alozo.vn] Ghế đưa đa năng Sle Evo Brevi trên @YouTube từ @alozovn    vi\n",
            "52624   Lù hán à =)))))))))))))) lúc uống nc' đắng thì mặt nhăn còn 1 nhúm, lúc thầy Hà đưa 1 cốc kêu chọn đứa khác u (...) http://t.co/OoQcTuUbib    vi\n",
            "52625  Khi một người quyết định IM LẶNG...  . Không phải vì người ấy hết yêu bạn rồi đâu... . Mà bởi vì... . Người ấy đã... http://t.co/Ap5UcBrWyK    vi\n",
            "52626                                                                                                              ngày đẹp zời và rất buồn ngủ :(    vi\n",
            "---\n",
            "                                                                                                                                            tweet label\n",
            "52639  @SJLRadio1 @Umhlobo_Wenene @Maxhoseni @NonalaTose n@MazaWhat ndimpha zonke 3/3 Ifani Ingoma ezimnandi naye uMaxhoseni xa Ndifile.Hayi sure    xh\n",
            "---\n",
            "Empty DataFrame\n",
            "Columns: [tweet, label]\n",
            "Index: []\n",
            "---\n",
            "                                                                                                                                  tweet  label\n",
            "52640                                                                                                       被肆意吹捧出来的“经典”作家，如：冰心，矛盾，郭沫若等  zh-CN\n",
            "52641                                                                                     一直让你流泪的条件再好也不能要，一直让你笑的，就算吃苦也值得。宁可笑着累，也不要哭着享受。  zh-CN\n",
            "52642                   热点文章：《《京城81号》吴镇宇特辑—在线播放—优酷网，视频高清在线观看》 http://t.co/U0ErVWKV09 原站链接：http://t.co/ND7dmWfJkU http://t.co/ibEpuxNygo  zh-CN\n",
            "52643                                             我取得了一项新成就：`管理员`.尝试在iPad版Tribez游戏中打败我吧！http://t.co/zvfCZLFlIF #ipadgames, #gameinsight  zh-CN\n",
            "52644  真佛宗大马各分堂中元节法会活动，欢迎护持 !  农历七月的『中元節』即将到来。农历七月是佛教的「孝月」，亦是吉祥月，眾多佛教徒於農曆七月，作種種功德法事，來超拔歷代祖先及七世父母，並以功德迴向利益自身及累世之怨親債主。   欢迎善信大德踴躍出席及报名法会!  zh-CN\n",
            "---\n",
            "                                                                                                                               tweet  label\n",
            "52665                                                                               @EmmaKongms 所以我地要叫朋友來開account 先，緊急情況要識轉台睇Twitter  zh-TW\n",
            "52666                                                                      《音速經紀》於背地裡支援音速子 引導玩家的 “音樂女神”「繆斯」登場 http://t.co/APDQgNMZcp  zh-TW\n",
            "52667                                                                                    大立光2450盤中新高 台股收漲9520 http://t.co/T1x9EhD7mi  zh-TW\n",
            "52668                                                                                                          @hundtw 不要眯啦 來喝一杯啦 #喂  zh-TW\n",
            "52669  - 賀文p14 台灣訪問你地 其他成員話你係全隊最天不怕地不怕果陣 我林： 如果你去拍叢法 會唔會因為太肥而暈低xDD @angeljoe1123 @wowous @whdgus1004 @AH_NIEL_ @T_Ricky_T @asdsdf756  zh-TW\n",
            "---\n",
            "Empty DataFrame\n",
            "Columns: [tweet, label]\n",
            "Index: []\n",
            "---\n"
          ]
        }
      ]
    },
    {
      "cell_type": "markdown",
      "metadata": {
        "id": "IYLOL2_B5OrT"
      },
      "source": [
        "## 3. Text Cleaning"
      ],
      "id": "IYLOL2_B5OrT"
    },
    {
      "cell_type": "markdown",
      "metadata": {
        "id": "np67DQkz5JEm"
      },
      "source": [
        "This is generally a good idea as many text classification tools rely on counting the occurrences of words. If both upper and lower case versions of the same word are found in the text then the algorithm will count them as different words even though the meaning is the same. Of course this does mean that where the capitalised versions of a word exists, that does have a different meaning. For example the company Apple vs the fruit apple. This could result in poorer performance for some data sets. This is one area of NLP where you may try different methods to see how they affect the overall performance of the model."
      ],
      "id": "np67DQkz5JEm"
    },
    {
      "cell_type": "code",
      "metadata": {
        "id": "vsh1XvSsAwYL"
      },
      "source": [
        "def remove_all_emojis(text):\n",
        "  dem = demoji.findall(text)\n",
        "  for item in dem.keys():\n",
        "    text = text.replace(item, '')\n",
        "  return text"
      ],
      "id": "vsh1XvSsAwYL",
      "execution_count": 263,
      "outputs": []
    },
    {
      "cell_type": "code",
      "metadata": {
        "id": "kQfxTUB36n4C"
      },
      "source": [
        "def  clean_text(df, column):\n",
        "    df = df.copy(deep=True) # Make deep copy of tweets\n",
        "    df[column] = df[column].str.lower() # Transform into all lowercase\n",
        "    \n",
        "    patterns = []\n",
        "    retweet_pattern = '^RT'\n",
        "    patterns.append(retweet_pattern)\n",
        "    xml_pattern = '&\\S+;'\n",
        "    patterns.append(xml_pattern)\n",
        "    hashtag_pattern = '#[A-Za-z0-9_]+'\n",
        "    patterns.append(hashtag_pattern)\n",
        "    twitter_mention_pattern = '@[A-Za-z0-9_]+'\n",
        "    patterns.append(twitter_mention_pattern)\n",
        "    http_pattern = 'http\\S+'\n",
        "    patterns.append(http_pattern)\n",
        "    www_pattern = 'www\\S+'\n",
        "    patterns.append(www_pattern)\n",
        "    tab_pattern = '\\t'\n",
        "    patterns.append(tab_pattern)\n",
        "    punctuation_pattern = '[!\"#$%&\\\\()*+,-./:;<=>?@\\[\\]^_`\\'{}~]+'\n",
        "    patterns.append(punctuation_pattern)\n",
        "    numeric_pattern = '[0-9]+'\n",
        "    patterns.append(numeric_pattern)\n",
        "    regex = \"|\".join(patterns)\n",
        "\n",
        "    #df[column] = df[column].apply(lambda elem: re.sub(r\"(@[A-Za-z0-9]+)|([^0-9A-Za-z \\t])|(\\w+:\\/\\/\\S+)|^rt|http.+?\", \"\", elem)) \n",
        "    df[column] = df[column].apply(lambda elem: re.sub(r\"{}\".format(regex), \"\", elem))\n",
        "    df[column] = df[column].apply(remove_all_emojis)\n",
        "    \n",
        "    return df"
      ],
      "id": "kQfxTUB36n4C",
      "execution_count": 267,
      "outputs": []
    },
    {
      "cell_type": "code",
      "metadata": {
        "id": "ht7tAk-r5Re8"
      },
      "source": [
        "test_clean = clean_text(test_data, \"tweet\")\n",
        "train_clean = clean_text(train_data, \"tweet\")"
      ],
      "id": "ht7tAk-r5Re8",
      "execution_count": 268,
      "outputs": []
    },
    {
      "cell_type": "code",
      "metadata": {
        "colab": {
          "base_uri": "https://localhost:8080/",
          "height": 822
        },
        "id": "tdP-M7uz09fh",
        "outputId": "e7d04a9f-eccb-48dd-8ca1-ff5d16e58552"
      },
      "source": [
        "test_data_comparison = pd.concat([test_data.drop(['label'], axis=1), test_clean], axis=1)\n",
        "test_data_comparison.sample(20, axis=0)"
      ],
      "id": "tdP-M7uz09fh",
      "execution_count": 290,
      "outputs": [
        {
          "output_type": "execute_result",
          "data": {
            "text/html": [
              "<div>\n",
              "<style scoped>\n",
              "    .dataframe tbody tr th:only-of-type {\n",
              "        vertical-align: middle;\n",
              "    }\n",
              "\n",
              "    .dataframe tbody tr th {\n",
              "        vertical-align: top;\n",
              "    }\n",
              "\n",
              "    .dataframe thead th {\n",
              "        text-align: right;\n",
              "    }\n",
              "</style>\n",
              "<table border=\"1\" class=\"dataframe\">\n",
              "  <thead>\n",
              "    <tr style=\"text-align: right;\">\n",
              "      <th></th>\n",
              "      <th>tweet</th>\n",
              "      <th>tweet</th>\n",
              "      <th>label</th>\n",
              "    </tr>\n",
              "  </thead>\n",
              "  <tbody>\n",
              "    <tr>\n",
              "      <th>4912</th>\n",
              "      <td>#BestMassageEver  😝 GO WATCH @camerondallas 's NEW HILARIOUS VIDEO 😝 http://t.co/0RkgQmCRt4 😝 GIVE IT A 👍 😝 &amp;amp; SUBSCRIBE 😝 ILY PLEASE😭 73</td>\n",
              "      <td>go watch  s new hilarious video    give it a    subscribe  ily please</td>\n",
              "      <td>en</td>\n",
              "    </tr>\n",
              "    <tr>\n",
              "      <th>9653</th>\n",
              "      <td>get ready with drinks and food,can't wait to start this great battle #CafeRio #WordCup2014  #FIFA2014 #sonysix #Brazil2014</td>\n",
              "      <td>get ready with drinks and foodcant wait to start this great battle</td>\n",
              "      <td>en</td>\n",
              "    </tr>\n",
              "    <tr>\n",
              "      <th>7558</th>\n",
              "      <td>@hhss57722 おやすみなさい.さん…</td>\n",
              "      <td>おやすみなさいさん…</td>\n",
              "      <td>ja</td>\n",
              "    </tr>\n",
              "    <tr>\n",
              "      <th>12376</th>\n",
              "      <td>日中があまり暑くならなそうで、仕上げ摘果がんばらんと。今年は色々で遅れてる。</td>\n",
              "      <td>日中があまり暑くならなそうで、仕上げ摘果がんばらんと。今年は色々で遅れてる。</td>\n",
              "      <td>ja</td>\n",
              "    </tr>\n",
              "    <tr>\n",
              "      <th>2190</th>\n",
              "      <td>Baytown Webster McDonalds is the worst ever!!!</td>\n",
              "      <td>baytown webster mcdonalds is the worst ever</td>\n",
              "      <td>en</td>\n",
              "    </tr>\n",
              "    <tr>\n",
              "      <th>1154</th>\n",
              "      <td>@claudiaoxoxo aww man you should have tried to get me an autograph 😉hope you're having a good time xxx</td>\n",
              "      <td>aww man you should have tried to get me an autograph hope youre having a good time xxx</td>\n",
              "      <td>en</td>\n",
              "    </tr>\n",
              "    <tr>\n",
              "      <th>563</th>\n",
              "      <td>@DM_Gell  @Ricardo_Arjona</td>\n",
              "      <td></td>\n",
              "      <td>und</td>\n",
              "    </tr>\n",
              "    <tr>\n",
              "      <th>4231</th>\n",
              "      <td>Looking thru my calendar 4the week and happily discovering that I will have time 2 #standwithgaza because My kid will B at Jewish day camp.</td>\n",
              "      <td>looking thru my calendar the week and happily discovering that i will have time   because my kid will b at jewish day camp</td>\n",
              "      <td>en</td>\n",
              "    </tr>\n",
              "    <tr>\n",
              "      <th>11620</th>\n",
              "      <td>O cara não entende que  não to afim de falar com ele e fica me mandando mensagem no face</td>\n",
              "      <td>o cara não entende que  não to afim de falar com ele e fica me mandando mensagem no face</td>\n",
              "      <td>pt</td>\n",
              "    </tr>\n",
              "    <tr>\n",
              "      <th>4813</th>\n",
              "      <td>@nunuuSN follback yee</td>\n",
              "      <td>follback yee</td>\n",
              "      <td>und</td>\n",
              "    </tr>\n",
              "    <tr>\n",
              "      <th>3022</th>\n",
              "      <td>@DaanielGoette: #QuieroApretarUnBotonY que todo vuelva a ser como antes.</td>\n",
              "      <td>que todo vuelva a ser como antes</td>\n",
              "      <td>es</td>\n",
              "    </tr>\n",
              "    <tr>\n",
              "      <th>13171</th>\n",
              "      <td>@kinoko26tsukino 猫咲良15ガーディ激弱なんですぅ…；ヘビマシに甘えてるのが司さまにバレちゃいますぅ…；；精進！(&amp;gt;_&amp;lt;)ゞ</td>\n",
              "      <td>猫咲良ガーディ激弱なんですぅ…；ヘビマシに甘えてるのが司さまにバレちゃいますぅ…；；精進！gtltゞ</td>\n",
              "      <td>ja</td>\n",
              "    </tr>\n",
              "    <tr>\n",
              "      <th>5526</th>\n",
              "      <td>puede mi angustia ser tu alegria ,puede esa melodia ser mejor ,puede la angustia ser algun dia la salida ami agonia de imaginacion...</td>\n",
              "      <td>puede mi angustia ser tu alegria puede esa melodia ser mejor puede la angustia ser algun dia la salida ami agonia de imaginacion</td>\n",
              "      <td>es</td>\n",
              "    </tr>\n",
              "    <tr>\n",
              "      <th>11656</th>\n",
              "      <td>コピック欲しいー！</td>\n",
              "      <td>コピック欲しいー！</td>\n",
              "      <td>ja</td>\n",
              "    </tr>\n",
              "    <tr>\n",
              "      <th>1662</th>\n",
              "      <td>@KlassMoney: Stepping out...happy 4th of July be safe http://t.co/F0l7B65UpQ Salute you 2 G</td>\n",
              "      <td>stepping outhappy th of july be safe  salute you  g</td>\n",
              "      <td>en</td>\n",
              "    </tr>\n",
              "    <tr>\n",
              "      <th>6461</th>\n",
              "      <td>That's 'flan' base, although flab is appropriate</td>\n",
              "      <td>thats flan base although flab is appropriate</td>\n",
              "      <td>en</td>\n",
              "    </tr>\n",
              "    <tr>\n",
              "      <th>2719</th>\n",
              "      <td>NowPlaying Violence (Alex Medina Gangnam Style Remix) - Lecrae http//:http://t.co/6jlii1v70n</td>\n",
              "      <td>nowplaying violence alex medina gangnam style remix  lecrae</td>\n",
              "      <td>en</td>\n",
              "    </tr>\n",
              "    <tr>\n",
              "      <th>10503</th>\n",
              "      <td>@CertifiedZOMB ok i got it</td>\n",
              "      <td>ok i got it</td>\n",
              "      <td>en</td>\n",
              "    </tr>\n",
              "    <tr>\n",
              "      <th>2915</th>\n",
              "      <td>Terserahh:'))“@Liputan9: Hasil Quick Count Terbaru http://t.co/6nEDucQu5h”</td>\n",
              "      <td>terserahh“ hasil quick count terbaru</td>\n",
              "      <td>id</td>\n",
              "    </tr>\n",
              "    <tr>\n",
              "      <th>9620</th>\n",
              "      <td>Yoko Ono menyumbangkan banyak barang John Lennon untuk Rock &amp;amp; Roll Hall of Fame, termasuk kacamata berlumur darah saat John ditembak</td>\n",
              "      <td>yoko ono menyumbangkan banyak barang john lennon untuk rock  roll hall of fame termasuk kacamata berlumur darah saat john ditembak</td>\n",
              "      <td>id</td>\n",
              "    </tr>\n",
              "  </tbody>\n",
              "</table>\n",
              "</div>"
            ],
            "text/plain": [
              "                                                                                                                                              tweet                                                                                                                               tweet label\n",
              "4912   #BestMassageEver  😝 GO WATCH @camerondallas 's NEW HILARIOUS VIDEO 😝 http://t.co/0RkgQmCRt4 😝 GIVE IT A 👍 😝 &amp; SUBSCRIBE 😝 ILY PLEASE😭 73                                                              go watch  s new hilarious video    give it a    subscribe  ily please     en\n",
              "9653                     get ready with drinks and food,can't wait to start this great battle #CafeRio #WordCup2014  #FIFA2014 #sonysix #Brazil2014                                                            get ready with drinks and foodcant wait to start this great battle          en\n",
              "7558                                                                                                                         @hhss57722 おやすみなさい.さん…                                                                                                                          おやすみなさいさん…    ja\n",
              "12376                                                                                                        日中があまり暑くならなそうで、仕上げ摘果がんばらんと。今年は色々で遅れてる。                                                                                              日中があまり暑くならなそうで、仕上げ摘果がんばらんと。今年は色々で遅れてる。    ja\n",
              "2190                                                                                                 Baytown Webster McDonalds is the worst ever!!!                                                                                         baytown webster mcdonalds is the worst ever    en\n",
              "1154                                         @claudiaoxoxo aww man you should have tried to get me an autograph 😉hope you're having a good time xxx                                              aww man you should have tried to get me an autograph hope youre having a good time xxx    en\n",
              "563                                                                                                                       @DM_Gell  @Ricardo_Arjona                                                                                                                                       und\n",
              "4231    Looking thru my calendar 4the week and happily discovering that I will have time 2 #standwithgaza because My kid will B at Jewish day camp.          looking thru my calendar the week and happily discovering that i will have time   because my kid will b at jewish day camp    en\n",
              "11620                                                      O cara não entende que  não to afim de falar com ele e fica me mandando mensagem no face                                            o cara não entende que  não to afim de falar com ele e fica me mandando mensagem no face    pt\n",
              "4813                                                                                                                          @nunuuSN follback yee                                                                                                                        follback yee   und\n",
              "3022                                                                       @DaanielGoette: #QuieroApretarUnBotonY que todo vuelva a ser como antes.                                                                                                    que todo vuelva a ser como antes    es\n",
              "13171                                                                  @kinoko26tsukino 猫咲良15ガーディ激弱なんですぅ…；ヘビマシに甘えてるのが司さまにバレちゃいますぅ…；；精進！(&gt;_&lt;)ゞ                                                                                  猫咲良ガーディ激弱なんですぅ…；ヘビマシに甘えてるのが司さまにバレちゃいますぅ…；；精進！gtltゞ    ja\n",
              "5526          puede mi angustia ser tu alegria ,puede esa melodia ser mejor ,puede la angustia ser algun dia la salida ami agonia de imaginacion...    puede mi angustia ser tu alegria puede esa melodia ser mejor puede la angustia ser algun dia la salida ami agonia de imaginacion    es\n",
              "11656                                                                                                                                     コピック欲しいー！                                                                                                                           コピック欲しいー！    ja\n",
              "1662                                                    @KlassMoney: Stepping out...happy 4th of July be safe http://t.co/F0l7B65UpQ Salute you 2 G                                                                                 stepping outhappy th of july be safe  salute you  g    en\n",
              "6461                                                                                               That's 'flan' base, although flab is appropriate                                                                                        thats flan base although flab is appropriate    en\n",
              "2719                                                   NowPlaying Violence (Alex Medina Gangnam Style Remix) - Lecrae http//:http://t.co/6jlii1v70n                                                                        nowplaying violence alex medina gangnam style remix  lecrae     en\n",
              "10503                                                                                                                    @CertifiedZOMB ok i got it                                                                                                                         ok i got it    en\n",
              "2915                                                                     Terserahh:'))“@Liputan9: Hasil Quick Count Terbaru http://t.co/6nEDucQu5h”                                                                                               terserahh“ hasil quick count terbaru     id\n",
              "9620       Yoko Ono menyumbangkan banyak barang John Lennon untuk Rock &amp; Roll Hall of Fame, termasuk kacamata berlumur darah saat John ditembak  yoko ono menyumbangkan banyak barang john lennon untuk rock  roll hall of fame termasuk kacamata berlumur darah saat john ditembak    id"
            ]
          },
          "metadata": {},
          "execution_count": 290
        }
      ]
    },
    {
      "cell_type": "code",
      "metadata": {
        "colab": {
          "base_uri": "https://localhost:8080/",
          "height": 839
        },
        "id": "zJRjDV7zUAxP",
        "outputId": "e0ccef21-940e-42f8-f967-055ed12b0164"
      },
      "source": [
        "train_data_comparison = pd.concat([train_data.drop(['label'], axis=1), train_clean], axis=1)\n",
        "train_data_comparison.sample(20, axis=0)"
      ],
      "id": "zJRjDV7zUAxP",
      "execution_count": 291,
      "outputs": [
        {
          "output_type": "execute_result",
          "data": {
            "text/html": [
              "<div>\n",
              "<style scoped>\n",
              "    .dataframe tbody tr th:only-of-type {\n",
              "        vertical-align: middle;\n",
              "    }\n",
              "\n",
              "    .dataframe tbody tr th {\n",
              "        vertical-align: top;\n",
              "    }\n",
              "\n",
              "    .dataframe thead th {\n",
              "        text-align: right;\n",
              "    }\n",
              "</style>\n",
              "<table border=\"1\" class=\"dataframe\">\n",
              "  <thead>\n",
              "    <tr style=\"text-align: right;\">\n",
              "      <th></th>\n",
              "      <th>tweet</th>\n",
              "      <th>tweet</th>\n",
              "      <th>label</th>\n",
              "    </tr>\n",
              "  </thead>\n",
              "  <tbody>\n",
              "    <tr>\n",
              "      <th>22327</th>\n",
              "      <td>y todo sabe a despedida y mis labios saben a alcohol</td>\n",
              "      <td>y todo sabe a despedida y mis labios saben a alcohol</td>\n",
              "      <td>es</td>\n",
              "    </tr>\n",
              "    <tr>\n",
              "      <th>51145</th>\n",
              "      <td>Braaaa 😐😩</td>\n",
              "      <td>braaaa</td>\n",
              "      <td>und</td>\n",
              "    </tr>\n",
              "    <tr>\n",
              "      <th>19442</th>\n",
              "      <td>#shoptattoo #pen #gel @ ShopTattoo http://t.co/8Lvc3h7EC2</td>\n",
              "      <td>shoptattoo</td>\n",
              "      <td>en</td>\n",
              "    </tr>\n",
              "    <tr>\n",
              "      <th>33472</th>\n",
              "      <td>[目指せ三ツ星ハンター]「50は平気」(コルトピ) 「HUNTER×HUNTER バトルオールスターズ」 ダウンロードはこちら⇒ http://t.co/SbiLjv3l4L #HHBAS</td>\n",
              "      <td>目指せ三ツ星ハンター「は平気」コルトピ 「hunter×hunter バトルオールスターズ」 ダウンロードはこちら⇒</td>\n",
              "      <td>ja</td>\n",
              "    </tr>\n",
              "    <tr>\n",
              "      <th>31047</th>\n",
              "      <td>@LorenzoBises la tiella &amp;lt;3 nonna è una maestra. I caniscioni ripieni di formaggio fresco non li hai mangiati vero?</td>\n",
              "      <td>la tiella  nonna è una maestra i caniscioni ripieni di formaggio fresco non li hai mangiati vero</td>\n",
              "      <td>it</td>\n",
              "    </tr>\n",
              "    <tr>\n",
              "      <th>40245</th>\n",
              "      <td>@SNSD_raily57  いえいえ(●´ω｀●) それはないない、りっちゃんには負ける。 したいよー(´-ω-｀)♡</td>\n",
              "      <td>いえいえ●´ω｀● それはないない、りっちゃんには負ける。 したいよー´ω｀♡</td>\n",
              "      <td>ja</td>\n",
              "    </tr>\n",
              "    <tr>\n",
              "      <th>18926</th>\n",
              "      <td>@Miaknowsbest_ lmao wow ily 😂</td>\n",
              "      <td>lmao wow ily</td>\n",
              "      <td>en</td>\n",
              "    </tr>\n",
              "    <tr>\n",
              "      <th>17246</th>\n",
              "      <td>3am 4 catfish and 1 largemouth that some Mexicans gave me and Mike is passed out missing it</td>\n",
              "      <td>am  catfish and  largemouth that some mexicans gave me and mike is passed out missing it</td>\n",
              "      <td>en</td>\n",
              "    </tr>\n",
              "    <tr>\n",
              "      <th>42020</th>\n",
              "      <td>너희들이 좋아하는 내 노래있어?커버곡이겠지만...</td>\n",
              "      <td>너희들이 좋아하는 내 노래있어커버곡이겠지만</td>\n",
              "      <td>ko</td>\n",
              "    </tr>\n",
              "    <tr>\n",
              "      <th>7793</th>\n",
              "      <td>Family over everything. http://t.co/mhwHYpllF1</td>\n",
              "      <td>family over everything</td>\n",
              "      <td>en</td>\n",
              "    </tr>\n",
              "    <tr>\n",
              "      <th>37765</th>\n",
              "      <td>2014年2月、アフリカ中部のウガンダで、同性愛者を終身刑にできる「反同性愛法」が成立しました。本映画はこの法案をめぐり2009年に闘っていたウガンダの性的少数者やその仲間たちを描いています。https://t.co/WvDUdt3pxp</td>\n",
              "      <td>年月、アフリカ中部のウガンダで、同性愛者を終身刑にできる「反同性愛法」が成立しました。本映画はこの法案をめぐり年に闘っていたウガンダの性的少数者やその仲間たちを描いています。</td>\n",
              "      <td>ja</td>\n",
              "    </tr>\n",
              "    <tr>\n",
              "      <th>31643</th>\n",
              "      <td>@ssoujsmoss 便利な世の中になったよね〜！</td>\n",
              "      <td>便利な世の中になったよね〜！</td>\n",
              "      <td>ja</td>\n",
              "    </tr>\n",
              "    <tr>\n",
              "      <th>8517</th>\n",
              "      <td>“@hunniiee_bee: Some niggas girl blocked me on IG I dont even interact with him 😩 lmaooo” bitches b swearing</td>\n",
              "      <td>“ some niggas girl blocked me on ig i dont even interact with him  lmaooo” bitches b swearing</td>\n",
              "      <td>en</td>\n",
              "    </tr>\n",
              "    <tr>\n",
              "      <th>32924</th>\n",
              "      <td>@hakujoushiro 金じゃないのがおしいですが…、片耳ならダイルさま！！両耳ならミンゴ！！…たまりませんな(///^q^///)hshs</td>\n",
              "      <td>金じゃないのがおしいですが…、片耳ならダイルさま！！両耳ならミンゴ！！…たまりませんなqhshs</td>\n",
              "      <td>ja</td>\n",
              "    </tr>\n",
              "    <tr>\n",
              "      <th>51666</th>\n",
              "      <td>http://t.co/6yNwS5Abeq</td>\n",
              "      <td></td>\n",
              "      <td>und</td>\n",
              "    </tr>\n",
              "    <tr>\n",
              "      <th>29730</th>\n",
              "      <td>rangga rangga rangga aku tau kaki kamunya putih kayak di beklin, tapi gausah tanggung gitu kalik, knapa gak skalian pendek aja -,-</td>\n",
              "      <td>rangga rangga rangga aku tau kaki kamunya putih kayak di beklin tapi gausah tanggung gitu kalik knapa gak skalian pendek aja</td>\n",
              "      <td>id</td>\n",
              "    </tr>\n",
              "    <tr>\n",
              "      <th>16482</th>\n",
              "      <td>@Hilary_Grant cheers lady! miss yer face.</td>\n",
              "      <td>cheers lady miss yer face</td>\n",
              "      <td>en</td>\n",
              "    </tr>\n",
              "    <tr>\n",
              "      <th>42092</th>\n",
              "      <td>@DooBo0o0 ㅂㄷㅂㄷ 우리조 애들중에 걔가 제일 한거 없음 우리 막 메일주소 찾아보고 약속 잡는거 말할때 혼자 폰으로 무도보는 패기</td>\n",
              "      <td>ㅂㄷㅂㄷ 우리조 애들중에 걔가 제일 한거 없음 우리 막 메일주소 찾아보고 약속 잡는거 말할때 혼자 폰으로 무도보는 패기</td>\n",
              "      <td>ko</td>\n",
              "    </tr>\n",
              "    <tr>\n",
              "      <th>15030</th>\n",
              "      <td>@ShaggyIbiza well done mate</td>\n",
              "      <td>well done mate</td>\n",
              "      <td>en</td>\n",
              "    </tr>\n",
              "    <tr>\n",
              "      <th>39150</th>\n",
              "      <td>考えすぎかも</td>\n",
              "      <td>考えすぎかも</td>\n",
              "      <td>ja</td>\n",
              "    </tr>\n",
              "  </tbody>\n",
              "</table>\n",
              "</div>"
            ],
            "text/plain": [
              "                                                                                                                                    tweet                                                                                                                          tweet label\n",
              "22327                                                                                y todo sabe a despedida y mis labios saben a alcohol                                                                           y todo sabe a despedida y mis labios saben a alcohol    es\n",
              "51145                                                                                                                           Braaaa 😐😩                                                                                                                        braaaa    und\n",
              "19442                                                                           #shoptattoo #pen #gel @ ShopTattoo http://t.co/8Lvc3h7EC2                                                                                                                    shoptattoo     en\n",
              "33472                                      [目指せ三ツ星ハンター]「50は平気」(コルトピ) 「HUNTER×HUNTER バトルオールスターズ」 ダウンロードはこちら⇒ http://t.co/SbiLjv3l4L #HHBAS                                                                   目指せ三ツ星ハンター「は平気」コルトピ 「hunter×hunter バトルオールスターズ」 ダウンロードはこちら⇒      ja\n",
              "31047               @LorenzoBises la tiella &lt;3 nonna è una maestra. I caniscioni ripieni di formaggio fresco non li hai mangiati vero?                               la tiella  nonna è una maestra i caniscioni ripieni di formaggio fresco non li hai mangiati vero    it\n",
              "40245                                                                        @SNSD_raily57  いえいえ(●´ω｀●) それはないない、りっちゃんには負ける。 したいよー(´-ω-｀)♡                                                                                        いえいえ●´ω｀● それはないない、りっちゃんには負ける。 したいよー´ω｀♡    ja\n",
              "18926                                                                                                       @Miaknowsbest_ lmao wow ily 😂                                                                                                                  lmao wow ily     en\n",
              "17246                                         3am 4 catfish and 1 largemouth that some Mexicans gave me and Mike is passed out missing it                                       am  catfish and  largemouth that some mexicans gave me and mike is passed out missing it    en\n",
              "42020                                                                                                         너희들이 좋아하는 내 노래있어?커버곡이겠지만...                                                                                                        너희들이 좋아하는 내 노래있어커버곡이겠지만    ko\n",
              "7793                                                                                       Family over everything. http://t.co/mhwHYpllF1                                                                                                        family over everything     en\n",
              "37765             2014年2月、アフリカ中部のウガンダで、同性愛者を終身刑にできる「反同性愛法」が成立しました。本映画はこの法案をめぐり2009年に闘っていたウガンダの性的少数者やその仲間たちを描いています。https://t.co/WvDUdt3pxp                                        年月、アフリカ中部のウガンダで、同性愛者を終身刑にできる「反同性愛法」が成立しました。本映画はこの法案をめぐり年に闘っていたウガンダの性的少数者やその仲間たちを描いています。    ja\n",
              "31643                                                                                                          @ssoujsmoss 便利な世の中になったよね〜！                                                                                                                 便利な世の中になったよね〜！    ja\n",
              "8517                         “@hunniiee_bee: Some niggas girl blocked me on IG I dont even interact with him 😩 lmaooo” bitches b swearing                                  “ some niggas girl blocked me on ig i dont even interact with him  lmaooo” bitches b swearing    en\n",
              "32924                                                            @hakujoushiro 金じゃないのがおしいですが…、片耳ならダイルさま！！両耳ならミンゴ！！…たまりませんな(///^q^///)hshs                                                                               金じゃないのがおしいですが…、片耳ならダイルさま！！両耳ならミンゴ！！…たまりませんなqhshs    ja\n",
              "51666                                                                                                              http://t.co/6yNwS5Abeq                                                                                                                                  und\n",
              "29730  rangga rangga rangga aku tau kaki kamunya putih kayak di beklin, tapi gausah tanggung gitu kalik, knapa gak skalian pendek aja -,-  rangga rangga rangga aku tau kaki kamunya putih kayak di beklin tapi gausah tanggung gitu kalik knapa gak skalian pendek aja     id\n",
              "16482                                                                                           @Hilary_Grant cheers lady! miss yer face.                                                                                                      cheers lady miss yer face    en\n",
              "42092                                                        @DooBo0o0 ㅂㄷㅂㄷ 우리조 애들중에 걔가 제일 한거 없음 우리 막 메일주소 찾아보고 약속 잡는거 말할때 혼자 폰으로 무도보는 패기                                                             ㅂㄷㅂㄷ 우리조 애들중에 걔가 제일 한거 없음 우리 막 메일주소 찾아보고 약속 잡는거 말할때 혼자 폰으로 무도보는 패기    ko\n",
              "15030                                                                                                         @ShaggyIbiza well done mate                                                                                                                 well done mate    en\n",
              "39150                                                                                                                              考えすぎかも                                                                                                                         考えすぎかも    ja"
            ]
          },
          "metadata": {},
          "execution_count": 291
        }
      ]
    },
    {
      "cell_type": "markdown",
      "metadata": {
        "id": "FFp9mg6b5weg"
      },
      "source": [
        "# 4.Data Augmentation"
      ],
      "id": "FFp9mg6b5weg"
    },
    {
      "cell_type": "markdown",
      "metadata": {
        "id": "rIrKnkJQ6FQ2"
      },
      "source": [
        "## 4.1 Back translation"
      ],
      "id": "rIrKnkJQ6FQ2"
    },
    {
      "cell_type": "code",
      "metadata": {
        "id": "isQllvdnBNjy",
        "colab": {
          "base_uri": "https://localhost:8080/"
        },
        "outputId": "72ad5e66-452e-4fcf-982d-dfc96dea132b"
      },
      "source": [
        "! pip install transformers\n",
        "! pip install mosestokenizer\n",
        "! pip install SentencePiece"
      ],
      "id": "isQllvdnBNjy",
      "execution_count": 284,
      "outputs": [
        {
          "output_type": "stream",
          "name": "stdout",
          "text": [
            "Collecting transformers\n",
            "  Downloading transformers-4.11.3-py3-none-any.whl (2.9 MB)\n",
            "\u001b[K     |████████████████████████████████| 2.9 MB 6.7 MB/s \n",
            "\u001b[?25hRequirement already satisfied: packaging>=20.0 in /usr/local/lib/python3.7/dist-packages (from transformers) (21.0)\n",
            "Requirement already satisfied: requests in /usr/local/lib/python3.7/dist-packages (from transformers) (2.23.0)\n",
            "Requirement already satisfied: importlib-metadata in /usr/local/lib/python3.7/dist-packages (from transformers) (4.8.1)\n",
            "Requirement already satisfied: regex!=2019.12.17 in /usr/local/lib/python3.7/dist-packages (from transformers) (2019.12.20)\n",
            "Requirement already satisfied: numpy>=1.17 in /usr/local/lib/python3.7/dist-packages (from transformers) (1.19.5)\n",
            "Requirement already satisfied: tqdm>=4.27 in /usr/local/lib/python3.7/dist-packages (from transformers) (4.62.3)\n",
            "Requirement already satisfied: filelock in /usr/local/lib/python3.7/dist-packages (from transformers) (3.2.0)\n",
            "Collecting huggingface-hub>=0.0.17\n",
            "  Downloading huggingface_hub-0.0.19-py3-none-any.whl (56 kB)\n",
            "\u001b[K     |████████████████████████████████| 56 kB 3.7 MB/s \n",
            "\u001b[?25hCollecting sacremoses\n",
            "  Downloading sacremoses-0.0.46-py3-none-any.whl (895 kB)\n",
            "\u001b[K     |████████████████████████████████| 895 kB 36.3 MB/s \n",
            "\u001b[?25hCollecting tokenizers<0.11,>=0.10.1\n",
            "  Downloading tokenizers-0.10.3-cp37-cp37m-manylinux_2_5_x86_64.manylinux1_x86_64.manylinux_2_12_x86_64.manylinux2010_x86_64.whl (3.3 MB)\n",
            "\u001b[K     |████████████████████████████████| 3.3 MB 35.2 MB/s \n",
            "\u001b[?25hCollecting pyyaml>=5.1\n",
            "  Downloading PyYAML-5.4.1-cp37-cp37m-manylinux1_x86_64.whl (636 kB)\n",
            "\u001b[K     |████████████████████████████████| 636 kB 41.2 MB/s \n",
            "\u001b[?25hRequirement already satisfied: typing-extensions in /usr/local/lib/python3.7/dist-packages (from huggingface-hub>=0.0.17->transformers) (3.7.4.3)\n",
            "Requirement already satisfied: pyparsing>=2.0.2 in /usr/local/lib/python3.7/dist-packages (from packaging>=20.0->transformers) (2.4.7)\n",
            "Requirement already satisfied: zipp>=0.5 in /usr/local/lib/python3.7/dist-packages (from importlib-metadata->transformers) (3.6.0)\n",
            "Requirement already satisfied: idna<3,>=2.5 in /usr/local/lib/python3.7/dist-packages (from requests->transformers) (2.10)\n",
            "Requirement already satisfied: certifi>=2017.4.17 in /usr/local/lib/python3.7/dist-packages (from requests->transformers) (2021.5.30)\n",
            "Requirement already satisfied: urllib3!=1.25.0,!=1.25.1,<1.26,>=1.21.1 in /usr/local/lib/python3.7/dist-packages (from requests->transformers) (1.24.3)\n",
            "Requirement already satisfied: chardet<4,>=3.0.2 in /usr/local/lib/python3.7/dist-packages (from requests->transformers) (3.0.4)\n",
            "Requirement already satisfied: joblib in /usr/local/lib/python3.7/dist-packages (from sacremoses->transformers) (1.0.1)\n",
            "Requirement already satisfied: six in /usr/local/lib/python3.7/dist-packages (from sacremoses->transformers) (1.15.0)\n",
            "Requirement already satisfied: click in /usr/local/lib/python3.7/dist-packages (from sacremoses->transformers) (7.1.2)\n",
            "Installing collected packages: pyyaml, tokenizers, sacremoses, huggingface-hub, transformers\n",
            "  Attempting uninstall: pyyaml\n",
            "    Found existing installation: PyYAML 3.13\n",
            "    Uninstalling PyYAML-3.13:\n",
            "      Successfully uninstalled PyYAML-3.13\n",
            "Successfully installed huggingface-hub-0.0.19 pyyaml-5.4.1 sacremoses-0.0.46 tokenizers-0.10.3 transformers-4.11.3\n",
            "Collecting mosestokenizer\n",
            "  Downloading mosestokenizer-1.1.0.tar.gz (37 kB)\n",
            "Requirement already satisfied: docopt in /usr/local/lib/python3.7/dist-packages (from mosestokenizer) (0.6.2)\n",
            "Collecting openfile\n",
            "  Downloading openfile-0.0.7-py3-none-any.whl (2.4 kB)\n",
            "Collecting uctools\n",
            "  Downloading uctools-1.3.0.tar.gz (4.6 kB)\n",
            "Collecting toolwrapper\n",
            "  Downloading toolwrapper-2.1.0.tar.gz (3.2 kB)\n",
            "Building wheels for collected packages: mosestokenizer, toolwrapper, uctools\n",
            "  Building wheel for mosestokenizer (setup.py) ... \u001b[?25l\u001b[?25hdone\n",
            "  Created wheel for mosestokenizer: filename=mosestokenizer-1.1.0-py3-none-any.whl size=49117 sha256=afa01154e7dc242dfc4287f3de2dc95980affe66336277b2da2936285d53685d\n",
            "  Stored in directory: /root/.cache/pip/wheels/a7/31/94/fef279382208e85a65c1a7f5c4d0020115477b0af74f296b57\n",
            "  Building wheel for toolwrapper (setup.py) ... \u001b[?25l\u001b[?25hdone\n",
            "  Created wheel for toolwrapper: filename=toolwrapper-2.1.0-py3-none-any.whl size=3354 sha256=958bd3b671b269e1e1107585298c778ae66e9258b766df57012b3c1e7de750ed\n",
            "  Stored in directory: /root/.cache/pip/wheels/c5/4f/33/54741ffe08e38ececb1d28068a153729b4fe820bafa0a0691f\n",
            "  Building wheel for uctools (setup.py) ... \u001b[?25l\u001b[?25hdone\n",
            "  Created wheel for uctools: filename=uctools-1.3.0-py3-none-any.whl size=6163 sha256=e00d53de7516470ef1aa067c7c9f27d0f0c767a715987875f62834937c0ffe54\n",
            "  Stored in directory: /root/.cache/pip/wheels/fb/44/e9/914cf8fa71f0141f9314f862538d1218fcf2b94542a0fb7d35\n",
            "Successfully built mosestokenizer toolwrapper uctools\n",
            "Installing collected packages: uctools, toolwrapper, openfile, mosestokenizer\n",
            "Successfully installed mosestokenizer-1.1.0 openfile-0.0.7 toolwrapper-2.1.0 uctools-1.3.0\n",
            "Collecting SentencePiece\n",
            "  Downloading sentencepiece-0.1.96-cp37-cp37m-manylinux_2_17_x86_64.manylinux2014_x86_64.whl (1.2 MB)\n",
            "\u001b[K     |████████████████████████████████| 1.2 MB 8.5 MB/s \n",
            "\u001b[?25hInstalling collected packages: SentencePiece\n",
            "Successfully installed SentencePiece-0.1.96\n"
          ]
        }
      ]
    },
    {
      "cell_type": "code",
      "metadata": {
        "id": "bd9bQWlWBE4K"
      },
      "source": [
        "import transformers, mosestokenizer"
      ],
      "id": "bd9bQWlWBE4K",
      "execution_count": null,
      "outputs": []
    },
    {
      "cell_type": "code",
      "metadata": {
        "id": "zlKxqKom6GON"
      },
      "source": [
        "from transformers import MarianMTModel, MarianTokenizer\n",
        "\n",
        "# Helper function to download data for a language\n",
        "def download(model_name):\n",
        "    tokenizer = MarianTokenizer.from_pretrained(model_name)\n",
        "    model = MarianMTModel.from_pretrained(model_name)\n",
        "    return tokenizer, model\n",
        "\n",
        "\n",
        "\n",
        "# download model for English -> Romance\n",
        "#tmp_lang_tokenizer, tmp_lang_model = download('Helsinki-NLP/opus-mt-en-ROMANCE')\n",
        "# download model for Romance -> English\n",
        "#src_lang_tokenizer, src_lang_model = download('Helsinki-NLP/opus-mt-ROMANCE-en')\n",
        "\n",
        "\n",
        "\n",
        "def translate(texts, model, tokenizer, language):\n",
        "    \"\"\"Translate texts into a target language\"\"\"\n",
        "    # Format the text as expected by the model\n",
        "    formatter_fn = lambda txt: f\"{txt}\" if language == \"en\" else f\">>{language}<< {txt}\"\n",
        "    original_texts = [formatter_fn(txt) for txt in texts]\n",
        "\n",
        "    # Tokenize (text to tokens)\n",
        "    tokens = tokenizer.prepare_seq2seq_batch(original_texts)\n",
        "\n",
        "    # Translate\n",
        "    translated = model.generate(**tokens)\n",
        "\n",
        "    # Decode (tokens to text)\n",
        "    translated_texts = tokenizer.batch_decode(translated, skip_special_tokens=True)\n",
        "\n",
        "    return translated_texts\n",
        "\n",
        "\n",
        "def back_translate(texts, language_src, language_dst):\n",
        "    \"\"\"Implements back translation\"\"\"\n",
        "    # Translate from source to target language\n",
        "    translated = translate(texts, tmp_lang_model, tmp_lang_tokenizer, language_dst)\n",
        "\n",
        "    # Translate from target language back to source language\n",
        "    back_translated = translate(translated, src_lang_model, src_lang_tokenizer, language_src)\n",
        "\n",
        "    return back_translated\n",
        "\n",
        "\n"
      ],
      "id": "zlKxqKom6GON",
      "execution_count": null,
      "outputs": []
    },
    {
      "cell_type": "code",
      "metadata": {
        "colab": {
          "base_uri": "https://localhost:8080/",
          "height": 200
        },
        "id": "1TROFkqPCrox",
        "outputId": "7a1a18c5-2e4a-4078-d68d-25aff2a186ae"
      },
      "source": [
        "model_name = 'Helsinki-NLP/opus-mt-aav-en'\n",
        "tokenizer = MarianTokenizer.from_pretrained(model_name)\n",
        "tokenizer.supported_language_codes"
      ],
      "id": "1TROFkqPCrox",
      "execution_count": null,
      "outputs": [
        {
          "ename": "AttributeError",
          "evalue": "ignored",
          "output_type": "error",
          "traceback": [
            "\u001b[0;31m---------------------------------------------------------------------------\u001b[0m",
            "\u001b[0;31mAttributeError\u001b[0m                            Traceback (most recent call last)",
            "\u001b[0;32m<ipython-input-29-02880439e212>\u001b[0m in \u001b[0;36m<module>\u001b[0;34m()\u001b[0m\n\u001b[1;32m      1\u001b[0m \u001b[0mmodel_name\u001b[0m \u001b[0;34m=\u001b[0m \u001b[0;34m'Helsinki-NLP/opus-mt-aav-en'\u001b[0m\u001b[0;34m\u001b[0m\u001b[0;34m\u001b[0m\u001b[0m\n\u001b[1;32m      2\u001b[0m \u001b[0mtokenizer\u001b[0m \u001b[0;34m=\u001b[0m \u001b[0mMarianTokenizer\u001b[0m\u001b[0;34m.\u001b[0m\u001b[0mfrom_pretrained\u001b[0m\u001b[0;34m(\u001b[0m\u001b[0mmodel_name\u001b[0m\u001b[0;34m)\u001b[0m\u001b[0;34m\u001b[0m\u001b[0;34m\u001b[0m\u001b[0m\n\u001b[0;32m----> 3\u001b[0;31m \u001b[0mtokenizer\u001b[0m\u001b[0;34m.\u001b[0m\u001b[0msupported_language_codes\u001b[0m\u001b[0;34m\u001b[0m\u001b[0;34m\u001b[0m\u001b[0m\n\u001b[0m",
            "\u001b[0;31mAttributeError\u001b[0m: 'NoneType' object has no attribute 'supported_language_codes'"
          ]
        }
      ]
    },
    {
      "cell_type": "code",
      "metadata": {
        "colab": {
          "base_uri": "https://localhost:8080/",
          "height": 424
        },
        "id": "C6SAY2P5DvRv",
        "outputId": "e2076b11-2e16-4921-fe61-d931ff67274d"
      },
      "source": [
        "language_code_list =df_train_dev['label'].unique\n",
        "\n",
        "def get_one_language_data(df, n):\n",
        "  #get the n'th set of language from df_train_dev\n",
        "  df_one_lang=df[df['label'].isin([language_code_list[n]])]\n",
        "  return df_one_lang\n",
        "\n",
        "def generate_new_rows(df_one_lang):\n",
        "  lable=df_one_lang['label']\n",
        "  df_one_lang_new = pd.DataFrame(columns=['text','label'])\n",
        "  for rows in df_one_lang.itterows():\n",
        "    new_lang = back_translate(df_one_lang['text'],label,'en')\n",
        "    df_one_lang_new.append({'text':new_lang,'label'label})\n",
        "    df_one_lang=df_one_lang.append(df_one_lang_new)\n",
        "  return df_one_lang\n",
        "\n",
        "def augdata_by_back_translation(df):\n",
        "  df_new = pd.DataFrame(columns=['text','label'])\n",
        "  for n in range(0,len(language_code_list)):\n",
        "    df_one_lang_new = generate_new_rows(get_one_language_data(df,n))\n",
        "    df_new = df_new.append(df_one_lang_new)\n",
        "  return df_new\n",
        "\n"
      ],
      "id": "C6SAY2P5DvRv",
      "execution_count": null,
      "outputs": [
        {
          "data": {
            "text/html": [
              "<div>\n",
              "<style scoped>\n",
              "    .dataframe tbody tr th:only-of-type {\n",
              "        vertical-align: middle;\n",
              "    }\n",
              "\n",
              "    .dataframe tbody tr th {\n",
              "        vertical-align: top;\n",
              "    }\n",
              "\n",
              "    .dataframe thead th {\n",
              "        text-align: right;\n",
              "    }\n",
              "</style>\n",
              "<table border=\"1\" class=\"dataframe\">\n",
              "  <thead>\n",
              "    <tr style=\"text-align: right;\">\n",
              "      <th></th>\n",
              "      <th>tweet</th>\n",
              "      <th>label</th>\n",
              "    </tr>\n",
              "  </thead>\n",
              "  <tbody>\n",
              "    <tr>\n",
              "      <th>0</th>\n",
              "      <td>يا من أناديها ويخنقني البكاء  ويكاد صمت الدمع ...</td>\n",
              "      <td>ar</td>\n",
              "    </tr>\n",
              "    <tr>\n",
              "      <th>1</th>\n",
              "      <td>فيه فرق بين اهل غزة اللى مطحونين من ناحيتين وب...</td>\n",
              "      <td>ar</td>\n",
              "    </tr>\n",
              "    <tr>\n",
              "      <th>2</th>\n",
              "      <td>ﻋﻦ ﺍﻟﻠﺤﻈﺔ اﻟﺤﻠﻮﺓﺓ ﺍﻟﻠﻲ ﺑﺘﻐﻤﺾ ﻓﻴﻬﺎ ﻋﻴﻨﻴﻚ ﺑﺘﻔﻜﺮ ...</td>\n",
              "      <td>ar</td>\n",
              "    </tr>\n",
              "    <tr>\n",
              "      <th>3</th>\n",
              "      <td>يا ابو سلو عرفتني</td>\n",
              "      <td>ar</td>\n",
              "    </tr>\n",
              "    <tr>\n",
              "      <th>4</th>\n",
              "      <td>ب50 ريال أكفل معتمر في رمضان ، ولك بإذن الله م...</td>\n",
              "      <td>ar</td>\n",
              "    </tr>\n",
              "    <tr>\n",
              "      <th>...</th>\n",
              "      <td>...</td>\n",
              "      <td>...</td>\n",
              "    </tr>\n",
              "    <tr>\n",
              "      <th>52670</th>\n",
              "      <td>其實我很想問，噗浪怎麼鎖回應然後又開啟的#### http://t.co/sQBh6jmVoW</td>\n",
              "      <td>zh-TW</td>\n",
              "    </tr>\n",
              "    <tr>\n",
              "      <th>52671</th>\n",
              "      <td>我喜歡一部 @YouTube 影片 http://t.co/Kouv0xaEos FIGHT...</td>\n",
              "      <td>zh-TW</td>\n",
              "    </tr>\n",
              "    <tr>\n",
              "      <th>52672</th>\n",
              "      <td>一分鐘世界盃！http://t.co/yEvaMrp7ki</td>\n",
              "      <td>zh-TW</td>\n",
              "    </tr>\n",
              "    <tr>\n",
              "      <th>52673</th>\n",
              "      <td>{CWB} 桃園縣 一週天氣預報(07/27 05:00發布): 07/27 白天 溫度:2...</td>\n",
              "      <td>zh-TW</td>\n",
              "    </tr>\n",
              "    <tr>\n",
              "      <th>52674</th>\n",
              "      <td>這個週末兩天都跟 Navel 很有緣...</td>\n",
              "      <td>zh-TW</td>\n",
              "    </tr>\n",
              "  </tbody>\n",
              "</table>\n",
              "<p>52675 rows × 2 columns</p>\n",
              "</div>"
            ],
            "text/plain": [
              "                                                   tweet  label\n",
              "0      يا من أناديها ويخنقني البكاء  ويكاد صمت الدمع ...     ar\n",
              "1      فيه فرق بين اهل غزة اللى مطحونين من ناحيتين وب...     ar\n",
              "2      ﻋﻦ ﺍﻟﻠﺤﻈﺔ اﻟﺤﻠﻮﺓﺓ ﺍﻟﻠﻲ ﺑﺘﻐﻤﺾ ﻓﻴﻬﺎ ﻋﻴﻨﻴﻚ ﺑﺘﻔﻜﺮ ...     ar\n",
              "3                                      يا ابو سلو عرفتني     ar\n",
              "4      ب50 ريال أكفل معتمر في رمضان ، ولك بإذن الله م...     ar\n",
              "...                                                  ...    ...\n",
              "52670    其實我很想問，噗浪怎麼鎖回應然後又開啟的#### http://t.co/sQBh6jmVoW  zh-TW\n",
              "52671  我喜歡一部 @YouTube 影片 http://t.co/Kouv0xaEos FIGHT...  zh-TW\n",
              "52672                      一分鐘世界盃！http://t.co/yEvaMrp7ki  zh-TW\n",
              "52673  {CWB} 桃園縣 一週天氣預報(07/27 05:00發布): 07/27 白天 溫度:2...  zh-TW\n",
              "52674                              這個週末兩天都跟 Navel 很有緣...  zh-TW\n",
              "\n",
              "[52675 rows x 2 columns]"
            ]
          },
          "execution_count": 30,
          "metadata": {},
          "output_type": "execute_result"
        }
      ]
    },
    {
      "cell_type": "markdown",
      "metadata": {
        "id": "qSFOzsETf-1l"
      },
      "source": [
        "![back_translation.png](attachment:back_translation.png)"
      ],
      "id": "qSFOzsETf-1l"
    },
    {
      "cell_type": "code",
      "metadata": {
        "id": "BEYYB4oLf-1l"
      },
      "source": [
        ""
      ],
      "id": "BEYYB4oLf-1l",
      "execution_count": null,
      "outputs": []
    },
    {
      "cell_type": "markdown",
      "metadata": {
        "id": "-w203pWaLQHc"
      },
      "source": [
        "## 2.2 Bigram flipping\n",
        "\n",
        "\n",
        "\n",
        "\n",
        "\n",
        "\n",
        "\n",
        "\n",
        "\n",
        "\n",
        "\n",
        "\n"
      ],
      "id": "-w203pWaLQHc"
    },
    {
      "cell_type": "code",
      "metadata": {
        "id": "oaGC3PJqMitW"
      },
      "source": [
        "def augdata_by_bigram_flipping(df):\n",
        "\n",
        "  return df_new"
      ],
      "id": "oaGC3PJqMitW",
      "execution_count": null,
      "outputs": []
    },
    {
      "cell_type": "markdown",
      "metadata": {
        "id": "dtt_ulLmMQsy"
      },
      "source": [
        "##  2.3 Replacing Entities"
      ],
      "id": "dtt_ulLmMQsy"
    },
    {
      "cell_type": "code",
      "metadata": {
        "id": "NgcHgHxNMWgv"
      },
      "source": [
        "def augdata_by_replacing_entities(df):\n",
        "\n",
        "  return df_new"
      ],
      "id": "NgcHgHxNMWgv",
      "execution_count": null,
      "outputs": []
    },
    {
      "cell_type": "code",
      "metadata": {
        "id": "H_FysLekMYC-"
      },
      "source": [
        ""
      ],
      "id": "H_FysLekMYC-",
      "execution_count": null,
      "outputs": []
    },
    {
      "cell_type": "code",
      "metadata": {
        "id": "jN4Yixr4MYdS"
      },
      "source": [
        ""
      ],
      "id": "jN4Yixr4MYdS",
      "execution_count": null,
      "outputs": []
    },
    {
      "cell_type": "markdown",
      "metadata": {
        "id": "PxvhXe7FMm_O"
      },
      "source": [
        "# 5.Pre-Processing"
      ],
      "id": "PxvhXe7FMm_O"
    },
    {
      "cell_type": "code",
      "metadata": {
        "id": "iOPUlDj0MxYp"
      },
      "source": [
        ""
      ],
      "id": "iOPUlDj0MxYp",
      "execution_count": null,
      "outputs": []
    },
    {
      "cell_type": "markdown",
      "metadata": {
        "id": "vurheEapMyML"
      },
      "source": [
        "# 6.Feature Engineering\n"
      ],
      "id": "vurheEapMyML"
    },
    {
      "cell_type": "code",
      "metadata": {
        "id": "CR86BhAaM2cx"
      },
      "source": [
        ""
      ],
      "id": "CR86BhAaM2cx",
      "execution_count": null,
      "outputs": []
    },
    {
      "cell_type": "markdown",
      "metadata": {
        "id": "Tyc0hYa-M3cV"
      },
      "source": [
        "# 7.Modeling "
      ],
      "id": "Tyc0hYa-M3cV"
    },
    {
      "cell_type": "code",
      "metadata": {
        "id": "D3VVKnZsM60K"
      },
      "source": [
        ""
      ],
      "id": "D3VVKnZsM60K",
      "execution_count": null,
      "outputs": []
    },
    {
      "cell_type": "markdown",
      "metadata": {
        "id": "iCP5CkP_M7eu"
      },
      "source": [
        "#8.Evaluation"
      ],
      "id": "iCP5CkP_M7eu"
    },
    {
      "cell_type": "code",
      "metadata": {
        "id": "A6YDEr1MNBJr"
      },
      "source": [
        ""
      ],
      "id": "A6YDEr1MNBJr",
      "execution_count": null,
      "outputs": []
    }
  ]
}