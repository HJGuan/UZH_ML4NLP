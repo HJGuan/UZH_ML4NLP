{
  "nbformat": 4,
  "nbformat_minor": 5,
  "metadata": {
    "kernelspec": {
      "display_name": "Python 3",
      "language": "python",
      "name": "python3"
    },
    "language_info": {
      "codemirror_mode": {
        "name": "ipython",
        "version": 3
      },
      "file_extension": ".py",
      "mimetype": "text/x-python",
      "name": "python",
      "nbconvert_exporter": "python",
      "pygments_lexer": "ipython3",
      "version": "3.8.8"
    },
    "colab": {
      "name": "index_jan.ipynb",
      "provenance": [],
      "include_colab_link": true
    }
  },
  "cells": [
    {
      "cell_type": "markdown",
      "metadata": {
        "id": "view-in-github",
        "colab_type": "text"
      },
      "source": [
        "<a href=\"https://colab.research.google.com/github/jan-kreischer/UZH_ML4NLP/blob/main/Project-01/index_jan.ipynb\" target=\"_parent\"><img src=\"https://colab.research.google.com/assets/colab-badge.svg\" alt=\"Open In Colab\"/></a>"
      ]
    },
    {
      "cell_type": "markdown",
      "metadata": {
        "id": "zvBmTj50hvR5"
      },
      "source": [
        "# Exercise 01 - Linear Classification\n",
        "\n",
        "\n"
      ],
      "id": "zvBmTj50hvR5"
    },
    {
      "cell_type": "markdown",
      "metadata": {
        "id": "HiJADyQ8q3wo"
      },
      "source": [
        "## Google Drive"
      ],
      "id": "HiJADyQ8q3wo"
    },
    {
      "cell_type": "code",
      "metadata": {
        "id": "mOjlXuvBs2ng"
      },
      "source": [
        ""
      ],
      "id": "mOjlXuvBs2ng",
      "execution_count": null,
      "outputs": []
    },
    {
      "cell_type": "code",
      "metadata": {
        "colab": {
          "base_uri": "https://localhost:8080/"
        },
        "id": "0ing6t_hq1hA",
        "outputId": "a68dac9d-c163-4f46-85d6-7f2d5b9ff174"
      },
      "source": [
        "# Enable access to files stored in Google Drive\n",
        "from google.colab import drive\n",
        "\n",
        "drive.mount('/content/gdrive/')"
      ],
      "id": "0ing6t_hq1hA",
      "execution_count": 77,
      "outputs": [
        {
          "output_type": "stream",
          "name": "stdout",
          "text": [
            "Mounted at /content/gdrive/\n"
          ]
        }
      ]
    },
    {
      "cell_type": "code",
      "metadata": {
        "colab": {
          "base_uri": "https://localhost:8080/"
        },
        "id": "SbD0BFCTq-Cs",
        "outputId": "fe99ad4d-84a9-4773-8ad9-7c25289afae4"
      },
      "source": [
        "% cd /content/gdrive/My Drive/ML4NLP"
      ],
      "id": "SbD0BFCTq-Cs",
      "execution_count": 78,
      "outputs": [
        {
          "output_type": "stream",
          "name": "stdout",
          "text": [
            "/content/gdrive/My Drive/ML4NLP\n"
          ]
        }
      ]
    },
    {
      "cell_type": "markdown",
      "metadata": {
        "id": "2aoiO-Esh19N"
      },
      "source": [
        "## Imports"
      ],
      "id": "2aoiO-Esh19N"
    },
    {
      "cell_type": "code",
      "metadata": {
        "id": "43d2c898-ea76-49c3-ae4d-dc87d657efe0"
      },
      "source": [
        "import csv\n",
        "import re\n",
        "import numpy as np\n",
        "import pandas as pd\n",
        "from io import StringIO\n",
        "import requests\n",
        "import matplotlib.pyplot as plt"
      ],
      "id": "43d2c898-ea76-49c3-ae4d-dc87d657efe0",
      "execution_count": 34,
      "outputs": []
    },
    {
      "cell_type": "code",
      "metadata": {
        "id": "o8zj6rO6hKo2"
      },
      "source": [
        "url_train_dev = 'https://docs.google.com/spreadsheets/d/e/2PACX-1vTOZ2rC82rhNsJduoyKYTsVeH6ukd7Bpxvxn_afOibn3R-eadZGXu82eCU9IRpl4CK_gefEGsYrA_oM/pub?gid=1863430984&single=true&output=tsv'\n",
        "url_test = 'https://docs.google.com/spreadsheets/d/e/2PACX-1vT-KNR9nuYatLkSbzSRgpz6Ku1n4TN4w6kKmFLkA6QJHTfQzmX0puBsLF7PAAQJQAxUpgruDd_RRgK7/pub?gid=417546901&single=true&output=tsv'"
      ],
      "id": "o8zj6rO6hKo2",
      "execution_count": 2,
      "outputs": []
    },
    {
      "cell_type": "markdown",
      "metadata": {
        "id": "rtuS7Z0Hh5gx"
      },
      "source": [
        "## Functions"
      ],
      "id": "rtuS7Z0Hh5gx"
    },
    {
      "cell_type": "code",
      "metadata": {
        "id": "SdwxfjxjhN58"
      },
      "source": [
        "def load_dataset(url):\n",
        "    r = requests.get(url)\n",
        "    data = r.content.decode('utf8')\n",
        "    df = pd.read_csv(StringIO(data), sep='\\t')\n",
        "    df.columns = ['tweet', 'label']\n",
        "    return df"
      ],
      "id": "SdwxfjxjhN58",
      "execution_count": 3,
      "outputs": []
    },
    {
      "cell_type": "code",
      "metadata": {
        "id": "heZh4YHxhhQA"
      },
      "source": [
        "def data_exploration(df, name=''):\n",
        "  '''\n",
        "\n",
        "  '''\n",
        "  n_labels = len(np.unique(df[\"label\"]))\n",
        "  df = df.sort_values('label')\n",
        "  print(\"{0} contains the columns: {1}\".format(name, list(df.keys())))\n",
        "  print(\"with a total of {} observations\".format(len(df)))\n",
        "  print(\"and {} different possible labels\".format(n_labels))\n",
        "  df.describe()\n",
        "  plt.figure(figsize=(15, 3))\n",
        "  plt.hist(df[\"label\"], bins=n_labels)\n",
        "  plt.xticks(rotation=90)\n",
        "  plt.yscale(\"log\")\n",
        "  plt.xlabel(\"Language\")\n",
        "  plt.ylabel(\"#Occurences\")\n",
        "  plt.show()"
      ],
      "id": "heZh4YHxhhQA",
      "execution_count": 70,
      "outputs": []
    },
    {
      "cell_type": "code",
      "metadata": {
        "id": "ZmOiJT-2hPpt"
      },
      "source": [
        "train_data = load_dataset(url_train_dev)\n",
        "test_data = load_dataset(url_test)"
      ],
      "id": "ZmOiJT-2hPpt",
      "execution_count": 11,
      "outputs": []
    },
    {
      "cell_type": "code",
      "metadata": {
        "colab": {
          "base_uri": "https://localhost:8080/"
        },
        "id": "pShKiM2ChRnh",
        "outputId": "5f23d250-ef0e-47fa-fe12-0bc3ccb17320"
      },
      "source": [
        "df_train_dev.info()"
      ],
      "id": "pShKiM2ChRnh",
      "execution_count": 5,
      "outputs": [
        {
          "output_type": "stream",
          "name": "stdout",
          "text": [
            "<class 'pandas.core.frame.DataFrame'>\n",
            "RangeIndex: 52675 entries, 0 to 52674\n",
            "Data columns (total 2 columns):\n",
            " #   Column  Non-Null Count  Dtype \n",
            "---  ------  --------------  ----- \n",
            " 0   tweet   52675 non-null  object\n",
            " 1   label   52675 non-null  object\n",
            "dtypes: object(2)\n",
            "memory usage: 823.2+ KB\n"
          ]
        }
      ]
    },
    {
      "cell_type": "code",
      "metadata": {
        "colab": {
          "base_uri": "https://localhost:8080/",
          "height": 173
        },
        "id": "v8uDC5jzhULQ",
        "outputId": "cf3378c8-9604-46a1-c71b-11da2feaa74e"
      },
      "source": [
        "df_train_dev.describe()"
      ],
      "id": "v8uDC5jzhULQ",
      "execution_count": 7,
      "outputs": [
        {
          "output_type": "execute_result",
          "data": {
            "text/html": [
              "<div>\n",
              "<style scoped>\n",
              "    .dataframe tbody tr th:only-of-type {\n",
              "        vertical-align: middle;\n",
              "    }\n",
              "\n",
              "    .dataframe tbody tr th {\n",
              "        vertical-align: top;\n",
              "    }\n",
              "\n",
              "    .dataframe thead th {\n",
              "        text-align: right;\n",
              "    }\n",
              "</style>\n",
              "<table border=\"1\" class=\"dataframe\">\n",
              "  <thead>\n",
              "    <tr style=\"text-align: right;\">\n",
              "      <th></th>\n",
              "      <th>tweet</th>\n",
              "      <th>label</th>\n",
              "    </tr>\n",
              "  </thead>\n",
              "  <tbody>\n",
              "    <tr>\n",
              "      <th>count</th>\n",
              "      <td>52675</td>\n",
              "      <td>52675</td>\n",
              "    </tr>\n",
              "    <tr>\n",
              "      <th>unique</th>\n",
              "      <td>52599</td>\n",
              "      <td>69</td>\n",
              "    </tr>\n",
              "    <tr>\n",
              "      <th>top</th>\n",
              "      <td>Bom dia</td>\n",
              "      <td>en</td>\n",
              "    </tr>\n",
              "    <tr>\n",
              "      <th>freq</th>\n",
              "      <td>7</td>\n",
              "      <td>18508</td>\n",
              "    </tr>\n",
              "  </tbody>\n",
              "</table>\n",
              "</div>"
            ],
            "text/plain": [
              "          tweet  label\n",
              "count     52675  52675\n",
              "unique    52599     69\n",
              "top     Bom dia     en\n",
              "freq          7  18508"
            ]
          },
          "metadata": {},
          "execution_count": 7
        }
      ]
    },
    {
      "cell_type": "code",
      "metadata": {
        "id": "NVr9uurShdQg"
      },
      "source": [
        "len(df_train_def)"
      ],
      "id": "NVr9uurShdQg",
      "execution_count": null,
      "outputs": []
    },
    {
      "cell_type": "code",
      "metadata": {
        "colab": {
          "base_uri": "https://localhost:8080/",
          "height": 308
        },
        "id": "IZtCEi7_hYQW",
        "outputId": "49e22af7-e45d-4509-9e8f-2a06f7ead8fd"
      },
      "source": [
        "data_exploration(train_data, 'Training data')"
      ],
      "id": "IZtCEi7_hYQW",
      "execution_count": 66,
      "outputs": [
        {
          "output_type": "stream",
          "name": "stdout",
          "text": [
            "Training data contains the columns: ['tweet', 'label']\n",
            "with a total of 52675 observations\n",
            "and 69 different possible labels\n"
          ]
        },
        {
          "output_type": "display_data",
          "data": {
            "image/png": "[encoded data removed]",
            "text/plain": [
              "<Figure size 1080x216 with 1 Axes>"
            ]
          },
          "metadata": {
            "needs_background": "light"
          }
        }
      ]
    },
    {
      "cell_type": "code",
      "metadata": {
        "colab": {
          "base_uri": "https://localhost:8080/",
          "height": 204
        },
        "id": "64LtwqM2m2HB",
        "outputId": "84e9242d-ab47-477a-ed48-9ce62ddce93f"
      },
      "source": [
        "english_tweets = train_data[train_data['label'] == 'de']\n",
        "english_tweets.head()"
      ],
      "id": "64LtwqM2m2HB",
      "execution_count": 75,
      "outputs": [
        {
          "output_type": "execute_result",
          "data": {
            "text/html": [
              "<div>\n",
              "<style scoped>\n",
              "    .dataframe tbody tr th:only-of-type {\n",
              "        vertical-align: middle;\n",
              "    }\n",
              "\n",
              "    .dataframe tbody tr th {\n",
              "        vertical-align: top;\n",
              "    }\n",
              "\n",
              "    .dataframe thead th {\n",
              "        text-align: right;\n",
              "    }\n",
              "</style>\n",
              "<table border=\"1\" class=\"dataframe\">\n",
              "  <thead>\n",
              "    <tr style=\"text-align: right;\">\n",
              "      <th></th>\n",
              "      <th>tweet</th>\n",
              "      <th>label</th>\n",
              "    </tr>\n",
              "  </thead>\n",
              "  <tbody>\n",
              "    <tr>\n",
              "      <th>2260</th>\n",
              "      <td>@hmjahnel guten morgen, der herr :)</td>\n",
              "      <td>de</td>\n",
              "    </tr>\n",
              "    <tr>\n",
              "      <th>2261</th>\n",
              "      <td>@SkaKeller @GreensEP @Piratenpartei @JanAlbrec...</td>\n",
              "      <td>de</td>\n",
              "    </tr>\n",
              "    <tr>\n",
              "      <th>2262</th>\n",
              "      <td>Ich habe 16,100 Goldmünzen gesammelt! http://t...</td>\n",
              "      <td>de</td>\n",
              "    </tr>\n",
              "    <tr>\n",
              "      <th>2263</th>\n",
              "      <td>Dachte früher immer es heißt \"Sommer Angebot\" ...</td>\n",
              "      <td>de</td>\n",
              "    </tr>\n",
              "    <tr>\n",
              "      <th>2264</th>\n",
              "      <td>Da kommt Bei mir ist es sau langsam; keine Sch...</td>\n",
              "      <td>de</td>\n",
              "    </tr>\n",
              "  </tbody>\n",
              "</table>\n",
              "</div>"
            ],
            "text/plain": [
              "                                                  tweet label\n",
              "2260                @hmjahnel guten morgen, der herr :)    de\n",
              "2261  @SkaKeller @GreensEP @Piratenpartei @JanAlbrec...    de\n",
              "2262  Ich habe 16,100 Goldmünzen gesammelt! http://t...    de\n",
              "2263  Dachte früher immer es heißt \"Sommer Angebot\" ...    de\n",
              "2264  Da kommt Bei mir ist es sau langsam; keine Sch...    de"
            ]
          },
          "metadata": {},
          "execution_count": 75
        }
      ]
    },
    {
      "cell_type": "code",
      "metadata": {
        "colab": {
          "base_uri": "https://localhost:8080/",
          "height": 308
        },
        "id": "-KSs6S_ImFAJ",
        "outputId": "a4b02291-6f33-4d73-8e26-569868c5645e"
      },
      "source": [
        "data_exploration(test_data, 'Test data')"
      ],
      "id": "-KSs6S_ImFAJ",
      "execution_count": 71,
      "outputs": [
        {
          "output_type": "stream",
          "name": "stdout",
          "text": [
            "Test data contains the columns: ['tweet', 'label']\n",
            "with a total of 13279 observations\n",
            "and 60 different possible labels\n"
          ]
        },
        {
          "output_type": "display_data",
          "data": {
            "image/png": "[encoded data removed]",
            "text/plain": [
              "<Figure size 1080x216 with 1 Axes>"
            ]
          },
          "metadata": {
            "needs_background": "light"
          }
        }
      ]
    },
    {
      "cell_type": "code",
      "metadata": {
        "id": "plmKXXTLinaB"
      },
      "source": [
        "Part "
      ],
      "id": "plmKXXTLinaB",
      "execution_count": null,
      "outputs": []
    }
  ]
}