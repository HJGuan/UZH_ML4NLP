{
 "cells": [
  {
   "cell_type": "markdown",
   "metadata": {
    "id": "uidAjvi0l8nS"
   },
   "source": [
    "### Exercise 02 - Wordembeddings\n"
   ]
  },
  {
   "cell_type": "code",
   "execution_count": 85,
   "metadata": {
    "id": "eU-c-p2GnzRI"
   },
   "outputs": [],
   "source": [
    "# All imports for the whole file are displayed here\n",
    "import pandas as pd\n",
    "from io import StringIO\n",
    "import requests\n",
    "import torch\n",
    "import torch.nn as nn\n",
    "import torch.nn.functional as F\n",
    "import torch.optim as optim\n",
    "import matplotlib.pyplot as plt\n",
    "import string\n",
    "import re\n",
    "import urllib.request\n",
    "from collections import Counter"
   ]
  },
  {
   "cell_type": "markdown",
   "metadata": {
    "id": "iDgJiPIUmr_-"
   },
   "source": [
    "In a first step we load the data into the notebook using the URL provided in the task description. This might not work on a local jupyter notebook. Furthermore is it important to notice that this notebook takes long to train. It is therefore recommended to use GPUs (Edit -> Notebook settings -> GPU)"
   ]
  },
  {
   "cell_type": "code",
   "execution_count": 8,
   "metadata": {
    "id": "0CcM2UNCmFhX"
   },
   "outputs": [],
   "source": [
    "# URL for both data files\n",
    "url_hotel_reviews = 'https://drive.google.com/file/d/1ihP1HZ8YHVGGIEp1RHxXdt3PPIi12xvL/view?usp=sharing'\n",
    "url_scifi_text = 'https://drive.google.com/file/d/10ehW4jZND3QA29v9aNboYUett5-swuNe/view?usp=sharing'\n",
    "\n",
    "def load_dataset(url):\n",
    "    url2='https://drive.google.com/uc?id=' + url.split('/')[-2]\n",
    "    df = pd.read_csv(url2)\n",
    "    df.columns = ['review', 'rating']\n",
    "    return df"
   ]
  },
  {
   "cell_type": "code",
   "execution_count": 9,
   "metadata": {
    "colab": {
     "base_uri": "https://localhost:8080/",
     "height": 204
    },
    "id": "BKHjk4Egme4f",
    "outputId": "ad546cd7-d8b5-4d04-fe43-b9a01eafe25d"
   },
   "outputs": [
    {
     "data": {
      "text/html": [
       "<div>\n",
       "<style scoped>\n",
       "    .dataframe tbody tr th:only-of-type {\n",
       "        vertical-align: middle;\n",
       "    }\n",
       "\n",
       "    .dataframe tbody tr th {\n",
       "        vertical-align: top;\n",
       "    }\n",
       "\n",
       "    .dataframe thead th {\n",
       "        text-align: right;\n",
       "    }\n",
       "</style>\n",
       "<table border=\"1\" class=\"dataframe\">\n",
       "  <thead>\n",
       "    <tr style=\"text-align: right;\">\n",
       "      <th></th>\n",
       "      <th>review</th>\n",
       "      <th>rating</th>\n",
       "    </tr>\n",
       "  </thead>\n",
       "  <tbody>\n",
       "    <tr>\n",
       "      <th>0</th>\n",
       "      <td>nice hotel expensive parking got good deal sta...</td>\n",
       "      <td>4</td>\n",
       "    </tr>\n",
       "    <tr>\n",
       "      <th>1</th>\n",
       "      <td>ok nothing special charge diamond member hilto...</td>\n",
       "      <td>2</td>\n",
       "    </tr>\n",
       "    <tr>\n",
       "      <th>2</th>\n",
       "      <td>nice rooms not 4* experience hotel monaco seat...</td>\n",
       "      <td>3</td>\n",
       "    </tr>\n",
       "    <tr>\n",
       "      <th>3</th>\n",
       "      <td>unique, great stay, wonderful time hotel monac...</td>\n",
       "      <td>5</td>\n",
       "    </tr>\n",
       "    <tr>\n",
       "      <th>4</th>\n",
       "      <td>great stay great stay, went seahawk game aweso...</td>\n",
       "      <td>5</td>\n",
       "    </tr>\n",
       "  </tbody>\n",
       "</table>\n",
       "</div>"
      ],
      "text/plain": [
       "                                              review  rating\n",
       "0  nice hotel expensive parking got good deal sta...       4\n",
       "1  ok nothing special charge diamond member hilto...       2\n",
       "2  nice rooms not 4* experience hotel monaco seat...       3\n",
       "3  unique, great stay, wonderful time hotel monac...       5\n",
       "4  great stay great stay, went seahawk game aweso...       5"
      ]
     },
     "execution_count": 9,
     "metadata": {},
     "output_type": "execute_result"
    }
   ],
   "source": [
    "# load both data sets into the notebook\n",
    "df_hotel_reviews = load_dataset(url_hotel_reviews)\n",
    "df_hotel_reviews.head()"
   ]
  },
  {
   "cell_type": "code",
   "execution_count": 10,
   "metadata": {
    "colab": {
     "base_uri": "https://localhost:8080/"
    },
    "id": "6ZIrXNA1SXL2",
    "outputId": "f3c6eb07-8a21-46b5-e22d-a26dbb03a741"
   },
   "outputs": [
    {
     "name": "stdout",
     "output_type": "stream",
     "text": [
      "MARCH # All Stories New and Complete Publisher Editor IF is published bi-monthly by Quinn Publishing\n"
     ]
    }
   ],
   "source": [
    "url3='https://drive.google.com/uc?id=' + url_scifi_text.split('/')[-2]\n",
    "data = urllib.request.urlopen(url3)\n",
    "# decode is used to convert the bytes to string\n",
    "scifi_string = data.read().decode(\"UTF-8\")\n",
    "\n",
    "print(scifi_string[:100])"
   ]
  },
  {
   "cell_type": "markdown",
   "metadata": {
    "id": "BRaQFZLBF5Rc"
   },
   "source": [
    "## Preprocessing the Data\n",
    "We removed all words, integers and numbers. We than set the whole text to lowercase. This way we really have an embedding of only words and we don't superficially enlarge it with uppercase words."
   ]
  },
  {
   "cell_type": "code",
   "execution_count": 11,
   "metadata": {
    "id": "i0BSmSHiRVoG"
   },
   "outputs": [],
   "source": [
    "bad_chars = ['!','\"','#','$','%','&','\\'','(', ')', '*', '+', ',', '-', '.', '/', ':', ';', '<', '=', '>', '?', '@', '[', '\\\\', ']', '^', '_', '`', '{', '|', '}', '~', '1', '2', '3', '4', '5', '6','7', '8', '9', '0']\n",
    "\n",
    "def preprocess_text(text):\n",
    "  # remove all bad chars\n",
    "  text = ''.join(filter(lambda i: i not in bad_chars, text))\n",
    "  # remove multiple spaces such as \\t and \\n\n",
    "  text = \" \".join(text.split())\n",
    "  text = text.lower()\n",
    "  return text"
   ]
  },
  {
   "cell_type": "markdown",
   "metadata": {
    "id": "67Su7iXkXUFQ"
   },
   "source": [
    "First we convert the hotel text into a processable string. Therefore we remove punctuation and all integers. Additionally all tabs (\\t) and (\\n) are removed.\n",
    "In the end everything is lowered to lower case"
   ]
  },
  {
   "cell_type": "code",
   "execution_count": 12,
   "metadata": {
    "colab": {
     "base_uri": "https://localhost:8080/"
    },
    "id": "Pj_rlCKPF4dJ",
    "outputId": "a1bc3e98-a600-4cfc-b54c-61a821f343cb"
   },
   "outputs": [
    {
     "name": "stdout",
     "output_type": "stream",
     "text": [
      "0        nice hotel expensive parking got good deal sta...\n",
      "1        ok nothing special charge diamond member hilto...\n",
      "2        nice rooms not 4* experience hotel monaco seat...\n",
      "3        unique, great stay, wonderful time hotel monac...\n",
      "4        great stay great stay, went seahawk game aweso...\n",
      "                               ...                        \n",
      "20486    best kept secret 3rd time staying charm, not 5...\n",
      "20487    great location price view hotel great quick pl...\n",
      "20488    ok just looks nice modern outside, desk staff ...\n",
      "20489    hotel theft ruined vacation hotel opened sept ...\n",
      "20490    people talking, ca n't believe excellent ratin...\n",
      "Name: review, Length: 20491, dtype: object\n"
     ]
    }
   ],
   "source": [
    "# create one big text\n",
    "raw_text_hotel = df_hotel_reviews[\"review\"].apply(''.join)\n",
    "print(raw_text_hotel)\n",
    "# make one string out of the column\n",
    "raw_text_hotel = raw_text_hotel.str.cat(sep=\" \")\n",
    "raw_text_hotel = preprocess_text(raw_text_hotel)"
   ]
  },
  {
   "cell_type": "markdown",
   "metadata": {
    "id": "2a80BTUfXTPa"
   },
   "source": [
    "Afterwards the same is done with the scifi data"
   ]
  },
  {
   "cell_type": "code",
   "execution_count": 13,
   "metadata": {
    "colab": {
     "base_uri": "https://localhost:8080/"
    },
    "id": "HfIsl1gkX1BV",
    "outputId": "c5bde218-46a5-4035-aded-e0911962fb6b"
   },
   "outputs": [
    {
     "name": "stdout",
     "output_type": "stream",
     "text": [
      "march all stories new and complete publisher editor if is published bimonthly by quinn publishing co\n"
     ]
    }
   ],
   "source": [
    "raw_text_scifi = preprocess_text(scifi_string)\n",
    "print(raw_text_scifi[:100])"
   ]
  },
  {
   "cell_type": "markdown",
   "metadata": {
    "id": "hWirKQdsv_D_"
   },
   "source": [
    "## Train Models"
   ]
  },
  {
   "cell_type": "markdown",
   "metadata": {
    "id": "ggdPc_ZjwCPo"
   },
   "source": [
    "#### Train Model on the Hotel Review Excel Sheet\n"
   ]
  },
  {
   "cell_type": "code",
   "execution_count": 76,
   "metadata": {
    "id": "f7KX3gODu8JN"
   },
   "outputs": [],
   "source": [
    "torch.manual_seed(1)\n",
    "\n",
    "raw_text = \"\"\"We are about to study the idea of a computational process.\n",
    "Computational processes are abstract beings that inhabit computers.\n",
    "As they evolve, processes manipulate other abstract things called data.\n",
    "The evolution of a process is directed by a pattern of rules\n",
    "called a program. People create programs to direct processes. In effect,\n",
    "we conjure the spirits of the computer with our spells.\"\"\"\n",
    "\n",
    "def prepare_for_model(raw_text):\n",
    "  raw_text = raw_text.split()\n",
    "  # limit the nr of words.\n",
    "  raw_text = raw_text[:10000]\n",
    "  # By deriving a set from `raw_text`, we deduplicate the array\n",
    "  # a set has the advantage that only unique values are taken\n",
    "  vocab = set(raw_text)\n",
    "  vocab_size = len(vocab)\n",
    "\n",
    "  # generates dictionary with index of each word in the vocabulary\n",
    "  word_to_ix = {word: i for i, word in enumerate(vocab)}\n",
    "  index_to_word = {idx: w for idx, w in enumerate(vocab)}\n",
    "\n",
    "  # The code below than creates tuples where on the one side we have an array of neighboring words\n",
    "  # and on the other side we have the target word\n",
    "  # Example: For a window size of 2 for the word about we get ([we, are, to, study], about)\n",
    "  data = []\n",
    "  for i in range(2, len(raw_text) - 2):\n",
    "      context = [raw_text[i - 2], raw_text[i - 1],\n",
    "                raw_text[i + 1], raw_text[i + 2]]\n",
    "      target = raw_text[i]\n",
    "      data.append((context, target))\n",
    "  return data, word_to_ix, vocab, index_to_word"
   ]
  },
  {
   "cell_type": "markdown",
   "metadata": {
    "id": "iNvJigFAZTFc"
   },
   "source": [
    "Shown below is the output of the prepare for model function from the raw_text example"
   ]
  },
  {
   "cell_type": "code",
   "execution_count": 15,
   "metadata": {
    "colab": {
     "base_uri": "https://localhost:8080/"
    },
    "id": "JiN1tk-nZbOa",
    "outputId": "e8133f9f-69e0-42e7-d0e7-e4fee37658b2"
   },
   "outputs": [
    {
     "data": {
      "text/plain": [
       "[(['We', 'are', 'to', 'study'], 'about'),\n",
       " (['are', 'about', 'study', 'the'], 'to'),\n",
       " (['about', 'to', 'the', 'idea'], 'study'),\n",
       " (['to', 'study', 'idea', 'of'], 'the'),\n",
       " (['study', 'the', 'of', 'a'], 'idea')]"
      ]
     },
     "execution_count": 15,
     "metadata": {},
     "output_type": "execute_result"
    }
   ],
   "source": [
    "prepare_for_model(raw_text)[0][:5]"
   ]
  },
  {
   "cell_type": "markdown",
   "metadata": {
    "id": "FMnxlRKX5XU-"
   },
   "source": [
    "In the following cell we define the CBOW model which is used for training. It includes two hidden linear layers which are denly connected. Between the two layers a Relu activation function is used. In the end a LogSoftmax activation function is used to compute the output."
   ]
  },
  {
   "cell_type": "code",
   "execution_count": 16,
   "metadata": {
    "id": "mlTpGSOIwQSk"
   },
   "outputs": [],
   "source": [
    "class CBOW(nn.Module):\n",
    "\n",
    "    def __init__(self, vocab_size, embedding_dim, context_size):\n",
    "        super(CBOW, self).__init__()\n",
    "        # we create an embedding of this size\n",
    "        self.embeddings = nn.Embedding(vocab_size, embedding_dim)\n",
    "        # left (context * embedding_dim) is the input, while the right (128) is the dim of the ouput vector to the \n",
    "        # next layer \n",
    "        self.linear1 = nn.Linear(context_size * embedding_dim, 128)\n",
    "        self.linear2 = nn.Linear(128, vocab_size)\n",
    "        self.relu_activation = nn.ReLU()\n",
    "        self.log_activation = nn.LogSoftmax(dim=1)\n",
    "\n",
    "    def forward(self, inputs):\n",
    "        # we need to retrieve the weights (embeddings) for each word \n",
    "        # these embeddings will be learned in the backward pass\n",
    "        # after retrivial the matrix (multiple words) needs to be flattened\n",
    "        embeds = self.embeddings(inputs).view((1, -1))\n",
    "        # forward the embedding towards the output\n",
    "        linear_1 = self.linear1(embeds)\n",
    "        activated_1 = self.relu_activation(linear_1)\n",
    "        linear_2 = self.linear2(activated_1)\n",
    "        output = self.log_activation(linear_2)\n",
    "        return output"
   ]
  },
  {
   "cell_type": "markdown",
   "metadata": {
    "id": "YRe9txty5wFu"
   },
   "source": [
    "We define a training function"
   ]
  },
  {
   "cell_type": "code",
   "execution_count": 17,
   "metadata": {
    "id": "STXr_X6v5vXd"
   },
   "outputs": [],
   "source": [
    "def make_context_vector(context, word_to_ix):\n",
    "    idxs = [word_to_ix[w] for w in context]\n",
    "    return torch.tensor(idxs, dtype=torch.long)\n",
    "\n",
    "def train_model(model, training_data, epochs, word_to_ix):\n",
    "  losses = []\n",
    "  epochs_arr = []\n",
    "  loss_function = nn.NLLLoss()\n",
    "  optimizer = optim.SGD(model.parameters(), lr=0.01)\n",
    "\n",
    "  for epoch in range(epochs):\n",
    "      total_loss = 0\n",
    "      for context, target in training_data:\n",
    "\n",
    "          # Step 1. Prepare the inputs to be passed to the model (i.e, turn the words\n",
    "          # into integer indices and wrap them in tensors)\n",
    "          context_idxs = make_context_vector(context, word_to_ix)\n",
    "\n",
    "          # Step 2. Recall that torch *accumulates* gradients. Before passing in a\n",
    "          # new instance, you need to zero out the gradients from the old\n",
    "          # instance\n",
    "          model.zero_grad()\n",
    "\n",
    "          # Step 3. Run the forward pass, getting log probabilities over next\n",
    "          # words\n",
    "          log_probs = model(context_idxs)\n",
    "\n",
    "          # Step 4. Compute your loss function. (Again, Torch wants the target\n",
    "          # word wrapped in a tensor)\n",
    "          # log_probs are the predictions and the other thing is the true target\n",
    "          loss = loss_function(log_probs, torch.tensor([word_to_ix[target]], dtype=torch.long))\n",
    "\n",
    "          # Step 5. Do the backward pass and update the gradient\n",
    "          loss.backward()\n",
    "          # update the gradient\n",
    "          optimizer.step()\n",
    "\n",
    "          # Get the Python number from a 1-element Tensor by calling tensor.item()\n",
    "          total_loss += loss.item()\n",
    "      \n",
    "      # print only every \n",
    "      print('Epoch:', epoch, '\\tLoss:', loss.item())\n",
    "      losses.append(total_loss)\n",
    "      epochs_arr.append(epoch)\n",
    "\n",
    "  print(\"\"\"---------------------------------------------------------------------\n",
    "    \\n Finished training \\n ---------------------------------------------------------------------\"\"\")\n",
    "  \n",
    "  return epochs_arr, losses"
   ]
  },
  {
   "cell_type": "markdown",
   "metadata": {
    "id": "W3Z4QGrp5WLO"
   },
   "source": [
    "Afterwards we train the model with the Hotel Review Data"
   ]
  },
  {
   "cell_type": "code",
   "execution_count": 48,
   "metadata": {
    "colab": {
     "base_uri": "https://localhost:8080/",
     "height": 568
    },
    "id": "qi0ZipSI-SRK",
    "outputId": "2a6a3757-6ecc-4051-e970-020bfb3af8ce"
   },
   "outputs": [
    {
     "name": "stdout",
     "output_type": "stream",
     "text": [
      "Epoch: 0 \tLoss: 3.020556926727295\n",
      "Epoch: 1 \tLoss: 0.8522582650184631\n",
      "Epoch: 2 \tLoss: 0.2631464898586273\n",
      "Epoch: 3 \tLoss: 0.21960604190826416\n",
      "Epoch: 4 \tLoss: 0.20861157774925232\n",
      "Epoch: 5 \tLoss: 0.112159863114357\n",
      "Epoch: 6 \tLoss: 0.04470289126038551\n",
      "Epoch: 7 \tLoss: 0.010499123483896255\n",
      "Epoch: 8 \tLoss: 0.01121950801461935\n",
      "Epoch: 9 \tLoss: 0.004470592364668846\n",
      "Epoch: 10 \tLoss: 0.0007890925044193864\n",
      "Epoch: 11 \tLoss: 0.00023719835735391825\n",
      "---------------------------------------------------------------------\n",
      "    \n",
      " Finished training \n",
      " ---------------------------------------------------------------------\n"
     ]
    },
    {
     "data": {
      "text/plain": [
       "Text(0, 0.5, 'Loss')"
      ]
     },
     "execution_count": 48,
     "metadata": {},
     "output_type": "execute_result"
    },
    {
     "data": {
      "image/png": "[encoded data removed]",
      "text/plain": [
       "<Figure size 432x288 with 1 Axes>"
      ]
     },
     "metadata": {
      "needs_background": "light"
     },
     "output_type": "display_data"
    }
   ],
   "source": [
    "EMBEDDING_DIM = 12\n",
    "EMBEDDING_DIM_HOTEL = 50\n",
    "EPOCHS_HOTEL = 12\n",
    "CONTEXT_SIZE = 4  # 2 words to the left, 2 to the right\n",
    "\n",
    "data_hotel, word_to_ix_hotel, vocab_hotel, index_to_word_hotel = prepare_for_model(raw_text_hotel)\n",
    "model_hotel = CBOW(len(vocab_hotel), EMBEDDING_DIM_HOTEL, CONTEXT_SIZE)\n",
    "epoch, loss = train_model(model_hotel, data_hotel, EPOCHS_HOTEL, word_to_ix_hotel)\n",
    "\n",
    "\n",
    "plt.plot(epoch, loss, linewidth=2.0)\n",
    "plt.xlabel('Epochs')\n",
    "plt.ylabel('Loss')\n"
   ]
  },
  {
   "cell_type": "markdown",
   "metadata": {
    "id": "aqkAhQ2q93O9"
   },
   "source": [
    "Than we train our dataset with the Sci_Fi dataset"
   ]
  }
 ],
 "metadata": {
  "accelerator": "GPU",
  "colab": {
   "collapsed_sections": [],
   "name": "ex02_wordembeddings.ipynb",
   "provenance": []
  },
  "kernelspec": {
   "display_name": "Python 3 (ipykernel)",
   "language": "python",
   "name": "python3"
  },
  "language_info": {
   "codemirror_mode": {
    "name": "ipython",
    "version": 3
   },
   "file_extension": ".py",
   "mimetype": "text/x-python",
   "name": "python",
   "nbconvert_exporter": "python",
   "pygments_lexer": "ipython3",
   "version": "3.9.7"
  }
 },
 "nbformat": 4,
 "nbformat_minor": 1
}
