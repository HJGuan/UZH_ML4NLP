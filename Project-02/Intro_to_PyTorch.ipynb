{
  "nbformat": 4,
  "nbformat_minor": 0,
  "metadata": {
    "colab": {
      "name": "Intro_to_PyTorch.ipynb",
      "provenance": [],
      "collapsed_sections": []
    },
    "kernelspec": {
      "name": "python3",
      "display_name": "Python 3"
    },
    "language_info": {
      "name": "python"
    },
    "accelerator": "GPU"
  },
  "cells": [
    {
      "cell_type": "markdown",
      "metadata": {
        "id": "5tj0U__hH95r"
      },
      "source": [
        "# A Quick PyTorch Introduction for ML4NLP1\n",
        "\n",
        "### Tutorial 4 (18.10.2021)\n",
        "\n",
        "- PyTorch: https://pytorch.org/\n",
        "- PyTorch tutorials: https://pytorch.org/tutorials/\n",
        "- PyTorch documentation: https://pytorch.org/docs/stable/index.html\n",
        "- PyTorch forums: https://discuss.pytorch.org/\n",
        "- A collection of pytorch example code snippets: https://pytorch.org/tutorials/beginner/pytorch_with_examples.html"
      ]
    },
    {
      "cell_type": "code",
      "metadata": {
        "id": "ZcQdTHyHIG6W"
      },
      "source": [
        "import numpy as np\n",
        "import torch"
      ],
      "execution_count": 2,
      "outputs": []
    },
    {
      "cell_type": "markdown",
      "metadata": {
        "id": "btpW3rhnNFy3"
      },
      "source": [
        "## Basic Data Types"
      ]
    },
    {
      "cell_type": "code",
      "metadata": {
        "colab": {
          "base_uri": "https://localhost:8080/"
        },
        "id": "bo_Y_Z3oODHo",
        "outputId": "80283662-645c-42b7-a363-752cc38f2a36"
      },
      "source": [
        "t = torch.tensor([1, 2, 3])\n",
        "print(t.dtype)\n",
        "t = torch.tensor([1.0, 2.0, 3.0])\n",
        "print(t.dtype)"
      ],
      "execution_count": 3,
      "outputs": [
        {
          "output_type": "stream",
          "name": "stdout",
          "text": [
            "torch.int64\n",
            "torch.float32\n"
          ]
        }
      ]
    },
    {
      "cell_type": "code",
      "metadata": {
        "colab": {
          "base_uri": "https://localhost:8080/"
        },
        "id": "F9QKGtSROaqC",
        "outputId": "61b1d41b-1910-4188-cdc5-0661f1188073"
      },
      "source": [
        "t = torch.tensor([1, 2, 3], dtype=torch.long)\n",
        "print(t.dtype)\n",
        "t = torch.tensor([1, 2, 3], dtype=torch.float64)\n",
        "print(t.dtype)"
      ],
      "execution_count": 4,
      "outputs": [
        {
          "output_type": "stream",
          "name": "stdout",
          "text": [
            "torch.int64\n",
            "torch.float64\n"
          ]
        }
      ]
    },
    {
      "cell_type": "code",
      "metadata": {
        "colab": {
          "base_uri": "https://localhost:8080/"
        },
        "id": "k_1LlTWtOoIE",
        "outputId": "e1e50276-3a55-463d-a3d9-0dd6ed0c05ef"
      },
      "source": [
        "t = torch.LongTensor([1, 2, 3])\n",
        "print(t.dtype)\n",
        "t = torch.FloatTensor([1, 2, 3])\n",
        "print(t.dtype)"
      ],
      "execution_count": 5,
      "outputs": [
        {
          "output_type": "stream",
          "name": "stdout",
          "text": [
            "torch.int64\n",
            "torch.float32\n"
          ]
        }
      ]
    },
    {
      "cell_type": "code",
      "metadata": {
        "colab": {
          "base_uri": "https://localhost:8080/"
        },
        "id": "T6aGgINxOwCh",
        "outputId": "ed2fe365-3e5f-4165-b744-773818c59785"
      },
      "source": [
        "a = np.array([1, 2, 3])\n",
        "t = torch.from_numpy(a)\n",
        "b = t.numpy()\n",
        "print(a, type(a))\n",
        "print(t, type(t))\n",
        "print(b, type(b))"
      ],
      "execution_count": 6,
      "outputs": [
        {
          "output_type": "stream",
          "name": "stdout",
          "text": [
            "[1 2 3] <class 'numpy.ndarray'>\n",
            "tensor([1, 2, 3]) <class 'torch.Tensor'>\n",
            "[1 2 3] <class 'numpy.ndarray'>\n"
          ]
        }
      ]
    },
    {
      "cell_type": "markdown",
      "metadata": {
        "id": "YbZ0hS3XP1JN"
      },
      "source": [
        "For a list of PyTorch tensor types, go to: https://pytorch.org/docs/stable/tensors.html\n",
        "\n",
        "Tensors have a shape:"
      ]
    },
    {
      "cell_type": "code",
      "metadata": {
        "colab": {
          "base_uri": "https://localhost:8080/"
        },
        "id": "1_RsOtWxP719",
        "outputId": "76b8a402-ef31-405f-f21c-35d33596e3cd"
      },
      "source": [
        "s = torch.FloatTensor([0.5])\n",
        "t = torch.FloatTensor([1, 3.2, 19])\n",
        "u = torch.FloatTensor([[0.2, 2], \n",
        "                       [0.3, 3], \n",
        "                       [0.4, 4]])\n",
        "print(s.shape)\n",
        "print(t.shape)\n",
        "print(u.shape)"
      ],
      "execution_count": 7,
      "outputs": [
        {
          "output_type": "stream",
          "name": "stdout",
          "text": [
            "torch.Size([1])\n",
            "torch.Size([3])\n",
            "torch.Size([3, 2])\n"
          ]
        }
      ]
    },
    {
      "cell_type": "markdown",
      "metadata": {
        "id": "JJYrWTdqR2dn"
      },
      "source": [
        "Alternatively you may sometimes see `tensor.size()`:"
      ]
    },
    {
      "cell_type": "code",
      "metadata": {
        "colab": {
          "base_uri": "https://localhost:8080/"
        },
        "id": "LmOwaocKRi1L",
        "outputId": "7f9b0311-bd97-4806-98f4-ca55b9076e78"
      },
      "source": [
        "print(s.size())\n",
        "print(t.size())\n",
        "print(u.size())"
      ],
      "execution_count": 8,
      "outputs": [
        {
          "output_type": "stream",
          "name": "stdout",
          "text": [
            "torch.Size([1])\n",
            "torch.Size([3])\n",
            "torch.Size([3, 2])\n"
          ]
        }
      ]
    },
    {
      "cell_type": "markdown",
      "metadata": {
        "id": "E7YPxG0fSJ3F"
      },
      "source": [
        "You can change the shape of a tensor using  [`tensor.view()`](https://pytorch.org/docs/stable/tensor_view.html):\n",
        "\n"
      ]
    },
    {
      "cell_type": "code",
      "metadata": {
        "colab": {
          "base_uri": "https://localhost:8080/"
        },
        "id": "JGlaj-B5niL2",
        "outputId": "6990b7b1-a8fc-47db-dac0-8dc3b40d1d15"
      },
      "source": [
        "u.shape"
      ],
      "execution_count": 9,
      "outputs": [
        {
          "output_type": "execute_result",
          "data": {
            "text/plain": [
              "torch.Size([3, 2])"
            ]
          },
          "metadata": {},
          "execution_count": 9
        }
      ]
    },
    {
      "cell_type": "code",
      "metadata": {
        "colab": {
          "base_uri": "https://localhost:8080/"
        },
        "id": "5EvYIDivR-Z4",
        "outputId": "c87fdc98-4d94-4ca8-db5c-2677e708a924"
      },
      "source": [
        "u.view(2, 3)"
      ],
      "execution_count": 10,
      "outputs": [
        {
          "output_type": "execute_result",
          "data": {
            "text/plain": [
              "tensor([[0.2000, 2.0000, 0.3000],\n",
              "        [3.0000, 0.4000, 4.0000]])"
            ]
          },
          "metadata": {},
          "execution_count": 10
        }
      ]
    },
    {
      "cell_type": "code",
      "metadata": {
        "colab": {
          "base_uri": "https://localhost:8080/"
        },
        "id": "lYWyAdjhSes7",
        "outputId": "fd1fe739-ea8f-461a-bfa2-5ba9f440f193"
      },
      "source": [
        "u.view(1, 6)"
      ],
      "execution_count": 11,
      "outputs": [
        {
          "output_type": "execute_result",
          "data": {
            "text/plain": [
              "tensor([[0.2000, 2.0000, 0.3000, 3.0000, 0.4000, 4.0000]])"
            ]
          },
          "metadata": {},
          "execution_count": 11
        }
      ]
    },
    {
      "cell_type": "code",
      "metadata": {
        "colab": {
          "base_uri": "https://localhost:8080/"
        },
        "id": "50TS5Kgrnd-j",
        "outputId": "0f1de2a6-8d37-487c-c90a-16b36d7db6f5"
      },
      "source": [
        "u.view(2, -1)"
      ],
      "execution_count": 12,
      "outputs": [
        {
          "output_type": "execute_result",
          "data": {
            "text/plain": [
              "tensor([[0.2000, 2.0000, 0.3000],\n",
              "        [3.0000, 0.4000, 4.0000]])"
            ]
          },
          "metadata": {},
          "execution_count": 12
        }
      ]
    },
    {
      "cell_type": "code",
      "metadata": {
        "colab": {
          "base_uri": "https://localhost:8080/"
        },
        "id": "bbMwbWuEnuhu",
        "outputId": "3984aa88-08ac-4f32-a3bf-c665f25c1b44"
      },
      "source": [
        "u.view(-1, 2)"
      ],
      "execution_count": 13,
      "outputs": [
        {
          "output_type": "execute_result",
          "data": {
            "text/plain": [
              "tensor([[0.2000, 2.0000],\n",
              "        [0.3000, 3.0000],\n",
              "        [0.4000, 4.0000]])"
            ]
          },
          "metadata": {},
          "execution_count": 13
        }
      ]
    },
    {
      "cell_type": "markdown",
      "metadata": {
        "id": "2DlQsysyr2Gs"
      },
      "source": [
        "More infos on `view()`: https://pytorch.org/docs/stable/tensor_view.html"
      ]
    },
    {
      "cell_type": "markdown",
      "metadata": {
        "id": "tF_G1siPoYxF"
      },
      "source": [
        "## Flatten and Squeeze"
      ]
    },
    {
      "cell_type": "code",
      "metadata": {
        "colab": {
          "base_uri": "https://localhost:8080/"
        },
        "id": "cZZOkJ4vn7xD",
        "outputId": "d1b13ea5-ed74-41aa-b902-657d5d31cbeb"
      },
      "source": [
        "u.flatten()  # same as u.view(1, -1)"
      ],
      "execution_count": 14,
      "outputs": [
        {
          "output_type": "execute_result",
          "data": {
            "text/plain": [
              "tensor([0.2000, 2.0000, 0.3000, 3.0000, 0.4000, 4.0000])"
            ]
          },
          "metadata": {},
          "execution_count": 14
        }
      ]
    },
    {
      "cell_type": "code",
      "metadata": {
        "colab": {
          "base_uri": "https://localhost:8080/"
        },
        "id": "hLGSZtYloKvJ",
        "outputId": "41d4741c-df97-4341-c225-cb462de2a90b"
      },
      "source": [
        "a = torch.FloatTensor([[0.35, 16.1]])\n",
        "b = torch.FloatTensor([[[1.3, 2.9]]])\n",
        "print(a.shape)\n",
        "print(b.shape)"
      ],
      "execution_count": 15,
      "outputs": [
        {
          "output_type": "stream",
          "name": "stdout",
          "text": [
            "torch.Size([1, 2])\n",
            "torch.Size([1, 1, 2])\n"
          ]
        }
      ]
    },
    {
      "cell_type": "code",
      "metadata": {
        "colab": {
          "base_uri": "https://localhost:8080/"
        },
        "id": "pa1NGbRqotRa",
        "outputId": "b7bdc397-de44-4b34-824a-9c1ce69847af"
      },
      "source": [
        "c = a.squeeze()\n",
        "d = b.squeeze()\n",
        "print(c, c.shape)\n",
        "print(d, d.shape)"
      ],
      "execution_count": 16,
      "outputs": [
        {
          "output_type": "stream",
          "name": "stdout",
          "text": [
            "tensor([ 0.3500, 16.1000]) torch.Size([2])\n",
            "tensor([1.3000, 2.9000]) torch.Size([2])\n"
          ]
        }
      ]
    },
    {
      "cell_type": "code",
      "metadata": {
        "colab": {
          "base_uri": "https://localhost:8080/"
        },
        "id": "GMJFkq8HpNdS",
        "outputId": "31a41adf-77a1-4cb6-9cba-503475953af8"
      },
      "source": [
        "e = c.unsqueeze(dim=0)\n",
        "f = c.unsqueeze(dim=1)\n",
        "g = c.unsqueeze(dim=-1)\n",
        "print(e, e.shape)\n",
        "print(f, f.shape)\n",
        "print(g, g.shape)"
      ],
      "execution_count": 17,
      "outputs": [
        {
          "output_type": "stream",
          "name": "stdout",
          "text": [
            "tensor([[ 0.3500, 16.1000]]) torch.Size([1, 2])\n",
            "tensor([[ 0.3500],\n",
            "        [16.1000]]) torch.Size([2, 1])\n",
            "tensor([[ 0.3500],\n",
            "        [16.1000]]) torch.Size([2, 1])\n"
          ]
        }
      ]
    },
    {
      "cell_type": "markdown",
      "metadata": {
        "id": "xaq3EAmtrfQ0"
      },
      "source": [
        "## Automatically Fill Tensors with Values "
      ]
    },
    {
      "cell_type": "code",
      "metadata": {
        "colab": {
          "base_uri": "https://localhost:8080/"
        },
        "id": "K64C_x-IpzcD",
        "outputId": "8acfd025-5b8a-4459-c30f-201f93015285"
      },
      "source": [
        "print(torch.zeros(2, 3))"
      ],
      "execution_count": 18,
      "outputs": [
        {
          "output_type": "stream",
          "name": "stdout",
          "text": [
            "tensor([[0., 0., 0.],\n",
            "        [0., 0., 0.]])\n"
          ]
        }
      ]
    },
    {
      "cell_type": "code",
      "metadata": {
        "colab": {
          "base_uri": "https://localhost:8080/"
        },
        "id": "cpMX98fxrsVv",
        "outputId": "7c1dcfa0-1d86-490d-993f-f1b26e1889bc"
      },
      "source": [
        "print(torch.ones(2, 3))"
      ],
      "execution_count": 19,
      "outputs": [
        {
          "output_type": "stream",
          "name": "stdout",
          "text": [
            "tensor([[1., 1., 1.],\n",
            "        [1., 1., 1.]])\n"
          ]
        }
      ]
    },
    {
      "cell_type": "code",
      "metadata": {
        "colab": {
          "base_uri": "https://localhost:8080/"
        },
        "id": "VZG4ZLYmrt_K",
        "outputId": "e567da63-4171-4fa0-f532-649c93246604"
      },
      "source": [
        "print(torch.rand(2, 3))  # numbers taken from uniform distribution on interval [0,1)"
      ],
      "execution_count": 20,
      "outputs": [
        {
          "output_type": "stream",
          "name": "stdout",
          "text": [
            "tensor([[0.5403, 0.4143, 0.8308],\n",
            "        [0.0635, 0.8832, 0.2031]])\n"
          ]
        }
      ]
    },
    {
      "cell_type": "code",
      "metadata": {
        "colab": {
          "base_uri": "https://localhost:8080/"
        },
        "id": "Cke6ByGTrwFm",
        "outputId": "9b996894-a4bc-4746-b43e-2eca6b4500fb"
      },
      "source": [
        "print(torch.randint(low=0, high=6, size=(2, 3)))  # \"generated uniformly between low (inclusive) and high (exclusive)\"\""
      ],
      "execution_count": 21,
      "outputs": [
        {
          "output_type": "stream",
          "name": "stdout",
          "text": [
            "tensor([[4, 1, 1],\n",
            "        [3, 0, 3]])\n"
          ]
        }
      ]
    },
    {
      "cell_type": "markdown",
      "metadata": {
        "id": "I6l07NZk3DqC"
      },
      "source": [
        "## Tensor Slicing"
      ]
    },
    {
      "cell_type": "code",
      "metadata": {
        "colab": {
          "base_uri": "https://localhost:8080/"
        },
        "id": "nad4l-Pq3GaT",
        "outputId": "fc4a8c29-48b0-4b11-b3b3-e569d8546418"
      },
      "source": [
        "t = torch.FloatTensor([1, 3.2, 19])\n",
        "print(t[0])\n",
        "print(t[1:])\n",
        "print(t[-1])"
      ],
      "execution_count": 22,
      "outputs": [
        {
          "output_type": "stream",
          "name": "stdout",
          "text": [
            "tensor(1.)\n",
            "tensor([ 3.2000, 19.0000])\n",
            "tensor(19.)\n"
          ]
        }
      ]
    },
    {
      "cell_type": "code",
      "metadata": {
        "colab": {
          "base_uri": "https://localhost:8080/"
        },
        "id": "O0VlgtEA3GXf",
        "outputId": "673eb5b9-d563-48ab-a4ed-29ad48cb98ea"
      },
      "source": [
        "u = torch.FloatTensor([[0.2, 2], \n",
        "                       [0.3, 3], \n",
        "                       [0.4, 4]])\n",
        "print(u, u.shape)\n",
        "print(u[1, 1]) # second element of second row\n",
        "print(u[1])  # second row\n",
        "print(u[:, 1])  # second column  \n",
        "print(u[:-1, 1])  # second column without last element"
      ],
      "execution_count": 23,
      "outputs": [
        {
          "output_type": "stream",
          "name": "stdout",
          "text": [
            "tensor([[0.2000, 2.0000],\n",
            "        [0.3000, 3.0000],\n",
            "        [0.4000, 4.0000]]) torch.Size([3, 2])\n",
            "tensor(3.)\n",
            "tensor([0.3000, 3.0000])\n",
            "tensor([2., 3., 4.])\n",
            "tensor([2., 3.])\n"
          ]
        }
      ]
    },
    {
      "cell_type": "markdown",
      "metadata": {
        "id": "3qPmSzkJ2SEl"
      },
      "source": [
        "## Mathematical Operations"
      ]
    },
    {
      "cell_type": "code",
      "metadata": {
        "id": "XKu1BcMq2R2i"
      },
      "source": [
        "t = torch.FloatTensor([1, 3.2, 19])"
      ],
      "execution_count": 24,
      "outputs": []
    },
    {
      "cell_type": "code",
      "metadata": {
        "colab": {
          "base_uri": "https://localhost:8080/"
        },
        "id": "vQ-_PKIG2R0G",
        "outputId": "0e0467a6-fb01-4895-e9fa-d604ef4a4499"
      },
      "source": [
        "t + 1"
      ],
      "execution_count": 25,
      "outputs": [
        {
          "output_type": "execute_result",
          "data": {
            "text/plain": [
              "tensor([ 2.0000,  4.2000, 20.0000])"
            ]
          },
          "metadata": {},
          "execution_count": 25
        }
      ]
    },
    {
      "cell_type": "code",
      "metadata": {
        "colab": {
          "base_uri": "https://localhost:8080/"
        },
        "id": "alOnJ9dE2Rxo",
        "outputId": "2af1078f-48af-4149-b8cc-9348dde14520"
      },
      "source": [
        "t / 3"
      ],
      "execution_count": 26,
      "outputs": [
        {
          "output_type": "execute_result",
          "data": {
            "text/plain": [
              "tensor([0.3333, 1.0667, 6.3333])"
            ]
          },
          "metadata": {},
          "execution_count": 26
        }
      ]
    },
    {
      "cell_type": "code",
      "metadata": {
        "colab": {
          "base_uri": "https://localhost:8080/"
        },
        "id": "LpA7Hmzx2RmI",
        "outputId": "a2c5cec4-4d16-4df4-8b6b-bb972348137a"
      },
      "source": [
        "t ** 2"
      ],
      "execution_count": 27,
      "outputs": [
        {
          "output_type": "execute_result",
          "data": {
            "text/plain": [
              "tensor([  1.0000,  10.2400, 361.0000])"
            ]
          },
          "metadata": {},
          "execution_count": 27
        }
      ]
    },
    {
      "cell_type": "code",
      "metadata": {
        "colab": {
          "base_uri": "https://localhost:8080/"
        },
        "id": "B3W2bA5p5Q6p",
        "outputId": "647b7025-bed8-4f0e-84fc-9f068fa4192d"
      },
      "source": [
        "torch.max(t)"
      ],
      "execution_count": 28,
      "outputs": [
        {
          "output_type": "execute_result",
          "data": {
            "text/plain": [
              "tensor(19.)"
            ]
          },
          "metadata": {},
          "execution_count": 28
        }
      ]
    },
    {
      "cell_type": "code",
      "metadata": {
        "colab": {
          "base_uri": "https://localhost:8080/"
        },
        "id": "qJYnIviy5etq",
        "outputId": "8a9c2f42-2afd-46b7-db4e-f69d583109e3"
      },
      "source": [
        "print(torch.argmax(t))\n",
        "print(torch.argmin(t))"
      ],
      "execution_count": 29,
      "outputs": [
        {
          "output_type": "stream",
          "name": "stdout",
          "text": [
            "tensor(2)\n",
            "tensor(0)\n"
          ]
        }
      ]
    },
    {
      "cell_type": "code",
      "metadata": {
        "colab": {
          "base_uri": "https://localhost:8080/"
        },
        "id": "WdfpTSkg5l4H",
        "outputId": "70dc8967-d91a-4746-8b4c-1a5103dda04b"
      },
      "source": [
        "x = torch.FloatTensor([[.2, -0.3, 1.3], \n",
        "                       [0.1, 0.5, 0.01]])\n",
        "print(x.shape)\n",
        "print(torch.argmax(x))\n",
        "print(torch.argmax(x, dim=0))\n",
        "print(torch.argmax(x, dim=1))\n",
        "print(torch.argmax(x, dim=-1))"
      ],
      "execution_count": 30,
      "outputs": [
        {
          "output_type": "stream",
          "name": "stdout",
          "text": [
            "torch.Size([2, 3])\n",
            "tensor(2)\n",
            "tensor([0, 1, 0])\n",
            "tensor([2, 1])\n",
            "tensor([2, 1])\n"
          ]
        }
      ]
    },
    {
      "cell_type": "markdown",
      "metadata": {
        "id": "QXsX_yO-Lz94"
      },
      "source": [
        "If the dim argument is confusing, go to: https://stackoverflow.com/questions/55691819/why-does-dim-1-return-row-indices-in-torch-argmax"
      ]
    },
    {
      "cell_type": "markdown",
      "metadata": {
        "id": "weJDD3gyte0C"
      },
      "source": [
        "## [More attributes](https://pytorch.org/tutorials/beginner/basics/tensorqs_tutorial.html#attributes-of-a-tensor)"
      ]
    },
    {
      "cell_type": "code",
      "metadata": {
        "colab": {
          "base_uri": "https://localhost:8080/"
        },
        "id": "D2RxEfzKs4Vt",
        "outputId": "11623b07-08f0-486c-b01d-1c584c69d234"
      },
      "source": [
        "a = torch.FloatTensor([0.4, 0.5, 1.3])\n",
        "print(a.shape)\n",
        "print(a.dtype)\n",
        "print(a.device)"
      ],
      "execution_count": 31,
      "outputs": [
        {
          "output_type": "stream",
          "name": "stdout",
          "text": [
            "torch.Size([3])\n",
            "torch.float32\n",
            "cpu\n"
          ]
        }
      ]
    },
    {
      "cell_type": "markdown",
      "metadata": {
        "id": "WM1PlcBEt-T8"
      },
      "source": [
        "Moving a Tensor to a Device"
      ]
    },
    {
      "cell_type": "code",
      "metadata": {
        "colab": {
          "base_uri": "https://localhost:8080/"
        },
        "id": "MQvW39iZtzWF",
        "outputId": "e34763fa-cdac-44ac-eb6f-e3724c7ad961"
      },
      "source": [
        "print(torch.cuda.is_available())\n",
        "print(torch.cuda.device_count())"
      ],
      "execution_count": 32,
      "outputs": [
        {
          "output_type": "stream",
          "name": "stdout",
          "text": [
            "True\n",
            "1\n"
          ]
        }
      ]
    },
    {
      "cell_type": "code",
      "metadata": {
        "colab": {
          "base_uri": "https://localhost:8080/"
        },
        "id": "Un0wbzPzuIXX",
        "outputId": "3e000214-83f6-4236-8ebb-f342c454f8e9"
      },
      "source": [
        "gpus = [torch.cuda.device(i) for i in range(torch.cuda.device_count())]\n",
        "print(gpus)"
      ],
      "execution_count": 33,
      "outputs": [
        {
          "output_type": "stream",
          "name": "stdout",
          "text": [
            "[<torch.cuda.device object at 0x7f767cc21b10>]\n"
          ]
        }
      ]
    },
    {
      "cell_type": "code",
      "metadata": {
        "colab": {
          "base_uri": "https://localhost:8080/"
        },
        "id": "q2duXxOru5GY",
        "outputId": "67522f97-3288-4061-9e98-e08c331c2a37"
      },
      "source": [
        "device = 'cuda:0'\n",
        "b = a.to(device)\n",
        "b"
      ],
      "execution_count": 34,
      "outputs": [
        {
          "output_type": "execute_result",
          "data": {
            "text/plain": [
              "tensor([0.4000, 0.5000, 1.3000], device='cuda:0')"
            ]
          },
          "metadata": {},
          "execution_count": 34
        }
      ]
    },
    {
      "cell_type": "markdown",
      "metadata": {
        "id": "9-rWg-4wvfHN"
      },
      "source": [
        "The typical line you see in most pytorch scripts for NN training:"
      ]
    },
    {
      "cell_type": "code",
      "metadata": {
        "id": "l2D_pU0svDz4"
      },
      "source": [
        "device = 'cuda:0' if torch.cuda.is_available() else 'cpu'\n",
        "# then move to device"
      ],
      "execution_count": 35,
      "outputs": []
    },
    {
      "cell_type": "markdown",
      "metadata": {
        "id": "jEE7tZ8y1oQP"
      },
      "source": [
        "## PyTorch Datasets and Dataloaders\n",
        "\n",
        "For more information, go to: https://pytorch.org/docs/stable/data.html\n",
        "\n",
        "Best practices sheet:"
      ]
    },
    {
      "cell_type": "code",
      "metadata": {
        "id": "V1d-1bctvVvn"
      },
      "source": [
        "from torch.utils.data import IterableDataset, DataLoader"
      ],
      "execution_count": 36,
      "outputs": []
    },
    {
      "cell_type": "code",
      "metadata": {
        "id": "2Ir61Yps9eZR"
      },
      "source": [
        "num_features = 10\n",
        "num_train_examples = 100\n",
        "num_test_examples = 50\n",
        "num_classes = 4\n",
        "\n",
        "train_X = torch.rand(num_train_examples, num_features)\n",
        "train_y = torch.randint(low=0, high=num_classes, size=(num_train_examples, 1))\n",
        "test_X = torch.rand(num_test_examples, num_features)\n",
        "test_y = torch.randint(low=0, high=num_classes, size=(num_test_examples, 1))"
      ],
      "execution_count": 37,
      "outputs": []
    },
    {
      "cell_type": "code",
      "metadata": {
        "id": "TKiVXHaf--Ml"
      },
      "source": [
        "class MyDataset(IterableDataset):\n",
        "    def __init__(self, data_X, data_y):\n",
        "        assert len(data_X) == len(data_y)\n",
        "        self.data_X = data_X.to(device)\n",
        "        self.data_y = data_y.to(device)\n",
        "    \n",
        "    def __len__(self):\n",
        "        return len(self.data_X)\n",
        "    \n",
        "    def __iter__(self):\n",
        "        for i in range(len(self.data_X)):\n",
        "            yield (self.data_X[i], self.data_y[i])"
      ],
      "execution_count": 38,
      "outputs": []
    },
    {
      "cell_type": "code",
      "metadata": {
        "id": "mdgGd3qgJ2gf"
      },
      "source": [
        "train_set = MyDataset(train_X, train_y)\n",
        "test_set = MyDataset(test_X, test_y)"
      ],
      "execution_count": 39,
      "outputs": []
    },
    {
      "cell_type": "code",
      "metadata": {
        "id": "PEWBMEnyK3Br"
      },
      "source": [
        "train_loader = DataLoader(train_set, batch_size=8)\n",
        "test_loader = DataLoader(test_set, batch_size=8)"
      ],
      "execution_count": 40,
      "outputs": []
    },
    {
      "cell_type": "markdown",
      "metadata": {
        "id": "vgse9J_sR1r4"
      },
      "source": [
        "Recommened DataLoader settings:"
      ]
    },
    {
      "cell_type": "code",
      "metadata": {
        "colab": {
          "base_uri": "https://localhost:8080/"
        },
        "id": "txOQZNu5Lelr",
        "outputId": "605aa1c9-b46a-409c-ca3e-a60c3f7db4f4"
      },
      "source": [
        "for batch in train_loader:\n",
        "    print(batch[0].shape, batch[1].shape)"
      ],
      "execution_count": 41,
      "outputs": [
        {
          "output_type": "stream",
          "name": "stdout",
          "text": [
            "torch.Size([8, 10]) torch.Size([8, 1])\n",
            "torch.Size([8, 10]) torch.Size([8, 1])\n",
            "torch.Size([8, 10]) torch.Size([8, 1])\n",
            "torch.Size([8, 10]) torch.Size([8, 1])\n",
            "torch.Size([8, 10]) torch.Size([8, 1])\n",
            "torch.Size([8, 10]) torch.Size([8, 1])\n",
            "torch.Size([8, 10]) torch.Size([8, 1])\n",
            "torch.Size([8, 10]) torch.Size([8, 1])\n",
            "torch.Size([8, 10]) torch.Size([8, 1])\n",
            "torch.Size([8, 10]) torch.Size([8, 1])\n",
            "torch.Size([8, 10]) torch.Size([8, 1])\n",
            "torch.Size([8, 10]) torch.Size([8, 1])\n",
            "torch.Size([4, 10]) torch.Size([4, 1])\n"
          ]
        }
      ]
    },
    {
      "cell_type": "markdown",
      "metadata": {
        "id": "femOiRYKNjPy"
      },
      "source": [
        "## A Small Neural Net"
      ]
    },
    {
      "cell_type": "code",
      "metadata": {
        "id": "U0WiFewbMyN7"
      },
      "source": [
        "class TinyNN(torch.nn.Module):\n",
        "\n",
        "    def __init__(self, num_features, num_classes):\n",
        "        super(TinyNN, self).__init__()\n",
        "        self.num_features = num_features\n",
        "        self.num_classes = num_classes\n",
        "        self.hidden_size = int(round(num_features / 2))\n",
        "        self.input_layer = torch.nn.Linear(num_features, self.hidden_size)\n",
        "        self.hidden_layer = torch.nn.Linear(self.hidden_size, self.hidden_size)\n",
        "        self.output_layer = torch.nn.Linear(self.hidden_size, num_classes)\n",
        "\n",
        "    def forward(self, inputs):\n",
        "        out1 = self.input_layer(inputs)\n",
        "        out2 = self.hidden_layer(out1)\n",
        "        out3 = self.output_layer(out2)\n",
        "        log_probs = torch.nn.functional.log_softmax(out3, dim=-1)\n",
        "        return log_probs"
      ],
      "execution_count": 42,
      "outputs": []
    },
    {
      "cell_type": "markdown",
      "metadata": {
        "id": "co7YlawW0cRj"
      },
      "source": [
        "## Let's Train it"
      ]
    },
    {
      "cell_type": "code",
      "metadata": {
        "id": "BaaR2RlBPdZf"
      },
      "source": [
        "import torch.optim as optim\n",
        "\n",
        "model = TinyNN(num_features=num_features, num_classes=num_classes) \n",
        "device = 'cuda:0' if torch.cuda.is_available() else 'cpu'\n",
        "model.to(device)\n",
        "\n",
        "loss_func = torch.nn.NLLLoss()  # for nllloss vs cat-cross-ent: https://discuss.pytorch.org/t/difference-between-cross-entropy-loss-or-log-likelihood-loss/38816/2\n",
        "lr = 0.001\n",
        "optimizer = optim.Adam(model.parameters(), lr=lr)\n",
        "\n",
        "num_epochs = 10"
      ],
      "execution_count": 43,
      "outputs": []
    },
    {
      "cell_type": "code",
      "metadata": {
        "colab": {
          "base_uri": "https://localhost:8080/"
        },
        "id": "v-T7LjmMQv06",
        "outputId": "3fd6a6d7-d7a7-45f0-ef08-c7e501674c56"
      },
      "source": [
        "num_batches = len(train_loader)\n",
        "for epoch in range(1, num_epochs + 1):\n",
        "    for batch_num, (inputs, y_true) in enumerate(train_loader, 1):\n",
        "        optimizer.zero_grad()\n",
        "        y_pred = model(inputs)\n",
        "        loss = loss_func(y_pred, y_true.squeeze())\n",
        "        loss_batch = loss.item()\n",
        "        loss.backward()\n",
        "        optimizer.step()\n",
        "        print(f'Epoch [{epoch}/{num_epochs}], batch: [{batch_num}/{num_batches}, loss: {loss_batch:.4f}]')"
      ],
      "execution_count": 44,
      "outputs": [
        {
          "output_type": "stream",
          "name": "stdout",
          "text": [
            "Epoch [1/10], batch: [1/13, loss: 1.3361]\n",
            "Epoch [1/10], batch: [2/13, loss: 1.4134]\n",
            "Epoch [1/10], batch: [3/13, loss: 1.4105]\n",
            "Epoch [1/10], batch: [4/13, loss: 1.3792]\n",
            "Epoch [1/10], batch: [5/13, loss: 1.4159]\n",
            "Epoch [1/10], batch: [6/13, loss: 1.4143]\n",
            "Epoch [1/10], batch: [7/13, loss: 1.3302]\n",
            "Epoch [1/10], batch: [8/13, loss: 1.3608]\n",
            "Epoch [1/10], batch: [9/13, loss: 1.3590]\n",
            "Epoch [1/10], batch: [10/13, loss: 1.4079]\n",
            "Epoch [1/10], batch: [11/13, loss: 1.4315]\n",
            "Epoch [1/10], batch: [12/13, loss: 1.4166]\n",
            "Epoch [1/10], batch: [13/13, loss: 1.4533]\n",
            "Epoch [2/10], batch: [1/13, loss: 1.3216]\n",
            "Epoch [2/10], batch: [2/13, loss: 1.4040]\n",
            "Epoch [2/10], batch: [3/13, loss: 1.4085]\n",
            "Epoch [2/10], batch: [4/13, loss: 1.3636]\n",
            "Epoch [2/10], batch: [5/13, loss: 1.4231]\n",
            "Epoch [2/10], batch: [6/13, loss: 1.4053]\n",
            "Epoch [2/10], batch: [7/13, loss: 1.3358]\n",
            "Epoch [2/10], batch: [8/13, loss: 1.3533]\n",
            "Epoch [2/10], batch: [9/13, loss: 1.3621]\n",
            "Epoch [2/10], batch: [10/13, loss: 1.4066]\n",
            "Epoch [2/10], batch: [11/13, loss: 1.4255]\n",
            "Epoch [2/10], batch: [12/13, loss: 1.4070]\n",
            "Epoch [2/10], batch: [13/13, loss: 1.4513]\n",
            "Epoch [3/10], batch: [1/13, loss: 1.3150]\n",
            "Epoch [3/10], batch: [2/13, loss: 1.3957]\n",
            "Epoch [3/10], batch: [3/13, loss: 1.4067]\n",
            "Epoch [3/10], batch: [4/13, loss: 1.3521]\n",
            "Epoch [3/10], batch: [5/13, loss: 1.4297]\n",
            "Epoch [3/10], batch: [6/13, loss: 1.3980]\n",
            "Epoch [3/10], batch: [7/13, loss: 1.3423]\n",
            "Epoch [3/10], batch: [8/13, loss: 1.3474]\n",
            "Epoch [3/10], batch: [9/13, loss: 1.3647]\n",
            "Epoch [3/10], batch: [10/13, loss: 1.4061]\n",
            "Epoch [3/10], batch: [11/13, loss: 1.4203]\n",
            "Epoch [3/10], batch: [12/13, loss: 1.3981]\n",
            "Epoch [3/10], batch: [13/13, loss: 1.4495]\n",
            "Epoch [4/10], batch: [1/13, loss: 1.3098]\n",
            "Epoch [4/10], batch: [2/13, loss: 1.3884]\n",
            "Epoch [4/10], batch: [3/13, loss: 1.4054]\n",
            "Epoch [4/10], batch: [4/13, loss: 1.3426]\n",
            "Epoch [4/10], batch: [5/13, loss: 1.4361]\n",
            "Epoch [4/10], batch: [6/13, loss: 1.3921]\n",
            "Epoch [4/10], batch: [7/13, loss: 1.3487]\n",
            "Epoch [4/10], batch: [8/13, loss: 1.3426]\n",
            "Epoch [4/10], batch: [9/13, loss: 1.3671]\n",
            "Epoch [4/10], batch: [10/13, loss: 1.4061]\n",
            "Epoch [4/10], batch: [11/13, loss: 1.4160]\n",
            "Epoch [4/10], batch: [12/13, loss: 1.3901]\n",
            "Epoch [4/10], batch: [13/13, loss: 1.4479]\n",
            "Epoch [5/10], batch: [1/13, loss: 1.3055]\n",
            "Epoch [5/10], batch: [2/13, loss: 1.3819]\n",
            "Epoch [5/10], batch: [3/13, loss: 1.4045]\n",
            "Epoch [5/10], batch: [4/13, loss: 1.3345]\n",
            "Epoch [5/10], batch: [5/13, loss: 1.4422]\n",
            "Epoch [5/10], batch: [6/13, loss: 1.3872]\n",
            "Epoch [5/10], batch: [7/13, loss: 1.3547]\n",
            "Epoch [5/10], batch: [8/13, loss: 1.3387]\n",
            "Epoch [5/10], batch: [9/13, loss: 1.3692]\n",
            "Epoch [5/10], batch: [10/13, loss: 1.4065]\n",
            "Epoch [5/10], batch: [11/13, loss: 1.4125]\n",
            "Epoch [5/10], batch: [12/13, loss: 1.3829]\n",
            "Epoch [5/10], batch: [13/13, loss: 1.4466]\n",
            "Epoch [6/10], batch: [1/13, loss: 1.3020]\n",
            "Epoch [6/10], batch: [2/13, loss: 1.3762]\n",
            "Epoch [6/10], batch: [3/13, loss: 1.4039]\n",
            "Epoch [6/10], batch: [4/13, loss: 1.3277]\n",
            "Epoch [6/10], batch: [5/13, loss: 1.4479]\n",
            "Epoch [6/10], batch: [6/13, loss: 1.3833]\n",
            "Epoch [6/10], batch: [7/13, loss: 1.3602]\n",
            "Epoch [6/10], batch: [8/13, loss: 1.3354]\n",
            "Epoch [6/10], batch: [9/13, loss: 1.3710]\n",
            "Epoch [6/10], batch: [10/13, loss: 1.4071]\n",
            "Epoch [6/10], batch: [11/13, loss: 1.4095]\n",
            "Epoch [6/10], batch: [12/13, loss: 1.3765]\n",
            "Epoch [6/10], batch: [13/13, loss: 1.4453]\n",
            "Epoch [7/10], batch: [1/13, loss: 1.2990]\n",
            "Epoch [7/10], batch: [2/13, loss: 1.3712]\n",
            "Epoch [7/10], batch: [3/13, loss: 1.4035]\n",
            "Epoch [7/10], batch: [4/13, loss: 1.3221]\n",
            "Epoch [7/10], batch: [5/13, loss: 1.4530]\n",
            "Epoch [7/10], batch: [6/13, loss: 1.3802]\n",
            "Epoch [7/10], batch: [7/13, loss: 1.3651]\n",
            "Epoch [7/10], batch: [8/13, loss: 1.3327]\n",
            "Epoch [7/10], batch: [9/13, loss: 1.3725]\n",
            "Epoch [7/10], batch: [10/13, loss: 1.4079]\n",
            "Epoch [7/10], batch: [11/13, loss: 1.4070]\n",
            "Epoch [7/10], batch: [12/13, loss: 1.3708]\n",
            "Epoch [7/10], batch: [13/13, loss: 1.4440]\n",
            "Epoch [8/10], batch: [1/13, loss: 1.2966]\n",
            "Epoch [8/10], batch: [2/13, loss: 1.3668]\n",
            "Epoch [8/10], batch: [3/13, loss: 1.4032]\n",
            "Epoch [8/10], batch: [4/13, loss: 1.3175]\n",
            "Epoch [8/10], batch: [5/13, loss: 1.4577]\n",
            "Epoch [8/10], batch: [6/13, loss: 1.3777]\n",
            "Epoch [8/10], batch: [7/13, loss: 1.3693]\n",
            "Epoch [8/10], batch: [8/13, loss: 1.3305]\n",
            "Epoch [8/10], batch: [9/13, loss: 1.3736]\n",
            "Epoch [8/10], batch: [10/13, loss: 1.4087]\n",
            "Epoch [8/10], batch: [11/13, loss: 1.4050]\n",
            "Epoch [8/10], batch: [12/13, loss: 1.3657]\n",
            "Epoch [8/10], batch: [13/13, loss: 1.4427]\n",
            "Epoch [9/10], batch: [1/13, loss: 1.2947]\n",
            "Epoch [9/10], batch: [2/13, loss: 1.3629]\n",
            "Epoch [9/10], batch: [3/13, loss: 1.4029]\n",
            "Epoch [9/10], batch: [4/13, loss: 1.3138]\n",
            "Epoch [9/10], batch: [5/13, loss: 1.4618]\n",
            "Epoch [9/10], batch: [6/13, loss: 1.3758]\n",
            "Epoch [9/10], batch: [7/13, loss: 1.3729]\n",
            "Epoch [9/10], batch: [8/13, loss: 1.3286]\n",
            "Epoch [9/10], batch: [9/13, loss: 1.3744]\n",
            "Epoch [9/10], batch: [10/13, loss: 1.4095]\n",
            "Epoch [9/10], batch: [11/13, loss: 1.4032]\n",
            "Epoch [9/10], batch: [12/13, loss: 1.3612]\n",
            "Epoch [9/10], batch: [13/13, loss: 1.4413]\n",
            "Epoch [10/10], batch: [1/13, loss: 1.2931]\n",
            "Epoch [10/10], batch: [2/13, loss: 1.3594]\n",
            "Epoch [10/10], batch: [3/13, loss: 1.4027]\n",
            "Epoch [10/10], batch: [4/13, loss: 1.3109]\n",
            "Epoch [10/10], batch: [5/13, loss: 1.4654]\n",
            "Epoch [10/10], batch: [6/13, loss: 1.3743]\n",
            "Epoch [10/10], batch: [7/13, loss: 1.3760]\n",
            "Epoch [10/10], batch: [8/13, loss: 1.3271]\n",
            "Epoch [10/10], batch: [9/13, loss: 1.3749]\n",
            "Epoch [10/10], batch: [10/13, loss: 1.4103]\n",
            "Epoch [10/10], batch: [11/13, loss: 1.4016]\n",
            "Epoch [10/10], batch: [12/13, loss: 1.3570]\n",
            "Epoch [10/10], batch: [13/13, loss: 1.4398]\n"
          ]
        }
      ]
    },
    {
      "cell_type": "markdown",
      "metadata": {
        "id": "O6ca-I9cbeYL"
      },
      "source": [
        "Let's test the accuracy:"
      ]
    },
    {
      "cell_type": "code",
      "metadata": {
        "id": "G1sOHXrjXZpZ"
      },
      "source": [
        "predictions = []\n",
        "true_labels = []\n",
        "model.eval()  # without dropout and alike not really necessary\n",
        "with torch.no_grad():  # disable gradient computation, since it is only needed when backward() is called\n",
        "    for test_X, test_y in test_loader:\n",
        "        pred_y = model(test_X)\n",
        "        batch_preds = [x.item() for x in torch.argmax(pred_y, dim=-1)]\n",
        "        predictions.extend(batch_preds)\n",
        "        true_labels.extend([y.item() for y in test_y.squeeze()])"
      ],
      "execution_count": 45,
      "outputs": []
    },
    {
      "cell_type": "code",
      "metadata": {
        "colab": {
          "base_uri": "https://localhost:8080/"
        },
        "id": "e4s9S8c1b5NX",
        "outputId": "27adcecf-7631-4581-a0e9-ee13addef3ff"
      },
      "source": [
        "from sklearn.metrics import accuracy_score\n",
        "acc = accuracy_score(true_labels, predictions)\n",
        "acc"
      ],
      "execution_count": 46,
      "outputs": [
        {
          "output_type": "execute_result",
          "data": {
            "text/plain": [
              "0.22"
            ]
          },
          "metadata": {},
          "execution_count": 46
        }
      ]
    }
  ]
}