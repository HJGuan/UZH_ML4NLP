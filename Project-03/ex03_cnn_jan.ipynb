{
  "nbformat": 4,
  "nbformat_minor": 0,
  "metadata": {
    "accelerator": "GPU",
    "colab": {
      "name": "ex03_cnn_jan.ipynb",
      "provenance": [],
      "collapsed_sections": [],
      "machine_shape": "hm",
      "include_colab_link": true
    },
    "kernelspec": {
      "display_name": "Python 3",
      "language": "python",
      "name": "python3"
    },
    "language_info": {
      "codemirror_mode": {
        "name": "ipython",
        "version": 3
      },
      "file_extension": ".py",
      "mimetype": "text/x-python",
      "name": "python",
      "nbconvert_exporter": "python",
      "pygments_lexer": "ipython3",
      "version": "3.7.6"
    }
  },
  "cells": [
    {
      "cell_type": "markdown",
      "metadata": {
        "id": "view-in-github",
        "colab_type": "text"
      },
      "source": [
        "<a href=\"https://colab.research.google.com/github/jan-kreischer/UZH_ML4NLP/blob/main/Project-03/ex03_cnn_jan.ipynb\" target=\"_parent\"><img src=\"https://colab.research.google.com/assets/colab-badge.svg\" alt=\"Open In Colab\"/></a>"
      ]
    },
    {
      "cell_type": "markdown",
      "metadata": {
        "id": "5mUlNUnJ4Ljk"
      },
      "source": [
        "# Project 3 - Language Identification (Reloaded and Convoluted)\n",
        "## 1. Setup\n",
        "### 1.1 Dependencies"
      ]
    },
    {
      "cell_type": "code",
      "metadata": {
        "id": "wP6cVOXj5Rsd"
      },
      "source": [
        "!pip install demoji"
      ],
      "execution_count": null,
      "outputs": []
    },
    {
      "cell_type": "code",
      "metadata": {
        "id": "cQfrfb-95Vd_"
      },
      "source": [
        "!pip install googletrans==4.0.0rc1"
      ],
      "execution_count": null,
      "outputs": []
    },
    {
      "cell_type": "markdown",
      "metadata": {
        "id": "9JKzqZBcvbJk"
      },
      "source": [
        "\n",
        "### 1.2 Imports"
      ]
    },
    {
      "cell_type": "code",
      "metadata": {
        "id": "iUp-pcgyvk7K"
      },
      "source": [
        "# Misc\n",
        "import csv\n",
        "import re\n",
        "from io import StringIO\n",
        "import requests\n",
        "import string\n",
        "import numpy as np\n",
        "import matplotlib.pyplot as plt  \n",
        "import demoji\n",
        "\n",
        "# Pandas\n",
        "import pandas as pd\n",
        "pd.set_option('display.max_rows', 100)\n",
        "pd.options.display.max_rows = 100\n",
        "pd.options.display.max_columns = 100\n",
        "\n",
        "# Warnings\n",
        "import warnings\n",
        "warnings.filterwarnings('ignore')\n",
        "\n",
        "# Back Translation\n",
        "from googletrans import Translator\n",
        "translator = Translator()\n",
        "\n",
        "# Keras\n",
        "from keras.preprocessing.text import Tokenizer\n",
        "from keras.preprocessing.sequence import pad_sequences\n",
        "from keras.models import Sequential\n",
        "from keras.layers import Conv1D, GlobalMaxPooling1D, AveragePooling1D, Dense, Dropout, Activation, Embedding\n",
        "from keras import backend as K\n",
        "from keras.callbacks import EarlyStopping\n",
        "from tensorflow.keras.utils import to_categorical\n",
        "\n",
        "# Torch\n",
        "import torch\n",
        "\n",
        "# Sklearn\n",
        "from sklearn.utils import resample\n",
        "from sklearn.model_selection import train_test_split\n",
        "from sklearn.metrics import confusion_matrix, classification_report, accuracy_score"
      ],
      "execution_count": 115,
      "outputs": []
    },
    {
      "cell_type": "markdown",
      "metadata": {
        "id": "bKjgo1cEEQPw"
      },
      "source": [
        "### 1.2 Environment\n",
        "We check if the environment we are using is properly setup, such that we are using GPU for training our models."
      ]
    },
    {
      "cell_type": "code",
      "metadata": {
        "colab": {
          "base_uri": "https://localhost:8080/"
        },
        "id": "j9Tszg7FdPrZ",
        "outputId": "cd5e0af5-b8dc-4ee9-a565-171ccbf56e6d"
      },
      "source": [
        "# Check if device supports CUDA interface\n",
        "CUDA = torch.cuda.is_available()\n",
        "# Make program run on gpu (cuda:0) if available\n",
        "device = torch.device('cuda:0' if torch.cuda.is_available() else 'cpu:0')\n",
        "torch.cuda.set_device(device)\n",
        "print('Using device:', device)"
      ],
      "execution_count": 7,
      "outputs": [
        {
          "output_type": "stream",
          "name": "stdout",
          "text": [
            "Using device: cuda:0\n"
          ]
        }
      ]
    },
    {
      "cell_type": "code",
      "metadata": {
        "colab": {
          "base_uri": "https://localhost:8080/"
        },
        "id": "v4ZgunZ9qSvu",
        "outputId": "40e8caa2-3a6d-4456-876d-88c8f801daa3"
      },
      "source": [
        "# Check and print information about available GPU\n",
        "gpu_info = !nvidia-smi\n",
        "gpu_info = '\\n'.join(gpu_info)\n",
        "if gpu_info.find('failed') >= 0:\n",
        "  print('Not connected to a GPU')\n",
        "else:\n",
        "  print(gpu_info)"
      ],
      "execution_count": 8,
      "outputs": [
        {
          "output_type": "stream",
          "name": "stdout",
          "text": [
            "Mon Nov  8 13:15:39 2021       \n",
            "+-----------------------------------------------------------------------------+\n",
            "| NVIDIA-SMI 495.44       Driver Version: 460.32.03    CUDA Version: 11.2     |\n",
            "|-------------------------------+----------------------+----------------------+\n",
            "| GPU  Name        Persistence-M| Bus-Id        Disp.A | Volatile Uncorr. ECC |\n",
            "| Fan  Temp  Perf  Pwr:Usage/Cap|         Memory-Usage | GPU-Util  Compute M. |\n",
            "|                               |                      |               MIG M. |\n",
            "|===============================+======================+======================|\n",
            "|   0  Tesla P100-PCIE...  Off  | 00000000:00:04.0 Off |                    0 |\n",
            "| N/A   42C    P0    27W / 250W |      2MiB / 16280MiB |      0%      Default |\n",
            "|                               |                      |                  N/A |\n",
            "+-------------------------------+----------------------+----------------------+\n",
            "                                                                               \n",
            "+-----------------------------------------------------------------------------+\n",
            "| Processes:                                                                  |\n",
            "|  GPU   GI   CI        PID   Type   Process name                  GPU Memory |\n",
            "|        ID   ID                                                   Usage      |\n",
            "|=============================================================================|\n",
            "|  No running processes found                                                 |\n",
            "+-----------------------------------------------------------------------------+\n"
          ]
        }
      ]
    },
    {
      "cell_type": "code",
      "metadata": {
        "colab": {
          "base_uri": "https://localhost:8080/"
        },
        "id": "keYYVJLbnpbD",
        "outputId": "f18669f0-010b-4cfc-ebbe-0b6e4c448824"
      },
      "source": [
        "# Get GPU name\n",
        "!nvidia-smi -L"
      ],
      "execution_count": 9,
      "outputs": [
        {
          "output_type": "stream",
          "name": "stdout",
          "text": [
            "GPU 0: Tesla P100-PCIE-16GB (UUID: GPU-80eb3a39-123a-322e-a52d-cbe57ce77608)\n"
          ]
        }
      ]
    },
    {
      "cell_type": "code",
      "metadata": {
        "colab": {
          "base_uri": "https://localhost:8080/"
        },
        "id": "eGFVru-nqX1n",
        "outputId": "20ca44ea-9af1-4b66-c715-4d39f6c2bc83"
      },
      "source": [
        "# Check Memory\n",
        "from psutil import virtual_memory\n",
        "ram_gb = virtual_memory().total / 1e9\n",
        "print('Your runtime has {:.1f} gigabytes of available RAM\\n'.format(ram_gb))\n",
        "\n",
        "if ram_gb < 20:\n",
        "  print('Not using a high-RAM runtime')\n",
        "else:\n",
        "  print('You are using a high-RAM runtime!')"
      ],
      "execution_count": 10,
      "outputs": [
        {
          "output_type": "stream",
          "name": "stdout",
          "text": [
            "Your runtime has 27.3 gigabytes of available RAM\n",
            "\n",
            "You are using a high-RAM runtime!\n"
          ]
        }
      ]
    },
    {
      "cell_type": "markdown",
      "metadata": {
        "id": "RkIJ7QuNv_lt"
      },
      "source": [
        "### 1.4 Constants"
      ]
    },
    {
      "cell_type": "code",
      "metadata": {
        "id": "DYruJqdrsPOS"
      },
      "source": [
        "TARGET_COLUMN = 'label'\n",
        "TWEET_COLUMN = 'tweet'\n",
        "SAMPLE_THRESHOLD = 100\n",
        "EMBEDDING_DIM = 50\n",
        "MAX_SEQ_LEN = 80"
      ],
      "execution_count": 56,
      "outputs": []
    },
    {
      "cell_type": "markdown",
      "metadata": {
        "id": "DErvchvGwKwa"
      },
      "source": [
        "## 2. Data Acquisition"
      ]
    },
    {
      "cell_type": "code",
      "metadata": {
        "id": "kj4_cIgho3Qt"
      },
      "source": [
        "url_train = 'https://docs.google.com/spreadsheets/d/e/2PACX-1vTOZ2rC82rhNsJduoyKYTsVeH6ukd7Bpxvxn_afOibn3R-eadZGXu82eCU9IRpl4CK_gefEGsYrA_oM/pub?gid=1863430984&single=true&output=tsv'\n",
        "url_test = 'https://docs.google.com/spreadsheets/d/e/2PACX-1vT-KNR9nuYatLkSbzSRgpz6Ku1n4TN4w6kKmFLkA6QJHTfQzmX0puBsLF7PAAQJQAxUpgruDd_RRgK7/pub?gid=417546901&single=true&output=tsv'"
      ],
      "execution_count": 12,
      "outputs": []
    },
    {
      "cell_type": "code",
      "metadata": {
        "id": "bRMJtZczzfOl"
      },
      "source": [
        "def load_dataset(url):\n",
        "  r = requests.get(url)\n",
        "  data = r.content.decode('utf8')\n",
        "  df = pd.read_csv(StringIO(data), sep='\\t')\n",
        "  df.columns = ['tweet', 'label']\n",
        "  return df"
      ],
      "execution_count": 13,
      "outputs": []
    },
    {
      "cell_type": "code",
      "metadata": {
        "id": "BCLdrs43pJC1"
      },
      "source": [
        "df_train = load_dataset(url_train)\n",
        "df_test = load_dataset(url_test)"
      ],
      "execution_count": 14,
      "outputs": []
    },
    {
      "cell_type": "code",
      "metadata": {
        "id": "oHETxIlp1QC7"
      },
      "source": [
        "# Merge into one dataset for the pre-processing\n",
        "# We merge the training and the test data into one dataframe in order\n",
        "# to ensure that training and test data comes from the same distribution\n",
        "# We saw that some languages/ labels do not appear in the training data\n",
        "# while appearing in the test data and the other way around\n",
        "# This is not desirable\n",
        "# Before starting to train we randomly shuffle and split into train and test data\n",
        "dataset = pd.concat([df_train, df_test], axis=0) "
      ],
      "execution_count": 16,
      "outputs": []
    },
    {
      "cell_type": "code",
      "metadata": {
        "colab": {
          "base_uri": "https://localhost:8080/"
        },
        "id": "L0r9fja-1Xn8",
        "outputId": "010be611-6843-423f-a3f1-63080ed621c5"
      },
      "source": [
        "print(\"The length of the combined dataset is {0} training samples + {1} test samples = {2} samples\".format(len(df_train), len(df_test), len(dataset)))"
      ],
      "execution_count": 17,
      "outputs": [
        {
          "output_type": "stream",
          "name": "stdout",
          "text": [
            "The length of the combined dataset is 52675 training samples + 13279 test samples = 65954 samples\n"
          ]
        }
      ]
    },
    {
      "cell_type": "code",
      "metadata": {
        "id": "vUvnhpzX1xAg"
      },
      "source": [
        "dataset = dataset.sample(frac=1).reset_index(drop=True) # Randomly shuffle the data"
      ],
      "execution_count": 18,
      "outputs": []
    },
    {
      "cell_type": "code",
      "metadata": {
        "colab": {
          "base_uri": "https://localhost:8080/",
          "height": 350
        },
        "id": "uywVxiRt1kDt",
        "outputId": "8f19e881-7035-4846-fecc-229b5cef78ce"
      },
      "source": [
        "dataset.head(10) # Show some sample tweets"
      ],
      "execution_count": 19,
      "outputs": [
        {
          "output_type": "execute_result",
          "data": {
            "text/html": [
              "<div>\n",
              "<style scoped>\n",
              "    .dataframe tbody tr th:only-of-type {\n",
              "        vertical-align: middle;\n",
              "    }\n",
              "\n",
              "    .dataframe tbody tr th {\n",
              "        vertical-align: top;\n",
              "    }\n",
              "\n",
              "    .dataframe thead th {\n",
              "        text-align: right;\n",
              "    }\n",
              "</style>\n",
              "<table border=\"1\" class=\"dataframe\">\n",
              "  <thead>\n",
              "    <tr style=\"text-align: right;\">\n",
              "      <th></th>\n",
              "      <th>tweet</th>\n",
              "      <th>label</th>\n",
              "    </tr>\n",
              "  </thead>\n",
              "  <tbody>\n",
              "    <tr>\n",
              "      <th>0</th>\n",
              "      <td>@minaahmorv thanks mbak</td>\n",
              "      <td>en</td>\n",
              "    </tr>\n",
              "    <tr>\n",
              "      <th>1</th>\n",
              "      <td>腹減った♪</td>\n",
              "      <td>ja</td>\n",
              "    </tr>\n",
              "    <tr>\n",
              "      <th>2</th>\n",
              "      <td>@Rach_Louu got anything in mind? X</td>\n",
              "      <td>en</td>\n",
              "    </tr>\n",
              "    <tr>\n",
              "      <th>3</th>\n",
              "      <td>THREE #MTVHottest Little Mix</td>\n",
              "      <td>en</td>\n",
              "    </tr>\n",
              "    <tr>\n",
              "      <th>4</th>\n",
              "      <td>#NowPlaying If I Were A Boy by Beyoncé</td>\n",
              "      <td>en</td>\n",
              "    </tr>\n",
              "    <tr>\n",
              "      <th>5</th>\n",
              "      <td>告白日和ギリギリクリアできた…！www http://t.co/5zc61NuWuZ</td>\n",
              "      <td>ja</td>\n",
              "    </tr>\n",
              "    <tr>\n",
              "      <th>6</th>\n",
              "      <td>@sharonclau ujian jam 11 sher, tp jam 8 mau ad...</td>\n",
              "      <td>id</td>\n",
              "    </tr>\n",
              "    <tr>\n",
              "      <th>7</th>\n",
              "      <td>---&amp;gt; http://t.co/RJjLnVaUKI</td>\n",
              "      <td>und</td>\n",
              "    </tr>\n",
              "    <tr>\n",
              "      <th>8</th>\n",
              "      <td>s #MTVHottest One Direction</td>\n",
              "      <td>en</td>\n",
              "    </tr>\n",
              "    <tr>\n",
              "      <th>9</th>\n",
              "      <td>When we smoke we gotta use them incense baby</td>\n",
              "      <td>en</td>\n",
              "    </tr>\n",
              "  </tbody>\n",
              "</table>\n",
              "</div>"
            ],
            "text/plain": [
              "                                               tweet label\n",
              "0                            @minaahmorv thanks mbak    en\n",
              "1                                              腹減った♪    ja\n",
              "2                 @Rach_Louu got anything in mind? X    en\n",
              "3                       THREE #MTVHottest Little Mix    en\n",
              "4             #NowPlaying If I Were A Boy by Beyoncé    en\n",
              "5         告白日和ギリギリクリアできた…！www http://t.co/5zc61NuWuZ    ja\n",
              "6  @sharonclau ujian jam 11 sher, tp jam 8 mau ad...    id\n",
              "7                     ---&gt; http://t.co/RJjLnVaUKI   und\n",
              "8                        s #MTVHottest One Direction    en\n",
              "9       When we smoke we gotta use them incense baby    en"
            ]
          },
          "metadata": {},
          "execution_count": 19
        }
      ]
    },
    {
      "cell_type": "markdown",
      "metadata": {
        "id": "7OZ3EaAQ6Ahq"
      },
      "source": [
        "## 3. Data Exploration"
      ]
    },
    {
      "cell_type": "code",
      "metadata": {
        "id": "heZh4YHxhhQA"
      },
      "source": [
        "def data_exploration(df):\n",
        "  n_labels = len(np.unique(df[\"label\"]))\n",
        "  df = df.sort_values('label')\n",
        "  print(\"Dataset contains the columns: {}\".format(list(df.keys())))\n",
        "  print(\"with a total of {} observations\".format(len(df)))\n",
        "  print(\"and {} different possible labels.\".format(n_labels))\n",
        "  print(\"The unique labels are {}\".format(df[\"label\"].unique()))\n",
        "  plt.figure(figsize=(15, 3))\n",
        "  plt.hist(df[\"label\"], bins=n_labels)\n",
        "  plt.xticks(rotation=90)\n",
        "  plt.yscale(\"log\")\n",
        "  plt.xlabel(\"Language\")\n",
        "  plt.ylabel(\"#Occurences\")\n",
        "  plt.show()"
      ],
      "execution_count": 20,
      "outputs": []
    },
    {
      "cell_type": "code",
      "metadata": {
        "id": "G4Z5fpaX76xr"
      },
      "source": [
        "# This function checks which lanugages occur in the full dataset less than 'SAMPLE_THRESHOLD' times.\n",
        "# These languages are then returned as the list of underrepresented languages\n",
        "def get_underrepresented_languages(df, target_column, sample_threshold):\n",
        "    df = df.groupby(target_column).size().to_frame().reset_index(drop=False).rename(columns={0: 'occurences'})\n",
        "    underrepresented_languages = list(df[df['occurences'] < SAMPLE_THRESHOLD][target_column])\n",
        "    return underrepresented_languages"
      ],
      "execution_count": 21,
      "outputs": []
    },
    {
      "cell_type": "code",
      "metadata": {
        "id": "Syyazhl683ZK"
      },
      "source": [
        "def print_number_of_underrepresented_languages(df, target_column, sample_threshold):\n",
        "  underrepresented_languages = get_underrepresented_languages(df, target_column, sample_threshold)\n",
        "  print(\"There are {} languages in this data set with less then {} samples.\".format(len(underrepresented_languages), sample_threshold))"
      ],
      "execution_count": 22,
      "outputs": []
    },
    {
      "cell_type": "code",
      "metadata": {
        "colab": {
          "base_uri": "https://localhost:8080/",
          "height": 418
        },
        "id": "IZtCEi7_hYQW",
        "outputId": "9b3ca29a-df0c-4fd1-cce7-a9aa75cb3e84"
      },
      "source": [
        "data_exploration(dataset)"
      ],
      "execution_count": 23,
      "outputs": [
        {
          "output_type": "stream",
          "name": "stdout",
          "text": [
            "Dataset contains the columns: ['tweet', 'label']\n",
            "with a total of 65954 observations\n",
            "and 78 different possible labels.\n",
            "The unique labels are ['ar' 'ar_LATN' 'az' 'bg' 'bn' 'bs' 'ca' 'cs' 'cy' 'da' 'de' 'dv' 'el'\n",
            " 'en' 'es' 'et' 'eu' 'fa' 'fi' 'fr' 'gl' 'ha' 'he' 'hi' 'hi-Latn' 'hr'\n",
            " 'ht' 'hu' 'hy' 'id' 'is' 'it' 'ja' 'ja_LATN' 'jv' 'km' 'ko' 'ko_LATN'\n",
            " 'la' 'lv' 'mk' 'mn' 'mr' 'ms' 'ne' 'nl' 'no' 'pl' 'ps' 'ps_LATN' 'pt'\n",
            " 'ro' 'ru' 'si' 'sk' 'sl' 'sq' 'sr' 'su' 'sv' 'sw' 'ta' 'ta_LATN' 'th'\n",
            " 'tl' 'tn' 'tr' 'uk' 'und' 'ur' 'ur_LATN' 'vi' 'wo' 'xh' 'yo' 'zh-CN'\n",
            " 'zh-TW' 'zu']\n"
          ]
        },
        {
          "output_type": "display_data",
          "data": {
            "image/png": "[encoded data removed]",
            "text/plain": [
              "<Figure size 1080x216 with 1 Axes>"
            ]
          },
          "metadata": {
            "needs_background": "light"
          }
        }
      ]
    },
    {
      "cell_type": "code",
      "metadata": {
        "id": "DLPZXkaLCH3s",
        "colab": {
          "base_uri": "https://localhost:8080/"
        },
        "outputId": "cad79899-367d-4a51-8ab0-88d3ce8b68ab"
      },
      "source": [
        "print_number_of_underrepresented_languages(dataset, TARGET_COLUMN, SAMPLE_THRESHOLD)"
      ],
      "execution_count": 24,
      "outputs": [
        {
          "output_type": "stream",
          "name": "stdout",
          "text": [
            "There are 50 languages in this data set with less then 20 samples.\n"
          ]
        }
      ]
    },
    {
      "cell_type": "code",
      "metadata": {
        "id": "G1S1KOKWqy1E",
        "colab": {
          "base_uri": "https://localhost:8080/",
          "height": 1000
        },
        "outputId": "6c47ac5e-5e4c-4518-e1a4-7301842308cb"
      },
      "source": [
        "# Display all languages and their absolute number off occurences in descending order\n",
        "language_count=dataset[TARGET_COLUMN].value_counts().reset_index()\n",
        "language_count\n",
        "df = pd.DataFrame(language_count)\n",
        "df.columns = ['language', 'occurences']\n",
        "df"
      ],
      "execution_count": 25,
      "outputs": [
        {
          "output_type": "execute_result",
          "data": {
            "text/html": [
              "<div>\n",
              "<style scoped>\n",
              "    .dataframe tbody tr th:only-of-type {\n",
              "        vertical-align: middle;\n",
              "    }\n",
              "\n",
              "    .dataframe tbody tr th {\n",
              "        vertical-align: top;\n",
              "    }\n",
              "\n",
              "    .dataframe thead th {\n",
              "        text-align: right;\n",
              "    }\n",
              "</style>\n",
              "<table border=\"1\" class=\"dataframe\">\n",
              "  <thead>\n",
              "    <tr style=\"text-align: right;\">\n",
              "      <th></th>\n",
              "      <th>language</th>\n",
              "      <th>occurences</th>\n",
              "    </tr>\n",
              "  </thead>\n",
              "  <tbody>\n",
              "    <tr>\n",
              "      <th>0</th>\n",
              "      <td>en</td>\n",
              "      <td>23266</td>\n",
              "    </tr>\n",
              "    <tr>\n",
              "      <th>1</th>\n",
              "      <td>ja</td>\n",
              "      <td>12899</td>\n",
              "    </tr>\n",
              "    <tr>\n",
              "      <th>2</th>\n",
              "      <td>es</td>\n",
              "      <td>7406</td>\n",
              "    </tr>\n",
              "    <tr>\n",
              "      <th>3</th>\n",
              "      <td>und</td>\n",
              "      <td>5766</td>\n",
              "    </tr>\n",
              "    <tr>\n",
              "      <th>4</th>\n",
              "      <td>id</td>\n",
              "      <td>3823</td>\n",
              "    </tr>\n",
              "    <tr>\n",
              "      <th>5</th>\n",
              "      <td>pt</td>\n",
              "      <td>3577</td>\n",
              "    </tr>\n",
              "    <tr>\n",
              "      <th>6</th>\n",
              "      <td>ar</td>\n",
              "      <td>2728</td>\n",
              "    </tr>\n",
              "    <tr>\n",
              "      <th>7</th>\n",
              "      <td>ru</td>\n",
              "      <td>1221</td>\n",
              "    </tr>\n",
              "    <tr>\n",
              "      <th>8</th>\n",
              "      <td>fr</td>\n",
              "      <td>1170</td>\n",
              "    </tr>\n",
              "    <tr>\n",
              "      <th>9</th>\n",
              "      <td>tr</td>\n",
              "      <td>843</td>\n",
              "    </tr>\n",
              "    <tr>\n",
              "      <th>10</th>\n",
              "      <td>ko</td>\n",
              "      <td>568</td>\n",
              "    </tr>\n",
              "    <tr>\n",
              "      <th>11</th>\n",
              "      <td>th</td>\n",
              "      <td>560</td>\n",
              "    </tr>\n",
              "    <tr>\n",
              "      <th>12</th>\n",
              "      <td>it</td>\n",
              "      <td>415</td>\n",
              "    </tr>\n",
              "    <tr>\n",
              "      <th>13</th>\n",
              "      <td>tl</td>\n",
              "      <td>409</td>\n",
              "    </tr>\n",
              "    <tr>\n",
              "      <th>14</th>\n",
              "      <td>nl</td>\n",
              "      <td>225</td>\n",
              "    </tr>\n",
              "    <tr>\n",
              "      <th>15</th>\n",
              "      <td>de</td>\n",
              "      <td>221</td>\n",
              "    </tr>\n",
              "    <tr>\n",
              "      <th>16</th>\n",
              "      <td>ms</td>\n",
              "      <td>150</td>\n",
              "    </tr>\n",
              "    <tr>\n",
              "      <th>17</th>\n",
              "      <td>pl</td>\n",
              "      <td>119</td>\n",
              "    </tr>\n",
              "    <tr>\n",
              "      <th>18</th>\n",
              "      <td>sv</td>\n",
              "      <td>69</td>\n",
              "    </tr>\n",
              "    <tr>\n",
              "      <th>19</th>\n",
              "      <td>he</td>\n",
              "      <td>41</td>\n",
              "    </tr>\n",
              "    <tr>\n",
              "      <th>20</th>\n",
              "      <td>el</td>\n",
              "      <td>39</td>\n",
              "    </tr>\n",
              "    <tr>\n",
              "      <th>21</th>\n",
              "      <td>sr</td>\n",
              "      <td>29</td>\n",
              "    </tr>\n",
              "    <tr>\n",
              "      <th>22</th>\n",
              "      <td>zh-CN</td>\n",
              "      <td>26</td>\n",
              "    </tr>\n",
              "    <tr>\n",
              "      <th>23</th>\n",
              "      <td>ca</td>\n",
              "      <td>25</td>\n",
              "    </tr>\n",
              "    <tr>\n",
              "      <th>24</th>\n",
              "      <td>fi</td>\n",
              "      <td>23</td>\n",
              "    </tr>\n",
              "    <tr>\n",
              "      <th>25</th>\n",
              "      <td>fa</td>\n",
              "      <td>23</td>\n",
              "    </tr>\n",
              "    <tr>\n",
              "      <th>26</th>\n",
              "      <td>vi</td>\n",
              "      <td>21</td>\n",
              "    </tr>\n",
              "    <tr>\n",
              "      <th>27</th>\n",
              "      <td>hi</td>\n",
              "      <td>20</td>\n",
              "    </tr>\n",
              "    <tr>\n",
              "      <th>28</th>\n",
              "      <td>hi-Latn</td>\n",
              "      <td>19</td>\n",
              "    </tr>\n",
              "    <tr>\n",
              "      <th>29</th>\n",
              "      <td>uk</td>\n",
              "      <td>18</td>\n",
              "    </tr>\n",
              "    <tr>\n",
              "      <th>30</th>\n",
              "      <td>ar_LATN</td>\n",
              "      <td>15</td>\n",
              "    </tr>\n",
              "    <tr>\n",
              "      <th>31</th>\n",
              "      <td>hu</td>\n",
              "      <td>15</td>\n",
              "    </tr>\n",
              "    <tr>\n",
              "      <th>32</th>\n",
              "      <td>zh-TW</td>\n",
              "      <td>14</td>\n",
              "    </tr>\n",
              "    <tr>\n",
              "      <th>33</th>\n",
              "      <td>ro</td>\n",
              "      <td>14</td>\n",
              "    </tr>\n",
              "    <tr>\n",
              "      <th>34</th>\n",
              "      <td>ur_LATN</td>\n",
              "      <td>13</td>\n",
              "    </tr>\n",
              "    <tr>\n",
              "      <th>35</th>\n",
              "      <td>ta</td>\n",
              "      <td>12</td>\n",
              "    </tr>\n",
              "    <tr>\n",
              "      <th>36</th>\n",
              "      <td>ur</td>\n",
              "      <td>12</td>\n",
              "    </tr>\n",
              "    <tr>\n",
              "      <th>37</th>\n",
              "      <td>no</td>\n",
              "      <td>12</td>\n",
              "    </tr>\n",
              "    <tr>\n",
              "      <th>38</th>\n",
              "      <td>jv</td>\n",
              "      <td>11</td>\n",
              "    </tr>\n",
              "    <tr>\n",
              "      <th>39</th>\n",
              "      <td>su</td>\n",
              "      <td>10</td>\n",
              "    </tr>\n",
              "    <tr>\n",
              "      <th>40</th>\n",
              "      <td>sq</td>\n",
              "      <td>9</td>\n",
              "    </tr>\n",
              "    <tr>\n",
              "      <th>41</th>\n",
              "      <td>bn</td>\n",
              "      <td>8</td>\n",
              "    </tr>\n",
              "    <tr>\n",
              "      <th>42</th>\n",
              "      <td>da</td>\n",
              "      <td>8</td>\n",
              "    </tr>\n",
              "    <tr>\n",
              "      <th>43</th>\n",
              "      <td>sw</td>\n",
              "      <td>8</td>\n",
              "    </tr>\n",
              "    <tr>\n",
              "      <th>44</th>\n",
              "      <td>hr</td>\n",
              "      <td>6</td>\n",
              "    </tr>\n",
              "    <tr>\n",
              "      <th>45</th>\n",
              "      <td>ne</td>\n",
              "      <td>5</td>\n",
              "    </tr>\n",
              "    <tr>\n",
              "      <th>46</th>\n",
              "      <td>bs</td>\n",
              "      <td>5</td>\n",
              "    </tr>\n",
              "    <tr>\n",
              "      <th>47</th>\n",
              "      <td>cs</td>\n",
              "      <td>5</td>\n",
              "    </tr>\n",
              "    <tr>\n",
              "      <th>48</th>\n",
              "      <td>lv</td>\n",
              "      <td>5</td>\n",
              "    </tr>\n",
              "    <tr>\n",
              "      <th>49</th>\n",
              "      <td>bg</td>\n",
              "      <td>4</td>\n",
              "    </tr>\n",
              "    <tr>\n",
              "      <th>50</th>\n",
              "      <td>gl</td>\n",
              "      <td>3</td>\n",
              "    </tr>\n",
              "    <tr>\n",
              "      <th>51</th>\n",
              "      <td>km</td>\n",
              "      <td>3</td>\n",
              "    </tr>\n",
              "    <tr>\n",
              "      <th>52</th>\n",
              "      <td>az</td>\n",
              "      <td>3</td>\n",
              "    </tr>\n",
              "    <tr>\n",
              "      <th>53</th>\n",
              "      <td>ht</td>\n",
              "      <td>3</td>\n",
              "    </tr>\n",
              "    <tr>\n",
              "      <th>54</th>\n",
              "      <td>ko_LATN</td>\n",
              "      <td>2</td>\n",
              "    </tr>\n",
              "    <tr>\n",
              "      <th>55</th>\n",
              "      <td>xh</td>\n",
              "      <td>2</td>\n",
              "    </tr>\n",
              "    <tr>\n",
              "      <th>56</th>\n",
              "      <td>et</td>\n",
              "      <td>2</td>\n",
              "    </tr>\n",
              "    <tr>\n",
              "      <th>57</th>\n",
              "      <td>ta_LATN</td>\n",
              "      <td>2</td>\n",
              "    </tr>\n",
              "    <tr>\n",
              "      <th>58</th>\n",
              "      <td>hy</td>\n",
              "      <td>2</td>\n",
              "    </tr>\n",
              "    <tr>\n",
              "      <th>59</th>\n",
              "      <td>sl</td>\n",
              "      <td>2</td>\n",
              "    </tr>\n",
              "    <tr>\n",
              "      <th>60</th>\n",
              "      <td>ja_LATN</td>\n",
              "      <td>2</td>\n",
              "    </tr>\n",
              "    <tr>\n",
              "      <th>61</th>\n",
              "      <td>eu</td>\n",
              "      <td>2</td>\n",
              "    </tr>\n",
              "    <tr>\n",
              "      <th>62</th>\n",
              "      <td>la</td>\n",
              "      <td>1</td>\n",
              "    </tr>\n",
              "    <tr>\n",
              "      <th>63</th>\n",
              "      <td>ha</td>\n",
              "      <td>1</td>\n",
              "    </tr>\n",
              "    <tr>\n",
              "      <th>64</th>\n",
              "      <td>wo</td>\n",
              "      <td>1</td>\n",
              "    </tr>\n",
              "    <tr>\n",
              "      <th>65</th>\n",
              "      <td>cy</td>\n",
              "      <td>1</td>\n",
              "    </tr>\n",
              "    <tr>\n",
              "      <th>66</th>\n",
              "      <td>zu</td>\n",
              "      <td>1</td>\n",
              "    </tr>\n",
              "    <tr>\n",
              "      <th>67</th>\n",
              "      <td>mr</td>\n",
              "      <td>1</td>\n",
              "    </tr>\n",
              "    <tr>\n",
              "      <th>68</th>\n",
              "      <td>mk</td>\n",
              "      <td>1</td>\n",
              "    </tr>\n",
              "    <tr>\n",
              "      <th>69</th>\n",
              "      <td>mn</td>\n",
              "      <td>1</td>\n",
              "    </tr>\n",
              "    <tr>\n",
              "      <th>70</th>\n",
              "      <td>dv</td>\n",
              "      <td>1</td>\n",
              "    </tr>\n",
              "    <tr>\n",
              "      <th>71</th>\n",
              "      <td>ps</td>\n",
              "      <td>1</td>\n",
              "    </tr>\n",
              "    <tr>\n",
              "      <th>72</th>\n",
              "      <td>si</td>\n",
              "      <td>1</td>\n",
              "    </tr>\n",
              "    <tr>\n",
              "      <th>73</th>\n",
              "      <td>ps_LATN</td>\n",
              "      <td>1</td>\n",
              "    </tr>\n",
              "    <tr>\n",
              "      <th>74</th>\n",
              "      <td>tn</td>\n",
              "      <td>1</td>\n",
              "    </tr>\n",
              "    <tr>\n",
              "      <th>75</th>\n",
              "      <td>sk</td>\n",
              "      <td>1</td>\n",
              "    </tr>\n",
              "    <tr>\n",
              "      <th>76</th>\n",
              "      <td>yo</td>\n",
              "      <td>1</td>\n",
              "    </tr>\n",
              "    <tr>\n",
              "      <th>77</th>\n",
              "      <td>is</td>\n",
              "      <td>1</td>\n",
              "    </tr>\n",
              "  </tbody>\n",
              "</table>\n",
              "</div>"
            ],
            "text/plain": [
              "   language  occurences\n",
              "0        en       23266\n",
              "1        ja       12899\n",
              "2        es        7406\n",
              "3       und        5766\n",
              "4        id        3823\n",
              "5        pt        3577\n",
              "6        ar        2728\n",
              "7        ru        1221\n",
              "8        fr        1170\n",
              "9        tr         843\n",
              "10       ko         568\n",
              "11       th         560\n",
              "12       it         415\n",
              "13       tl         409\n",
              "14       nl         225\n",
              "15       de         221\n",
              "16       ms         150\n",
              "17       pl         119\n",
              "18       sv          69\n",
              "19       he          41\n",
              "20       el          39\n",
              "21       sr          29\n",
              "22    zh-CN          26\n",
              "23       ca          25\n",
              "24       fi          23\n",
              "25       fa          23\n",
              "26       vi          21\n",
              "27       hi          20\n",
              "28  hi-Latn          19\n",
              "29       uk          18\n",
              "30  ar_LATN          15\n",
              "31       hu          15\n",
              "32    zh-TW          14\n",
              "33       ro          14\n",
              "34  ur_LATN          13\n",
              "35       ta          12\n",
              "36       ur          12\n",
              "37       no          12\n",
              "38       jv          11\n",
              "39       su          10\n",
              "40       sq           9\n",
              "41       bn           8\n",
              "42       da           8\n",
              "43       sw           8\n",
              "44       hr           6\n",
              "45       ne           5\n",
              "46       bs           5\n",
              "47       cs           5\n",
              "48       lv           5\n",
              "49       bg           4\n",
              "50       gl           3\n",
              "51       km           3\n",
              "52       az           3\n",
              "53       ht           3\n",
              "54  ko_LATN           2\n",
              "55       xh           2\n",
              "56       et           2\n",
              "57  ta_LATN           2\n",
              "58       hy           2\n",
              "59       sl           2\n",
              "60  ja_LATN           2\n",
              "61       eu           2\n",
              "62       la           1\n",
              "63       ha           1\n",
              "64       wo           1\n",
              "65       cy           1\n",
              "66       zu           1\n",
              "67       mr           1\n",
              "68       mk           1\n",
              "69       mn           1\n",
              "70       dv           1\n",
              "71       ps           1\n",
              "72       si           1\n",
              "73  ps_LATN           1\n",
              "74       tn           1\n",
              "75       sk           1\n",
              "76       yo           1\n",
              "77       is           1"
            ]
          },
          "metadata": {},
          "execution_count": 25
        }
      ]
    },
    {
      "cell_type": "markdown",
      "metadata": {
        "id": "IYLOL2_B5OrT"
      },
      "source": [
        "## 4. Text Cleaning"
      ]
    },
    {
      "cell_type": "markdown",
      "metadata": {
        "id": "np67DQkz5JEm"
      },
      "source": [
        "This is generally a good idea as many text classification tools rely on counting the occurrences of words. If both upper and lower case versions of the same word are found in the text then the algorithm will count them as different words even though the meaning is the same. Of course this does mean that where the capitalised versions of a word exists, that does have a different meaning. For example the company Apple vs the fruit apple. This could result in poorer performance for some data sets. This is one area of NLP where you may try different methods to see how they affect the overall performance of the model. We decided to transform our corpus into lowercase, since the case wont have\n",
        "a big influence on the language classification performance"
      ]
    },
    {
      "cell_type": "code",
      "metadata": {
        "id": "vsh1XvSsAwYL"
      },
      "source": [
        "def remove_all_emojis(text):\n",
        "  dem = demoji.findall(text)\n",
        "  for item in dem.keys():\n",
        "    text = text.replace(item, '')\n",
        "  return text"
      ],
      "execution_count": 26,
      "outputs": []
    },
    {
      "cell_type": "code",
      "metadata": {
        "id": "kQfxTUB36n4C"
      },
      "source": [
        "def clean_data(df, column):\n",
        "    df = df.copy(deep=True) # Make deep copy of tweets\n",
        "    df[column] = df[column].str.lower() # Transform into all lowercase\n",
        "    \n",
        "    patterns = []\n",
        "    retweet_pattern = '^RT'\n",
        "    patterns.append(retweet_pattern)\n",
        "    xml_pattern = '&\\S+;'\n",
        "    patterns.append(xml_pattern)\n",
        "    hashtag_pattern = '#[A-Za-z0-9_]+'\n",
        "    patterns.append(hashtag_pattern)\n",
        "    twitter_mention_pattern = '@[A-Za-z0-9_]+'\n",
        "    patterns.append(twitter_mention_pattern)\n",
        "    http_pattern = 'http\\S+'\n",
        "    patterns.append(http_pattern)\n",
        "    www_pattern = 'www\\S+'\n",
        "    patterns.append(www_pattern)\n",
        "    tab_pattern = '\\t'\n",
        "    patterns.append(tab_pattern)\n",
        "    punctuation_pattern = '[!\"#$%&\\\\()*+,-./:;<=>?@\\[\\]^_`\\'{}~]+'\n",
        "    patterns.append(punctuation_pattern)\n",
        "    numeric_pattern = '[0-9]+'\n",
        "    patterns.append(numeric_pattern)\n",
        "    regex = \"|\".join(patterns)\n",
        "\n",
        "    #df[column] = df[column].apply(lambda elem: re.sub(r\"(@[A-Za-z0-9]+)|([^0-9A-Za-z \\t])|(\\w+:\\/\\/\\S+)|^rt|http.+?\", \"\", elem)) \n",
        "    df[column] = df[column].apply(lambda elem: re.sub(r\"{}\".format(regex), \"\", elem))\n",
        "    df[column] = df[column].apply(remove_all_emojis)\n",
        "    \n",
        "    return df"
      ],
      "execution_count": 27,
      "outputs": []
    },
    {
      "cell_type": "code",
      "metadata": {
        "id": "ht7tAk-r5Re8"
      },
      "source": [
        "cleaned_dataset = clean_data(dataset, TWEET_COLUMN)"
      ],
      "execution_count": 28,
      "outputs": []
    },
    {
      "cell_type": "markdown",
      "metadata": {
        "id": "go29EMqShzcu"
      },
      "source": [
        "## 5.Data Augmentation\n",
        "We consider languages which have less then 100 sample tweets in the dataset as infrequent. You can either remove these infrequent languages or use augmentation or upsampling techniques to increase the language frequency.\n",
        "We decided to use back translation in order to keep infrequent languages but increase their frequency.\n"
      ]
    },
    {
      "cell_type": "code",
      "metadata": {
        "id": "a8qkq-4MKosP"
      },
      "source": [
        "def back_translation(df,target_languages=['en']):\n",
        "  translated_data = pd.DataFrame(columns={TWEET_COLUMN, TARGET_COLUMN})\n",
        "  for target_language in target_languages:\n",
        "    for index, row in df.iterrows():\n",
        "      try:\n",
        "        tweet = row[TWEET_COLUMN]\n",
        "        source_language = row[TARGET_COLUMN]\n",
        "        translated_data=translated_data.append({'tweet': translator.translate(translator.translate(tweet, dest=target_language).text, dest=source_language).text, 'label': source_language}, ignore_index=True)\n",
        "      except Exception as e:\n",
        "        pass\n",
        "  return translated_data"
      ],
      "execution_count": 32,
      "outputs": []
    },
    {
      "cell_type": "code",
      "metadata": {
        "colab": {
          "base_uri": "https://localhost:8080/"
        },
        "id": "3iev8EdrRQG2",
        "outputId": "ba5e5437-25e6-4054-bde1-46f53b440d28"
      },
      "source": [
        "print_number_of_underrepresented_languages(cleaned_dataset, TARGET_COLUMN, SAMPLE_THRESHOLD)"
      ],
      "execution_count": 33,
      "outputs": [
        {
          "output_type": "stream",
          "name": "stdout",
          "text": [
            "There are 60 languages in this data set with less then 100 samples.\n"
          ]
        }
      ]
    },
    {
      "cell_type": "code",
      "metadata": {
        "colab": {
          "base_uri": "https://localhost:8080/"
        },
        "id": "iPZhejNxdCFn",
        "outputId": "121f3ee7-c624-4191-8071-6a42e683a389"
      },
      "source": [
        "# Print the list of underrepresented languages\n",
        "underrepresented_languages = get_underrepresented_languages(cleaned_dataset, TARGET_COLUMN, SAMPLE_THRESHOLD)\n",
        "print(underrepresented_languages)"
      ],
      "execution_count": 37,
      "outputs": [
        {
          "output_type": "stream",
          "name": "stdout",
          "text": [
            "['ar_LATN', 'az', 'bg', 'bn', 'bs', 'ca', 'cs', 'cy', 'da', 'dv', 'el', 'et', 'eu', 'fa', 'fi', 'gl', 'ha', 'he', 'hi', 'hi-Latn', 'hr', 'ht', 'hu', 'hy', 'is', 'ja_LATN', 'jv', 'km', 'ko_LATN', 'la', 'lv', 'mk', 'mn', 'mr', 'ne', 'no', 'ps', 'ps_LATN', 'ro', 'si', 'sk', 'sl', 'sq', 'sr', 'su', 'sv', 'sw', 'ta', 'ta_LATN', 'tn', 'uk', 'ur', 'ur_LATN', 'vi', 'wo', 'xh', 'yo', 'zh-CN', 'zh-TW', 'zu']\n"
          ]
        }
      ]
    },
    {
      "cell_type": "code",
      "metadata": {
        "colab": {
          "base_uri": "https://localhost:8080/"
        },
        "id": "amnYMOOJ1xRA",
        "outputId": "d89f4b29-3be1-4fcc-f3c5-6ab8535f82ea"
      },
      "source": [
        "# Increasing the number of rare languages by backtranslation\n",
        "upsampled_dataset = cleaned_dataset.copy()\n",
        "\n",
        "for l in underrepresented_languages:\n",
        "  underrepresented_language = upsampled_dataset[upsampled_dataset[TARGET_COLUMN]==l]\n",
        "  upsampled_dataset.drop(upsampled_dataset[upsampled_dataset[TARGET_COLUMN]==l].index, inplace = True, axis=0)\n",
        "  len_first = len(underrepresented_language)\n",
        "\n",
        "  if not l.endswith('latn'): # Only run the upsamling for non latn languages\n",
        "    underrepresented_language = pd.concat([underrepresented_language, back_translation(underrepresented_language)], axis=0) # run back translation\n",
        "  \n",
        "  len_second = len(underrepresented_language)\n",
        "  if(len_second < SAMPLE_THRESHOLD):\n",
        "    underrepresented_language = resample(underrepresented_language, n_samples=SAMPLE_THRESHOLD)\n",
        "  len_third = len(underrepresented_language)\n",
        "  \n",
        "  print(\"({0}): #{1}=>back_translation=>#{2}=>resampling=>#{3}\".format(l, len_first, len_second, len_third))\n",
        "  upsampled_dataset = pd.concat([upsampled_dataset, underrepresented_language], axis=0)"
      ],
      "execution_count": 43,
      "outputs": [
        {
          "output_type": "stream",
          "name": "stdout",
          "text": [
            "(ar_LATN): #15=>back_translation=>#30=>resampling=>#100\n",
            "(az): #3=>back_translation=>#6=>resampling=>#100\n",
            "(bg): #4=>back_translation=>#8=>resampling=>#100\n",
            "(bn): #8=>back_translation=>#16=>resampling=>#100\n",
            "(bs): #5=>back_translation=>#10=>resampling=>#100\n",
            "(ca): #25=>back_translation=>#50=>resampling=>#100\n",
            "(cs): #5=>back_translation=>#10=>resampling=>#100\n",
            "(cy): #1=>back_translation=>#2=>resampling=>#100\n",
            "(da): #8=>back_translation=>#16=>resampling=>#100\n",
            "(dv): #1=>back_translation=>#1=>resampling=>#100\n",
            "(el): #39=>back_translation=>#78=>resampling=>#100\n",
            "(et): #2=>back_translation=>#4=>resampling=>#100\n",
            "(eu): #2=>back_translation=>#4=>resampling=>#100\n",
            "(fa): #23=>back_translation=>#46=>resampling=>#100\n",
            "(fi): #23=>back_translation=>#46=>resampling=>#100\n",
            "(gl): #3=>back_translation=>#6=>resampling=>#100\n",
            "(ha): #1=>back_translation=>#2=>resampling=>#100\n",
            "(he): #41=>back_translation=>#82=>resampling=>#100\n",
            "(hi): #20=>back_translation=>#40=>resampling=>#100\n",
            "(hi-Latn): #19=>back_translation=>#19=>resampling=>#100\n",
            "(hr): #6=>back_translation=>#12=>resampling=>#100\n",
            "(ht): #3=>back_translation=>#6=>resampling=>#100\n",
            "(hu): #15=>back_translation=>#30=>resampling=>#100\n",
            "(hy): #2=>back_translation=>#4=>resampling=>#100\n",
            "(is): #1=>back_translation=>#2=>resampling=>#100\n",
            "(ja_LATN): #2=>back_translation=>#4=>resampling=>#100\n",
            "(jv): #11=>back_translation=>#11=>resampling=>#100\n",
            "(km): #3=>back_translation=>#6=>resampling=>#100\n",
            "(ko_LATN): #2=>back_translation=>#4=>resampling=>#100\n",
            "(la): #1=>back_translation=>#2=>resampling=>#100\n",
            "(lv): #5=>back_translation=>#10=>resampling=>#100\n",
            "(mk): #1=>back_translation=>#2=>resampling=>#100\n",
            "(mn): #1=>back_translation=>#2=>resampling=>#100\n",
            "(mr): #1=>back_translation=>#2=>resampling=>#100\n",
            "(ne): #5=>back_translation=>#10=>resampling=>#100\n",
            "(no): #12=>back_translation=>#24=>resampling=>#100\n",
            "(ps): #1=>back_translation=>#2=>resampling=>#100\n",
            "(ps_LATN): #1=>back_translation=>#2=>resampling=>#100\n",
            "(ro): #14=>back_translation=>#28=>resampling=>#100\n",
            "(si): #1=>back_translation=>#2=>resampling=>#100\n",
            "(sk): #1=>back_translation=>#2=>resampling=>#100\n",
            "(sl): #2=>back_translation=>#4=>resampling=>#100\n",
            "(sq): #9=>back_translation=>#18=>resampling=>#100\n",
            "(sr): #29=>back_translation=>#58=>resampling=>#100\n",
            "(su): #10=>back_translation=>#20=>resampling=>#100\n",
            "(sv): #69=>back_translation=>#138=>resampling=>#138\n",
            "(sw): #8=>back_translation=>#16=>resampling=>#100\n",
            "(ta): #12=>back_translation=>#24=>resampling=>#100\n",
            "(ta_LATN): #2=>back_translation=>#4=>resampling=>#100\n",
            "(tn): #1=>back_translation=>#1=>resampling=>#100\n",
            "(uk): #18=>back_translation=>#36=>resampling=>#100\n",
            "(ur): #12=>back_translation=>#24=>resampling=>#100\n",
            "(ur_LATN): #13=>back_translation=>#26=>resampling=>#100\n",
            "(vi): #21=>back_translation=>#42=>resampling=>#100\n",
            "(wo): #1=>back_translation=>#1=>resampling=>#100\n",
            "(xh): #2=>back_translation=>#4=>resampling=>#100\n",
            "(yo): #1=>back_translation=>#2=>resampling=>#100\n",
            "(zh-CN): #26=>back_translation=>#52=>resampling=>#100\n",
            "(zh-TW): #14=>back_translation=>#28=>resampling=>#100\n",
            "(zu): #1=>back_translation=>#2=>resampling=>#100\n"
          ]
        }
      ]
    },
    {
      "cell_type": "code",
      "metadata": {
        "id": "mM5NKgHNjdKp"
      },
      "source": [
        "upsampled_dataset.reset_index(drop=True);"
      ],
      "execution_count": 45,
      "outputs": []
    },
    {
      "cell_type": "code",
      "metadata": {
        "id": "jR2fpoJ3iyN3"
      },
      "source": [
        "upsampled_dataset.to_pickle('./dataset.pkl') # Save dataset as compact pkl file\n",
        "upsampled_dataset.to_csv('./dataset.csv', header=True, index=False) # Save dataset as easily accessible csv file"
      ],
      "execution_count": 40,
      "outputs": []
    },
    {
      "cell_type": "code",
      "metadata": {
        "colab": {
          "base_uri": "https://localhost:8080/"
        },
        "id": "qaFPH8EA2CdR",
        "outputId": "a6747b3f-590a-402a-9109-6c7293b1938d"
      },
      "source": [
        "# Check that no underrepresented languages exists anymore in the dataset\n",
        "# The list of underrepresented languages needs to be empty now\n",
        "print_number_of_underrepresented_languages(upsampled_dataset, TARGET_COLUMN, SAMPLE_THRESHOLD)"
      ],
      "execution_count": 46,
      "outputs": [
        {
          "output_type": "stream",
          "name": "stdout",
          "text": [
            "There are 0 languages in this data set with less then 100 samples.\n"
          ]
        }
      ]
    },
    {
      "cell_type": "code",
      "metadata": {
        "colab": {
          "base_uri": "https://localhost:8080/"
        },
        "id": "yvvbKuzu-3XL",
        "outputId": "c4eb7693-0f33-4415-eb04-52724f972387"
      },
      "source": [
        "print(\"The length of the upsampled dataset is {}.\".format(len(upsampled_dataset)))"
      ],
      "execution_count": 47,
      "outputs": [
        {
          "output_type": "stream",
          "name": "stdout",
          "text": [
            "The length of the upsampled dataset is 71404.\n"
          ]
        }
      ]
    },
    {
      "cell_type": "markdown",
      "metadata": {
        "id": "9_DuSLlykP5C"
      },
      "source": [
        "## 6. Tokenize Data"
      ]
    },
    {
      "cell_type": "code",
      "metadata": {
        "id": "DvupSY9xuqk1"
      },
      "source": [
        "# Tokenize on the character level\n",
        "tokenizer = Tokenizer(num_words=None, char_level=True, oov_token='OOV')\n",
        "tokenizer.fit_on_texts(dataset[TWEET_COLUMN].tolist())"
      ],
      "execution_count": 49,
      "outputs": []
    },
    {
      "cell_type": "code",
      "metadata": {
        "id": "rxD49XlKdmk7"
      },
      "source": [
        "vectorized_data = tokenizer.texts_to_sequences(dataset[TWEET_COLUMN])"
      ],
      "execution_count": 50,
      "outputs": []
    },
    {
      "cell_type": "code",
      "metadata": {
        "id": "D42yNvV2_3Km"
      },
      "source": [
        "padding_length=80\n",
        "padded_data = pad_sequences(vectorized_data, maxlen=padding_length, padding='post')"
      ],
      "execution_count": 51,
      "outputs": []
    },
    {
      "cell_type": "code",
      "metadata": {
        "id": "ytEx89DSuqzg"
      },
      "source": [
        "label2index = {label:index for index, label in enumerate(dataset[TARGET_COLUMN].unique())}\n",
        "dataset['language_index'] = dataset[TARGET_COLUMN].apply(lambda x: label2index[x])\n",
        "y_indices = dataset['language_index'].values\n",
        "y_indices = [x for x in y_indices]"
      ],
      "execution_count": 52,
      "outputs": []
    },
    {
      "cell_type": "code",
      "metadata": {
        "id": "F5bw3tgIuqui"
      },
      "source": [
        "y_categorical = to_categorical(y_indices)"
      ],
      "execution_count": 53,
      "outputs": []
    },
    {
      "cell_type": "code",
      "metadata": {
        "id": "q0nycAi1gUoC"
      },
      "source": [
        "X_train, X_test, y_train, y_test = train_test_split(padded_data, y_categorical, test_size=0.2)\n",
        "X_train, X_val, y_train, y_val = train_test_split(X_train, y_train, test_size=0.1)"
      ],
      "execution_count": 54,
      "outputs": []
    },
    {
      "cell_type": "code",
      "metadata": {
        "id": "E3WWQU4GEPHe"
      },
      "source": [
        "vocab_size = len(tokenizer.word_index)\n",
        "embedding_dim = 50"
      ],
      "execution_count": 57,
      "outputs": []
    },
    {
      "cell_type": "markdown",
      "metadata": {
        "id": "kskcOnLzZ7xr"
      },
      "source": [
        "## 7. Modelling"
      ]
    },
    {
      "cell_type": "code",
      "metadata": {
        "id": "fl7y3Fkz529h"
      },
      "source": [
        "def model_classification_report(model, X_train, y_train):\n",
        "  y_pred = model.predict(X_train, verbose=1)\n",
        "  print(classification_report(y_train.argmax(axis=1), y_pred.argmax(axis=1)))"
      ],
      "execution_count": 76,
      "outputs": []
    },
    {
      "cell_type": "code",
      "metadata": {
        "id": "MDDTbSRd65pC"
      },
      "source": [
        "def plot_history(history):\n",
        "  plt.figure(figsize=(12,6))\n",
        "  plt.subplot(1, 2, 1)\n",
        "  plt.title(\"Accuracy\")\n",
        "  plt.plot(history.history['accuracy'], color=\"b\", label=\"accuracy\")\n",
        "  plt.plot(history.history['val_accuracy'], color=\"r\", label=\"val_accuracy\")\n",
        "  plt.xlabel(\"Number of Epochs\")\n",
        "  plt.ylabel(\"Accuracy\")\n",
        "  plt.legend(loc=\"lower left\")\n",
        "  #plt.ylim([0,1])\n",
        "  #plt.title(\"Comparison of accuracy and validation accuracy\")\n",
        "  plt.subplot(1, 2, 2)\n",
        "  plt.title(\"Loss\")\n",
        "  plt.plot(history.history['loss'], color=\"b\", label=\"loss\")\n",
        "  plt.plot(history.history['val_loss'],  color=\"r\", label=\"val_loss\")\n",
        "  plt.xlabel(\"Number of Epochs\")\n",
        "  plt.ylabel(\"Loss\")\n",
        "  plt.legend(loc=\"upper right\")\n",
        "  #plt.ylim([0,1])\n",
        "  plt.show"
      ],
      "execution_count": 58,
      "outputs": []
    },
    {
      "cell_type": "code",
      "metadata": {
        "id": "zyAdumBk1iQD"
      },
      "source": [
        "def train_model(X_train, y_train, X_val, y_val, params):\n",
        "  es = EarlyStopping(monitor='val_loss', mode='auto', verbose=params['verbose'], patience=params[\"patience\"])\n",
        "\n",
        "  # define model\n",
        "  model = Sequential()\n",
        "  model.add(Embedding(input_dim=vocab_size+1, output_dim=embedding_dim, input_length=padding_length))\n",
        "  model.add(Dropout(params['dropout']))\n",
        "  model.add(Conv1D(filters=params['filters'], kernel_size=params['kernel_size'], strides=params['strides'], padding='valid', activation='relu'))\n",
        "  model.add(params['pooling'])\n",
        "  model.add(Dense(params['hidden_dims']))\n",
        "  model.add(Dropout(params['dropout']))\n",
        "  model.add(Activation('relu'))\n",
        "  #model.add(Dense(len(label2index)))\n",
        "  model.add(Dense(len(label2index)))\n",
        "  model.add(Activation('softmax'))\n",
        "  model.compile(optimizer=params['optimizer'], loss=\"categorical_crossentropy\", metrics=['accuracy'])\n",
        "  K.set_value(model.optimizer.learning_rate, params['learning_rate'])\n",
        "\n",
        "  history = model.fit(X_train, y_train, validation_data=(X_val, y_val), batch_size=params['batch_size'], epochs=params[\"epochs\"], verbose=params[\"verbose\"],  callbacks = [es]) \n",
        "\n",
        "  return history, model"
      ],
      "execution_count": 59,
      "outputs": []
    },
    {
      "cell_type": "markdown",
      "metadata": {
        "id": "lmHSFNntZ7xv"
      },
      "source": [
        "### Model 01"
      ]
    },
    {
      "cell_type": "code",
      "metadata": {
        "id": "jT_jMJ80JfdV"
      },
      "source": [
        "params_1 = {\n",
        "    'dropout': 0.5,\n",
        "    'filters': 128,\n",
        "    'kernel_size': 3,\n",
        "    'strides': 1,\n",
        "    'pooling': GlobalMaxPooling1D(),  # MaxPool1D(), AveragePooling1D(), \n",
        "    'hidden_dims': 128,\n",
        "    'learning_rate': 0.01,\n",
        "    'batch_size': 64,\n",
        "    'optimizer': 'adam',\n",
        "    'epochs': 100,\n",
        "    'verbose': 1,\n",
        "    'patience': 20\n",
        "}"
      ],
      "execution_count": 90,
      "outputs": []
    },
    {
      "cell_type": "code",
      "metadata": {
        "id": "qonIEqIv1gvg",
        "colab": {
          "base_uri": "https://localhost:8080/"
        },
        "outputId": "cde4d162-f29e-4992-8c74-34d179960786"
      },
      "source": [
        "history_1, model_1 = train_model(X_train, y_train, X_val, y_val, params_1)"
      ],
      "execution_count": 91,
      "outputs": [
        {
          "output_type": "stream",
          "name": "stdout",
          "text": [
            "Epoch 1/100\n",
            "742/742 [==============================] - 4s 5ms/step - loss: 1.0177 - accuracy: 0.7172 - val_loss: 0.6440 - val_accuracy: 0.8190\n",
            "Epoch 2/100\n",
            "742/742 [==============================] - 3s 4ms/step - loss: 0.7934 - accuracy: 0.7836 - val_loss: 0.5892 - val_accuracy: 0.8478\n",
            "Epoch 3/100\n",
            "742/742 [==============================] - 3s 4ms/step - loss: 0.7497 - accuracy: 0.7976 - val_loss: 0.6177 - val_accuracy: 0.8469\n",
            "Epoch 4/100\n",
            "742/742 [==============================] - 3s 4ms/step - loss: 0.7363 - accuracy: 0.8024 - val_loss: 0.5736 - val_accuracy: 0.8495\n",
            "Epoch 5/100\n",
            "742/742 [==============================] - 3s 4ms/step - loss: 0.7244 - accuracy: 0.8050 - val_loss: 0.5906 - val_accuracy: 0.8475\n",
            "Epoch 6/100\n",
            "742/742 [==============================] - 3s 4ms/step - loss: 0.7301 - accuracy: 0.8080 - val_loss: 0.6301 - val_accuracy: 0.8537\n",
            "Epoch 7/100\n",
            "742/742 [==============================] - 3s 4ms/step - loss: 0.7100 - accuracy: 0.8111 - val_loss: 0.6331 - val_accuracy: 0.8556\n",
            "Epoch 8/100\n",
            "742/742 [==============================] - 3s 4ms/step - loss: 0.7197 - accuracy: 0.8121 - val_loss: 0.6632 - val_accuracy: 0.8547\n",
            "Epoch 9/100\n",
            "742/742 [==============================] - 3s 4ms/step - loss: 0.7216 - accuracy: 0.8107 - val_loss: 0.6423 - val_accuracy: 0.8531\n",
            "Epoch 10/100\n",
            "742/742 [==============================] - 3s 4ms/step - loss: 0.7096 - accuracy: 0.8133 - val_loss: 0.6405 - val_accuracy: 0.8543\n",
            "Epoch 11/100\n",
            "742/742 [==============================] - 3s 4ms/step - loss: 0.7207 - accuracy: 0.8124 - val_loss: 0.6399 - val_accuracy: 0.8533\n",
            "Epoch 12/100\n",
            "742/742 [==============================] - 3s 4ms/step - loss: 0.7256 - accuracy: 0.8110 - val_loss: 0.6938 - val_accuracy: 0.8457\n",
            "Epoch 13/100\n",
            "742/742 [==============================] - 3s 4ms/step - loss: 0.7148 - accuracy: 0.8124 - val_loss: 0.6704 - val_accuracy: 0.8552\n",
            "Epoch 14/100\n",
            "742/742 [==============================] - 3s 4ms/step - loss: 0.7227 - accuracy: 0.8127 - val_loss: 0.6653 - val_accuracy: 0.8476\n",
            "Epoch 15/100\n",
            "742/742 [==============================] - 3s 4ms/step - loss: 0.7247 - accuracy: 0.8099 - val_loss: 0.6529 - val_accuracy: 0.8567\n",
            "Epoch 16/100\n",
            "742/742 [==============================] - 3s 4ms/step - loss: 0.7573 - accuracy: 0.8076 - val_loss: 0.7492 - val_accuracy: 0.8503\n",
            "Epoch 17/100\n",
            "742/742 [==============================] - 3s 4ms/step - loss: 0.7270 - accuracy: 0.8108 - val_loss: 0.7384 - val_accuracy: 0.8552\n",
            "Epoch 18/100\n",
            "742/742 [==============================] - 3s 4ms/step - loss: 0.7439 - accuracy: 0.8054 - val_loss: 0.8588 - val_accuracy: 0.8512\n",
            "Epoch 19/100\n",
            "742/742 [==============================] - 3s 4ms/step - loss: 0.7386 - accuracy: 0.8099 - val_loss: 0.8337 - val_accuracy: 0.8516\n",
            "Epoch 20/100\n",
            "742/742 [==============================] - 3s 4ms/step - loss: 0.7592 - accuracy: 0.8092 - val_loss: 1.0744 - val_accuracy: 0.8482\n",
            "Epoch 21/100\n",
            "742/742 [==============================] - 3s 4ms/step - loss: 0.7393 - accuracy: 0.8072 - val_loss: 0.9464 - val_accuracy: 0.8600\n",
            "Epoch 22/100\n",
            "742/742 [==============================] - 3s 4ms/step - loss: 0.7412 - accuracy: 0.8038 - val_loss: 0.8635 - val_accuracy: 0.8387\n",
            "Epoch 23/100\n",
            "742/742 [==============================] - 3s 4ms/step - loss: 0.7368 - accuracy: 0.8060 - val_loss: 1.0104 - val_accuracy: 0.8501\n",
            "Epoch 24/100\n",
            "742/742 [==============================] - 3s 4ms/step - loss: 0.7615 - accuracy: 0.8016 - val_loss: 0.9755 - val_accuracy: 0.8423\n",
            "Epoch 00024: early stopping\n"
          ]
        }
      ]
    },
    {
      "cell_type": "code",
      "metadata": {
        "id": "q6XZfUqduqaG",
        "colab": {
          "base_uri": "https://localhost:8080/",
          "height": 404
        },
        "outputId": "143e676d-e5aa-4f7b-8256-dc4461001af9"
      },
      "source": [
        "plot_history(history_1)"
      ],
      "execution_count": 92,
      "outputs": [
        {
          "output_type": "display_data",
          "data": {
            "image/png": "[encoded data removed]",
            "text/plain": [
              "<Figure size 864x432 with 2 Axes>"
            ]
          },
          "metadata": {
            "needs_background": "light"
          }
        }
      ]
    },
    {
      "cell_type": "code",
      "metadata": {
        "colab": {
          "base_uri": "https://localhost:8080/"
        },
        "id": "1KJ-Z4X6_aKB",
        "outputId": "c38ee953-e6e6-4c0a-8e11-6970d2644146"
      },
      "source": [
        "model_classification_report(model_1, X_test, y_test)"
      ],
      "execution_count": 94,
      "outputs": [
        {
          "output_type": "stream",
          "name": "stdout",
          "text": [
            "413/413 [==============================] - 1s 1ms/step\n",
            "              precision    recall  f1-score   support\n",
            "\n",
            "           0       0.79      0.97      0.87      4652\n",
            "           1       0.99      0.98      0.99      2590\n",
            "           2       0.78      0.70      0.74       774\n",
            "           3       0.73      0.54      0.62      1147\n",
            "           4       0.80      0.83      0.82      1453\n",
            "           5       0.93      0.65      0.77       715\n",
            "           6       0.99      0.99      0.99       551\n",
            "           7       0.97      0.98      0.98       250\n",
            "           8       0.93      0.68      0.79       165\n",
            "           9       0.00      0.00      0.00         9\n",
            "          10       0.00      0.00      0.00        72\n",
            "          11       0.85      0.49      0.62       237\n",
            "          12       0.00      0.00      0.00        18\n",
            "          13       0.00      0.00      0.00        43\n",
            "          14       0.98      0.94      0.96       110\n",
            "          15       0.00      0.00      0.00         5\n",
            "          16       0.55      0.95      0.70       120\n",
            "          17       0.00      0.00      0.00        26\n",
            "          18       0.00      0.00      0.00        92\n",
            "          19       0.00      0.00      0.00         2\n",
            "          20       0.00      0.00      0.00        54\n",
            "          21       0.00      0.00      0.00        17\n",
            "          22       0.00      0.00      0.00         6\n",
            "          23       0.00      0.00      0.00         5\n",
            "          24       0.00      0.00      0.00         6\n",
            "          25       0.00      0.00      0.00         5\n",
            "          26       0.00      0.00      0.00         3\n",
            "          27       0.00      0.00      0.00         4\n",
            "          28       0.00      0.00      0.00         8\n",
            "          29       0.00      0.00      0.00         1\n",
            "          30       0.00      0.00      0.00         4\n",
            "          31       0.00      0.00      0.00         1\n",
            "          33       0.00      0.00      0.00         1\n",
            "          34       0.00      0.00      0.00         2\n",
            "          36       0.00      0.00      0.00         4\n",
            "          38       0.00      0.00      0.00         1\n",
            "          39       0.00      0.00      0.00         1\n",
            "          40       0.00      0.00      0.00         2\n",
            "          41       0.00      0.00      0.00         4\n",
            "          42       0.00      0.00      0.00         9\n",
            "          43       0.00      0.00      0.00         2\n",
            "          44       0.00      0.00      0.00         1\n",
            "          45       0.00      0.00      0.00         2\n",
            "          46       0.00      0.00      0.00         1\n",
            "          47       0.00      0.00      0.00         1\n",
            "          48       0.00      0.00      0.00         5\n",
            "          49       0.00      0.00      0.00         2\n",
            "          50       0.00      0.00      0.00         2\n",
            "          51       0.00      0.00      0.00         1\n",
            "          55       0.00      0.00      0.00         1\n",
            "          60       0.00      0.00      0.00         1\n",
            "          69       0.00      0.00      0.00         1\n",
            "          72       0.00      0.00      0.00         2\n",
            "\n",
            "    accuracy                           0.84     13191\n",
            "   macro avg       0.19      0.18      0.19     13191\n",
            "weighted avg       0.82      0.84      0.83     13191\n",
            "\n"
          ]
        }
      ]
    },
    {
      "cell_type": "markdown",
      "metadata": {
        "id": "-KIeTSpXZ7x3"
      },
      "source": [
        "### Model 02"
      ]
    },
    {
      "cell_type": "code",
      "metadata": {
        "id": "wR635zCLuqSz"
      },
      "source": [
        "params_2 = {\n",
        "    'dropout': 0.25,\n",
        "    'filters': 256,\n",
        "    'kernel_size': 7,\n",
        "    'strides': 1,\n",
        "    'pooling': GlobalMaxPooling1D(), \n",
        "    'hidden_dims': 128,\n",
        "    'learning_rate': 0.01,\n",
        "    'batch_size': 128,\n",
        "    'optimizer': 'SGD',\n",
        "    'epochs': 100,\n",
        "    'verbose': 1,\n",
        "    'patience': 20\n",
        "}"
      ],
      "execution_count": 99,
      "outputs": []
    },
    {
      "cell_type": "code",
      "metadata": {
        "id": "90qJlaCHuqNa",
        "colab": {
          "base_uri": "https://localhost:8080/"
        },
        "outputId": "78d8255f-0843-4c54-84c6-2d15d5700511"
      },
      "source": [
        "history_2, model_2 = train_model(X_train, y_train, X_val, y_val, params_2)"
      ],
      "execution_count": 100,
      "outputs": [
        {
          "output_type": "stream",
          "name": "stdout",
          "text": [
            "Epoch 1/100\n",
            "371/371 [==============================] - 2s 5ms/step - loss: 3.1051 - accuracy: 0.3383 - val_loss: 2.2942 - val_accuracy: 0.3489\n",
            "Epoch 2/100\n",
            "371/371 [==============================] - 2s 5ms/step - loss: 2.1753 - accuracy: 0.3702 - val_loss: 2.0987 - val_accuracy: 0.3561\n",
            "Epoch 3/100\n",
            "371/371 [==============================] - 2s 5ms/step - loss: 2.0640 - accuracy: 0.4192 - val_loss: 2.0135 - val_accuracy: 0.4106\n",
            "Epoch 4/100\n",
            "371/371 [==============================] - 2s 5ms/step - loss: 1.9749 - accuracy: 0.4587 - val_loss: 1.9326 - val_accuracy: 0.4169\n",
            "Epoch 5/100\n",
            "371/371 [==============================] - 2s 5ms/step - loss: 1.8822 - accuracy: 0.4802 - val_loss: 1.8321 - val_accuracy: 0.4747\n",
            "Epoch 6/100\n",
            "371/371 [==============================] - 2s 5ms/step - loss: 1.7975 - accuracy: 0.4974 - val_loss: 1.7477 - val_accuracy: 0.4993\n",
            "Epoch 7/100\n",
            "371/371 [==============================] - 2s 5ms/step - loss: 1.7241 - accuracy: 0.5091 - val_loss: 1.6717 - val_accuracy: 0.5141\n",
            "Epoch 8/100\n",
            "371/371 [==============================] - 2s 5ms/step - loss: 1.6614 - accuracy: 0.5200 - val_loss: 1.5975 - val_accuracy: 0.5234\n",
            "Epoch 9/100\n",
            "371/371 [==============================] - 2s 5ms/step - loss: 1.5987 - accuracy: 0.5299 - val_loss: 1.5246 - val_accuracy: 0.5295\n",
            "Epoch 10/100\n",
            "371/371 [==============================] - 2s 5ms/step - loss: 1.5328 - accuracy: 0.5480 - val_loss: 1.4485 - val_accuracy: 0.5554\n",
            "Epoch 11/100\n",
            "371/371 [==============================] - 2s 5ms/step - loss: 1.4602 - accuracy: 0.5738 - val_loss: 1.3691 - val_accuracy: 0.5905\n",
            "Epoch 12/100\n",
            "371/371 [==============================] - 2s 5ms/step - loss: 1.3807 - accuracy: 0.6053 - val_loss: 1.2865 - val_accuracy: 0.6346\n",
            "Epoch 13/100\n",
            "371/371 [==============================] - 2s 5ms/step - loss: 1.3080 - accuracy: 0.6280 - val_loss: 1.2147 - val_accuracy: 0.6471\n",
            "Epoch 14/100\n",
            "371/371 [==============================] - 2s 5ms/step - loss: 1.2420 - accuracy: 0.6492 - val_loss: 1.1515 - val_accuracy: 0.6718\n",
            "Epoch 15/100\n",
            "371/371 [==============================] - 2s 5ms/step - loss: 1.1882 - accuracy: 0.6684 - val_loss: 1.1004 - val_accuracy: 0.6811\n",
            "Epoch 16/100\n",
            "371/371 [==============================] - 2s 5ms/step - loss: 1.1408 - accuracy: 0.6799 - val_loss: 1.0555 - val_accuracy: 0.7025\n",
            "Epoch 17/100\n",
            "371/371 [==============================] - 2s 5ms/step - loss: 1.1003 - accuracy: 0.6934 - val_loss: 1.0164 - val_accuracy: 0.7129\n",
            "Epoch 18/100\n",
            "371/371 [==============================] - 2s 5ms/step - loss: 1.0691 - accuracy: 0.7026 - val_loss: 0.9832 - val_accuracy: 0.7211\n",
            "Epoch 19/100\n",
            "371/371 [==============================] - 2s 5ms/step - loss: 1.0370 - accuracy: 0.7129 - val_loss: 0.9586 - val_accuracy: 0.7288\n",
            "Epoch 20/100\n",
            "371/371 [==============================] - 2s 5ms/step - loss: 1.0116 - accuracy: 0.7192 - val_loss: 0.9382 - val_accuracy: 0.7334\n",
            "Epoch 21/100\n",
            "371/371 [==============================] - 2s 5ms/step - loss: 0.9855 - accuracy: 0.7254 - val_loss: 0.9059 - val_accuracy: 0.7402\n",
            "Epoch 22/100\n",
            "371/371 [==============================] - 2s 5ms/step - loss: 0.9641 - accuracy: 0.7303 - val_loss: 0.8845 - val_accuracy: 0.7455\n",
            "Epoch 23/100\n",
            "371/371 [==============================] - 2s 5ms/step - loss: 0.9393 - accuracy: 0.7361 - val_loss: 0.8639 - val_accuracy: 0.7470\n",
            "Epoch 24/100\n",
            "371/371 [==============================] - 2s 5ms/step - loss: 0.9164 - accuracy: 0.7412 - val_loss: 0.8460 - val_accuracy: 0.7495\n",
            "Epoch 25/100\n",
            "371/371 [==============================] - 2s 5ms/step - loss: 0.8962 - accuracy: 0.7451 - val_loss: 0.8253 - val_accuracy: 0.7548\n",
            "Epoch 26/100\n",
            "371/371 [==============================] - 2s 5ms/step - loss: 0.8775 - accuracy: 0.7516 - val_loss: 0.8118 - val_accuracy: 0.7603\n",
            "Epoch 27/100\n",
            "371/371 [==============================] - 2s 5ms/step - loss: 0.8599 - accuracy: 0.7543 - val_loss: 0.7941 - val_accuracy: 0.7618\n",
            "Epoch 28/100\n",
            "371/371 [==============================] - 2s 5ms/step - loss: 0.8427 - accuracy: 0.7602 - val_loss: 0.7823 - val_accuracy: 0.7675\n",
            "Epoch 29/100\n",
            "371/371 [==============================] - 2s 5ms/step - loss: 0.8278 - accuracy: 0.7631 - val_loss: 0.7695 - val_accuracy: 0.7669\n",
            "Epoch 30/100\n",
            "371/371 [==============================] - 2s 5ms/step - loss: 0.8140 - accuracy: 0.7661 - val_loss: 0.7506 - val_accuracy: 0.7753\n",
            "Epoch 31/100\n",
            "371/371 [==============================] - 2s 5ms/step - loss: 0.8006 - accuracy: 0.7712 - val_loss: 0.7398 - val_accuracy: 0.7785\n",
            "Epoch 32/100\n",
            "371/371 [==============================] - 2s 5ms/step - loss: 0.7852 - accuracy: 0.7743 - val_loss: 0.7289 - val_accuracy: 0.7817\n",
            "Epoch 33/100\n",
            "371/371 [==============================] - 2s 5ms/step - loss: 0.7764 - accuracy: 0.7788 - val_loss: 0.7214 - val_accuracy: 0.7819\n",
            "Epoch 34/100\n",
            "371/371 [==============================] - 2s 5ms/step - loss: 0.7659 - accuracy: 0.7806 - val_loss: 0.7095 - val_accuracy: 0.7840\n",
            "Epoch 35/100\n",
            "371/371 [==============================] - 2s 5ms/step - loss: 0.7536 - accuracy: 0.7847 - val_loss: 0.7031 - val_accuracy: 0.7857\n",
            "Epoch 36/100\n",
            "371/371 [==============================] - 2s 5ms/step - loss: 0.7429 - accuracy: 0.7878 - val_loss: 0.6919 - val_accuracy: 0.7893\n",
            "Epoch 37/100\n",
            "371/371 [==============================] - 2s 5ms/step - loss: 0.7372 - accuracy: 0.7894 - val_loss: 0.6857 - val_accuracy: 0.7921\n",
            "Epoch 38/100\n",
            "371/371 [==============================] - 2s 5ms/step - loss: 0.7264 - accuracy: 0.7937 - val_loss: 0.6757 - val_accuracy: 0.7969\n",
            "Epoch 39/100\n",
            "371/371 [==============================] - 2s 5ms/step - loss: 0.7163 - accuracy: 0.7980 - val_loss: 0.6684 - val_accuracy: 0.7969\n",
            "Epoch 40/100\n",
            "371/371 [==============================] - 2s 5ms/step - loss: 0.7099 - accuracy: 0.8002 - val_loss: 0.6616 - val_accuracy: 0.8018\n",
            "Epoch 41/100\n",
            "371/371 [==============================] - 2s 5ms/step - loss: 0.7023 - accuracy: 0.8020 - val_loss: 0.6528 - val_accuracy: 0.8042\n",
            "Epoch 42/100\n",
            "371/371 [==============================] - 2s 5ms/step - loss: 0.6936 - accuracy: 0.8045 - val_loss: 0.6453 - val_accuracy: 0.8088\n",
            "Epoch 43/100\n",
            "371/371 [==============================] - 2s 5ms/step - loss: 0.6877 - accuracy: 0.8078 - val_loss: 0.6402 - val_accuracy: 0.8099\n",
            "Epoch 44/100\n",
            "371/371 [==============================] - 2s 5ms/step - loss: 0.6746 - accuracy: 0.8111 - val_loss: 0.6338 - val_accuracy: 0.8113\n",
            "Epoch 45/100\n",
            "371/371 [==============================] - 2s 5ms/step - loss: 0.6684 - accuracy: 0.8123 - val_loss: 0.6287 - val_accuracy: 0.8139\n",
            "Epoch 46/100\n",
            "371/371 [==============================] - 2s 5ms/step - loss: 0.6628 - accuracy: 0.8156 - val_loss: 0.6220 - val_accuracy: 0.8173\n",
            "Epoch 47/100\n",
            "371/371 [==============================] - 2s 5ms/step - loss: 0.6537 - accuracy: 0.8185 - val_loss: 0.6088 - val_accuracy: 0.8249\n",
            "Epoch 48/100\n",
            "371/371 [==============================] - 2s 5ms/step - loss: 0.6483 - accuracy: 0.8188 - val_loss: 0.6060 - val_accuracy: 0.8251\n",
            "Epoch 49/100\n",
            "371/371 [==============================] - 2s 5ms/step - loss: 0.6454 - accuracy: 0.8223 - val_loss: 0.6060 - val_accuracy: 0.8241\n",
            "Epoch 50/100\n",
            "371/371 [==============================] - 2s 5ms/step - loss: 0.6345 - accuracy: 0.8220 - val_loss: 0.5994 - val_accuracy: 0.8245\n",
            "Epoch 51/100\n",
            "371/371 [==============================] - 2s 5ms/step - loss: 0.6296 - accuracy: 0.8256 - val_loss: 0.5855 - val_accuracy: 0.8353\n",
            "Epoch 52/100\n",
            "371/371 [==============================] - 2s 5ms/step - loss: 0.6199 - accuracy: 0.8282 - val_loss: 0.5844 - val_accuracy: 0.8317\n",
            "Epoch 53/100\n",
            "371/371 [==============================] - 2s 5ms/step - loss: 0.6140 - accuracy: 0.8291 - val_loss: 0.5718 - val_accuracy: 0.8403\n",
            "Epoch 54/100\n",
            "371/371 [==============================] - 2s 5ms/step - loss: 0.6088 - accuracy: 0.8325 - val_loss: 0.5679 - val_accuracy: 0.8404\n",
            "Epoch 55/100\n",
            "371/371 [==============================] - 2s 5ms/step - loss: 0.6048 - accuracy: 0.8317 - val_loss: 0.5675 - val_accuracy: 0.8389\n",
            "Epoch 56/100\n",
            "371/371 [==============================] - 2s 5ms/step - loss: 0.5990 - accuracy: 0.8340 - val_loss: 0.5559 - val_accuracy: 0.8457\n",
            "Epoch 57/100\n",
            "371/371 [==============================] - 2s 5ms/step - loss: 0.5925 - accuracy: 0.8374 - val_loss: 0.5524 - val_accuracy: 0.8457\n",
            "Epoch 58/100\n",
            "371/371 [==============================] - 2s 5ms/step - loss: 0.5842 - accuracy: 0.8400 - val_loss: 0.5522 - val_accuracy: 0.8435\n",
            "Epoch 59/100\n",
            "371/371 [==============================] - 2s 5ms/step - loss: 0.5821 - accuracy: 0.8410 - val_loss: 0.5510 - val_accuracy: 0.8429\n",
            "Epoch 60/100\n",
            "371/371 [==============================] - 2s 5ms/step - loss: 0.5732 - accuracy: 0.8428 - val_loss: 0.5375 - val_accuracy: 0.8511\n",
            "Epoch 61/100\n",
            "371/371 [==============================] - 2s 5ms/step - loss: 0.5685 - accuracy: 0.8454 - val_loss: 0.5331 - val_accuracy: 0.8531\n",
            "Epoch 62/100\n",
            "371/371 [==============================] - 2s 5ms/step - loss: 0.5626 - accuracy: 0.8464 - val_loss: 0.5341 - val_accuracy: 0.8507\n",
            "Epoch 63/100\n",
            "371/371 [==============================] - 2s 5ms/step - loss: 0.5597 - accuracy: 0.8460 - val_loss: 0.5247 - val_accuracy: 0.8524\n",
            "Epoch 64/100\n",
            "371/371 [==============================] - 2s 5ms/step - loss: 0.5551 - accuracy: 0.8489 - val_loss: 0.5276 - val_accuracy: 0.8531\n",
            "Epoch 65/100\n",
            "371/371 [==============================] - 2s 5ms/step - loss: 0.5507 - accuracy: 0.8505 - val_loss: 0.5169 - val_accuracy: 0.8569\n",
            "Epoch 66/100\n",
            "371/371 [==============================] - 2s 5ms/step - loss: 0.5437 - accuracy: 0.8528 - val_loss: 0.5152 - val_accuracy: 0.8564\n",
            "Epoch 67/100\n",
            "371/371 [==============================] - 2s 5ms/step - loss: 0.5400 - accuracy: 0.8544 - val_loss: 0.5092 - val_accuracy: 0.8581\n",
            "Epoch 68/100\n",
            "371/371 [==============================] - 2s 5ms/step - loss: 0.5336 - accuracy: 0.8557 - val_loss: 0.5077 - val_accuracy: 0.8596\n",
            "Epoch 69/100\n",
            "371/371 [==============================] - 2s 5ms/step - loss: 0.5296 - accuracy: 0.8570 - val_loss: 0.4995 - val_accuracy: 0.8622\n",
            "Epoch 70/100\n",
            "371/371 [==============================] - 2s 5ms/step - loss: 0.5270 - accuracy: 0.8565 - val_loss: 0.4963 - val_accuracy: 0.8634\n",
            "Epoch 71/100\n",
            "371/371 [==============================] - 2s 5ms/step - loss: 0.5215 - accuracy: 0.8591 - val_loss: 0.4936 - val_accuracy: 0.8634\n",
            "Epoch 72/100\n",
            "371/371 [==============================] - 2s 5ms/step - loss: 0.5200 - accuracy: 0.8585 - val_loss: 0.4933 - val_accuracy: 0.8636\n",
            "Epoch 73/100\n",
            "371/371 [==============================] - 2s 5ms/step - loss: 0.5129 - accuracy: 0.8604 - val_loss: 0.4927 - val_accuracy: 0.8628\n",
            "Epoch 74/100\n",
            "371/371 [==============================] - 2s 5ms/step - loss: 0.5084 - accuracy: 0.8622 - val_loss: 0.4852 - val_accuracy: 0.8668\n",
            "Epoch 75/100\n",
            "371/371 [==============================] - 2s 5ms/step - loss: 0.5038 - accuracy: 0.8644 - val_loss: 0.4854 - val_accuracy: 0.8655\n",
            "Epoch 76/100\n",
            "371/371 [==============================] - 2s 5ms/step - loss: 0.5013 - accuracy: 0.8648 - val_loss: 0.4839 - val_accuracy: 0.8651\n",
            "Epoch 77/100\n",
            "371/371 [==============================] - 2s 5ms/step - loss: 0.4987 - accuracy: 0.8660 - val_loss: 0.4790 - val_accuracy: 0.8677\n",
            "Epoch 78/100\n",
            "371/371 [==============================] - 2s 5ms/step - loss: 0.4940 - accuracy: 0.8670 - val_loss: 0.4707 - val_accuracy: 0.8721\n",
            "Epoch 79/100\n",
            "371/371 [==============================] - 2s 5ms/step - loss: 0.4906 - accuracy: 0.8673 - val_loss: 0.4690 - val_accuracy: 0.8730\n",
            "Epoch 80/100\n",
            "371/371 [==============================] - 2s 5ms/step - loss: 0.4834 - accuracy: 0.8683 - val_loss: 0.4751 - val_accuracy: 0.8685\n",
            "Epoch 81/100\n",
            "371/371 [==============================] - 2s 5ms/step - loss: 0.4852 - accuracy: 0.8682 - val_loss: 0.4665 - val_accuracy: 0.8738\n",
            "Epoch 82/100\n",
            "371/371 [==============================] - 2s 5ms/step - loss: 0.4788 - accuracy: 0.8707 - val_loss: 0.4662 - val_accuracy: 0.8738\n",
            "Epoch 83/100\n",
            "371/371 [==============================] - 2s 5ms/step - loss: 0.4767 - accuracy: 0.8710 - val_loss: 0.4647 - val_accuracy: 0.8728\n",
            "Epoch 84/100\n",
            "371/371 [==============================] - 2s 5ms/step - loss: 0.4733 - accuracy: 0.8711 - val_loss: 0.4621 - val_accuracy: 0.8766\n",
            "Epoch 85/100\n",
            "371/371 [==============================] - 2s 5ms/step - loss: 0.4688 - accuracy: 0.8726 - val_loss: 0.4552 - val_accuracy: 0.8763\n",
            "Epoch 86/100\n",
            "371/371 [==============================] - 2s 5ms/step - loss: 0.4698 - accuracy: 0.8723 - val_loss: 0.4573 - val_accuracy: 0.8774\n",
            "Epoch 87/100\n",
            "371/371 [==============================] - 2s 5ms/step - loss: 0.4604 - accuracy: 0.8749 - val_loss: 0.4579 - val_accuracy: 0.8768\n",
            "Epoch 88/100\n",
            "371/371 [==============================] - 2s 5ms/step - loss: 0.4597 - accuracy: 0.8758 - val_loss: 0.4501 - val_accuracy: 0.8787\n",
            "Epoch 89/100\n",
            "371/371 [==============================] - 2s 5ms/step - loss: 0.4573 - accuracy: 0.8756 - val_loss: 0.4520 - val_accuracy: 0.8783\n",
            "Epoch 90/100\n",
            "371/371 [==============================] - 2s 5ms/step - loss: 0.4585 - accuracy: 0.8752 - val_loss: 0.4500 - val_accuracy: 0.8774\n",
            "Epoch 91/100\n",
            "371/371 [==============================] - 2s 5ms/step - loss: 0.4554 - accuracy: 0.8760 - val_loss: 0.4475 - val_accuracy: 0.8787\n",
            "Epoch 92/100\n",
            "371/371 [==============================] - 2s 5ms/step - loss: 0.4499 - accuracy: 0.8771 - val_loss: 0.4470 - val_accuracy: 0.8795\n",
            "Epoch 93/100\n",
            "371/371 [==============================] - 2s 5ms/step - loss: 0.4467 - accuracy: 0.8780 - val_loss: 0.4479 - val_accuracy: 0.8789\n",
            "Epoch 94/100\n",
            "371/371 [==============================] - 2s 5ms/step - loss: 0.4434 - accuracy: 0.8788 - val_loss: 0.4435 - val_accuracy: 0.8787\n",
            "Epoch 95/100\n",
            "371/371 [==============================] - 2s 5ms/step - loss: 0.4431 - accuracy: 0.8803 - val_loss: 0.4412 - val_accuracy: 0.8799\n",
            "Epoch 96/100\n",
            "371/371 [==============================] - 2s 5ms/step - loss: 0.4404 - accuracy: 0.8798 - val_loss: 0.4382 - val_accuracy: 0.8808\n",
            "Epoch 97/100\n",
            "371/371 [==============================] - 2s 5ms/step - loss: 0.4372 - accuracy: 0.8809 - val_loss: 0.4373 - val_accuracy: 0.8831\n",
            "Epoch 98/100\n",
            "371/371 [==============================] - 2s 5ms/step - loss: 0.4341 - accuracy: 0.8819 - val_loss: 0.4390 - val_accuracy: 0.8821\n",
            "Epoch 99/100\n",
            "371/371 [==============================] - 2s 5ms/step - loss: 0.4313 - accuracy: 0.8822 - val_loss: 0.4342 - val_accuracy: 0.8825\n",
            "Epoch 100/100\n",
            "371/371 [==============================] - 2s 5ms/step - loss: 0.4310 - accuracy: 0.8839 - val_loss: 0.4346 - val_accuracy: 0.8835\n"
          ]
        }
      ]
    },
    {
      "cell_type": "code",
      "metadata": {
        "id": "V_mjS6aAuqID",
        "colab": {
          "base_uri": "https://localhost:8080/",
          "height": 404
        },
        "outputId": "e44092e8-d1ef-4942-d4aa-3e34ca9b5381"
      },
      "source": [
        "plot_history(history_2)"
      ],
      "execution_count": 101,
      "outputs": [
        {
          "output_type": "display_data",
          "data": {
            "image/png": "[encoded data removed]",
            "text/plain": [
              "<Figure size 864x432 with 2 Axes>"
            ]
          },
          "metadata": {
            "needs_background": "light"
          }
        }
      ]
    },
    {
      "cell_type": "code",
      "metadata": {
        "colab": {
          "base_uri": "https://localhost:8080/"
        },
        "id": "DwKjtOx4Bn1E",
        "outputId": "607027a9-562d-4ecd-b244-366cc95ccc0a"
      },
      "source": [
        "model_classification_report(model_2, X_train, y_train)"
      ],
      "execution_count": 102,
      "outputs": [
        {
          "output_type": "stream",
          "name": "stdout",
          "text": [
            "1484/1484 [==============================] - 2s 1ms/step\n",
            "              precision    recall  f1-score   support\n",
            "\n",
            "           0       0.90      0.99      0.94     16773\n",
            "           1       0.98      0.99      0.99      9264\n",
            "           2       0.76      0.91      0.83      2743\n",
            "           3       0.79      0.61      0.69      4151\n",
            "           4       0.86      0.96      0.91      5375\n",
            "           5       0.88      0.81      0.84      2564\n",
            "           6       0.96      0.99      0.97      1946\n",
            "           7       0.95      0.97      0.96       872\n",
            "           8       0.87      0.69      0.77       612\n",
            "           9       0.00      0.00      0.00        29\n",
            "          10       0.89      0.08      0.15       310\n",
            "          11       0.87      0.71      0.78       831\n",
            "          12       0.00      0.00      0.00        46\n",
            "          13       0.71      0.09      0.16       161\n",
            "          14       0.84      0.68      0.75       408\n",
            "          15       0.00      0.00      0.00        19\n",
            "          16       0.70      0.74      0.72       402\n",
            "          17       0.00      0.00      0.00       112\n",
            "          18       0.81      0.20      0.31       287\n",
            "          19       0.00      0.00      0.00        11\n",
            "          20       0.00      0.00      0.00       160\n",
            "          21       0.00      0.00      0.00        92\n",
            "          22       0.00      0.00      0.00        11\n",
            "          23       0.00      0.00      0.00        17\n",
            "          24       0.00      0.00      0.00         8\n",
            "          25       0.00      0.00      0.00        22\n",
            "          26       0.00      0.00      0.00         9\n",
            "          27       0.00      0.00      0.00        15\n",
            "          28       0.00      0.00      0.00        29\n",
            "          30       0.00      0.00      0.00         7\n",
            "          31       0.00      0.00      0.00         9\n",
            "          32       0.00      0.00      0.00         3\n",
            "          33       0.00      0.00      0.00        12\n",
            "          34       0.00      0.00      0.00        18\n",
            "          35       0.00      0.00      0.00         8\n",
            "          36       0.00      0.00      0.00        19\n",
            "          38       0.00      0.00      0.00         7\n",
            "          39       0.00      0.00      0.00         1\n",
            "          40       0.00      0.00      0.00        10\n",
            "          41       0.00      0.00      0.00         7\n",
            "          42       0.00      0.00      0.00        14\n",
            "          43       0.00      0.00      0.00         6\n",
            "          44       0.00      0.00      0.00         6\n",
            "          45       0.00      0.00      0.00        14\n",
            "          46       0.00      0.00      0.00         1\n",
            "          47       0.00      0.00      0.00         1\n",
            "          48       0.00      0.00      0.00         7\n",
            "          49       0.00      0.00      0.00         3\n",
            "          50       0.00      0.00      0.00         8\n",
            "          51       0.00      0.00      0.00         2\n",
            "          52       0.00      0.00      0.00         5\n",
            "          53       0.00      0.00      0.00         1\n",
            "          54       0.00      0.00      0.00         1\n",
            "          55       0.00      0.00      0.00         5\n",
            "          56       0.00      0.00      0.00         2\n",
            "          57       0.00      0.00      0.00         2\n",
            "          58       0.00      0.00      0.00         5\n",
            "          59       0.00      0.00      0.00         1\n",
            "          60       0.00      0.00      0.00         3\n",
            "          61       0.00      0.00      0.00         3\n",
            "          62       0.00      0.00      0.00         1\n",
            "          63       0.00      0.00      0.00         3\n",
            "          65       0.00      0.00      0.00         1\n",
            "          66       0.00      0.00      0.00         2\n",
            "          67       0.00      0.00      0.00         1\n",
            "          69       0.00      0.00      0.00         1\n",
            "          70       0.00      0.00      0.00         1\n",
            "          71       0.00      0.00      0.00         1\n",
            "          72       0.00      0.00      0.00         1\n",
            "          73       0.00      0.00      0.00         1\n",
            "          75       0.00      0.00      0.00         1\n",
            "          76       0.00      0.00      0.00         1\n",
            "          77       0.00      0.00      0.00         1\n",
            "\n",
            "    accuracy                           0.89     47486\n",
            "   macro avg       0.18      0.14      0.15     47486\n",
            "weighted avg       0.88      0.89      0.88     47486\n",
            "\n"
          ]
        }
      ]
    },
    {
      "cell_type": "markdown",
      "metadata": {
        "id": "mvVzIvfjZ7x8"
      },
      "source": [
        "### Model 3"
      ]
    },
    {
      "cell_type": "code",
      "metadata": {
        "id": "yMcPxBV6uqAt"
      },
      "source": [
        "params_3 = {\n",
        "    'dropout': 0.25,\n",
        "    'filters': 512,\n",
        "    'kernel_size': 3,\n",
        "    'strides': 2,\n",
        "    'pooling': GlobalMaxPooling1D(),\n",
        "    'hidden_dims': 128,\n",
        "    'learning_rate': 0.01,\n",
        "    'batch_size': 64,\n",
        "    'optimizer': 'adam',\n",
        "    'epochs': 100,\n",
        "    'verbose': 1,\n",
        "    'patience': 20\n",
        "}"
      ],
      "execution_count": 103,
      "outputs": []
    },
    {
      "cell_type": "code",
      "metadata": {
        "id": "efNFrHJHup2E",
        "colab": {
          "base_uri": "https://localhost:8080/"
        },
        "outputId": "17179e8b-cbf3-4217-ee94-c7f1d1443baf"
      },
      "source": [
        "history_3, model_3 = train_model(X_train, y_train, X_val, y_val, params_3)"
      ],
      "execution_count": 104,
      "outputs": [
        {
          "output_type": "stream",
          "name": "stdout",
          "text": [
            "Epoch 1/100\n",
            "742/742 [==============================] - 4s 5ms/step - loss: 0.8164 - accuracy: 0.7764 - val_loss: 0.6639 - val_accuracy: 0.8194\n",
            "Epoch 2/100\n",
            "742/742 [==============================] - 3s 4ms/step - loss: 0.6377 - accuracy: 0.8333 - val_loss: 0.5744 - val_accuracy: 0.8600\n",
            "Epoch 3/100\n",
            "742/742 [==============================] - 3s 4ms/step - loss: 0.6064 - accuracy: 0.8401 - val_loss: 0.6110 - val_accuracy: 0.8524\n",
            "Epoch 4/100\n",
            "742/742 [==============================] - 3s 4ms/step - loss: 0.5960 - accuracy: 0.8420 - val_loss: 0.5959 - val_accuracy: 0.8588\n",
            "Epoch 5/100\n",
            "742/742 [==============================] - 3s 4ms/step - loss: 0.5862 - accuracy: 0.8439 - val_loss: 0.5876 - val_accuracy: 0.8649\n",
            "Epoch 6/100\n",
            "742/742 [==============================] - 3s 4ms/step - loss: 0.5848 - accuracy: 0.8437 - val_loss: 0.7114 - val_accuracy: 0.8550\n",
            "Epoch 7/100\n",
            "742/742 [==============================] - 3s 4ms/step - loss: 0.5752 - accuracy: 0.8466 - val_loss: 0.7294 - val_accuracy: 0.8637\n",
            "Epoch 8/100\n",
            "742/742 [==============================] - 3s 4ms/step - loss: 0.5845 - accuracy: 0.8463 - val_loss: 0.7058 - val_accuracy: 0.8560\n",
            "Epoch 9/100\n",
            "742/742 [==============================] - 3s 4ms/step - loss: 0.5696 - accuracy: 0.8463 - val_loss: 0.6992 - val_accuracy: 0.8605\n",
            "Epoch 10/100\n",
            "742/742 [==============================] - 3s 4ms/step - loss: 0.5668 - accuracy: 0.8482 - val_loss: 0.7386 - val_accuracy: 0.8668\n",
            "Epoch 11/100\n",
            "742/742 [==============================] - 3s 4ms/step - loss: 0.5967 - accuracy: 0.8460 - val_loss: 0.7269 - val_accuracy: 0.8681\n",
            "Epoch 12/100\n",
            "742/742 [==============================] - 3s 4ms/step - loss: 0.5636 - accuracy: 0.8474 - val_loss: 1.0093 - val_accuracy: 0.8639\n",
            "Epoch 13/100\n",
            "742/742 [==============================] - 3s 4ms/step - loss: 0.5852 - accuracy: 0.8466 - val_loss: 0.7933 - val_accuracy: 0.8647\n",
            "Epoch 14/100\n",
            "742/742 [==============================] - 3s 5ms/step - loss: 0.5834 - accuracy: 0.8444 - val_loss: 0.9316 - val_accuracy: 0.8601\n",
            "Epoch 15/100\n",
            "742/742 [==============================] - 3s 5ms/step - loss: 0.5693 - accuracy: 0.8485 - val_loss: 0.8343 - val_accuracy: 0.8675\n",
            "Epoch 16/100\n",
            "742/742 [==============================] - 3s 5ms/step - loss: 0.5705 - accuracy: 0.8472 - val_loss: 1.0208 - val_accuracy: 0.8617\n",
            "Epoch 17/100\n",
            "742/742 [==============================] - 3s 4ms/step - loss: 0.5811 - accuracy: 0.8493 - val_loss: 1.0116 - val_accuracy: 0.8609\n",
            "Epoch 18/100\n",
            "742/742 [==============================] - 3s 4ms/step - loss: 0.5770 - accuracy: 0.8461 - val_loss: 0.9596 - val_accuracy: 0.8653\n",
            "Epoch 19/100\n",
            "742/742 [==============================] - 3s 4ms/step - loss: 0.5885 - accuracy: 0.8467 - val_loss: 1.3850 - val_accuracy: 0.8577\n",
            "Epoch 20/100\n",
            "742/742 [==============================] - 3s 4ms/step - loss: 0.5865 - accuracy: 0.8456 - val_loss: 1.2136 - val_accuracy: 0.8634\n",
            "Epoch 21/100\n",
            "742/742 [==============================] - 3s 4ms/step - loss: 0.6145 - accuracy: 0.8404 - val_loss: 1.4615 - val_accuracy: 0.8607\n",
            "Epoch 22/100\n",
            "742/742 [==============================] - 3s 4ms/step - loss: 0.5985 - accuracy: 0.8441 - val_loss: 1.4778 - val_accuracy: 0.8620\n",
            "Epoch 00022: early stopping\n"
          ]
        }
      ]
    },
    {
      "cell_type": "code",
      "metadata": {
        "id": "Eihvx50SulgH",
        "colab": {
          "base_uri": "https://localhost:8080/",
          "height": 404
        },
        "outputId": "7b979c5a-7c6c-4b74-eb10-fba9c1f71b06"
      },
      "source": [
        "plot_history(history_3)"
      ],
      "execution_count": 105,
      "outputs": [
        {
          "output_type": "display_data",
          "data": {
            "image/png": "[encoded data removed]",
            "text/plain": [
              "<Figure size 864x432 with 2 Axes>"
            ]
          },
          "metadata": {
            "needs_background": "light"
          }
        }
      ]
    },
    {
      "cell_type": "code",
      "metadata": {
        "colab": {
          "base_uri": "https://localhost:8080/"
        },
        "id": "LiqihG6FBi4Q",
        "outputId": "1fd4d611-3209-417d-949b-9d6926c68613"
      },
      "source": [
        "model_classification_report(model_3, X_train, y_train)"
      ],
      "execution_count": 106,
      "outputs": [
        {
          "output_type": "stream",
          "name": "stdout",
          "text": [
            "1484/1484 [==============================] - 2s 1ms/step\n",
            "              precision    recall  f1-score   support\n",
            "\n",
            "           0       0.82      0.99      0.89     16773\n",
            "           1       1.00      1.00      1.00      9264\n",
            "           2       0.74      0.84      0.78      2743\n",
            "           3       0.88      0.53      0.66      4151\n",
            "           4       0.87      0.89      0.88      5375\n",
            "           5       0.94      0.76      0.84      2564\n",
            "           6       0.98      0.99      0.98      1946\n",
            "           7       0.99      0.93      0.96       872\n",
            "           8       0.98      0.75      0.85       612\n",
            "           9       0.50      0.03      0.06        29\n",
            "          10       1.00      0.10      0.18       310\n",
            "          11       0.86      0.65      0.74       831\n",
            "          12       0.00      0.00      0.00        46\n",
            "          13       0.59      0.29      0.39       161\n",
            "          14       1.00      0.99      1.00       408\n",
            "          15       0.00      0.00      0.00        19\n",
            "          16       1.00      0.95      0.97       402\n",
            "          17       0.00      0.00      0.00       112\n",
            "          18       0.00      0.00      0.00       287\n",
            "          19       0.00      0.00      0.00        11\n",
            "          20       0.10      0.01      0.01       160\n",
            "          21       0.00      0.00      0.00        92\n",
            "          22       0.00      0.00      0.00        11\n",
            "          23       0.00      0.00      0.00        17\n",
            "          24       0.00      0.00      0.00         8\n",
            "          25       0.00      0.00      0.00        22\n",
            "          26       0.00      0.00      0.00         9\n",
            "          27       0.00      0.00      0.00        15\n",
            "          28       0.00      0.00      0.00        29\n",
            "          30       0.00      0.00      0.00         7\n",
            "          31       0.00      0.00      0.00         9\n",
            "          32       0.00      0.00      0.00         3\n",
            "          33       0.00      0.00      0.00        12\n",
            "          34       0.00      0.00      0.00        18\n",
            "          35       0.00      0.00      0.00         8\n",
            "          36       0.00      0.00      0.00        19\n",
            "          38       0.00      0.00      0.00         7\n",
            "          39       0.00      0.00      0.00         1\n",
            "          40       0.00      0.00      0.00        10\n",
            "          41       0.00      0.00      0.00         7\n",
            "          42       0.00      0.00      0.00        14\n",
            "          43       0.00      0.00      0.00         6\n",
            "          44       0.00      0.00      0.00         6\n",
            "          45       0.00      0.00      0.00        14\n",
            "          46       0.00      0.00      0.00         1\n",
            "          47       0.00      0.00      0.00         1\n",
            "          48       0.00      0.00      0.00         7\n",
            "          49       0.00      0.00      0.00         3\n",
            "          50       0.00      0.00      0.00         8\n",
            "          51       0.00      0.00      0.00         2\n",
            "          52       0.00      0.00      0.00         5\n",
            "          53       0.00      0.00      0.00         1\n",
            "          54       0.00      0.00      0.00         1\n",
            "          55       0.00      0.00      0.00         5\n",
            "          56       0.00      0.00      0.00         2\n",
            "          57       0.00      0.00      0.00         2\n",
            "          58       0.00      0.00      0.00         5\n",
            "          59       0.00      0.00      0.00         1\n",
            "          60       0.00      0.00      0.00         3\n",
            "          61       0.00      0.00      0.00         3\n",
            "          62       0.00      0.00      0.00         1\n",
            "          63       0.00      0.00      0.00         3\n",
            "          65       0.00      0.00      0.00         1\n",
            "          66       0.00      0.00      0.00         2\n",
            "          67       0.00      0.00      0.00         1\n",
            "          69       0.00      0.00      0.00         1\n",
            "          70       0.00      0.00      0.00         1\n",
            "          71       0.00      0.00      0.00         1\n",
            "          72       0.00      0.00      0.00         1\n",
            "          73       0.00      0.00      0.00         1\n",
            "          75       0.00      0.00      0.00         1\n",
            "          76       0.00      0.00      0.00         1\n",
            "          77       0.00      0.00      0.00         1\n",
            "\n",
            "    accuracy                           0.88     47486\n",
            "   macro avg       0.18      0.15      0.15     47486\n",
            "weighted avg       0.86      0.88      0.86     47486\n",
            "\n"
          ]
        }
      ]
    },
    {
      "cell_type": "markdown",
      "metadata": {
        "id": "hEVianPSZ7yA"
      },
      "source": [
        "### Model 4"
      ]
    },
    {
      "cell_type": "code",
      "metadata": {
        "id": "pGYoB2ylul9S"
      },
      "source": [
        "params_4 = {\n",
        "    'dropout': 0.5,\n",
        "    'filters': 128,\n",
        "    'kernel_size': 5,\n",
        "    'strides': 1,\n",
        "    'pooling': GlobalMaxPooling1D(),  # MaxPool1D(), AveragePooling1D(), \n",
        "    'hidden_dims': 256,\n",
        "    'learning_rate': 0.001,\n",
        "    'batch_size': 64,\n",
        "    'optimizer': 'adam',\n",
        "    'epochs': 100,\n",
        "    'verbose': 1,\n",
        "    'patience': 20\n",
        "}"
      ],
      "execution_count": 107,
      "outputs": []
    },
    {
      "cell_type": "code",
      "metadata": {
        "id": "jQn8mCPaumkn",
        "colab": {
          "base_uri": "https://localhost:8080/"
        },
        "outputId": "ca99f078-34cf-4621-967c-852beac7ed66"
      },
      "source": [
        "history_4, model_4 = train_model(X_train, y_train, X_val, y_val, params_4)"
      ],
      "execution_count": 108,
      "outputs": [
        {
          "output_type": "stream",
          "name": "stdout",
          "text": [
            "Epoch 1/100\n",
            "742/742 [==============================] - 4s 5ms/step - loss: 1.1970 - accuracy: 0.6716 - val_loss: 0.6459 - val_accuracy: 0.8137\n",
            "Epoch 2/100\n",
            "742/742 [==============================] - 3s 4ms/step - loss: 0.6123 - accuracy: 0.8302 - val_loss: 0.4926 - val_accuracy: 0.8579\n",
            "Epoch 3/100\n",
            "742/742 [==============================] - 3s 4ms/step - loss: 0.5112 - accuracy: 0.8572 - val_loss: 0.4316 - val_accuracy: 0.8755\n",
            "Epoch 4/100\n",
            "742/742 [==============================] - 3s 4ms/step - loss: 0.4601 - accuracy: 0.8711 - val_loss: 0.3896 - val_accuracy: 0.8893\n",
            "Epoch 5/100\n",
            "742/742 [==============================] - 3s 4ms/step - loss: 0.4253 - accuracy: 0.8797 - val_loss: 0.3754 - val_accuracy: 0.8950\n",
            "Epoch 6/100\n",
            "742/742 [==============================] - 3s 4ms/step - loss: 0.4009 - accuracy: 0.8853 - val_loss: 0.3610 - val_accuracy: 0.8979\n",
            "Epoch 7/100\n",
            "742/742 [==============================] - 3s 4ms/step - loss: 0.3815 - accuracy: 0.8883 - val_loss: 0.3524 - val_accuracy: 0.9045\n",
            "Epoch 8/100\n",
            "742/742 [==============================] - 3s 4ms/step - loss: 0.3665 - accuracy: 0.8931 - val_loss: 0.3465 - val_accuracy: 0.9045\n",
            "Epoch 9/100\n",
            "742/742 [==============================] - 3s 4ms/step - loss: 0.3513 - accuracy: 0.8986 - val_loss: 0.3408 - val_accuracy: 0.9092\n",
            "Epoch 10/100\n",
            "742/742 [==============================] - 3s 4ms/step - loss: 0.3418 - accuracy: 0.9008 - val_loss: 0.3388 - val_accuracy: 0.9077\n",
            "Epoch 11/100\n",
            "742/742 [==============================] - 3s 4ms/step - loss: 0.3324 - accuracy: 0.9025 - val_loss: 0.3388 - val_accuracy: 0.9096\n",
            "Epoch 12/100\n",
            "742/742 [==============================] - 3s 4ms/step - loss: 0.3260 - accuracy: 0.9022 - val_loss: 0.3343 - val_accuracy: 0.9088\n",
            "Epoch 13/100\n",
            "742/742 [==============================] - 3s 4ms/step - loss: 0.3184 - accuracy: 0.9055 - val_loss: 0.3344 - val_accuracy: 0.9096\n",
            "Epoch 14/100\n",
            "742/742 [==============================] - 3s 4ms/step - loss: 0.3121 - accuracy: 0.9071 - val_loss: 0.3313 - val_accuracy: 0.9106\n",
            "Epoch 15/100\n",
            "742/742 [==============================] - 3s 4ms/step - loss: 0.3064 - accuracy: 0.9082 - val_loss: 0.3370 - val_accuracy: 0.9107\n",
            "Epoch 16/100\n",
            "742/742 [==============================] - 3s 4ms/step - loss: 0.3014 - accuracy: 0.9096 - val_loss: 0.3303 - val_accuracy: 0.9121\n",
            "Epoch 17/100\n",
            "742/742 [==============================] - 3s 4ms/step - loss: 0.2984 - accuracy: 0.9092 - val_loss: 0.3366 - val_accuracy: 0.9134\n",
            "Epoch 18/100\n",
            "742/742 [==============================] - 3s 4ms/step - loss: 0.2920 - accuracy: 0.9110 - val_loss: 0.3400 - val_accuracy: 0.9125\n",
            "Epoch 19/100\n",
            "742/742 [==============================] - 3s 4ms/step - loss: 0.2899 - accuracy: 0.9124 - val_loss: 0.3348 - val_accuracy: 0.9134\n",
            "Epoch 20/100\n",
            "742/742 [==============================] - 3s 4ms/step - loss: 0.2865 - accuracy: 0.9132 - val_loss: 0.3355 - val_accuracy: 0.9147\n",
            "Epoch 21/100\n",
            "742/742 [==============================] - 3s 4ms/step - loss: 0.2809 - accuracy: 0.9149 - val_loss: 0.3395 - val_accuracy: 0.9145\n",
            "Epoch 22/100\n",
            "742/742 [==============================] - 3s 4ms/step - loss: 0.2769 - accuracy: 0.9149 - val_loss: 0.3407 - val_accuracy: 0.9176\n",
            "Epoch 23/100\n",
            "742/742 [==============================] - 3s 4ms/step - loss: 0.2810 - accuracy: 0.9141 - val_loss: 0.3363 - val_accuracy: 0.9159\n",
            "Epoch 24/100\n",
            "742/742 [==============================] - 3s 4ms/step - loss: 0.2762 - accuracy: 0.9155 - val_loss: 0.3486 - val_accuracy: 0.9109\n",
            "Epoch 25/100\n",
            "742/742 [==============================] - 3s 4ms/step - loss: 0.2732 - accuracy: 0.9159 - val_loss: 0.3512 - val_accuracy: 0.9125\n",
            "Epoch 26/100\n",
            "742/742 [==============================] - 3s 4ms/step - loss: 0.2703 - accuracy: 0.9174 - val_loss: 0.3462 - val_accuracy: 0.9136\n",
            "Epoch 27/100\n",
            "742/742 [==============================] - 3s 4ms/step - loss: 0.2647 - accuracy: 0.9178 - val_loss: 0.3454 - val_accuracy: 0.9145\n",
            "Epoch 28/100\n",
            "742/742 [==============================] - 3s 4ms/step - loss: 0.2639 - accuracy: 0.9172 - val_loss: 0.3536 - val_accuracy: 0.9155\n",
            "Epoch 29/100\n",
            "742/742 [==============================] - 3s 4ms/step - loss: 0.2660 - accuracy: 0.9179 - val_loss: 0.3654 - val_accuracy: 0.9151\n",
            "Epoch 30/100\n",
            "742/742 [==============================] - 3s 4ms/step - loss: 0.2565 - accuracy: 0.9212 - val_loss: 0.3594 - val_accuracy: 0.9119\n",
            "Epoch 31/100\n",
            "742/742 [==============================] - 3s 4ms/step - loss: 0.2581 - accuracy: 0.9209 - val_loss: 0.3578 - val_accuracy: 0.9159\n",
            "Epoch 32/100\n",
            "742/742 [==============================] - 3s 4ms/step - loss: 0.2590 - accuracy: 0.9191 - val_loss: 0.3505 - val_accuracy: 0.9157\n",
            "Epoch 33/100\n",
            "742/742 [==============================] - 3s 4ms/step - loss: 0.2536 - accuracy: 0.9219 - val_loss: 0.3660 - val_accuracy: 0.9142\n",
            "Epoch 34/100\n",
            "742/742 [==============================] - 3s 4ms/step - loss: 0.2545 - accuracy: 0.9202 - val_loss: 0.3743 - val_accuracy: 0.9168\n",
            "Epoch 35/100\n",
            "742/742 [==============================] - 3s 4ms/step - loss: 0.2479 - accuracy: 0.9217 - val_loss: 0.3854 - val_accuracy: 0.9161\n",
            "Epoch 36/100\n",
            "742/742 [==============================] - 3s 4ms/step - loss: 0.2493 - accuracy: 0.9232 - val_loss: 0.3892 - val_accuracy: 0.9153\n",
            "Epoch 00036: early stopping\n"
          ]
        }
      ]
    },
    {
      "cell_type": "code",
      "metadata": {
        "id": "XRkEoCRpumqN",
        "colab": {
          "base_uri": "https://localhost:8080/",
          "height": 404
        },
        "outputId": "ac51f8cc-a5a6-405d-8602-cb7c58541c1e"
      },
      "source": [
        "plot_history(history_4)"
      ],
      "execution_count": 109,
      "outputs": [
        {
          "output_type": "display_data",
          "data": {
            "image/png": "[encoded data removed]",
            "text/plain": [
              "<Figure size 864x432 with 2 Axes>"
            ]
          },
          "metadata": {
            "needs_background": "light"
          }
        }
      ]
    },
    {
      "cell_type": "code",
      "metadata": {
        "colab": {
          "base_uri": "https://localhost:8080/"
        },
        "id": "Jc-Nh7PEBhDY",
        "outputId": "3f014474-674f-410a-ec37-80ca7416d032"
      },
      "source": [
        "model_classification_report(model_4, X_train, y_train)"
      ],
      "execution_count": 111,
      "outputs": [
        {
          "output_type": "stream",
          "name": "stdout",
          "text": [
            "1484/1484 [==============================] - 2s 1ms/step\n",
            "              precision    recall  f1-score   support\n",
            "\n",
            "           0       0.94      0.98      0.96     16773\n",
            "           1       1.00      1.00      1.00      9264\n",
            "           2       0.86      0.93      0.90      2743\n",
            "           3       0.86      0.74      0.80      4151\n",
            "           4       0.94      0.97      0.95      5375\n",
            "           5       0.95      0.93      0.94      2564\n",
            "           6       0.98      1.00      0.99      1946\n",
            "           7       0.98      1.00      0.99       872\n",
            "           8       0.97      0.91      0.94       612\n",
            "           9       1.00      0.90      0.95        29\n",
            "          10       0.93      0.83      0.88       310\n",
            "          11       0.96      0.89      0.92       831\n",
            "          12       0.90      0.78      0.84        46\n",
            "          13       0.94      0.76      0.84       161\n",
            "          14       1.00      1.00      1.00       408\n",
            "          15       1.00      1.00      1.00        19\n",
            "          16       1.00      1.00      1.00       402\n",
            "          17       0.00      0.00      0.00       112\n",
            "          18       0.81      0.79      0.80       287\n",
            "          19       0.00      0.00      0.00        11\n",
            "          20       0.84      0.61      0.71       160\n",
            "          21       0.95      0.76      0.84        92\n",
            "          22       1.00      0.55      0.71        11\n",
            "          23       1.00      0.94      0.97        17\n",
            "          24       1.00      0.25      0.40         8\n",
            "          25       0.84      0.73      0.78        22\n",
            "          26       1.00      1.00      1.00         9\n",
            "          27       0.88      1.00      0.94        15\n",
            "          28       1.00      1.00      1.00        29\n",
            "          30       0.00      0.00      0.00         7\n",
            "          31       1.00      0.11      0.20         9\n",
            "          32       0.00      0.00      0.00         3\n",
            "          33       1.00      1.00      1.00        12\n",
            "          34       1.00      0.89      0.94        18\n",
            "          35       1.00      0.25      0.40         8\n",
            "          36       0.93      0.68      0.79        19\n",
            "          38       0.00      0.00      0.00         7\n",
            "          39       0.00      0.00      0.00         1\n",
            "          40       1.00      0.30      0.46        10\n",
            "          41       1.00      1.00      1.00         7\n",
            "          42       1.00      0.07      0.13        14\n",
            "          43       0.86      1.00      0.92         6\n",
            "          44       1.00      0.17      0.29         6\n",
            "          45       1.00      0.71      0.83        14\n",
            "          46       0.00      0.00      0.00         1\n",
            "          47       0.00      0.00      0.00         1\n",
            "          48       0.00      0.00      0.00         7\n",
            "          49       0.00      0.00      0.00         3\n",
            "          50       0.00      0.00      0.00         8\n",
            "          51       0.00      0.00      0.00         2\n",
            "          52       1.00      1.00      1.00         5\n",
            "          53       0.00      0.00      0.00         1\n",
            "          54       0.00      0.00      0.00         1\n",
            "          55       0.00      0.00      0.00         5\n",
            "          56       0.00      0.00      0.00         2\n",
            "          57       0.00      0.00      0.00         2\n",
            "          58       0.00      0.00      0.00         5\n",
            "          59       0.00      0.00      0.00         1\n",
            "          60       1.00      0.67      0.80         3\n",
            "          61       1.00      0.67      0.80         3\n",
            "          62       0.00      0.00      0.00         1\n",
            "          63       1.00      1.00      1.00         3\n",
            "          65       0.00      0.00      0.00         1\n",
            "          66       0.00      0.00      0.00         2\n",
            "          67       0.00      0.00      0.00         1\n",
            "          69       0.00      0.00      0.00         1\n",
            "          70       1.00      1.00      1.00         1\n",
            "          71       0.00      0.00      0.00         1\n",
            "          72       0.00      0.00      0.00         1\n",
            "          73       0.00      0.00      0.00         1\n",
            "          75       0.00      0.00      0.00         1\n",
            "          76       0.00      0.00      0.00         1\n",
            "          77       1.00      1.00      1.00         1\n",
            "\n",
            "    accuracy                           0.95     47486\n",
            "   macro avg       0.58      0.48      0.50     47486\n",
            "weighted avg       0.94      0.95      0.94     47486\n",
            "\n"
          ]
        }
      ]
    },
    {
      "cell_type": "markdown",
      "metadata": {
        "id": "6ppJsLIgZ7yF"
      },
      "source": [
        "### Model 5"
      ]
    },
    {
      "cell_type": "code",
      "metadata": {
        "id": "B_vkd9TKZ7yF"
      },
      "source": [
        "params_5 = {\n",
        "    'dropout': 0.25,\n",
        "    'filters': 128,\n",
        "    'kernel_size': 5,\n",
        "    'strides': 1,\n",
        "    'pooling': GlobalMaxPooling1D(),  # MaxPool1D(), AveragePooling1D(), \n",
        "    'hidden_dims': 128,\n",
        "    'learning_rate': 0.001,\n",
        "    'batch_size': 128,\n",
        "    'optimizer': 'adam',\n",
        "    'epochs': 100,\n",
        "    'verbose': 1,\n",
        "    'patience': 20\n",
        "}"
      ],
      "execution_count": 62,
      "outputs": []
    },
    {
      "cell_type": "code",
      "metadata": {
        "id": "w7ycHv2cZ7yH",
        "colab": {
          "base_uri": "https://localhost:8080/"
        },
        "outputId": "3f210590-00dc-4a75-96fe-d53557c4d0ad"
      },
      "source": [
        "history_5, model_5 = train_model(X_train, y_train, X_val, y_val, params_5)"
      ],
      "execution_count": 63,
      "outputs": [
        {
          "output_type": "stream",
          "name": "stdout",
          "text": [
            "Epoch 1/100\n",
            "371/371 [==============================] - 20s 8ms/step - loss: 1.2866 - accuracy: 0.6652 - val_loss: 0.6230 - val_accuracy: 0.8298\n",
            "Epoch 2/100\n",
            "371/371 [==============================] - 3s 7ms/step - loss: 0.5464 - accuracy: 0.8527 - val_loss: 0.4553 - val_accuracy: 0.8713\n",
            "Epoch 3/100\n",
            "371/371 [==============================] - 3s 7ms/step - loss: 0.4372 - accuracy: 0.8795 - val_loss: 0.4100 - val_accuracy: 0.8846\n",
            "Epoch 4/100\n",
            "371/371 [==============================] - 2s 7ms/step - loss: 0.3842 - accuracy: 0.8912 - val_loss: 0.3760 - val_accuracy: 0.8943\n",
            "Epoch 5/100\n",
            "371/371 [==============================] - 3s 7ms/step - loss: 0.3479 - accuracy: 0.8993 - val_loss: 0.3584 - val_accuracy: 0.8977\n",
            "Epoch 6/100\n",
            "371/371 [==============================] - 2s 7ms/step - loss: 0.3187 - accuracy: 0.9076 - val_loss: 0.3429 - val_accuracy: 0.9020\n",
            "Epoch 7/100\n",
            "371/371 [==============================] - 3s 7ms/step - loss: 0.3000 - accuracy: 0.9122 - val_loss: 0.3335 - val_accuracy: 0.9075\n",
            "Epoch 8/100\n",
            "371/371 [==============================] - 3s 7ms/step - loss: 0.2779 - accuracy: 0.9175 - val_loss: 0.3254 - val_accuracy: 0.9090\n",
            "Epoch 9/100\n",
            "371/371 [==============================] - 2s 7ms/step - loss: 0.2645 - accuracy: 0.9212 - val_loss: 0.3155 - val_accuracy: 0.9111\n",
            "Epoch 10/100\n",
            "371/371 [==============================] - 2s 7ms/step - loss: 0.2488 - accuracy: 0.9258 - val_loss: 0.3143 - val_accuracy: 0.9104\n",
            "Epoch 11/100\n",
            "371/371 [==============================] - 3s 7ms/step - loss: 0.2372 - accuracy: 0.9276 - val_loss: 0.3171 - val_accuracy: 0.9117\n",
            "Epoch 12/100\n",
            "371/371 [==============================] - 3s 7ms/step - loss: 0.2293 - accuracy: 0.9312 - val_loss: 0.3267 - val_accuracy: 0.9115\n",
            "Epoch 13/100\n",
            "371/371 [==============================] - 2s 7ms/step - loss: 0.2221 - accuracy: 0.9329 - val_loss: 0.3199 - val_accuracy: 0.9155\n",
            "Epoch 14/100\n",
            "371/371 [==============================] - 3s 7ms/step - loss: 0.2166 - accuracy: 0.9340 - val_loss: 0.3176 - val_accuracy: 0.9157\n",
            "Epoch 15/100\n",
            "371/371 [==============================] - 3s 7ms/step - loss: 0.2064 - accuracy: 0.9350 - val_loss: 0.3167 - val_accuracy: 0.9143\n",
            "Epoch 16/100\n",
            "371/371 [==============================] - 3s 7ms/step - loss: 0.2024 - accuracy: 0.9377 - val_loss: 0.3234 - val_accuracy: 0.9142\n",
            "Epoch 17/100\n",
            "371/371 [==============================] - 3s 7ms/step - loss: 0.1924 - accuracy: 0.9404 - val_loss: 0.3197 - val_accuracy: 0.9157\n",
            "Epoch 18/100\n",
            "371/371 [==============================] - 3s 7ms/step - loss: 0.1886 - accuracy: 0.9414 - val_loss: 0.3300 - val_accuracy: 0.9128\n",
            "Epoch 19/100\n",
            "371/371 [==============================] - 3s 7ms/step - loss: 0.1831 - accuracy: 0.9412 - val_loss: 0.3233 - val_accuracy: 0.9155\n",
            "Epoch 20/100\n",
            "371/371 [==============================] - 3s 7ms/step - loss: 0.1797 - accuracy: 0.9430 - val_loss: 0.3402 - val_accuracy: 0.9162\n",
            "Epoch 21/100\n",
            "371/371 [==============================] - 3s 7ms/step - loss: 0.1719 - accuracy: 0.9443 - val_loss: 0.3350 - val_accuracy: 0.9164\n",
            "Epoch 22/100\n",
            "371/371 [==============================] - 3s 7ms/step - loss: 0.1711 - accuracy: 0.9452 - val_loss: 0.3308 - val_accuracy: 0.9170\n",
            "Epoch 23/100\n",
            "371/371 [==============================] - 3s 7ms/step - loss: 0.1636 - accuracy: 0.9475 - val_loss: 0.3427 - val_accuracy: 0.9157\n",
            "Epoch 24/100\n",
            "371/371 [==============================] - 3s 7ms/step - loss: 0.1636 - accuracy: 0.9467 - val_loss: 0.3407 - val_accuracy: 0.9153\n",
            "Epoch 25/100\n",
            "371/371 [==============================] - 3s 7ms/step - loss: 0.1585 - accuracy: 0.9485 - val_loss: 0.3432 - val_accuracy: 0.9168\n",
            "Epoch 26/100\n",
            "371/371 [==============================] - 2s 7ms/step - loss: 0.1568 - accuracy: 0.9482 - val_loss: 0.3518 - val_accuracy: 0.9130\n",
            "Epoch 27/100\n",
            "371/371 [==============================] - 3s 7ms/step - loss: 0.1519 - accuracy: 0.9500 - val_loss: 0.3530 - val_accuracy: 0.9157\n",
            "Epoch 28/100\n",
            "371/371 [==============================] - 3s 7ms/step - loss: 0.1513 - accuracy: 0.9505 - val_loss: 0.3585 - val_accuracy: 0.9134\n",
            "Epoch 29/100\n",
            "371/371 [==============================] - 2s 7ms/step - loss: 0.1475 - accuracy: 0.9503 - val_loss: 0.3540 - val_accuracy: 0.9164\n",
            "Epoch 30/100\n",
            "371/371 [==============================] - 3s 7ms/step - loss: 0.1448 - accuracy: 0.9520 - val_loss: 0.3631 - val_accuracy: 0.9176\n",
            "Epoch 00030: early stopping\n"
          ]
        }
      ]
    },
    {
      "cell_type": "code",
      "metadata": {
        "id": "3mqaX1uMZ7yJ",
        "colab": {
          "base_uri": "https://localhost:8080/",
          "height": 404
        },
        "outputId": "61251b1c-069b-48b7-8834-a463e5263b1d"
      },
      "source": [
        "plot_history(history_5)"
      ],
      "execution_count": null,
      "outputs": [
        {
          "output_type": "display_data",
          "data": {
            "image/png": "[encoded data removed]",
            "text/plain": [
              "<Figure size 864x432 with 2 Axes>"
            ]
          },
          "metadata": {
            "needs_background": "light"
          }
        }
      ]
    },
    {
      "cell_type": "code",
      "metadata": {
        "colab": {
          "base_uri": "https://localhost:8080/"
        },
        "id": "TC-Km8wI4B-T",
        "outputId": "562afa3c-f779-4a68-a98b-9651daa19ee6"
      },
      "source": [
        "model_classification_report(model_5, X_train, y_train)"
      ],
      "execution_count": 77,
      "outputs": [
        {
          "output_type": "stream",
          "name": "stdout",
          "text": [
            "1484/1484 [==============================] - 2s 1ms/step\n",
            "              precision    recall  f1-score   support\n",
            "\n",
            "           0       0.98      0.99      0.99     16773\n",
            "           1       1.00      1.00      1.00      9264\n",
            "           2       0.88      0.99      0.93      2743\n",
            "           3       0.94      0.83      0.88      4151\n",
            "           4       0.97      0.99      0.98      5375\n",
            "           5       0.97      0.97      0.97      2564\n",
            "           6       1.00      1.00      1.00      1946\n",
            "           7       1.00      1.00      1.00       872\n",
            "           8       0.99      0.96      0.98       612\n",
            "           9       1.00      0.97      0.98        29\n",
            "          10       0.96      0.95      0.96       310\n",
            "          11       0.99      0.95      0.97       831\n",
            "          12       1.00      0.91      0.95        46\n",
            "          13       0.99      0.94      0.97       161\n",
            "          14       1.00      1.00      1.00       408\n",
            "          15       1.00      1.00      1.00        19\n",
            "          16       1.00      1.00      1.00       402\n",
            "          17       0.77      0.09      0.16       112\n",
            "          18       0.90      0.93      0.91       287\n",
            "          19       1.00      0.09      0.17        11\n",
            "          20       0.94      0.90      0.92       160\n",
            "          21       0.99      0.90      0.94        92\n",
            "          22       0.69      0.82      0.75        11\n",
            "          23       1.00      1.00      1.00        17\n",
            "          24       1.00      0.88      0.93         8\n",
            "          25       1.00      0.86      0.93        22\n",
            "          26       1.00      1.00      1.00         9\n",
            "          27       1.00      1.00      1.00        15\n",
            "          28       1.00      1.00      1.00        29\n",
            "          30       1.00      0.29      0.44         7\n",
            "          31       1.00      0.11      0.20         9\n",
            "          32       0.00      0.00      0.00         3\n",
            "          33       1.00      1.00      1.00        12\n",
            "          34       1.00      0.94      0.97        18\n",
            "          35       1.00      0.88      0.93         8\n",
            "          36       1.00      0.79      0.88        19\n",
            "          38       1.00      0.29      0.44         7\n",
            "          39       0.00      0.00      0.00         1\n",
            "          40       1.00      0.50      0.67        10\n",
            "          41       1.00      1.00      1.00         7\n",
            "          42       1.00      0.64      0.78        14\n",
            "          43       1.00      1.00      1.00         6\n",
            "          44       1.00      0.67      0.80         6\n",
            "          45       1.00      1.00      1.00        14\n",
            "          46       0.00      0.00      0.00         1\n",
            "          47       1.00      1.00      1.00         1\n",
            "          48       1.00      0.14      0.25         7\n",
            "          49       1.00      0.67      0.80         3\n",
            "          50       0.00      0.00      0.00         8\n",
            "          51       1.00      0.50      0.67         2\n",
            "          52       1.00      1.00      1.00         5\n",
            "          53       1.00      1.00      1.00         1\n",
            "          54       0.00      0.00      0.00         1\n",
            "          55       1.00      0.60      0.75         5\n",
            "          56       1.00      1.00      1.00         2\n",
            "          57       0.00      0.00      0.00         2\n",
            "          58       1.00      0.40      0.57         5\n",
            "          59       1.00      1.00      1.00         1\n",
            "          60       1.00      1.00      1.00         3\n",
            "          61       1.00      0.67      0.80         3\n",
            "          62       1.00      1.00      1.00         1\n",
            "          63       1.00      1.00      1.00         3\n",
            "          65       1.00      1.00      1.00         1\n",
            "          66       0.00      0.00      0.00         2\n",
            "          67       0.00      0.00      0.00         1\n",
            "          69       1.00      1.00      1.00         1\n",
            "          70       1.00      1.00      1.00         1\n",
            "          71       1.00      1.00      1.00         1\n",
            "          72       1.00      1.00      1.00         1\n",
            "          73       1.00      1.00      1.00         1\n",
            "          75       0.00      0.00      0.00         1\n",
            "          76       1.00      1.00      1.00         1\n",
            "          77       1.00      1.00      1.00         1\n",
            "\n",
            "    accuracy                           0.97     47486\n",
            "   macro avg       0.86      0.74      0.77     47486\n",
            "weighted avg       0.97      0.97      0.97     47486\n",
            "\n"
          ]
        }
      ]
    },
    {
      "cell_type": "markdown",
      "metadata": {
        "id": "Sa1ZM8FjQ0p-"
      },
      "source": [
        "## 8. Evaluation"
      ]
    },
    {
      "cell_type": "code",
      "metadata": {
        "id": "B7HhMfe_R562"
      },
      "source": [
        "presumably_best_model = model_5"
      ],
      "execution_count": 117,
      "outputs": []
    },
    {
      "cell_type": "code",
      "metadata": {
        "colab": {
          "base_uri": "https://localhost:8080/"
        },
        "id": "hgaFqKSbEIt-",
        "outputId": "0fac9c55-bf97-4df9-a981-2169d0bdfc6f"
      },
      "source": [
        "# Take the best performing model and evaluate it on the test set\n",
        "# In our case model number 5 shows the best performance.\n",
        "# Therefore we evaluated it on the test set.\n",
        "model_classification_report(presumably_best_model, X_test, y_test)"
      ],
      "execution_count": 118,
      "outputs": [
        {
          "output_type": "stream",
          "name": "stdout",
          "text": [
            "413/413 [==============================] - 1s 1ms/step\n",
            "              precision    recall  f1-score   support\n",
            "\n",
            "           0       0.93      0.96      0.95      4652\n",
            "           1       0.99      0.99      0.99      2590\n",
            "           2       0.82      0.90      0.85       774\n",
            "           3       0.73      0.67      0.70      1147\n",
            "           4       0.90      0.94      0.92      1453\n",
            "           5       0.90      0.87      0.88       715\n",
            "           6       0.99      0.99      0.99       551\n",
            "           7       0.95      0.99      0.97       250\n",
            "           8       0.94      0.78      0.85       165\n",
            "           9       1.00      1.00      1.00         9\n",
            "          10       0.84      0.65      0.73        72\n",
            "          11       0.93      0.79      0.86       237\n",
            "          12       0.86      0.67      0.75        18\n",
            "          13       0.92      0.53      0.68        43\n",
            "          14       0.96      0.99      0.98       110\n",
            "          15       0.00      0.00      0.00         5\n",
            "          16       1.00      0.96      0.98       120\n",
            "          17       0.50      0.12      0.19        26\n",
            "          18       0.79      0.70      0.74        92\n",
            "          19       0.00      0.00      0.00         2\n",
            "          20       0.70      0.57      0.63        54\n",
            "          21       0.92      0.71      0.80        17\n",
            "          22       0.00      0.00      0.00         6\n",
            "          23       1.00      1.00      1.00         5\n",
            "          24       1.00      0.33      0.50         6\n",
            "          25       0.33      0.20      0.25         5\n",
            "          26       1.00      1.00      1.00         3\n",
            "          27       0.75      0.75      0.75         4\n",
            "          28       1.00      0.88      0.93         8\n",
            "          29       0.00      0.00      0.00         1\n",
            "          30       0.00      0.00      0.00         4\n",
            "          31       0.00      0.00      0.00         1\n",
            "          33       0.00      0.00      0.00         1\n",
            "          34       1.00      0.50      0.67         2\n",
            "          36       1.00      0.75      0.86         4\n",
            "          38       0.00      0.00      0.00         1\n",
            "          39       0.00      0.00      0.00         1\n",
            "          40       0.00      0.00      0.00         2\n",
            "          41       1.00      1.00      1.00         4\n",
            "          42       1.00      0.11      0.20         9\n",
            "          43       1.00      0.50      0.67         2\n",
            "          44       0.00      0.00      0.00         1\n",
            "          45       1.00      1.00      1.00         2\n",
            "          46       0.00      0.00      0.00         1\n",
            "          47       0.00      0.00      0.00         1\n",
            "          48       0.00      0.00      0.00         5\n",
            "          49       0.00      0.00      0.00         2\n",
            "          50       0.00      0.00      0.00         2\n",
            "          51       0.00      0.00      0.00         1\n",
            "          55       0.00      0.00      0.00         1\n",
            "          60       0.00      0.00      0.00         1\n",
            "          69       1.00      1.00      1.00         1\n",
            "          72       0.00      0.00      0.00         2\n",
            "\n",
            "    accuracy                           0.92     13191\n",
            "   macro avg       0.56      0.47      0.50     13191\n",
            "weighted avg       0.91      0.92      0.91     13191\n",
            "\n"
          ]
        }
      ]
    },
    {
      "cell_type": "code",
      "metadata": {
        "colab": {
          "base_uri": "https://localhost:8080/"
        },
        "id": "pEDRoAkQR1Ms",
        "outputId": "5f3aa5f6-320c-41c0-8249-36c290aad1c4"
      },
      "source": [
        "y_test_idx = y_test.argmax(axis=1)\n",
        "y_pred_idx = presumably_best_model.predict(X_test, verbose=1).argmax(axis=1)\n",
        "#def model_classification_report(model, X_train, y_train):\n",
        "#  y_pred = model.predict(X_train, verbose=1)\n",
        "#  print(classification_report(y_train.argmax(axis=1), y_pred.argmax(axis=1)))\n",
        "\n",
        "print(confusion_matrix(y_test_idx, y_pred_idx))"
      ],
      "execution_count": 121,
      "outputs": [
        {
          "output_type": "stream",
          "name": "stdout",
          "text": [
            "413/413 [==============================] - 1s 1ms/step\n",
            "[[4470    5   20 ...    0    0    0]\n",
            " [   1 2575    0 ...    0    0    0]\n",
            " [  19    0  693 ...    0    0    0]\n",
            " ...\n",
            " [   0    0    0 ...    0    0    0]\n",
            " [   0    0    0 ...    0    1    0]\n",
            " [   0    0    0 ...    0    0    0]]\n"
          ]
        }
      ]
    },
    {
      "cell_type": "markdown",
      "metadata": {
        "id": "lziwgS6ZZ7yR"
      },
      "source": [
        "### Confusion Matrix"
      ]
    },
    {
      "cell_type": "code",
      "metadata": {
        "id": "EkrnDLSUSsMG"
      },
      "source": [
        "label_dict = pd.Series(df_test.label.values,index=df_test.label_index).to_dict()\n",
        "\n",
        "test_list = test_classes_categorical.argmax(axis=1)\n",
        "predicted_list = predicted_list.argmax(axis=1)\n",
        "test_list_label = [label_dict[x] for x in test_list]\n",
        "predicted_list_label = [label_dict[x] for x in predicted_list]"
      ],
      "execution_count": null,
      "outputs": []
    },
    {
      "cell_type": "code",
      "metadata": {
        "id": "1RtCZXWvZ7yT"
      },
      "source": [
        "confusion_matrix_final = confusion_matrix(test_list_label, predicted_list_label)"
      ],
      "execution_count": null,
      "outputs": []
    },
    {
      "cell_type": "code",
      "metadata": {
        "id": "cuscEqt9Vq5Q",
        "colab": {
          "base_uri": "https://localhost:8080/",
          "height": 195
        },
        "outputId": "9e92466c-d593-455a-db4c-724bd476a561"
      },
      "source": [
        "confusion_matrix_dataframe = pd.DataFrame(confusion_matrix_final)\n",
        "confusion_matrix_dataframe.head()"
      ],
      "execution_count": null,
      "outputs": [
        {
          "output_type": "execute_result",
          "data": {
            "text/html": [
              "<div>\n",
              "<style scoped>\n",
              "    .dataframe tbody tr th:only-of-type {\n",
              "        vertical-align: middle;\n",
              "    }\n",
              "\n",
              "    .dataframe tbody tr th {\n",
              "        vertical-align: top;\n",
              "    }\n",
              "\n",
              "    .dataframe thead th {\n",
              "        text-align: right;\n",
              "    }\n",
              "</style>\n",
              "<table border=\"1\" class=\"dataframe\">\n",
              "  <thead>\n",
              "    <tr style=\"text-align: right;\">\n",
              "      <th></th>\n",
              "      <th>0</th>\n",
              "      <th>1</th>\n",
              "      <th>2</th>\n",
              "      <th>3</th>\n",
              "      <th>4</th>\n",
              "      <th>5</th>\n",
              "      <th>6</th>\n",
              "      <th>7</th>\n",
              "      <th>8</th>\n",
              "      <th>9</th>\n",
              "      <th>...</th>\n",
              "      <th>11</th>\n",
              "      <th>12</th>\n",
              "      <th>13</th>\n",
              "      <th>14</th>\n",
              "      <th>15</th>\n",
              "      <th>16</th>\n",
              "      <th>17</th>\n",
              "      <th>18</th>\n",
              "      <th>19</th>\n",
              "      <th>20</th>\n",
              "    </tr>\n",
              "  </thead>\n",
              "  <tbody>\n",
              "    <tr>\n",
              "      <th>0</th>\n",
              "      <td>528</td>\n",
              "      <td>0</td>\n",
              "      <td>0</td>\n",
              "      <td>0</td>\n",
              "      <td>0</td>\n",
              "      <td>0</td>\n",
              "      <td>0</td>\n",
              "      <td>0</td>\n",
              "      <td>0</td>\n",
              "      <td>0</td>\n",
              "      <td>...</td>\n",
              "      <td>0</td>\n",
              "      <td>0</td>\n",
              "      <td>0</td>\n",
              "      <td>0</td>\n",
              "      <td>0</td>\n",
              "      <td>0</td>\n",
              "      <td>0</td>\n",
              "      <td>0</td>\n",
              "      <td>0</td>\n",
              "      <td>1</td>\n",
              "    </tr>\n",
              "    <tr>\n",
              "      <th>1</th>\n",
              "      <td>0</td>\n",
              "      <td>42</td>\n",
              "      <td>0</td>\n",
              "      <td>2</td>\n",
              "      <td>0</td>\n",
              "      <td>2</td>\n",
              "      <td>0</td>\n",
              "      <td>0</td>\n",
              "      <td>0</td>\n",
              "      <td>0</td>\n",
              "      <td>...</td>\n",
              "      <td>0</td>\n",
              "      <td>2</td>\n",
              "      <td>0</td>\n",
              "      <td>0</td>\n",
              "      <td>0</td>\n",
              "      <td>0</td>\n",
              "      <td>0</td>\n",
              "      <td>0</td>\n",
              "      <td>0</td>\n",
              "      <td>2</td>\n",
              "    </tr>\n",
              "    <tr>\n",
              "      <th>2</th>\n",
              "      <td>0</td>\n",
              "      <td>0</td>\n",
              "      <td>9</td>\n",
              "      <td>0</td>\n",
              "      <td>1</td>\n",
              "      <td>0</td>\n",
              "      <td>0</td>\n",
              "      <td>0</td>\n",
              "      <td>0</td>\n",
              "      <td>0</td>\n",
              "      <td>...</td>\n",
              "      <td>0</td>\n",
              "      <td>0</td>\n",
              "      <td>0</td>\n",
              "      <td>0</td>\n",
              "      <td>0</td>\n",
              "      <td>0</td>\n",
              "      <td>0</td>\n",
              "      <td>0</td>\n",
              "      <td>0</td>\n",
              "      <td>1</td>\n",
              "    </tr>\n",
              "    <tr>\n",
              "      <th>3</th>\n",
              "      <td>0</td>\n",
              "      <td>0</td>\n",
              "      <td>0</td>\n",
              "      <td>4616</td>\n",
              "      <td>15</td>\n",
              "      <td>11</td>\n",
              "      <td>0</td>\n",
              "      <td>13</td>\n",
              "      <td>3</td>\n",
              "      <td>3</td>\n",
              "      <td>...</td>\n",
              "      <td>0</td>\n",
              "      <td>5</td>\n",
              "      <td>0</td>\n",
              "      <td>1</td>\n",
              "      <td>1</td>\n",
              "      <td>0</td>\n",
              "      <td>1</td>\n",
              "      <td>0</td>\n",
              "      <td>0</td>\n",
              "      <td>88</td>\n",
              "    </tr>\n",
              "    <tr>\n",
              "      <th>4</th>\n",
              "      <td>0</td>\n",
              "      <td>0</td>\n",
              "      <td>0</td>\n",
              "      <td>15</td>\n",
              "      <td>1403</td>\n",
              "      <td>11</td>\n",
              "      <td>0</td>\n",
              "      <td>3</td>\n",
              "      <td>4</td>\n",
              "      <td>0</td>\n",
              "      <td>...</td>\n",
              "      <td>0</td>\n",
              "      <td>0</td>\n",
              "      <td>0</td>\n",
              "      <td>8</td>\n",
              "      <td>0</td>\n",
              "      <td>0</td>\n",
              "      <td>0</td>\n",
              "      <td>0</td>\n",
              "      <td>1</td>\n",
              "      <td>31</td>\n",
              "    </tr>\n",
              "  </tbody>\n",
              "</table>\n",
              "<p>5 rows × 21 columns</p>\n",
              "</div>"
            ],
            "text/plain": [
              "    0   1   2     3     4   5   6   7   8   9   ...  11  12  13  14  15  16  \\\n",
              "0  528   0   0     0     0   0   0   0   0   0  ...   0   0   0   0   0   0   \n",
              "1    0  42   0     2     0   2   0   0   0   0  ...   0   2   0   0   0   0   \n",
              "2    0   0   9     0     1   0   0   0   0   0  ...   0   0   0   0   0   0   \n",
              "3    0   0   0  4616    15  11   0  13   3   3  ...   0   5   0   1   1   0   \n",
              "4    0   0   0    15  1403  11   0   3   4   0  ...   0   0   0   8   0   0   \n",
              "\n",
              "   17  18  19  20  \n",
              "0   0   0   0   1  \n",
              "1   0   0   0   2  \n",
              "2   0   0   0   1  \n",
              "3   1   0   0  88  \n",
              "4   0   0   1  31  \n",
              "\n",
              "[5 rows x 21 columns]"
            ]
          },
          "metadata": {
            "tags": []
          },
          "execution_count": 60
        }
      ]
    },
    {
      "cell_type": "code",
      "metadata": {
        "id": "2amOr0rBWxKF",
        "scrolled": true,
        "colab": {
          "base_uri": "https://localhost:8080/",
          "height": 195
        },
        "outputId": "6a4cc14c-83b2-4c7c-b5d8-93ea0eea9b7a"
      },
      "source": [
        "confusion_matrix_dataframe.reset_index(inplace=True)\n",
        "confusion_matrix_dataframe.head()"
      ],
      "execution_count": null,
      "outputs": [
        {
          "output_type": "execute_result",
          "data": {
            "text/html": [
              "<div>\n",
              "<style scoped>\n",
              "    .dataframe tbody tr th:only-of-type {\n",
              "        vertical-align: middle;\n",
              "    }\n",
              "\n",
              "    .dataframe tbody tr th {\n",
              "        vertical-align: top;\n",
              "    }\n",
              "\n",
              "    .dataframe thead th {\n",
              "        text-align: right;\n",
              "    }\n",
              "</style>\n",
              "<table border=\"1\" class=\"dataframe\">\n",
              "  <thead>\n",
              "    <tr style=\"text-align: right;\">\n",
              "      <th></th>\n",
              "      <th>index</th>\n",
              "      <th>0</th>\n",
              "      <th>1</th>\n",
              "      <th>2</th>\n",
              "      <th>3</th>\n",
              "      <th>4</th>\n",
              "      <th>5</th>\n",
              "      <th>6</th>\n",
              "      <th>7</th>\n",
              "      <th>8</th>\n",
              "      <th>...</th>\n",
              "      <th>11</th>\n",
              "      <th>12</th>\n",
              "      <th>13</th>\n",
              "      <th>14</th>\n",
              "      <th>15</th>\n",
              "      <th>16</th>\n",
              "      <th>17</th>\n",
              "      <th>18</th>\n",
              "      <th>19</th>\n",
              "      <th>20</th>\n",
              "    </tr>\n",
              "  </thead>\n",
              "  <tbody>\n",
              "    <tr>\n",
              "      <th>0</th>\n",
              "      <td>0</td>\n",
              "      <td>528</td>\n",
              "      <td>0</td>\n",
              "      <td>0</td>\n",
              "      <td>0</td>\n",
              "      <td>0</td>\n",
              "      <td>0</td>\n",
              "      <td>0</td>\n",
              "      <td>0</td>\n",
              "      <td>0</td>\n",
              "      <td>...</td>\n",
              "      <td>0</td>\n",
              "      <td>0</td>\n",
              "      <td>0</td>\n",
              "      <td>0</td>\n",
              "      <td>0</td>\n",
              "      <td>0</td>\n",
              "      <td>0</td>\n",
              "      <td>0</td>\n",
              "      <td>0</td>\n",
              "      <td>1</td>\n",
              "    </tr>\n",
              "    <tr>\n",
              "      <th>1</th>\n",
              "      <td>1</td>\n",
              "      <td>0</td>\n",
              "      <td>42</td>\n",
              "      <td>0</td>\n",
              "      <td>2</td>\n",
              "      <td>0</td>\n",
              "      <td>2</td>\n",
              "      <td>0</td>\n",
              "      <td>0</td>\n",
              "      <td>0</td>\n",
              "      <td>...</td>\n",
              "      <td>0</td>\n",
              "      <td>2</td>\n",
              "      <td>0</td>\n",
              "      <td>0</td>\n",
              "      <td>0</td>\n",
              "      <td>0</td>\n",
              "      <td>0</td>\n",
              "      <td>0</td>\n",
              "      <td>0</td>\n",
              "      <td>2</td>\n",
              "    </tr>\n",
              "    <tr>\n",
              "      <th>2</th>\n",
              "      <td>2</td>\n",
              "      <td>0</td>\n",
              "      <td>0</td>\n",
              "      <td>9</td>\n",
              "      <td>0</td>\n",
              "      <td>1</td>\n",
              "      <td>0</td>\n",
              "      <td>0</td>\n",
              "      <td>0</td>\n",
              "      <td>0</td>\n",
              "      <td>...</td>\n",
              "      <td>0</td>\n",
              "      <td>0</td>\n",
              "      <td>0</td>\n",
              "      <td>0</td>\n",
              "      <td>0</td>\n",
              "      <td>0</td>\n",
              "      <td>0</td>\n",
              "      <td>0</td>\n",
              "      <td>0</td>\n",
              "      <td>1</td>\n",
              "    </tr>\n",
              "    <tr>\n",
              "      <th>3</th>\n",
              "      <td>3</td>\n",
              "      <td>0</td>\n",
              "      <td>0</td>\n",
              "      <td>0</td>\n",
              "      <td>4616</td>\n",
              "      <td>15</td>\n",
              "      <td>11</td>\n",
              "      <td>0</td>\n",
              "      <td>13</td>\n",
              "      <td>3</td>\n",
              "      <td>...</td>\n",
              "      <td>0</td>\n",
              "      <td>5</td>\n",
              "      <td>0</td>\n",
              "      <td>1</td>\n",
              "      <td>1</td>\n",
              "      <td>0</td>\n",
              "      <td>1</td>\n",
              "      <td>0</td>\n",
              "      <td>0</td>\n",
              "      <td>88</td>\n",
              "    </tr>\n",
              "    <tr>\n",
              "      <th>4</th>\n",
              "      <td>4</td>\n",
              "      <td>0</td>\n",
              "      <td>0</td>\n",
              "      <td>0</td>\n",
              "      <td>15</td>\n",
              "      <td>1403</td>\n",
              "      <td>11</td>\n",
              "      <td>0</td>\n",
              "      <td>3</td>\n",
              "      <td>4</td>\n",
              "      <td>...</td>\n",
              "      <td>0</td>\n",
              "      <td>0</td>\n",
              "      <td>0</td>\n",
              "      <td>8</td>\n",
              "      <td>0</td>\n",
              "      <td>0</td>\n",
              "      <td>0</td>\n",
              "      <td>0</td>\n",
              "      <td>1</td>\n",
              "      <td>31</td>\n",
              "    </tr>\n",
              "  </tbody>\n",
              "</table>\n",
              "<p>5 rows × 22 columns</p>\n",
              "</div>"
            ],
            "text/plain": [
              "   index    0   1  2     3     4   5  6   7  8  ...  11  12  13  14  15  16  \\\n",
              "0      0  528   0  0     0     0   0  0   0  0  ...   0   0   0   0   0   0   \n",
              "1      1    0  42  0     2     0   2  0   0  0  ...   0   2   0   0   0   0   \n",
              "2      2    0   0  9     0     1   0  0   0  0  ...   0   0   0   0   0   0   \n",
              "3      3    0   0  0  4616    15  11  0  13  3  ...   0   5   0   1   1   0   \n",
              "4      4    0   0  0    15  1403  11  0   3  4  ...   0   0   0   8   0   0   \n",
              "\n",
              "   17  18  19  20  \n",
              "0   0   0   0   1  \n",
              "1   0   0   0   2  \n",
              "2   0   0   0   1  \n",
              "3   1   0   0  88  \n",
              "4   0   0   1  31  \n",
              "\n",
              "[5 rows x 22 columns]"
            ]
          },
          "metadata": {
            "tags": []
          },
          "execution_count": 61
        }
      ]
    },
    {
      "cell_type": "code",
      "metadata": {
        "id": "ZqFPnyQeXCxC"
      },
      "source": [
        "confusion_matrix_dataframe= confusion_matrix_dataframe.replace({\"index\": label_dict})\n",
        "confusion_matrix_dataframe = confusion_matrix_dataframe.set_index('index')"
      ],
      "execution_count": null,
      "outputs": []
    },
    {
      "cell_type": "code",
      "metadata": {
        "id": "2rWIbTNtXNGf"
      },
      "source": [
        "confusion_matrix_dataframe.columns = [label_dict[x] for x in confusion_matrix_dataframe.columns]"
      ],
      "execution_count": null,
      "outputs": []
    },
    {
      "cell_type": "code",
      "metadata": {
        "id": "IG-Zm4AGYufq",
        "colab": {
          "base_uri": "https://localhost:8080/",
          "height": 698
        },
        "outputId": "621bbfb8-51eb-49e7-d437-1c4722e6cb44"
      },
      "source": [
        "confusion_matrix_dataframe"
      ],
      "execution_count": null,
      "outputs": [
        {
          "output_type": "execute_result",
          "data": {
            "text/html": [
              "<div>\n",
              "<style scoped>\n",
              "    .dataframe tbody tr th:only-of-type {\n",
              "        vertical-align: middle;\n",
              "    }\n",
              "\n",
              "    .dataframe tbody tr th {\n",
              "        vertical-align: top;\n",
              "    }\n",
              "\n",
              "    .dataframe thead th {\n",
              "        text-align: right;\n",
              "    }\n",
              "</style>\n",
              "<table border=\"1\" class=\"dataframe\">\n",
              "  <thead>\n",
              "    <tr style=\"text-align: right;\">\n",
              "      <th></th>\n",
              "      <th>ar</th>\n",
              "      <th>de</th>\n",
              "      <th>el</th>\n",
              "      <th>en</th>\n",
              "      <th>es</th>\n",
              "      <th>fr</th>\n",
              "      <th>he</th>\n",
              "      <th>id</th>\n",
              "      <th>it</th>\n",
              "      <th>ja</th>\n",
              "      <th>...</th>\n",
              "      <th>ms</th>\n",
              "      <th>nl</th>\n",
              "      <th>pl</th>\n",
              "      <th>pt</th>\n",
              "      <th>ru</th>\n",
              "      <th>sv</th>\n",
              "      <th>th</th>\n",
              "      <th>tl</th>\n",
              "      <th>tr</th>\n",
              "      <th>und</th>\n",
              "    </tr>\n",
              "    <tr>\n",
              "      <th>index</th>\n",
              "      <th></th>\n",
              "      <th></th>\n",
              "      <th></th>\n",
              "      <th></th>\n",
              "      <th></th>\n",
              "      <th></th>\n",
              "      <th></th>\n",
              "      <th></th>\n",
              "      <th></th>\n",
              "      <th></th>\n",
              "      <th></th>\n",
              "      <th></th>\n",
              "      <th></th>\n",
              "      <th></th>\n",
              "      <th></th>\n",
              "      <th></th>\n",
              "      <th></th>\n",
              "      <th></th>\n",
              "      <th></th>\n",
              "      <th></th>\n",
              "      <th></th>\n",
              "    </tr>\n",
              "  </thead>\n",
              "  <tbody>\n",
              "    <tr>\n",
              "      <th>ar</th>\n",
              "      <td>528</td>\n",
              "      <td>0</td>\n",
              "      <td>0</td>\n",
              "      <td>0</td>\n",
              "      <td>0</td>\n",
              "      <td>0</td>\n",
              "      <td>0</td>\n",
              "      <td>0</td>\n",
              "      <td>0</td>\n",
              "      <td>0</td>\n",
              "      <td>...</td>\n",
              "      <td>0</td>\n",
              "      <td>0</td>\n",
              "      <td>0</td>\n",
              "      <td>0</td>\n",
              "      <td>0</td>\n",
              "      <td>0</td>\n",
              "      <td>0</td>\n",
              "      <td>0</td>\n",
              "      <td>0</td>\n",
              "      <td>1</td>\n",
              "    </tr>\n",
              "    <tr>\n",
              "      <th>de</th>\n",
              "      <td>0</td>\n",
              "      <td>42</td>\n",
              "      <td>0</td>\n",
              "      <td>2</td>\n",
              "      <td>0</td>\n",
              "      <td>2</td>\n",
              "      <td>0</td>\n",
              "      <td>0</td>\n",
              "      <td>0</td>\n",
              "      <td>0</td>\n",
              "      <td>...</td>\n",
              "      <td>0</td>\n",
              "      <td>2</td>\n",
              "      <td>0</td>\n",
              "      <td>0</td>\n",
              "      <td>0</td>\n",
              "      <td>0</td>\n",
              "      <td>0</td>\n",
              "      <td>0</td>\n",
              "      <td>0</td>\n",
              "      <td>2</td>\n",
              "    </tr>\n",
              "    <tr>\n",
              "      <th>el</th>\n",
              "      <td>0</td>\n",
              "      <td>0</td>\n",
              "      <td>9</td>\n",
              "      <td>0</td>\n",
              "      <td>1</td>\n",
              "      <td>0</td>\n",
              "      <td>0</td>\n",
              "      <td>0</td>\n",
              "      <td>0</td>\n",
              "      <td>0</td>\n",
              "      <td>...</td>\n",
              "      <td>0</td>\n",
              "      <td>0</td>\n",
              "      <td>0</td>\n",
              "      <td>0</td>\n",
              "      <td>0</td>\n",
              "      <td>0</td>\n",
              "      <td>0</td>\n",
              "      <td>0</td>\n",
              "      <td>0</td>\n",
              "      <td>1</td>\n",
              "    </tr>\n",
              "    <tr>\n",
              "      <th>en</th>\n",
              "      <td>0</td>\n",
              "      <td>0</td>\n",
              "      <td>0</td>\n",
              "      <td>4616</td>\n",
              "      <td>15</td>\n",
              "      <td>11</td>\n",
              "      <td>0</td>\n",
              "      <td>13</td>\n",
              "      <td>3</td>\n",
              "      <td>3</td>\n",
              "      <td>...</td>\n",
              "      <td>0</td>\n",
              "      <td>5</td>\n",
              "      <td>0</td>\n",
              "      <td>1</td>\n",
              "      <td>1</td>\n",
              "      <td>0</td>\n",
              "      <td>1</td>\n",
              "      <td>0</td>\n",
              "      <td>0</td>\n",
              "      <td>88</td>\n",
              "    </tr>\n",
              "    <tr>\n",
              "      <th>es</th>\n",
              "      <td>0</td>\n",
              "      <td>0</td>\n",
              "      <td>0</td>\n",
              "      <td>15</td>\n",
              "      <td>1403</td>\n",
              "      <td>11</td>\n",
              "      <td>0</td>\n",
              "      <td>3</td>\n",
              "      <td>4</td>\n",
              "      <td>0</td>\n",
              "      <td>...</td>\n",
              "      <td>0</td>\n",
              "      <td>0</td>\n",
              "      <td>0</td>\n",
              "      <td>8</td>\n",
              "      <td>0</td>\n",
              "      <td>0</td>\n",
              "      <td>0</td>\n",
              "      <td>0</td>\n",
              "      <td>1</td>\n",
              "      <td>31</td>\n",
              "    </tr>\n",
              "    <tr>\n",
              "      <th>fr</th>\n",
              "      <td>0</td>\n",
              "      <td>0</td>\n",
              "      <td>0</td>\n",
              "      <td>14</td>\n",
              "      <td>5</td>\n",
              "      <td>196</td>\n",
              "      <td>0</td>\n",
              "      <td>1</td>\n",
              "      <td>0</td>\n",
              "      <td>0</td>\n",
              "      <td>...</td>\n",
              "      <td>0</td>\n",
              "      <td>2</td>\n",
              "      <td>0</td>\n",
              "      <td>0</td>\n",
              "      <td>0</td>\n",
              "      <td>0</td>\n",
              "      <td>0</td>\n",
              "      <td>0</td>\n",
              "      <td>0</td>\n",
              "      <td>6</td>\n",
              "    </tr>\n",
              "    <tr>\n",
              "      <th>he</th>\n",
              "      <td>0</td>\n",
              "      <td>0</td>\n",
              "      <td>0</td>\n",
              "      <td>0</td>\n",
              "      <td>0</td>\n",
              "      <td>0</td>\n",
              "      <td>13</td>\n",
              "      <td>0</td>\n",
              "      <td>0</td>\n",
              "      <td>0</td>\n",
              "      <td>...</td>\n",
              "      <td>0</td>\n",
              "      <td>0</td>\n",
              "      <td>0</td>\n",
              "      <td>0</td>\n",
              "      <td>0</td>\n",
              "      <td>0</td>\n",
              "      <td>0</td>\n",
              "      <td>0</td>\n",
              "      <td>0</td>\n",
              "      <td>1</td>\n",
              "    </tr>\n",
              "    <tr>\n",
              "      <th>id</th>\n",
              "      <td>0</td>\n",
              "      <td>0</td>\n",
              "      <td>0</td>\n",
              "      <td>24</td>\n",
              "      <td>2</td>\n",
              "      <td>4</td>\n",
              "      <td>0</td>\n",
              "      <td>730</td>\n",
              "      <td>0</td>\n",
              "      <td>1</td>\n",
              "      <td>...</td>\n",
              "      <td>7</td>\n",
              "      <td>2</td>\n",
              "      <td>0</td>\n",
              "      <td>1</td>\n",
              "      <td>0</td>\n",
              "      <td>0</td>\n",
              "      <td>1</td>\n",
              "      <td>5</td>\n",
              "      <td>0</td>\n",
              "      <td>39</td>\n",
              "    </tr>\n",
              "    <tr>\n",
              "      <th>it</th>\n",
              "      <td>0</td>\n",
              "      <td>0</td>\n",
              "      <td>0</td>\n",
              "      <td>2</td>\n",
              "      <td>6</td>\n",
              "      <td>1</td>\n",
              "      <td>0</td>\n",
              "      <td>0</td>\n",
              "      <td>63</td>\n",
              "      <td>0</td>\n",
              "      <td>...</td>\n",
              "      <td>0</td>\n",
              "      <td>0</td>\n",
              "      <td>0</td>\n",
              "      <td>1</td>\n",
              "      <td>0</td>\n",
              "      <td>0</td>\n",
              "      <td>0</td>\n",
              "      <td>0</td>\n",
              "      <td>0</td>\n",
              "      <td>3</td>\n",
              "    </tr>\n",
              "    <tr>\n",
              "      <th>ja</th>\n",
              "      <td>0</td>\n",
              "      <td>0</td>\n",
              "      <td>0</td>\n",
              "      <td>3</td>\n",
              "      <td>0</td>\n",
              "      <td>0</td>\n",
              "      <td>0</td>\n",
              "      <td>0</td>\n",
              "      <td>0</td>\n",
              "      <td>2463</td>\n",
              "      <td>...</td>\n",
              "      <td>0</td>\n",
              "      <td>0</td>\n",
              "      <td>1</td>\n",
              "      <td>0</td>\n",
              "      <td>0</td>\n",
              "      <td>0</td>\n",
              "      <td>0</td>\n",
              "      <td>0</td>\n",
              "      <td>0</td>\n",
              "      <td>9</td>\n",
              "    </tr>\n",
              "    <tr>\n",
              "      <th>ko</th>\n",
              "      <td>0</td>\n",
              "      <td>0</td>\n",
              "      <td>0</td>\n",
              "      <td>0</td>\n",
              "      <td>0</td>\n",
              "      <td>0</td>\n",
              "      <td>0</td>\n",
              "      <td>0</td>\n",
              "      <td>0</td>\n",
              "      <td>0</td>\n",
              "      <td>...</td>\n",
              "      <td>0</td>\n",
              "      <td>0</td>\n",
              "      <td>0</td>\n",
              "      <td>0</td>\n",
              "      <td>0</td>\n",
              "      <td>0</td>\n",
              "      <td>0</td>\n",
              "      <td>0</td>\n",
              "      <td>0</td>\n",
              "      <td>2</td>\n",
              "    </tr>\n",
              "    <tr>\n",
              "      <th>ms</th>\n",
              "      <td>0</td>\n",
              "      <td>0</td>\n",
              "      <td>0</td>\n",
              "      <td>2</td>\n",
              "      <td>0</td>\n",
              "      <td>0</td>\n",
              "      <td>0</td>\n",
              "      <td>21</td>\n",
              "      <td>0</td>\n",
              "      <td>0</td>\n",
              "      <td>...</td>\n",
              "      <td>5</td>\n",
              "      <td>1</td>\n",
              "      <td>0</td>\n",
              "      <td>0</td>\n",
              "      <td>0</td>\n",
              "      <td>0</td>\n",
              "      <td>0</td>\n",
              "      <td>1</td>\n",
              "      <td>1</td>\n",
              "      <td>0</td>\n",
              "    </tr>\n",
              "    <tr>\n",
              "      <th>nl</th>\n",
              "      <td>0</td>\n",
              "      <td>0</td>\n",
              "      <td>0</td>\n",
              "      <td>4</td>\n",
              "      <td>0</td>\n",
              "      <td>5</td>\n",
              "      <td>0</td>\n",
              "      <td>0</td>\n",
              "      <td>0</td>\n",
              "      <td>0</td>\n",
              "      <td>...</td>\n",
              "      <td>0</td>\n",
              "      <td>32</td>\n",
              "      <td>0</td>\n",
              "      <td>0</td>\n",
              "      <td>0</td>\n",
              "      <td>0</td>\n",
              "      <td>0</td>\n",
              "      <td>0</td>\n",
              "      <td>0</td>\n",
              "      <td>2</td>\n",
              "    </tr>\n",
              "    <tr>\n",
              "      <th>pl</th>\n",
              "      <td>1</td>\n",
              "      <td>1</td>\n",
              "      <td>0</td>\n",
              "      <td>4</td>\n",
              "      <td>0</td>\n",
              "      <td>0</td>\n",
              "      <td>0</td>\n",
              "      <td>0</td>\n",
              "      <td>0</td>\n",
              "      <td>0</td>\n",
              "      <td>...</td>\n",
              "      <td>0</td>\n",
              "      <td>0</td>\n",
              "      <td>16</td>\n",
              "      <td>0</td>\n",
              "      <td>0</td>\n",
              "      <td>0</td>\n",
              "      <td>0</td>\n",
              "      <td>0</td>\n",
              "      <td>0</td>\n",
              "      <td>4</td>\n",
              "    </tr>\n",
              "    <tr>\n",
              "      <th>pt</th>\n",
              "      <td>0</td>\n",
              "      <td>0</td>\n",
              "      <td>0</td>\n",
              "      <td>23</td>\n",
              "      <td>39</td>\n",
              "      <td>20</td>\n",
              "      <td>0</td>\n",
              "      <td>3</td>\n",
              "      <td>5</td>\n",
              "      <td>0</td>\n",
              "      <td>...</td>\n",
              "      <td>0</td>\n",
              "      <td>0</td>\n",
              "      <td>0</td>\n",
              "      <td>584</td>\n",
              "      <td>0</td>\n",
              "      <td>0</td>\n",
              "      <td>0</td>\n",
              "      <td>0</td>\n",
              "      <td>1</td>\n",
              "      <td>24</td>\n",
              "    </tr>\n",
              "    <tr>\n",
              "      <th>ru</th>\n",
              "      <td>0</td>\n",
              "      <td>0</td>\n",
              "      <td>0</td>\n",
              "      <td>0</td>\n",
              "      <td>0</td>\n",
              "      <td>0</td>\n",
              "      <td>0</td>\n",
              "      <td>0</td>\n",
              "      <td>0</td>\n",
              "      <td>0</td>\n",
              "      <td>...</td>\n",
              "      <td>0</td>\n",
              "      <td>0</td>\n",
              "      <td>0</td>\n",
              "      <td>0</td>\n",
              "      <td>242</td>\n",
              "      <td>0</td>\n",
              "      <td>0</td>\n",
              "      <td>0</td>\n",
              "      <td>0</td>\n",
              "      <td>1</td>\n",
              "    </tr>\n",
              "    <tr>\n",
              "      <th>sv</th>\n",
              "      <td>0</td>\n",
              "      <td>3</td>\n",
              "      <td>0</td>\n",
              "      <td>3</td>\n",
              "      <td>0</td>\n",
              "      <td>0</td>\n",
              "      <td>0</td>\n",
              "      <td>0</td>\n",
              "      <td>0</td>\n",
              "      <td>0</td>\n",
              "      <td>...</td>\n",
              "      <td>0</td>\n",
              "      <td>1</td>\n",
              "      <td>0</td>\n",
              "      <td>0</td>\n",
              "      <td>0</td>\n",
              "      <td>7</td>\n",
              "      <td>0</td>\n",
              "      <td>0</td>\n",
              "      <td>0</td>\n",
              "      <td>1</td>\n",
              "    </tr>\n",
              "    <tr>\n",
              "      <th>th</th>\n",
              "      <td>0</td>\n",
              "      <td>0</td>\n",
              "      <td>0</td>\n",
              "      <td>0</td>\n",
              "      <td>0</td>\n",
              "      <td>0</td>\n",
              "      <td>0</td>\n",
              "      <td>0</td>\n",
              "      <td>0</td>\n",
              "      <td>1</td>\n",
              "      <td>...</td>\n",
              "      <td>0</td>\n",
              "      <td>0</td>\n",
              "      <td>0</td>\n",
              "      <td>0</td>\n",
              "      <td>0</td>\n",
              "      <td>0</td>\n",
              "      <td>96</td>\n",
              "      <td>0</td>\n",
              "      <td>0</td>\n",
              "      <td>0</td>\n",
              "    </tr>\n",
              "    <tr>\n",
              "      <th>tl</th>\n",
              "      <td>0</td>\n",
              "      <td>0</td>\n",
              "      <td>0</td>\n",
              "      <td>18</td>\n",
              "      <td>2</td>\n",
              "      <td>0</td>\n",
              "      <td>0</td>\n",
              "      <td>6</td>\n",
              "      <td>0</td>\n",
              "      <td>0</td>\n",
              "      <td>...</td>\n",
              "      <td>0</td>\n",
              "      <td>0</td>\n",
              "      <td>0</td>\n",
              "      <td>1</td>\n",
              "      <td>0</td>\n",
              "      <td>0</td>\n",
              "      <td>0</td>\n",
              "      <td>54</td>\n",
              "      <td>0</td>\n",
              "      <td>8</td>\n",
              "    </tr>\n",
              "    <tr>\n",
              "      <th>tr</th>\n",
              "      <td>0</td>\n",
              "      <td>0</td>\n",
              "      <td>0</td>\n",
              "      <td>3</td>\n",
              "      <td>0</td>\n",
              "      <td>0</td>\n",
              "      <td>0</td>\n",
              "      <td>5</td>\n",
              "      <td>0</td>\n",
              "      <td>0</td>\n",
              "      <td>...</td>\n",
              "      <td>0</td>\n",
              "      <td>1</td>\n",
              "      <td>0</td>\n",
              "      <td>1</td>\n",
              "      <td>0</td>\n",
              "      <td>0</td>\n",
              "      <td>0</td>\n",
              "      <td>0</td>\n",
              "      <td>158</td>\n",
              "      <td>6</td>\n",
              "    </tr>\n",
              "    <tr>\n",
              "      <th>und</th>\n",
              "      <td>9</td>\n",
              "      <td>1</td>\n",
              "      <td>0</td>\n",
              "      <td>211</td>\n",
              "      <td>65</td>\n",
              "      <td>20</td>\n",
              "      <td>0</td>\n",
              "      <td>78</td>\n",
              "      <td>5</td>\n",
              "      <td>16</td>\n",
              "      <td>...</td>\n",
              "      <td>4</td>\n",
              "      <td>4</td>\n",
              "      <td>2</td>\n",
              "      <td>15</td>\n",
              "      <td>6</td>\n",
              "      <td>0</td>\n",
              "      <td>2</td>\n",
              "      <td>2</td>\n",
              "      <td>7</td>\n",
              "      <td>560</td>\n",
              "    </tr>\n",
              "  </tbody>\n",
              "</table>\n",
              "<p>21 rows × 21 columns</p>\n",
              "</div>"
            ],
            "text/plain": [
              "        ar  de  el    en    es   fr  he   id  it    ja  ...  ms  nl  pl   pt  \\\n",
              "index                                                   ...                    \n",
              "ar     528   0   0     0     0    0   0    0   0     0  ...   0   0   0    0   \n",
              "de       0  42   0     2     0    2   0    0   0     0  ...   0   2   0    0   \n",
              "el       0   0   9     0     1    0   0    0   0     0  ...   0   0   0    0   \n",
              "en       0   0   0  4616    15   11   0   13   3     3  ...   0   5   0    1   \n",
              "es       0   0   0    15  1403   11   0    3   4     0  ...   0   0   0    8   \n",
              "fr       0   0   0    14     5  196   0    1   0     0  ...   0   2   0    0   \n",
              "he       0   0   0     0     0    0  13    0   0     0  ...   0   0   0    0   \n",
              "id       0   0   0    24     2    4   0  730   0     1  ...   7   2   0    1   \n",
              "it       0   0   0     2     6    1   0    0  63     0  ...   0   0   0    1   \n",
              "ja       0   0   0     3     0    0   0    0   0  2463  ...   0   0   1    0   \n",
              "ko       0   0   0     0     0    0   0    0   0     0  ...   0   0   0    0   \n",
              "ms       0   0   0     2     0    0   0   21   0     0  ...   5   1   0    0   \n",
              "nl       0   0   0     4     0    5   0    0   0     0  ...   0  32   0    0   \n",
              "pl       1   1   0     4     0    0   0    0   0     0  ...   0   0  16    0   \n",
              "pt       0   0   0    23    39   20   0    3   5     0  ...   0   0   0  584   \n",
              "ru       0   0   0     0     0    0   0    0   0     0  ...   0   0   0    0   \n",
              "sv       0   3   0     3     0    0   0    0   0     0  ...   0   1   0    0   \n",
              "th       0   0   0     0     0    0   0    0   0     1  ...   0   0   0    0   \n",
              "tl       0   0   0    18     2    0   0    6   0     0  ...   0   0   0    1   \n",
              "tr       0   0   0     3     0    0   0    5   0     0  ...   0   1   0    1   \n",
              "und      9   1   0   211    65   20   0   78   5    16  ...   4   4   2   15   \n",
              "\n",
              "        ru  sv  th  tl   tr  und  \n",
              "index                             \n",
              "ar       0   0   0   0    0    1  \n",
              "de       0   0   0   0    0    2  \n",
              "el       0   0   0   0    0    1  \n",
              "en       1   0   1   0    0   88  \n",
              "es       0   0   0   0    1   31  \n",
              "fr       0   0   0   0    0    6  \n",
              "he       0   0   0   0    0    1  \n",
              "id       0   0   1   5    0   39  \n",
              "it       0   0   0   0    0    3  \n",
              "ja       0   0   0   0    0    9  \n",
              "ko       0   0   0   0    0    2  \n",
              "ms       0   0   0   1    1    0  \n",
              "nl       0   0   0   0    0    2  \n",
              "pl       0   0   0   0    0    4  \n",
              "pt       0   0   0   0    1   24  \n",
              "ru     242   0   0   0    0    1  \n",
              "sv       0   7   0   0    0    1  \n",
              "th       0   0  96   0    0    0  \n",
              "tl       0   0   0  54    0    8  \n",
              "tr       0   0   0   0  158    6  \n",
              "und      6   0   2   2    7  560  \n",
              "\n",
              "[21 rows x 21 columns]"
            ]
          },
          "metadata": {
            "tags": []
          },
          "execution_count": 64
        }
      ]
    },
    {
      "cell_type": "markdown",
      "metadata": {
        "id": "tfA_IbiBZ7yb"
      },
      "source": [
        "### Heatmap for Confusion matrix"
      ]
    },
    {
      "cell_type": "code",
      "metadata": {
        "id": "VV3z9P4tZ7yb"
      },
      "source": [
        "import seaborn as sn"
      ],
      "execution_count": null,
      "outputs": []
    },
    {
      "cell_type": "code",
      "metadata": {
        "id": "S-IJsDo9hWTd",
        "colab": {
          "base_uri": "https://localhost:8080/",
          "height": 206
        },
        "outputId": "8927fd39-fad0-4ffb-f69f-abc0e10f5d1c"
      },
      "source": [
        "plt.figure(figsize = (10, 10))\n",
        "sn.set(font_scale=2) \n",
        "sn.heatmap(confusion_matrix_dataframe, annot=True, annot_kws={\"size\": 20}, fmt='.4g')"
      ],
      "execution_count": 116,
      "outputs": [
        {
          "output_type": "error",
          "ename": "NameError",
          "evalue": "ignored",
          "traceback": [
            "\u001b[0;31m---------------------------------------------------------------------------\u001b[0m",
            "\u001b[0;31mNameError\u001b[0m                                 Traceback (most recent call last)",
            "\u001b[0;32m<ipython-input-116-4eb6103006ff>\u001b[0m in \u001b[0;36m<module>\u001b[0;34m()\u001b[0m\n\u001b[1;32m      1\u001b[0m \u001b[0mplt\u001b[0m\u001b[0;34m.\u001b[0m\u001b[0mfigure\u001b[0m\u001b[0;34m(\u001b[0m\u001b[0mfigsize\u001b[0m \u001b[0;34m=\u001b[0m \u001b[0;34m(\u001b[0m\u001b[0;36m10\u001b[0m\u001b[0;34m,\u001b[0m \u001b[0;36m10\u001b[0m\u001b[0;34m)\u001b[0m\u001b[0;34m)\u001b[0m\u001b[0;34m\u001b[0m\u001b[0;34m\u001b[0m\u001b[0m\n\u001b[0;32m----> 2\u001b[0;31m \u001b[0msn\u001b[0m\u001b[0;34m.\u001b[0m\u001b[0mset\u001b[0m\u001b[0;34m(\u001b[0m\u001b[0mfont_scale\u001b[0m\u001b[0;34m=\u001b[0m\u001b[0;36m2\u001b[0m\u001b[0;34m)\u001b[0m\u001b[0;34m\u001b[0m\u001b[0;34m\u001b[0m\u001b[0m\n\u001b[0m\u001b[1;32m      3\u001b[0m \u001b[0msn\u001b[0m\u001b[0;34m.\u001b[0m\u001b[0mheatmap\u001b[0m\u001b[0;34m(\u001b[0m\u001b[0mconfusion_matrix_dataframe\u001b[0m\u001b[0;34m,\u001b[0m \u001b[0mannot\u001b[0m\u001b[0;34m=\u001b[0m\u001b[0;32mTrue\u001b[0m\u001b[0;34m,\u001b[0m \u001b[0mannot_kws\u001b[0m\u001b[0;34m=\u001b[0m\u001b[0;34m{\u001b[0m\u001b[0;34m\"size\"\u001b[0m\u001b[0;34m:\u001b[0m \u001b[0;36m20\u001b[0m\u001b[0;34m}\u001b[0m\u001b[0;34m,\u001b[0m \u001b[0mfmt\u001b[0m\u001b[0;34m=\u001b[0m\u001b[0;34m'.4g'\u001b[0m\u001b[0;34m)\u001b[0m\u001b[0;34m\u001b[0m\u001b[0;34m\u001b[0m\u001b[0m\n",
            "\u001b[0;31mNameError\u001b[0m: name 'sn' is not defined"
          ]
        },
        {
          "output_type": "display_data",
          "data": {
            "text/plain": [
              "<Figure size 720x720 with 0 Axes>"
            ]
          },
          "metadata": {}
        }
      ]
    },
    {
      "cell_type": "code",
      "metadata": {
        "id": "NZ1M9X3FRsu8"
      },
      "source": [
        ""
      ],
      "execution_count": null,
      "outputs": []
    }
  ]
}