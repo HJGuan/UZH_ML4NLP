{
  "nbformat": 4,
  "nbformat_minor": 0,
  "metadata": {
    "accelerator": "GPU",
    "colab": {
      "name": "ex03_cnn_jan.ipynb",
      "provenance": [],
      "collapsed_sections": [],
      "machine_shape": "hm",
      "include_colab_link": true
    },
    "kernelspec": {
      "display_name": "Python 3",
      "language": "python",
      "name": "python3"
    },
    "language_info": {
      "codemirror_mode": {
        "name": "ipython",
        "version": 3
      },
      "file_extension": ".py",
      "mimetype": "text/x-python",
      "name": "python",
      "nbconvert_exporter": "python",
      "pygments_lexer": "ipython3",
      "version": "3.7.6"
    }
  },
  "cells": [
    {
      "cell_type": "markdown",
      "metadata": {
        "id": "view-in-github",
        "colab_type": "text"
      },
      "source": [
        "<a href=\"https://colab.research.google.com/github/jan-kreischer/UZH_ML4NLP/blob/main/Project-03/ex03_cnn_jan.ipynb\" target=\"_parent\"><img src=\"https://colab.research.google.com/assets/colab-badge.svg\" alt=\"Open In Colab\"/></a>"
      ]
    },
    {
      "cell_type": "markdown",
      "metadata": {
        "id": "5mUlNUnJ4Ljk"
      },
      "source": [
        "# Project 3 - Language Identification (Reloaded and Convoluted)\n",
        "## 1. Setup\n",
        "### 1.1 Dependencies"
      ]
    },
    {
      "cell_type": "code",
      "metadata": {
        "colab": {
          "base_uri": "https://localhost:8080/"
        },
        "id": "qj4iNDiWO-XC",
        "outputId": "574bbfb4-c1f4-473e-9e84-9fb34e9cfccc"
      },
      "source": [
        "!pip install talos"
      ],
      "execution_count": 1,
      "outputs": [
        {
          "output_type": "stream",
          "name": "stdout",
          "text": [
            "Collecting talos\n",
            "  Downloading talos-1.0-py3-none-any.whl (53 kB)\n",
            "\u001b[?25l\r\u001b[K     |██████                          | 10 kB 35.1 MB/s eta 0:00:01\r\u001b[K     |████████████▏                   | 20 kB 17.2 MB/s eta 0:00:01\r\u001b[K     |██████████████████▎             | 30 kB 9.8 MB/s eta 0:00:01\r\u001b[K     |████████████████████████▍       | 40 kB 8.1 MB/s eta 0:00:01\r\u001b[K     |██████████████████████████████▌ | 51 kB 5.1 MB/s eta 0:00:01\r\u001b[K     |████████████████████████████████| 53 kB 1.0 MB/s \n",
            "\u001b[?25hCollecting chances\n",
            "  Downloading chances-0.1.9.tar.gz (35 kB)\n",
            "Requirement already satisfied: sklearn in /usr/local/lib/python3.7/dist-packages (from talos) (0.0)\n",
            "Requirement already satisfied: tensorflow>=2.0.0 in /usr/local/lib/python3.7/dist-packages (from talos) (2.6.0)\n",
            "Requirement already satisfied: tqdm in /usr/local/lib/python3.7/dist-packages (from talos) (4.62.3)\n",
            "Collecting statsmodels>=0.11.0\n",
            "  Downloading statsmodels-0.13.0-cp37-cp37m-manylinux_2_17_x86_64.manylinux2014_x86_64.whl (9.8 MB)\n",
            "\u001b[K     |████████████████████████████████| 9.8 MB 10.4 MB/s \n",
            "\u001b[?25hCollecting astetik\n",
            "  Downloading astetik-1.11.1-py3-none-any.whl (5.4 MB)\n",
            "\u001b[K     |████████████████████████████████| 5.4 MB 53.1 MB/s \n",
            "\u001b[?25hRequirement already satisfied: pandas in /usr/local/lib/python3.7/dist-packages (from talos) (1.1.5)\n",
            "Requirement already satisfied: numpy in /usr/local/lib/python3.7/dist-packages (from talos) (1.19.5)\n",
            "Requirement already satisfied: requests in /usr/local/lib/python3.7/dist-packages (from talos) (2.23.0)\n",
            "Collecting wrangle\n",
            "  Downloading wrangle-0.6.9-py3-none-any.whl (51 kB)\n",
            "\u001b[K     |████████████████████████████████| 51 kB 857 kB/s \n",
            "\u001b[?25hCollecting kerasplotlib\n",
            "  Downloading kerasplotlib-0.1.6.tar.gz (3.5 kB)\n",
            "Requirement already satisfied: scipy>=1.3 in /usr/local/lib/python3.7/dist-packages (from statsmodels>=0.11.0->talos) (1.4.1)\n",
            "Requirement already satisfied: patsy>=0.5.2 in /usr/local/lib/python3.7/dist-packages (from statsmodels>=0.11.0->talos) (0.5.2)\n",
            "Requirement already satisfied: python-dateutil>=2.7.3 in /usr/local/lib/python3.7/dist-packages (from pandas->talos) (2.8.2)\n",
            "Requirement already satisfied: pytz>=2017.2 in /usr/local/lib/python3.7/dist-packages (from pandas->talos) (2018.9)\n",
            "Requirement already satisfied: six in /usr/local/lib/python3.7/dist-packages (from patsy>=0.5.2->statsmodels>=0.11.0->talos) (1.15.0)\n",
            "Requirement already satisfied: absl-py~=0.10 in /usr/local/lib/python3.7/dist-packages (from tensorflow>=2.0.0->talos) (0.12.0)\n",
            "Requirement already satisfied: google-pasta~=0.2 in /usr/local/lib/python3.7/dist-packages (from tensorflow>=2.0.0->talos) (0.2.0)\n",
            "Requirement already satisfied: gast==0.4.0 in /usr/local/lib/python3.7/dist-packages (from tensorflow>=2.0.0->talos) (0.4.0)\n",
            "Requirement already satisfied: keras~=2.6 in /usr/local/lib/python3.7/dist-packages (from tensorflow>=2.0.0->talos) (2.6.0)\n",
            "Requirement already satisfied: termcolor~=1.1.0 in /usr/local/lib/python3.7/dist-packages (from tensorflow>=2.0.0->talos) (1.1.0)\n",
            "Requirement already satisfied: tensorboard~=2.6 in /usr/local/lib/python3.7/dist-packages (from tensorflow>=2.0.0->talos) (2.6.0)\n",
            "Requirement already satisfied: tensorflow-estimator~=2.6 in /usr/local/lib/python3.7/dist-packages (from tensorflow>=2.0.0->talos) (2.6.0)\n",
            "Requirement already satisfied: keras-preprocessing~=1.1.2 in /usr/local/lib/python3.7/dist-packages (from tensorflow>=2.0.0->talos) (1.1.2)\n",
            "Requirement already satisfied: grpcio<2.0,>=1.37.0 in /usr/local/lib/python3.7/dist-packages (from tensorflow>=2.0.0->talos) (1.41.0)\n",
            "Requirement already satisfied: flatbuffers~=1.12.0 in /usr/local/lib/python3.7/dist-packages (from tensorflow>=2.0.0->talos) (1.12)\n",
            "Requirement already satisfied: clang~=5.0 in /usr/local/lib/python3.7/dist-packages (from tensorflow>=2.0.0->talos) (5.0)\n",
            "Requirement already satisfied: protobuf>=3.9.2 in /usr/local/lib/python3.7/dist-packages (from tensorflow>=2.0.0->talos) (3.17.3)\n",
            "Requirement already satisfied: h5py~=3.1.0 in /usr/local/lib/python3.7/dist-packages (from tensorflow>=2.0.0->talos) (3.1.0)\n",
            "Requirement already satisfied: wheel~=0.35 in /usr/local/lib/python3.7/dist-packages (from tensorflow>=2.0.0->talos) (0.37.0)\n",
            "Requirement already satisfied: opt-einsum~=3.3.0 in /usr/local/lib/python3.7/dist-packages (from tensorflow>=2.0.0->talos) (3.3.0)\n",
            "Requirement already satisfied: astunparse~=1.6.3 in /usr/local/lib/python3.7/dist-packages (from tensorflow>=2.0.0->talos) (1.6.3)\n",
            "Requirement already satisfied: wrapt~=1.12.1 in /usr/local/lib/python3.7/dist-packages (from tensorflow>=2.0.0->talos) (1.12.1)\n",
            "Requirement already satisfied: typing-extensions~=3.7.4 in /usr/local/lib/python3.7/dist-packages (from tensorflow>=2.0.0->talos) (3.7.4.3)\n",
            "Requirement already satisfied: cached-property in /usr/local/lib/python3.7/dist-packages (from h5py~=3.1.0->tensorflow>=2.0.0->talos) (1.5.2)\n",
            "Requirement already satisfied: werkzeug>=0.11.15 in /usr/local/lib/python3.7/dist-packages (from tensorboard~=2.6->tensorflow>=2.0.0->talos) (1.0.1)\n",
            "Requirement already satisfied: setuptools>=41.0.0 in /usr/local/lib/python3.7/dist-packages (from tensorboard~=2.6->tensorflow>=2.0.0->talos) (57.4.0)\n",
            "Requirement already satisfied: google-auth-oauthlib<0.5,>=0.4.1 in /usr/local/lib/python3.7/dist-packages (from tensorboard~=2.6->tensorflow>=2.0.0->talos) (0.4.6)\n",
            "Requirement already satisfied: google-auth<2,>=1.6.3 in /usr/local/lib/python3.7/dist-packages (from tensorboard~=2.6->tensorflow>=2.0.0->talos) (1.35.0)\n",
            "Requirement already satisfied: tensorboard-data-server<0.7.0,>=0.6.0 in /usr/local/lib/python3.7/dist-packages (from tensorboard~=2.6->tensorflow>=2.0.0->talos) (0.6.1)\n",
            "Requirement already satisfied: markdown>=2.6.8 in /usr/local/lib/python3.7/dist-packages (from tensorboard~=2.6->tensorflow>=2.0.0->talos) (3.3.4)\n",
            "Requirement already satisfied: tensorboard-plugin-wit>=1.6.0 in /usr/local/lib/python3.7/dist-packages (from tensorboard~=2.6->tensorflow>=2.0.0->talos) (1.8.0)\n",
            "Requirement already satisfied: cachetools<5.0,>=2.0.0 in /usr/local/lib/python3.7/dist-packages (from google-auth<2,>=1.6.3->tensorboard~=2.6->tensorflow>=2.0.0->talos) (4.2.4)\n",
            "Requirement already satisfied: pyasn1-modules>=0.2.1 in /usr/local/lib/python3.7/dist-packages (from google-auth<2,>=1.6.3->tensorboard~=2.6->tensorflow>=2.0.0->talos) (0.2.8)\n",
            "Requirement already satisfied: rsa<5,>=3.1.4 in /usr/local/lib/python3.7/dist-packages (from google-auth<2,>=1.6.3->tensorboard~=2.6->tensorflow>=2.0.0->talos) (4.7.2)\n",
            "Requirement already satisfied: requests-oauthlib>=0.7.0 in /usr/local/lib/python3.7/dist-packages (from google-auth-oauthlib<0.5,>=0.4.1->tensorboard~=2.6->tensorflow>=2.0.0->talos) (1.3.0)\n",
            "Requirement already satisfied: importlib-metadata in /usr/local/lib/python3.7/dist-packages (from markdown>=2.6.8->tensorboard~=2.6->tensorflow>=2.0.0->talos) (4.8.1)\n",
            "Requirement already satisfied: pyasn1<0.5.0,>=0.4.6 in /usr/local/lib/python3.7/dist-packages (from pyasn1-modules>=0.2.1->google-auth<2,>=1.6.3->tensorboard~=2.6->tensorflow>=2.0.0->talos) (0.4.8)\n",
            "Requirement already satisfied: idna<3,>=2.5 in /usr/local/lib/python3.7/dist-packages (from requests->talos) (2.10)\n",
            "Requirement already satisfied: chardet<4,>=3.0.2 in /usr/local/lib/python3.7/dist-packages (from requests->talos) (3.0.4)\n",
            "Requirement already satisfied: certifi>=2017.4.17 in /usr/local/lib/python3.7/dist-packages (from requests->talos) (2021.5.30)\n",
            "Requirement already satisfied: urllib3!=1.25.0,!=1.25.1,<1.26,>=1.21.1 in /usr/local/lib/python3.7/dist-packages (from requests->talos) (1.24.3)\n",
            "Requirement already satisfied: oauthlib>=3.0.0 in /usr/local/lib/python3.7/dist-packages (from requests-oauthlib>=0.7.0->google-auth-oauthlib<0.5,>=0.4.1->tensorboard~=2.6->tensorflow>=2.0.0->talos) (3.1.1)\n",
            "Requirement already satisfied: IPython in /usr/local/lib/python3.7/dist-packages (from astetik->talos) (5.5.0)\n",
            "Requirement already satisfied: seaborn in /usr/local/lib/python3.7/dist-packages (from astetik->talos) (0.11.2)\n",
            "Collecting geonamescache\n",
            "  Downloading geonamescache-1.3.0-py3-none-any.whl (2.6 MB)\n",
            "\u001b[K     |████████████████████████████████| 2.6 MB 41.5 MB/s \n",
            "\u001b[?25hRequirement already satisfied: zipp>=0.5 in /usr/local/lib/python3.7/dist-packages (from importlib-metadata->markdown>=2.6.8->tensorboard~=2.6->tensorflow>=2.0.0->talos) (3.6.0)\n",
            "Requirement already satisfied: decorator in /usr/local/lib/python3.7/dist-packages (from IPython->astetik->talos) (4.4.2)\n",
            "Requirement already satisfied: pickleshare in /usr/local/lib/python3.7/dist-packages (from IPython->astetik->talos) (0.7.5)\n",
            "Requirement already satisfied: pexpect in /usr/local/lib/python3.7/dist-packages (from IPython->astetik->talos) (4.8.0)\n",
            "Requirement already satisfied: simplegeneric>0.8 in /usr/local/lib/python3.7/dist-packages (from IPython->astetik->talos) (0.8.1)\n",
            "Requirement already satisfied: traitlets>=4.2 in /usr/local/lib/python3.7/dist-packages (from IPython->astetik->talos) (5.1.0)\n",
            "Requirement already satisfied: pygments in /usr/local/lib/python3.7/dist-packages (from IPython->astetik->talos) (2.6.1)\n",
            "Requirement already satisfied: prompt-toolkit<2.0.0,>=1.0.4 in /usr/local/lib/python3.7/dist-packages (from IPython->astetik->talos) (1.0.18)\n",
            "Requirement already satisfied: wcwidth in /usr/local/lib/python3.7/dist-packages (from prompt-toolkit<2.0.0,>=1.0.4->IPython->astetik->talos) (0.2.5)\n",
            "Requirement already satisfied: ptyprocess>=0.5 in /usr/local/lib/python3.7/dist-packages (from pexpect->IPython->astetik->talos) (0.7.0)\n",
            "Requirement already satisfied: matplotlib>=2.2 in /usr/local/lib/python3.7/dist-packages (from seaborn->astetik->talos) (3.2.2)\n",
            "Requirement already satisfied: cycler>=0.10 in /usr/local/lib/python3.7/dist-packages (from matplotlib>=2.2->seaborn->astetik->talos) (0.10.0)\n",
            "Requirement already satisfied: pyparsing!=2.0.4,!=2.1.2,!=2.1.6,>=2.0.1 in /usr/local/lib/python3.7/dist-packages (from matplotlib>=2.2->seaborn->astetik->talos) (2.4.7)\n",
            "Requirement already satisfied: kiwisolver>=1.0.1 in /usr/local/lib/python3.7/dist-packages (from matplotlib>=2.2->seaborn->astetik->talos) (1.3.2)\n",
            "Requirement already satisfied: scikit-learn in /usr/local/lib/python3.7/dist-packages (from sklearn->talos) (0.22.2.post1)\n",
            "Requirement already satisfied: joblib>=0.11 in /usr/local/lib/python3.7/dist-packages (from scikit-learn->sklearn->talos) (1.0.1)\n",
            "Building wheels for collected packages: chances, kerasplotlib\n",
            "  Building wheel for chances (setup.py) ... \u001b[?25l\u001b[?25hdone\n",
            "  Created wheel for chances: filename=chances-0.1.9-py3-none-any.whl size=41609 sha256=de91746f328e758915bbac1f104694c942cf725d9190b0e0c33d7bfbdb2fdda5\n",
            "  Stored in directory: /root/.cache/pip/wheels/f3/2e/7e/316f7da11ccf2195ff05e4a0186a4b5975be9bd0b0004198b6\n",
            "  Building wheel for kerasplotlib (setup.py) ... \u001b[?25l\u001b[?25hdone\n",
            "  Created wheel for kerasplotlib: filename=kerasplotlib-0.1.6-py3-none-any.whl size=3603 sha256=ff0a92f906e5e8776ea564967a814d0f0233cd90fdaa99881f96a73f0a95dd6a\n",
            "  Stored in directory: /root/.cache/pip/wheels/1c/b4/c8/d1533d85f7fc617e3201c3f41b79fe49ae9284c8fc4a5bd4b2\n",
            "Successfully built chances kerasplotlib\n",
            "Installing collected packages: statsmodels, wrangle, geonamescache, kerasplotlib, chances, astetik, talos\n",
            "  Attempting uninstall: statsmodels\n",
            "    Found existing installation: statsmodels 0.10.2\n",
            "    Uninstalling statsmodels-0.10.2:\n",
            "      Successfully uninstalled statsmodels-0.10.2\n",
            "Successfully installed astetik-1.11.1 chances-0.1.9 geonamescache-1.3.0 kerasplotlib-0.1.6 statsmodels-0.13.0 talos-1.0 wrangle-0.6.9\n"
          ]
        }
      ]
    },
    {
      "cell_type": "code",
      "metadata": {
        "colab": {
          "base_uri": "https://localhost:8080/"
        },
        "id": "wP6cVOXj5Rsd",
        "outputId": "e2685cd4-c709-4482-c1c8-2215d8735d6f"
      },
      "source": [
        "!pip install demoji"
      ],
      "execution_count": 2,
      "outputs": [
        {
          "output_type": "stream",
          "name": "stdout",
          "text": [
            "Collecting demoji\n",
            "  Downloading demoji-1.1.0-py3-none-any.whl (42 kB)\n",
            "\u001b[?25l\r\u001b[K     |███████▋                        | 10 kB 33.0 MB/s eta 0:00:01\r\u001b[K     |███████████████▎                | 20 kB 19.6 MB/s eta 0:00:01\r\u001b[K     |███████████████████████         | 30 kB 10.7 MB/s eta 0:00:01\r\u001b[K     |██████████████████████████████▋ | 40 kB 8.7 MB/s eta 0:00:01\r\u001b[K     |████████████████████████████████| 42 kB 887 kB/s \n",
            "\u001b[?25hInstalling collected packages: demoji\n",
            "Successfully installed demoji-1.1.0\n"
          ]
        }
      ]
    },
    {
      "cell_type": "code",
      "metadata": {
        "colab": {
          "base_uri": "https://localhost:8080/"
        },
        "id": "cQfrfb-95Vd_",
        "outputId": "59e27a2b-df7a-44fb-93d0-700d570cf9e0"
      },
      "source": [
        "!pip install googletrans==4.0.0rc1"
      ],
      "execution_count": 3,
      "outputs": [
        {
          "output_type": "stream",
          "name": "stdout",
          "text": [
            "Collecting googletrans==4.0.0rc1\n",
            "  Downloading googletrans-4.0.0rc1.tar.gz (20 kB)\n",
            "Collecting httpx==0.13.3\n",
            "  Downloading httpx-0.13.3-py3-none-any.whl (55 kB)\n",
            "\u001b[K     |████████████████████████████████| 55 kB 2.5 MB/s \n",
            "\u001b[?25hRequirement already satisfied: certifi in /usr/local/lib/python3.7/dist-packages (from httpx==0.13.3->googletrans==4.0.0rc1) (2021.5.30)\n",
            "Collecting rfc3986<2,>=1.3\n",
            "  Downloading rfc3986-1.5.0-py2.py3-none-any.whl (31 kB)\n",
            "Collecting hstspreload\n",
            "  Downloading hstspreload-2021.11.1-py3-none-any.whl (1.3 MB)\n",
            "\u001b[K     |████████████████████████████████| 1.3 MB 10.3 MB/s \n",
            "\u001b[?25hCollecting sniffio\n",
            "  Downloading sniffio-1.2.0-py3-none-any.whl (10 kB)\n",
            "Collecting httpcore==0.9.*\n",
            "  Downloading httpcore-0.9.1-py3-none-any.whl (42 kB)\n",
            "\u001b[K     |████████████████████████████████| 42 kB 1.6 MB/s \n",
            "\u001b[?25hRequirement already satisfied: chardet==3.* in /usr/local/lib/python3.7/dist-packages (from httpx==0.13.3->googletrans==4.0.0rc1) (3.0.4)\n",
            "Requirement already satisfied: idna==2.* in /usr/local/lib/python3.7/dist-packages (from httpx==0.13.3->googletrans==4.0.0rc1) (2.10)\n",
            "Collecting h2==3.*\n",
            "  Downloading h2-3.2.0-py2.py3-none-any.whl (65 kB)\n",
            "\u001b[K     |████████████████████████████████| 65 kB 4.9 MB/s \n",
            "\u001b[?25hCollecting h11<0.10,>=0.8\n",
            "  Downloading h11-0.9.0-py2.py3-none-any.whl (53 kB)\n",
            "\u001b[K     |████████████████████████████████| 53 kB 2.9 MB/s \n",
            "\u001b[?25hCollecting hpack<4,>=3.0\n",
            "  Downloading hpack-3.0.0-py2.py3-none-any.whl (38 kB)\n",
            "Collecting hyperframe<6,>=5.2.0\n",
            "  Downloading hyperframe-5.2.0-py2.py3-none-any.whl (12 kB)\n",
            "Building wheels for collected packages: googletrans\n",
            "  Building wheel for googletrans (setup.py) ... \u001b[?25l\u001b[?25hdone\n",
            "  Created wheel for googletrans: filename=googletrans-4.0.0rc1-py3-none-any.whl size=17415 sha256=173d44bda481126ec1e94127f2e12e79638a00cb8fa6badd3f83af6ead2b8c50\n",
            "  Stored in directory: /root/.cache/pip/wheels/43/34/00/4fe71786ea6d12314b29037620c36d857e5d104ac2748bf82a\n",
            "Successfully built googletrans\n",
            "Installing collected packages: hyperframe, hpack, sniffio, h2, h11, rfc3986, httpcore, hstspreload, httpx, googletrans\n",
            "Successfully installed googletrans-4.0.0rc1 h11-0.9.0 h2-3.2.0 hpack-3.0.0 hstspreload-2021.11.1 httpcore-0.9.1 httpx-0.13.3 hyperframe-5.2.0 rfc3986-1.5.0 sniffio-1.2.0\n"
          ]
        }
      ]
    },
    {
      "cell_type": "markdown",
      "metadata": {
        "id": "9JKzqZBcvbJk"
      },
      "source": [
        "\n",
        "### 1.2 Imports"
      ]
    },
    {
      "cell_type": "code",
      "metadata": {
        "id": "iUp-pcgyvk7K"
      },
      "source": [
        "import csv\n",
        "import re\n",
        "from io import StringIO\n",
        "import requests\n",
        "import string\n",
        "from sklearn.model_selection import train_test_split\n",
        "import matplotlib.pyplot as plt  \n",
        "from keras.preprocessing.text import Tokenizer\n",
        "import numpy as np\n",
        "import pandas as pd\n",
        "from keras.models import Sequential\n",
        "import warnings\n",
        "from keras.layers import Embedding\n",
        "from keras.preprocessing.sequence import pad_sequences\n",
        "from sklearn.metrics import accuracy_score\n",
        "from keras.layers import Conv1D, GlobalMaxPooling1D, AveragePooling1D\n",
        "from keras.layers import Dense\n",
        "from keras.layers import Dropout\n",
        "from keras.layers import Activation\n",
        "from keras import backend as K\n",
        "from keras.callbacks import EarlyStopping\n",
        "#from keras.utils import to_categorical\n",
        "from tensorflow.keras.utils import to_categorical\n",
        "import talos\n",
        "\n",
        "#import talos\n",
        "from sklearn.metrics import classification_report, confusion_matrix, accuracy_score\n",
        "\n",
        "warnings.filterwarnings('ignore')\n",
        "\n",
        "pd.set_option('display.max_rows', 100)\n",
        "pd.options.display.max_rows = 1000\n",
        "pd.options.display.max_columns = 1000\n",
        "\n",
        "from googletrans import Translator\n",
        "translator = Translator()\n",
        "\n",
        "import csv\n",
        "import re\n",
        "import numpy as np\n",
        "\n",
        "import pandas as pd\n",
        "pd.set_option('display.max_rows', 200)  \n",
        "pd.set_option('display.max_columns', 200)   \n",
        "pd.set_option('display.width', 4000)\n",
        "\n",
        "import torch\n",
        "\n",
        "from io import StringIO\n",
        "import requests\n",
        "import matplotlib.pyplot as plt\n",
        "\n",
        "import demoji\n",
        "\n",
        "from sklearn.utils import resample\n",
        "from sklearn.feature_extraction.text import TfidfVectorizer\n",
        "\n",
        "from sklearn.pipeline import Pipeline\n",
        "from sklearn.linear_model import SGDClassifier\n",
        "from sklearn.naive_bayes import MultinomialNB\n",
        "\n",
        "from sklearn.model_selection import GridSearchCV\n",
        "from sklearn.model_selection import train_test_split\n",
        "\n",
        "from sklearn.metrics import confusion_matrix\n",
        "from sklearn.metrics import classification_report\n",
        "from sklearn.metrics import accuracy_score"
      ],
      "execution_count": 4,
      "outputs": []
    },
    {
      "cell_type": "markdown",
      "metadata": {
        "id": "bKjgo1cEEQPw"
      },
      "source": [
        "### 1.2 Environment"
      ]
    },
    {
      "cell_type": "code",
      "metadata": {
        "colab": {
          "base_uri": "https://localhost:8080/"
        },
        "id": "j9Tszg7FdPrZ",
        "outputId": "1b9aa4a5-b9d2-49ee-aff4-0af04faa7e75"
      },
      "source": [
        "# Check if device supports CUDA interface\n",
        "CUDA = torch.cuda.is_available()\n",
        "# Make program run on gpu (cuda:0) if available\n",
        "device = torch.device('cuda:0' if torch.cuda.is_available() else 'cpu:0')\n",
        "torch.cuda.set_device(device)\n",
        "print('Using device:', device)"
      ],
      "execution_count": 5,
      "outputs": [
        {
          "output_type": "stream",
          "name": "stdout",
          "text": [
            "Using device: cuda:0\n"
          ]
        }
      ]
    },
    {
      "cell_type": "code",
      "metadata": {
        "colab": {
          "base_uri": "https://localhost:8080/"
        },
        "id": "v4ZgunZ9qSvu",
        "outputId": "a42e4fa2-7023-421c-866c-ff43f92b5065"
      },
      "source": [
        "# Check and print information about available GPU\n",
        "gpu_info = !nvidia-smi\n",
        "gpu_info = '\\n'.join(gpu_info)\n",
        "if gpu_info.find('failed') >= 0:\n",
        "  print('Not connected to a GPU')\n",
        "else:\n",
        "  print(gpu_info)"
      ],
      "execution_count": 6,
      "outputs": [
        {
          "output_type": "stream",
          "name": "stdout",
          "text": [
            "Sat Nov  6 10:44:07 2021       \n",
            "+-----------------------------------------------------------------------------+\n",
            "| NVIDIA-SMI 495.44       Driver Version: 460.32.03    CUDA Version: 11.2     |\n",
            "|-------------------------------+----------------------+----------------------+\n",
            "| GPU  Name        Persistence-M| Bus-Id        Disp.A | Volatile Uncorr. ECC |\n",
            "| Fan  Temp  Perf  Pwr:Usage/Cap|         Memory-Usage | GPU-Util  Compute M. |\n",
            "|                               |                      |               MIG M. |\n",
            "|===============================+======================+======================|\n",
            "|   0  Tesla P100-PCIE...  Off  | 00000000:00:04.0 Off |                    0 |\n",
            "| N/A   35C    P0    28W / 250W |      2MiB / 16280MiB |      0%      Default |\n",
            "|                               |                      |                  N/A |\n",
            "+-------------------------------+----------------------+----------------------+\n",
            "                                                                               \n",
            "+-----------------------------------------------------------------------------+\n",
            "| Processes:                                                                  |\n",
            "|  GPU   GI   CI        PID   Type   Process name                  GPU Memory |\n",
            "|        ID   ID                                                   Usage      |\n",
            "|=============================================================================|\n",
            "|  No running processes found                                                 |\n",
            "+-----------------------------------------------------------------------------+\n"
          ]
        }
      ]
    },
    {
      "cell_type": "code",
      "metadata": {
        "colab": {
          "base_uri": "https://localhost:8080/"
        },
        "id": "keYYVJLbnpbD",
        "outputId": "968eb050-bcd6-4f83-9709-809dccf4b3e7"
      },
      "source": [
        "# Get GPU name\n",
        "!nvidia-smi -L"
      ],
      "execution_count": 7,
      "outputs": [
        {
          "output_type": "stream",
          "name": "stdout",
          "text": [
            "GPU 0: Tesla P100-PCIE-16GB (UUID: GPU-7ac3d541-a9a7-41f4-3201-12503ac09b2a)\n"
          ]
        }
      ]
    },
    {
      "cell_type": "code",
      "metadata": {
        "colab": {
          "base_uri": "https://localhost:8080/"
        },
        "id": "eGFVru-nqX1n",
        "outputId": "86ecf99b-a486-4625-c264-7c56447f1bf5"
      },
      "source": [
        "# Check Memory\n",
        "from psutil import virtual_memory\n",
        "ram_gb = virtual_memory().total / 1e9\n",
        "print('Your runtime has {:.1f} gigabytes of available RAM\\n'.format(ram_gb))\n",
        "\n",
        "if ram_gb < 20:\n",
        "  print('Not using a high-RAM runtime')\n",
        "else:\n",
        "  print('You are using a high-RAM runtime!')"
      ],
      "execution_count": 8,
      "outputs": [
        {
          "output_type": "stream",
          "name": "stdout",
          "text": [
            "Your runtime has 27.3 gigabytes of available RAM\n",
            "\n",
            "You are using a high-RAM runtime!\n"
          ]
        }
      ]
    },
    {
      "cell_type": "markdown",
      "metadata": {
        "id": "RkIJ7QuNv_lt"
      },
      "source": [
        "### 1.4 Constants"
      ]
    },
    {
      "cell_type": "code",
      "metadata": {
        "id": "DYruJqdrsPOS"
      },
      "source": [
        "TARGET_COLUMN = 'label'\n",
        "TWEET_COLUMN = 'tweet'\n",
        "SAMPLE_THRESHOLD = 20\n",
        "MAX_SEQ_LEN = 80"
      ],
      "execution_count": 9,
      "outputs": []
    },
    {
      "cell_type": "markdown",
      "metadata": {
        "id": "DErvchvGwKwa"
      },
      "source": [
        "## 2. Data Acquisition"
      ]
    },
    {
      "cell_type": "code",
      "metadata": {
        "id": "kj4_cIgho3Qt"
      },
      "source": [
        "url_train = 'https://docs.google.com/spreadsheets/d/e/2PACX-1vTOZ2rC82rhNsJduoyKYTsVeH6ukd7Bpxvxn_afOibn3R-eadZGXu82eCU9IRpl4CK_gefEGsYrA_oM/pub?gid=1863430984&single=true&output=tsv'\n",
        "url_test = 'https://docs.google.com/spreadsheets/d/e/2PACX-1vT-KNR9nuYatLkSbzSRgpz6Ku1n4TN4w6kKmFLkA6QJHTfQzmX0puBsLF7PAAQJQAxUpgruDd_RRgK7/pub?gid=417546901&single=true&output=tsv'"
      ],
      "execution_count": 10,
      "outputs": []
    },
    {
      "cell_type": "code",
      "metadata": {
        "id": "bRMJtZczzfOl"
      },
      "source": [
        "def load_dataset(url):\n",
        "  r = requests.get(url)\n",
        "  data = r.content.decode('utf8')\n",
        "  df = pd.read_csv(StringIO(data), sep='\\t')\n",
        "  df.columns = ['tweet', 'label']\n",
        "  return df"
      ],
      "execution_count": 11,
      "outputs": []
    },
    {
      "cell_type": "code",
      "metadata": {
        "id": "BCLdrs43pJC1"
      },
      "source": [
        "df_train = load_dataset(url_train)\n",
        "df_test = load_dataset(url_test)"
      ],
      "execution_count": 12,
      "outputs": []
    },
    {
      "cell_type": "code",
      "metadata": {
        "id": "oHETxIlp1QC7"
      },
      "source": [
        "dataset = pd.concat([df_train, df_test], axis=0) # Merge into one dataset for the pre-processing"
      ],
      "execution_count": 13,
      "outputs": []
    },
    {
      "cell_type": "code",
      "metadata": {
        "colab": {
          "base_uri": "https://localhost:8080/"
        },
        "id": "L0r9fja-1Xn8",
        "outputId": "f4c76eba-a73d-4529-9ab3-66cb654c7305"
      },
      "source": [
        "print(\"The length of the combined dataset is {0} training samples + {1} test samples = {2} samples\".format(len(df_train), len(df_test), len(dataset)))"
      ],
      "execution_count": 14,
      "outputs": [
        {
          "output_type": "stream",
          "name": "stdout",
          "text": [
            "The length of the combined dataset is 52675 training samples + 13279 test samples = 65954 samples\n"
          ]
        }
      ]
    },
    {
      "cell_type": "code",
      "metadata": {
        "id": "vUvnhpzX1xAg"
      },
      "source": [
        "dataset = dataset.sample(frac=1).reset_index(drop=True) # Randomly shuffle the data"
      ],
      "execution_count": 15,
      "outputs": []
    },
    {
      "cell_type": "code",
      "metadata": {
        "colab": {
          "base_uri": "https://localhost:8080/",
          "height": 350
        },
        "id": "uywVxiRt1kDt",
        "outputId": "9b792c8c-9b8f-48d6-b341-5d19eb27fe0a"
      },
      "source": [
        "dataset.head(10) # Show some sample tweets"
      ],
      "execution_count": 16,
      "outputs": [
        {
          "output_type": "execute_result",
          "data": {
            "text/html": [
              "<div>\n",
              "<style scoped>\n",
              "    .dataframe tbody tr th:only-of-type {\n",
              "        vertical-align: middle;\n",
              "    }\n",
              "\n",
              "    .dataframe tbody tr th {\n",
              "        vertical-align: top;\n",
              "    }\n",
              "\n",
              "    .dataframe thead th {\n",
              "        text-align: right;\n",
              "    }\n",
              "</style>\n",
              "<table border=\"1\" class=\"dataframe\">\n",
              "  <thead>\n",
              "    <tr style=\"text-align: right;\">\n",
              "      <th></th>\n",
              "      <th>tweet</th>\n",
              "      <th>label</th>\n",
              "    </tr>\n",
              "  </thead>\n",
              "  <tbody>\n",
              "    <tr>\n",
              "      <th>0</th>\n",
              "      <td>دعاء السجود:سبحان ذي الجبروت والملكوت والكبريا...</td>\n",
              "      <td>ar</td>\n",
              "    </tr>\n",
              "    <tr>\n",
              "      <th>1</th>\n",
              "      <td>@royal_afif berbuka dengan bersederhana saja. ...</td>\n",
              "      <td>id</td>\n",
              "    </tr>\n",
              "    <tr>\n",
              "      <th>2</th>\n",
              "      <td>#appydeals Free offer: Learn The French Alphab...</td>\n",
              "      <td>en</td>\n",
              "    </tr>\n",
              "    <tr>\n",
              "      <th>3</th>\n",
              "      <td>Good morning to all of you less-intelligent-th...</td>\n",
              "      <td>en</td>\n",
              "    </tr>\n",
              "    <tr>\n",
              "      <th>4</th>\n",
              "      <td>Let the family of the victims have them to do....</td>\n",
              "      <td>en</td>\n",
              "    </tr>\n",
              "    <tr>\n",
              "      <th>5</th>\n",
              "      <td>talk to me I don't want to talk to Remington a...</td>\n",
              "      <td>en</td>\n",
              "    </tr>\n",
              "    <tr>\n",
              "      <th>6</th>\n",
              "      <td>Manifestor - Beyond Illusions by Trance - http...</td>\n",
              "      <td>en</td>\n",
              "    </tr>\n",
              "    <tr>\n",
              "      <th>7</th>\n",
              "      <td>Adam wouldn't share his Cheerios. 🙊✌️😊 #TooCut...</td>\n",
              "      <td>en</td>\n",
              "    </tr>\n",
              "    <tr>\n",
              "      <th>8</th>\n",
              "      <td>【Enter 横浜関内】に行きたい♪ここにも素敵なお店⇒http://t.co/q8hHgZ...</td>\n",
              "      <td>ja</td>\n",
              "    </tr>\n",
              "    <tr>\n",
              "      <th>9</th>\n",
              "      <td>Conozco la razón que hace doler tú corashon</td>\n",
              "      <td>es</td>\n",
              "    </tr>\n",
              "  </tbody>\n",
              "</table>\n",
              "</div>"
            ],
            "text/plain": [
              "                                               tweet label\n",
              "0  دعاء السجود:سبحان ذي الجبروت والملكوت والكبريا...    ar\n",
              "1  @royal_afif berbuka dengan bersederhana saja. ...    id\n",
              "2  #appydeals Free offer: Learn The French Alphab...    en\n",
              "3  Good morning to all of you less-intelligent-th...    en\n",
              "4  Let the family of the victims have them to do....    en\n",
              "5  talk to me I don't want to talk to Remington a...    en\n",
              "6  Manifestor - Beyond Illusions by Trance - http...    en\n",
              "7  Adam wouldn't share his Cheerios. 🙊✌️😊 #TooCut...    en\n",
              "8  【Enter 横浜関内】に行きたい♪ここにも素敵なお店⇒http://t.co/q8hHgZ...    ja\n",
              "9        Conozco la razón que hace doler tú corashon    es"
            ]
          },
          "metadata": {},
          "execution_count": 16
        }
      ]
    },
    {
      "cell_type": "markdown",
      "metadata": {
        "id": "7OZ3EaAQ6Ahq"
      },
      "source": [
        "## 3. Data Exploration"
      ]
    },
    {
      "cell_type": "code",
      "metadata": {
        "id": "heZh4YHxhhQA"
      },
      "source": [
        "def data_exploration(df):\n",
        "  n_labels = len(np.unique(df[\"label\"]))\n",
        "  df = df.sort_values('label')\n",
        "  print(\"Dataset contains the columns: {}\".format(list(df.keys())))\n",
        "  print(\"with a total of {} observations\".format(len(df)))\n",
        "  print(\"and {} different possible labels.\".format(n_labels))\n",
        "  print(\"The unique labels are {}\".format(df[\"label\"].unique()))\n",
        "  plt.figure(figsize=(15, 3))\n",
        "  plt.hist(df[\"label\"], bins=n_labels)\n",
        "  plt.xticks(rotation=90)\n",
        "  plt.yscale(\"log\")\n",
        "  plt.xlabel(\"Language\")\n",
        "  plt.ylabel(\"#Occurences\")\n",
        "  plt.show()"
      ],
      "execution_count": 17,
      "outputs": []
    },
    {
      "cell_type": "code",
      "metadata": {
        "id": "G4Z5fpaX76xr"
      },
      "source": [
        "# This function checks which lanugages occur in the full dataset less than 'SAMPLE_THRESHOLD' times.\n",
        "# These languages are then returned as the list of underrepresented languages\n",
        "def get_underrepresented_languages(df, target_column, sample_threshold):\n",
        "    df = df.groupby(target_column).size().to_frame().reset_index(drop=False).rename(columns={0: 'occurences'})\n",
        "    underrepresented_languages = list(df[df['occurences'] < SAMPLE_THRESHOLD][target_column])\n",
        "    return underrepresented_languages"
      ],
      "execution_count": 18,
      "outputs": []
    },
    {
      "cell_type": "code",
      "metadata": {
        "id": "Syyazhl683ZK"
      },
      "source": [
        "def print_number_of_underrepresented_languages(df, target_column, sample_threshold):\n",
        "  underrepresented_languages = get_underrepresented_languages(df, target_column, sample_threshold)\n",
        "  print(\"There are {} languages in this data set with less then {} samples.\".format(len(underrepresented_languages), sample_threshold))"
      ],
      "execution_count": 19,
      "outputs": []
    },
    {
      "cell_type": "code",
      "metadata": {
        "colab": {
          "base_uri": "https://localhost:8080/",
          "height": 418
        },
        "id": "IZtCEi7_hYQW",
        "outputId": "7b7cec49-77ee-4cf3-aa84-cae1de1dc6c0"
      },
      "source": [
        "data_exploration(dataset)"
      ],
      "execution_count": 20,
      "outputs": [
        {
          "output_type": "stream",
          "name": "stdout",
          "text": [
            "Dataset contains the columns: ['tweet', 'label']\n",
            "with a total of 65954 observations\n",
            "and 78 different possible labels.\n",
            "The unique labels are ['ar' 'ar_LATN' 'az' 'bg' 'bn' 'bs' 'ca' 'cs' 'cy' 'da' 'de' 'dv' 'el'\n",
            " 'en' 'es' 'et' 'eu' 'fa' 'fi' 'fr' 'gl' 'ha' 'he' 'hi' 'hi-Latn' 'hr'\n",
            " 'ht' 'hu' 'hy' 'id' 'is' 'it' 'ja' 'ja_LATN' 'jv' 'km' 'ko' 'ko_LATN'\n",
            " 'la' 'lv' 'mk' 'mn' 'mr' 'ms' 'ne' 'nl' 'no' 'pl' 'ps' 'ps_LATN' 'pt'\n",
            " 'ro' 'ru' 'si' 'sk' 'sl' 'sq' 'sr' 'su' 'sv' 'sw' 'ta' 'ta_LATN' 'th'\n",
            " 'tl' 'tn' 'tr' 'uk' 'und' 'ur' 'ur_LATN' 'vi' 'wo' 'xh' 'yo' 'zh-CN'\n",
            " 'zh-TW' 'zu']\n"
          ]
        },
        {
          "output_type": "display_data",
          "data": {
            "image/png": "[encoded data removed]",
            "text/plain": [
              "<Figure size 1080x216 with 1 Axes>"
            ]
          },
          "metadata": {
            "needs_background": "light"
          }
        }
      ]
    },
    {
      "cell_type": "code",
      "metadata": {
        "id": "DLPZXkaLCH3s",
        "colab": {
          "base_uri": "https://localhost:8080/"
        },
        "outputId": "0db07ca8-8a3e-4496-b51f-b761d6739e29"
      },
      "source": [
        "print_number_of_underrepresented_languages(dataset, TARGET_COLUMN, SAMPLE_THRESHOLD)"
      ],
      "execution_count": 21,
      "outputs": [
        {
          "output_type": "stream",
          "name": "stdout",
          "text": [
            "There are 50 languages in this data set with less then 20 samples.\n"
          ]
        }
      ]
    },
    {
      "cell_type": "code",
      "metadata": {
        "id": "G1S1KOKWqy1E",
        "colab": {
          "base_uri": "https://localhost:8080/",
          "height": 1000
        },
        "outputId": "64d9116b-bd61-4b4a-e64a-4f1ff7d9e9bd"
      },
      "source": [
        "# Display all languages and their absolute number off occurences in descending order\n",
        "language_count=dataset[TARGET_COLUMN].value_counts().reset_index()\n",
        "language_count\n",
        "df = pd.DataFrame(language_count)\n",
        "df.columns = ['language', 'occurences']\n",
        "df"
      ],
      "execution_count": 22,
      "outputs": [
        {
          "output_type": "execute_result",
          "data": {
            "text/html": [
              "<div>\n",
              "<style scoped>\n",
              "    .dataframe tbody tr th:only-of-type {\n",
              "        vertical-align: middle;\n",
              "    }\n",
              "\n",
              "    .dataframe tbody tr th {\n",
              "        vertical-align: top;\n",
              "    }\n",
              "\n",
              "    .dataframe thead th {\n",
              "        text-align: right;\n",
              "    }\n",
              "</style>\n",
              "<table border=\"1\" class=\"dataframe\">\n",
              "  <thead>\n",
              "    <tr style=\"text-align: right;\">\n",
              "      <th></th>\n",
              "      <th>language</th>\n",
              "      <th>occurences</th>\n",
              "    </tr>\n",
              "  </thead>\n",
              "  <tbody>\n",
              "    <tr>\n",
              "      <th>0</th>\n",
              "      <td>en</td>\n",
              "      <td>23266</td>\n",
              "    </tr>\n",
              "    <tr>\n",
              "      <th>1</th>\n",
              "      <td>ja</td>\n",
              "      <td>12899</td>\n",
              "    </tr>\n",
              "    <tr>\n",
              "      <th>2</th>\n",
              "      <td>es</td>\n",
              "      <td>7406</td>\n",
              "    </tr>\n",
              "    <tr>\n",
              "      <th>3</th>\n",
              "      <td>und</td>\n",
              "      <td>5766</td>\n",
              "    </tr>\n",
              "    <tr>\n",
              "      <th>4</th>\n",
              "      <td>id</td>\n",
              "      <td>3823</td>\n",
              "    </tr>\n",
              "    <tr>\n",
              "      <th>5</th>\n",
              "      <td>pt</td>\n",
              "      <td>3577</td>\n",
              "    </tr>\n",
              "    <tr>\n",
              "      <th>6</th>\n",
              "      <td>ar</td>\n",
              "      <td>2728</td>\n",
              "    </tr>\n",
              "    <tr>\n",
              "      <th>7</th>\n",
              "      <td>ru</td>\n",
              "      <td>1221</td>\n",
              "    </tr>\n",
              "    <tr>\n",
              "      <th>8</th>\n",
              "      <td>fr</td>\n",
              "      <td>1170</td>\n",
              "    </tr>\n",
              "    <tr>\n",
              "      <th>9</th>\n",
              "      <td>tr</td>\n",
              "      <td>843</td>\n",
              "    </tr>\n",
              "    <tr>\n",
              "      <th>10</th>\n",
              "      <td>ko</td>\n",
              "      <td>568</td>\n",
              "    </tr>\n",
              "    <tr>\n",
              "      <th>11</th>\n",
              "      <td>th</td>\n",
              "      <td>560</td>\n",
              "    </tr>\n",
              "    <tr>\n",
              "      <th>12</th>\n",
              "      <td>it</td>\n",
              "      <td>415</td>\n",
              "    </tr>\n",
              "    <tr>\n",
              "      <th>13</th>\n",
              "      <td>tl</td>\n",
              "      <td>409</td>\n",
              "    </tr>\n",
              "    <tr>\n",
              "      <th>14</th>\n",
              "      <td>nl</td>\n",
              "      <td>225</td>\n",
              "    </tr>\n",
              "    <tr>\n",
              "      <th>15</th>\n",
              "      <td>de</td>\n",
              "      <td>221</td>\n",
              "    </tr>\n",
              "    <tr>\n",
              "      <th>16</th>\n",
              "      <td>ms</td>\n",
              "      <td>150</td>\n",
              "    </tr>\n",
              "    <tr>\n",
              "      <th>17</th>\n",
              "      <td>pl</td>\n",
              "      <td>119</td>\n",
              "    </tr>\n",
              "    <tr>\n",
              "      <th>18</th>\n",
              "      <td>sv</td>\n",
              "      <td>69</td>\n",
              "    </tr>\n",
              "    <tr>\n",
              "      <th>19</th>\n",
              "      <td>he</td>\n",
              "      <td>41</td>\n",
              "    </tr>\n",
              "    <tr>\n",
              "      <th>20</th>\n",
              "      <td>el</td>\n",
              "      <td>39</td>\n",
              "    </tr>\n",
              "    <tr>\n",
              "      <th>21</th>\n",
              "      <td>sr</td>\n",
              "      <td>29</td>\n",
              "    </tr>\n",
              "    <tr>\n",
              "      <th>22</th>\n",
              "      <td>zh-CN</td>\n",
              "      <td>26</td>\n",
              "    </tr>\n",
              "    <tr>\n",
              "      <th>23</th>\n",
              "      <td>ca</td>\n",
              "      <td>25</td>\n",
              "    </tr>\n",
              "    <tr>\n",
              "      <th>24</th>\n",
              "      <td>fi</td>\n",
              "      <td>23</td>\n",
              "    </tr>\n",
              "    <tr>\n",
              "      <th>25</th>\n",
              "      <td>fa</td>\n",
              "      <td>23</td>\n",
              "    </tr>\n",
              "    <tr>\n",
              "      <th>26</th>\n",
              "      <td>vi</td>\n",
              "      <td>21</td>\n",
              "    </tr>\n",
              "    <tr>\n",
              "      <th>27</th>\n",
              "      <td>hi</td>\n",
              "      <td>20</td>\n",
              "    </tr>\n",
              "    <tr>\n",
              "      <th>28</th>\n",
              "      <td>hi-Latn</td>\n",
              "      <td>19</td>\n",
              "    </tr>\n",
              "    <tr>\n",
              "      <th>29</th>\n",
              "      <td>uk</td>\n",
              "      <td>18</td>\n",
              "    </tr>\n",
              "    <tr>\n",
              "      <th>30</th>\n",
              "      <td>ar_LATN</td>\n",
              "      <td>15</td>\n",
              "    </tr>\n",
              "    <tr>\n",
              "      <th>31</th>\n",
              "      <td>hu</td>\n",
              "      <td>15</td>\n",
              "    </tr>\n",
              "    <tr>\n",
              "      <th>32</th>\n",
              "      <td>zh-TW</td>\n",
              "      <td>14</td>\n",
              "    </tr>\n",
              "    <tr>\n",
              "      <th>33</th>\n",
              "      <td>ro</td>\n",
              "      <td>14</td>\n",
              "    </tr>\n",
              "    <tr>\n",
              "      <th>34</th>\n",
              "      <td>ur_LATN</td>\n",
              "      <td>13</td>\n",
              "    </tr>\n",
              "    <tr>\n",
              "      <th>35</th>\n",
              "      <td>ta</td>\n",
              "      <td>12</td>\n",
              "    </tr>\n",
              "    <tr>\n",
              "      <th>36</th>\n",
              "      <td>ur</td>\n",
              "      <td>12</td>\n",
              "    </tr>\n",
              "    <tr>\n",
              "      <th>37</th>\n",
              "      <td>no</td>\n",
              "      <td>12</td>\n",
              "    </tr>\n",
              "    <tr>\n",
              "      <th>38</th>\n",
              "      <td>jv</td>\n",
              "      <td>11</td>\n",
              "    </tr>\n",
              "    <tr>\n",
              "      <th>39</th>\n",
              "      <td>su</td>\n",
              "      <td>10</td>\n",
              "    </tr>\n",
              "    <tr>\n",
              "      <th>40</th>\n",
              "      <td>sq</td>\n",
              "      <td>9</td>\n",
              "    </tr>\n",
              "    <tr>\n",
              "      <th>41</th>\n",
              "      <td>sw</td>\n",
              "      <td>8</td>\n",
              "    </tr>\n",
              "    <tr>\n",
              "      <th>42</th>\n",
              "      <td>da</td>\n",
              "      <td>8</td>\n",
              "    </tr>\n",
              "    <tr>\n",
              "      <th>43</th>\n",
              "      <td>bn</td>\n",
              "      <td>8</td>\n",
              "    </tr>\n",
              "    <tr>\n",
              "      <th>44</th>\n",
              "      <td>hr</td>\n",
              "      <td>6</td>\n",
              "    </tr>\n",
              "    <tr>\n",
              "      <th>45</th>\n",
              "      <td>bs</td>\n",
              "      <td>5</td>\n",
              "    </tr>\n",
              "    <tr>\n",
              "      <th>46</th>\n",
              "      <td>lv</td>\n",
              "      <td>5</td>\n",
              "    </tr>\n",
              "    <tr>\n",
              "      <th>47</th>\n",
              "      <td>cs</td>\n",
              "      <td>5</td>\n",
              "    </tr>\n",
              "    <tr>\n",
              "      <th>48</th>\n",
              "      <td>ne</td>\n",
              "      <td>5</td>\n",
              "    </tr>\n",
              "    <tr>\n",
              "      <th>49</th>\n",
              "      <td>bg</td>\n",
              "      <td>4</td>\n",
              "    </tr>\n",
              "    <tr>\n",
              "      <th>50</th>\n",
              "      <td>gl</td>\n",
              "      <td>3</td>\n",
              "    </tr>\n",
              "    <tr>\n",
              "      <th>51</th>\n",
              "      <td>km</td>\n",
              "      <td>3</td>\n",
              "    </tr>\n",
              "    <tr>\n",
              "      <th>52</th>\n",
              "      <td>az</td>\n",
              "      <td>3</td>\n",
              "    </tr>\n",
              "    <tr>\n",
              "      <th>53</th>\n",
              "      <td>ht</td>\n",
              "      <td>3</td>\n",
              "    </tr>\n",
              "    <tr>\n",
              "      <th>54</th>\n",
              "      <td>eu</td>\n",
              "      <td>2</td>\n",
              "    </tr>\n",
              "    <tr>\n",
              "      <th>55</th>\n",
              "      <td>ko_LATN</td>\n",
              "      <td>2</td>\n",
              "    </tr>\n",
              "    <tr>\n",
              "      <th>56</th>\n",
              "      <td>sl</td>\n",
              "      <td>2</td>\n",
              "    </tr>\n",
              "    <tr>\n",
              "      <th>57</th>\n",
              "      <td>ta_LATN</td>\n",
              "      <td>2</td>\n",
              "    </tr>\n",
              "    <tr>\n",
              "      <th>58</th>\n",
              "      <td>et</td>\n",
              "      <td>2</td>\n",
              "    </tr>\n",
              "    <tr>\n",
              "      <th>59</th>\n",
              "      <td>xh</td>\n",
              "      <td>2</td>\n",
              "    </tr>\n",
              "    <tr>\n",
              "      <th>60</th>\n",
              "      <td>ja_LATN</td>\n",
              "      <td>2</td>\n",
              "    </tr>\n",
              "    <tr>\n",
              "      <th>61</th>\n",
              "      <td>hy</td>\n",
              "      <td>2</td>\n",
              "    </tr>\n",
              "    <tr>\n",
              "      <th>62</th>\n",
              "      <td>tn</td>\n",
              "      <td>1</td>\n",
              "    </tr>\n",
              "    <tr>\n",
              "      <th>63</th>\n",
              "      <td>mn</td>\n",
              "      <td>1</td>\n",
              "    </tr>\n",
              "    <tr>\n",
              "      <th>64</th>\n",
              "      <td>ha</td>\n",
              "      <td>1</td>\n",
              "    </tr>\n",
              "    <tr>\n",
              "      <th>65</th>\n",
              "      <td>is</td>\n",
              "      <td>1</td>\n",
              "    </tr>\n",
              "    <tr>\n",
              "      <th>66</th>\n",
              "      <td>mr</td>\n",
              "      <td>1</td>\n",
              "    </tr>\n",
              "    <tr>\n",
              "      <th>67</th>\n",
              "      <td>la</td>\n",
              "      <td>1</td>\n",
              "    </tr>\n",
              "    <tr>\n",
              "      <th>68</th>\n",
              "      <td>zu</td>\n",
              "      <td>1</td>\n",
              "    </tr>\n",
              "    <tr>\n",
              "      <th>69</th>\n",
              "      <td>wo</td>\n",
              "      <td>1</td>\n",
              "    </tr>\n",
              "    <tr>\n",
              "      <th>70</th>\n",
              "      <td>ps_LATN</td>\n",
              "      <td>1</td>\n",
              "    </tr>\n",
              "    <tr>\n",
              "      <th>71</th>\n",
              "      <td>ps</td>\n",
              "      <td>1</td>\n",
              "    </tr>\n",
              "    <tr>\n",
              "      <th>72</th>\n",
              "      <td>yo</td>\n",
              "      <td>1</td>\n",
              "    </tr>\n",
              "    <tr>\n",
              "      <th>73</th>\n",
              "      <td>si</td>\n",
              "      <td>1</td>\n",
              "    </tr>\n",
              "    <tr>\n",
              "      <th>74</th>\n",
              "      <td>dv</td>\n",
              "      <td>1</td>\n",
              "    </tr>\n",
              "    <tr>\n",
              "      <th>75</th>\n",
              "      <td>mk</td>\n",
              "      <td>1</td>\n",
              "    </tr>\n",
              "    <tr>\n",
              "      <th>76</th>\n",
              "      <td>cy</td>\n",
              "      <td>1</td>\n",
              "    </tr>\n",
              "    <tr>\n",
              "      <th>77</th>\n",
              "      <td>sk</td>\n",
              "      <td>1</td>\n",
              "    </tr>\n",
              "  </tbody>\n",
              "</table>\n",
              "</div>"
            ],
            "text/plain": [
              "   language  occurences\n",
              "0        en       23266\n",
              "1        ja       12899\n",
              "2        es        7406\n",
              "3       und        5766\n",
              "4        id        3823\n",
              "5        pt        3577\n",
              "6        ar        2728\n",
              "7        ru        1221\n",
              "8        fr        1170\n",
              "9        tr         843\n",
              "10       ko         568\n",
              "11       th         560\n",
              "12       it         415\n",
              "13       tl         409\n",
              "14       nl         225\n",
              "15       de         221\n",
              "16       ms         150\n",
              "17       pl         119\n",
              "18       sv          69\n",
              "19       he          41\n",
              "20       el          39\n",
              "21       sr          29\n",
              "22    zh-CN          26\n",
              "23       ca          25\n",
              "24       fi          23\n",
              "25       fa          23\n",
              "26       vi          21\n",
              "27       hi          20\n",
              "28  hi-Latn          19\n",
              "29       uk          18\n",
              "30  ar_LATN          15\n",
              "31       hu          15\n",
              "32    zh-TW          14\n",
              "33       ro          14\n",
              "34  ur_LATN          13\n",
              "35       ta          12\n",
              "36       ur          12\n",
              "37       no          12\n",
              "38       jv          11\n",
              "39       su          10\n",
              "40       sq           9\n",
              "41       sw           8\n",
              "42       da           8\n",
              "43       bn           8\n",
              "44       hr           6\n",
              "45       bs           5\n",
              "46       lv           5\n",
              "47       cs           5\n",
              "48       ne           5\n",
              "49       bg           4\n",
              "50       gl           3\n",
              "51       km           3\n",
              "52       az           3\n",
              "53       ht           3\n",
              "54       eu           2\n",
              "55  ko_LATN           2\n",
              "56       sl           2\n",
              "57  ta_LATN           2\n",
              "58       et           2\n",
              "59       xh           2\n",
              "60  ja_LATN           2\n",
              "61       hy           2\n",
              "62       tn           1\n",
              "63       mn           1\n",
              "64       ha           1\n",
              "65       is           1\n",
              "66       mr           1\n",
              "67       la           1\n",
              "68       zu           1\n",
              "69       wo           1\n",
              "70  ps_LATN           1\n",
              "71       ps           1\n",
              "72       yo           1\n",
              "73       si           1\n",
              "74       dv           1\n",
              "75       mk           1\n",
              "76       cy           1\n",
              "77       sk           1"
            ]
          },
          "metadata": {},
          "execution_count": 22
        }
      ]
    },
    {
      "cell_type": "markdown",
      "metadata": {
        "id": "IYLOL2_B5OrT"
      },
      "source": [
        "## 4. Text Cleaning"
      ]
    },
    {
      "cell_type": "markdown",
      "metadata": {
        "id": "np67DQkz5JEm"
      },
      "source": [
        "This is generally a good idea as many text classification tools rely on counting the occurrences of words. If both upper and lower case versions of the same word are found in the text then the algorithm will count them as different words even though the meaning is the same. Of course this does mean that where the capitalised versions of a word exists, that does have a different meaning. For example the company Apple vs the fruit apple. This could result in poorer performance for some data sets. This is one area of NLP where you may try different methods to see how they affect the overall performance of the model. We decided to transform our corpus into lowercase, since the case wont have\n",
        "a big influence on the language classification performance"
      ]
    },
    {
      "cell_type": "code",
      "metadata": {
        "id": "vsh1XvSsAwYL"
      },
      "source": [
        "def remove_all_emojis(text):\n",
        "  dem = demoji.findall(text)\n",
        "  for item in dem.keys():\n",
        "    text = text.replace(item, '')\n",
        "  return text"
      ],
      "execution_count": 23,
      "outputs": []
    },
    {
      "cell_type": "code",
      "metadata": {
        "id": "kQfxTUB36n4C"
      },
      "source": [
        "def clean_data(df, column):\n",
        "    df = df.copy(deep=True) # Make deep copy of tweets\n",
        "    df[column] = df[column].str.lower() # Transform into all lowercase\n",
        "    \n",
        "    patterns = []\n",
        "    retweet_pattern = '^RT'\n",
        "    patterns.append(retweet_pattern)\n",
        "    xml_pattern = '&\\S+;'\n",
        "    patterns.append(xml_pattern)\n",
        "    hashtag_pattern = '#[A-Za-z0-9_]+'\n",
        "    patterns.append(hashtag_pattern)\n",
        "    twitter_mention_pattern = '@[A-Za-z0-9_]+'\n",
        "    patterns.append(twitter_mention_pattern)\n",
        "    http_pattern = 'http\\S+'\n",
        "    patterns.append(http_pattern)\n",
        "    www_pattern = 'www\\S+'\n",
        "    patterns.append(www_pattern)\n",
        "    tab_pattern = '\\t'\n",
        "    patterns.append(tab_pattern)\n",
        "    punctuation_pattern = '[!\"#$%&\\\\()*+,-./:;<=>?@\\[\\]^_`\\'{}~]+'\n",
        "    patterns.append(punctuation_pattern)\n",
        "    numeric_pattern = '[0-9]+'\n",
        "    patterns.append(numeric_pattern)\n",
        "    regex = \"|\".join(patterns)\n",
        "\n",
        "    #df[column] = df[column].apply(lambda elem: re.sub(r\"(@[A-Za-z0-9]+)|([^0-9A-Za-z \\t])|(\\w+:\\/\\/\\S+)|^rt|http.+?\", \"\", elem)) \n",
        "    df[column] = df[column].apply(lambda elem: re.sub(r\"{}\".format(regex), \"\", elem))\n",
        "    df[column] = df[column].apply(remove_all_emojis)\n",
        "    \n",
        "    return df"
      ],
      "execution_count": 24,
      "outputs": []
    },
    {
      "cell_type": "code",
      "metadata": {
        "id": "JtIoEEyK8Dxx",
        "colab": {
          "base_uri": "https://localhost:8080/"
        },
        "outputId": "abfb5bad-f14b-4e39-b120-568d726dda35"
      },
      "source": [
        "# Now we want to find out which special characters need to be removed from tweets in order to make the prediction better.\n",
        "# We go over the printed list an not down the symbold which are not needed for language identification.\n",
        "# These will be removed in a later step.\n",
        "languages = list(np.unique(dataset[TARGET_COLUMN]))\n",
        "for language in languages:\n",
        "  localized_tweets = dataset[dataset[TARGET_COLUMN] == language]\n",
        "  # Clean and compare them\n",
        "  cleaned_localized_tweets = clean_data(localized_tweets, TWEET_COLUMN)\n",
        "  comparison_view = pd.concat([localized_tweets.drop([TARGET_COLUMN], axis=1), cleaned_localized_tweets], axis=1)\n",
        "  print(comparison_view.head(5))\n",
        "  #print(localized_tweets.head(5))\n",
        "  print(\"---\")\n",
        "\n",
        "# Symbols like @<mention>, #, http://link !, numeric values (e.g 16000), \" do not help for language identification."
      ],
      "execution_count": 25,
      "outputs": [
        {
          "output_type": "stream",
          "name": "stdout",
          "text": [
            "                                                tweet                                              tweet label\n",
            "0   دعاء السجود:سبحان ذي الجبروت والملكوت والكبريا...  دعاء السجودسبحان ذي الجبروت والملكوت والكبرياء...    ar\n",
            "14  اللهم إني أعوذ بك من شر ما عملت، ومن شر ما لم ...  اللهم إني أعوذ بك من شر ما عملت، ومن شر ما لم ...    ar\n",
            "15  سبحان الذي إذا ذكرته ذكرك ،   وإن شكرته زادك ,...  سبحان الذي إذا ذكرته ذكرك ،   وإن شكرته زادك  ...    ar\n",
            "50  اللهم نقني من الذنوب والخطايا كما ينقى الثوب ا...  اللهم نقني من الذنوب والخطايا كما ينقى الثوب ا...    ar\n",
            "57  @1KsaNews1 حسن صادق وقد خسر الكثير بسبب صدقه ة...   حسن صادق وقد خسر الكثير بسبب صدقه ةانت وامثال...    ar\n",
            "---\n",
            "                                    tweet                           tweet    label\n",
            "4464                        kalmooni ya5e                    kalmooni yae  ar_LATN\n",
            "5372                 ya allah ya allah x)             ya allah ya allah x  ar_LATN\n",
            "5605              Ya rab tekhlas hel game         ya rab tekhlas hel game  ar_LATN\n",
            "7307              @DeemaGhazi nfs 7alti😟😟                        nfs alti  ar_LATN\n",
            "13216  takabbalallu minna wa minkum :) :)  takabbalallu minna wa minkum    ar_LATN\n",
            "---\n",
            "                                                   tweet                                              tweet label\n",
            "9797   Gözləmək səbrin imtahanıdır.Sevinc qapısının a...  gözləmək səbrin imtahanıdırsevinc qapısının aç...    az\n",
            "9912                özümü atılmış biri kimi hiss edirəm.                özümü atılmış biri kimi hiss edirəm    az\n",
            "53314                @Akhundsoylu səsküyləri basır aləmi                             səsküyləri basır aləmi    az\n",
            "---\n",
            "                                                   tweet                                              tweet label\n",
            "2543   РЕГИСТРАЦИЯ на ФИРМА за 1 ден на ЕООД-ООД-100л...  регистрация на фирма за  ден на еоодоодлв етлв...    bg\n",
            "28028  Най-добре се смее ,който се смее последен --дн...  найдобре се смее който се смее последен днес м...    bg\n",
            "47754  Ботас може да стане изключителен пилот, смята ...  ботас може да стане изключителен пилот смята с...    bg\n",
            "65923  Публикувах нова снимка във Facebook. http://t....               публикувах нова снимка във facebook     bg\n",
            "---\n",
            "                                                   tweet                                              tweet label\n",
            "7031   আবারো রাসুল (স)কে কাফিরদের অপবাদের মেশিন 'আয়েশ...  আবারো রাসুল সকে কাফিরদের অপবাদের মেশিন আয়েশা ও...    bn\n",
            "12690  জননেত্রী শেখ হাসিনা লন্ডন পেৌছেছেন------অধ্যক্...  জননেত্রী শেখ হাসিনা লন্ডন পেৌছেছেনঅধ্যক্ষ শেখ ...    bn\n",
            "17033  @mona__787  প্রতিটা সময় জীবনের সৃতি  হয়ে থাকবে...           প্রতিটা সময় জীবনের সৃতি  হয়ে থাকবে আমার।    bn\n",
            "18501  ঢাকা-টাঙ্গাইল মহাসড়কে যান চলাচল শুরু:  http://...              ঢাকাটাঙ্গাইল মহাসড়কে যান চলাচল শুরু      bn\n",
            "18887  @66OV99: @taslimanasreen @AMITGKAMIT গ্লোবাল !...     গ্লোবাল  তাপস বাবুর ক্ষেত্রে শুধু গ্লো টা ব...    bn\n",
            "---\n",
            "                                                   tweet                                              tweet label\n",
            "17757  Najbolji 💟💟 blue angels berlin http://t.co/4wF...                      najbolji  blue angels berlin     bs\n",
            "26625      Paparaci u akciji No 2 http://t.co/StoaBA6V87                             paparaci u akciji no      bs\n",
            "34159  Italijanski novinar Vanoli(70) upozorava: VAKC...  italijanski novinar vanoli upozorava vakcinama...    bs\n",
            "39292              @samobakrac u septembru ulaze u vlast                          u septembru ulaze u vlast    bs\n",
            "53969  Subotić oslobodjen optužbi za šverc cigareta- ...      subotić oslobodjen optužbi za šverc cigareta     bs\n",
            "---\n",
            "                                                  tweet                                              tweet label\n",
            "5075  Coses que són un nyap - Mail Obert - VilaWeb h...  coses que són un nyap  mail obert  vilaweb  ví...    ca\n",
            "5856  #Trabajo #Girona Director administratiu centre...    director administratiu centre ensenyament gi...    ca\n",
            "6231  @josefajram @8aldia i llàstima no poder vore-h...    i llàstima no poder voreho al país valencià ...    ca\n",
            "7348  A...paga la llum! La factura a examen. Demà 19...  apaga la llum la factura a examen demà h  insc...    ca\n",
            "8959                   @CescGF jaspi aventures mata! :)                              jaspi aventures mata     ca\n",
            "---\n",
            "                                                   tweet                                              tweet label\n",
            "14327  Sestra nevěsty má dle maminky důležitou úlohu....  sestra nevěsty má dle maminky důležitou úlohu ...    cs\n",
            "15115  Mechanical Moth - Winternachtstraum texty a př...  mechanical moth  winternachtstraum texty a pře...    cs\n",
            "20578  Na Novotného lávce jsou k vidění Smetanovy kre...  na novotného lávce jsou k vidění smetanovy kre...    cs\n",
            "24264  #ojeu #notice 33115100 €521k Český Krumlov:CT ...     €k český krumlovct skener dodávka ct skener...    cs\n",
            "49533           né, na oranžový foursquare si nezvyknu 😒             né na oranžový foursquare si nezvyknu     cs\n",
            "---\n",
            "                                                   tweet                                              tweet label\n",
            "65476  @AngharadV @jonesf09 @rhi_pri_bbc Dod adra'n w...     dod adran waglaw o fiwmares heb sgidia  oed...    cy\n",
            "---\n",
            "                                                   tweet                                              tweet label\n",
            "3712   @LindaSchou stort soveværelse 😃 også skal min ...   stort soveværelse  også skal min stue også or...    da\n",
            "7567   Dagen bød på en 650kr City car park oplevelse....  dagen bød på en kr city car park oplevelse  je...    da\n",
            "18625  @mpbdavidsen Jeg har nydt hvert et minut. Men ...   jeg har nydt hvert et minut men jeg føler ikk...    da\n",
            "21468                           @UnibetNorge 2-1 til arg                                            til arg    da\n",
            "22028  BB (Les) - Comme Un Loup sangtekster og oversæ...  bb les  comme un loup sangtekster og oversætte...    da\n",
            "---\n",
            "                                                 tweet                                              tweet label\n",
            "314  DeutschlandOstdeutsche Regierungschefs fordern...  deutschlandostdeutsche regierungschefs fordern...    de\n",
            "505               Gleich mal Richtung Süden reiten....                   gleich mal richtung süden reiten    de\n",
            "573             @petcockpeter HAB SIE SCHON GELESEN HA                           hab sie schon gelesen ha    de\n",
            "675  @ekaterina191279    Und noch bekommt  er  Geld !!                        und noch bekommt  er  geld     de\n",
            "967  ForeScout veröffentlicht Studie zur Ausgereift...  forescout veröffentlicht studie zur ausgereift...    de\n",
            "---\n",
            "                                                  tweet                                              tweet label\n",
            "2109  @FrzRml ish pelik ngat aih. Bleh dok buat logh...   ish pelik ngat aih bleh dok buat loghat kedah...    dv\n",
            "---\n",
            "                                                  tweet                                 tweet label\n",
            "502   Η Αθήνα του 1961 (Βίντεο)  http://t.co/xqR9qTpbfh                 η αθήνα του  βίντεο      el\n",
            "624   Αναχώρησε για Καρπενήσι ο Πλατανιάς http://t.c...  αναχώρησε για καρπενήσι ο πλατανιάς     el\n",
            "663                #GreeceLovesLittleMix @LittleMix  χχ                                    χχ    el\n",
            "1953        @1wraiapetalouda σπασ τα μαρη να γουστας...               σπασ τα μαρη να γουστας    el\n",
            "3716                                     @tmagoro (・ω・)                                   ・ω・    el\n",
            "---\n",
            "                                               tweet                                              tweet label\n",
            "2  #appydeals Free offer: Learn The French Alphab...   free offer learn the french alphabet for todd...    en\n",
            "3  Good morning to all of you less-intelligent-th...  good morning to all of you lessintelligentthan...    en\n",
            "4  Let the family of the victims have them to do....  let the family of the victims have them to do ...    en\n",
            "5  talk to me I don't want to talk to Remington a...  talk to me i dont want to talk to remington an...    en\n",
            "6  Manifestor - Beyond Illusions by Trance - http...      manifestor  beyond illusions by trance   on      en\n",
            "---\n",
            "                                                tweet                                              tweet label\n",
            "9         Conozco la razón que hace doler tú corashon        conozco la razón que hace doler tú corashon    es\n",
            "21                          Uh, mañana habia parcial.                            uh mañana habia parcial    es\n",
            "27            Me siento joven despertando a esta hora            me siento joven despertando a esta hora    es\n",
            "32  @esposftorres jajaja quee? naaah ni en pedo me...   jajaja quee naaah ni en pedo me gustaria la p...    es\n",
            "38  NOTICIA:  Nancy dando masajes a Paul :3  Gaby!...        noticia  nancy dando masajes a paul   gaby     es\n",
            "---\n",
            "                                                   tweet                                              tweet label\n",
            "58096  Divina Enema - The Holy Holt teksti ja tõlke l...  divina enema  the holy holt teksti ja tõlke laul     et\n",
            "63022                           @jinrriyaa maapin talle😣                                       maapin talle    et\n",
            "---\n",
            "                                                   tweet                                              tweet label\n",
            "33513  Bilbon gaur arratsaldean #PalestinaAskatu ! ht...                        bilbon gaur arratsaldean       eu\n",
            "53194  #Gasteiz  330 jardueratik gora Andre Maria Zur...     jardueratik gora andre maria zuriaren jaiet...    eu\n",
            "---\n",
            "                                                   tweet                                              tweet label\n",
            "797    افزایش ۲۰ درصدی شمار مبتلایان به ویروس ابولا د...  افزایش ۲۰ درصدی شمار مبتلایان به ویروس ابولا د...    fa\n",
            "12084  @Mehranam_baw  ویروس ایدز و آنتی ویروس و چسنال...    ویروس ایدز و آنتی ویروس و چسناله ی دخدرا درم...    fa\n",
            "24311  جمع‌آوری خاطرات شهدای زن استان کرمان http://t....              جمع‌آوری خاطرات شهدای زن استان کرمان     fa\n",
            "26297  این روزهایم به تظاهر می گذرد . . . تظاهر به بی...  این روزهایم به تظاهر می گذرد    تظاهر به بی تف...    fa\n",
            "26664  آبــش اومــد . . . . . . پسره اینقدر دوس دخترش...  آبــش اومــد       پسره اینقدر دوس دخترشو گایی...    fa\n",
            "---\n",
            "                                                  tweet                                              tweet label\n",
            "6111  @aijjaa @Examiner1976 @ManFromBasement Joo ja ...       joo ja jee nää kimppahalit on ihan parhaita     fi\n",
            "6294  Vene ei vieläkään kunnossa, mutta onneksi Espo...  vene ei vieläkään kunnossa mutta onneksi espoo...    fi\n",
            "7701       @topimanu ok! Sekoitin suloiset pellavapäät.                   ok sekoitin suloiset pellavapäät    fi\n",
            "7855  @anskiiuu Uskon! :D Mutt jokainen tsäänssi on ...   uskon d mutt jokainen tsäänssi on niille mahd...    fi\n",
            "9548  @HenriAlen Tosielämän välipalaa miehellä #kuit...     tosielämän välipalaa miehellä   terveellistä      fi\n",
            "---\n",
            "                                                 tweet                                              tweet label\n",
            "104  Ils enferment des rats dans un sceau, il le co...  ils enferment des rats dans un sceau il le col...    fr\n",
            "184  JE VAIS TWEETER ÇA CENT FOIS ET SI IL Y A DIX ...  je vais tweeter ça cent fois et si il y a dix ...    fr\n",
            "206  J'ai récupéré des ressources 1 parchemins ! Vo...  jai récupéré des ressources  parchemins  vous ...    fr\n",
            "281                                  XPTDDDDDDR 😂😂😂😂😂😂                                        xptddddddr     fr\n",
            "356  @carterzdrew @justinbieber @john de rien c'est...                                 de rien cest rien     fr\n",
            "---\n",
            "                                                   tweet                                              tweet label\n",
            "39188                Pero dende cando son eu rubia? -.-\"                     pero dende cando son eu rubia     gl\n",
            "39241  PP e PSOE din que o anuncio de Vega sobre as f...  pp e psoe din que o anuncio de vega sobre as f...    gl\n",
            "64118  Despois dun gran finde na semana negra de gijó...  despois dun gran finde na semana negra de gijó...    gl\n",
            "---\n",
            "                            tweet       tweet label\n",
            "60350  @Abubakar_nasko munafiki 😂   munafiki     ha\n",
            "---\n",
            "                                                   tweet                                              tweet label\n",
            "1003                              יאוווו אני שונאת אותם.                              יאוווו אני שונאת אותם    he\n",
            "4406   @Geva_T אוזיל בימים ומולר באמצע יביאו את היתרו...   אוזיל בימים ומולר באמצע יביאו את היתרון זה וצ...    he\n",
            "5545          @chanar_12 שבוע טוב. הצלחת להגיע לתל אביב?                      שבוע טוב הצלחת להגיע לתל אביב    he\n",
            "14809  @yuval123451998 @stav_shaul @avivkl חחחחחח מה ...          חחחחחח מה נעשה בלעדייך בכיתה שנה הבאההההה    he\n",
            "15580                                  איפה היופי בדיוק?                                   איפה היופי בדיוק    he\n",
            "---\n",
            "                                                   tweet                                              tweet label\n",
            "547    रात ने चादर समेट ली है, सूरज ने किरणें बिखेर द...  रात ने चादर समेट ली है सूरज ने किरणें बिखेर दी...    hi\n",
            "816    सुअरिज्म जिंदाबाद था ,,, जिंदाबाद रहेगा ,,, ht...             सुअरिज्म जिंदाबाद था  जिंदाबाद रहेगा      hi\n",
            "6976   #RT #ipad #iphone इराक में अपने शिया भाइयों की...     इराक में अपने शिया भाइयों की मदद के लिए जान...    hi\n",
            "9129   13/7 मुंबई धमाकों को लेकर आंतकी भटकल को कोई पछ...   मुंबई धमाकों को लेकर आंतकी भटकल को कोई पछतावा...    hi\n",
            "16804  #ipad #ios #iphone संसद में मुखर हुई गंगा की आ...       संसद में मुखर हुई गंगा की आवाज  nai dunia       hi\n",
            "---\n",
            "                                                  tweet                                              tweet    label\n",
            "1076  Sunny leone ke PINK LIPS gaane me... Pink Lips...  sunny leone ke pink lips gaane me pink lips ke...  hi-Latn\n",
            "3700  @Nilesh_Shah usse mil lijiye.. aapko b pta hai...   usse mil lijiye aapko b pta hai kiski baat kr...  hi-Latn\n",
            "5450  rochi di kuch controversial hone pe apne aap o...  rochi di kuch controversial hone pe apne aap o...  hi-Latn\n",
            "6517   acche din jarur aenge.... http://t.co/VOFFU86Xnh                             acche din jarur aenge   hi-Latn\n",
            "6679  mar jayiya tere bin  mar jayiya tere bin mar j...  mar jayiya tere bin  mar jayiya tere bin mar j...  hi-Latn\n",
            "---\n",
            "                                              tweet                                        tweet label\n",
            "1128                           Misli mi se o krašu+                          misli mi se o krašu    hr\n",
            "21485              @mlccs1 kuku znam tog lika .....                          kuku znam tog lika     hr\n",
            "51606              O, zasto smo sada toliko daleko?               o zasto smo sada toliko daleko    hr\n",
            "56066  Aa izgrickala sam sve nokte do zivca,umireem  aa izgrickala sam sve nokte do zivcaumireem    hr\n",
            "57730                jebote pa muskarci nose suknje               jebote pa muskarci nose suknje    hr\n",
            "---\n",
            "                                                   tweet                                              tweet label\n",
            "12969  Jan majorite moun ap viv Ayiti a RT @RomeroBou...  jan majorite moun ap viv ayiti a rt  kijan mou...    ht\n",
            "35428  Gwo vant pa alamod Ekri ou rele 37201033 mande...  gwo vant pa alamod ekri ou rele  mande pwodwi ...    ht\n",
            "60301  A kisa bregard sanble smh lmaoo djakout #1 lan...  a kisa bregard sanble smh lmaoo djakout  lan m...    ht\n",
            "---\n",
            "                                                   tweet                                              tweet label\n",
            "965    szóval szép jó éjszakát mindenkinek~ ^o^ http:...             szóval szép jó éjszakát mindenkinek o     hu\n",
            "3904   Jóbarátok - Kockalandok - The End: http://t.co...            jóbarátok  kockalandok  the end   által    hu\n",
            "9322               meeer nem toltottem fel a telom :((((                   meeer nem toltottem fel a telom     hu\n",
            "9904   [index] Prés '14: Halál a külföldi pancsolt bo...  index prés  halál a külföldi pancsolt borra a ...    hu\n",
            "14660               Kedves Péter! http://t.co/wCLkshTHEy                                      kedves péter     hu\n",
            "---\n",
            "                                                   tweet                                              tweet label\n",
            "44026  Ֆալկաոն «Ռեալում» կարող է կրել Բենզեմայի 9 համ...  ֆալկաոն «ռեալում» կարող է կրել բենզեմայի  համա...    hy\n",
            "61276  ԱԼԼԱ ԼԵՎՈՆՅԱՆԸ ՄԵՆԱՀԱՄԵՐԳԻ Է ՊԱՏՐԱՍՏՎՈՒՄ http:...          ալլա լեվոնյանը մենահամերգի է պատրաստվում     hy\n",
            "---\n",
            "                                                tweet                                              tweet label\n",
            "1   @royal_afif berbuka dengan bersederhana saja. ...   berbuka dengan bersederhana saja jangan memba...    id\n",
            "46  @pramiyastuti itupun kaloi beruntung sesuai na...               itupun kaloi beruntung sesuai namany    id\n",
            "49    @DiyanaReffal geng olahraga train dak kak nana?                   geng olahraga train dak kak nana    id\n",
            "54                                 3jam lbh laaah -_-                                     jam lbh laaah     id\n",
            "84  #MondayNightWar Suka mendem perasaan ?  @MyAsk...                            suka mendem perasaan       id\n",
            "---\n",
            "                                                   tweet                                   tweet label\n",
            "42979  Dunga nýr landsliðsþjálfari Brasilíu http://t....  dunga nýr landsliðsþjálfari brasilíu      is\n",
            "---\n",
            "                                                 tweet                                              tweet label\n",
            "231    @giadasiccardi: Cita e rispondi.\"  Md o dm?\" dm                        cita e rispondi  md o dm dm    it\n",
            "297  cyrusbooty È bellissimo,mi piace come è abinat...  cyrusbooty è bellissimomi piace come è abinato...    it\n",
            "375  @fertermentini @simonettasc Questi chi rappres...    questi chi rappresentanosolo se stessi nonce...    it\n",
            "763               BELLISSIMA!!! http://t.co/pucbknOQNK                                        bellissima     it\n",
            "996  Mi è piaciuto un video di @YouTube da @anthony...  mi è piaciuto un video di  da   acoustic cover...    it\n",
            "---\n",
            "                                                tweet                                              tweet label\n",
            "8   【Enter 横浜関内】に行きたい♪ここにも素敵なお店⇒http://t.co/q8hHgZ...  【enter 横浜関内】に行きたい♪ここにも素敵なお店⇒  神奈川 みなとみらい 横浜市  ...    ja\n",
            "10                             ビルドファイトのガンプラって全部PGじゃね？                             ビルドファイトのガンプラって全部pgじゃね？    ja\n",
            "25                                             おい！お前！                                             おい！お前！    ja\n",
            "26              風立ちぬ [Blu-ray] http://t.co/yt2zK4GZw0                                       風立ちぬ bluray     ja\n",
            "39                   人気のないオフィスでEXILEが昼寝をしているとかちょっとヤバい                   人気のないオフィスでexileが昼寝をしているとかちょっとヤバい    ja\n",
            "---\n",
            "                                                  tweet                                              tweet    label\n",
            "6247  http://t.co/Ym4v14YvtE #Description kara-komik...    karakomikku yakinbyotou ni furuedisyonn opez...  ja_LATN\n",
            "6731                              @JID_nana yoroshiku:)                                          yoroshiku  ja_LATN\n",
            "---\n",
            "                                                   tweet                                              tweet label\n",
            "3342                                   Males gewlaaaaaa~                                   males gewlaaaaaa    jv\n",
            "8716   makane maenke ki daendels haha RT @p_bayuprada...  makane maenke ki daendels haha rt  congratulat...    jv\n",
            "9669               @CuppangMrz_ iku mburine enol tah ooo                           iku mburine enol tah ooo    jv\n",
            "12628  mato ki sik ndi? piro regane neng kno? RT @ahe...  mato ki sik ndi piro regane neng kno rt   cera...    jv\n",
            "36167                    @akhyarnst rokok trossss hahaha                               rokok trossss hahaha    jv\n",
            "---\n",
            "                                                   tweet                                              tweet label\n",
            "1717   ស្ពានអាកាសស្ទឹងមានជ័យចាប់ដំណើរការពីថ្ងៃព្រហស្ប...  ស្ពានអាកាសស្ទឹងមានជ័យចាប់ដំណើរការពីថ្ងៃព្រហស្ប...    km\n",
            "7283                                    សា្វគមន៍ថ្ងៃថ្មី                                   សា្វគមន៍ថ្ងៃថ្មី    km\n",
            "35643  ញាំថ្នាំផ្តាសសាយខ្លាំពេកឡើងគេញលែងចង់ចង់ក្រោកហើ...    ញាំថ្នាំផ្តាសសាយខ្លាំពេកឡើងគេញលែងចង់ចង់ក្រោកហើយ    km\n",
            "---\n",
            "                                                 tweet                                              tweet label\n",
            "258    @deesse_bot 그러려무나. 푹 쉬고 내일도 좋은 하루가 되기를 바랄게,디쎄양.                   그러려무나 푹 쉬고 내일도 좋은 하루가 되기를 바랄게디쎄양    ko\n",
            "276  @alliumtuberosum ㅋㅋㅋㅋㅋㅇㅇ 보고 행복한 고민에..!! 걸 수 없는...            ㅋㅋㅋㅋㅋㅇㅇ 보고 행복한 고민에 걸 수 없는 포스터가 늘었다ㅠㅠㅠㅠㅠ    ko\n",
            "294                               이 나이가 되니 밤샘도 쉽지 않구만~                                이 나이가 되니 밤샘도 쉽지 않구만    ko\n",
            "358                      니코니코니~ http://t.co/e7ETEpBXr7                                             니코니코니     ko\n",
            "378  @HRnim ㅋㅋㅋㅋㅋㅋㅋㅋㅋㅋㅋㅋㅋㅋㅋㅋㅋㅋㅋㅋ이번엔 제가...(심호흡) 경찰아저...   ㅋㅋㅋㅋㅋㅋㅋㅋㅋㅋㅋㅋㅋㅋㅋㅋㅋㅋㅋㅋ이번엔 제가심호흡 경찰아저ㅆ퍽털썩혜르님하아 하...    ko\n",
            "---\n",
            "                      tweet     tweet    label\n",
            "15354  @SL_kyuraw gomawoo:)   gomawoo  ko_LATN\n",
            "53125  @BangSujin_IRP heol.      heol  ko_LATN\n",
            "---\n",
            "                                                  tweet                                    tweet label\n",
            "4442  @CutTheKnotMath @washingtonpost ceterum censeo...    ceterum censeo israelem delendam esse    la\n",
            "---\n",
            "                                                tweet                            tweet label\n",
            "27282                            @LuisaLion Wuhuuu :D                         wuhuuu d    lv\n",
            "34233                       @10eleksa *profesionālāks                   profesionālāks    lv\n",
            "36884                       @BiglittleJuarez TU TU TU                         tu tu tu    lv\n",
            "49274  @CapitalS19XX tas dziedaataajs no āģīša ? :DDD   tas dziedaataajs no āģīša  ddd    lv\n",
            "56058                                       PUTO CELU                        puto celu    lv\n",
            "---\n",
            "                                                   tweet                                              tweet label\n",
            "36536  ФОТО:Познатиот фудбалер ги поздрави своите фан...  фотопознатиот фудбалер ги поздрави своите фано...    mk\n",
            "---\n",
            "                                       tweet                     tweet label\n",
            "2012  @buyantogtokhl    ерөөсөө хадгаладаггү      ерөөсөө хадгаладаггү    mn\n",
            "---\n",
            "                                                   tweet                                              tweet label\n",
            "53857  राणे वेटिंगवर-मुंबई-महाराष्ट्र-Maharashtra Tim...  राणे वेटिंगवरमुंबईमहाराष्ट्रmaharashtra times ...    mr\n",
            "---\n",
            "                                                  tweet                                              tweet label\n",
            "885                           @ckdyb mis call mai tgok!                                  mis call mai tgok    ms\n",
            "1456                 Selamat berbuka puasa semua sekali                 selamat berbuka puasa semua sekali    ms\n",
            "1659  hidup tak selalu \"indah\" hati perlu \"tabah &am...     hidup tak selalu indah hati perlu tabah  kuat     ms\n",
            "2254  Nilah dia kalau sekolah perempuan, dunia luar,...  nilah dia kalau sekolah perempuan dunia luar l...    ms\n",
            "2759  @_farishadzir ya Allah daklaa. Haih nak tau sg...            ya allah daklaa haih nak tau sgt mai dm    ms\n",
            "---\n",
            "                                                   tweet                                              tweet label\n",
            "24529            @Shikaruketo अफिसम कार्जेक्रम थियो । :)                           अफिसम कार्जेक्रम थियो ।     ne\n",
            "35673        @Sabdachittra हेरेका थियौ कहिले नौटंकी ? :)                         हेरेका थियौ कहिले नौटंकी      ne\n",
            "39869                  @evergreen_atoll तेस्तै देखियो !!                                     तेस्तै देखियो     ne\n",
            "47757  अन्तट पढ्नलाई काठमान्डु छिर्याहरु पढाई सक्केपछ...  अन्तट पढ्नलाई काठमान्डु छिर्याहरु पढाई सक्केपछ...    ne\n",
            "63230   शुन्दरता बिकाउ होला तर टिकाउ हुदैन मेरि प्यारी ।   शुन्दरता बिकाउ होला तर टिकाउ हुदैन मेरि प्यारी ।    ne\n",
            "---\n",
            "                                                  tweet                                              tweet label\n",
            "24    Zeker 154 Nederlanders omgekomen bij vliegramp...  zeker  nederlanders omgekomen bij vliegramp in...    nl\n",
            "824   [Nu.nl] Rusland houdt Oekraïense piloot vast h...       nunl rusland houdt oekraïense piloot vast       nl\n",
            "1000                                  Werk werk werkkkk                                  werk werk werkkkk    nl\n",
            "1013              lekker zonnen en zo pannekoeken eten.               lekker zonnen en zo pannekoeken eten    nl\n",
            "2015  Hierdoor komt het dat jij nog niet finacieel o...  hierdoor komt het dat jij nog niet finacieel o...    nl\n",
            "---\n",
            "                                                   tweet                                              tweet label\n",
            "1927       Neida. Jeg skal jo høre på dæm nye vinylan å.        neida jeg skal jo høre på dæm nye vinylan å    no\n",
            "5710   @OpkvitneEaters Fifas disciplinary code er skr...   fifas disciplinary code er skrevet slik at ma...    no\n",
            "19505  Jeg likte en @YouTube-video fra @torq_society ...  jeg likte en video fra  –  torq k teamtage tra...    no\n",
            "19679  @veronicabremnes \"Finner ikke siden\", for en n...                   finner ikke siden for en nedtur     no\n",
            "21052  Neymar av banen med Norges folkesykdom. Vondt ...  neymar av banen med norges folkesykdom vondt i...    no\n",
            "---\n",
            "                                                  tweet                                              tweet label\n",
            "311   @hazz17black daleko :( milicz,ale mieszkam w g...   daleko  miliczale mieszkam w gorzowie wielkop...    pl\n",
            "991                         @1D_Infection169 dziękuje x                                         dziękuje x    pl\n",
            "1710       świetnie naprawdę, będę się musiała rozebrać        świetnie naprawdę będę się musiała rozebrać    pl\n",
            "2494  Co nieco o najbliższej rywalce Joanny Jędrzejc...  co nieco o najbliższej rywalce joanny jędrzejc...    pl\n",
            "5047             @instxstylez ona jest moją idolką ok 😂                           ona jest moją idolką ok     pl\n",
            "---\n",
            "                                                   tweet                                              tweet label\n",
            "53389  By @KhanBehroz  پښتو ويل پښتو کول پښتو پالل دي...  by   پښتو ويل پښتو کول پښتو پالل دي پکې يو تمد...    ps\n",
            "---\n",
            "                                                   tweet                                              tweet    label\n",
            "14907  Khyber Pakhtunkhwa Hukumat Ka Shumali Wazirist...  khyber pakhtunkhwa hukumat ka shumali wazirist...  ps_LATN\n",
            "---\n",
            "                                                tweet                                              tweet label\n",
            "30  Pela quinta vez seguida, ganha o Golden ball  ...  pela quinta vez seguida ganha o golden ball  q...    pt\n",
            "36  VAMOSS VOTAR NÉ MEUS AMORES?! #MTVHottest Katy...            vamoss votar né meus amores  katy perry    pt\n",
            "59                             2 não ne, com a baba 3                                 não ne com a baba     pt\n",
            "77    gostava de ver o fight club na versão tarantino    gostava de ver o fight club na versão tarantino    pt\n",
            "94                       tpm = tocou pertubou, morreu                         tpm  tocou pertubou morreu    pt\n",
            "---\n",
            "                                                   tweet                                              tweet label\n",
            "4983   #Horizon2020 este cel mai amplu program de cer...   este cel mai amplu program de cercetare al ue...    ro\n",
            "10296  @ElenaRogoz Mda da! Acum o saptamana 0.0 sper ...   mda da acum o saptamana  sper ca macar incerc...    ro\n",
            "15870  -Poză rară pentru voii 󾬑󾬒󾬓󾬔 Dacă se strâng 20 ...  poză rară pentru voii 󾬑󾬒󾬓󾬔 dacă se strâng  lik...    ro\n",
            "23905  Daca va rog eu tare tare tare tare mult sa sim...  daca va rog eu tare tare tare tare mult sa sim...    ro\n",
            "24802                                @_Amandine1 limite?                                             limite    ro\n",
            "---\n",
            "                                                 tweet                                              tweet label\n",
            "91   Румбы фантастики (30 книг) (1988-1994) FB2, Dj...  румбы фантастики  книг  fb djvu название румбы...    ru\n",
            "156  Я нашел Специи в \"Туземцах и Замках\"! на #Andr...  я нашел специи в туземцах и замках на   gamein...    ru\n",
            "187                мамка спать гооонит, абиидна вапщет                 мамка спать гооонит абиидна вапщет    ru\n",
            "247  windows 7 ultimate sp1 32 bit 64 bit golver (2...  windows  ultimate sp  bit  bit golver  скачать...    ru\n",
            "259  Следите за погодой в Бийске-Зональной 22,23,24...        следите за погодой в бийскезональной  июля     ru\n",
            "---\n",
            "                                                   tweet                                              tweet label\n",
            "65513  රුවන් මලිත් පීරිස්- කළණ ගුණසේකර නාට්‍ය නිර්මාණ...  රුවන් මලිත් පීරිස් කළණ ගුණසේකර නාට්‍ය නිර්මාණ ...    si\n",
            "---\n",
            "                                                   tweet                                              tweet label\n",
            "58268  Kam sa „vytratil“ obávaný útočník Richard Zedn...  kam sa „vytratil“ obávaný útočník richard zedník     sk\n",
            "---\n",
            "                                                   tweet                                              tweet label\n",
            "17183  @mastenMMC  Sluzbice so prevec dragocene da bi...    sluzbice so prevec dragocene da bi se cemurk...    sl\n",
            "46989  Škoda, da Jožefa Jerovška ne bo več v parlamen...  škoda da jožefa jerovška ne bo več v parlament...    sl\n",
            "---\n",
            "                                                   tweet                                              tweet label\n",
            "27461  Pas një pauze, shfaqen sërish me deklaratë. E ...  pas një pauze shfaqen sërish me deklaratë e as...    sq\n",
            "30055      Ohojja sot me Arditin nqytet paskna mu kanq ☺       ohojja sot me arditin nqytet paskna mu kanq     sq\n",
            "30096  Opinioni serb vazhdon të ndjehet i habitur me ...  opinioni serb vazhdon të ndjehet i habitur me ...    sq\n",
            "33031  Shum ka me ndryshu kur tshkon ajo , do do ka m...  shum ka me ndryshu kur tshkon ajo  do do ka mu...    sq\n",
            "33780  Pinto vazhdon te prese per nje familje!  \"Mjau...  pinto vazhdon te prese per nje familje  mjau p...    sq\n",
            "---\n",
            "                                                  tweet                                              tweet label\n",
            "1883  ovo samo Adrijana ume,i samo Adrijana to moze,...  ovo samo adrijana umei samo adrijana to mozeta...    sr\n",
            "3600                                     Jebuleeeeee 😨😨                                       jebuleeeeee     sr\n",
            "4095  FOTO: Bebe i njihovi veliki psi http://t.co/ga...            foto bebe i njihovi veliki psi  via me     sr\n",
            "4514                                     Opet kisa, jbg                                      opet kisa jbg    sr\n",
            "4901  neke devojke ti prosto zao da ih brutalno jebe...  neke devojke ti prosto zao da ih brutalno jebe...    sr\n",
            "---\n",
            "                                                   tweet                                              tweet label\n",
            "5114   Ti luhur ka :( “@vanieBOHEL: Kella eTta ngagab...  ti luhur ka  “ kella etta ngagabrug ti harep t...    su\n",
            "7102   eweuh hape uey pi kadieu we langgsung ? make c...  eweuh hape uey pi kadieu we langgsung  make co...    su\n",
            "13560  oke takapalah sok weh asal ada yang mau nemeni...  oke takapalah sok weh asal ada yang mau nemeni...    su\n",
            "13850  Njirrr!! Aslina jhon :D RT@uton_jawara: *Ngaba...  njirrr aslina jhon d rt ngabayangkeun trus nga...    su\n",
            "17258  Indit we sakirana teu boga rasa, tong mancing ...  indit we sakirana teu boga rasa tong mancing k...    su\n",
            "---\n",
            "                                                  tweet                                              tweet label\n",
            "202   Älskar att de finns ställen dit man kan gå och...  älskar att de finns ställen dit man kan gå och...    sv\n",
            "2059  - Vad tror du om MFF:s nyförvärv? - A du, han ...   vad tror du om mffs nyförvärv  a du han blir ...    sv\n",
            "3219                   @heyoelvan euw låter ba euw haha                              euw låter ba euw haha    sv\n",
            "3238                    @USASvans Hur gick övriga lopp?                               hur gick övriga lopp    sv\n",
            "4053  @belzebubba @rzzbzz Jag får köra från scratch....    jag får köra från scratch har lagt dina list...    sv\n",
            "---\n",
            "                                                   tweet                                              tweet label\n",
            "7153   KUELEKEA UCHAGUZI 2015:: VIJANA WAAMUA KUTANGA...  kuelekea uchaguzi  vijana waamua kutangaza nia...    sw\n",
            "11324  Liverpool yamsajili Markovic kwa £20m kuziba p...  liverpool yamsajili markovic kwa £m kuziba pengo     sw\n",
            "18199  @Malloy_Bryan we usifikirie ati nawakutaka...p...                  we usifikirie ati nawakutakapuuuh    sw\n",
            "20638                         @stevengitz nilipoteza cmu                                     nilipoteza cmu    sw\n",
            "21140  Watanzania hawanaga jema sijuw wanataka nini! ...  watanzania hawanaga jema sijuw wanataka nini m...    sw\n",
            "---\n",
            "                                                   tweet                                              tweet label\n",
            "1114   @chithra2020. ஒரு இதயத்தில் குடியிருக்க.  ப ல ...   ஒரு இதயத்தில் குடியிருக்க  ப ல இதயங்களை  அவமா...    ta\n",
            "3782                       @silvakaskas திருடா நான் ரெடி                                   திருடா நான் ரெடி    ta\n",
            "6032   பார்வையற்ற குழந்தைகளை அடித்துத் துன்புறுத்திய ...  பார்வையற்ற குழந்தைகளை அடித்துத் துன்புறுத்திய ...    ta\n",
            "11830  @VidhyaraniV சரி அக்கா முதல் வாழ்த்து நான் தான...   சரி அக்கா முதல் வாழ்த்து நான் தான் happy birt...    ta\n",
            "20267  காதலியை மனைவியுடன் போகும்போது எதிர்கொள்ளும் நே...  காதலியை மனைவியுடன் போகும்போது எதிர்கொள்ளும் நே...    ta\n",
            "---\n",
            "                                                   tweet                              tweet    label\n",
            "12417                           @bunbaby1 Vanakkam fakeu                     vanakkam fakeu  ta_LATN\n",
            "16175  @Monish_P hy enaku evanga kitta pesanum 😈  @Im...   hy enaku evanga kitta pesanum     ta_LATN\n",
            "---\n",
            "                                                 tweet                                              tweet label\n",
            "19   @keangkraiseven @_Doce12Q เอ่อ ยากทั้งหมดแหละ ...    เอ่อ ยากทั้งหมดแหละ คือแบบ สูตรก็เยอะ ถถถถถถ...    th\n",
            "48                                อรึ๋ยยย #PopAsiaGOT7                                           อรึ๋ยยย     th\n",
            "155         ขำจนนมอัดเม็ดเกืิอบติดคอ #ดันนอนกิน #สมควร           ขำจนนมอัดเม็ดเกืิอบติดคอ ดันนอนกิน สมควร    th\n",
            "198  กรี๊ด วินิลกล้าพิมพ์มากอ่าว่าตื่นแต่เช้า งานเค...  กรี๊ด วินิลกล้าพิมพ์มากอ่าว่าตื่นแต่เช้า งานเค...    th\n",
            "301                                   แขน #PopAsiaGOT7                                               แขน     th\n",
            "---\n",
            "                                                  tweet                                           tweet label\n",
            "29         Mamansin rka kung naay kailangan!! User heee      mamansin rka kung naay kailangan user heee    tl\n",
            "153   Hoy ututin! Umutot ka nanaman! -papa😂😂😂 sorry ...  hoy ututin umutot ka nanaman papa sorry popsky    tl\n",
            "848                           @coldshots12 ayan tayo eh                                    ayan tayo eh    tl\n",
            "882                                     Kakain na ako 😂                                  kakain na ako     tl\n",
            "1060                              Mood swing na naman!!                             mood swing na naman    tl\n",
            "---\n",
            "                                             tweet                              tweet label\n",
            "64867  @ItzPhumEe wa bona Phumi wa tlhaloganya lol   wa bona phumi wa tlhaloganya lol    tn\n",
            "---\n",
            "                                                 tweet                                              tweet label\n",
            "53   CANPARK RAMAZAN ETKİNLİKLERİ - by AC Organizat...  canpark ramazan etki̇nli̇kleri̇  by ac organiz...    tr\n",
            "140  Minyatür bir metal enjeksiyon presi http://t.c...               minyatür bir metal enjeksiyon presi     tr\n",
            "142  @egelitr1919: @0zgEce  &gt;&gt; YolsuzluğunHır...          yolsuzluğunhırsızlığınlideri rterdoğan       tr\n",
            "144    ÖYLE ŞARKILAR VAR Kİ, SON SES AÇSAN AZ GELİYOR.    öyle şarkilar var ki̇ son ses açsan az geli̇yor    tr\n",
            "186  Kalktik tatile Antalyaya geldik maç izlicez di...  kalktik tatile antalyaya geldik maç izlicez di...    tr\n",
            "---\n",
            "                                                  tweet                                              tweet label\n",
            "766   Близько 15:00 з Донецького залізничного вокзал...  близько  з донецького залізничного вокзалу ева...    uk\n",
            "1907         @itsector ще мама не сказала своє слово:-)                      ще мама не сказала своє слово    uk\n",
            "2183  УПЦ (МП) має очолити людина, яка любить Україн...  упц мп має очолити людина яка любить україну –...    uk\n",
            "3317  Вконтате не працює, як же тепер на жити? )) #А...  вконтате не працює як же тепер на жити  ато ук...    uk\n",
            "3962  Про жрецов 2012 HD [UNCENSORED]: http://t.co/G...           про жрецов  hd uncensored  за допомогою     uk\n",
            "---\n",
            "                                                tweet                              tweet label\n",
            "12       hgfhgfhgfhgfhggfhg  #MTVHOTTEST Taylor Swift  hgfhgfhgfhgfhggfhg   taylor swift   und\n",
            "17                                  Padahal wes onlen                  padahal wes onlen   und\n",
            "20  #SaldyAndFamzMengucapkanMaafLahirBatin @KataSa...         initial ofsomeonespecials    und\n",
            "34         @Kayleighstew2 #healthkick #summerbod #gtf                                      und\n",
            "69  #NiallAppreciationDay 💓💕 @NiallOfficial http:/...                                      und\n",
            "---\n",
            "                                                   tweet                                              tweet label\n",
            "9913   دبنگ خان خود کو قابو میں نہ رکھ سکے اور کہہ ڈا...  دبنگ خان خود کو قابو میں نہ رکھ سکے اور کہہ ڈا...    ur\n",
            "11049   کراچی: آج سمندر میں ڈوب کر جاں بحق افراد کی ت...   کراچی آج سمندر میں ڈوب کر جاں بحق افراد کی تع...    ur\n",
            "17869  سندھ نےوفاق کی جانب سےبھیجےگئےآئی جی سندھ کیل...  سندھ نےوفاق کی جانب سےبھیجےگئےآئی جی سندھ کیل...    ur\n",
            "18867  جماعت احمدیہ کے بارے حقائق اور پاکستان کی موجو...  جماعت احمدیہ کے بارے حقائق اور پاکستان کی موجو...    ur\n",
            "20563  @pmlnterritory @biyaali57 @PlainJane000 نصیبو ...     نصیبو لیگ پرائیویٹ لمیٹڈ کے نۓ ڈائریکٹرز وی...    ur\n",
            "---\n",
            "                                                   tweet                                              tweet    label\n",
            "905    Now taking bath .. Iss #Ramadan may bhe itna j...  now taking bath  iss  may bhe itna jaldi uthna...  ur_LATN\n",
            "5547     @Shaitaaan_Bachi dekho isne mujhse baat ki.  😂😂                        dekho isne mujhse baat ki    ur_LATN\n",
            "18744  Dawar-e-Hasaar Ne Ehy Keh Ky Mujhy Bakash Dia ...  dawarehasaar ne ehy keh ky mujhy bakash dia kh...  ur_LATN\n",
            "23523  Sadqa-e-Fitr Gurba-O-Masakeen Ka Haq Hai ….. »...  sadqaefitr gurbaomasakeen ka haq hai … » hadee...  ur_LATN\n",
            "25267  jcd: Jacobabad Hukumat Ke Janib Se CNG Ke Band...  jcd jacobabad hukumat ke janib se cng ke bandi...  ur_LATN\n",
            "---\n",
            "                                                   tweet                                              tweet label\n",
            "584    - Để giữ được lòng tin của người khác thỳ khôn...   để giữ được lòng tin của người khác thỳ không...    vi\n",
            "1778   Tôi đã thích video http://t.co/qc1Y8BNYP9 ♥♥Pa...  tôi đã thích video  paw patrol  pups get a rub...    vi\n",
            "6462   de dang hon cac mau dam cong so moi nhat cua n...  de dang hon cac mau dam cong so moi nhat cua nam     vi\n",
            "10124  Khi một người quyết định IM LẶNG...  . Không p...  khi một người quyết định im lặng   không phải ...    vi\n",
            "15251  @6002theMoonie bac bao e co tuong lai lau dai ...   bac bao e co tuong lai lau dai trong nganh di...    vi\n",
            "---\n",
            "                                                   tweet                                              tweet label\n",
            "51639  @QueenieSly mdr c k dagnoukoy gagnnnn rekk mot...   mdr c k dagnoukoy gagnnnn rekk motakh khana  ...    wo\n",
            "---\n",
            "                                                   tweet                                              tweet label\n",
            "25033  @SJLRadio1 @Umhlobo_Wenene @Maxhoseni @NonalaT...      n ndimpha zonke  ifani ingoma ezimnandi na...    xh\n",
            "63072  @Slyso Ucima wam Lizwe laka Sirayeli elime ngo...   ucima wam lizwe laka sirayeli elime ngohlasel...    xh\n",
            "---\n",
            "                                                   tweet                                              tweet label\n",
            "28978  “@joSupreme__: “@914ESO: “@joSupreme__: @914ES...  “ “ “  eti sen” bawoni ” mo wa se e wa ok” yea...    yo\n",
            "---\n",
            "                                                   tweet                                        tweet  label\n",
            "1774   热点文章：《《京城81号》吴镇宇特辑—在线播放—优酷网，视频高清在线观看》 http://t...  热点文章：《《京城号》吴镇宇特辑—在线播放—优酷网，视频高清在线观看》  原站链接：   zh-CN\n",
            "6477             马航MH17空难削弱了普京的筹码 http://t.co/EVAefZcVr4                              马航mh空难削弱了普京的筹码   zh-CN\n",
            "8739   我已收获 2,211 食物！http://t.co/Fo8dtabIw7 #android,...                                 我已收获  食物！     zh-CN\n",
            "12565                                     @immei0125 空调呢                                          空调呢  zh-CN\n",
            "14403  我已收获 817 食物！http://t.co/JghsHr4QV4 #iphone, #i...                                 我已收获  食物！     zh-CN\n",
            "---\n",
            "                                                   tweet                                              tweet  label\n",
            "489                        一分鐘世界盃！http://t.co/yEvaMrp7ki                                            一分鐘世界盃！  zh-TW\n",
            "6705   『 』 免費的女性向戀愛遊戲★想和哥哥假結婚看看嗎？　https://t.co/YOUkKU...                      『 』 免費的女性向戀愛遊戲★想和哥哥假結婚看看嗎？　 ⇒  zh-TW\n",
            "11784             #204.7.25 花蓮區漁會 http://t.co/yOukLkXwCr                                             花蓮區漁會   zh-TW\n",
            "17530  {CWB} 桃園縣 一週天氣預報(07/27 05:00發布): 07/27 白天 溫度:2...  cwb 桃園縣 一週天氣預報 發布  白天 溫度   晴午後短暫雷陣雨  晚上 溫度   晴...  zh-TW\n",
            "24468  - 賀文p14 台灣訪問你地 其他成員話你係全隊最天不怕地不怕果陣 我林： 如果你去拍叢法 ...   賀文p 台灣訪問你地 其他成員話你係全隊最天不怕地不怕果陣 我林： 如果你去拍叢法 會唔會...  zh-TW\n",
            "---\n",
            "                                   tweet            tweet label\n",
            "28577  @Official_SABC1 Moloooo nakuwe!!!   moloooo nakuwe    zu\n",
            "---\n"
          ]
        }
      ]
    },
    {
      "cell_type": "code",
      "metadata": {
        "id": "ht7tAk-r5Re8"
      },
      "source": [
        "cleaned_dataset = clean_data(dataset, TWEET_COLUMN)"
      ],
      "execution_count": 26,
      "outputs": []
    },
    {
      "cell_type": "code",
      "metadata": {
        "colab": {
          "base_uri": "https://localhost:8080/"
        },
        "id": "wHvLCaLVJAoo",
        "outputId": "1c8846ec-ee0f-44f3-aa3f-115644fcb014"
      },
      "source": [
        "# Check that the dataset does not contain null values\n",
        "cleaned_dataset.isnull().values.any() "
      ],
      "execution_count": 27,
      "outputs": [
        {
          "output_type": "execute_result",
          "data": {
            "text/plain": [
              "False"
            ]
          },
          "metadata": {},
          "execution_count": 27
        }
      ]
    },
    {
      "cell_type": "markdown",
      "metadata": {
        "id": "go29EMqShzcu"
      },
      "source": [
        "## 5.Data Augmentation\n",
        "We consider languages which have less then 20 sample tweets in the dataset as infrequent. You can either remove these infrequent languages or use augmentation or upsampling techniques to increase the language frequency.\n",
        "We decided to use back translation in order to keep infrequent languages but increase their frequency.\n"
      ]
    },
    {
      "cell_type": "code",
      "metadata": {
        "id": "a8qkq-4MKosP"
      },
      "source": [
        "def back_translation(df,target_languages=['en']):\n",
        "  translated_data = pd.DataFrame(columns={TWEET_COLUMN, TARGET_COLUMN})\n",
        "  for target_language in target_languages:\n",
        "    for index, row in df.iterrows():\n",
        "      try:\n",
        "        tweet = row[TWEET_COLUMN]\n",
        "        source_language = row[TARGET_COLUMN]\n",
        "        translated_data=translated_data.append({'tweet': translator.translate(translator.translate(tweet, dest=target_language).text, dest=source_language).text, 'label': source_language}, ignore_index=True)\n",
        "      except Exception as e:\n",
        "        print(e)\n",
        "        pass\n",
        "  return translated_data"
      ],
      "execution_count": 28,
      "outputs": []
    },
    {
      "cell_type": "code",
      "metadata": {
        "colab": {
          "base_uri": "https://localhost:8080/"
        },
        "id": "3iev8EdrRQG2",
        "outputId": "f5af1d02-6945-498e-bf4b-d6a6fdae2066"
      },
      "source": [
        "print_number_of_underrepresented_languages(cleaned_dataset, TARGET_COLUMN, SAMPLE_THRESHOLD)"
      ],
      "execution_count": 29,
      "outputs": [
        {
          "output_type": "stream",
          "name": "stdout",
          "text": [
            "There are 50 languages in this data set with less then 20 samples.\n"
          ]
        }
      ]
    },
    {
      "cell_type": "code",
      "metadata": {
        "colab": {
          "base_uri": "https://localhost:8080/"
        },
        "id": "iPZhejNxdCFn",
        "outputId": "8df32093-3677-4d91-c73c-ee0f90723c57"
      },
      "source": [
        "underrepresented_languages = get_underrepresented_languages(cleaned_dataset, TARGET_COLUMN, SAMPLE_THRESHOLD)\n",
        "print(underrepresented_languages)"
      ],
      "execution_count": 30,
      "outputs": [
        {
          "output_type": "stream",
          "name": "stdout",
          "text": [
            "['ar_LATN', 'az', 'bg', 'bn', 'bs', 'cs', 'cy', 'da', 'dv', 'et', 'eu', 'gl', 'ha', 'hi-Latn', 'hr', 'ht', 'hu', 'hy', 'is', 'ja_LATN', 'jv', 'km', 'ko_LATN', 'la', 'lv', 'mk', 'mn', 'mr', 'ne', 'no', 'ps', 'ps_LATN', 'ro', 'si', 'sk', 'sl', 'sq', 'su', 'sw', 'ta', 'ta_LATN', 'tn', 'uk', 'ur', 'ur_LATN', 'wo', 'xh', 'yo', 'zh-TW', 'zu']\n"
          ]
        }
      ]
    },
    {
      "cell_type": "code",
      "metadata": {
        "colab": {
          "base_uri": "https://localhost:8080/"
        },
        "id": "amnYMOOJ1xRA",
        "outputId": "f262d503-5fa7-4b22-b85b-f45b50f167f9"
      },
      "source": [
        "# Increasing the number of rare languages by backtranslation\n",
        "upsampled_dataset = cleaned_dataset.copy()\n",
        "\n",
        "for l in underrepresented_languages:\n",
        "  underrepresented_language = upsampled_dataset[upsampled_dataset[TARGET_COLUMN]==l]\n",
        "  upsampled_dataset.drop(upsampled_dataset[upsampled_dataset[TARGET_COLUMN]==l].index, inplace = True, axis=0)\n",
        "  len_first = len(underrepresented_language)\n",
        "\n",
        "  if not l.endswith('latn'): # Only run the upsamling for non latn languages\n",
        "    underrepresented_language = pd.concat([underrepresented_language, back_translation(underrepresented_language)], axis=0) # run back translation\n",
        "  \n",
        "  len_second = len(underrepresented_language)\n",
        "  if(len_second < SAMPLE_THRESHOLD):\n",
        "    underrepresented_language = resample(underrepresented_language, n_samples=SAMPLE_THRESHOLD)\n",
        "  len_third = len(underrepresented_language)\n",
        "  \n",
        "  print(\"({0}): #{1}=>back_translation=>#{2}=>resampling=>#{3}\".format(l, len_first, len_second, len_third))\n",
        "  upsampled_dataset = pd.concat([upsampled_dataset, underrepresented_language], axis=0)"
      ],
      "execution_count": 31,
      "outputs": [
        {
          "output_type": "stream",
          "name": "stdout",
          "text": [
            "(ar_LATN): #15=>back_translation=>#30=>resampling=>#30\n",
            "(az): #3=>back_translation=>#6=>resampling=>#20\n",
            "(bg): #4=>back_translation=>#8=>resampling=>#20\n",
            "(bn): #8=>back_translation=>#16=>resampling=>#20\n",
            "(bs): #5=>back_translation=>#10=>resampling=>#20\n",
            "(cs): #5=>back_translation=>#10=>resampling=>#20\n",
            "(cy): #1=>back_translation=>#2=>resampling=>#20\n",
            "(da): #8=>back_translation=>#16=>resampling=>#20\n",
            "invalid destination language\n",
            "(dv): #1=>back_translation=>#1=>resampling=>#20\n",
            "(et): #2=>back_translation=>#4=>resampling=>#20\n",
            "(eu): #2=>back_translation=>#4=>resampling=>#20\n",
            "(gl): #3=>back_translation=>#6=>resampling=>#20\n",
            "(ha): #1=>back_translation=>#2=>resampling=>#20\n",
            "invalid destination language\n",
            "invalid destination language\n",
            "invalid destination language\n",
            "invalid destination language\n",
            "invalid destination language\n",
            "invalid destination language\n",
            "invalid destination language\n",
            "invalid destination language\n",
            "invalid destination language\n",
            "invalid destination language\n",
            "invalid destination language\n",
            "invalid destination language\n",
            "invalid destination language\n",
            "invalid destination language\n",
            "invalid destination language\n",
            "invalid destination language\n",
            "invalid destination language\n",
            "invalid destination language\n",
            "invalid destination language\n",
            "(hi-Latn): #19=>back_translation=>#19=>resampling=>#20\n",
            "(hr): #6=>back_translation=>#12=>resampling=>#20\n",
            "(ht): #3=>back_translation=>#6=>resampling=>#20\n",
            "(hu): #15=>back_translation=>#30=>resampling=>#30\n",
            "(hy): #2=>back_translation=>#4=>resampling=>#20\n",
            "(is): #1=>back_translation=>#2=>resampling=>#20\n",
            "(ja_LATN): #2=>back_translation=>#4=>resampling=>#20\n",
            "invalid destination language\n",
            "invalid destination language\n",
            "invalid destination language\n",
            "invalid destination language\n",
            "invalid destination language\n",
            "invalid destination language\n",
            "invalid destination language\n",
            "invalid destination language\n",
            "invalid destination language\n",
            "invalid destination language\n",
            "invalid destination language\n",
            "(jv): #11=>back_translation=>#11=>resampling=>#20\n",
            "(km): #3=>back_translation=>#6=>resampling=>#20\n",
            "(ko_LATN): #2=>back_translation=>#4=>resampling=>#20\n",
            "(la): #1=>back_translation=>#2=>resampling=>#20\n",
            "(lv): #5=>back_translation=>#10=>resampling=>#20\n",
            "(mk): #1=>back_translation=>#2=>resampling=>#20\n",
            "(mn): #1=>back_translation=>#2=>resampling=>#20\n",
            "(mr): #1=>back_translation=>#2=>resampling=>#20\n",
            "(ne): #5=>back_translation=>#10=>resampling=>#20\n",
            "(no): #12=>back_translation=>#24=>resampling=>#24\n",
            "(ps): #1=>back_translation=>#2=>resampling=>#20\n",
            "(ps_LATN): #1=>back_translation=>#2=>resampling=>#20\n",
            "(ro): #14=>back_translation=>#28=>resampling=>#28\n",
            "(si): #1=>back_translation=>#2=>resampling=>#20\n",
            "(sk): #1=>back_translation=>#2=>resampling=>#20\n",
            "(sl): #2=>back_translation=>#4=>resampling=>#20\n",
            "(sq): #9=>back_translation=>#18=>resampling=>#20\n",
            "(su): #10=>back_translation=>#20=>resampling=>#20\n",
            "(sw): #8=>back_translation=>#16=>resampling=>#20\n",
            "(ta): #12=>back_translation=>#24=>resampling=>#24\n",
            "(ta_LATN): #2=>back_translation=>#4=>resampling=>#20\n",
            "invalid destination language\n",
            "(tn): #1=>back_translation=>#1=>resampling=>#20\n",
            "(uk): #18=>back_translation=>#36=>resampling=>#36\n",
            "(ur): #12=>back_translation=>#24=>resampling=>#24\n",
            "(ur_LATN): #13=>back_translation=>#26=>resampling=>#26\n",
            "invalid destination language\n",
            "(wo): #1=>back_translation=>#1=>resampling=>#20\n",
            "(xh): #2=>back_translation=>#4=>resampling=>#20\n",
            "(yo): #1=>back_translation=>#2=>resampling=>#20\n",
            "(zh-TW): #14=>back_translation=>#28=>resampling=>#28\n",
            "(zu): #1=>back_translation=>#2=>resampling=>#20\n"
          ]
        }
      ]
    },
    {
      "cell_type": "code",
      "metadata": {
        "colab": {
          "base_uri": "https://localhost:8080/",
          "height": 408
        },
        "id": "mM5NKgHNjdKp",
        "outputId": "fb1ed344-62fa-4772-9636-85d83d88f0d9"
      },
      "source": [
        "upsampled_dataset.reset_index(drop=True)"
      ],
      "execution_count": 32,
      "outputs": [
        {
          "output_type": "execute_result",
          "data": {
            "text/html": [
              "<div>\n",
              "<style scoped>\n",
              "    .dataframe tbody tr th:only-of-type {\n",
              "        vertical-align: middle;\n",
              "    }\n",
              "\n",
              "    .dataframe tbody tr th {\n",
              "        vertical-align: top;\n",
              "    }\n",
              "\n",
              "    .dataframe thead th {\n",
              "        text-align: right;\n",
              "    }\n",
              "</style>\n",
              "<table border=\"1\" class=\"dataframe\">\n",
              "  <thead>\n",
              "    <tr style=\"text-align: right;\">\n",
              "      <th></th>\n",
              "      <th>tweet</th>\n",
              "      <th>label</th>\n",
              "    </tr>\n",
              "  </thead>\n",
              "  <tbody>\n",
              "    <tr>\n",
              "      <th>0</th>\n",
              "      <td>دعاء السجودسبحان ذي الجبروت والملكوت والكبرياء...</td>\n",
              "      <td>ar</td>\n",
              "    </tr>\n",
              "    <tr>\n",
              "      <th>1</th>\n",
              "      <td>berbuka dengan bersederhana saja jangan memba...</td>\n",
              "      <td>id</td>\n",
              "    </tr>\n",
              "    <tr>\n",
              "      <th>2</th>\n",
              "      <td>free offer learn the french alphabet for todd...</td>\n",
              "      <td>en</td>\n",
              "    </tr>\n",
              "    <tr>\n",
              "      <th>3</th>\n",
              "      <td>good morning to all of you lessintelligentthan...</td>\n",
              "      <td>en</td>\n",
              "    </tr>\n",
              "    <tr>\n",
              "      <th>4</th>\n",
              "      <td>let the family of the victims have them to do ...</td>\n",
              "      <td>en</td>\n",
              "    </tr>\n",
              "    <tr>\n",
              "      <th>...</th>\n",
              "      <td>...</td>\n",
              "      <td>...</td>\n",
              "    </tr>\n",
              "    <tr>\n",
              "      <th>66747</th>\n",
              "      <td>Molooooo nawe</td>\n",
              "      <td>zu</td>\n",
              "    </tr>\n",
              "    <tr>\n",
              "      <th>66748</th>\n",
              "      <td>Molooooo nawe</td>\n",
              "      <td>zu</td>\n",
              "    </tr>\n",
              "    <tr>\n",
              "      <th>66749</th>\n",
              "      <td>Molooooo nawe</td>\n",
              "      <td>zu</td>\n",
              "    </tr>\n",
              "    <tr>\n",
              "      <th>66750</th>\n",
              "      <td>Molooooo nawe</td>\n",
              "      <td>zu</td>\n",
              "    </tr>\n",
              "    <tr>\n",
              "      <th>66751</th>\n",
              "      <td>moloooo nakuwe</td>\n",
              "      <td>zu</td>\n",
              "    </tr>\n",
              "  </tbody>\n",
              "</table>\n",
              "<p>66752 rows × 2 columns</p>\n",
              "</div>"
            ],
            "text/plain": [
              "                                                   tweet label\n",
              "0      دعاء السجودسبحان ذي الجبروت والملكوت والكبرياء...    ar\n",
              "1       berbuka dengan bersederhana saja jangan memba...    id\n",
              "2       free offer learn the french alphabet for todd...    en\n",
              "3      good morning to all of you lessintelligentthan...    en\n",
              "4      let the family of the victims have them to do ...    en\n",
              "...                                                  ...   ...\n",
              "66747                                      Molooooo nawe    zu\n",
              "66748                                      Molooooo nawe    zu\n",
              "66749                                      Molooooo nawe    zu\n",
              "66750                                      Molooooo nawe    zu\n",
              "66751                                     moloooo nakuwe    zu\n",
              "\n",
              "[66752 rows x 2 columns]"
            ]
          },
          "metadata": {},
          "execution_count": 32
        }
      ]
    },
    {
      "cell_type": "code",
      "metadata": {
        "id": "jR2fpoJ3iyN3"
      },
      "source": [
        "upsampled_dataset.to_pickle('./dataset.pkl') # Save dataset as compact pkl file\n",
        "upsampled_dataset.to_csv('./dataset.csv', header=True, index=False) # Save dataset as easily accessible csv file"
      ],
      "execution_count": 33,
      "outputs": []
    },
    {
      "cell_type": "code",
      "metadata": {
        "colab": {
          "base_uri": "https://localhost:8080/"
        },
        "id": "cPZANQdPhavy",
        "outputId": "c5d6150a-6a22-4fe5-ebe4-cd20a0cb5c0e"
      },
      "source": [
        "# Check that no underrepresented languages exists anymore in the dataset\n",
        "# The list of underrepresented languages needs to be empty now\n",
        "get_underrepresented_languages(upsampled_dataset, TARGET_COLUMN, SAMPLE_THRESHOLD)"
      ],
      "execution_count": 34,
      "outputs": [
        {
          "output_type": "execute_result",
          "data": {
            "text/plain": [
              "[]"
            ]
          },
          "metadata": {},
          "execution_count": 34
        }
      ]
    },
    {
      "cell_type": "code",
      "metadata": {
        "colab": {
          "base_uri": "https://localhost:8080/"
        },
        "id": "qaFPH8EA2CdR",
        "outputId": "83888dc1-2ffb-4bf1-8b70-aba03421122e"
      },
      "source": [
        "print_number_of_underrepresented_languages(upsampled_dataset, TARGET_COLUMN, SAMPLE_THRESHOLD)"
      ],
      "execution_count": 35,
      "outputs": [
        {
          "output_type": "stream",
          "name": "stdout",
          "text": [
            "There are 0 languages in this data set with less then 20 samples.\n"
          ]
        }
      ]
    },
    {
      "cell_type": "code",
      "metadata": {
        "colab": {
          "base_uri": "https://localhost:8080/"
        },
        "id": "yvvbKuzu-3XL",
        "outputId": "811b39c3-3285-4235-e5de-a259f8225f9b"
      },
      "source": [
        "print(\"The length of the upsampled dataset is {}.\".format(len(upsampled_dataset)))"
      ],
      "execution_count": 36,
      "outputs": [
        {
          "output_type": "stream",
          "name": "stdout",
          "text": [
            "The length of the upsampled dataset is 66752.\n"
          ]
        }
      ]
    },
    {
      "cell_type": "markdown",
      "metadata": {
        "id": "9_DuSLlykP5C"
      },
      "source": [
        "## 6. Tokenize Data"
      ]
    },
    {
      "cell_type": "code",
      "metadata": {
        "id": "DvupSY9xuqk1"
      },
      "source": [
        "tokenizer = Tokenizer(num_words=None, char_level=True, oov_token='OOV')\n",
        "tokenizer.fit_on_texts(dataset[TWEET_COLUMN].tolist())"
      ],
      "execution_count": 37,
      "outputs": []
    },
    {
      "cell_type": "code",
      "metadata": {
        "id": "rxD49XlKdmk7"
      },
      "source": [
        "vectorized_data = tokenizer.texts_to_sequences(dataset[TWEET_COLUMN])"
      ],
      "execution_count": 38,
      "outputs": []
    },
    {
      "cell_type": "code",
      "metadata": {
        "id": "D42yNvV2_3Km"
      },
      "source": [
        "padding_length=80\n",
        "padded_data = pad_sequences(vectorized_data, maxlen=padding_length, padding='post')"
      ],
      "execution_count": 39,
      "outputs": []
    },
    {
      "cell_type": "code",
      "metadata": {
        "id": "ytEx89DSuqzg"
      },
      "source": [
        "label2index = {label:index for index, label in enumerate(dataset[TARGET_COLUMN].unique())}\n",
        "dataset['language_index'] = dataset[TARGET_COLUMN].apply(lambda x: label2index[x])\n",
        "y_indices = dataset['language_index'].values\n",
        "y_indices = [x for x in y_indices]"
      ],
      "execution_count": 40,
      "outputs": []
    },
    {
      "cell_type": "code",
      "metadata": {
        "id": "F5bw3tgIuqui"
      },
      "source": [
        "y_categorical = to_categorical(y_indices)"
      ],
      "execution_count": 41,
      "outputs": []
    },
    {
      "cell_type": "code",
      "metadata": {
        "id": "q0nycAi1gUoC"
      },
      "source": [
        "X_train, X_test, y_train, y_test = train_test_split(padded_data, y_categorical, test_size=0.2)\n",
        "X_train, X_val, y_train, y_val = train_test_split(X_train, y_train, test_size=0.1)"
      ],
      "execution_count": 42,
      "outputs": []
    },
    {
      "cell_type": "code",
      "metadata": {
        "id": "E3WWQU4GEPHe"
      },
      "source": [
        "vocab_size = len(tokenizer.word_index)\n",
        "embedding_dim = 50"
      ],
      "execution_count": 43,
      "outputs": []
    },
    {
      "cell_type": "markdown",
      "metadata": {
        "id": "kskcOnLzZ7xr"
      },
      "source": [
        "## 7. Modelling"
      ]
    },
    {
      "cell_type": "code",
      "metadata": {
        "id": "MDDTbSRd65pC"
      },
      "source": [
        "def plot_history(history):\n",
        "  plt.figure(figsize=(12,6))\n",
        "  plt.subplot(1, 2, 1)\n",
        "  plt.title(\"Accuracy\")\n",
        "  plt.plot(history.history['accuracy'], color=\"b\", label=\"accuracy\")\n",
        "  plt.plot(history.history['val_accuracy'], color=\"r\", label=\"val_accuracy\")\n",
        "  plt.xlabel(\"Number of Epochs\")\n",
        "  plt.ylabel(\"Accuracy\")\n",
        "  plt.legend(loc=\"lower left\")\n",
        "  #plt.ylim([0,1])\n",
        "  #plt.title(\"Comparison of accuracy and validation accuracy\")\n",
        "  plt.subplot(1, 2, 2)\n",
        "  plt.title(\"Loss\")\n",
        "  plt.plot(history.history['loss'], color=\"b\", label=\"loss\")\n",
        "  plt.plot(history.history['val_loss'],  color=\"r\", label=\"val_loss\")\n",
        "  plt.xlabel(\"Number of Epochs\")\n",
        "  plt.ylabel(\"Loss\")\n",
        "  plt.legend(loc=\"upper right\")\n",
        "  #plt.ylim([0,1])\n",
        "  plt.show"
      ],
      "execution_count": 102,
      "outputs": []
    },
    {
      "cell_type": "code",
      "metadata": {
        "id": "zyAdumBk1iQD"
      },
      "source": [
        "def train_model(X_train, y_train, X_val, y_val, params):\n",
        "  es = EarlyStopping(monitor='val_loss', mode='auto', verbose=params['verbose'], patience=params[\"patience\"])\n",
        "\n",
        "  # define model\n",
        "  model = Sequential()\n",
        "  model.add(Embedding(input_dim=vocab_size+1, output_dim=embedding_dim, input_length=padding_length))\n",
        "  model.add(Dropout(params['dropout']))\n",
        "  model.add(Conv1D(filters=params['filters'], kernel_size=params['kernel_size'], strides=params['strides'], padding='valid', activation='relu'))\n",
        "  model.add(params['pooling'])\n",
        "  model.add(Dense(params['hidden_dims']))\n",
        "  model.add(Dropout(params['dropout']))\n",
        "  model.add(Activation('relu'))\n",
        "  #model.add(Dense(len(label2index)))\n",
        "  model.add(Dense(len(label2index)))\n",
        "  model.add(Activation('softmax'))\n",
        "  model.compile(optimizer=params['optimizer'], loss=\"categorical_crossentropy\", metrics=['accuracy'])\n",
        "  K.set_value(model.optimizer.learning_rate, params['learning_rate'])\n",
        "\n",
        "  history = model.fit(X_train, y_train, validation_data=(X_val, y_val), batch_size=params['batch_size'], epochs=params[\"epochs\"], verbose=params[\"verbose\"],  callbacks = [es]) \n",
        "\n",
        "  return history, model"
      ],
      "execution_count": 48,
      "outputs": []
    },
    {
      "cell_type": "markdown",
      "metadata": {
        "id": "lmHSFNntZ7xv"
      },
      "source": [
        "### Model 01"
      ]
    },
    {
      "cell_type": "code",
      "metadata": {
        "id": "jT_jMJ80JfdV"
      },
      "source": [
        "params_1 = {\n",
        "    'dropout': 0.5,\n",
        "    'filters': 128,\n",
        "    'kernel_size': 3,\n",
        "    'strides': 1,\n",
        "    'pooling': GlobalMaxPooling1D(),  # MaxPool1D(), AveragePooling1D(), \n",
        "    'hidden_dims': 128,\n",
        "    'learning_rate': 0.01,\n",
        "    'batch_size': 100,\n",
        "    'optimizer': 'adam',\n",
        "    'epochs': 100,\n",
        "    'verbose': 1,\n",
        "    'patience': 20\n",
        "}"
      ],
      "execution_count": 91,
      "outputs": []
    },
    {
      "cell_type": "code",
      "metadata": {
        "id": "qonIEqIv1gvg",
        "colab": {
          "base_uri": "https://localhost:8080/"
        },
        "outputId": "07f2c899-e3e1-47d5-fcf8-476ccd58702a"
      },
      "source": [
        "history_1, model_1 = train_model(X_train, y_train, X_val, y_val, params_1)"
      ],
      "execution_count": 52,
      "outputs": [
        {
          "output_type": "stream",
          "name": "stdout",
          "text": [
            "Epoch 1/100\n",
            "475/475 [==============================] - 2s 4ms/step - loss: 0.9717 - accuracy: 0.7325 - val_loss: 0.6328 - val_accuracy: 0.8300\n",
            "Epoch 2/100\n",
            "475/475 [==============================] - 2s 4ms/step - loss: 0.7089 - accuracy: 0.8090 - val_loss: 0.6153 - val_accuracy: 0.8478\n",
            "Epoch 3/100\n",
            "475/475 [==============================] - 2s 4ms/step - loss: 0.6591 - accuracy: 0.8228 - val_loss: 0.5850 - val_accuracy: 0.8628\n",
            "Epoch 4/100\n",
            "475/475 [==============================] - 2s 4ms/step - loss: 0.6569 - accuracy: 0.8241 - val_loss: 0.5724 - val_accuracy: 0.8611\n",
            "Epoch 5/100\n",
            "475/475 [==============================] - 2s 4ms/step - loss: 0.6604 - accuracy: 0.8226 - val_loss: 0.5818 - val_accuracy: 0.8594\n",
            "Epoch 6/100\n",
            "475/475 [==============================] - 2s 4ms/step - loss: 0.6326 - accuracy: 0.8290 - val_loss: 0.6148 - val_accuracy: 0.8655\n",
            "Epoch 7/100\n",
            "475/475 [==============================] - 2s 4ms/step - loss: 0.6211 - accuracy: 0.8313 - val_loss: 0.6099 - val_accuracy: 0.8552\n",
            "Epoch 8/100\n",
            "475/475 [==============================] - 2s 4ms/step - loss: 0.6222 - accuracy: 0.8321 - val_loss: 0.5840 - val_accuracy: 0.8655\n",
            "Epoch 9/100\n",
            "475/475 [==============================] - 2s 4ms/step - loss: 0.6182 - accuracy: 0.8330 - val_loss: 0.6032 - val_accuracy: 0.8626\n",
            "Epoch 10/100\n",
            "475/475 [==============================] - 2s 4ms/step - loss: 0.6162 - accuracy: 0.8335 - val_loss: 0.5886 - val_accuracy: 0.8613\n",
            "Epoch 11/100\n",
            "475/475 [==============================] - 2s 4ms/step - loss: 0.6100 - accuracy: 0.8357 - val_loss: 0.6191 - val_accuracy: 0.8596\n",
            "Epoch 12/100\n",
            "475/475 [==============================] - 2s 4ms/step - loss: 0.6261 - accuracy: 0.8326 - val_loss: 0.6205 - val_accuracy: 0.8601\n",
            "Epoch 13/100\n",
            "475/475 [==============================] - 2s 4ms/step - loss: 0.6108 - accuracy: 0.8345 - val_loss: 0.6415 - val_accuracy: 0.8696\n",
            "Epoch 14/100\n",
            "475/475 [==============================] - 2s 4ms/step - loss: 0.5980 - accuracy: 0.8374 - val_loss: 0.6695 - val_accuracy: 0.8601\n",
            "Epoch 15/100\n",
            "475/475 [==============================] - 2s 4ms/step - loss: 0.6029 - accuracy: 0.8370 - val_loss: 0.6877 - val_accuracy: 0.8647\n",
            "Epoch 16/100\n",
            "475/475 [==============================] - 2s 4ms/step - loss: 0.6069 - accuracy: 0.8345 - val_loss: 0.6494 - val_accuracy: 0.8632\n",
            "Epoch 17/100\n",
            "475/475 [==============================] - 2s 4ms/step - loss: 0.6031 - accuracy: 0.8387 - val_loss: 0.6969 - val_accuracy: 0.8569\n",
            "Epoch 18/100\n",
            "475/475 [==============================] - 2s 4ms/step - loss: 0.6285 - accuracy: 0.8332 - val_loss: 0.6534 - val_accuracy: 0.8592\n",
            "Epoch 19/100\n",
            "475/475 [==============================] - 2s 4ms/step - loss: 0.6171 - accuracy: 0.8338 - val_loss: 0.7182 - val_accuracy: 0.8584\n",
            "Epoch 20/100\n",
            "475/475 [==============================] - 2s 4ms/step - loss: 0.6302 - accuracy: 0.8332 - val_loss: 0.6685 - val_accuracy: 0.8560\n",
            "Epoch 21/100\n",
            "475/475 [==============================] - 2s 4ms/step - loss: 0.6135 - accuracy: 0.8347 - val_loss: 0.6861 - val_accuracy: 0.8630\n",
            "Epoch 22/100\n",
            "475/475 [==============================] - 2s 4ms/step - loss: 0.6075 - accuracy: 0.8350 - val_loss: 0.6969 - val_accuracy: 0.8611\n",
            "Epoch 23/100\n",
            "475/475 [==============================] - 2s 4ms/step - loss: 0.6085 - accuracy: 0.8378 - val_loss: 0.7218 - val_accuracy: 0.8639\n",
            "Epoch 24/100\n",
            "475/475 [==============================] - 2s 4ms/step - loss: 0.6149 - accuracy: 0.8327 - val_loss: 0.7156 - val_accuracy: 0.8628\n",
            "Epoch 00024: early stopping\n"
          ]
        }
      ]
    },
    {
      "cell_type": "code",
      "metadata": {
        "id": "q6XZfUqduqaG",
        "colab": {
          "base_uri": "https://localhost:8080/",
          "height": 404
        },
        "outputId": "adfd15c7-aeef-41a8-f118-3374f87776bc"
      },
      "source": [
        "plot_history(history_1)"
      ],
      "execution_count": 103,
      "outputs": [
        {
          "output_type": "display_data",
          "data": {
            "image/png": "[encoded data removed]",
            "text/plain": [
              "<Figure size 864x432 with 2 Axes>"
            ]
          },
          "metadata": {
            "needs_background": "light"
          }
        }
      ]
    },
    {
      "cell_type": "markdown",
      "metadata": {
        "id": "-KIeTSpXZ7x3"
      },
      "source": [
        "### Model 02"
      ]
    },
    {
      "cell_type": "code",
      "metadata": {
        "id": "wR635zCLuqSz"
      },
      "source": [
        "params_2 = {\n",
        "    'dropout': (0.8),\n",
        "    'filters': (256),\n",
        "    'kernel_size': (7),\n",
        "    'strides': (1),\n",
        "    'pooling': GlobalMaxPooling1D(),  # MaxPool1D(), AveragePooling1D(), \n",
        "    'hidden_dims': (128),\n",
        "    'learning_rate': (0.01),\n",
        "    'batch_size': (128),\n",
        "    'optimizer': ('SGD'),\n",
        "    'epochs': 100,\n",
        "    'verbose': 1,\n",
        "    'patience': 20\n",
        "}"
      ],
      "execution_count": 84,
      "outputs": []
    },
    {
      "cell_type": "code",
      "metadata": {
        "id": "90qJlaCHuqNa",
        "colab": {
          "base_uri": "https://localhost:8080/"
        },
        "outputId": "66a16f9f-3db9-463b-fee0-09949e2b8d1c"
      },
      "source": [
        "history_2, model_2 = train_model(X_train, y_train, X_val, y_val, params_2)"
      ],
      "execution_count": 85,
      "outputs": [
        {
          "output_type": "stream",
          "name": "stdout",
          "text": [
            "Epoch 1/100\n",
            "371/371 [==============================] - 2s 5ms/step - loss: 3.2562 - accuracy: 0.3002 - val_loss: 2.6946 - val_accuracy: 0.3572\n",
            "Epoch 2/100\n",
            "371/371 [==============================] - 2s 4ms/step - loss: 2.4293 - accuracy: 0.3562 - val_loss: 2.3775 - val_accuracy: 0.3572\n",
            "Epoch 3/100\n",
            "371/371 [==============================] - 2s 4ms/step - loss: 2.2580 - accuracy: 0.3970 - val_loss: 2.2683 - val_accuracy: 0.3633\n",
            "Epoch 4/100\n",
            "371/371 [==============================] - 2s 4ms/step - loss: 2.1571 - accuracy: 0.4263 - val_loss: 2.1775 - val_accuracy: 0.4173\n",
            "Epoch 5/100\n",
            "371/371 [==============================] - 2s 4ms/step - loss: 2.0832 - accuracy: 0.4452 - val_loss: 2.1242 - val_accuracy: 0.4269\n",
            "Epoch 6/100\n",
            "371/371 [==============================] - 2s 4ms/step - loss: 2.0286 - accuracy: 0.4573 - val_loss: 2.0831 - val_accuracy: 0.4626\n",
            "Epoch 7/100\n",
            "371/371 [==============================] - 2s 4ms/step - loss: 1.9862 - accuracy: 0.4681 - val_loss: 2.0343 - val_accuracy: 0.4883\n",
            "Epoch 8/100\n",
            "371/371 [==============================] - 2s 4ms/step - loss: 1.9568 - accuracy: 0.4764 - val_loss: 1.9937 - val_accuracy: 0.5065\n",
            "Epoch 9/100\n",
            "371/371 [==============================] - 2s 4ms/step - loss: 1.9150 - accuracy: 0.4821 - val_loss: 1.9544 - val_accuracy: 0.5156\n",
            "Epoch 10/100\n",
            "371/371 [==============================] - 2s 4ms/step - loss: 1.8933 - accuracy: 0.4900 - val_loss: 1.9308 - val_accuracy: 0.5190\n",
            "Epoch 11/100\n",
            "371/371 [==============================] - 2s 4ms/step - loss: 1.8692 - accuracy: 0.4937 - val_loss: 1.9037 - val_accuracy: 0.5200\n",
            "Epoch 12/100\n",
            "371/371 [==============================] - 2s 4ms/step - loss: 1.8504 - accuracy: 0.4977 - val_loss: 1.8946 - val_accuracy: 0.5175\n",
            "Epoch 13/100\n",
            "371/371 [==============================] - 2s 4ms/step - loss: 1.8312 - accuracy: 0.5012 - val_loss: 1.8606 - val_accuracy: 0.5181\n",
            "Epoch 14/100\n",
            "371/371 [==============================] - 2s 4ms/step - loss: 1.8091 - accuracy: 0.5044 - val_loss: 1.8524 - val_accuracy: 0.5162\n",
            "Epoch 15/100\n",
            "371/371 [==============================] - 2s 4ms/step - loss: 1.7921 - accuracy: 0.5068 - val_loss: 1.8203 - val_accuracy: 0.5183\n",
            "Epoch 16/100\n",
            "371/371 [==============================] - 2s 4ms/step - loss: 1.7771 - accuracy: 0.5093 - val_loss: 1.7951 - val_accuracy: 0.5183\n",
            "Epoch 17/100\n",
            "371/371 [==============================] - 2s 4ms/step - loss: 1.7598 - accuracy: 0.5121 - val_loss: 1.7735 - val_accuracy: 0.5209\n",
            "Epoch 18/100\n",
            "371/371 [==============================] - 2s 4ms/step - loss: 1.7360 - accuracy: 0.5156 - val_loss: 1.7459 - val_accuracy: 0.5211\n",
            "Epoch 19/100\n",
            "371/371 [==============================] - 2s 4ms/step - loss: 1.7178 - accuracy: 0.5170 - val_loss: 1.7239 - val_accuracy: 0.5228\n",
            "Epoch 20/100\n",
            "371/371 [==============================] - 2s 4ms/step - loss: 1.6997 - accuracy: 0.5207 - val_loss: 1.6969 - val_accuracy: 0.5236\n",
            "Epoch 21/100\n",
            "371/371 [==============================] - 2s 4ms/step - loss: 1.6765 - accuracy: 0.5248 - val_loss: 1.6600 - val_accuracy: 0.5261\n",
            "Epoch 22/100\n",
            "371/371 [==============================] - 2s 4ms/step - loss: 1.6558 - accuracy: 0.5291 - val_loss: 1.6348 - val_accuracy: 0.5281\n",
            "Epoch 23/100\n",
            "371/371 [==============================] - 2s 4ms/step - loss: 1.6334 - accuracy: 0.5325 - val_loss: 1.6150 - val_accuracy: 0.5285\n",
            "Epoch 24/100\n",
            "371/371 [==============================] - 2s 4ms/step - loss: 1.6088 - accuracy: 0.5371 - val_loss: 1.5873 - val_accuracy: 0.5304\n",
            "Epoch 25/100\n",
            "371/371 [==============================] - 2s 4ms/step - loss: 1.5939 - accuracy: 0.5416 - val_loss: 1.5731 - val_accuracy: 0.5325\n",
            "Epoch 26/100\n",
            "371/371 [==============================] - 2s 4ms/step - loss: 1.5690 - accuracy: 0.5470 - val_loss: 1.5473 - val_accuracy: 0.5344\n",
            "Epoch 27/100\n",
            "371/371 [==============================] - 2s 4ms/step - loss: 1.5482 - accuracy: 0.5530 - val_loss: 1.5270 - val_accuracy: 0.5363\n",
            "Epoch 28/100\n",
            "371/371 [==============================] - 2s 4ms/step - loss: 1.5245 - accuracy: 0.5578 - val_loss: 1.5001 - val_accuracy: 0.5382\n",
            "Epoch 29/100\n",
            "371/371 [==============================] - 2s 4ms/step - loss: 1.5123 - accuracy: 0.5609 - val_loss: 1.4836 - val_accuracy: 0.5395\n",
            "Epoch 30/100\n",
            "371/371 [==============================] - 2s 4ms/step - loss: 1.4893 - accuracy: 0.5670 - val_loss: 1.4619 - val_accuracy: 0.5446\n",
            "Epoch 31/100\n",
            "371/371 [==============================] - 2s 4ms/step - loss: 1.4769 - accuracy: 0.5694 - val_loss: 1.4561 - val_accuracy: 0.5492\n",
            "Epoch 32/100\n",
            "371/371 [==============================] - 2s 4ms/step - loss: 1.4634 - accuracy: 0.5715 - val_loss: 1.4332 - val_accuracy: 0.5554\n",
            "Epoch 33/100\n",
            "371/371 [==============================] - 2s 4ms/step - loss: 1.4530 - accuracy: 0.5760 - val_loss: 1.4158 - val_accuracy: 0.5672\n",
            "Epoch 34/100\n",
            "371/371 [==============================] - 2s 4ms/step - loss: 1.4369 - accuracy: 0.5791 - val_loss: 1.4107 - val_accuracy: 0.5751\n",
            "Epoch 35/100\n",
            "371/371 [==============================] - 2s 4ms/step - loss: 1.4285 - accuracy: 0.5826 - val_loss: 1.3954 - val_accuracy: 0.5825\n",
            "Epoch 36/100\n",
            "371/371 [==============================] - 2s 4ms/step - loss: 1.4123 - accuracy: 0.5863 - val_loss: 1.3857 - val_accuracy: 0.5856\n",
            "Epoch 37/100\n",
            "371/371 [==============================] - 2s 4ms/step - loss: 1.4039 - accuracy: 0.5886 - val_loss: 1.3800 - val_accuracy: 0.5912\n",
            "Epoch 38/100\n",
            "371/371 [==============================] - 2s 4ms/step - loss: 1.3910 - accuracy: 0.5929 - val_loss: 1.3654 - val_accuracy: 0.5937\n",
            "Epoch 39/100\n",
            "371/371 [==============================] - 2s 4ms/step - loss: 1.3803 - accuracy: 0.5947 - val_loss: 1.3502 - val_accuracy: 0.5990\n",
            "Epoch 40/100\n",
            "371/371 [==============================] - 2s 4ms/step - loss: 1.3673 - accuracy: 0.5988 - val_loss: 1.3409 - val_accuracy: 0.5983\n",
            "Epoch 41/100\n",
            "371/371 [==============================] - 2s 4ms/step - loss: 1.3556 - accuracy: 0.5999 - val_loss: 1.3241 - val_accuracy: 0.6019\n",
            "Epoch 42/100\n",
            "371/371 [==============================] - 2s 4ms/step - loss: 1.3501 - accuracy: 0.6023 - val_loss: 1.3137 - val_accuracy: 0.6036\n",
            "Epoch 43/100\n",
            "371/371 [==============================] - 2s 4ms/step - loss: 1.3374 - accuracy: 0.6057 - val_loss: 1.3022 - val_accuracy: 0.6064\n",
            "Epoch 44/100\n",
            "371/371 [==============================] - 2s 4ms/step - loss: 1.3256 - accuracy: 0.6101 - val_loss: 1.2873 - val_accuracy: 0.6094\n",
            "Epoch 45/100\n",
            "371/371 [==============================] - 2s 4ms/step - loss: 1.3110 - accuracy: 0.6122 - val_loss: 1.2727 - val_accuracy: 0.6140\n",
            "Epoch 46/100\n",
            "371/371 [==============================] - 2s 4ms/step - loss: 1.3016 - accuracy: 0.6144 - val_loss: 1.2598 - val_accuracy: 0.6164\n",
            "Epoch 47/100\n",
            "371/371 [==============================] - 2s 4ms/step - loss: 1.2908 - accuracy: 0.6177 - val_loss: 1.2429 - val_accuracy: 0.6229\n",
            "Epoch 48/100\n",
            "371/371 [==============================] - 2s 4ms/step - loss: 1.2769 - accuracy: 0.6214 - val_loss: 1.2241 - val_accuracy: 0.6244\n",
            "Epoch 49/100\n",
            "371/371 [==============================] - 2s 4ms/step - loss: 1.2667 - accuracy: 0.6255 - val_loss: 1.2114 - val_accuracy: 0.6271\n",
            "Epoch 50/100\n",
            "371/371 [==============================] - 2s 4ms/step - loss: 1.2533 - accuracy: 0.6270 - val_loss: 1.1821 - val_accuracy: 0.6348\n",
            "Epoch 51/100\n",
            "371/371 [==============================] - 2s 4ms/step - loss: 1.2397 - accuracy: 0.6359 - val_loss: 1.1731 - val_accuracy: 0.6458\n",
            "Epoch 52/100\n",
            "371/371 [==============================] - 2s 4ms/step - loss: 1.2261 - accuracy: 0.6396 - val_loss: 1.1546 - val_accuracy: 0.6614\n",
            "Epoch 53/100\n",
            "371/371 [==============================] - 2s 4ms/step - loss: 1.2145 - accuracy: 0.6397 - val_loss: 1.1350 - val_accuracy: 0.6693\n",
            "Epoch 54/100\n",
            "371/371 [==============================] - 2s 4ms/step - loss: 1.2075 - accuracy: 0.6453 - val_loss: 1.1279 - val_accuracy: 0.6860\n",
            "Epoch 55/100\n",
            "371/371 [==============================] - 2s 4ms/step - loss: 1.1994 - accuracy: 0.6484 - val_loss: 1.1061 - val_accuracy: 0.6958\n",
            "Epoch 56/100\n",
            "371/371 [==============================] - 2s 4ms/step - loss: 1.1895 - accuracy: 0.6503 - val_loss: 1.0884 - val_accuracy: 0.7012\n",
            "Epoch 57/100\n",
            "371/371 [==============================] - 2s 4ms/step - loss: 1.1802 - accuracy: 0.6520 - val_loss: 1.0762 - val_accuracy: 0.7085\n",
            "Epoch 58/100\n",
            "371/371 [==============================] - 2s 4ms/step - loss: 1.1704 - accuracy: 0.6568 - val_loss: 1.0636 - val_accuracy: 0.7067\n",
            "Epoch 59/100\n",
            "371/371 [==============================] - 2s 4ms/step - loss: 1.1640 - accuracy: 0.6582 - val_loss: 1.0507 - val_accuracy: 0.7207\n",
            "Epoch 60/100\n",
            "371/371 [==============================] - 2s 4ms/step - loss: 1.1526 - accuracy: 0.6618 - val_loss: 1.0390 - val_accuracy: 0.7235\n",
            "Epoch 61/100\n",
            "371/371 [==============================] - 2s 4ms/step - loss: 1.1405 - accuracy: 0.6681 - val_loss: 1.0293 - val_accuracy: 0.7264\n",
            "Epoch 62/100\n",
            "371/371 [==============================] - 2s 4ms/step - loss: 1.1395 - accuracy: 0.6672 - val_loss: 1.0170 - val_accuracy: 0.7279\n",
            "Epoch 63/100\n",
            "371/371 [==============================] - 2s 4ms/step - loss: 1.1304 - accuracy: 0.6712 - val_loss: 1.0108 - val_accuracy: 0.7343\n",
            "Epoch 64/100\n",
            "371/371 [==============================] - 2s 4ms/step - loss: 1.1266 - accuracy: 0.6714 - val_loss: 1.0007 - val_accuracy: 0.7326\n",
            "Epoch 65/100\n",
            "371/371 [==============================] - 2s 4ms/step - loss: 1.1156 - accuracy: 0.6748 - val_loss: 0.9922 - val_accuracy: 0.7372\n",
            "Epoch 66/100\n",
            "371/371 [==============================] - 2s 4ms/step - loss: 1.1109 - accuracy: 0.6765 - val_loss: 0.9754 - val_accuracy: 0.7317\n",
            "Epoch 67/100\n",
            "371/371 [==============================] - 2s 4ms/step - loss: 1.1043 - accuracy: 0.6792 - val_loss: 0.9756 - val_accuracy: 0.7398\n",
            "Epoch 68/100\n",
            "371/371 [==============================] - 2s 4ms/step - loss: 1.0956 - accuracy: 0.6812 - val_loss: 0.9649 - val_accuracy: 0.7413\n",
            "Epoch 69/100\n",
            "371/371 [==============================] - 2s 4ms/step - loss: 1.0913 - accuracy: 0.6819 - val_loss: 0.9581 - val_accuracy: 0.7455\n",
            "Epoch 70/100\n",
            "371/371 [==============================] - 2s 4ms/step - loss: 1.0840 - accuracy: 0.6860 - val_loss: 0.9478 - val_accuracy: 0.7432\n",
            "Epoch 71/100\n",
            "371/371 [==============================] - 2s 4ms/step - loss: 1.0800 - accuracy: 0.6884 - val_loss: 0.9407 - val_accuracy: 0.7495\n",
            "Epoch 72/100\n",
            "371/371 [==============================] - 2s 4ms/step - loss: 1.0731 - accuracy: 0.6911 - val_loss: 0.9358 - val_accuracy: 0.7506\n",
            "Epoch 73/100\n",
            "371/371 [==============================] - 2s 4ms/step - loss: 1.0733 - accuracy: 0.6911 - val_loss: 0.9333 - val_accuracy: 0.7493\n",
            "Epoch 74/100\n",
            "371/371 [==============================] - 2s 4ms/step - loss: 1.0639 - accuracy: 0.6943 - val_loss: 0.9264 - val_accuracy: 0.7540\n",
            "Epoch 75/100\n",
            "371/371 [==============================] - 2s 4ms/step - loss: 1.0621 - accuracy: 0.6934 - val_loss: 0.9190 - val_accuracy: 0.7540\n",
            "Epoch 76/100\n",
            "371/371 [==============================] - 2s 4ms/step - loss: 1.0549 - accuracy: 0.6975 - val_loss: 0.9117 - val_accuracy: 0.7608\n",
            "Epoch 77/100\n",
            "371/371 [==============================] - 2s 4ms/step - loss: 1.0483 - accuracy: 0.6989 - val_loss: 0.9049 - val_accuracy: 0.7582\n",
            "Epoch 78/100\n",
            "371/371 [==============================] - 2s 4ms/step - loss: 1.0422 - accuracy: 0.7007 - val_loss: 0.8991 - val_accuracy: 0.7591\n",
            "Epoch 79/100\n",
            "371/371 [==============================] - 2s 4ms/step - loss: 1.0419 - accuracy: 0.6987 - val_loss: 0.9015 - val_accuracy: 0.7635\n",
            "Epoch 80/100\n",
            "371/371 [==============================] - 2s 4ms/step - loss: 1.0308 - accuracy: 0.7041 - val_loss: 0.8924 - val_accuracy: 0.7673\n",
            "Epoch 81/100\n",
            "371/371 [==============================] - 2s 4ms/step - loss: 1.0362 - accuracy: 0.7028 - val_loss: 0.8906 - val_accuracy: 0.7669\n",
            "Epoch 82/100\n",
            "371/371 [==============================] - 2s 4ms/step - loss: 1.0344 - accuracy: 0.7051 - val_loss: 0.8876 - val_accuracy: 0.7749\n",
            "Epoch 83/100\n",
            "371/371 [==============================] - 2s 4ms/step - loss: 1.0192 - accuracy: 0.7055 - val_loss: 0.8759 - val_accuracy: 0.7679\n",
            "Epoch 84/100\n",
            "371/371 [==============================] - 2s 4ms/step - loss: 1.0206 - accuracy: 0.7067 - val_loss: 0.8730 - val_accuracy: 0.7709\n",
            "Epoch 85/100\n",
            "371/371 [==============================] - 2s 4ms/step - loss: 1.0119 - accuracy: 0.7109 - val_loss: 0.8713 - val_accuracy: 0.7747\n",
            "Epoch 86/100\n",
            "371/371 [==============================] - 2s 4ms/step - loss: 1.0120 - accuracy: 0.7087 - val_loss: 0.8667 - val_accuracy: 0.7753\n",
            "Epoch 87/100\n",
            "371/371 [==============================] - 2s 4ms/step - loss: 1.0084 - accuracy: 0.7107 - val_loss: 0.8635 - val_accuracy: 0.7734\n",
            "Epoch 88/100\n",
            "371/371 [==============================] - 2s 4ms/step - loss: 1.0045 - accuracy: 0.7121 - val_loss: 0.8568 - val_accuracy: 0.7730\n",
            "Epoch 89/100\n",
            "371/371 [==============================] - 2s 4ms/step - loss: 1.0024 - accuracy: 0.7129 - val_loss: 0.8523 - val_accuracy: 0.7766\n",
            "Epoch 90/100\n",
            "371/371 [==============================] - 2s 4ms/step - loss: 0.9999 - accuracy: 0.7158 - val_loss: 0.8486 - val_accuracy: 0.7790\n",
            "Epoch 91/100\n",
            "371/371 [==============================] - 2s 4ms/step - loss: 0.9959 - accuracy: 0.7139 - val_loss: 0.8451 - val_accuracy: 0.7762\n",
            "Epoch 92/100\n",
            "371/371 [==============================] - 2s 4ms/step - loss: 0.9869 - accuracy: 0.7170 - val_loss: 0.8437 - val_accuracy: 0.7745\n",
            "Epoch 93/100\n",
            "371/371 [==============================] - 2s 4ms/step - loss: 0.9816 - accuracy: 0.7189 - val_loss: 0.8408 - val_accuracy: 0.7800\n",
            "Epoch 94/100\n",
            "371/371 [==============================] - 2s 4ms/step - loss: 0.9802 - accuracy: 0.7176 - val_loss: 0.8336 - val_accuracy: 0.7807\n",
            "Epoch 95/100\n",
            "371/371 [==============================] - 2s 4ms/step - loss: 0.9797 - accuracy: 0.7196 - val_loss: 0.8286 - val_accuracy: 0.7813\n",
            "Epoch 96/100\n",
            "371/371 [==============================] - 2s 4ms/step - loss: 0.9759 - accuracy: 0.7208 - val_loss: 0.8249 - val_accuracy: 0.7807\n",
            "Epoch 97/100\n",
            "371/371 [==============================] - 2s 4ms/step - loss: 0.9727 - accuracy: 0.7203 - val_loss: 0.8252 - val_accuracy: 0.7823\n",
            "Epoch 98/100\n",
            "371/371 [==============================] - 2s 4ms/step - loss: 0.9651 - accuracy: 0.7238 - val_loss: 0.8201 - val_accuracy: 0.7838\n",
            "Epoch 99/100\n",
            "371/371 [==============================] - 2s 4ms/step - loss: 0.9676 - accuracy: 0.7229 - val_loss: 0.8162 - val_accuracy: 0.7849\n",
            "Epoch 100/100\n",
            "371/371 [==============================] - 2s 4ms/step - loss: 0.9684 - accuracy: 0.7219 - val_loss: 0.8164 - val_accuracy: 0.7853\n"
          ]
        }
      ]
    },
    {
      "cell_type": "code",
      "metadata": {
        "id": "V_mjS6aAuqID",
        "colab": {
          "base_uri": "https://localhost:8080/",
          "height": 404
        },
        "outputId": "a41cdf95-be9e-4d65-ba35-5301581b6a2e"
      },
      "source": [
        "plot_history(history_2)"
      ],
      "execution_count": 104,
      "outputs": [
        {
          "output_type": "display_data",
          "data": {
            "image/png": "[encoded data removed]",
            "text/plain": [
              "<Figure size 864x432 with 2 Axes>"
            ]
          },
          "metadata": {
            "needs_background": "light"
          }
        }
      ]
    },
    {
      "cell_type": "markdown",
      "metadata": {
        "id": "mvVzIvfjZ7x8"
      },
      "source": [
        "### Model 3"
      ]
    },
    {
      "cell_type": "code",
      "metadata": {
        "id": "yMcPxBV6uqAt"
      },
      "source": [
        "params_3 = {\n",
        "    'dropout': (0.1),\n",
        "    'filters': (512),\n",
        "    'kernel_size': (3),\n",
        "    'strides': (2),\n",
        "    'pooling': GlobalMaxPooling1D(),  # MaxPool1D(), AveragePooling1D(), \n",
        "    'hidden_dims': (128),\n",
        "    'learning_rate': (0.01),\n",
        "    'batch_size': (64),\n",
        "    'optimizer': ('adam'),\n",
        "    'epochs': 100,\n",
        "    'verbose': 1,\n",
        "    'patience': 20\n",
        "}"
      ],
      "execution_count": 96,
      "outputs": []
    },
    {
      "cell_type": "code",
      "metadata": {
        "id": "efNFrHJHup2E",
        "colab": {
          "base_uri": "https://localhost:8080/"
        },
        "outputId": "fa539c7f-e3b7-4fd2-c947-2718bfd170a8"
      },
      "source": [
        "history_3, model_3 = train_model(X_train, y_train, X_val, y_val, params_3)"
      ],
      "execution_count": 97,
      "outputs": [
        {
          "output_type": "stream",
          "name": "stdout",
          "text": [
            "Epoch 1/100\n",
            "742/742 [==============================] - 3s 4ms/step - loss: 0.6995 - accuracy: 0.8104 - val_loss: 0.5814 - val_accuracy: 0.8537\n",
            "Epoch 2/100\n",
            "742/742 [==============================] - 3s 4ms/step - loss: 0.5297 - accuracy: 0.8586 - val_loss: 0.5591 - val_accuracy: 0.8482\n",
            "Epoch 3/100\n",
            "742/742 [==============================] - 3s 4ms/step - loss: 0.4918 - accuracy: 0.8641 - val_loss: 0.5396 - val_accuracy: 0.8689\n",
            "Epoch 4/100\n",
            "742/742 [==============================] - 3s 4ms/step - loss: 0.4820 - accuracy: 0.8655 - val_loss: 0.6054 - val_accuracy: 0.8681\n",
            "Epoch 5/100\n",
            "742/742 [==============================] - 3s 4ms/step - loss: 0.4821 - accuracy: 0.8706 - val_loss: 0.6227 - val_accuracy: 0.8698\n",
            "Epoch 6/100\n",
            "742/742 [==============================] - 3s 4ms/step - loss: 0.4696 - accuracy: 0.8710 - val_loss: 0.5686 - val_accuracy: 0.8723\n",
            "Epoch 7/100\n",
            "742/742 [==============================] - 3s 4ms/step - loss: 0.4680 - accuracy: 0.8713 - val_loss: 0.5767 - val_accuracy: 0.8711\n",
            "Epoch 8/100\n",
            "742/742 [==============================] - 3s 4ms/step - loss: 0.4554 - accuracy: 0.8737 - val_loss: 0.6387 - val_accuracy: 0.8689\n",
            "Epoch 9/100\n",
            "742/742 [==============================] - 3s 4ms/step - loss: 0.4751 - accuracy: 0.8731 - val_loss: 0.8167 - val_accuracy: 0.8655\n",
            "Epoch 10/100\n",
            "742/742 [==============================] - 3s 4ms/step - loss: 0.4482 - accuracy: 0.8760 - val_loss: 0.6517 - val_accuracy: 0.8620\n",
            "Epoch 11/100\n",
            "742/742 [==============================] - 3s 4ms/step - loss: 0.4556 - accuracy: 0.8742 - val_loss: 0.6948 - val_accuracy: 0.8511\n",
            "Epoch 12/100\n",
            "742/742 [==============================] - 3s 4ms/step - loss: 0.4650 - accuracy: 0.8725 - val_loss: 0.9046 - val_accuracy: 0.8649\n",
            "Epoch 13/100\n",
            "742/742 [==============================] - 3s 4ms/step - loss: 0.4755 - accuracy: 0.8732 - val_loss: 1.0180 - val_accuracy: 0.8679\n",
            "Epoch 14/100\n",
            "742/742 [==============================] - 3s 4ms/step - loss: 0.4881 - accuracy: 0.8750 - val_loss: 1.0689 - val_accuracy: 0.8575\n",
            "Epoch 15/100\n",
            "742/742 [==============================] - 3s 4ms/step - loss: 0.4588 - accuracy: 0.8746 - val_loss: 1.0463 - val_accuracy: 0.8651\n",
            "Epoch 16/100\n",
            "742/742 [==============================] - 3s 4ms/step - loss: 0.4803 - accuracy: 0.8704 - val_loss: 1.0086 - val_accuracy: 0.8628\n",
            "Epoch 17/100\n",
            "742/742 [==============================] - 3s 4ms/step - loss: 0.4864 - accuracy: 0.8705 - val_loss: 1.0848 - val_accuracy: 0.8601\n",
            "Epoch 18/100\n",
            "742/742 [==============================] - 3s 4ms/step - loss: 0.4701 - accuracy: 0.8721 - val_loss: 1.2773 - val_accuracy: 0.8522\n",
            "Epoch 19/100\n",
            "742/742 [==============================] - 3s 4ms/step - loss: 0.4663 - accuracy: 0.8708 - val_loss: 1.3657 - val_accuracy: 0.8698\n",
            "Epoch 20/100\n",
            "742/742 [==============================] - 3s 4ms/step - loss: 0.4467 - accuracy: 0.8760 - val_loss: 1.5700 - val_accuracy: 0.8577\n",
            "Epoch 21/100\n",
            "742/742 [==============================] - 3s 4ms/step - loss: 0.5385 - accuracy: 0.8684 - val_loss: 1.6021 - val_accuracy: 0.8518\n",
            "Epoch 22/100\n",
            "742/742 [==============================] - 3s 4ms/step - loss: 0.5127 - accuracy: 0.8650 - val_loss: 1.4054 - val_accuracy: 0.8643\n",
            "Epoch 23/100\n",
            "742/742 [==============================] - 3s 4ms/step - loss: 0.4786 - accuracy: 0.8736 - val_loss: 1.2637 - val_accuracy: 0.8632\n",
            "Epoch 00023: early stopping\n"
          ]
        }
      ]
    },
    {
      "cell_type": "code",
      "metadata": {
        "id": "Eihvx50SulgH",
        "colab": {
          "base_uri": "https://localhost:8080/",
          "height": 404
        },
        "outputId": "55997d8b-97ef-414f-e796-ff1cf4104702"
      },
      "source": [
        "plot_history(history_3)"
      ],
      "execution_count": 105,
      "outputs": [
        {
          "output_type": "display_data",
          "data": {
            "image/png": "[encoded data removed]",
            "text/plain": [
              "<Figure size 864x432 with 2 Axes>"
            ]
          },
          "metadata": {
            "needs_background": "light"
          }
        }
      ]
    },
    {
      "cell_type": "markdown",
      "metadata": {
        "id": "hEVianPSZ7yA"
      },
      "source": [
        "### Model 4"
      ]
    },
    {
      "cell_type": "code",
      "metadata": {
        "id": "pGYoB2ylul9S"
      },
      "source": [
        "params_4 = {\n",
        "    'dropout': (0.5),\n",
        "    'filters': (128),\n",
        "    'kernel_size': (5),\n",
        "    'strides': (1),\n",
        "    'pooling': GlobalMaxPooling1D(),  # MaxPool1D(), AveragePooling1D(), \n",
        "    'hidden_dims': (256),\n",
        "    'learning_rate': (0.01),\n",
        "    'batch_size': (64),\n",
        "    'optimizer': ('adam'),\n",
        "    'epochs': 100,\n",
        "    'verbose': 1,\n",
        "    'patience': 20\n",
        "}"
      ],
      "execution_count": 113,
      "outputs": []
    },
    {
      "cell_type": "code",
      "metadata": {
        "id": "jQn8mCPaumkn",
        "colab": {
          "base_uri": "https://localhost:8080/"
        },
        "outputId": "7c4aa9a5-5b23-4ed2-8d4c-50784c1cf753"
      },
      "source": [
        "history_4, model_4 = train_model(X_train, y_train, X_val, y_val, params_4)"
      ],
      "execution_count": 114,
      "outputs": [
        {
          "output_type": "stream",
          "name": "stdout",
          "text": [
            "Epoch 1/100\n",
            "742/742 [==============================] - 4s 4ms/step - loss: 0.9525 - accuracy: 0.7413 - val_loss: 0.6829 - val_accuracy: 0.8175\n",
            "Epoch 2/100\n",
            "742/742 [==============================] - 3s 4ms/step - loss: 0.7894 - accuracy: 0.7943 - val_loss: 0.6708 - val_accuracy: 0.8382\n",
            "Epoch 3/100\n",
            "742/742 [==============================] - 3s 3ms/step - loss: 0.7732 - accuracy: 0.8022 - val_loss: 0.6565 - val_accuracy: 0.8562\n",
            "Epoch 4/100\n",
            "742/742 [==============================] - 3s 3ms/step - loss: 0.7583 - accuracy: 0.8080 - val_loss: 0.6778 - val_accuracy: 0.8429\n",
            "Epoch 5/100\n",
            "742/742 [==============================] - 3s 3ms/step - loss: 0.7346 - accuracy: 0.8107 - val_loss: 0.6907 - val_accuracy: 0.8533\n",
            "Epoch 6/100\n",
            "742/742 [==============================] - 3s 3ms/step - loss: 0.7208 - accuracy: 0.8135 - val_loss: 0.6945 - val_accuracy: 0.8613\n",
            "Epoch 7/100\n",
            "742/742 [==============================] - 3s 3ms/step - loss: 0.7131 - accuracy: 0.8153 - val_loss: 0.6680 - val_accuracy: 0.8503\n",
            "Epoch 8/100\n",
            "742/742 [==============================] - 3s 3ms/step - loss: 0.7053 - accuracy: 0.8167 - val_loss: 0.6853 - val_accuracy: 0.8490\n",
            "Epoch 9/100\n",
            "742/742 [==============================] - 3s 3ms/step - loss: 0.7463 - accuracy: 0.8112 - val_loss: 0.7619 - val_accuracy: 0.8501\n",
            "Epoch 10/100\n",
            "742/742 [==============================] - 3s 3ms/step - loss: 0.7336 - accuracy: 0.8120 - val_loss: 0.7215 - val_accuracy: 0.8490\n",
            "Epoch 11/100\n",
            "742/742 [==============================] - 3s 3ms/step - loss: 0.7198 - accuracy: 0.8160 - val_loss: 0.7135 - val_accuracy: 0.8569\n",
            "Epoch 12/100\n",
            "742/742 [==============================] - 3s 3ms/step - loss: 0.7393 - accuracy: 0.8128 - val_loss: 0.7434 - val_accuracy: 0.8603\n",
            "Epoch 13/100\n",
            "742/742 [==============================] - 3s 4ms/step - loss: 0.7431 - accuracy: 0.8123 - val_loss: 0.8773 - val_accuracy: 0.8457\n",
            "Epoch 14/100\n",
            "742/742 [==============================] - 3s 4ms/step - loss: 0.7523 - accuracy: 0.8064 - val_loss: 0.8610 - val_accuracy: 0.8440\n",
            "Epoch 15/100\n",
            "742/742 [==============================] - 3s 4ms/step - loss: 0.7482 - accuracy: 0.8087 - val_loss: 0.9206 - val_accuracy: 0.8512\n",
            "Epoch 16/100\n",
            "742/742 [==============================] - 3s 4ms/step - loss: 0.7381 - accuracy: 0.8070 - val_loss: 0.8017 - val_accuracy: 0.8516\n",
            "Epoch 17/100\n",
            "742/742 [==============================] - 3s 3ms/step - loss: 0.7706 - accuracy: 0.8047 - val_loss: 0.8513 - val_accuracy: 0.8452\n",
            "Epoch 18/100\n",
            "742/742 [==============================] - 3s 3ms/step - loss: 0.7634 - accuracy: 0.8036 - val_loss: 0.9391 - val_accuracy: 0.8598\n",
            "Epoch 19/100\n",
            "742/742 [==============================] - 3s 3ms/step - loss: 0.7555 - accuracy: 0.8062 - val_loss: 0.8316 - val_accuracy: 0.8541\n",
            "Epoch 20/100\n",
            "742/742 [==============================] - 3s 4ms/step - loss: 0.7398 - accuracy: 0.8112 - val_loss: 0.9814 - val_accuracy: 0.8454\n",
            "Epoch 21/100\n",
            "742/742 [==============================] - 3s 3ms/step - loss: 0.8004 - accuracy: 0.7972 - val_loss: 1.0718 - val_accuracy: 0.8425\n",
            "Epoch 22/100\n",
            "742/742 [==============================] - 3s 4ms/step - loss: 0.8283 - accuracy: 0.7967 - val_loss: 1.0150 - val_accuracy: 0.8414\n",
            "Epoch 23/100\n",
            "742/742 [==============================] - 3s 4ms/step - loss: 0.7907 - accuracy: 0.7993 - val_loss: 1.0141 - val_accuracy: 0.8533\n",
            "Epoch 00023: early stopping\n"
          ]
        }
      ]
    },
    {
      "cell_type": "code",
      "metadata": {
        "id": "XRkEoCRpumqN",
        "colab": {
          "base_uri": "https://localhost:8080/",
          "height": 404
        },
        "outputId": "0e794d78-fe77-4b73-82be-c7b7fef0b296"
      },
      "source": [
        "plot_history(history_4)"
      ],
      "execution_count": 115,
      "outputs": [
        {
          "output_type": "display_data",
          "data": {
            "image/png": "[encoded data removed]",
            "text/plain": [
              "<Figure size 864x432 with 2 Axes>"
            ]
          },
          "metadata": {
            "needs_background": "light"
          }
        }
      ]
    },
    {
      "cell_type": "markdown",
      "metadata": {
        "id": "6ppJsLIgZ7yF"
      },
      "source": [
        "### Model 5"
      ]
    },
    {
      "cell_type": "code",
      "metadata": {
        "id": "B_vkd9TKZ7yF"
      },
      "source": [
        "params_5 = {\n",
        "    'dropout': (0.5),\n",
        "    'filters': (512),\n",
        "    'kernel_size': (5),\n",
        "    'strides': (1),\n",
        "    'pooling': GlobalMaxPooling1D(),  # MaxPool1D(), AveragePooling1D(), \n",
        "    'hidden_dims': (256),\n",
        "    'learning_rate': (0.01),\n",
        "    'batch_size': (100),\n",
        "    'optimizer': ('adam'),\n",
        "    'epochs': 100,\n",
        "    'verbose': 1,\n",
        "    'patience': 20\n",
        "}"
      ],
      "execution_count": 109,
      "outputs": []
    },
    {
      "cell_type": "code",
      "metadata": {
        "id": "w7ycHv2cZ7yH",
        "colab": {
          "base_uri": "https://localhost:8080/"
        },
        "outputId": "62080ed7-3c56-4e6f-bdd2-15b4a2281608"
      },
      "source": [
        "history_5, model_5 = train_model(X_train, y_train, X_val, y_val, params_5)"
      ],
      "execution_count": 110,
      "outputs": [
        {
          "output_type": "stream",
          "name": "stdout",
          "text": [
            "Epoch 1/100\n",
            "475/475 [==============================] - 3s 6ms/step - loss: 0.8915 - accuracy: 0.7570 - val_loss: 0.5520 - val_accuracy: 0.8628\n",
            "Epoch 2/100\n",
            "475/475 [==============================] - 3s 5ms/step - loss: 0.7062 - accuracy: 0.8193 - val_loss: 0.5468 - val_accuracy: 0.8675\n",
            "Epoch 3/100\n",
            "475/475 [==============================] - 3s 5ms/step - loss: 0.6557 - accuracy: 0.8301 - val_loss: 0.5655 - val_accuracy: 0.8689\n",
            "Epoch 4/100\n",
            "475/475 [==============================] - 3s 5ms/step - loss: 0.6464 - accuracy: 0.8363 - val_loss: 0.5569 - val_accuracy: 0.8687\n",
            "Epoch 5/100\n",
            "475/475 [==============================] - 3s 5ms/step - loss: 0.6452 - accuracy: 0.8338 - val_loss: 0.5957 - val_accuracy: 0.8600\n",
            "Epoch 6/100\n",
            "475/475 [==============================] - 3s 5ms/step - loss: 0.6634 - accuracy: 0.8312 - val_loss: 0.6137 - val_accuracy: 0.8598\n",
            "Epoch 7/100\n",
            "475/475 [==============================] - 3s 5ms/step - loss: 0.6440 - accuracy: 0.8350 - val_loss: 0.6202 - val_accuracy: 0.8598\n",
            "Epoch 8/100\n",
            "475/475 [==============================] - 3s 5ms/step - loss: 0.6197 - accuracy: 0.8372 - val_loss: 0.6138 - val_accuracy: 0.8711\n",
            "Epoch 9/100\n",
            "475/475 [==============================] - 3s 5ms/step - loss: 0.6239 - accuracy: 0.8388 - val_loss: 0.5911 - val_accuracy: 0.8727\n",
            "Epoch 10/100\n",
            "475/475 [==============================] - 3s 5ms/step - loss: 0.6373 - accuracy: 0.8366 - val_loss: 0.6241 - val_accuracy: 0.8696\n",
            "Epoch 11/100\n",
            "475/475 [==============================] - 3s 5ms/step - loss: 0.6403 - accuracy: 0.8373 - val_loss: 0.6566 - val_accuracy: 0.8708\n",
            "Epoch 12/100\n",
            "475/475 [==============================] - 3s 5ms/step - loss: 0.6297 - accuracy: 0.8386 - val_loss: 0.6000 - val_accuracy: 0.8725\n",
            "Epoch 13/100\n",
            "475/475 [==============================] - 3s 5ms/step - loss: 0.6307 - accuracy: 0.8391 - val_loss: 0.6336 - val_accuracy: 0.8692\n",
            "Epoch 14/100\n",
            "475/475 [==============================] - 3s 5ms/step - loss: 0.6146 - accuracy: 0.8393 - val_loss: 0.5995 - val_accuracy: 0.8713\n",
            "Epoch 15/100\n",
            "475/475 [==============================] - 3s 5ms/step - loss: 0.6525 - accuracy: 0.8353 - val_loss: 0.6451 - val_accuracy: 0.8778\n",
            "Epoch 16/100\n",
            "475/475 [==============================] - 3s 5ms/step - loss: 0.6473 - accuracy: 0.8352 - val_loss: 0.7278 - val_accuracy: 0.8533\n",
            "Epoch 17/100\n",
            "475/475 [==============================] - 3s 5ms/step - loss: 0.6443 - accuracy: 0.8362 - val_loss: 0.6310 - val_accuracy: 0.8738\n",
            "Epoch 18/100\n",
            "475/475 [==============================] - 3s 5ms/step - loss: 0.6350 - accuracy: 0.8373 - val_loss: 0.8559 - val_accuracy: 0.8723\n",
            "Epoch 19/100\n",
            "475/475 [==============================] - 3s 5ms/step - loss: 0.6827 - accuracy: 0.8333 - val_loss: 0.6793 - val_accuracy: 0.8613\n",
            "Epoch 20/100\n",
            "475/475 [==============================] - 3s 5ms/step - loss: 0.6342 - accuracy: 0.8373 - val_loss: 0.7606 - val_accuracy: 0.8673\n",
            "Epoch 21/100\n",
            "475/475 [==============================] - 3s 5ms/step - loss: 0.6348 - accuracy: 0.8335 - val_loss: 0.7449 - val_accuracy: 0.8656\n",
            "Epoch 22/100\n",
            "475/475 [==============================] - 3s 5ms/step - loss: 0.6472 - accuracy: 0.8382 - val_loss: 0.7072 - val_accuracy: 0.8713\n",
            "Epoch 00022: early stopping\n"
          ]
        }
      ]
    },
    {
      "cell_type": "code",
      "metadata": {
        "id": "3mqaX1uMZ7yJ",
        "colab": {
          "base_uri": "https://localhost:8080/",
          "height": 404
        },
        "outputId": "61251b1c-069b-48b7-8834-a463e5263b1d"
      },
      "source": [
        "plot_history(history_5)"
      ],
      "execution_count": 112,
      "outputs": [
        {
          "output_type": "display_data",
          "data": {
            "image/png": "[encoded data removed]",
            "text/plain": [
              "<Figure size 864x432 with 2 Axes>"
            ]
          },
          "metadata": {
            "needs_background": "light"
          }
        }
      ]
    },
    {
      "cell_type": "markdown",
      "metadata": {
        "id": "KJETDEWCZ7yQ"
      },
      "source": [
        "## Accuracy of the model"
      ]
    },
    {
      "cell_type": "code",
      "metadata": {
        "pycharm": {
          "name": "#%%\n"
        },
        "id": "0rpNiPrSZ7yQ",
        "outputId": "8587cf4c-ccc3-41eb-95d7-cde3c16d4ddc"
      },
      "source": [
        "accuracy_score(predicted_list.argmax(axis=1), test_classes_categorical.argmax(axis=1))"
      ],
      "execution_count": null,
      "outputs": [
        {
          "output_type": "execute_result",
          "data": {
            "text/plain": [
              "0.9195712523133868"
            ]
          },
          "metadata": {
            "tags": []
          },
          "execution_count": 57
        }
      ]
    },
    {
      "cell_type": "markdown",
      "metadata": {
        "id": "lziwgS6ZZ7yR"
      },
      "source": [
        "### Confusion Matrix"
      ]
    },
    {
      "cell_type": "code",
      "metadata": {
        "id": "EkrnDLSUSsMG"
      },
      "source": [
        "label_dict = pd.Series(df_test.label.values,index=df_test.label_index).to_dict()\n",
        "\n",
        "test_list = test_classes_categorical.argmax(axis=1)\n",
        "predicted_list = predicted_list.argmax(axis=1)\n",
        "test_list_label = [label_dict[x] for x in test_list]\n",
        "predicted_list_label = [label_dict[x] for x in predicted_list]"
      ],
      "execution_count": null,
      "outputs": []
    },
    {
      "cell_type": "code",
      "metadata": {
        "id": "1RtCZXWvZ7yT"
      },
      "source": [
        "confusion_matrix_final = confusion_matrix(test_list_label, predicted_list_label)"
      ],
      "execution_count": null,
      "outputs": []
    },
    {
      "cell_type": "code",
      "metadata": {
        "id": "cuscEqt9Vq5Q",
        "colab": {
          "base_uri": "https://localhost:8080/",
          "height": 195
        },
        "outputId": "9e92466c-d593-455a-db4c-724bd476a561"
      },
      "source": [
        "confusion_matrix_dataframe = pd.DataFrame(confusion_matrix_final)\n",
        "confusion_matrix_dataframe.head()"
      ],
      "execution_count": null,
      "outputs": [
        {
          "output_type": "execute_result",
          "data": {
            "text/html": [
              "<div>\n",
              "<style scoped>\n",
              "    .dataframe tbody tr th:only-of-type {\n",
              "        vertical-align: middle;\n",
              "    }\n",
              "\n",
              "    .dataframe tbody tr th {\n",
              "        vertical-align: top;\n",
              "    }\n",
              "\n",
              "    .dataframe thead th {\n",
              "        text-align: right;\n",
              "    }\n",
              "</style>\n",
              "<table border=\"1\" class=\"dataframe\">\n",
              "  <thead>\n",
              "    <tr style=\"text-align: right;\">\n",
              "      <th></th>\n",
              "      <th>0</th>\n",
              "      <th>1</th>\n",
              "      <th>2</th>\n",
              "      <th>3</th>\n",
              "      <th>4</th>\n",
              "      <th>5</th>\n",
              "      <th>6</th>\n",
              "      <th>7</th>\n",
              "      <th>8</th>\n",
              "      <th>9</th>\n",
              "      <th>...</th>\n",
              "      <th>11</th>\n",
              "      <th>12</th>\n",
              "      <th>13</th>\n",
              "      <th>14</th>\n",
              "      <th>15</th>\n",
              "      <th>16</th>\n",
              "      <th>17</th>\n",
              "      <th>18</th>\n",
              "      <th>19</th>\n",
              "      <th>20</th>\n",
              "    </tr>\n",
              "  </thead>\n",
              "  <tbody>\n",
              "    <tr>\n",
              "      <th>0</th>\n",
              "      <td>528</td>\n",
              "      <td>0</td>\n",
              "      <td>0</td>\n",
              "      <td>0</td>\n",
              "      <td>0</td>\n",
              "      <td>0</td>\n",
              "      <td>0</td>\n",
              "      <td>0</td>\n",
              "      <td>0</td>\n",
              "      <td>0</td>\n",
              "      <td>...</td>\n",
              "      <td>0</td>\n",
              "      <td>0</td>\n",
              "      <td>0</td>\n",
              "      <td>0</td>\n",
              "      <td>0</td>\n",
              "      <td>0</td>\n",
              "      <td>0</td>\n",
              "      <td>0</td>\n",
              "      <td>0</td>\n",
              "      <td>1</td>\n",
              "    </tr>\n",
              "    <tr>\n",
              "      <th>1</th>\n",
              "      <td>0</td>\n",
              "      <td>42</td>\n",
              "      <td>0</td>\n",
              "      <td>2</td>\n",
              "      <td>0</td>\n",
              "      <td>2</td>\n",
              "      <td>0</td>\n",
              "      <td>0</td>\n",
              "      <td>0</td>\n",
              "      <td>0</td>\n",
              "      <td>...</td>\n",
              "      <td>0</td>\n",
              "      <td>2</td>\n",
              "      <td>0</td>\n",
              "      <td>0</td>\n",
              "      <td>0</td>\n",
              "      <td>0</td>\n",
              "      <td>0</td>\n",
              "      <td>0</td>\n",
              "      <td>0</td>\n",
              "      <td>2</td>\n",
              "    </tr>\n",
              "    <tr>\n",
              "      <th>2</th>\n",
              "      <td>0</td>\n",
              "      <td>0</td>\n",
              "      <td>9</td>\n",
              "      <td>0</td>\n",
              "      <td>1</td>\n",
              "      <td>0</td>\n",
              "      <td>0</td>\n",
              "      <td>0</td>\n",
              "      <td>0</td>\n",
              "      <td>0</td>\n",
              "      <td>...</td>\n",
              "      <td>0</td>\n",
              "      <td>0</td>\n",
              "      <td>0</td>\n",
              "      <td>0</td>\n",
              "      <td>0</td>\n",
              "      <td>0</td>\n",
              "      <td>0</td>\n",
              "      <td>0</td>\n",
              "      <td>0</td>\n",
              "      <td>1</td>\n",
              "    </tr>\n",
              "    <tr>\n",
              "      <th>3</th>\n",
              "      <td>0</td>\n",
              "      <td>0</td>\n",
              "      <td>0</td>\n",
              "      <td>4616</td>\n",
              "      <td>15</td>\n",
              "      <td>11</td>\n",
              "      <td>0</td>\n",
              "      <td>13</td>\n",
              "      <td>3</td>\n",
              "      <td>3</td>\n",
              "      <td>...</td>\n",
              "      <td>0</td>\n",
              "      <td>5</td>\n",
              "      <td>0</td>\n",
              "      <td>1</td>\n",
              "      <td>1</td>\n",
              "      <td>0</td>\n",
              "      <td>1</td>\n",
              "      <td>0</td>\n",
              "      <td>0</td>\n",
              "      <td>88</td>\n",
              "    </tr>\n",
              "    <tr>\n",
              "      <th>4</th>\n",
              "      <td>0</td>\n",
              "      <td>0</td>\n",
              "      <td>0</td>\n",
              "      <td>15</td>\n",
              "      <td>1403</td>\n",
              "      <td>11</td>\n",
              "      <td>0</td>\n",
              "      <td>3</td>\n",
              "      <td>4</td>\n",
              "      <td>0</td>\n",
              "      <td>...</td>\n",
              "      <td>0</td>\n",
              "      <td>0</td>\n",
              "      <td>0</td>\n",
              "      <td>8</td>\n",
              "      <td>0</td>\n",
              "      <td>0</td>\n",
              "      <td>0</td>\n",
              "      <td>0</td>\n",
              "      <td>1</td>\n",
              "      <td>31</td>\n",
              "    </tr>\n",
              "  </tbody>\n",
              "</table>\n",
              "<p>5 rows × 21 columns</p>\n",
              "</div>"
            ],
            "text/plain": [
              "    0   1   2     3     4   5   6   7   8   9   ...  11  12  13  14  15  16  \\\n",
              "0  528   0   0     0     0   0   0   0   0   0  ...   0   0   0   0   0   0   \n",
              "1    0  42   0     2     0   2   0   0   0   0  ...   0   2   0   0   0   0   \n",
              "2    0   0   9     0     1   0   0   0   0   0  ...   0   0   0   0   0   0   \n",
              "3    0   0   0  4616    15  11   0  13   3   3  ...   0   5   0   1   1   0   \n",
              "4    0   0   0    15  1403  11   0   3   4   0  ...   0   0   0   8   0   0   \n",
              "\n",
              "   17  18  19  20  \n",
              "0   0   0   0   1  \n",
              "1   0   0   0   2  \n",
              "2   0   0   0   1  \n",
              "3   1   0   0  88  \n",
              "4   0   0   1  31  \n",
              "\n",
              "[5 rows x 21 columns]"
            ]
          },
          "metadata": {
            "tags": []
          },
          "execution_count": 60
        }
      ]
    },
    {
      "cell_type": "code",
      "metadata": {
        "id": "2amOr0rBWxKF",
        "scrolled": true,
        "colab": {
          "base_uri": "https://localhost:8080/",
          "height": 195
        },
        "outputId": "6a4cc14c-83b2-4c7c-b5d8-93ea0eea9b7a"
      },
      "source": [
        "confusion_matrix_dataframe.reset_index(inplace=True)\n",
        "confusion_matrix_dataframe.head()"
      ],
      "execution_count": null,
      "outputs": [
        {
          "output_type": "execute_result",
          "data": {
            "text/html": [
              "<div>\n",
              "<style scoped>\n",
              "    .dataframe tbody tr th:only-of-type {\n",
              "        vertical-align: middle;\n",
              "    }\n",
              "\n",
              "    .dataframe tbody tr th {\n",
              "        vertical-align: top;\n",
              "    }\n",
              "\n",
              "    .dataframe thead th {\n",
              "        text-align: right;\n",
              "    }\n",
              "</style>\n",
              "<table border=\"1\" class=\"dataframe\">\n",
              "  <thead>\n",
              "    <tr style=\"text-align: right;\">\n",
              "      <th></th>\n",
              "      <th>index</th>\n",
              "      <th>0</th>\n",
              "      <th>1</th>\n",
              "      <th>2</th>\n",
              "      <th>3</th>\n",
              "      <th>4</th>\n",
              "      <th>5</th>\n",
              "      <th>6</th>\n",
              "      <th>7</th>\n",
              "      <th>8</th>\n",
              "      <th>...</th>\n",
              "      <th>11</th>\n",
              "      <th>12</th>\n",
              "      <th>13</th>\n",
              "      <th>14</th>\n",
              "      <th>15</th>\n",
              "      <th>16</th>\n",
              "      <th>17</th>\n",
              "      <th>18</th>\n",
              "      <th>19</th>\n",
              "      <th>20</th>\n",
              "    </tr>\n",
              "  </thead>\n",
              "  <tbody>\n",
              "    <tr>\n",
              "      <th>0</th>\n",
              "      <td>0</td>\n",
              "      <td>528</td>\n",
              "      <td>0</td>\n",
              "      <td>0</td>\n",
              "      <td>0</td>\n",
              "      <td>0</td>\n",
              "      <td>0</td>\n",
              "      <td>0</td>\n",
              "      <td>0</td>\n",
              "      <td>0</td>\n",
              "      <td>...</td>\n",
              "      <td>0</td>\n",
              "      <td>0</td>\n",
              "      <td>0</td>\n",
              "      <td>0</td>\n",
              "      <td>0</td>\n",
              "      <td>0</td>\n",
              "      <td>0</td>\n",
              "      <td>0</td>\n",
              "      <td>0</td>\n",
              "      <td>1</td>\n",
              "    </tr>\n",
              "    <tr>\n",
              "      <th>1</th>\n",
              "      <td>1</td>\n",
              "      <td>0</td>\n",
              "      <td>42</td>\n",
              "      <td>0</td>\n",
              "      <td>2</td>\n",
              "      <td>0</td>\n",
              "      <td>2</td>\n",
              "      <td>0</td>\n",
              "      <td>0</td>\n",
              "      <td>0</td>\n",
              "      <td>...</td>\n",
              "      <td>0</td>\n",
              "      <td>2</td>\n",
              "      <td>0</td>\n",
              "      <td>0</td>\n",
              "      <td>0</td>\n",
              "      <td>0</td>\n",
              "      <td>0</td>\n",
              "      <td>0</td>\n",
              "      <td>0</td>\n",
              "      <td>2</td>\n",
              "    </tr>\n",
              "    <tr>\n",
              "      <th>2</th>\n",
              "      <td>2</td>\n",
              "      <td>0</td>\n",
              "      <td>0</td>\n",
              "      <td>9</td>\n",
              "      <td>0</td>\n",
              "      <td>1</td>\n",
              "      <td>0</td>\n",
              "      <td>0</td>\n",
              "      <td>0</td>\n",
              "      <td>0</td>\n",
              "      <td>...</td>\n",
              "      <td>0</td>\n",
              "      <td>0</td>\n",
              "      <td>0</td>\n",
              "      <td>0</td>\n",
              "      <td>0</td>\n",
              "      <td>0</td>\n",
              "      <td>0</td>\n",
              "      <td>0</td>\n",
              "      <td>0</td>\n",
              "      <td>1</td>\n",
              "    </tr>\n",
              "    <tr>\n",
              "      <th>3</th>\n",
              "      <td>3</td>\n",
              "      <td>0</td>\n",
              "      <td>0</td>\n",
              "      <td>0</td>\n",
              "      <td>4616</td>\n",
              "      <td>15</td>\n",
              "      <td>11</td>\n",
              "      <td>0</td>\n",
              "      <td>13</td>\n",
              "      <td>3</td>\n",
              "      <td>...</td>\n",
              "      <td>0</td>\n",
              "      <td>5</td>\n",
              "      <td>0</td>\n",
              "      <td>1</td>\n",
              "      <td>1</td>\n",
              "      <td>0</td>\n",
              "      <td>1</td>\n",
              "      <td>0</td>\n",
              "      <td>0</td>\n",
              "      <td>88</td>\n",
              "    </tr>\n",
              "    <tr>\n",
              "      <th>4</th>\n",
              "      <td>4</td>\n",
              "      <td>0</td>\n",
              "      <td>0</td>\n",
              "      <td>0</td>\n",
              "      <td>15</td>\n",
              "      <td>1403</td>\n",
              "      <td>11</td>\n",
              "      <td>0</td>\n",
              "      <td>3</td>\n",
              "      <td>4</td>\n",
              "      <td>...</td>\n",
              "      <td>0</td>\n",
              "      <td>0</td>\n",
              "      <td>0</td>\n",
              "      <td>8</td>\n",
              "      <td>0</td>\n",
              "      <td>0</td>\n",
              "      <td>0</td>\n",
              "      <td>0</td>\n",
              "      <td>1</td>\n",
              "      <td>31</td>\n",
              "    </tr>\n",
              "  </tbody>\n",
              "</table>\n",
              "<p>5 rows × 22 columns</p>\n",
              "</div>"
            ],
            "text/plain": [
              "   index    0   1  2     3     4   5  6   7  8  ...  11  12  13  14  15  16  \\\n",
              "0      0  528   0  0     0     0   0  0   0  0  ...   0   0   0   0   0   0   \n",
              "1      1    0  42  0     2     0   2  0   0  0  ...   0   2   0   0   0   0   \n",
              "2      2    0   0  9     0     1   0  0   0  0  ...   0   0   0   0   0   0   \n",
              "3      3    0   0  0  4616    15  11  0  13  3  ...   0   5   0   1   1   0   \n",
              "4      4    0   0  0    15  1403  11  0   3  4  ...   0   0   0   8   0   0   \n",
              "\n",
              "   17  18  19  20  \n",
              "0   0   0   0   1  \n",
              "1   0   0   0   2  \n",
              "2   0   0   0   1  \n",
              "3   1   0   0  88  \n",
              "4   0   0   1  31  \n",
              "\n",
              "[5 rows x 22 columns]"
            ]
          },
          "metadata": {
            "tags": []
          },
          "execution_count": 61
        }
      ]
    },
    {
      "cell_type": "code",
      "metadata": {
        "id": "ZqFPnyQeXCxC"
      },
      "source": [
        "confusion_matrix_dataframe= confusion_matrix_dataframe.replace({\"index\": label_dict})\n",
        "confusion_matrix_dataframe = confusion_matrix_dataframe.set_index('index')"
      ],
      "execution_count": null,
      "outputs": []
    },
    {
      "cell_type": "code",
      "metadata": {
        "id": "2rWIbTNtXNGf"
      },
      "source": [
        "confusion_matrix_dataframe.columns = [label_dict[x] for x in confusion_matrix_dataframe.columns]"
      ],
      "execution_count": null,
      "outputs": []
    },
    {
      "cell_type": "code",
      "metadata": {
        "id": "IG-Zm4AGYufq",
        "colab": {
          "base_uri": "https://localhost:8080/",
          "height": 698
        },
        "outputId": "621bbfb8-51eb-49e7-d437-1c4722e6cb44"
      },
      "source": [
        "confusion_matrix_dataframe"
      ],
      "execution_count": null,
      "outputs": [
        {
          "output_type": "execute_result",
          "data": {
            "text/html": [
              "<div>\n",
              "<style scoped>\n",
              "    .dataframe tbody tr th:only-of-type {\n",
              "        vertical-align: middle;\n",
              "    }\n",
              "\n",
              "    .dataframe tbody tr th {\n",
              "        vertical-align: top;\n",
              "    }\n",
              "\n",
              "    .dataframe thead th {\n",
              "        text-align: right;\n",
              "    }\n",
              "</style>\n",
              "<table border=\"1\" class=\"dataframe\">\n",
              "  <thead>\n",
              "    <tr style=\"text-align: right;\">\n",
              "      <th></th>\n",
              "      <th>ar</th>\n",
              "      <th>de</th>\n",
              "      <th>el</th>\n",
              "      <th>en</th>\n",
              "      <th>es</th>\n",
              "      <th>fr</th>\n",
              "      <th>he</th>\n",
              "      <th>id</th>\n",
              "      <th>it</th>\n",
              "      <th>ja</th>\n",
              "      <th>...</th>\n",
              "      <th>ms</th>\n",
              "      <th>nl</th>\n",
              "      <th>pl</th>\n",
              "      <th>pt</th>\n",
              "      <th>ru</th>\n",
              "      <th>sv</th>\n",
              "      <th>th</th>\n",
              "      <th>tl</th>\n",
              "      <th>tr</th>\n",
              "      <th>und</th>\n",
              "    </tr>\n",
              "    <tr>\n",
              "      <th>index</th>\n",
              "      <th></th>\n",
              "      <th></th>\n",
              "      <th></th>\n",
              "      <th></th>\n",
              "      <th></th>\n",
              "      <th></th>\n",
              "      <th></th>\n",
              "      <th></th>\n",
              "      <th></th>\n",
              "      <th></th>\n",
              "      <th></th>\n",
              "      <th></th>\n",
              "      <th></th>\n",
              "      <th></th>\n",
              "      <th></th>\n",
              "      <th></th>\n",
              "      <th></th>\n",
              "      <th></th>\n",
              "      <th></th>\n",
              "      <th></th>\n",
              "      <th></th>\n",
              "    </tr>\n",
              "  </thead>\n",
              "  <tbody>\n",
              "    <tr>\n",
              "      <th>ar</th>\n",
              "      <td>528</td>\n",
              "      <td>0</td>\n",
              "      <td>0</td>\n",
              "      <td>0</td>\n",
              "      <td>0</td>\n",
              "      <td>0</td>\n",
              "      <td>0</td>\n",
              "      <td>0</td>\n",
              "      <td>0</td>\n",
              "      <td>0</td>\n",
              "      <td>...</td>\n",
              "      <td>0</td>\n",
              "      <td>0</td>\n",
              "      <td>0</td>\n",
              "      <td>0</td>\n",
              "      <td>0</td>\n",
              "      <td>0</td>\n",
              "      <td>0</td>\n",
              "      <td>0</td>\n",
              "      <td>0</td>\n",
              "      <td>1</td>\n",
              "    </tr>\n",
              "    <tr>\n",
              "      <th>de</th>\n",
              "      <td>0</td>\n",
              "      <td>42</td>\n",
              "      <td>0</td>\n",
              "      <td>2</td>\n",
              "      <td>0</td>\n",
              "      <td>2</td>\n",
              "      <td>0</td>\n",
              "      <td>0</td>\n",
              "      <td>0</td>\n",
              "      <td>0</td>\n",
              "      <td>...</td>\n",
              "      <td>0</td>\n",
              "      <td>2</td>\n",
              "      <td>0</td>\n",
              "      <td>0</td>\n",
              "      <td>0</td>\n",
              "      <td>0</td>\n",
              "      <td>0</td>\n",
              "      <td>0</td>\n",
              "      <td>0</td>\n",
              "      <td>2</td>\n",
              "    </tr>\n",
              "    <tr>\n",
              "      <th>el</th>\n",
              "      <td>0</td>\n",
              "      <td>0</td>\n",
              "      <td>9</td>\n",
              "      <td>0</td>\n",
              "      <td>1</td>\n",
              "      <td>0</td>\n",
              "      <td>0</td>\n",
              "      <td>0</td>\n",
              "      <td>0</td>\n",
              "      <td>0</td>\n",
              "      <td>...</td>\n",
              "      <td>0</td>\n",
              "      <td>0</td>\n",
              "      <td>0</td>\n",
              "      <td>0</td>\n",
              "      <td>0</td>\n",
              "      <td>0</td>\n",
              "      <td>0</td>\n",
              "      <td>0</td>\n",
              "      <td>0</td>\n",
              "      <td>1</td>\n",
              "    </tr>\n",
              "    <tr>\n",
              "      <th>en</th>\n",
              "      <td>0</td>\n",
              "      <td>0</td>\n",
              "      <td>0</td>\n",
              "      <td>4616</td>\n",
              "      <td>15</td>\n",
              "      <td>11</td>\n",
              "      <td>0</td>\n",
              "      <td>13</td>\n",
              "      <td>3</td>\n",
              "      <td>3</td>\n",
              "      <td>...</td>\n",
              "      <td>0</td>\n",
              "      <td>5</td>\n",
              "      <td>0</td>\n",
              "      <td>1</td>\n",
              "      <td>1</td>\n",
              "      <td>0</td>\n",
              "      <td>1</td>\n",
              "      <td>0</td>\n",
              "      <td>0</td>\n",
              "      <td>88</td>\n",
              "    </tr>\n",
              "    <tr>\n",
              "      <th>es</th>\n",
              "      <td>0</td>\n",
              "      <td>0</td>\n",
              "      <td>0</td>\n",
              "      <td>15</td>\n",
              "      <td>1403</td>\n",
              "      <td>11</td>\n",
              "      <td>0</td>\n",
              "      <td>3</td>\n",
              "      <td>4</td>\n",
              "      <td>0</td>\n",
              "      <td>...</td>\n",
              "      <td>0</td>\n",
              "      <td>0</td>\n",
              "      <td>0</td>\n",
              "      <td>8</td>\n",
              "      <td>0</td>\n",
              "      <td>0</td>\n",
              "      <td>0</td>\n",
              "      <td>0</td>\n",
              "      <td>1</td>\n",
              "      <td>31</td>\n",
              "    </tr>\n",
              "    <tr>\n",
              "      <th>fr</th>\n",
              "      <td>0</td>\n",
              "      <td>0</td>\n",
              "      <td>0</td>\n",
              "      <td>14</td>\n",
              "      <td>5</td>\n",
              "      <td>196</td>\n",
              "      <td>0</td>\n",
              "      <td>1</td>\n",
              "      <td>0</td>\n",
              "      <td>0</td>\n",
              "      <td>...</td>\n",
              "      <td>0</td>\n",
              "      <td>2</td>\n",
              "      <td>0</td>\n",
              "      <td>0</td>\n",
              "      <td>0</td>\n",
              "      <td>0</td>\n",
              "      <td>0</td>\n",
              "      <td>0</td>\n",
              "      <td>0</td>\n",
              "      <td>6</td>\n",
              "    </tr>\n",
              "    <tr>\n",
              "      <th>he</th>\n",
              "      <td>0</td>\n",
              "      <td>0</td>\n",
              "      <td>0</td>\n",
              "      <td>0</td>\n",
              "      <td>0</td>\n",
              "      <td>0</td>\n",
              "      <td>13</td>\n",
              "      <td>0</td>\n",
              "      <td>0</td>\n",
              "      <td>0</td>\n",
              "      <td>...</td>\n",
              "      <td>0</td>\n",
              "      <td>0</td>\n",
              "      <td>0</td>\n",
              "      <td>0</td>\n",
              "      <td>0</td>\n",
              "      <td>0</td>\n",
              "      <td>0</td>\n",
              "      <td>0</td>\n",
              "      <td>0</td>\n",
              "      <td>1</td>\n",
              "    </tr>\n",
              "    <tr>\n",
              "      <th>id</th>\n",
              "      <td>0</td>\n",
              "      <td>0</td>\n",
              "      <td>0</td>\n",
              "      <td>24</td>\n",
              "      <td>2</td>\n",
              "      <td>4</td>\n",
              "      <td>0</td>\n",
              "      <td>730</td>\n",
              "      <td>0</td>\n",
              "      <td>1</td>\n",
              "      <td>...</td>\n",
              "      <td>7</td>\n",
              "      <td>2</td>\n",
              "      <td>0</td>\n",
              "      <td>1</td>\n",
              "      <td>0</td>\n",
              "      <td>0</td>\n",
              "      <td>1</td>\n",
              "      <td>5</td>\n",
              "      <td>0</td>\n",
              "      <td>39</td>\n",
              "    </tr>\n",
              "    <tr>\n",
              "      <th>it</th>\n",
              "      <td>0</td>\n",
              "      <td>0</td>\n",
              "      <td>0</td>\n",
              "      <td>2</td>\n",
              "      <td>6</td>\n",
              "      <td>1</td>\n",
              "      <td>0</td>\n",
              "      <td>0</td>\n",
              "      <td>63</td>\n",
              "      <td>0</td>\n",
              "      <td>...</td>\n",
              "      <td>0</td>\n",
              "      <td>0</td>\n",
              "      <td>0</td>\n",
              "      <td>1</td>\n",
              "      <td>0</td>\n",
              "      <td>0</td>\n",
              "      <td>0</td>\n",
              "      <td>0</td>\n",
              "      <td>0</td>\n",
              "      <td>3</td>\n",
              "    </tr>\n",
              "    <tr>\n",
              "      <th>ja</th>\n",
              "      <td>0</td>\n",
              "      <td>0</td>\n",
              "      <td>0</td>\n",
              "      <td>3</td>\n",
              "      <td>0</td>\n",
              "      <td>0</td>\n",
              "      <td>0</td>\n",
              "      <td>0</td>\n",
              "      <td>0</td>\n",
              "      <td>2463</td>\n",
              "      <td>...</td>\n",
              "      <td>0</td>\n",
              "      <td>0</td>\n",
              "      <td>1</td>\n",
              "      <td>0</td>\n",
              "      <td>0</td>\n",
              "      <td>0</td>\n",
              "      <td>0</td>\n",
              "      <td>0</td>\n",
              "      <td>0</td>\n",
              "      <td>9</td>\n",
              "    </tr>\n",
              "    <tr>\n",
              "      <th>ko</th>\n",
              "      <td>0</td>\n",
              "      <td>0</td>\n",
              "      <td>0</td>\n",
              "      <td>0</td>\n",
              "      <td>0</td>\n",
              "      <td>0</td>\n",
              "      <td>0</td>\n",
              "      <td>0</td>\n",
              "      <td>0</td>\n",
              "      <td>0</td>\n",
              "      <td>...</td>\n",
              "      <td>0</td>\n",
              "      <td>0</td>\n",
              "      <td>0</td>\n",
              "      <td>0</td>\n",
              "      <td>0</td>\n",
              "      <td>0</td>\n",
              "      <td>0</td>\n",
              "      <td>0</td>\n",
              "      <td>0</td>\n",
              "      <td>2</td>\n",
              "    </tr>\n",
              "    <tr>\n",
              "      <th>ms</th>\n",
              "      <td>0</td>\n",
              "      <td>0</td>\n",
              "      <td>0</td>\n",
              "      <td>2</td>\n",
              "      <td>0</td>\n",
              "      <td>0</td>\n",
              "      <td>0</td>\n",
              "      <td>21</td>\n",
              "      <td>0</td>\n",
              "      <td>0</td>\n",
              "      <td>...</td>\n",
              "      <td>5</td>\n",
              "      <td>1</td>\n",
              "      <td>0</td>\n",
              "      <td>0</td>\n",
              "      <td>0</td>\n",
              "      <td>0</td>\n",
              "      <td>0</td>\n",
              "      <td>1</td>\n",
              "      <td>1</td>\n",
              "      <td>0</td>\n",
              "    </tr>\n",
              "    <tr>\n",
              "      <th>nl</th>\n",
              "      <td>0</td>\n",
              "      <td>0</td>\n",
              "      <td>0</td>\n",
              "      <td>4</td>\n",
              "      <td>0</td>\n",
              "      <td>5</td>\n",
              "      <td>0</td>\n",
              "      <td>0</td>\n",
              "      <td>0</td>\n",
              "      <td>0</td>\n",
              "      <td>...</td>\n",
              "      <td>0</td>\n",
              "      <td>32</td>\n",
              "      <td>0</td>\n",
              "      <td>0</td>\n",
              "      <td>0</td>\n",
              "      <td>0</td>\n",
              "      <td>0</td>\n",
              "      <td>0</td>\n",
              "      <td>0</td>\n",
              "      <td>2</td>\n",
              "    </tr>\n",
              "    <tr>\n",
              "      <th>pl</th>\n",
              "      <td>1</td>\n",
              "      <td>1</td>\n",
              "      <td>0</td>\n",
              "      <td>4</td>\n",
              "      <td>0</td>\n",
              "      <td>0</td>\n",
              "      <td>0</td>\n",
              "      <td>0</td>\n",
              "      <td>0</td>\n",
              "      <td>0</td>\n",
              "      <td>...</td>\n",
              "      <td>0</td>\n",
              "      <td>0</td>\n",
              "      <td>16</td>\n",
              "      <td>0</td>\n",
              "      <td>0</td>\n",
              "      <td>0</td>\n",
              "      <td>0</td>\n",
              "      <td>0</td>\n",
              "      <td>0</td>\n",
              "      <td>4</td>\n",
              "    </tr>\n",
              "    <tr>\n",
              "      <th>pt</th>\n",
              "      <td>0</td>\n",
              "      <td>0</td>\n",
              "      <td>0</td>\n",
              "      <td>23</td>\n",
              "      <td>39</td>\n",
              "      <td>20</td>\n",
              "      <td>0</td>\n",
              "      <td>3</td>\n",
              "      <td>5</td>\n",
              "      <td>0</td>\n",
              "      <td>...</td>\n",
              "      <td>0</td>\n",
              "      <td>0</td>\n",
              "      <td>0</td>\n",
              "      <td>584</td>\n",
              "      <td>0</td>\n",
              "      <td>0</td>\n",
              "      <td>0</td>\n",
              "      <td>0</td>\n",
              "      <td>1</td>\n",
              "      <td>24</td>\n",
              "    </tr>\n",
              "    <tr>\n",
              "      <th>ru</th>\n",
              "      <td>0</td>\n",
              "      <td>0</td>\n",
              "      <td>0</td>\n",
              "      <td>0</td>\n",
              "      <td>0</td>\n",
              "      <td>0</td>\n",
              "      <td>0</td>\n",
              "      <td>0</td>\n",
              "      <td>0</td>\n",
              "      <td>0</td>\n",
              "      <td>...</td>\n",
              "      <td>0</td>\n",
              "      <td>0</td>\n",
              "      <td>0</td>\n",
              "      <td>0</td>\n",
              "      <td>242</td>\n",
              "      <td>0</td>\n",
              "      <td>0</td>\n",
              "      <td>0</td>\n",
              "      <td>0</td>\n",
              "      <td>1</td>\n",
              "    </tr>\n",
              "    <tr>\n",
              "      <th>sv</th>\n",
              "      <td>0</td>\n",
              "      <td>3</td>\n",
              "      <td>0</td>\n",
              "      <td>3</td>\n",
              "      <td>0</td>\n",
              "      <td>0</td>\n",
              "      <td>0</td>\n",
              "      <td>0</td>\n",
              "      <td>0</td>\n",
              "      <td>0</td>\n",
              "      <td>...</td>\n",
              "      <td>0</td>\n",
              "      <td>1</td>\n",
              "      <td>0</td>\n",
              "      <td>0</td>\n",
              "      <td>0</td>\n",
              "      <td>7</td>\n",
              "      <td>0</td>\n",
              "      <td>0</td>\n",
              "      <td>0</td>\n",
              "      <td>1</td>\n",
              "    </tr>\n",
              "    <tr>\n",
              "      <th>th</th>\n",
              "      <td>0</td>\n",
              "      <td>0</td>\n",
              "      <td>0</td>\n",
              "      <td>0</td>\n",
              "      <td>0</td>\n",
              "      <td>0</td>\n",
              "      <td>0</td>\n",
              "      <td>0</td>\n",
              "      <td>0</td>\n",
              "      <td>1</td>\n",
              "      <td>...</td>\n",
              "      <td>0</td>\n",
              "      <td>0</td>\n",
              "      <td>0</td>\n",
              "      <td>0</td>\n",
              "      <td>0</td>\n",
              "      <td>0</td>\n",
              "      <td>96</td>\n",
              "      <td>0</td>\n",
              "      <td>0</td>\n",
              "      <td>0</td>\n",
              "    </tr>\n",
              "    <tr>\n",
              "      <th>tl</th>\n",
              "      <td>0</td>\n",
              "      <td>0</td>\n",
              "      <td>0</td>\n",
              "      <td>18</td>\n",
              "      <td>2</td>\n",
              "      <td>0</td>\n",
              "      <td>0</td>\n",
              "      <td>6</td>\n",
              "      <td>0</td>\n",
              "      <td>0</td>\n",
              "      <td>...</td>\n",
              "      <td>0</td>\n",
              "      <td>0</td>\n",
              "      <td>0</td>\n",
              "      <td>1</td>\n",
              "      <td>0</td>\n",
              "      <td>0</td>\n",
              "      <td>0</td>\n",
              "      <td>54</td>\n",
              "      <td>0</td>\n",
              "      <td>8</td>\n",
              "    </tr>\n",
              "    <tr>\n",
              "      <th>tr</th>\n",
              "      <td>0</td>\n",
              "      <td>0</td>\n",
              "      <td>0</td>\n",
              "      <td>3</td>\n",
              "      <td>0</td>\n",
              "      <td>0</td>\n",
              "      <td>0</td>\n",
              "      <td>5</td>\n",
              "      <td>0</td>\n",
              "      <td>0</td>\n",
              "      <td>...</td>\n",
              "      <td>0</td>\n",
              "      <td>1</td>\n",
              "      <td>0</td>\n",
              "      <td>1</td>\n",
              "      <td>0</td>\n",
              "      <td>0</td>\n",
              "      <td>0</td>\n",
              "      <td>0</td>\n",
              "      <td>158</td>\n",
              "      <td>6</td>\n",
              "    </tr>\n",
              "    <tr>\n",
              "      <th>und</th>\n",
              "      <td>9</td>\n",
              "      <td>1</td>\n",
              "      <td>0</td>\n",
              "      <td>211</td>\n",
              "      <td>65</td>\n",
              "      <td>20</td>\n",
              "      <td>0</td>\n",
              "      <td>78</td>\n",
              "      <td>5</td>\n",
              "      <td>16</td>\n",
              "      <td>...</td>\n",
              "      <td>4</td>\n",
              "      <td>4</td>\n",
              "      <td>2</td>\n",
              "      <td>15</td>\n",
              "      <td>6</td>\n",
              "      <td>0</td>\n",
              "      <td>2</td>\n",
              "      <td>2</td>\n",
              "      <td>7</td>\n",
              "      <td>560</td>\n",
              "    </tr>\n",
              "  </tbody>\n",
              "</table>\n",
              "<p>21 rows × 21 columns</p>\n",
              "</div>"
            ],
            "text/plain": [
              "        ar  de  el    en    es   fr  he   id  it    ja  ...  ms  nl  pl   pt  \\\n",
              "index                                                   ...                    \n",
              "ar     528   0   0     0     0    0   0    0   0     0  ...   0   0   0    0   \n",
              "de       0  42   0     2     0    2   0    0   0     0  ...   0   2   0    0   \n",
              "el       0   0   9     0     1    0   0    0   0     0  ...   0   0   0    0   \n",
              "en       0   0   0  4616    15   11   0   13   3     3  ...   0   5   0    1   \n",
              "es       0   0   0    15  1403   11   0    3   4     0  ...   0   0   0    8   \n",
              "fr       0   0   0    14     5  196   0    1   0     0  ...   0   2   0    0   \n",
              "he       0   0   0     0     0    0  13    0   0     0  ...   0   0   0    0   \n",
              "id       0   0   0    24     2    4   0  730   0     1  ...   7   2   0    1   \n",
              "it       0   0   0     2     6    1   0    0  63     0  ...   0   0   0    1   \n",
              "ja       0   0   0     3     0    0   0    0   0  2463  ...   0   0   1    0   \n",
              "ko       0   0   0     0     0    0   0    0   0     0  ...   0   0   0    0   \n",
              "ms       0   0   0     2     0    0   0   21   0     0  ...   5   1   0    0   \n",
              "nl       0   0   0     4     0    5   0    0   0     0  ...   0  32   0    0   \n",
              "pl       1   1   0     4     0    0   0    0   0     0  ...   0   0  16    0   \n",
              "pt       0   0   0    23    39   20   0    3   5     0  ...   0   0   0  584   \n",
              "ru       0   0   0     0     0    0   0    0   0     0  ...   0   0   0    0   \n",
              "sv       0   3   0     3     0    0   0    0   0     0  ...   0   1   0    0   \n",
              "th       0   0   0     0     0    0   0    0   0     1  ...   0   0   0    0   \n",
              "tl       0   0   0    18     2    0   0    6   0     0  ...   0   0   0    1   \n",
              "tr       0   0   0     3     0    0   0    5   0     0  ...   0   1   0    1   \n",
              "und      9   1   0   211    65   20   0   78   5    16  ...   4   4   2   15   \n",
              "\n",
              "        ru  sv  th  tl   tr  und  \n",
              "index                             \n",
              "ar       0   0   0   0    0    1  \n",
              "de       0   0   0   0    0    2  \n",
              "el       0   0   0   0    0    1  \n",
              "en       1   0   1   0    0   88  \n",
              "es       0   0   0   0    1   31  \n",
              "fr       0   0   0   0    0    6  \n",
              "he       0   0   0   0    0    1  \n",
              "id       0   0   1   5    0   39  \n",
              "it       0   0   0   0    0    3  \n",
              "ja       0   0   0   0    0    9  \n",
              "ko       0   0   0   0    0    2  \n",
              "ms       0   0   0   1    1    0  \n",
              "nl       0   0   0   0    0    2  \n",
              "pl       0   0   0   0    0    4  \n",
              "pt       0   0   0   0    1   24  \n",
              "ru     242   0   0   0    0    1  \n",
              "sv       0   7   0   0    0    1  \n",
              "th       0   0  96   0    0    0  \n",
              "tl       0   0   0  54    0    8  \n",
              "tr       0   0   0   0  158    6  \n",
              "und      6   0   2   2    7  560  \n",
              "\n",
              "[21 rows x 21 columns]"
            ]
          },
          "metadata": {
            "tags": []
          },
          "execution_count": 64
        }
      ]
    },
    {
      "cell_type": "markdown",
      "metadata": {
        "id": "tfA_IbiBZ7yb"
      },
      "source": [
        "### Heatmap for Confusion matrix"
      ]
    },
    {
      "cell_type": "code",
      "metadata": {
        "id": "VV3z9P4tZ7yb"
      },
      "source": [
        "import seaborn as sn"
      ],
      "execution_count": null,
      "outputs": []
    },
    {
      "cell_type": "code",
      "metadata": {
        "id": "S-IJsDo9hWTd",
        "colab": {
          "base_uri": "https://localhost:8080/",
          "height": 942
        },
        "outputId": "6d80116c-a3ee-43e8-e8de-695abc2b821b"
      },
      "source": [
        "plt.figure(figsize = (50, 30))\n",
        "sn.set(font_scale=2) \n",
        "sn.heatmap(confusion_matrix_dataframe, annot=True, annot_kws={\"size\": 20}, fmt='.4g')"
      ],
      "execution_count": null,
      "outputs": [
        {
          "output_type": "execute_result",
          "data": {
            "text/plain": [
              "<AxesSubplot:ylabel='index'>"
            ]
          },
          "metadata": {
            "tags": []
          },
          "execution_count": 67
        },
        {
          "output_type": "display_data",
          "data": {
            "image/png": "[encoded data removed]",
            "text/plain": [
              "<Figure size 3600x2160 with 2 Axes>"
            ]
          },
          "metadata": {
            "tags": [],
            "needs_background": "light"
          }
        }
      ]
    },
    {
      "cell_type": "markdown",
      "metadata": {
        "id": "BdfkWMTBZ7yd"
      },
      "source": [
        "## Plotting correlation between Hyperparameters from Talos dataframe"
      ]
    },
    {
      "cell_type": "markdown",
      "metadata": {
        "id": "qvonxmO5ca81"
      },
      "source": [
        "##### Creating a dataframe from talos object and filtering hyperaparameter subset from it"
      ]
    },
    {
      "cell_type": "code",
      "metadata": {
        "id": "xBHOZMN2cbR4"
      },
      "source": [
        "params_df = t.data\n",
        "params_df = params_df[['batch_size','dropout', 'filters','hidden_dims', 'kernel_size', 'learning_rate','optimizer','pooling','strides']]"
      ],
      "execution_count": null,
      "outputs": []
    },
    {
      "cell_type": "code",
      "metadata": {
        "id": "y7Wq3idFcbVB"
      },
      "source": [
        "# changing pooling to a single value since only 1 pooling type used in Talos Scan\n",
        "params_df['pooling'] = 1"
      ],
      "execution_count": null,
      "outputs": []
    },
    {
      "cell_type": "code",
      "metadata": {
        "id": "y8mZGSu2cbry"
      },
      "source": [
        "# function to replace values in the optimizer column with indexes\n",
        "def replace_optim(x):\n",
        "  if x == 'Adam':\n",
        "    return 0\n",
        "  else:\n",
        "    return 1"
      ],
      "execution_count": null,
      "outputs": []
    },
    {
      "cell_type": "code",
      "metadata": {
        "id": "8jYprMGxej57"
      },
      "source": [
        "# applying function to change values of optimizer to indexes and dropping old optimizer column\n",
        "params_df['optimizer_num'] = params_df['optimizer'].apply(replace_optim)\n",
        "params_df.drop(columns='optimizer', inplace=True, axis=1)"
      ],
      "execution_count": null,
      "outputs": []
    },
    {
      "cell_type": "code",
      "metadata": {
        "id": "X_lf3zz6eyLd",
        "scrolled": true,
        "colab": {
          "base_uri": "https://localhost:8080/",
          "height": 617
        },
        "outputId": "ef7ce99d-2fc7-4c64-919b-522d44e8fae3"
      },
      "source": [
        "# plotting correlation plot for hyperparameters\n",
        "plt.rcParams['figure.figsize'] = (15.0, 10.0)\n",
        "sn.heatmap(params_df.corr(), annot = True,cmap= 'coolwarm', fmt='.1g')"
      ],
      "execution_count": null,
      "outputs": [
        {
          "output_type": "execute_result",
          "data": {
            "text/plain": [
              "<AxesSubplot:>"
            ]
          },
          "metadata": {
            "tags": []
          },
          "execution_count": 73
        },
        {
          "output_type": "display_data",
          "data": {
            "image/png": "[encoded data removed]",
            "text/plain": [
              "<Figure size 1080x720 with 2 Axes>"
            ]
          },
          "metadata": {
            "tags": []
          }
        }
      ]
    },
    {
      "cell_type": "code",
      "metadata": {
        "id": "cSmMVnyMZ7yj"
      },
      "source": [
        ""
      ],
      "execution_count": null,
      "outputs": []
    }
  ]
}