{
  "nbformat": 4,
  "nbformat_minor": 0,
  "metadata": {
    "colab": {
      "name": "ex03_cnn_final",
      "provenance": [],
      "collapsed_sections": [
        "1XVsAdL26At4",
        "kbbiUTk_6D5y",
        "zu03PG2b6Gz6",
        "ZoJ6DIns6JaR"
      ]
    },
    "kernelspec": {
      "name": "python3",
      "display_name": "Python 3"
    },
    "accelerator": "GPU"
  },
  "cells": [
    {
      "cell_type": "markdown",
      "metadata": {
        "id": "I2Pocwx70WEo"
      },
      "source": [
        "# Exercise 3 - CNN for language classification"
      ]
    },
    {
      "cell_type": "code",
      "metadata": {
        "id": "uw3hMp1D-lyq",
        "outputId": "7d71fbe6-a67a-4aab-8fea-29001e9efc10",
        "colab": {
          "base_uri": "https://localhost:8080/"
        }
      },
      "source": [
        "import csv\n",
        "import re\n",
        "\n",
        "import numpy as np\n",
        "import pandas as pd\n",
        "\n",
        "from io import StringIO\n",
        "import requests\n",
        "import pandas as pd\n",
        "import numpy as np\n",
        "import re\n",
        "import bisect\n",
        "\n",
        "import torch\n",
        "from torch.utils.data import Dataset, DataLoader\n",
        "import torch.nn as nn\n",
        "import torch.nn.functional as F\n",
        "import torch.optim as optim\n",
        "\n",
        "from sklearn.model_selection import train_test_split\n",
        "\n",
        "from collections import Counter\n",
        "\n",
        "\n",
        "from sklearn.utils import resample\n",
        "\n",
        "from tqdm.notebook import tqdm\n",
        "\n",
        "torch.manual_seed(1)"
      ],
      "execution_count": null,
      "outputs": [
        {
          "output_type": "execute_result",
          "data": {
            "text/plain": [
              "<torch._C.Generator at 0x7f09f85a3a38>"
            ]
          },
          "metadata": {
            "tags": []
          },
          "execution_count": 1
        }
      ]
    },
    {
      "cell_type": "code",
      "metadata": {
        "id": "beluhFMfCeB5"
      },
      "source": [
        "from tensorflow.keras import layers, models\n",
        "from tensorflow import keras \n",
        "import tensorflow as tf\n",
        "import matplotlib.pyplot as plt\n",
        "from sklearn.preprocessing import OneHotEncoder"
      ],
      "execution_count": null,
      "outputs": []
    },
    {
      "cell_type": "code",
      "metadata": {
        "id": "ctgR798REMmI",
        "outputId": "599c09e1-f2da-4439-a8bf-33c38aa5ae74",
        "colab": {
          "base_uri": "https://localhost:8080/"
        }
      },
      "source": [
        "from sklearn.preprocessing import LabelEncoder\n",
        "import nltk\n",
        "import math\n",
        "from nltk.tokenize import word_tokenize\n",
        "!pip install emoji\n",
        "import emoji\n",
        "nltk.download('punkt')"
      ],
      "execution_count": null,
      "outputs": [
        {
          "output_type": "stream",
          "text": [
            "Collecting emoji\n",
            "\u001b[?25l  Downloading https://files.pythonhosted.org/packages/ff/1c/1f1457fe52d0b30cbeebfd578483cedb3e3619108d2d5a21380dfecf8ffd/emoji-0.6.0.tar.gz (51kB)\n",
            "\r\u001b[K     |██████▍                         | 10kB 29.2MB/s eta 0:00:01\r\u001b[K     |████████████▉                   | 20kB 2.1MB/s eta 0:00:01\r\u001b[K     |███████████████████▎            | 30kB 2.7MB/s eta 0:00:01\r\u001b[K     |█████████████████████████▊      | 40kB 3.0MB/s eta 0:00:01\r\u001b[K     |████████████████████████████████| 51kB 2.0MB/s \n",
            "\u001b[?25hBuilding wheels for collected packages: emoji\n",
            "  Building wheel for emoji (setup.py) ... \u001b[?25l\u001b[?25hdone\n",
            "  Created wheel for emoji: filename=emoji-0.6.0-cp36-none-any.whl size=49716 sha256=6044d64ba738c03e8f3d4dc19734f50c137855b254393f33379c4dcc7be24090\n",
            "  Stored in directory: /root/.cache/pip/wheels/46/2c/8b/9dcf5216ca68e14e0320e283692dce8ae321cdc01e73e17796\n",
            "Successfully built emoji\n",
            "Installing collected packages: emoji\n",
            "Successfully installed emoji-0.6.0\n",
            "[nltk_data] Downloading package punkt to /root/nltk_data...\n",
            "[nltk_data]   Unzipping tokenizers/punkt.zip.\n"
          ],
          "name": "stdout"
        },
        {
          "output_type": "execute_result",
          "data": {
            "text/plain": [
              "True"
            ]
          },
          "metadata": {
            "tags": []
          },
          "execution_count": 3
        }
      ]
    },
    {
      "cell_type": "markdown",
      "metadata": {
        "id": "4ptZdmGz1D68"
      },
      "source": [
        "# Preprocessing the data"
      ]
    },
    {
      "cell_type": "code",
      "metadata": {
        "id": "tBfJ8WAeEI49"
      },
      "source": [
        "url_train_dev = 'https://docs.google.com/spreadsheets/d/e/2PACX-1vTOZ2rC82rhNsJduoyKYTsVeH6ukd7Bpxvxn_afOibn3R-eadZGXu82eCU9IRpl4CK_gefEGsYrA_oM/pub?gid=1863430984&single=true&output=tsv'\n",
        "url_test = 'https://docs.google.com/spreadsheets/d/e/2PACX-1vT-KNR9nuYatLkSbzSRgpz6Ku1n4TN4w6kKmFLkA6QJHTfQzmX0puBsLF7PAAQJQAxUpgruDd_RRgK7/pub?gid=417546901&single=true&output=tsv'"
      ],
      "execution_count": null,
      "outputs": []
    },
    {
      "cell_type": "code",
      "metadata": {
        "id": "vFKlvxld2kG2"
      },
      "source": [
        "def load_dataset(url):\n",
        "    r = requests.get(url)\n",
        "    data = r.content.decode('utf8')\n",
        "    df = pd.read_csv(StringIO(data), sep='\\t')\n",
        "    df.columns = ['tweet', 'label']\n",
        "    return df"
      ],
      "execution_count": null,
      "outputs": []
    },
    {
      "cell_type": "code",
      "metadata": {
        "id": "dfc-9ExjEOfu"
      },
      "source": [
        "df_train_dev = load_dataset(url_train_dev)\n",
        "df_test = load_dataset(url_test)"
      ],
      "execution_count": null,
      "outputs": []
    },
    {
      "cell_type": "markdown",
      "metadata": {
        "id": "dasHVYer0cAw"
      },
      "source": [
        "function to cut off the smallest classes that have less than 100 samples"
      ]
    },
    {
      "cell_type": "code",
      "metadata": {
        "id": "N_xDIte2RTXk"
      },
      "source": [
        "def cutoff_small_classes(df, threshold=100):\n",
        "    sizes = df.groupby('label').size()\n",
        "    small_classes = sizes[sizes <= threshold].index.values.tolist()\n",
        "    \n",
        "    for ind, tweet in df.iterrows():\n",
        "        if tweet.label in small_classes:\n",
        "            tweet.label = 'other'"
      ],
      "execution_count": null,
      "outputs": []
    },
    {
      "cell_type": "markdown",
      "metadata": {
        "id": "_qhrCu3J0gLq"
      },
      "source": [
        "resample the training data such that each class has the same amount of samples (6000 samples in our case)"
      ]
    },
    {
      "cell_type": "code",
      "metadata": {
        "id": "ghjjI-WMRTXq"
      },
      "source": [
        "def resample_training_set(df, n):\n",
        "    sizes = df.groupby('label').size().sort_values()\n",
        "    dfs = []\n",
        "    for class_ in sizes.keys():\n",
        "        dfs.append(resample(df[df.label == class_], n_samples=n))\n",
        "    return pd.concat(dfs)"
      ],
      "execution_count": null,
      "outputs": []
    },
    {
      "cell_type": "code",
      "metadata": {
        "id": "Vc1rtMBERTXw"
      },
      "source": [
        "cutoff_small_classes(df_train_dev, 100)"
      ],
      "execution_count": null,
      "outputs": []
    },
    {
      "cell_type": "code",
      "metadata": {
        "id": "v-Zv0eVpRTX1"
      },
      "source": [
        "resampled = resample_training_set(df_train_dev, 6000)"
      ],
      "execution_count": null,
      "outputs": []
    },
    {
      "cell_type": "code",
      "metadata": {
        "id": "YbTvfDqT5m8C"
      },
      "source": [
        "resampled = resampled.reset_index()"
      ],
      "execution_count": null,
      "outputs": []
    },
    {
      "cell_type": "code",
      "metadata": {
        "id": "0SjecaY07PbV",
        "outputId": "3e074b6d-e360-4845-d14d-4e17a2d7a338",
        "colab": {
          "base_uri": "https://localhost:8080/",
          "height": 36
        }
      },
      "source": [
        "resampled['tweet'] = resampled['tweet'].astype('str')\n",
        "resampled['tweet'][1]"
      ],
      "execution_count": null,
      "outputs": [
        {
          "output_type": "execute_result",
          "data": {
            "application/vnd.google.colaboratory.intrinsic+json": {
              "type": "string"
            },
            "text/plain": [
              "'3 hari ke arah puasa penuh . phhew'"
            ]
          },
          "metadata": {
            "tags": []
          },
          "execution_count": 12
        }
      ]
    },
    {
      "cell_type": "code",
      "metadata": {
        "id": "zGV6k5SVq7vi"
      },
      "source": [
        "class Vocabulary:\n",
        "    \"\"\"Assigns and keeps indices to (as well as counts of) a vocabulary \n",
        "    of tokens, which can be searched and updated\"\"\"\n",
        "\n",
        "    UNKNOWN_TOKEN = '<UNK>'\n",
        "\n",
        "    def __init__(self, token_to_idx=None):\n",
        "        if token_to_idx is None:\n",
        "            token_to_idx = {}\n",
        "        \n",
        "        # Building two dicts one that mapes tokens to indices and anither one that maps indices to tokens\n",
        "        self._token_to_idx = token_to_idx\n",
        "        self._idx_to_token = {idx: token for token, idx in self._token_to_idx.items()}\n",
        "\n",
        "        self.add_token(Vocabulary.UNKNOWN_TOKEN)\n",
        "\n",
        "    def add_token(self, token):\n",
        "        \"\"\"adds a token to the vocab and creats an index for it\"\"\"\n",
        "        \n",
        "        if token in self._token_to_idx:\n",
        "            index = self._token_to_idx[token]\n",
        "        else:\n",
        "            index = len(self._token_to_idx)\n",
        "            self._token_to_idx[token] = index\n",
        "            self._idx_to_token[index] = token\n",
        "        return index\n",
        "\n",
        "    def lookup_token(self, token):\n",
        "        \"\"\"given a token it find the corresponding index\n",
        "        if the token is not in the vocab, it raises a key error\"\"\"\n",
        "\n",
        "        if token not in self._token_to_idx:\n",
        "            raise KeyError(\"the token (%s) is not in the Vocabulary\" % token)\n",
        "        return self._token_to_idx[token]\n",
        "\n",
        "    def lookup_index(self, index):\n",
        "        \"\"\"gets a token given an index, if the index does not exists\n",
        "        it raises a key error\"\"\"\n",
        "\n",
        "        if index not in self._idx_to_token:\n",
        "            raise KeyError(\"the index (%d) is not in the Vocabulary\" % index)\n",
        "        return self._idx_to_token[index]\n",
        "\n",
        "    def __str__(self):\n",
        "        return \"<Vocabulary(size=%d)>\" % len(self)\n",
        "\n",
        "    def __len__(self):\n",
        "        return len(self._token_to_idx)"
      ],
      "execution_count": null,
      "outputs": []
    },
    {
      "cell_type": "code",
      "metadata": {
        "id": "834GJe3DGWvw"
      },
      "source": [
        "class TextDataset(Dataset):\n",
        "    def __init__(self, df, df_test, preprocessor=None, cutoff=0, seq_len=300):\n",
        "        self.cutoff = cutoff\n",
        "        self._seq_len = seq_len\n",
        "\n",
        "        self.x_test = []\n",
        "        self.y_test = df_test.label\n",
        "\n",
        "        # prepare the test set, which will not be part of the vocabulary nor any other\n",
        "        # statistics\n",
        "        test_texts = df_test.tweet\n",
        "        for i in range(len(test_texts)):\n",
        "            if preprocessor:\n",
        "                sentence = \" \".join(preprocessor.preprocess(test_texts[i]))\n",
        "                n_grams = [sentence[i] for i in range(len(sentence))]\n",
        "            \n",
        "            # tweets that are longer than a certain maximum will be exluded\n",
        "            if len(n_grams) <= self._seq_len:\n",
        "                self.x_test.append(n_grams)\n",
        "            else:\n",
        "                self.x_test.append(n_grams[:200])\n",
        "\n",
        "        # loads the dataset and (after preprocessing) creates a list of tokens,\n",
        "        # arranged in texts (e.g., different reviews are regarded as different\n",
        "        # texts), thus preventing overlapping contexts between reviews/texts.\n",
        "        texts = df.tweet\n",
        "        self.labels = df.label\n",
        "        self._texts = []\n",
        "        self.max_token = []\n",
        "        for i in range(len(texts)):\n",
        "            if preprocessor:\n",
        "                sentence = \" \".join(preprocessor.preprocess(texts[i]))\n",
        "                n_grams = [sentence[i] for i in range(len(sentence))]\n",
        "\n",
        "            # tweets that are longer than a certain maximum will be exluded\n",
        "            if len(n_grams) <= self._seq_len:\n",
        "                self._texts.append(n_grams)\n",
        "            else:\n",
        "                self._texts.append(n_grams[:200])\n",
        "            \n",
        "            self.max_token.append(len(n_grams))\n",
        "            \n",
        "        # fills the sentences with 0 such that all have same length\n",
        "        self._padding_sentences()\n",
        "\n",
        "        # holds a counter for the tokens. used later for cutting off, and \n",
        "        # finding the most common words in the dataset\n",
        "        self.counter = Counter()\n",
        "        self._count()\n",
        "\n",
        "        # creates the Vocabulary (index)\n",
        "        self._unk_count = 0\n",
        "        self.vocabulary = self._create_vocabulary()\n",
        "\n",
        "        #self._texts = self._padding_sentences(self._texts)\n",
        "        self._token_to_idx()\n",
        "\n",
        "        # split the dataset into train and test\n",
        "        self.x_train, self.x_val, self.y_train, self.y_val = train_test_split(self._texts, self.labels, test_size=0.1)\n",
        "\n",
        "        self._encode_labels()\n",
        "\n",
        "        self.x_train = tf.convert_to_tensor(self.x_train)\n",
        "        self.x_val = tf.convert_to_tensor(self.x_val)\n",
        "        self.x_test = tf.convert_to_tensor(self.x_test)\n",
        "    \n",
        "    def switch_mode(self, new_mode):\n",
        "        self.mode = new_mode\n",
        "\n",
        "    def _count(self):\n",
        "        for text in self._texts:\n",
        "            self.counter.update(text)\n",
        "\n",
        "    def unknown_count(self):\n",
        "        return self._unk_count\n",
        "\n",
        "    def _create_vocabulary(self):\n",
        "        \"\"\"create vocabulary with all words of the dataset which appear more frequent than cutoff threshold\"\"\"\n",
        "        vocabulary = Vocabulary()\n",
        "        for i, text in enumerate(self._texts):\n",
        "            for j, token in enumerate(text):\n",
        "                if self.counter[token] < self.cutoff:\n",
        "                    self._texts[i][j] = Vocabulary.UNKNOWN_TOKEN\n",
        "                    self._unk_count += 1\n",
        "                else:\n",
        "                    vocabulary.add_token(token)\n",
        "        return vocabulary\n",
        "    \n",
        "    def _encode_labels(self):\n",
        "        \"\"\"first encode the labels and map them to numbers, then the labels\n",
        "        are converted into one-hot encoding\"\"\"\n",
        "        label_encoder = LabelEncoder()\n",
        "        label_one_hot = OneHotEncoder(sparse=False)\n",
        "\n",
        "        # fit encoder to train labels and transform those to numbers\n",
        "        y_train = label_encoder.fit_transform(self.y_train)\n",
        "\n",
        "        # overwrite unknown labels in the validation and test set\n",
        "        y_val = ['und' if s not in label_encoder.classes_ else s for s in self.y_val]\n",
        "        y_val = label_encoder.transform(y_val)\n",
        "\n",
        "        y_test = ['und' if s not in label_encoder.classes_ else s for s in self.y_test]\n",
        "        y_test = label_encoder.transform(y_test)\n",
        "\n",
        "        self.y_train = y_train.tolist()\n",
        "        self.y_val = y_val.tolist()\n",
        "        self.y_test = y_test.tolist()\n",
        "\n",
        "        self.test_labels_numbers = self.y_test\n",
        "        self.labels_encoded = list(label_encoder.classes_)\n",
        "\n",
        "        # transforming the encoded lables to one-hot format\n",
        "        self.y_train = np.array(self.y_train).reshape((len(self.y_train), 1))\n",
        "        self.y_val = np.array(self.y_val).reshape((len(self.y_val), 1))\n",
        "        self.y_test = np.array(self.y_test).reshape((len(self.y_test), 1))\n",
        "\n",
        "        self.y_train = label_one_hot.fit_transform(self.y_train)\n",
        "        self.y_val = label_one_hot.transform(self.y_val)\n",
        "        self.y_test = label_one_hot.transform(self.y_test)\n",
        "\n",
        "        self.y_train = tf.convert_to_tensor(self.y_train.tolist())\n",
        "        self.y_val = tf.convert_to_tensor(self.y_val.tolist())\n",
        "        self.y_test = tf.convert_to_tensor(self.y_test.tolist())\n",
        "   \n",
        "    def _padding_sentences(self):\n",
        "        # Each sentence which does not fulfill the required length\n",
        "        # it's padded with the index 0\n",
        "        for idx, el in enumerate(self._texts):\n",
        "            l = el\n",
        "            while len(l) < self._seq_len:\n",
        "                l.append(0)\n",
        "            self._texts[idx] = l\n",
        "        \n",
        "        for idx, el in enumerate(self.x_test):\n",
        "            l = el\n",
        "            while len(l) < self._seq_len:\n",
        "                l.append(0)\n",
        "            self.x_test[idx] = l\n",
        "\n",
        "    \n",
        "    def _token_to_idx(self):\n",
        "        \"\"\" this function replaces the words on the sentences with the respective \n",
        "        idx number from the vocab \"\"\"\n",
        "        for j, text in enumerate(self._texts):\n",
        "            for i, word in enumerate(text):\n",
        "                if not word == 0:\n",
        "                    idx = self.vocabulary.lookup_token(word)\n",
        "                    self._texts[j][i] = idx\n",
        "            self._texts[j] = text\n",
        "        \n",
        "        for j, text in enumerate(self.x_test):\n",
        "            for i, word in enumerate(text):\n",
        "                if not word == 0:\n",
        "                    try:\n",
        "                        idx = self.vocabulary.lookup_token(word)\n",
        "                    except KeyError:\n",
        "                        idx = 0\n",
        "                    self.x_test[j][i] = idx\n",
        "            self.x_test[j] = text\n",
        "\n",
        "    def __len__(self):\n",
        "        return len(self.y_train)"
      ],
      "execution_count": null,
      "outputs": []
    },
    {
      "cell_type": "code",
      "metadata": {
        "id": "YA27pOifTMEU"
      },
      "source": [
        "from nltk.tokenize import TweetTokenizer\n",
        "\n",
        "class Preprocessing:\n",
        "\n",
        "    EMOJI_PATTERN = emoji.get_emoji_regexp()\n",
        "\n",
        "    def __init__(self):\n",
        "        self.tknzr = TweetTokenizer(strip_handles=True, reduce_len=True)\n",
        "        self._tokens = None\n",
        "\n",
        "    def preprocess(self, text):\n",
        "        self._text = text\n",
        "        self._text = self._remove_emojis(self._text)\n",
        "        self._text = self._remove_urls(self._text)\n",
        "        self._text = self._remove_hashtags(self._text)\n",
        "        self._text = self._remove_mentions(self._text)\n",
        "        self._text = self._clean_text(self._text)\n",
        "        return self.tknzr.tokenize(self._text)\n",
        "\n",
        "    def _clean_text(self, text):\n",
        "        # Removes special symbols and just keep\n",
        "        # words in lower or upper form\n",
        "        self._text = self._text.lower()\n",
        "        self._text = re.sub(r'[!.,-?\\'\\\"()/%@#\\d]+', '', self._text)\n",
        "        return self._text\n",
        "    \n",
        "    def _remove_emojis(self, text):\n",
        "        return Preprocessing.EMOJI_PATTERN.sub('', text)\n",
        "    \n",
        "    def _remove_urls(self, text):\n",
        "        return re.sub(r'https?://[\\S]+', '', text)\n",
        "    \n",
        "    def _remove_hashtags(self, text):\n",
        "        return re.sub(r'#[\\S]+', '', text)\n",
        "    \n",
        "    def _remove_mentions(self, text):\n",
        "        return re.sub(r'@[\\S]+', '', text)"
      ],
      "execution_count": null,
      "outputs": []
    },
    {
      "cell_type": "markdown",
      "metadata": {
        "id": "D77AcoW00qcb"
      },
      "source": [
        "### create the dataset based on the three classes above: \n",
        "\n",
        "* vocabulary keeps count of the vocab (this time it is characters not words!)\n",
        "* TextDataset builds the dataset and converts the tweets to tensors\n",
        "* preprocessing class that preprocesses the tweets (explained in lapreport)"
      ]
    },
    {
      "cell_type": "code",
      "metadata": {
        "id": "ME_daurdu9q5"
      },
      "source": [
        "dataset = TextDataset(resampled, df_test, Preprocessing(), seq_len=200)"
      ],
      "execution_count": null,
      "outputs": []
    },
    {
      "cell_type": "code",
      "metadata": {
        "id": "FceJBjqiXC-N",
        "outputId": "190dbd1e-c922-4c06-ed68-746bd8f6a594",
        "colab": {
          "base_uri": "https://localhost:8080/"
        }
      },
      "source": [
        "dataset.x_train"
      ],
      "execution_count": null,
      "outputs": [
        {
          "output_type": "execute_result",
          "data": {
            "text/plain": [
              "<tf.Tensor: shape=(97200, 200), dtype=int32, numpy=\n",
              "array([[ 8,  3,  3, ...,  0,  0,  0],\n",
              "       [24,  6, 20, ...,  0,  0,  0],\n",
              "       [24,  6,  8, ...,  0,  0,  0],\n",
              "       ...,\n",
              "       [12, 11, 20, ...,  0,  0,  0],\n",
              "       [ 9,  4, 15, ...,  0,  0,  0],\n",
              "       [ 1,  6,  8, ...,  0,  0,  0]], dtype=int32)>"
            ]
          },
          "metadata": {
            "tags": []
          },
          "execution_count": 49
        }
      ]
    },
    {
      "cell_type": "code",
      "metadata": {
        "id": "kDQwVEAUnEly",
        "outputId": "2693b4c6-8376-4e6c-bca3-66079805ad0b",
        "colab": {
          "base_uri": "https://localhost:8080/"
        }
      },
      "source": [
        "dataset.y_train"
      ],
      "execution_count": null,
      "outputs": [
        {
          "output_type": "execute_result",
          "data": {
            "text/plain": [
              "<tf.Tensor: shape=(97200, 18), dtype=float32, numpy=\n",
              "array([[0., 0., 0., ..., 0., 0., 0.],\n",
              "       [0., 0., 0., ..., 0., 0., 0.],\n",
              "       [0., 0., 0., ..., 0., 0., 0.],\n",
              "       ...,\n",
              "       [0., 0., 0., ..., 0., 0., 0.],\n",
              "       [0., 0., 0., ..., 0., 0., 0.],\n",
              "       [0., 0., 1., ..., 0., 0., 0.]], dtype=float32)>"
            ]
          },
          "metadata": {
            "tags": []
          },
          "execution_count": 50
        }
      ]
    },
    {
      "cell_type": "code",
      "metadata": {
        "id": "2vjDVPUKIjSh",
        "outputId": "fb4a8a08-3e9c-4d70-9ecf-4fd09e465c41",
        "colab": {
          "base_uri": "https://localhost:8080/"
        }
      },
      "source": [
        "dataset.x_val"
      ],
      "execution_count": null,
      "outputs": [
        {
          "output_type": "execute_result",
          "data": {
            "text/plain": [
              "<tf.Tensor: shape=(10800, 200), dtype=int32, numpy=\n",
              "array([[  19,    3,    1, ...,    0,    0,    0],\n",
              "       [  12,    3,   20, ...,    0,    0,    0],\n",
              "       [  83,    5,   25, ...,    0,    0,    0],\n",
              "       ...,\n",
              "       [  28,    5, 2200, ...,    0,    0,    0],\n",
              "       [  26,    6,   20, ...,    0,    0,    0],\n",
              "       [1008,    5, 1010, ...,    0,    0,    0]], dtype=int32)>"
            ]
          },
          "metadata": {
            "tags": []
          },
          "execution_count": 51
        }
      ]
    },
    {
      "cell_type": "code",
      "metadata": {
        "id": "Vmc4BiuqIjac",
        "outputId": "e5802a46-72a1-4b46-e617-273c7de0bebc",
        "colab": {
          "base_uri": "https://localhost:8080/"
        }
      },
      "source": [
        "dataset.y_val"
      ],
      "execution_count": null,
      "outputs": [
        {
          "output_type": "execute_result",
          "data": {
            "text/plain": [
              "<tf.Tensor: shape=(10800, 18), dtype=float32, numpy=\n",
              "array([[0., 0., 0., ..., 0., 0., 0.],\n",
              "       [0., 0., 0., ..., 0., 0., 0.],\n",
              "       [0., 0., 0., ..., 0., 0., 0.],\n",
              "       ...,\n",
              "       [0., 0., 0., ..., 0., 0., 0.],\n",
              "       [0., 0., 0., ..., 0., 1., 0.],\n",
              "       [0., 0., 0., ..., 0., 0., 0.]], dtype=float32)>"
            ]
          },
          "metadata": {
            "tags": []
          },
          "execution_count": 52
        }
      ]
    },
    {
      "cell_type": "code",
      "metadata": {
        "id": "fUrhlXvPIjnl",
        "outputId": "3c773b55-950e-4601-daaa-3bd2527a8edf",
        "colab": {
          "base_uri": "https://localhost:8080/"
        }
      },
      "source": [
        "dataset.x_test"
      ],
      "execution_count": null,
      "outputs": [
        {
          "output_type": "execute_result",
          "data": {
            "text/plain": [
              "<tf.Tensor: shape=(13279, 200), dtype=int32, numpy=\n",
              "array([[  13,   11,    2, ...,    0,    0,    0],\n",
              "       [   0,    0,    0, ...,    0,    0,    0],\n",
              "       [  15,    3,    3, ...,    0,    0,    0],\n",
              "       ...,\n",
              "       [   1,   15,    5, ...,    0,    0,    0],\n",
              "       [2411, 2643, 2613, ...,    0,    0,    0],\n",
              "       [   0,    0,    0, ...,    0,    0,    0]], dtype=int32)>"
            ]
          },
          "metadata": {
            "tags": []
          },
          "execution_count": 21
        }
      ]
    },
    {
      "cell_type": "code",
      "metadata": {
        "id": "K6yyeUe0IjtH",
        "outputId": "9854c114-f86e-41f7-dc02-5f5a9164dde4",
        "colab": {
          "base_uri": "https://localhost:8080/"
        }
      },
      "source": [
        "dataset.y_test"
      ],
      "execution_count": null,
      "outputs": [
        {
          "output_type": "execute_result",
          "data": {
            "text/plain": [
              "<tf.Tensor: shape=(13279, 18), dtype=float32, numpy=\n",
              "array([[0., 0., 1., ..., 0., 0., 0.],\n",
              "       [0., 0., 0., ..., 0., 0., 1.],\n",
              "       [0., 0., 1., ..., 0., 0., 0.],\n",
              "       ...,\n",
              "       [0., 0., 0., ..., 0., 0., 0.],\n",
              "       [0., 0., 0., ..., 0., 0., 0.],\n",
              "       [0., 0., 0., ..., 0., 0., 1.]], dtype=float32)>"
            ]
          },
          "metadata": {
            "tags": []
          },
          "execution_count": 22
        }
      ]
    },
    {
      "cell_type": "markdown",
      "metadata": {
        "id": "WsfqLPUW1a6e"
      },
      "source": [
        "here we can see that the index in the vocab actually only returns one char"
      ]
    },
    {
      "cell_type": "code",
      "metadata": {
        "id": "C17LYbF2JYLv",
        "outputId": "a3ff9af7-1fa8-49da-cf65-af11e87f672a",
        "colab": {
          "base_uri": "https://localhost:8080/",
          "height": 36
        }
      },
      "source": [
        "dataset.vocabulary.lookup_index(1234)"
      ],
      "execution_count": null,
      "outputs": [
        {
          "output_type": "execute_result",
          "data": {
            "application/vnd.google.colaboratory.intrinsic+json": {
              "type": "string"
            },
            "text/plain": [
              "'忘'"
            ]
          },
          "metadata": {
            "tags": []
          },
          "execution_count": 23
        }
      ]
    },
    {
      "cell_type": "markdown",
      "metadata": {
        "id": "tkfiZkNRpvAc"
      },
      "source": [
        "# 5 model combinations\n",
        "### We ran more than 5 models and included the most interesting ones in the report, the models below are to show how we did it. "
      ]
    },
    {
      "cell_type": "markdown",
      "metadata": {
        "id": "1XVsAdL26At4"
      },
      "source": [
        "# Model 1 / 5"
      ]
    },
    {
      "cell_type": "code",
      "metadata": {
        "id": "I1iiawjo74os",
        "outputId": "0ca328fd-aa14-45ff-c126-8b773b291c80",
        "colab": {
          "base_uri": "https://localhost:8080/"
        }
      },
      "source": [
        "# this is responsible for early stopping as was recommended\n",
        "callback = tf.keras.callbacks.EarlyStopping(monitor='val_loss', patience=3)\n",
        "\n",
        "model = models.Sequential()\n",
        "\n",
        "model.add(layers.Embedding(len(dataset.vocabulary), output_dim=32, input_length=200))\n",
        "model.add(layers.Reshape(target_shape=(200, 32, 1)))\n",
        "model.add(layers.Conv2D(kernel_size=2, filters=32, padding='same', activation='relu', strides=1))\n",
        "model.add(layers.MaxPool2D(strides=1, padding='same'))\n",
        "model.add(layers.Conv2D(kernel_size=3, filters=128, padding='same', activation='relu', strides=1))\n",
        "model.add(layers.MaxPool2D(strides=1, padding='same'))\n",
        "model.add(layers.Flatten())\n",
        "model.add(layers.Dense(200, activation='relu'))\n",
        "model.add(layers.Dense(18, activation='softmax')) \n",
        "\n",
        "model.compile(optimizer=tf.keras.optimizers.Adam(lr=0.01),\n",
        "              loss='categorical_crossentropy',\n",
        "              metrics=['accuracy'])\n",
        "model.summary()"
      ],
      "execution_count": null,
      "outputs": [
        {
          "output_type": "stream",
          "text": [
            "Model: \"sequential\"\n",
            "_________________________________________________________________\n",
            "Layer (type)                 Output Shape              Param #   \n",
            "=================================================================\n",
            "embedding (Embedding)        (None, 200, 32)           141664    \n",
            "_________________________________________________________________\n",
            "reshape (Reshape)            (None, 200, 32, 1)        0         \n",
            "_________________________________________________________________\n",
            "conv2d (Conv2D)              (None, 200, 32, 32)       160       \n",
            "_________________________________________________________________\n",
            "max_pooling2d (MaxPooling2D) (None, 200, 32, 32)       0         \n",
            "_________________________________________________________________\n",
            "conv2d_1 (Conv2D)            (None, 200, 32, 128)      36992     \n",
            "_________________________________________________________________\n",
            "max_pooling2d_1 (MaxPooling2 (None, 200, 32, 128)      0         \n",
            "_________________________________________________________________\n",
            "flatten (Flatten)            (None, 819200)            0         \n",
            "_________________________________________________________________\n",
            "dense (Dense)                (None, 200)               163840200 \n",
            "_________________________________________________________________\n",
            "dense_1 (Dense)              (None, 18)                3618      \n",
            "=================================================================\n",
            "Total params: 164,022,634\n",
            "Trainable params: 164,022,634\n",
            "Non-trainable params: 0\n",
            "_________________________________________________________________\n"
          ],
          "name": "stdout"
        }
      ]
    },
    {
      "cell_type": "code",
      "metadata": {
        "id": "jKx6knQsHceH",
        "outputId": "7cb20b48-33ee-4a94-87d9-120396515680",
        "colab": {
          "base_uri": "https://localhost:8080/"
        }
      },
      "source": [
        "model.fit(x = dataset.x_train, y = dataset.y_train, batch_size = 50, verbose=1, epochs=50, validation_data=(dataset.x_val, dataset.y_val), callbacks=[callback])"
      ],
      "execution_count": null,
      "outputs": [
        {
          "output_type": "stream",
          "text": [
            "Epoch 1/50\n",
            "1944/1944 [==============================] - ETA: 0s - loss: 2.9400 - accuracy: 0.0555WARNING:tensorflow:Callbacks method `on_test_batch_end` is slow compared to the batch time (batch time: 0.0020s vs `on_test_batch_end` time: 0.0131s). Check your callbacks.\n",
            "1944/1944 [==============================] - 162s 84ms/step - loss: 2.9400 - accuracy: 0.0555 - val_loss: 2.8922 - val_accuracy: 0.0534\n",
            "Epoch 2/50\n",
            "1944/1944 [==============================] - 162s 83ms/step - loss: 2.8921 - accuracy: 0.0544 - val_loss: 2.8912 - val_accuracy: 0.0563\n",
            "Epoch 3/50\n",
            "1944/1944 [==============================] - 162s 83ms/step - loss: 2.8919 - accuracy: 0.0558 - val_loss: 2.8908 - val_accuracy: 0.0566\n",
            "Epoch 4/50\n",
            "1944/1944 [==============================] - 162s 84ms/step - loss: 2.8917 - accuracy: 0.0551 - val_loss: 2.8924 - val_accuracy: 0.0554\n",
            "Epoch 5/50\n",
            "1944/1944 [==============================] - 162s 83ms/step - loss: 2.8917 - accuracy: 0.0549 - val_loss: 2.8917 - val_accuracy: 0.0566\n",
            "Epoch 6/50\n",
            "1944/1944 [==============================] - 162s 83ms/step - loss: 2.8917 - accuracy: 0.0551 - val_loss: 2.8910 - val_accuracy: 0.0554\n"
          ],
          "name": "stdout"
        },
        {
          "output_type": "execute_result",
          "data": {
            "text/plain": [
              "<tensorflow.python.keras.callbacks.History at 0x7fc90d12e6d8>"
            ]
          },
          "metadata": {
            "tags": []
          },
          "execution_count": 25
        }
      ]
    },
    {
      "cell_type": "code",
      "metadata": {
        "id": "jmHRdvjCjXwn",
        "outputId": "fbec26c7-0052-464a-e715-ecc58ec17e9a",
        "colab": {
          "base_uri": "https://localhost:8080/"
        }
      },
      "source": [
        "model.evaluate(dataset.x_test, dataset.y_test)"
      ],
      "execution_count": null,
      "outputs": [
        {
          "output_type": "stream",
          "text": [
            "415/415 [==============================] - 6s 14ms/step - loss: 2.8849 - accuracy: 0.0083\n"
          ],
          "name": "stdout"
        },
        {
          "output_type": "execute_result",
          "data": {
            "text/plain": [
              "[2.884892225265503, 0.008283756673336029]"
            ]
          },
          "metadata": {
            "tags": []
          },
          "execution_count": 26
        }
      ]
    },
    {
      "cell_type": "code",
      "metadata": {
        "id": "VNZZ04ARe4Kv"
      },
      "source": [
        "pred = np.argmax(model.predict(dataset.x_test), axis=-1)"
      ],
      "execution_count": null,
      "outputs": []
    },
    {
      "cell_type": "markdown",
      "metadata": {
        "id": "kbbiUTk_6D5y"
      },
      "source": [
        "# Model 2 / 5"
      ]
    },
    {
      "cell_type": "code",
      "metadata": {
        "id": "moSF_LORo7u3",
        "outputId": "60854705-9321-4d3e-e1fd-abcfe3ef69cc",
        "colab": {
          "base_uri": "https://localhost:8080/"
        }
      },
      "source": [
        "# this is responsible for early stopping as was recommended\n",
        "callback = tf.keras.callbacks.EarlyStopping(monitor='val_loss', patience=3)\n",
        "\n",
        "model2 = models.Sequential()\n",
        "\n",
        "model2.add(layers.Embedding(len(dataset.vocabulary), output_dim=32, input_length=200))\n",
        "model2.add(layers.Reshape(target_shape=(200, 32, 1)))\n",
        "model2.add(layers.Conv2D(kernel_size=2, filters=32, padding='same', activation='relu', strides=1))\n",
        "model2.add(layers.MaxPool2D(strides=1, padding='same'))\n",
        "model2.add(layers.Conv2D(kernel_size=3, filters=128, padding='same', activation='relu', strides=1))\n",
        "model2.add(layers.MaxPool2D(strides=1, padding='same'))\n",
        "model2.add(layers.Flatten())\n",
        "model2.add(layers.Dense(200, activation='relu'))\n",
        "model2.add(layers.Dense(18, activation='softmax')) \n",
        "\n",
        "model2.compile(optimizer=tf.keras.optimizers.Adam(lr=0.0001),\n",
        "              loss='categorical_crossentropy',\n",
        "              metrics=['accuracy'])\n",
        "model2.summary()"
      ],
      "execution_count": null,
      "outputs": [
        {
          "output_type": "stream",
          "text": [
            "Model: \"sequential_2\"\n",
            "_________________________________________________________________\n",
            "Layer (type)                 Output Shape              Param #   \n",
            "=================================================================\n",
            "embedding_2 (Embedding)      (None, 200, 32)           141664    \n",
            "_________________________________________________________________\n",
            "reshape_2 (Reshape)          (None, 200, 32, 1)        0         \n",
            "_________________________________________________________________\n",
            "conv2d_4 (Conv2D)            (None, 200, 32, 32)       160       \n",
            "_________________________________________________________________\n",
            "max_pooling2d_4 (MaxPooling2 (None, 200, 32, 32)       0         \n",
            "_________________________________________________________________\n",
            "conv2d_5 (Conv2D)            (None, 200, 32, 128)      36992     \n",
            "_________________________________________________________________\n",
            "max_pooling2d_5 (MaxPooling2 (None, 200, 32, 128)      0         \n",
            "_________________________________________________________________\n",
            "flatten_2 (Flatten)          (None, 819200)            0         \n",
            "_________________________________________________________________\n",
            "dense_4 (Dense)              (None, 200)               163840200 \n",
            "_________________________________________________________________\n",
            "dense_5 (Dense)              (None, 18)                3618      \n",
            "=================================================================\n",
            "Total params: 164,022,634\n",
            "Trainable params: 164,022,634\n",
            "Non-trainable params: 0\n",
            "_________________________________________________________________\n"
          ],
          "name": "stdout"
        }
      ]
    },
    {
      "cell_type": "code",
      "metadata": {
        "id": "L_oxSofKo7vQ",
        "outputId": "8ba56248-3224-4a5d-be3d-974072d5330e",
        "colab": {
          "base_uri": "https://localhost:8080/"
        }
      },
      "source": [
        "model2.fit(x = dataset.x_train, y = dataset.y_train, batch_size = 50, verbose=1, epochs=50, validation_data=(dataset.x_val, dataset.y_val), callbacks=[callback])"
      ],
      "execution_count": null,
      "outputs": [
        {
          "output_type": "stream",
          "text": [
            "Epoch 1/50\n",
            "1944/1944 [==============================] - ETA: 0s - loss: 1.0090 - accuracy: 0.6815WARNING:tensorflow:Callbacks method `on_test_batch_end` is slow compared to the batch time (batch time: 0.0021s vs `on_test_batch_end` time: 0.0138s). Check your callbacks.\n",
            "1944/1944 [==============================] - 175s 90ms/step - loss: 1.0090 - accuracy: 0.6815 - val_loss: 0.5269 - val_accuracy: 0.8444\n",
            "Epoch 2/50\n",
            "1944/1944 [==============================] - 172s 89ms/step - loss: 0.4155 - accuracy: 0.8735 - val_loss: 0.3453 - val_accuracy: 0.8911\n",
            "Epoch 3/50\n",
            "1944/1944 [==============================] - 172s 89ms/step - loss: 0.2778 - accuracy: 0.9176 - val_loss: 0.2710 - val_accuracy: 0.9230\n",
            "Epoch 4/50\n",
            "1944/1944 [==============================] - 172s 88ms/step - loss: 0.2004 - accuracy: 0.9398 - val_loss: 0.1936 - val_accuracy: 0.9435\n",
            "Epoch 5/50\n",
            "1944/1944 [==============================] - 171s 88ms/step - loss: 0.1495 - accuracy: 0.9551 - val_loss: 0.1649 - val_accuracy: 0.9529\n",
            "Epoch 6/50\n",
            "1944/1944 [==============================] - 171s 88ms/step - loss: 0.1149 - accuracy: 0.9659 - val_loss: 0.1755 - val_accuracy: 0.9515\n",
            "Epoch 7/50\n",
            "1944/1944 [==============================] - 171s 88ms/step - loss: 0.0901 - accuracy: 0.9732 - val_loss: 0.1237 - val_accuracy: 0.9653\n",
            "Epoch 8/50\n",
            "1944/1944 [==============================] - 171s 88ms/step - loss: 0.0701 - accuracy: 0.9784 - val_loss: 0.1237 - val_accuracy: 0.9648\n",
            "Epoch 9/50\n",
            "1944/1944 [==============================] - 171s 88ms/step - loss: 0.0557 - accuracy: 0.9834 - val_loss: 0.1111 - val_accuracy: 0.9741\n",
            "Epoch 10/50\n",
            "1944/1944 [==============================] - 171s 88ms/step - loss: 0.0456 - accuracy: 0.9866 - val_loss: 0.1139 - val_accuracy: 0.9741\n",
            "Epoch 11/50\n",
            "1944/1944 [==============================] - 170s 88ms/step - loss: 0.0388 - accuracy: 0.9890 - val_loss: 0.1041 - val_accuracy: 0.9758\n",
            "Epoch 12/50\n",
            "1944/1944 [==============================] - 170s 88ms/step - loss: 0.0318 - accuracy: 0.9913 - val_loss: 0.1037 - val_accuracy: 0.9764\n",
            "Epoch 13/50\n",
            "1944/1944 [==============================] - 170s 87ms/step - loss: 0.0255 - accuracy: 0.9931 - val_loss: 0.0990 - val_accuracy: 0.9801\n",
            "Epoch 14/50\n",
            "1944/1944 [==============================] - 170s 88ms/step - loss: 0.0211 - accuracy: 0.9942 - val_loss: 0.1077 - val_accuracy: 0.9801\n",
            "Epoch 15/50\n",
            "1944/1944 [==============================] - 170s 87ms/step - loss: 0.0194 - accuracy: 0.9950 - val_loss: 0.1104 - val_accuracy: 0.9788\n",
            "Epoch 16/50\n",
            "1944/1944 [==============================] - 170s 87ms/step - loss: 0.0171 - accuracy: 0.9954 - val_loss: 0.1160 - val_accuracy: 0.9798\n"
          ],
          "name": "stdout"
        },
        {
          "output_type": "execute_result",
          "data": {
            "text/plain": [
              "<tensorflow.python.keras.callbacks.History at 0x7fc90d21ec18>"
            ]
          },
          "metadata": {
            "tags": []
          },
          "execution_count": 36
        }
      ]
    },
    {
      "cell_type": "code",
      "metadata": {
        "id": "GmxOVDhZo7va",
        "outputId": "3c579590-81f9-4b45-8d84-736984799825",
        "colab": {
          "base_uri": "https://localhost:8080/"
        }
      },
      "source": [
        "model2.evaluate(dataset.x_test, dataset.y_test)"
      ],
      "execution_count": null,
      "outputs": [
        {
          "output_type": "stream",
          "text": [
            "415/415 [==============================] - 6s 14ms/step - loss: 1.2013 - accuracy: 0.8471\n"
          ],
          "name": "stdout"
        },
        {
          "output_type": "execute_result",
          "data": {
            "text/plain": [
              "[1.2013276815414429, 0.847051739692688]"
            ]
          },
          "metadata": {
            "tags": []
          },
          "execution_count": 37
        }
      ]
    },
    {
      "cell_type": "code",
      "metadata": {
        "id": "s6KzgXo6p7Zr"
      },
      "source": [
        "pred2 = np.argmax(model2.predict(dataset.x_test), axis=-1)"
      ],
      "execution_count": null,
      "outputs": []
    },
    {
      "cell_type": "markdown",
      "metadata": {
        "id": "zu03PG2b6Gz6"
      },
      "source": [
        "# Model 3 / 5"
      ]
    },
    {
      "cell_type": "code",
      "metadata": {
        "id": "Ih3M5c6W59Rz",
        "outputId": "39466d3e-0aa4-4f66-a947-5f3b09c9c051",
        "colab": {
          "base_uri": "https://localhost:8080/"
        }
      },
      "source": [
        "# this is responsible for early stopping as was recommended\n",
        "callback = tf.keras.callbacks.EarlyStopping(monitor='val_loss', patience=3)\n",
        "\n",
        "model3 = models.Sequential()\n",
        "\n",
        "model3.add(layers.Embedding(len(dataset.vocabulary), output_dim=32, input_length=200))\n",
        "model3.add(layers.Reshape(target_shape=(200, 32, 1)))\n",
        "model3.add(layers.Conv2D(kernel_size=2, filters=32, padding='same', activation='relu', strides=1))\n",
        "#model3.add(layers.MaxPool2D(strides=1, padding='same'))\n",
        "model3.add(layers.Conv2D(kernel_size=3, filters=128, padding='same', activation='relu', strides=1))\n",
        "#model3.add(layers.MaxPool2D(strides=1, padding='same'))\n",
        "model3.add(layers.Flatten())\n",
        "model3.add(layers.Dense(200, activation='relu'))\n",
        "model3.add(layers.Dense(18, activation='softmax')) \n",
        "\n",
        "model3.compile(optimizer=tf.keras.optimizers.Adam(lr=0.0001),\n",
        "              loss='categorical_crossentropy',\n",
        "              metrics=['accuracy'])\n",
        "model3.summary()"
      ],
      "execution_count": null,
      "outputs": [
        {
          "output_type": "stream",
          "text": [
            "Model: \"sequential_4\"\n",
            "_________________________________________________________________\n",
            "Layer (type)                 Output Shape              Param #   \n",
            "=================================================================\n",
            "embedding_4 (Embedding)      (None, 200, 32)           141664    \n",
            "_________________________________________________________________\n",
            "reshape_4 (Reshape)          (None, 200, 32, 1)        0         \n",
            "_________________________________________________________________\n",
            "conv2d_8 (Conv2D)            (None, 200, 32, 32)       160       \n",
            "_________________________________________________________________\n",
            "conv2d_9 (Conv2D)            (None, 200, 32, 128)      36992     \n",
            "_________________________________________________________________\n",
            "flatten_4 (Flatten)          (None, 819200)            0         \n",
            "_________________________________________________________________\n",
            "dense_8 (Dense)              (None, 200)               163840200 \n",
            "_________________________________________________________________\n",
            "dense_9 (Dense)              (None, 18)                3618      \n",
            "=================================================================\n",
            "Total params: 164,022,634\n",
            "Trainable params: 164,022,634\n",
            "Non-trainable params: 0\n",
            "_________________________________________________________________\n"
          ],
          "name": "stdout"
        }
      ]
    },
    {
      "cell_type": "code",
      "metadata": {
        "id": "u1x923NG59Sj",
        "outputId": "e3b6292f-180b-47d9-e683-50028f26ca50",
        "colab": {
          "base_uri": "https://localhost:8080/"
        }
      },
      "source": [
        "model3.fit(x = dataset.x_train, y = dataset.y_train, batch_size = 50, verbose=1, epochs=50, validation_data=(dataset.x_val, dataset.y_val), callbacks=[callback])"
      ],
      "execution_count": null,
      "outputs": [
        {
          "output_type": "stream",
          "text": [
            "Epoch 1/50\n",
            "1944/1944 [==============================] - ETA: 0s - loss: 0.8676 - accuracy: 0.7320WARNING:tensorflow:Callbacks method `on_test_batch_end` is slow compared to the batch time (batch time: 0.0023s vs `on_test_batch_end` time: 0.0130s). Check your callbacks.\n",
            "1944/1944 [==============================] - 157s 81ms/step - loss: 0.8676 - accuracy: 0.7320 - val_loss: 0.3686 - val_accuracy: 0.8899\n",
            "Epoch 2/50\n",
            "1944/1944 [==============================] - 155s 80ms/step - loss: 0.2649 - accuracy: 0.9221 - val_loss: 0.2170 - val_accuracy: 0.9390\n",
            "Epoch 3/50\n",
            "1944/1944 [==============================] - 155s 80ms/step - loss: 0.1543 - accuracy: 0.9538 - val_loss: 0.1680 - val_accuracy: 0.9531\n",
            "Epoch 4/50\n",
            "1944/1944 [==============================] - 155s 80ms/step - loss: 0.0989 - accuracy: 0.9701 - val_loss: 0.1472 - val_accuracy: 0.9615\n",
            "Epoch 5/50\n",
            "1944/1944 [==============================] - 155s 80ms/step - loss: 0.0693 - accuracy: 0.9794 - val_loss: 0.1136 - val_accuracy: 0.9696\n",
            "Epoch 6/50\n",
            "1944/1944 [==============================] - 155s 79ms/step - loss: 0.0455 - accuracy: 0.9866 - val_loss: 0.1169 - val_accuracy: 0.9728\n",
            "Epoch 7/50\n",
            "1944/1944 [==============================] - 154s 79ms/step - loss: 0.0330 - accuracy: 0.9902 - val_loss: 0.1165 - val_accuracy: 0.9749\n",
            "Epoch 8/50\n",
            "1944/1944 [==============================] - 154s 79ms/step - loss: 0.0240 - accuracy: 0.9929 - val_loss: 0.1237 - val_accuracy: 0.9762\n"
          ],
          "name": "stdout"
        },
        {
          "output_type": "execute_result",
          "data": {
            "text/plain": [
              "<tensorflow.python.keras.callbacks.History at 0x7fc90c66e208>"
            ]
          },
          "metadata": {
            "tags": []
          },
          "execution_count": 42
        }
      ]
    },
    {
      "cell_type": "code",
      "metadata": {
        "id": "8sAr1SNN59Sx",
        "outputId": "4b1c3041-dd14-4fae-f69b-7c841018af73",
        "colab": {
          "base_uri": "https://localhost:8080/"
        }
      },
      "source": [
        "model3.evaluate(dataset.x_test, dataset.y_test)"
      ],
      "execution_count": null,
      "outputs": [
        {
          "output_type": "stream",
          "text": [
            "415/415 [==============================] - 5s 13ms/step - loss: 1.1168 - accuracy: 0.8431\n"
          ],
          "name": "stdout"
        },
        {
          "output_type": "execute_result",
          "data": {
            "text/plain": [
              "[1.1167963743209839, 0.8431357741355896]"
            ]
          },
          "metadata": {
            "tags": []
          },
          "execution_count": 43
        }
      ]
    },
    {
      "cell_type": "code",
      "metadata": {
        "id": "R4GCr0es59S8",
        "outputId": "0dfb2540-c1f8-4958-de05-4572b4a5d8fd",
        "colab": {
          "base_uri": "https://localhost:8080/"
        }
      },
      "source": [
        "pred3 = np.argmax(model3.predict(dataset.x_test), axis=-1)\n",
        "pred3"
      ],
      "execution_count": null,
      "outputs": [
        {
          "output_type": "execute_result",
          "data": {
            "text/plain": [
              "array([ 2, 17,  2, ...,  3,  7, 17])"
            ]
          },
          "metadata": {
            "tags": []
          },
          "execution_count": 58
        }
      ]
    },
    {
      "cell_type": "markdown",
      "metadata": {
        "id": "ZoJ6DIns6JaR"
      },
      "source": [
        "# Model 4 / 5"
      ]
    },
    {
      "cell_type": "code",
      "metadata": {
        "id": "j8eUHPcjCn46",
        "outputId": "4642903c-54af-41ce-d4c3-2003f96a017d",
        "colab": {
          "base_uri": "https://localhost:8080/"
        }
      },
      "source": [
        "# this is responsible for early stopping as was recommended\n",
        "callback = tf.keras.callbacks.EarlyStopping(monitor='val_loss', patience=3)\n",
        "\n",
        "model4 = models.Sequential()\n",
        "\n",
        "model4.add(layers.Embedding(len(dataset.vocabulary), output_dim=32, input_length=200))\n",
        "model4.add(layers.Reshape(target_shape=(200, 32, 1)))\n",
        "model4.add(layers.Conv2D(kernel_size=5, filters=32, padding='same', activation='relu', strides=1))\n",
        "#model4.add(layers.MaxPool2D(strides=1, padding='same'))\n",
        "model4.add(layers.Conv2D(kernel_size=5, filters=128, padding='same', activation='relu', strides=1))\n",
        "#model4.add(layers.MaxPool2D(strides=1, padding='same'))\n",
        "model4.add(layers.Flatten())\n",
        "model4.add(layers.Dense(200, activation='relu'))\n",
        "model4.add(layers.Dense(18, activation='softmax')) \n",
        "\n",
        "model4.compile(optimizer=tf.keras.optimizers.Adam(lr=0.0001),\n",
        "              loss='categorical_crossentropy',\n",
        "              metrics=['accuracy'])\n",
        "model4.summary()"
      ],
      "execution_count": null,
      "outputs": [
        {
          "output_type": "stream",
          "text": [
            "Model: \"sequential_7\"\n",
            "_________________________________________________________________\n",
            "Layer (type)                 Output Shape              Param #   \n",
            "=================================================================\n",
            "embedding_7 (Embedding)      (None, 200, 32)           141664    \n",
            "_________________________________________________________________\n",
            "reshape_7 (Reshape)          (None, 200, 32, 1)        0         \n",
            "_________________________________________________________________\n",
            "conv2d_14 (Conv2D)           (None, 200, 32, 32)       832       \n",
            "_________________________________________________________________\n",
            "conv2d_15 (Conv2D)           (None, 200, 32, 128)      102528    \n",
            "_________________________________________________________________\n",
            "flatten_7 (Flatten)          (None, 819200)            0         \n",
            "_________________________________________________________________\n",
            "dense_14 (Dense)             (None, 200)               163840200 \n",
            "_________________________________________________________________\n",
            "dense_15 (Dense)             (None, 18)                3618      \n",
            "=================================================================\n",
            "Total params: 164,088,842\n",
            "Trainable params: 164,088,842\n",
            "Non-trainable params: 0\n",
            "_________________________________________________________________\n"
          ],
          "name": "stdout"
        }
      ]
    },
    {
      "cell_type": "code",
      "metadata": {
        "id": "sLj0lscdCn6N",
        "outputId": "8b8a03b1-e25f-4ee6-83b0-b023fedf88f7",
        "colab": {
          "base_uri": "https://localhost:8080/"
        }
      },
      "source": [
        "model4.fit(x = dataset.x_train, y = dataset.y_train, batch_size = 50, verbose=1, epochs=50, validation_data=(dataset.x_val, dataset.y_val), callbacks=[callback])"
      ],
      "execution_count": null,
      "outputs": [
        {
          "output_type": "stream",
          "text": [
            "Epoch 1/50\n",
            "1944/1944 [==============================] - ETA: 0s - loss: 0.8954 - accuracy: 0.7139WARNING:tensorflow:Callbacks method `on_test_batch_end` is slow compared to the batch time (batch time: 0.0020s vs `on_test_batch_end` time: 0.0193s). Check your callbacks.\n",
            "1944/1944 [==============================] - 190s 98ms/step - loss: 0.8954 - accuracy: 0.7139 - val_loss: 0.4571 - val_accuracy: 0.8626\n",
            "Epoch 2/50\n",
            "1944/1944 [==============================] - 189s 97ms/step - loss: 0.3341 - accuracy: 0.9012 - val_loss: 0.2629 - val_accuracy: 0.9220\n",
            "Epoch 3/50\n",
            "1944/1944 [==============================] - 188s 97ms/step - loss: 0.1933 - accuracy: 0.9433 - val_loss: 0.1830 - val_accuracy: 0.9456\n",
            "Epoch 4/50\n",
            "1944/1944 [==============================] - 187s 96ms/step - loss: 0.1209 - accuracy: 0.9640 - val_loss: 0.1334 - val_accuracy: 0.9631\n",
            "Epoch 5/50\n",
            "1944/1944 [==============================] - 187s 96ms/step - loss: 0.0783 - accuracy: 0.9767 - val_loss: 0.1173 - val_accuracy: 0.9665\n",
            "Epoch 6/50\n",
            "1944/1944 [==============================] - 187s 96ms/step - loss: 0.0532 - accuracy: 0.9841 - val_loss: 0.1056 - val_accuracy: 0.9747\n",
            "Epoch 7/50\n",
            "1944/1944 [==============================] - 187s 96ms/step - loss: 0.0351 - accuracy: 0.9904 - val_loss: 0.0990 - val_accuracy: 0.9775\n",
            "Epoch 8/50\n",
            "1944/1944 [==============================] - 187s 96ms/step - loss: 0.0247 - accuracy: 0.9936 - val_loss: 0.0966 - val_accuracy: 0.9781\n",
            "Epoch 9/50\n",
            "1944/1944 [==============================] - 186s 96ms/step - loss: 0.0155 - accuracy: 0.9960 - val_loss: 0.1025 - val_accuracy: 0.9794\n",
            "Epoch 10/50\n",
            "1944/1944 [==============================] - 186s 96ms/step - loss: 0.0137 - accuracy: 0.9967 - val_loss: 0.0956 - val_accuracy: 0.9838\n",
            "Epoch 11/50\n",
            "1944/1944 [==============================] - 187s 96ms/step - loss: 0.0077 - accuracy: 0.9983 - val_loss: 0.1247 - val_accuracy: 0.9776\n",
            "Epoch 12/50\n",
            "1944/1944 [==============================] - 186s 96ms/step - loss: 0.0096 - accuracy: 0.9977 - val_loss: 0.1080 - val_accuracy: 0.9819\n",
            "Epoch 13/50\n",
            "1944/1944 [==============================] - 186s 96ms/step - loss: 0.0060 - accuracy: 0.9986 - val_loss: 0.1061 - val_accuracy: 0.9824\n"
          ],
          "name": "stdout"
        },
        {
          "output_type": "execute_result",
          "data": {
            "text/plain": [
              "<tensorflow.python.keras.callbacks.History at 0x7fc90cdf0748>"
            ]
          },
          "metadata": {
            "tags": []
          },
          "execution_count": 71
        }
      ]
    },
    {
      "cell_type": "code",
      "metadata": {
        "id": "JpR1Oij1Cn7T",
        "outputId": "c969ed04-d9e3-4ef0-c58c-00c3ebfaedbc",
        "colab": {
          "base_uri": "https://localhost:8080/"
        }
      },
      "source": [
        "model4.evaluate(dataset.x_test, dataset.y_test)"
      ],
      "execution_count": null,
      "outputs": [
        {
          "output_type": "stream",
          "text": [
            "415/415 [==============================] - 8s 19ms/step - loss: 1.3276 - accuracy: 0.8464\n"
          ],
          "name": "stdout"
        },
        {
          "output_type": "execute_result",
          "data": {
            "text/plain": [
              "[1.3275991678237915, 0.8464492559432983]"
            ]
          },
          "metadata": {
            "tags": []
          },
          "execution_count": 72
        }
      ]
    },
    {
      "cell_type": "markdown",
      "metadata": {
        "id": "VtJ3ke9u6Mbj"
      },
      "source": [
        "# Model 5 / 5"
      ]
    },
    {
      "cell_type": "code",
      "metadata": {
        "id": "0PPh70a9nfZM",
        "outputId": "6d4b3627-74c0-43f7-a72e-b662782943b3",
        "colab": {
          "base_uri": "https://localhost:8080/"
        }
      },
      "source": [
        "# this is responsible for early stopping as was recommended\n",
        "callback = tf.keras.callbacks.EarlyStopping(monitor='val_loss', patience=3)\n",
        "\n",
        "model5 = models.Sequential()\n",
        "\n",
        "model5.add(layers.Embedding(len(dataset.vocabulary), output_dim=32, input_length=200))\n",
        "model5.add(layers.Reshape(target_shape=(200, 32, 1)))\n",
        "model5.add(layers.Conv2D(kernel_size=3, filters=32, padding='same', activation='relu', strides=1))\n",
        "model5.add(layers.MaxPool2D(strides=1, padding='same'))\n",
        "model5.add(layers.Conv2D(kernel_size=3, filters=128, padding='same', activation='relu', strides=1))\n",
        "model5.add(layers.MaxPool2D(strides=1, padding='same'))\n",
        "model5.add(layers.Flatten())\n",
        "model5.add(layers.Dense(200, activation='relu'))\n",
        "model5.add(layers.Dense(18, activation='softmax')) \n",
        "\n",
        "model5.compile(optimizer=tf.keras.optimizers.RMSprop(lr=0.0001),\n",
        "              loss='categorical_crossentropy',\n",
        "              metrics=['accuracy'])\n",
        "model5.summary()"
      ],
      "execution_count": null,
      "outputs": [
        {
          "output_type": "stream",
          "text": [
            "Model: \"sequential_1\"\n",
            "_________________________________________________________________\n",
            "Layer (type)                 Output Shape              Param #   \n",
            "=================================================================\n",
            "embedding_1 (Embedding)      (None, 200, 32)           142208    \n",
            "_________________________________________________________________\n",
            "reshape_1 (Reshape)          (None, 200, 32, 1)        0         \n",
            "_________________________________________________________________\n",
            "conv2d_2 (Conv2D)            (None, 200, 32, 32)       320       \n",
            "_________________________________________________________________\n",
            "max_pooling2d_2 (MaxPooling2 (None, 200, 32, 32)       0         \n",
            "_________________________________________________________________\n",
            "conv2d_3 (Conv2D)            (None, 200, 32, 128)      36992     \n",
            "_________________________________________________________________\n",
            "max_pooling2d_3 (MaxPooling2 (None, 200, 32, 128)      0         \n",
            "_________________________________________________________________\n",
            "flatten_1 (Flatten)          (None, 819200)            0         \n",
            "_________________________________________________________________\n",
            "dense_2 (Dense)              (None, 200)               163840200 \n",
            "_________________________________________________________________\n",
            "dense_3 (Dense)              (None, 18)                3618      \n",
            "=================================================================\n",
            "Total params: 164,023,338\n",
            "Trainable params: 164,023,338\n",
            "Non-trainable params: 0\n",
            "_________________________________________________________________\n"
          ],
          "name": "stdout"
        }
      ]
    },
    {
      "cell_type": "code",
      "metadata": {
        "id": "IdQ-cGiknfZv",
        "outputId": "a0266b36-9362-4ae5-e7e5-b57eb0a23e10",
        "colab": {
          "base_uri": "https://localhost:8080/"
        }
      },
      "source": [
        "model5.fit(x = dataset.x_train, y = dataset.y_train, batch_size = 100, verbose=1, epochs=50, validation_data=(dataset.x_val, dataset.y_val), callbacks=[callback])"
      ],
      "execution_count": null,
      "outputs": [
        {
          "output_type": "stream",
          "text": [
            "Epoch 1/50\n",
            "972/972 [==============================] - ETA: 0s - loss: 1.2713 - accuracy: 0.5921WARNING:tensorflow:Callbacks method `on_test_batch_end` is slow compared to the batch time (batch time: 0.0020s vs `on_test_batch_end` time: 0.0497s). Check your callbacks.\n",
            "972/972 [==============================] - 231s 237ms/step - loss: 1.2713 - accuracy: 0.5921 - val_loss: 0.7764 - val_accuracy: 0.7365\n",
            "Epoch 2/50\n",
            "972/972 [==============================] - 230s 237ms/step - loss: 0.6014 - accuracy: 0.8110 - val_loss: 0.4643 - val_accuracy: 0.8569\n",
            "Epoch 3/50\n",
            "972/972 [==============================] - 230s 237ms/step - loss: 0.4130 - accuracy: 0.8742 - val_loss: 0.3478 - val_accuracy: 0.8956\n",
            "Epoch 4/50\n",
            "972/972 [==============================] - 230s 236ms/step - loss: 0.3069 - accuracy: 0.9077 - val_loss: 0.2812 - val_accuracy: 0.9137\n",
            "Epoch 5/50\n",
            "972/972 [==============================] - 230s 236ms/step - loss: 0.2387 - accuracy: 0.9280 - val_loss: 0.2240 - val_accuracy: 0.9365\n",
            "Epoch 6/50\n",
            "972/972 [==============================] - 230s 236ms/step - loss: 0.1917 - accuracy: 0.9416 - val_loss: 0.1883 - val_accuracy: 0.9444\n",
            "Epoch 7/50\n",
            "972/972 [==============================] - 230s 236ms/step - loss: 0.1545 - accuracy: 0.9534 - val_loss: 0.1646 - val_accuracy: 0.9506\n",
            "Epoch 8/50\n",
            "972/972 [==============================] - 230s 236ms/step - loss: 0.1251 - accuracy: 0.9627 - val_loss: 0.1513 - val_accuracy: 0.9560\n",
            "Epoch 9/50\n",
            "972/972 [==============================] - 230s 237ms/step - loss: 0.1012 - accuracy: 0.9695 - val_loss: 0.1478 - val_accuracy: 0.9625\n",
            "Epoch 10/50\n",
            "972/972 [==============================] - 230s 237ms/step - loss: 0.0828 - accuracy: 0.9752 - val_loss: 0.1468 - val_accuracy: 0.9597\n",
            "Epoch 11/50\n",
            "972/972 [==============================] - 230s 237ms/step - loss: 0.0685 - accuracy: 0.9796 - val_loss: 0.1465 - val_accuracy: 0.9606\n",
            "Epoch 12/50\n",
            "972/972 [==============================] - 230s 237ms/step - loss: 0.0574 - accuracy: 0.9828 - val_loss: 0.1195 - val_accuracy: 0.9708\n",
            "Epoch 13/50\n",
            "972/972 [==============================] - 230s 237ms/step - loss: 0.0470 - accuracy: 0.9859 - val_loss: 0.1176 - val_accuracy: 0.9736\n",
            "Epoch 14/50\n",
            "972/972 [==============================] - 231s 237ms/step - loss: 0.0405 - accuracy: 0.9879 - val_loss: 0.1243 - val_accuracy: 0.9730\n",
            "Epoch 15/50\n",
            "972/972 [==============================] - 231s 237ms/step - loss: 0.0334 - accuracy: 0.9906 - val_loss: 0.1207 - val_accuracy: 0.9763\n",
            "Epoch 16/50\n",
            "972/972 [==============================] - 230s 237ms/step - loss: 0.0286 - accuracy: 0.9915 - val_loss: 0.1155 - val_accuracy: 0.9783\n",
            "Epoch 17/50\n",
            "972/972 [==============================] - 230s 237ms/step - loss: 0.0246 - accuracy: 0.9932 - val_loss: 0.1180 - val_accuracy: 0.9779\n",
            "Epoch 18/50\n",
            "972/972 [==============================] - 230s 237ms/step - loss: 0.0209 - accuracy: 0.9943 - val_loss: 0.1266 - val_accuracy: 0.9773\n",
            "Epoch 19/50\n",
            "972/972 [==============================] - 231s 237ms/step - loss: 0.0185 - accuracy: 0.9950 - val_loss: 0.1272 - val_accuracy: 0.9794\n"
          ],
          "name": "stdout"
        },
        {
          "output_type": "execute_result",
          "data": {
            "text/plain": [
              "<tensorflow.python.keras.callbacks.History at 0x7f09655befd0>"
            ]
          },
          "metadata": {
            "tags": []
          },
          "execution_count": 20
        }
      ]
    },
    {
      "cell_type": "code",
      "metadata": {
        "id": "z_ZmkycWnfZ5",
        "outputId": "2fcb3635-37ae-45e2-a2d8-475f957e85ee",
        "colab": {
          "base_uri": "https://localhost:8080/"
        }
      },
      "source": [
        "model5.evaluate(dataset.x_test, dataset.y_test)"
      ],
      "execution_count": null,
      "outputs": [
        {
          "output_type": "stream",
          "text": [
            "415/415 [==============================] - 15s 35ms/step - loss: 1.2893 - accuracy: 0.8602\n"
          ],
          "name": "stdout"
        },
        {
          "output_type": "execute_result",
          "data": {
            "text/plain": [
              "[1.2892601490020752, 0.8601551055908203]"
            ]
          },
          "metadata": {
            "tags": []
          },
          "execution_count": 21
        }
      ]
    },
    {
      "cell_type": "markdown",
      "metadata": {
        "id": "0cB2HdMpUjJt"
      },
      "source": [
        "# Create Confusion Matrix\n",
        "\n",
        "We created the confusion matrix for model 4. We create two different confusion matrices to be able to see which labels get confused most often. All of the interpretation can be found in the lab report."
      ]
    },
    {
      "cell_type": "code",
      "metadata": {
        "id": "tUwonGkGCn76",
        "outputId": "6d9a4013-a62e-4c5c-9bcf-1200d53e269f",
        "colab": {
          "base_uri": "https://localhost:8080/"
        }
      },
      "source": [
        "pred4 = np.argmax(model4.predict(dataset.x_test), axis=-1)\n",
        "pred4.tolist() # the labels that we got from the model"
      ],
      "execution_count": null,
      "outputs": [
        {
          "output_type": "execute_result",
          "data": {
            "text/plain": [
              "array([ 2, 17,  2, ..., 12,  7, 17])"
            ]
          },
          "metadata": {
            "tags": []
          },
          "execution_count": 73
        }
      ]
    },
    {
      "cell_type": "code",
      "metadata": {
        "id": "bWr5uYVpAKMR",
        "outputId": "9fe98b1a-91c5-4116-fab0-116c715e08f7",
        "colab": {
          "base_uri": "https://localhost:8080/"
        }
      },
      "source": [
        "np.array(dataset.test_labels_numbers) # the actual labels in numbers"
      ],
      "execution_count": null,
      "outputs": [
        {
          "output_type": "execute_result",
          "data": {
            "text/plain": [
              "array([ 2, 17,  2, ...,  3,  7, 17])"
            ]
          },
          "metadata": {
            "tags": []
          },
          "execution_count": 57
        }
      ]
    },
    {
      "cell_type": "code",
      "metadata": {
        "id": "ySe3RqzQuF1g"
      },
      "source": [
        "true_labels = dataset.test_labels_numbers"
      ],
      "execution_count": null,
      "outputs": []
    },
    {
      "cell_type": "code",
      "metadata": {
        "id": "AemK_NxKCYdm",
        "outputId": "dd4d8851-0155-4377-897b-ef0b8fe3ce39",
        "colab": {
          "base_uri": "https://localhost:8080/"
        }
      },
      "source": [
        "dataset.labels_encoded"
      ],
      "execution_count": null,
      "outputs": [
        {
          "output_type": "execute_result",
          "data": {
            "text/plain": [
              "['ar',\n",
              " 'de',\n",
              " 'en',\n",
              " 'es',\n",
              " 'fr',\n",
              " 'id',\n",
              " 'it',\n",
              " 'ja',\n",
              " 'ko',\n",
              " 'ms',\n",
              " 'nl',\n",
              " 'other',\n",
              " 'pt',\n",
              " 'ru',\n",
              " 'th',\n",
              " 'tl',\n",
              " 'tr',\n",
              " 'und']"
            ]
          },
          "metadata": {
            "tags": []
          },
          "execution_count": 63
        }
      ]
    },
    {
      "cell_type": "code",
      "metadata": {
        "id": "aOQzbMtuQjjX"
      },
      "source": [
        "from sklearn.metrics import confusion_matrix\n",
        "import matplotlib.pyplot as plt\n",
        "%matplotlib inline"
      ],
      "execution_count": null,
      "outputs": []
    },
    {
      "cell_type": "markdown",
      "metadata": {
        "id": "PLXF43HWrcyT"
      },
      "source": [
        "mapping the classes to their number representation that we created in the dataset class"
      ]
    },
    {
      "cell_type": "code",
      "metadata": {
        "id": "dccowc_8t6jS"
      },
      "source": [
        "labels = {}\n",
        "for idx, label in enumerate(dataset.labels_encoded):\n",
        "    labels[str(idx)] = label\n"
      ],
      "execution_count": null,
      "outputs": []
    },
    {
      "cell_type": "markdown",
      "metadata": {
        "id": "dcdaqilrrXsD"
      },
      "source": [
        "Converting the classes in the list to numbers"
      ]
    },
    {
      "cell_type": "code",
      "metadata": {
        "id": "eGY24aouRfkZ"
      },
      "source": [
        "p4 = pred4.tolist()\n",
        "for idx, c in enumerate(p4):\n",
        "    p4[idx] = labels[str(c)]\n",
        "\n",
        "for idx, c in enumerate(true_labels):\n",
        "    true_labels[idx] = labels[str(c)]"
      ],
      "execution_count": null,
      "outputs": []
    },
    {
      "cell_type": "markdown",
      "metadata": {
        "id": "PfhflG8Arsn7"
      },
      "source": [
        "It is difficult to properly interpret the figures as they use the numbers instead of the labels, but we can see that not many classes got confused in general. Below we have a solution to be able to interpret it better."
      ]
    },
    {
      "cell_type": "code",
      "metadata": {
        "id": "FcOGc0UFQhnm",
        "outputId": "9e8824e4-8e8c-4a7c-d0a0-7f45c6b3ec9c",
        "colab": {
          "base_uri": "https://localhost:8080/",
          "height": 275
        }
      },
      "source": [
        "conf_mx = confusion_matrix(true_labels, p4, labels=dataset.labels_encoded)\n",
        "plt.matshow(conf_mx, cmap=plt.cm.gray)\n",
        "plt.show()"
      ],
      "execution_count": null,
      "outputs": [
        {
          "output_type": "display_data",
          "data": {
            "image/png": "[encoded data removed]",
            "text/plain": [
              "<Figure size 288x288 with 1 Axes>"
            ]
          },
          "metadata": {
            "tags": [],
            "needs_background": "light"
          }
        }
      ]
    },
    {
      "cell_type": "code",
      "metadata": {
        "id": "v5zLyJpFSyev"
      },
      "source": [
        "def create_better_confusion_matrix(pred, true):\n",
        "    conf_mx = confusion_matrix(true, pred, labels=dataset.labels_encoded, normalize=\"true\")\n",
        "    np.fill_diagonal(conf_mx, 0)\n",
        "    \n",
        "    plt.matshow(conf_mx, cmap=plt.cm.gray)\n",
        "    plt.show()\n",
        "    \n",
        "    return conf_mx"
      ],
      "execution_count": null,
      "outputs": []
    },
    {
      "cell_type": "code",
      "metadata": {
        "id": "xm5Tlh48T_yv",
        "outputId": "29c64737-6900-4fc9-f475-38ff08b76fb4",
        "colab": {
          "base_uri": "https://localhost:8080/",
          "height": 275
        }
      },
      "source": [
        "ncm = create_better_confusion_matrix(p4, true_labels)"
      ],
      "execution_count": null,
      "outputs": [
        {
          "output_type": "display_data",
          "data": {
            "image/png": "[encoded data removed]",
            "text/plain": [
              "<Figure size 288x288 with 1 Axes>"
            ]
          },
          "metadata": {
            "tags": [],
            "needs_background": "light"
          }
        }
      ]
    },
    {
      "cell_type": "markdown",
      "metadata": {
        "id": "y8t9xUVsUxoU"
      },
      "source": [
        "As the above matrices are not very clear because they use the numbers instead of the class labels we created the following fucntion:\n",
        "The following function enabels us to see which label got confused with which other how many times (as percentage)"
      ]
    },
    {
      "cell_type": "code",
      "metadata": {
        "id": "azd8ou2BTBt6",
        "outputId": "320b0f1d-5896-4fcb-9693-f3c04c0b2ce3",
        "colab": {
          "base_uri": "https://localhost:8080/"
        }
      },
      "source": [
        "for ind, label in enumerate(dataset.labels_encoded):\n",
        "    most = dataset.labels_encoded[np.argmax(ncm[ind, :])]\n",
        "    val = np.max(ncm[ind, :])\n",
        "    print(f'{label}\\t~~\\t{most}\\t({val*100:.2f}%)')"
      ],
      "execution_count": null,
      "outputs": [
        {
          "output_type": "stream",
          "text": [
            "ar\t~~\tko\t(0.19%)\n",
            "de\t~~\ten\t(18.00%)\n",
            "en\t~~\tund\t(3.89%)\n",
            "es\t~~\tpt\t(7.59%)\n",
            "fr\t~~\tes\t(14.29%)\n",
            "id\t~~\tund\t(6.12%)\n",
            "it\t~~\tes\t(25.00%)\n",
            "ja\t~~\tund\t(1.17%)\n",
            "ko\t~~\tund\t(5.45%)\n",
            "ms\t~~\tid\t(67.74%)\n",
            "nl\t~~\ten\t(27.91%)\n",
            "other\t~~\tar\t(0.00%)\n",
            "pt\t~~\tes\t(17.02%)\n",
            "ru\t~~\tund\t(0.82%)\n",
            "th\t~~\tar\t(0.00%)\n",
            "tl\t~~\tid\t(29.21%)\n",
            "tr\t~~\tid\t(8.62%)\n",
            "und\t~~\ten\t(6.79%)\n"
          ],
          "name": "stdout"
        }
      ]
    },
    {
      "cell_type": "markdown",
      "metadata": {
        "id": "BXqPJA5_u-Vp"
      },
      "source": [
        "# TALOS\n",
        "in this part we use talos to search for the best model and create the heatmap"
      ]
    },
    {
      "cell_type": "code",
      "metadata": {
        "id": "G4pj4waqCEnX",
        "outputId": "d09470b6-9afc-409f-c703-b454d65adea8",
        "colab": {
          "base_uri": "https://localhost:8080/"
        }
      },
      "source": [
        "!python -c 'import talos' || pip install talos"
      ],
      "execution_count": null,
      "outputs": [
        {
          "output_type": "stream",
          "text": [
            "Using TensorFlow backend.\n",
            "2020-11-06 14:39:16.282067: I tensorflow/stream_executor/platform/default/dso_loader.cc:48] Successfully opened dynamic library libcudart.so.10.1\n"
          ],
          "name": "stdout"
        }
      ]
    },
    {
      "cell_type": "markdown",
      "metadata": {
        "id": "LP41wqiNvHQ7"
      },
      "source": [
        "in the following cells we set up the model and the parameters for talos to use, note that the model is exactly the same as the models above"
      ]
    },
    {
      "cell_type": "code",
      "metadata": {
        "id": "NKCy3ONILsW7"
      },
      "source": [
        "from talos import Scan\n",
        "from talos import Reporting\n",
        "from tensorflow.keras import callbacks"
      ],
      "execution_count": null,
      "outputs": []
    },
    {
      "cell_type": "code",
      "metadata": {
        "id": "hyeWXeWQgGpX"
      },
      "source": [
        "callback = callbacks.EarlyStopping(\n",
        "    monitor='val_loss', min_delta=0, patience=1, verbose=0, mode='auto',\n",
        "    baseline=None, restore_best_weights=False\n",
        ")"
      ],
      "execution_count": null,
      "outputs": []
    },
    {
      "cell_type": "code",
      "metadata": {
        "id": "lhvcMIT0-WmK"
      },
      "source": [
        "p = {'optimizer': ['Adam', 'RMSprop'],\n",
        "     'batch_size': [100],\n",
        "     'strides': [1],\n",
        "     'padding': ['same'],\n",
        "     'kernel_size': [2, 3],\n",
        "     'filters': [32, 64, 128],\n",
        "     'epochs': [30]}"
      ],
      "execution_count": null,
      "outputs": []
    },
    {
      "cell_type": "code",
      "metadata": {
        "id": "g_-D84uH-E8V"
      },
      "source": [
        "def model(x_train, y_train, x_val, y_val, params):\n",
        "    model = models.Sequential()\n",
        "    model.add(layers.Embedding(len(dataset.vocabulary),\n",
        "                            output_dim=32, input_length=200))\n",
        "    model.add(layers.Reshape(target_shape=(200, 32, 1)))\n",
        "    model.add(layers.Conv2D(activation='relu',\n",
        "                            strides=params['strides'], \n",
        "                            padding=params['padding'],\n",
        "                            kernel_size=params['kernel_size'],\n",
        "                            filters=params['filters']\n",
        "                            ))\n",
        "    model.add(layers.MaxPool2D(strides=params['strides'], \n",
        "                            padding=params['padding'],))\n",
        "    model.add(layers.Conv2D(activation='relu',\n",
        "                            strides=params['strides'], \n",
        "                            padding=params['padding'],\n",
        "                            kernel_size=params['kernel_size'],\n",
        "                            filters=params['filters']\n",
        "                            ))\n",
        "    model.add(layers.MaxPool2D(strides=params['strides'], \n",
        "                            padding=params['padding'],))\n",
        "    model.add(layers.Flatten())\n",
        "    model.add(layers.Dense(200, activation='relu'))\n",
        "    model.add(layers.Dense(18, activation='softmax'))\n",
        "\n",
        "    \n",
        "    model.compile(optimizer=params['optimizer'], \n",
        "                            loss='categorical_crossentropy', \n",
        "                            metrics=['accuracy'],)\n",
        "    \n",
        "    history = model.fit(x_train, \n",
        "                    y_train,\n",
        "                    batch_size=params['batch_size'],\n",
        "                    epochs=params['epochs'],\n",
        "                    verbose=1,\n",
        "                    validation_data=(x_val, y_val),\n",
        "                    callbacks=[callback])\n",
        "    \n",
        "    \n",
        "    return history, model"
      ],
      "execution_count": null,
      "outputs": []
    },
    {
      "cell_type": "code",
      "metadata": {
        "id": "DqG-4PCt-E82",
        "outputId": "8f4034b0-b6a3-482d-97df-d25c29187abe",
        "colab": {
          "base_uri": "https://localhost:8080/"
        }
      },
      "source": [
        "scan = Scan(dataset.x_train, \n",
        "     dataset.y_train, \n",
        "     model=model, \n",
        "     params=p,\n",
        "     print_params=True, \n",
        "     reduction_metric=\"val_loss\",\n",
        "     experiment_name='lang_class',\n",
        "     x_val=dataset.x_val,\n",
        "     y_val=dataset.y_val)"
      ],
      "execution_count": null,
      "outputs": [
        {
          "output_type": "stream",
          "text": [
            "\r  0%|          | 0/12 [00:00<?, ?it/s]"
          ],
          "name": "stderr"
        },
        {
          "output_type": "stream",
          "text": [
            "{'batch_size': 100, 'epochs': 30, 'filters': 32, 'kernel_size': 2, 'optimizer': 'Adam', 'padding': 'same', 'strides': 1}\n",
            "Epoch 1/30\n",
            "972/972 [==============================] - ETA: 0s - loss: 0.5836 - accuracy: 0.8183WARNING:tensorflow:Callbacks method `on_test_batch_end` is slow compared to the batch time (batch time: 0.0022s vs `on_test_batch_end` time: 0.0085s). Check your callbacks.\n",
            "972/972 [==============================] - 44s 45ms/step - loss: 0.5836 - accuracy: 0.8183 - val_loss: 0.2049 - val_accuracy: 0.9401\n",
            "Epoch 2/30\n",
            "972/972 [==============================] - 44s 45ms/step - loss: 0.1306 - accuracy: 0.9615 - val_loss: 0.1040 - val_accuracy: 0.9709\n",
            "Epoch 3/30\n",
            "972/972 [==============================] - 45s 46ms/step - loss: 0.0645 - accuracy: 0.9801 - val_loss: 0.0910 - val_accuracy: 0.9762\n",
            "Epoch 4/30\n",
            "972/972 [==============================] - 45s 46ms/step - loss: 0.0433 - accuracy: 0.9867 - val_loss: 0.0865 - val_accuracy: 0.9803\n",
            "Epoch 5/30\n",
            "972/972 [==============================] - 46s 47ms/step - loss: 0.0290 - accuracy: 0.9913 - val_loss: 0.0971 - val_accuracy: 0.9818\n"
          ],
          "name": "stdout"
        },
        {
          "output_type": "stream",
          "text": [
            "\r  8%|▊         | 1/12 [03:51<42:30, 231.88s/it]"
          ],
          "name": "stderr"
        },
        {
          "output_type": "stream",
          "text": [
            "{'batch_size': 100, 'epochs': 30, 'filters': 32, 'kernel_size': 2, 'optimizer': 'RMSprop', 'padding': 'same', 'strides': 1}\n",
            "Epoch 1/30\n",
            "972/972 [==============================] - ETA: 0s - loss: 0.6796 - accuracy: 0.7851WARNING:tensorflow:Callbacks method `on_test_batch_end` is slow compared to the batch time (batch time: 0.0049s vs `on_test_batch_end` time: 0.0075s). Check your callbacks.\n",
            "972/972 [==============================] - 55s 57ms/step - loss: 0.6796 - accuracy: 0.7851 - val_loss: 0.2071 - val_accuracy: 0.9367\n",
            "Epoch 2/30\n",
            "972/972 [==============================] - 55s 57ms/step - loss: 0.1423 - accuracy: 0.9567 - val_loss: 0.1188 - val_accuracy: 0.9683\n",
            "Epoch 3/30\n",
            "972/972 [==============================] - 55s 57ms/step - loss: 0.0664 - accuracy: 0.9798 - val_loss: 0.1050 - val_accuracy: 0.9750\n",
            "Epoch 4/30\n",
            "972/972 [==============================] - 55s 57ms/step - loss: 0.0366 - accuracy: 0.9889 - val_loss: 0.0970 - val_accuracy: 0.9806\n",
            "Epoch 5/30\n",
            "972/972 [==============================] - 55s 57ms/step - loss: 0.0209 - accuracy: 0.9937 - val_loss: 0.1019 - val_accuracy: 0.9818\n"
          ],
          "name": "stdout"
        },
        {
          "output_type": "stream",
          "text": [
            "\r 17%|█▋        | 2/12 [08:29<40:56, 245.63s/it]"
          ],
          "name": "stderr"
        },
        {
          "output_type": "stream",
          "text": [
            "{'batch_size': 100, 'epochs': 30, 'filters': 32, 'kernel_size': 3, 'optimizer': 'Adam', 'padding': 'same', 'strides': 1}\n",
            "Epoch 1/30\n",
            "972/972 [==============================] - ETA: 0s - loss: 0.6752 - accuracy: 0.7838WARNING:tensorflow:Callbacks method `on_test_batch_end` is slow compared to the batch time (batch time: 0.0023s vs `on_test_batch_end` time: 0.0085s). Check your callbacks.\n",
            "972/972 [==============================] - 49s 51ms/step - loss: 0.6752 - accuracy: 0.7838 - val_loss: 0.2057 - val_accuracy: 0.9422\n",
            "Epoch 2/30\n",
            "972/972 [==============================] - 50s 51ms/step - loss: 0.1232 - accuracy: 0.9620 - val_loss: 0.1418 - val_accuracy: 0.9583\n",
            "Epoch 3/30\n",
            "972/972 [==============================] - 50s 51ms/step - loss: 0.0533 - accuracy: 0.9832 - val_loss: 0.0974 - val_accuracy: 0.9744\n",
            "Epoch 4/30\n",
            "972/972 [==============================] - 50s 51ms/step - loss: 0.0347 - accuracy: 0.9892 - val_loss: 0.0942 - val_accuracy: 0.9793\n",
            "Epoch 5/30\n",
            "972/972 [==============================] - 50s 51ms/step - loss: 0.0206 - accuracy: 0.9937 - val_loss: 0.0917 - val_accuracy: 0.9822\n",
            "Epoch 6/30\n",
            "972/972 [==============================] - 50s 51ms/step - loss: 0.0180 - accuracy: 0.9949 - val_loss: 0.1102 - val_accuracy: 0.9806\n"
          ],
          "name": "stdout"
        },
        {
          "output_type": "stream",
          "text": [
            "\r 25%|██▌       | 3/12 [13:30<39:18, 262.10s/it]"
          ],
          "name": "stderr"
        },
        {
          "output_type": "stream",
          "text": [
            "{'batch_size': 100, 'epochs': 30, 'filters': 32, 'kernel_size': 3, 'optimizer': 'RMSprop', 'padding': 'same', 'strides': 1}\n",
            "Epoch 1/30\n",
            "972/972 [==============================] - ETA: 0s - loss: 0.6584 - accuracy: 0.7908WARNING:tensorflow:Callbacks method `on_test_batch_end` is slow compared to the batch time (batch time: 0.0027s vs `on_test_batch_end` time: 0.0089s). Check your callbacks.\n",
            "972/972 [==============================] - 57s 59ms/step - loss: 0.6584 - accuracy: 0.7908 - val_loss: 0.1869 - val_accuracy: 0.9425\n",
            "Epoch 2/30\n",
            "972/972 [==============================] - 57s 58ms/step - loss: 0.1254 - accuracy: 0.9620 - val_loss: 0.0934 - val_accuracy: 0.9722\n",
            "Epoch 3/30\n",
            "972/972 [==============================] - 57s 59ms/step - loss: 0.0544 - accuracy: 0.9837 - val_loss: 0.0898 - val_accuracy: 0.9802\n",
            "Epoch 4/30\n",
            "972/972 [==============================] - 56s 58ms/step - loss: 0.0290 - accuracy: 0.9919 - val_loss: 0.0848 - val_accuracy: 0.9823\n",
            "Epoch 5/30\n",
            "972/972 [==============================] - 57s 58ms/step - loss: 0.0169 - accuracy: 0.9952 - val_loss: 0.1049 - val_accuracy: 0.9855\n"
          ],
          "name": "stdout"
        },
        {
          "output_type": "stream",
          "text": [
            "\r 33%|███▎      | 4/12 [18:16<35:53, 269.24s/it]"
          ],
          "name": "stderr"
        },
        {
          "output_type": "stream",
          "text": [
            "{'batch_size': 100, 'epochs': 30, 'filters': 64, 'kernel_size': 2, 'optimizer': 'Adam', 'padding': 'same', 'strides': 1}\n",
            "Epoch 1/30\n",
            "972/972 [==============================] - ETA: 0s - loss: 0.7600 - accuracy: 0.7595WARNING:tensorflow:Callbacks method `on_test_batch_end` is slow compared to the batch time (batch time: 0.0023s vs `on_test_batch_end` time: 0.0197s). Check your callbacks.\n",
            "972/972 [==============================] - 91s 94ms/step - loss: 0.7600 - accuracy: 0.7595 - val_loss: 0.2369 - val_accuracy: 0.9299\n",
            "Epoch 2/30\n",
            "972/972 [==============================] - 91s 93ms/step - loss: 0.1587 - accuracy: 0.9524 - val_loss: 0.1238 - val_accuracy: 0.9648\n",
            "Epoch 3/30\n",
            "972/972 [==============================] - 91s 94ms/step - loss: 0.0738 - accuracy: 0.9768 - val_loss: 0.0986 - val_accuracy: 0.9744\n",
            "Epoch 4/30\n",
            "972/972 [==============================] - 91s 94ms/step - loss: 0.0463 - accuracy: 0.9853 - val_loss: 0.0901 - val_accuracy: 0.9804\n",
            "Epoch 5/30\n",
            "972/972 [==============================] - 91s 94ms/step - loss: 0.0328 - accuracy: 0.9902 - val_loss: 0.0949 - val_accuracy: 0.9790\n"
          ],
          "name": "stdout"
        },
        {
          "output_type": "stream",
          "text": [
            "\r 42%|████▏     | 5/12 [25:53<37:59, 325.68s/it]"
          ],
          "name": "stderr"
        },
        {
          "output_type": "stream",
          "text": [
            "{'batch_size': 100, 'epochs': 30, 'filters': 64, 'kernel_size': 2, 'optimizer': 'RMSprop', 'padding': 'same', 'strides': 1}\n",
            "Epoch 1/30\n",
            "972/972 [==============================] - ETA: 0s - loss: 0.6764 - accuracy: 0.7912WARNING:tensorflow:Callbacks method `on_test_batch_end` is slow compared to the batch time (batch time: 0.0027s vs `on_test_batch_end` time: 0.0199s). Check your callbacks.\n",
            "972/972 [==============================] - 104s 107ms/step - loss: 0.6764 - accuracy: 0.7912 - val_loss: 0.1848 - val_accuracy: 0.9434\n",
            "Epoch 2/30\n",
            "972/972 [==============================] - 104s 107ms/step - loss: 0.1166 - accuracy: 0.9651 - val_loss: 0.1105 - val_accuracy: 0.9682\n",
            "Epoch 3/30\n",
            "972/972 [==============================] - 104s 107ms/step - loss: 0.0500 - accuracy: 0.9844 - val_loss: 0.0847 - val_accuracy: 0.9804\n",
            "Epoch 4/30\n",
            "972/972 [==============================] - 104s 107ms/step - loss: 0.0264 - accuracy: 0.9919 - val_loss: 0.0859 - val_accuracy: 0.9823\n"
          ],
          "name": "stdout"
        },
        {
          "output_type": "stream",
          "text": [
            "\r 50%|█████     | 6/12 [32:51<35:20, 353.42s/it]"
          ],
          "name": "stderr"
        },
        {
          "output_type": "stream",
          "text": [
            "{'batch_size': 100, 'epochs': 30, 'filters': 64, 'kernel_size': 3, 'optimizer': 'Adam', 'padding': 'same', 'strides': 1}\n",
            "Epoch 1/30\n",
            "972/972 [==============================] - ETA: 0s - loss: 0.7377 - accuracy: 0.7661WARNING:tensorflow:Callbacks method `on_test_batch_end` is slow compared to the batch time (batch time: 0.0024s vs `on_test_batch_end` time: 0.0240s). Check your callbacks.\n",
            "972/972 [==============================] - 102s 105ms/step - loss: 0.7377 - accuracy: 0.7661 - val_loss: 0.2812 - val_accuracy: 0.9161\n",
            "Epoch 2/30\n",
            "972/972 [==============================] - 101s 104ms/step - loss: 0.1845 - accuracy: 0.9430 - val_loss: 0.1562 - val_accuracy: 0.9524\n",
            "Epoch 3/30\n",
            "972/972 [==============================] - 101s 104ms/step - loss: 0.0952 - accuracy: 0.9688 - val_loss: 0.1270 - val_accuracy: 0.9642\n",
            "Epoch 4/30\n",
            "972/972 [==============================] - 101s 104ms/step - loss: 0.0638 - accuracy: 0.9795 - val_loss: 0.1249 - val_accuracy: 0.9682\n",
            "Epoch 5/30\n",
            "972/972 [==============================] - 101s 104ms/step - loss: 0.0425 - accuracy: 0.9864 - val_loss: 0.1371 - val_accuracy: 0.9678\n"
          ],
          "name": "stdout"
        },
        {
          "output_type": "stream",
          "text": [
            "\r 58%|█████▊    | 7/12 [41:21<33:21, 400.26s/it]"
          ],
          "name": "stderr"
        },
        {
          "output_type": "stream",
          "text": [
            "{'batch_size': 100, 'epochs': 30, 'filters': 64, 'kernel_size': 3, 'optimizer': 'RMSprop', 'padding': 'same', 'strides': 1}\n",
            "Epoch 1/30\n",
            "972/972 [==============================] - ETA: 0s - loss: 0.5683 - accuracy: 0.8224WARNING:tensorflow:Callbacks method `on_test_batch_end` is slow compared to the batch time (batch time: 0.0023s vs `on_test_batch_end` time: 0.0221s). Check your callbacks.\n",
            "972/972 [==============================] - 116s 119ms/step - loss: 0.5683 - accuracy: 0.8224 - val_loss: 0.1460 - val_accuracy: 0.9563\n",
            "Epoch 2/30\n",
            "972/972 [==============================] - 116s 119ms/step - loss: 0.0905 - accuracy: 0.9723 - val_loss: 0.0811 - val_accuracy: 0.9780\n",
            "Epoch 3/30\n",
            "972/972 [==============================] - 116s 119ms/step - loss: 0.0354 - accuracy: 0.9897 - val_loss: 0.0870 - val_accuracy: 0.9817\n"
          ],
          "name": "stdout"
        },
        {
          "output_type": "stream",
          "text": [
            "\r 67%|██████▋   | 8/12 [47:10<25:39, 384.93s/it]"
          ],
          "name": "stderr"
        },
        {
          "output_type": "stream",
          "text": [
            "{'batch_size': 100, 'epochs': 30, 'filters': 128, 'kernel_size': 2, 'optimizer': 'Adam', 'padding': 'same', 'strides': 1}\n",
            "Epoch 1/30\n",
            "972/972 [==============================] - ETA: 0s - loss: 0.7954 - accuracy: 0.7476WARNING:tensorflow:Callbacks method `on_test_batch_end` is slow compared to the batch time (batch time: 0.0028s vs `on_test_batch_end` time: 0.0635s). Check your callbacks.\n",
            "972/972 [==============================] - 203s 209ms/step - loss: 0.7954 - accuracy: 0.7476 - val_loss: 0.2658 - val_accuracy: 0.9169\n",
            "Epoch 2/30\n",
            "972/972 [==============================] - 202s 208ms/step - loss: 0.1746 - accuracy: 0.9475 - val_loss: 0.1481 - val_accuracy: 0.9587\n",
            "Epoch 3/30\n",
            "972/972 [==============================] - 203s 209ms/step - loss: 0.0832 - accuracy: 0.9747 - val_loss: 0.1312 - val_accuracy: 0.9641\n",
            "Epoch 4/30\n",
            "972/972 [==============================] - 203s 209ms/step - loss: 0.0540 - accuracy: 0.9835 - val_loss: 0.1282 - val_accuracy: 0.9673\n",
            "Epoch 5/30\n",
            "972/972 [==============================] - 203s 209ms/step - loss: 0.0329 - accuracy: 0.9901 - val_loss: 0.1068 - val_accuracy: 0.9761\n",
            "Epoch 6/30\n",
            "972/972 [==============================] - 203s 209ms/step - loss: 0.0303 - accuracy: 0.9912 - val_loss: 0.1122 - val_accuracy: 0.9786\n"
          ],
          "name": "stdout"
        },
        {
          "output_type": "stream",
          "text": [
            "\r 75%|███████▌  | 9/12 [1:07:32<31:48, 636.25s/it]"
          ],
          "name": "stderr"
        },
        {
          "output_type": "stream",
          "text": [
            "{'batch_size': 100, 'epochs': 30, 'filters': 128, 'kernel_size': 2, 'optimizer': 'RMSprop', 'padding': 'same', 'strides': 1}\n",
            "Epoch 1/30\n",
            "972/972 [==============================] - ETA: 0s - loss: 0.5951 - accuracy: 0.8159WARNING:tensorflow:Callbacks method `on_test_batch_end` is slow compared to the batch time (batch time: 0.0027s vs `on_test_batch_end` time: 0.0636s). Check your callbacks.\n",
            "972/972 [==============================] - 231s 237ms/step - loss: 0.5951 - accuracy: 0.8159 - val_loss: 0.1729 - val_accuracy: 0.9549\n",
            "Epoch 2/30\n",
            "972/972 [==============================] - 230s 236ms/step - loss: 0.0969 - accuracy: 0.9705 - val_loss: 0.0878 - val_accuracy: 0.9768\n",
            "Epoch 3/30\n",
            "972/972 [==============================] - 229s 236ms/step - loss: 0.0400 - accuracy: 0.9875 - val_loss: 0.0718 - val_accuracy: 0.9826\n",
            "Epoch 4/30\n",
            "972/972 [==============================] - 228s 235ms/step - loss: 0.0229 - accuracy: 0.9931 - val_loss: 0.0897 - val_accuracy: 0.9848\n"
          ],
          "name": "stdout"
        },
        {
          "output_type": "stream",
          "text": [
            "\r 83%|████████▎ | 10/12 [1:22:53<24:03, 721.54s/it]"
          ],
          "name": "stderr"
        },
        {
          "output_type": "stream",
          "text": [
            "{'batch_size': 100, 'epochs': 30, 'filters': 128, 'kernel_size': 3, 'optimizer': 'Adam', 'padding': 'same', 'strides': 1}\n",
            "Epoch 1/30\n",
            "972/972 [==============================] - ETA: 0s - loss: 0.7998 - accuracy: 0.7408WARNING:tensorflow:Callbacks method `on_test_batch_end` is slow compared to the batch time (batch time: 0.0026s vs `on_test_batch_end` time: 0.0561s). Check your callbacks.\n",
            "972/972 [==============================] - 198s 204ms/step - loss: 0.7998 - accuracy: 0.7408 - val_loss: 0.3966 - val_accuracy: 0.8808\n",
            "Epoch 2/30\n",
            "972/972 [==============================] - 196s 202ms/step - loss: 0.2769 - accuracy: 0.9139 - val_loss: 0.2200 - val_accuracy: 0.9314\n",
            "Epoch 3/30\n",
            "972/972 [==============================] - 196s 202ms/step - loss: 0.1388 - accuracy: 0.9567 - val_loss: 0.1340 - val_accuracy: 0.9610\n",
            "Epoch 4/30\n",
            "972/972 [==============================] - 196s 202ms/step - loss: 0.0915 - accuracy: 0.9703 - val_loss: 0.1340 - val_accuracy: 0.9637\n"
          ],
          "name": "stdout"
        },
        {
          "output_type": "stream",
          "text": [
            "\r 92%|█████████▏| 11/12 [1:36:03<12:22, 742.24s/it]"
          ],
          "name": "stderr"
        },
        {
          "output_type": "stream",
          "text": [
            "{'batch_size': 100, 'epochs': 30, 'filters': 128, 'kernel_size': 3, 'optimizer': 'RMSprop', 'padding': 'same', 'strides': 1}\n",
            "Epoch 1/30\n",
            "972/972 [==============================] - ETA: 0s - loss: 0.6788 - accuracy: 0.7925WARNING:tensorflow:Callbacks method `on_test_batch_end` is slow compared to the batch time (batch time: 0.0026s vs `on_test_batch_end` time: 0.0559s). Check your callbacks.\n",
            "972/972 [==============================] - 225s 231ms/step - loss: 0.6788 - accuracy: 0.7925 - val_loss: 0.1425 - val_accuracy: 0.9596\n",
            "Epoch 2/30\n",
            "972/972 [==============================] - 223s 230ms/step - loss: 0.0884 - accuracy: 0.9734 - val_loss: 0.0745 - val_accuracy: 0.9784\n",
            "Epoch 3/30\n",
            "972/972 [==============================] - 223s 230ms/step - loss: 0.0371 - accuracy: 0.9889 - val_loss: 0.0637 - val_accuracy: 0.9837\n",
            "Epoch 4/30\n",
            "972/972 [==============================] - 223s 229ms/step - loss: 0.0198 - accuracy: 0.9945 - val_loss: 0.0818 - val_accuracy: 0.9857\n"
          ],
          "name": "stdout"
        },
        {
          "output_type": "stream",
          "text": [
            "100%|██████████| 12/12 [1:51:02<00:00, 555.19s/it]\n"
          ],
          "name": "stderr"
        }
      ]
    },
    {
      "cell_type": "markdown",
      "metadata": {
        "id": "E8X8vZVoikV7"
      },
      "source": [
        "## Analyzing the talos run and creating the heatmap"
      ]
    },
    {
      "cell_type": "code",
      "metadata": {
        "id": "f63c7qvw-E9A"
      },
      "source": [
        "from talos import Deploy, Analyze"
      ],
      "execution_count": null,
      "outputs": []
    },
    {
      "cell_type": "code",
      "metadata": {
        "id": "ix1dHRgD7qcM"
      },
      "source": [
        "a = Analyze('/content/lang_class/110620170629.csv')"
      ],
      "execution_count": null,
      "outputs": []
    },
    {
      "cell_type": "code",
      "metadata": {
        "id": "5bUA3joT7qpR",
        "outputId": "c2e00168-fed1-467a-f956-a433606415ea",
        "colab": {
          "base_uri": "https://localhost:8080/",
          "height": 682
        }
      },
      "source": [
        "a.plot_corr(metric='val_accuracy', exclude=[])"
      ],
      "execution_count": null,
      "outputs": [
        {
          "output_type": "stream",
          "text": [
            "findfont: Font family ['Verdana'] not found. Falling back to DejaVu Sans.\n"
          ],
          "name": "stderr"
        },
        {
          "output_type": "display_data",
          "data": {
            "image/png": "[encoded data removed]",
            "text/plain": [
              "<Figure size 720x720 with 2 Axes>"
            ]
          },
          "metadata": {
            "tags": []
          }
        }
      ]
    },
    {
      "cell_type": "markdown",
      "metadata": {
        "id": "1RG3lBUDjOWP"
      },
      "source": [
        "## extracting the parameters for the best model"
      ]
    },
    {
      "cell_type": "code",
      "metadata": {
        "id": "MaFj3PRR7qr9",
        "outputId": "aadfb928-18d9-4063-b234-a6f6c43a2979",
        "colab": {
          "base_uri": "https://localhost:8080/"
        }
      },
      "source": [
        "a.best_params(metric='val_accuracy', exclude=[], n=1)"
      ],
      "execution_count": null,
      "outputs": [
        {
          "output_type": "execute_result",
          "data": {
            "text/plain": [
              "array([[4, 0.9944958686828612, 100, 30, 1, 128, 'same',\n",
              "        0.019772926345467567, 0.08177616447210312, 'RMSprop', 3, 0]],\n",
              "      dtype=object)"
            ]
          },
          "metadata": {
            "tags": []
          },
          "execution_count": 34
        }
      ]
    }
  ]
}